{
  "cells": [
    {
      "cell_type": "markdown",
      "source": "### Processing Data through SQL",
      "metadata": {
        "formattedRanges": [],
        "cell_id": "14fd468aa3854e9780de164f9a980516",
        "deepnote_cell_type": "text-cell-h3"
      },
      "block_group": "1d9ac6df8277449d992f8269009e4857"
    },
    {
      "cell_type": "markdown",
      "source": "We don't need much of the business details as we are only interested in the number of businesses per type. So we will just take a business' legal name, the community they are in, the earliest date of license start, and the latest date of license term end",
      "metadata": {
        "is_collapsed": false,
        "formattedRanges": [],
        "deepnote_app_block_visible": false,
        "cell_id": "d6a97caf96334ecebcf5268192472e3e",
        "deepnote_cell_type": "text-cell-p"
      },
      "block_group": "815dbaf5a451421387cc94ff42d4a83f"
    },
    {
      "cell_type": "code",
      "source": "small_name_commumity = _deepnote_execute_sql('SELECT LEGAL_NAME, SUBSTRING(Com_Name, 3, LENGTH(Com_Name) - 4) AS Com_Name, MIN(LICENSE_TERM_START_DATE) AS start, MAX(LICENSE_TERM_EXPIRATION_DATE) AS end\\nFROM \\'/work/Business Info By Size/SmallBusinessInfo.csv\\'\\nWHERE Com_Name != \\'[]\\'\\nGROUP BY LEGAL_NAME, Com_Name', 'SQL_DEEPNOTE_DATAFRAME_SQL', audit_sql_comment='', sql_cache_mode='cache_disabled')\nsmall_name_commumity",
      "metadata": {
        "source_hash": null,
        "execution_start": 1714170712386,
        "execution_millis": 8451,
        "sql_integration_id": "deepnote-dataframe-sql",
        "deepnote_variable_name": "small_name_commumity",
        "deepnote_to_be_reexecuted": false,
        "cell_id": "099adee94bfe42bda9dfca115c8c140c",
        "deepnote_cell_type": "sql",
        "deepnote_sql_source": "SELECT LEGAL_NAME, SUBSTRING(Com_Name, 3, LENGTH(Com_Name) - 4) AS Com_Name, MIN(LICENSE_TERM_START_DATE) AS start, MAX(LICENSE_TERM_EXPIRATION_DATE) AS end\nFROM '/work/Business Info By Size/SmallBusinessInfo.csv'\nWHERE Com_Name != '[]'\nGROUP BY LEGAL_NAME, Com_Name"
      },
      "outputs": [
        {
          "output_type": "execute_result",
          "execution_count": 1,
          "data": {
            "application/vnd.deepnote.dataframe.v3+json": {
              "column_count": 4,
              "row_count": 81555,
              "columns": [
                {
                  "name": "LEGAL_NAME",
                  "dtype": "object",
                  "stats": {
                    "unique_count": 76145,
                    "nan_count": 0,
                    "categories": [
                      {
                        "name": "INFINITY OF CHICAGO, INC.",
                        "count": 9
                      },
                      {
                        "name": "MANUEL CASTILLO",
                        "count": 8
                      },
                      {
                        "name": "76143 others",
                        "count": 81538
                      }
                    ]
                  }
                },
                {
                  "name": "Com_Name",
                  "dtype": "object"
                },
                {
                  "name": "start",
                  "dtype": "datetime64[us]"
                },
                {
                  "name": "end",
                  "dtype": "datetime64[us]"
                },
                {
                  "name": "_deepnote_index_column",
                  "dtype": "int64"
                }
              ],
              "rows": [
                {
                  "LEGAL_NAME": "JYM INVESTMENTS LLC",
                  "Com_Name": "WEST RIDGE",
                  "start": "2020-12-17 00:00:00",
                  "end": "2023-01-15 00:00:00",
                  "_deepnote_index_column": 0
                },
                {
                  "LEGAL_NAME": "ELIAS A. KANELLOPOULOS",
                  "Com_Name": "NEAR NORTH SIDE",
                  "start": "2008-04-14 00:00:00",
                  "end": "2023-03-15 00:00:00",
                  "_deepnote_index_column": 1
                },
                {
                  "LEGAL_NAME": "Silverwolf Productions LLC",
                  "Com_Name": "LINCOLN PARK",
                  "start": "2022-05-11 00:00:00",
                  "end": "2024-05-15 00:00:00",
                  "_deepnote_index_column": 2
                },
                {
                  "LEGAL_NAME": "MOVING UNITS INC.",
                  "Com_Name": "ALBANY PARK",
                  "start": "2021-11-17 00:00:00",
                  "end": "2024-06-15 00:00:00",
                  "_deepnote_index_column": 3
                },
                {
                  "LEGAL_NAME": "DANIELLE TO",
                  "Com_Name": "BRIDGEPORT",
                  "start": "2022-05-11 00:00:00",
                  "end": "2023-10-15 00:00:00",
                  "_deepnote_index_column": 4
                },
                {
                  "LEGAL_NAME": "SUPREME RIMS & TIRES INC.",
                  "Com_Name": "BRIGHTON PARK",
                  "start": "2022-05-11 00:00:00",
                  "end": "2024-05-15 00:00:00",
                  "_deepnote_index_column": 5
                },
                {
                  "LEGAL_NAME": "SIXT RENT A CAR, LLC",
                  "Com_Name": "OHARE",
                  "start": "2018-08-24 00:00:00",
                  "end": "2025-12-15 00:00:00",
                  "_deepnote_index_column": 6
                },
                {
                  "LEGAL_NAME": "MIGUEL ANGEL DUARTE-SOLIS",
                  "Com_Name": "NEW CITY",
                  "start": "2011-01-11 00:00:00",
                  "end": "2024-08-15 00:00:00",
                  "_deepnote_index_column": 7
                },
                {
                  "LEGAL_NAME": "W-SF GOLDFINGER OWNER VIII, L.L.C.",
                  "Com_Name": "NEAR WEST SIDE",
                  "start": "2022-04-12 00:00:00",
                  "end": "2024-04-15 00:00:00",
                  "_deepnote_index_column": 8
                },
                {
                  "LEGAL_NAME": "NYM MERGER HOLDINGS LLC",
                  "Com_Name": "WEST TOWN",
                  "start": "2018-06-06 00:00:00",
                  "end": "2024-06-15 00:00:00",
                  "_deepnote_index_column": 9
                }
              ]
            },
            "text/plain": "                           LEGAL_NAME         Com_Name      start        end\n0                 JYM INVESTMENTS LLC       WEST RIDGE 2020-12-17 2023-01-15\n1              ELIAS A. KANELLOPOULOS  NEAR NORTH SIDE 2008-04-14 2023-03-15\n2          Silverwolf Productions LLC     LINCOLN PARK 2022-05-11 2024-05-15\n3                   MOVING UNITS INC.      ALBANY PARK 2021-11-17 2024-06-15\n4                         DANIELLE TO       BRIDGEPORT 2022-05-11 2023-10-15\n...                               ...              ...        ...        ...\n81550  MARIA ALEJANDRA ARIAS ALCANTAR     CHICAGO LAWN 2017-04-07 2019-04-15\n81551   Ezza Nails - 26 S Halsted LLC   NEAR WEST SIDE 2019-11-01 2021-11-15\n81552                     AMEPOL INC.          DUNNING 2022-10-28 2024-11-15\n81553           UNIQUEPRINTZ69 L.L.C.     CHICAGO LAWN 2021-11-16 2023-12-15\n81554              BARK CHICAGO, INC.        WEST TOWN 2013-10-31 2015-11-15\n\n[81555 rows x 4 columns]",
            "text/html": "<div>\n<style scoped>\n    .dataframe tbody tr th:only-of-type {\n        vertical-align: middle;\n    }\n\n    .dataframe tbody tr th {\n        vertical-align: top;\n    }\n\n    .dataframe thead th {\n        text-align: right;\n    }\n</style>\n<table border=\"1\" class=\"dataframe\">\n  <thead>\n    <tr style=\"text-align: right;\">\n      <th></th>\n      <th>LEGAL_NAME</th>\n      <th>Com_Name</th>\n      <th>start</th>\n      <th>end</th>\n    </tr>\n  </thead>\n  <tbody>\n    <tr>\n      <th>0</th>\n      <td>JYM INVESTMENTS LLC</td>\n      <td>WEST RIDGE</td>\n      <td>2020-12-17</td>\n      <td>2023-01-15</td>\n    </tr>\n    <tr>\n      <th>1</th>\n      <td>ELIAS A. KANELLOPOULOS</td>\n      <td>NEAR NORTH SIDE</td>\n      <td>2008-04-14</td>\n      <td>2023-03-15</td>\n    </tr>\n    <tr>\n      <th>2</th>\n      <td>Silverwolf Productions LLC</td>\n      <td>LINCOLN PARK</td>\n      <td>2022-05-11</td>\n      <td>2024-05-15</td>\n    </tr>\n    <tr>\n      <th>3</th>\n      <td>MOVING UNITS INC.</td>\n      <td>ALBANY PARK</td>\n      <td>2021-11-17</td>\n      <td>2024-06-15</td>\n    </tr>\n    <tr>\n      <th>4</th>\n      <td>DANIELLE TO</td>\n      <td>BRIDGEPORT</td>\n      <td>2022-05-11</td>\n      <td>2023-10-15</td>\n    </tr>\n    <tr>\n      <th>...</th>\n      <td>...</td>\n      <td>...</td>\n      <td>...</td>\n      <td>...</td>\n    </tr>\n    <tr>\n      <th>81550</th>\n      <td>MARIA ALEJANDRA ARIAS ALCANTAR</td>\n      <td>CHICAGO LAWN</td>\n      <td>2017-04-07</td>\n      <td>2019-04-15</td>\n    </tr>\n    <tr>\n      <th>81551</th>\n      <td>Ezza Nails - 26 S Halsted LLC</td>\n      <td>NEAR WEST SIDE</td>\n      <td>2019-11-01</td>\n      <td>2021-11-15</td>\n    </tr>\n    <tr>\n      <th>81552</th>\n      <td>AMEPOL INC.</td>\n      <td>DUNNING</td>\n      <td>2022-10-28</td>\n      <td>2024-11-15</td>\n    </tr>\n    <tr>\n      <th>81553</th>\n      <td>UNIQUEPRINTZ69 L.L.C.</td>\n      <td>CHICAGO LAWN</td>\n      <td>2021-11-16</td>\n      <td>2023-12-15</td>\n    </tr>\n    <tr>\n      <th>81554</th>\n      <td>BARK CHICAGO, INC.</td>\n      <td>WEST TOWN</td>\n      <td>2013-10-31</td>\n      <td>2015-11-15</td>\n    </tr>\n  </tbody>\n</table>\n<p>81555 rows × 4 columns</p>\n</div>"
          },
          "metadata": {}
        }
      ],
      "outputs_reference": null,
      "execution_count": null,
      "block_group": "fc796c49eb5644fb987ed8ae6e79459e",
      "content_dependencies": null
    },
    {
      "cell_type": "code",
      "source": "medium_name_commumity = _deepnote_execute_sql('SELECT LEGAL_NAME, SUBSTRING(Com_Name, 3, LENGTH(Com_Name) - 4) AS Com_Name, MIN(LICENSE_TERM_START_DATE) AS start, MAX(LICENSE_TERM_EXPIRATION_DATE) AS end\\nFROM \\'/work/Business Info By Size/MediumBusinessInfo.csv\\'\\nWHERE Com_Name != \\'[]\\'\\nGROUP BY LEGAL_NAME, Com_Name', 'SQL_DEEPNOTE_DATAFRAME_SQL', audit_sql_comment='', sql_cache_mode='cache_disabled')\nmedium_name_commumity",
      "metadata": {
        "source_hash": null,
        "execution_start": 1714170720858,
        "execution_millis": 2540,
        "sql_integration_id": "deepnote-dataframe-sql",
        "deepnote_variable_name": "medium_name_commumity",
        "deepnote_to_be_reexecuted": false,
        "cell_id": "1f23743382164c69b373f504dcf530c8",
        "deepnote_cell_type": "sql",
        "deepnote_sql_source": "SELECT LEGAL_NAME, SUBSTRING(Com_Name, 3, LENGTH(Com_Name) - 4) AS Com_Name, MIN(LICENSE_TERM_START_DATE) AS start, MAX(LICENSE_TERM_EXPIRATION_DATE) AS end\nFROM '/work/Business Info By Size/MediumBusinessInfo.csv'\nWHERE Com_Name != '[]'\nGROUP BY LEGAL_NAME, Com_Name"
      },
      "outputs": [
        {
          "output_type": "execute_result",
          "execution_count": 2,
          "data": {
            "application/vnd.deepnote.dataframe.v3+json": {
              "column_count": 4,
              "row_count": 6993,
              "columns": [
                {
                  "name": "LEGAL_NAME",
                  "dtype": "object",
                  "stats": {
                    "unique_count": 4248,
                    "nan_count": 0,
                    "categories": [
                      {
                        "name": "INNOVATIVE PARKING SOLUTIONS LLC",
                        "count": 23
                      },
                      {
                        "name": "SP PLUS CORPORATION",
                        "count": 18
                      },
                      {
                        "name": "4246 others",
                        "count": 6952
                      }
                    ]
                  }
                },
                {
                  "name": "Com_Name",
                  "dtype": "object",
                  "stats": {
                    "unique_count": 75,
                    "nan_count": 0,
                    "categories": [
                      {
                        "name": "NEAR NORTH SIDE",
                        "count": 955
                      },
                      {
                        "name": "LOOP",
                        "count": 612
                      },
                      {
                        "name": "73 others",
                        "count": 5426
                      }
                    ]
                  }
                },
                {
                  "name": "start",
                  "dtype": "datetime64[us]",
                  "stats": {
                    "unique_count": 2340,
                    "nan_count": 15,
                    "min": "1995-08-16 00:00:00",
                    "max": "2024-01-17 00:00:00",
                    "histogram": [
                      {
                        "bin_start": 808531200000000,
                        "bin_end": 898223040000000,
                        "count": 11
                      },
                      {
                        "bin_start": 898223040000000,
                        "bin_end": 987914880000000,
                        "count": 111
                      },
                      {
                        "bin_start": 987914880000000,
                        "bin_end": 1077606720000000,
                        "count": 3549
                      },
                      {
                        "bin_start": 1077606720000000,
                        "bin_end": 1167298560000000,
                        "count": 690
                      },
                      {
                        "bin_start": 1167298560000000,
                        "bin_end": 1256990400000000,
                        "count": 790
                      },
                      {
                        "bin_start": 1256990400000000,
                        "bin_end": 1346682240000000,
                        "count": 655
                      },
                      {
                        "bin_start": 1346682240000000,
                        "bin_end": 1436374080000000,
                        "count": 525
                      },
                      {
                        "bin_start": 1436374080000000,
                        "bin_end": 1526065920000000,
                        "count": 314
                      },
                      {
                        "bin_start": 1526065920000000,
                        "bin_end": 1615757760000000,
                        "count": 200
                      },
                      {
                        "bin_start": 1615757760000000,
                        "bin_end": 1705449600000000,
                        "count": 133
                      }
                    ]
                  }
                },
                {
                  "name": "end",
                  "dtype": "datetime64[us]",
                  "stats": {
                    "unique_count": 693,
                    "nan_count": 0,
                    "min": "2000-11-13 00:00:00",
                    "max": "2026-04-15 00:00:00",
                    "histogram": [
                      {
                        "bin_start": 974073600000000,
                        "bin_end": 1054287360000000,
                        "count": 83
                      },
                      {
                        "bin_start": 1054287360000000,
                        "bin_end": 1134501120000000,
                        "count": 273
                      },
                      {
                        "bin_start": 1134501120000000,
                        "bin_end": 1214714880000000,
                        "count": 374
                      },
                      {
                        "bin_start": 1214714880000000,
                        "bin_end": 1294928640000000,
                        "count": 496
                      },
                      {
                        "bin_start": 1294928640000000,
                        "bin_end": 1375142400000000,
                        "count": 562
                      },
                      {
                        "bin_start": 1375142400000000,
                        "bin_end": 1455356160000000,
                        "count": 786
                      },
                      {
                        "bin_start": 1455356160000000,
                        "bin_end": 1535569920000000,
                        "count": 686
                      },
                      {
                        "bin_start": 1535569920000000,
                        "bin_end": 1615783680000000,
                        "count": 539
                      },
                      {
                        "bin_start": 1615783680000000,
                        "bin_end": 1695997440000000,
                        "count": 727
                      },
                      {
                        "bin_start": 1695997440000000,
                        "bin_end": 1776211200000000,
                        "count": 2467
                      }
                    ]
                  }
                },
                {
                  "name": "_deepnote_index_column",
                  "dtype": "int64"
                }
              ],
              "rows": [
                {
                  "LEGAL_NAME": "LINCOLN SQUARE RAVENSWOOD CHAMBER OF COMMERCE",
                  "Com_Name": "LINCOLN SQUARE",
                  "start": "2012-09-20 00:00:00",
                  "end": "2023-02-26 00:00:00",
                  "_deepnote_index_column": 0
                },
                {
                  "LEGAL_NAME": "THE WOODLAWN TAP, INC.",
                  "Com_Name": "HYDE PARK",
                  "start": "2002-05-16 00:00:00",
                  "end": "2024-06-15 00:00:00",
                  "_deepnote_index_column": 1
                },
                {
                  "LEGAL_NAME": "S&W CHICAGO, L.L.C.",
                  "Com_Name": "NEAR NORTH SIDE",
                  "start": "2002-05-16 00:00:00",
                  "end": "2024-05-15 00:00:00",
                  "_deepnote_index_column": 2
                },
                {
                  "LEGAL_NAME": "SAI KRIPA IN CHICAGO INC.",
                  "Com_Name": "WEST TOWN",
                  "start": "2007-03-27 00:00:00",
                  "end": "2024-11-15 00:00:00",
                  "_deepnote_index_column": 3
                },
                {
                  "LEGAL_NAME": "BRIGHT HORIZONS CHILDREN'S CENTERS LLC",
                  "Com_Name": "HYDE PARK",
                  "start": "2013-03-28 00:00:00",
                  "end": "2024-08-15 00:00:00",
                  "_deepnote_index_column": 4
                },
                {
                  "LEGAL_NAME": "CHICAGO YOUTH CENTERS",
                  "Com_Name": "SOUTH SHORE",
                  "start": "2002-02-16 00:00:00",
                  "end": "2024-02-15 00:00:00",
                  "_deepnote_index_column": 5
                },
                {
                  "LEGAL_NAME": "FREDDIE'S INC.",
                  "Com_Name": "BRIDGEPORT",
                  "start": "2002-05-16 00:00:00",
                  "end": "2024-06-15 00:00:00",
                  "_deepnote_index_column": 6
                },
                {
                  "LEGAL_NAME": "KEE SOON YANG",
                  "Com_Name": "SOUTH LAWNDALE",
                  "start": "2005-06-15 00:00:00",
                  "end": "2023-12-15 00:00:00",
                  "_deepnote_index_column": 7
                },
                {
                  "LEGAL_NAME": "FRANCISCO ESPINOZA",
                  "Com_Name": "SOUTH CHICAGO",
                  "start": "2002-08-16 00:00:00",
                  "end": "2024-07-15 00:00:00",
                  "_deepnote_index_column": 8
                },
                {
                  "LEGAL_NAME": "35TH STREET REDHOTS LLC",
                  "Com_Name": "BRIDGEPORT",
                  "start": "2005-06-22 00:00:00",
                  "end": "2024-06-15 00:00:00",
                  "_deepnote_index_column": 9
                }
              ]
            },
            "text/plain": "                                         LEGAL_NAME         Com_Name  \\\n0     LINCOLN SQUARE RAVENSWOOD CHAMBER OF COMMERCE   LINCOLN SQUARE   \n1                            THE WOODLAWN TAP, INC.        HYDE PARK   \n2                               S&W CHICAGO, L.L.C.  NEAR NORTH SIDE   \n3                         SAI KRIPA IN CHICAGO INC.        WEST TOWN   \n4            BRIGHT HORIZONS CHILDREN'S CENTERS LLC        HYDE PARK   \n...                                             ...              ...   \n6988                 CAROLINA'S SILVER INCORPORATED             LOOP   \n6989                             BEAT KITCHEN, INC.   SOUTH LAWNDALE   \n6990                    THE EASTMAN EGG COMPANY LLC   NEAR WEST SIDE   \n6991               LESLIE HINDMAN AUCTIONEERS, INC.  NEAR NORTH SIDE   \n6992                                 JUANA ZAMBRANO    BRIGHTON PARK   \n\n          start        end  \n0    2012-09-20 2023-02-26  \n1    2002-05-16 2024-06-15  \n2    2002-05-16 2024-05-15  \n3    2007-03-27 2024-11-15  \n4    2013-03-28 2024-08-15  \n...         ...        ...  \n6988 2000-08-16 2001-08-14  \n6989 2013-08-09 2013-08-11  \n6990 2013-05-09 2017-05-15  \n6991 2001-08-16 2002-08-15  \n6992 2010-09-03 2010-09-06  \n\n[6993 rows x 4 columns]",
            "text/html": "<div>\n<style scoped>\n    .dataframe tbody tr th:only-of-type {\n        vertical-align: middle;\n    }\n\n    .dataframe tbody tr th {\n        vertical-align: top;\n    }\n\n    .dataframe thead th {\n        text-align: right;\n    }\n</style>\n<table border=\"1\" class=\"dataframe\">\n  <thead>\n    <tr style=\"text-align: right;\">\n      <th></th>\n      <th>LEGAL_NAME</th>\n      <th>Com_Name</th>\n      <th>start</th>\n      <th>end</th>\n    </tr>\n  </thead>\n  <tbody>\n    <tr>\n      <th>0</th>\n      <td>LINCOLN SQUARE RAVENSWOOD CHAMBER OF COMMERCE</td>\n      <td>LINCOLN SQUARE</td>\n      <td>2012-09-20</td>\n      <td>2023-02-26</td>\n    </tr>\n    <tr>\n      <th>1</th>\n      <td>THE WOODLAWN TAP, INC.</td>\n      <td>HYDE PARK</td>\n      <td>2002-05-16</td>\n      <td>2024-06-15</td>\n    </tr>\n    <tr>\n      <th>2</th>\n      <td>S&amp;W CHICAGO, L.L.C.</td>\n      <td>NEAR NORTH SIDE</td>\n      <td>2002-05-16</td>\n      <td>2024-05-15</td>\n    </tr>\n    <tr>\n      <th>3</th>\n      <td>SAI KRIPA IN CHICAGO INC.</td>\n      <td>WEST TOWN</td>\n      <td>2007-03-27</td>\n      <td>2024-11-15</td>\n    </tr>\n    <tr>\n      <th>4</th>\n      <td>BRIGHT HORIZONS CHILDREN'S CENTERS LLC</td>\n      <td>HYDE PARK</td>\n      <td>2013-03-28</td>\n      <td>2024-08-15</td>\n    </tr>\n    <tr>\n      <th>...</th>\n      <td>...</td>\n      <td>...</td>\n      <td>...</td>\n      <td>...</td>\n    </tr>\n    <tr>\n      <th>6988</th>\n      <td>CAROLINA'S SILVER INCORPORATED</td>\n      <td>LOOP</td>\n      <td>2000-08-16</td>\n      <td>2001-08-14</td>\n    </tr>\n    <tr>\n      <th>6989</th>\n      <td>BEAT KITCHEN, INC.</td>\n      <td>SOUTH LAWNDALE</td>\n      <td>2013-08-09</td>\n      <td>2013-08-11</td>\n    </tr>\n    <tr>\n      <th>6990</th>\n      <td>THE EASTMAN EGG COMPANY LLC</td>\n      <td>NEAR WEST SIDE</td>\n      <td>2013-05-09</td>\n      <td>2017-05-15</td>\n    </tr>\n    <tr>\n      <th>6991</th>\n      <td>LESLIE HINDMAN AUCTIONEERS, INC.</td>\n      <td>NEAR NORTH SIDE</td>\n      <td>2001-08-16</td>\n      <td>2002-08-15</td>\n    </tr>\n    <tr>\n      <th>6992</th>\n      <td>JUANA ZAMBRANO</td>\n      <td>BRIGHTON PARK</td>\n      <td>2010-09-03</td>\n      <td>2010-09-06</td>\n    </tr>\n  </tbody>\n</table>\n<p>6993 rows × 4 columns</p>\n</div>"
          },
          "metadata": {}
        }
      ],
      "outputs_reference": null,
      "execution_count": null,
      "block_group": "eb4252c8f238411eafbe1f3b5211c237",
      "content_dependencies": null
    },
    {
      "cell_type": "code",
      "source": "big_name_commumity = _deepnote_execute_sql('SELECT LEGAL_NAME, SUBSTRING(Com_Name, 3, LENGTH(Com_Name) - 4) AS Com_Name, MIN(LICENSE_TERM_START_DATE) AS start, MAX(LICENSE_TERM_EXPIRATION_DATE) AS end\\nFROM \\'/work/Business Info By Size/BigBusinessInfo.csv\\'\\nWHERE Com_Name != \\'[]\\'\\nGROUP BY LEGAL_NAME, Com_Name', 'SQL_DEEPNOTE_DATAFRAME_SQL', audit_sql_comment='', sql_cache_mode='cache_disabled')\nbig_name_commumity",
      "metadata": {
        "source_hash": null,
        "execution_start": 1714170723423,
        "execution_millis": 2227,
        "sql_integration_id": "deepnote-dataframe-sql",
        "deepnote_variable_name": "big_name_commumity",
        "deepnote_to_be_reexecuted": false,
        "cell_id": "d4317733099a4b44973e556ded83c765",
        "deepnote_cell_type": "sql",
        "deepnote_sql_source": "SELECT LEGAL_NAME, SUBSTRING(Com_Name, 3, LENGTH(Com_Name) - 4) AS Com_Name, MIN(LICENSE_TERM_START_DATE) AS start, MAX(LICENSE_TERM_EXPIRATION_DATE) AS end\nFROM '/work/Business Info By Size/BigBusinessInfo.csv'\nWHERE Com_Name != '[]'\nGROUP BY LEGAL_NAME, Com_Name"
      },
      "outputs": [
        {
          "output_type": "execute_result",
          "execution_count": 3,
          "data": {
            "application/vnd.deepnote.dataframe.v3+json": {
              "column_count": 4,
              "row_count": 13884,
              "columns": [
                {
                  "name": "LEGAL_NAME",
                  "dtype": "object",
                  "stats": {
                    "unique_count": 11460,
                    "nan_count": 0,
                    "categories": [
                      {
                        "name": "H&R BLOCK ENTERPRISES LLC",
                        "count": 32
                      },
                      {
                        "name": "FAMILY DOLLAR, LLC",
                        "count": 28
                      },
                      {
                        "name": "11458 others",
                        "count": 13824
                      }
                    ]
                  }
                },
                {
                  "name": "Com_Name",
                  "dtype": "object",
                  "stats": {
                    "unique_count": 76,
                    "nan_count": 0,
                    "categories": [
                      {
                        "name": "NEAR NORTH SIDE",
                        "count": 1519
                      },
                      {
                        "name": "LOOP",
                        "count": 858
                      },
                      {
                        "name": "74 others",
                        "count": 11507
                      }
                    ]
                  }
                },
                {
                  "name": "start",
                  "dtype": "datetime64[us]",
                  "stats": {
                    "unique_count": 4399,
                    "nan_count": 7,
                    "min": "1995-02-16 00:00:00",
                    "max": "2024-02-16 00:00:00",
                    "histogram": [
                      {
                        "bin_start": 792892800000000,
                        "bin_end": 884407680000000,
                        "count": 15
                      },
                      {
                        "bin_start": 884407680000000,
                        "bin_end": 975922560000000,
                        "count": 90
                      },
                      {
                        "bin_start": 975922560000000,
                        "bin_end": 1067437440000000,
                        "count": 4425
                      },
                      {
                        "bin_start": 1067437440000000,
                        "bin_end": 1158952320000000,
                        "count": 1907
                      },
                      {
                        "bin_start": 1158952320000000,
                        "bin_end": 1250467200000000,
                        "count": 1741
                      },
                      {
                        "bin_start": 1250467200000000,
                        "bin_end": 1341982080000000,
                        "count": 1417
                      },
                      {
                        "bin_start": 1341982080000000,
                        "bin_end": 1433496960000000,
                        "count": 1286
                      },
                      {
                        "bin_start": 1433496960000000,
                        "bin_end": 1525011840000000,
                        "count": 1127
                      },
                      {
                        "bin_start": 1525011840000000,
                        "bin_end": 1616526720000000,
                        "count": 1015
                      },
                      {
                        "bin_start": 1616526720000000,
                        "bin_end": 1708041600000000,
                        "count": 854
                      }
                    ]
                  }
                },
                {
                  "name": "end",
                  "dtype": "datetime64[us]",
                  "stats": {
                    "unique_count": 598,
                    "nan_count": 6,
                    "min": "1996-02-15 00:00:00",
                    "max": "2026-05-15 00:00:00",
                    "histogram": [
                      {
                        "bin_start": 824342400000000,
                        "bin_end": 919788480000000,
                        "count": 18
                      },
                      {
                        "bin_start": 919788480000000,
                        "bin_end": 1015234560000000,
                        "count": 43
                      },
                      {
                        "bin_start": 1015234560000000,
                        "bin_end": 1110680640000000,
                        "count": 1573
                      },
                      {
                        "bin_start": 1110680640000000,
                        "bin_end": 1206126720000000,
                        "count": 1635
                      },
                      {
                        "bin_start": 1206126720000000,
                        "bin_end": 1301572800000000,
                        "count": 1421
                      },
                      {
                        "bin_start": 1301572800000000,
                        "bin_end": 1397018880000000,
                        "count": 1525
                      },
                      {
                        "bin_start": 1397018880000000,
                        "bin_end": 1492464960000000,
                        "count": 1444
                      },
                      {
                        "bin_start": 1492464960000000,
                        "bin_end": 1587911040000000,
                        "count": 1296
                      },
                      {
                        "bin_start": 1587911040000000,
                        "bin_end": 1683357120000000,
                        "count": 1313
                      },
                      {
                        "bin_start": 1683357120000000,
                        "bin_end": 1778803200000000,
                        "count": 3610
                      }
                    ]
                  }
                },
                {
                  "name": "_deepnote_index_column",
                  "dtype": "int64"
                }
              ],
              "rows": [
                {
                  "LEGAL_NAME": "GRAHAM ENTERPRISE INC",
                  "Com_Name": "NEAR NORTH SIDE",
                  "start": "2010-04-08 00:00:00",
                  "end": "2024-06-15 00:00:00",
                  "_deepnote_index_column": 0
                },
                {
                  "LEGAL_NAME": "NAIL JUNKIE ROSCOE, INC.",
                  "Com_Name": "NORTH CENTER",
                  "start": "2016-07-12 00:00:00",
                  "end": "2022-07-15 00:00:00",
                  "_deepnote_index_column": 1
                },
                {
                  "LEGAL_NAME": "HYATT CORPORATION",
                  "Com_Name": "LOOP",
                  "start": "2002-05-16 00:00:00",
                  "end": "2024-09-15 00:00:00",
                  "_deepnote_index_column": 2
                },
                {
                  "LEGAL_NAME": "DINEAMIC STEAK, LLC",
                  "Com_Name": "LOOP",
                  "start": "2015-03-23 00:00:00",
                  "end": "2025-04-15 00:00:00",
                  "_deepnote_index_column": 3
                },
                {
                  "LEGAL_NAME": "HORNBLOWER CRUISES AND EVENTS, LLC",
                  "Com_Name": "NEAR NORTH SIDE",
                  "start": "2001-08-16 00:00:00",
                  "end": "2025-03-15 00:00:00",
                  "_deepnote_index_column": 4
                },
                {
                  "LEGAL_NAME": "PARTY CITY CORPORATION",
                  "Com_Name": "ASHBURN",
                  "start": "2001-11-16 00:00:00",
                  "end": "2023-11-15 00:00:00",
                  "_deepnote_index_column": 5
                },
                {
                  "LEGAL_NAME": "MEHRAB MANAGEMENT, INC.",
                  "Com_Name": "WEST RIDGE",
                  "start": "2021-08-17 00:00:00",
                  "end": "2024-05-15 00:00:00",
                  "_deepnote_index_column": 6
                },
                {
                  "LEGAL_NAME": "Lucero Tapia Aragon",
                  "Com_Name": "NEW CITY",
                  "start": "2022-05-11 00:00:00",
                  "end": "2024-05-15 00:00:00",
                  "_deepnote_index_column": 7
                },
                {
                  "LEGAL_NAME": "J & H DESIGNS INC.",
                  "Com_Name": "WEST RIDGE",
                  "start": "2019-08-14 00:00:00",
                  "end": "2023-08-15 00:00:00",
                  "_deepnote_index_column": 8
                },
                {
                  "LEGAL_NAME": "EDIFEL DESIGNS LLC",
                  "Com_Name": "NEAR WEST SIDE",
                  "start": "2020-07-28 00:00:00",
                  "end": "2024-08-15 00:00:00",
                  "_deepnote_index_column": 9
                }
              ]
            },
            "text/plain": "                               LEGAL_NAME         Com_Name      start  \\\n0                   GRAHAM ENTERPRISE INC  NEAR NORTH SIDE 2010-04-08   \n1                NAIL JUNKIE ROSCOE, INC.     NORTH CENTER 2016-07-12   \n2                       HYATT CORPORATION             LOOP 2002-05-16   \n3                     DINEAMIC STEAK, LLC             LOOP 2015-03-23   \n4      HORNBLOWER CRUISES AND EVENTS, LLC  NEAR NORTH SIDE 2001-08-16   \n...                                   ...              ...        ...   \n13879             YURIANA SANCHEZ-SALAZAR        GAGE PARK 2016-10-28   \n13880           Tranquil Accessories, LLC   AUBURN GRESHAM 2020-08-05   \n13881              NOVIBEL ENTERPRISE LLC       WEST RIDGE 2022-05-03   \n13882              CRISTINA TARRIBA VILLA        WEST TOWN 2022-09-12   \n13883      GENOAS ITALIAN CONCESSION INC.     LOGAN SQUARE 2011-08-26   \n\n             end  \n0     2024-06-15  \n1     2022-07-15  \n2     2024-09-15  \n3     2025-04-15  \n4     2025-03-15  \n...          ...  \n13879 2018-11-15  \n13880 2022-08-15  \n13881 2024-05-15  \n13882 2024-09-15  \n13883 2011-08-28  \n\n[13884 rows x 4 columns]",
            "text/html": "<div>\n<style scoped>\n    .dataframe tbody tr th:only-of-type {\n        vertical-align: middle;\n    }\n\n    .dataframe tbody tr th {\n        vertical-align: top;\n    }\n\n    .dataframe thead th {\n        text-align: right;\n    }\n</style>\n<table border=\"1\" class=\"dataframe\">\n  <thead>\n    <tr style=\"text-align: right;\">\n      <th></th>\n      <th>LEGAL_NAME</th>\n      <th>Com_Name</th>\n      <th>start</th>\n      <th>end</th>\n    </tr>\n  </thead>\n  <tbody>\n    <tr>\n      <th>0</th>\n      <td>GRAHAM ENTERPRISE INC</td>\n      <td>NEAR NORTH SIDE</td>\n      <td>2010-04-08</td>\n      <td>2024-06-15</td>\n    </tr>\n    <tr>\n      <th>1</th>\n      <td>NAIL JUNKIE ROSCOE, INC.</td>\n      <td>NORTH CENTER</td>\n      <td>2016-07-12</td>\n      <td>2022-07-15</td>\n    </tr>\n    <tr>\n      <th>2</th>\n      <td>HYATT CORPORATION</td>\n      <td>LOOP</td>\n      <td>2002-05-16</td>\n      <td>2024-09-15</td>\n    </tr>\n    <tr>\n      <th>3</th>\n      <td>DINEAMIC STEAK, LLC</td>\n      <td>LOOP</td>\n      <td>2015-03-23</td>\n      <td>2025-04-15</td>\n    </tr>\n    <tr>\n      <th>4</th>\n      <td>HORNBLOWER CRUISES AND EVENTS, LLC</td>\n      <td>NEAR NORTH SIDE</td>\n      <td>2001-08-16</td>\n      <td>2025-03-15</td>\n    </tr>\n    <tr>\n      <th>...</th>\n      <td>...</td>\n      <td>...</td>\n      <td>...</td>\n      <td>...</td>\n    </tr>\n    <tr>\n      <th>13879</th>\n      <td>YURIANA SANCHEZ-SALAZAR</td>\n      <td>GAGE PARK</td>\n      <td>2016-10-28</td>\n      <td>2018-11-15</td>\n    </tr>\n    <tr>\n      <th>13880</th>\n      <td>Tranquil Accessories, LLC</td>\n      <td>AUBURN GRESHAM</td>\n      <td>2020-08-05</td>\n      <td>2022-08-15</td>\n    </tr>\n    <tr>\n      <th>13881</th>\n      <td>NOVIBEL ENTERPRISE LLC</td>\n      <td>WEST RIDGE</td>\n      <td>2022-05-03</td>\n      <td>2024-05-15</td>\n    </tr>\n    <tr>\n      <th>13882</th>\n      <td>CRISTINA TARRIBA VILLA</td>\n      <td>WEST TOWN</td>\n      <td>2022-09-12</td>\n      <td>2024-09-15</td>\n    </tr>\n    <tr>\n      <th>13883</th>\n      <td>GENOAS ITALIAN CONCESSION INC.</td>\n      <td>LOGAN SQUARE</td>\n      <td>2011-08-26</td>\n      <td>2011-08-28</td>\n    </tr>\n  </tbody>\n</table>\n<p>13884 rows × 4 columns</p>\n</div>"
          },
          "metadata": {}
        }
      ],
      "outputs_reference": null,
      "execution_count": null,
      "block_group": "5f89426bec224b96a6b330ab372c7e85",
      "content_dependencies": null
    },
    {
      "cell_type": "markdown",
      "source": "### Import data about TIF Districts and the businesses they contain",
      "metadata": {
        "is_collapsed": false,
        "formattedRanges": [],
        "deepnote_app_block_visible": false,
        "cell_id": "f2fc28bf87b34acfb055a1ba0edb3eba",
        "deepnote_cell_type": "text-cell-h3"
      },
      "block_group": "1771d565c25f4508b2cab8079a4c1cba"
    },
    {
      "cell_type": "code",
      "source": "small_TIF_businesses = _deepnote_execute_sql('SELECT *\\nFROM \\'/work/Business_Info_With_TIF_Info/small_businesses.csv\\'', 'SQL_DEEPNOTE_DATAFRAME_SQL', audit_sql_comment='', sql_cache_mode='cache_disabled')\nsmall_TIF_businesses",
      "metadata": {
        "source_hash": null,
        "execution_start": 1714170725657,
        "execution_millis": 798,
        "sql_integration_id": "deepnote-dataframe-sql",
        "deepnote_variable_name": "small_TIF_businesses",
        "deepnote_to_be_reexecuted": false,
        "cell_id": "3ccade39acf746668337f7a98728b561",
        "deepnote_cell_type": "sql",
        "deepnote_sql_source": "SELECT *\nFROM '/work/Business_Info_With_TIF_Info/small_businesses.csv'"
      },
      "outputs": [
        {
          "output_type": "execute_result",
          "execution_count": 4,
          "data": {
            "application/vnd.deepnote.dataframe.v3+json": {
              "column_count": 5,
              "row_count": 72352,
              "columns": [
                {
                  "name": "name",
                  "dtype": "object",
                  "stats": {
                    "unique_count": 118,
                    "nan_count": 0,
                    "categories": [
                      {
                        "name": "Red and Purple Modernization Phase One Project",
                        "count": 7340
                      },
                      {
                        "name": "Red Line Extension (RLE)",
                        "count": 5560
                      },
                      {
                        "name": "116 others",
                        "count": 59452
                      }
                    ]
                  }
                },
                {
                  "name": "approval_d",
                  "dtype": "datetime64[us]"
                },
                {
                  "name": "LEGAL_NAME",
                  "dtype": "object"
                },
                {
                  "name": "start",
                  "dtype": "datetime64[us]"
                },
                {
                  "name": "end",
                  "dtype": "datetime64[us]"
                },
                {
                  "name": "_deepnote_index_column",
                  "dtype": "int64"
                }
              ],
              "rows": [
                {
                  "name": "Kinzie Industrial Conservation Area",
                  "approval_d": "1998-06-10 00:00:00",
                  "LEGAL_NAME": "LEOPARDO COMPANIES INC.",
                  "start": "2006-05-11 00:00:00",
                  "end": "2022-09-15 00:00:00",
                  "_deepnote_index_column": 0
                },
                {
                  "name": "35th/Halsted",
                  "approval_d": "1997-01-14 00:00:00",
                  "LEGAL_NAME": "DOMONANT MEDIA LLC",
                  "start": "2022-08-08 00:00:00",
                  "end": "2024-08-15 00:00:00",
                  "_deepnote_index_column": 1
                },
                {
                  "name": "Northwest Industrial Corridor",
                  "approval_d": "1998-12-02 00:00:00",
                  "LEGAL_NAME": "PRIMERA IRON WORKS CORP.",
                  "start": "2010-09-03 00:00:00",
                  "end": "2024-09-15 00:00:00",
                  "_deepnote_index_column": 2
                },
                {
                  "name": "Fullerton/Milwaukee",
                  "approval_d": "2000-02-16 00:00:00",
                  "LEGAL_NAME": "FLYING SQUIRREL INDUSTRIES LLC",
                  "start": "2014-05-08 00:00:00",
                  "end": "2024-05-15 00:00:00",
                  "_deepnote_index_column": 3
                },
                {
                  "name": "Armitage/Pulaski",
                  "approval_d": "2007-06-13 00:00:00",
                  "LEGAL_NAME": "ELVIRA TECALERO DEGANTE",
                  "start": "2019-09-13 00:00:00",
                  "end": "2023-09-15 00:00:00",
                  "_deepnote_index_column": 4
                },
                {
                  "name": "Western Avenue/Rock Island",
                  "approval_d": "2006-02-08 00:00:00",
                  "LEGAL_NAME": "NESS CONSTRUCTION LLC",
                  "start": "2022-05-11 00:00:00",
                  "end": "2024-05-15 00:00:00",
                  "_deepnote_index_column": 5
                },
                {
                  "name": "Northwest Industrial Corridor",
                  "approval_d": "1998-12-02 00:00:00",
                  "LEGAL_NAME": "CHICAGO ANODIZING COMPANY",
                  "start": "2006-05-26 00:00:00",
                  "end": "2024-08-15 00:00:00",
                  "_deepnote_index_column": 6
                },
                {
                  "name": "Avondale",
                  "approval_d": "2009-07-29 00:00:00",
                  "LEGAL_NAME": "3938 AVONDALE, LLC",
                  "start": "2017-12-13 00:00:00",
                  "end": "2025-12-15 00:00:00",
                  "_deepnote_index_column": 7
                },
                {
                  "name": "Red Line Extension (RLE)",
                  "approval_d": "2022-12-14 00:00:00",
                  "LEGAL_NAME": "WON BOK SEO",
                  "start": "2016-04-29 00:00:00",
                  "end": "2024-05-15 00:00:00",
                  "_deepnote_index_column": 8
                },
                {
                  "name": "Western Avenue North",
                  "approval_d": "2000-01-12 00:00:00",
                  "LEGAL_NAME": "SRX COMPOUNDING AND WELLNESS LLC",
                  "start": "2022-05-11 00:00:00",
                  "end": "2024-05-15 00:00:00",
                  "_deepnote_index_column": 9
                }
              ]
            },
            "text/plain": "                                      name approval_d  \\\n0      Kinzie Industrial Conservation Area 1998-06-10   \n1                             35th/Halsted 1997-01-14   \n2            Northwest Industrial Corridor 1998-12-02   \n3                      Fullerton/Milwaukee 2000-02-16   \n4                         Armitage/Pulaski 2007-06-13   \n...                                    ...        ...   \n72347             Red Line Extension (RLE) 2022-12-14   \n72348             Roseland/Michigan Avenue 2002-01-16   \n72349             Roseland/Michigan Avenue 2002-01-16   \n72350                        Touhy/Western 2006-09-13   \n72351             Roseland/Michigan Avenue 2002-01-16   \n\n                           LEGAL_NAME      start        end  \n0             LEOPARDO COMPANIES INC. 2006-05-11 2022-09-15  \n1                  DOMONANT MEDIA LLC 2022-08-08 2024-08-15  \n2            PRIMERA IRON WORKS CORP. 2010-09-03 2024-09-15  \n3      FLYING SQUIRREL INDUSTRIES LLC 2014-05-08 2024-05-15  \n4             ELVIRA TECALERO DEGANTE 2019-09-13 2023-09-15  \n...                               ...        ...        ...  \n72347                 LEAD RESCUE NFP 2017-11-29 2019-12-15  \n72348                OM AND REYAN LLC 2023-01-17 2025-02-15  \n72349        T & C WELDER SERVICE LLC 2023-02-15 2025-03-15  \n72350    HAUS FINANCIAL SERVICES, LLC 2010-02-01 2011-10-15  \n72351        DOLLAR PLUS & FOOD, INC. 2017-04-17 2019-04-15  \n\n[72352 rows x 5 columns]",
            "text/html": "<div>\n<style scoped>\n    .dataframe tbody tr th:only-of-type {\n        vertical-align: middle;\n    }\n\n    .dataframe tbody tr th {\n        vertical-align: top;\n    }\n\n    .dataframe thead th {\n        text-align: right;\n    }\n</style>\n<table border=\"1\" class=\"dataframe\">\n  <thead>\n    <tr style=\"text-align: right;\">\n      <th></th>\n      <th>name</th>\n      <th>approval_d</th>\n      <th>LEGAL_NAME</th>\n      <th>start</th>\n      <th>end</th>\n    </tr>\n  </thead>\n  <tbody>\n    <tr>\n      <th>0</th>\n      <td>Kinzie Industrial Conservation Area</td>\n      <td>1998-06-10</td>\n      <td>LEOPARDO COMPANIES INC.</td>\n      <td>2006-05-11</td>\n      <td>2022-09-15</td>\n    </tr>\n    <tr>\n      <th>1</th>\n      <td>35th/Halsted</td>\n      <td>1997-01-14</td>\n      <td>DOMONANT MEDIA LLC</td>\n      <td>2022-08-08</td>\n      <td>2024-08-15</td>\n    </tr>\n    <tr>\n      <th>2</th>\n      <td>Northwest Industrial Corridor</td>\n      <td>1998-12-02</td>\n      <td>PRIMERA IRON WORKS CORP.</td>\n      <td>2010-09-03</td>\n      <td>2024-09-15</td>\n    </tr>\n    <tr>\n      <th>3</th>\n      <td>Fullerton/Milwaukee</td>\n      <td>2000-02-16</td>\n      <td>FLYING SQUIRREL INDUSTRIES LLC</td>\n      <td>2014-05-08</td>\n      <td>2024-05-15</td>\n    </tr>\n    <tr>\n      <th>4</th>\n      <td>Armitage/Pulaski</td>\n      <td>2007-06-13</td>\n      <td>ELVIRA TECALERO DEGANTE</td>\n      <td>2019-09-13</td>\n      <td>2023-09-15</td>\n    </tr>\n    <tr>\n      <th>...</th>\n      <td>...</td>\n      <td>...</td>\n      <td>...</td>\n      <td>...</td>\n      <td>...</td>\n    </tr>\n    <tr>\n      <th>72347</th>\n      <td>Red Line Extension (RLE)</td>\n      <td>2022-12-14</td>\n      <td>LEAD RESCUE NFP</td>\n      <td>2017-11-29</td>\n      <td>2019-12-15</td>\n    </tr>\n    <tr>\n      <th>72348</th>\n      <td>Roseland/Michigan Avenue</td>\n      <td>2002-01-16</td>\n      <td>OM AND REYAN LLC</td>\n      <td>2023-01-17</td>\n      <td>2025-02-15</td>\n    </tr>\n    <tr>\n      <th>72349</th>\n      <td>Roseland/Michigan Avenue</td>\n      <td>2002-01-16</td>\n      <td>T &amp; C WELDER SERVICE LLC</td>\n      <td>2023-02-15</td>\n      <td>2025-03-15</td>\n    </tr>\n    <tr>\n      <th>72350</th>\n      <td>Touhy/Western</td>\n      <td>2006-09-13</td>\n      <td>HAUS FINANCIAL SERVICES, LLC</td>\n      <td>2010-02-01</td>\n      <td>2011-10-15</td>\n    </tr>\n    <tr>\n      <th>72351</th>\n      <td>Roseland/Michigan Avenue</td>\n      <td>2002-01-16</td>\n      <td>DOLLAR PLUS &amp; FOOD, INC.</td>\n      <td>2017-04-17</td>\n      <td>2019-04-15</td>\n    </tr>\n  </tbody>\n</table>\n<p>72352 rows × 5 columns</p>\n</div>"
          },
          "metadata": {}
        }
      ],
      "outputs_reference": null,
      "execution_count": null,
      "block_group": "0ed5c12e06a243989c2d9586a81631a4",
      "content_dependencies": null
    },
    {
      "cell_type": "code",
      "source": "medium_TIF_businesses = _deepnote_execute_sql('SELECT *\\nFROM \\'/work/Business_Info_With_TIF_Info/medium_businesses.csv\\'', 'SQL_DEEPNOTE_DATAFRAME_SQL', audit_sql_comment='', sql_cache_mode='cache_disabled')\nmedium_TIF_businesses",
      "metadata": {
        "source_hash": null,
        "execution_start": 1714170726515,
        "execution_millis": 560,
        "sql_integration_id": "deepnote-dataframe-sql",
        "deepnote_variable_name": "medium_TIF_businesses",
        "deepnote_to_be_reexecuted": false,
        "cell_id": "058e92d6575c4c339c0a7af74287a200",
        "deepnote_cell_type": "sql",
        "deepnote_sql_source": "SELECT *\nFROM '/work/Business_Info_With_TIF_Info/medium_businesses.csv'"
      },
      "outputs": [
        {
          "output_type": "execute_result",
          "execution_count": 5,
          "data": {
            "application/vnd.deepnote.dataframe.v3+json": {
              "column_count": 5,
              "row_count": 7258,
              "columns": [
                {
                  "name": "name",
                  "dtype": "object",
                  "stats": {
                    "unique_count": 116,
                    "nan_count": 0,
                    "categories": [
                      {
                        "name": "Red and Purple Modernization Phase One Project",
                        "count": 832
                      },
                      {
                        "name": "Red Line Extension (RLE)",
                        "count": 586
                      },
                      {
                        "name": "114 others",
                        "count": 5840
                      }
                    ]
                  }
                },
                {
                  "name": "approval_d",
                  "dtype": "datetime64[us]",
                  "stats": {
                    "unique_count": 77,
                    "nan_count": 0,
                    "min": "1989-09-13 00:00:00",
                    "max": "2022-12-14 00:00:00",
                    "histogram": [
                      {
                        "bin_start": 621648000000000,
                        "bin_end": 726580800000000,
                        "count": 55
                      },
                      {
                        "bin_start": 726580800000000,
                        "bin_end": 831513600000000,
                        "count": 34
                      },
                      {
                        "bin_start": 831513600000000,
                        "bin_end": 936446400000000,
                        "count": 1534
                      },
                      {
                        "bin_start": 936446400000000,
                        "bin_end": 1041379200000000,
                        "count": 2689
                      },
                      {
                        "bin_start": 1041379200000000,
                        "bin_end": 1146312000000000,
                        "count": 224
                      },
                      {
                        "bin_start": 1146312000000000,
                        "bin_end": 1251244800000000,
                        "count": 981
                      },
                      {
                        "bin_start": 1251244800000000,
                        "bin_end": 1356177600000000,
                        "count": 169
                      },
                      {
                        "bin_start": 1356177600000000,
                        "bin_end": 1461110400000000,
                        "count": 65
                      },
                      {
                        "bin_start": 1461110400000000,
                        "bin_end": 1566043200000000,
                        "count": 921
                      },
                      {
                        "bin_start": 1566043200000000,
                        "bin_end": 1670976000000000,
                        "count": 586
                      }
                    ]
                  }
                },
                {
                  "name": "LEGAL_NAME",
                  "dtype": "object",
                  "stats": {
                    "unique_count": 4266,
                    "nan_count": 0,
                    "categories": [
                      {
                        "name": "FASHION GALLERY, INC.",
                        "count": 30
                      },
                      {
                        "name": "INNOVATIVE PARKING SOLUTIONS LLC",
                        "count": 25
                      },
                      {
                        "name": "4264 others",
                        "count": 7203
                      }
                    ]
                  }
                },
                {
                  "name": "start",
                  "dtype": "datetime64[us]",
                  "stats": {
                    "unique_count": 2337,
                    "nan_count": 10,
                    "min": "1996-05-16 00:00:00",
                    "max": "2024-01-10 00:00:00",
                    "histogram": [
                      {
                        "bin_start": 832204800000000,
                        "bin_end": 919468800000000,
                        "count": 31
                      },
                      {
                        "bin_start": 919468800000000,
                        "bin_end": 1006732800000000,
                        "count": 499
                      },
                      {
                        "bin_start": 1006732800000000,
                        "bin_end": 1093996800000000,
                        "count": 3533
                      },
                      {
                        "bin_start": 1093996800000000,
                        "bin_end": 1181260800000000,
                        "count": 617
                      },
                      {
                        "bin_start": 1181260800000000,
                        "bin_end": 1268524800000000,
                        "count": 718
                      },
                      {
                        "bin_start": 1268524800000000,
                        "bin_end": 1355788800000000,
                        "count": 564
                      },
                      {
                        "bin_start": 1355788800000000,
                        "bin_end": 1443052800000000,
                        "count": 595
                      },
                      {
                        "bin_start": 1443052800000000,
                        "bin_end": 1530316800000000,
                        "count": 344
                      },
                      {
                        "bin_start": 1530316800000000,
                        "bin_end": 1617580800000000,
                        "count": 194
                      },
                      {
                        "bin_start": 1617580800000000,
                        "bin_end": 1704844800000000,
                        "count": 153
                      }
                    ]
                  }
                },
                {
                  "name": "end",
                  "dtype": "datetime64[us]",
                  "stats": {
                    "unique_count": 616,
                    "nan_count": 0,
                    "min": "2000-02-15 00:00:00",
                    "max": "2026-04-15 00:00:00",
                    "histogram": [
                      {
                        "bin_start": 950572800000000,
                        "bin_end": 1033136640000000,
                        "count": 19
                      },
                      {
                        "bin_start": 1033136640000000,
                        "bin_end": 1115700480000000,
                        "count": 308
                      },
                      {
                        "bin_start": 1115700480000000,
                        "bin_end": 1198264320000000,
                        "count": 393
                      },
                      {
                        "bin_start": 1198264320000000,
                        "bin_end": 1280828160000000,
                        "count": 517
                      },
                      {
                        "bin_start": 1280828160000000,
                        "bin_end": 1363392000000000,
                        "count": 607
                      },
                      {
                        "bin_start": 1363392000000000,
                        "bin_end": 1445955840000000,
                        "count": 856
                      },
                      {
                        "bin_start": 1445955840000000,
                        "bin_end": 1528519680000000,
                        "count": 652
                      },
                      {
                        "bin_start": 1528519680000000,
                        "bin_end": 1611083520000000,
                        "count": 602
                      },
                      {
                        "bin_start": 1611083520000000,
                        "bin_end": 1693647360000000,
                        "count": 764
                      },
                      {
                        "bin_start": 1693647360000000,
                        "bin_end": 1776211200000000,
                        "count": 2540
                      }
                    ]
                  }
                },
                {
                  "name": "_deepnote_index_column",
                  "dtype": "int64"
                }
              ],
              "rows": [
                {
                  "name": "Wilson Yard",
                  "approval_d": "2001-06-27 00:00:00",
                  "LEGAL_NAME": "1021 MONTROSE, L.L.C.",
                  "start": "2005-05-13 00:00:00",
                  "end": "2024-06-15 00:00:00",
                  "_deepnote_index_column": 0
                },
                {
                  "name": "Red and Purple Modernization Phase One Project",
                  "approval_d": "2016-11-30 00:00:00",
                  "LEGAL_NAME": "BRIGHT HORIZONS CHILDREN'S CENTERS LLC",
                  "start": "2014-05-13 00:00:00",
                  "end": "2024-08-15 00:00:00",
                  "_deepnote_index_column": 1
                },
                {
                  "name": "Red Line Extension (RLE)",
                  "approval_d": "2022-12-14 00:00:00",
                  "LEGAL_NAME": "COMPASS GROUP USA, INC.",
                  "start": "2001-11-16 00:00:00",
                  "end": "2024-04-15 00:00:00",
                  "_deepnote_index_column": 2
                },
                {
                  "name": "Red and Purple Modernization Phase One Project",
                  "approval_d": "2016-11-30 00:00:00",
                  "LEGAL_NAME": "FOXTROT VENTURES, INCORPORATED",
                  "start": "2016-12-16 00:00:00",
                  "end": "2024-12-15 00:00:00",
                  "_deepnote_index_column": 3
                },
                {
                  "name": "Midwest",
                  "approval_d": "2000-05-17 00:00:00",
                  "LEGAL_NAME": "FOUR A'S FOOD INC",
                  "start": "2002-11-22 00:00:00",
                  "end": "2022-09-15 00:00:00",
                  "_deepnote_index_column": 4
                },
                {
                  "name": "Commercial Avenue",
                  "approval_d": "2002-11-13 00:00:00",
                  "LEGAL_NAME": "T AND T MEXICAN RESTAURANT, A CORPORATION",
                  "start": "2002-05-16 00:00:00",
                  "end": "2024-07-15 00:00:00",
                  "_deepnote_index_column": 5
                },
                {
                  "name": "Bronzeville",
                  "approval_d": "1998-11-04 00:00:00",
                  "LEGAL_NAME": "DANA LIQUORS, INC.",
                  "start": "2002-05-16 00:00:00",
                  "end": "2025-07-15 00:00:00",
                  "_deepnote_index_column": 6
                },
                {
                  "name": "Lawrence/Broadway",
                  "approval_d": "2001-06-27 00:00:00",
                  "LEGAL_NAME": "VIVA ENTERTAINMENT NETWORK, INC.",
                  "start": "2012-02-09 00:00:00",
                  "end": "2024-02-15 00:00:00",
                  "_deepnote_index_column": 7
                },
                {
                  "name": "West Woodlawn",
                  "approval_d": "2010-05-12 00:00:00",
                  "LEGAL_NAME": "KING DISCOUNT INC",
                  "start": "2002-05-13 00:00:00",
                  "end": "2024-07-15 00:00:00",
                  "_deepnote_index_column": 8
                },
                {
                  "name": "Red and Purple Modernization Phase One Project",
                  "approval_d": "2016-11-30 00:00:00",
                  "LEGAL_NAME": "HARTHILL CORPORATION",
                  "start": "2002-05-16 00:00:00",
                  "end": "2025-05-15 00:00:00",
                  "_deepnote_index_column": 9
                }
              ]
            },
            "text/plain": "                                                name approval_d  \\\n0                                        Wilson Yard 2001-06-27   \n1     Red and Purple Modernization Phase One Project 2016-11-30   \n2                           Red Line Extension (RLE) 2022-12-14   \n3     Red and Purple Modernization Phase One Project 2016-11-30   \n4                                            Midwest 2000-05-17   \n...                                              ...        ...   \n7253                                   Touhy/Western 2006-09-13   \n7254                             71st & Stony Island 1998-10-07   \n7255                             71st & Stony Island 1998-10-07   \n7256                             71st & Stony Island 1998-10-07   \n7257                             71st & Stony Island 1998-10-07   \n\n                                  LEGAL_NAME      start        end  \n0                      1021 MONTROSE, L.L.C. 2005-05-13 2024-06-15  \n1     BRIGHT HORIZONS CHILDREN'S CENTERS LLC 2014-05-13 2024-08-15  \n2                    COMPASS GROUP USA, INC. 2001-11-16 2024-04-15  \n3             FOXTROT VENTURES, INCORPORATED 2016-12-16 2024-12-15  \n4                          FOUR A'S FOOD INC 2002-11-22 2022-09-15  \n...                                      ...        ...        ...  \n7253                        EFRAIN VELAZQUEZ 2015-07-31 2019-08-15  \n7254                            FAMILY FOCUS 2019-08-26 2024-06-15  \n7255               MARTIN & MICHAEL EISERMAN 2001-11-16 2021-07-15  \n7256                        LEITELT BROTHERS 2002-11-16 2024-10-15  \n7257                          MOO & OINK INC 2002-02-16 2012-12-15  \n\n[7258 rows x 5 columns]",
            "text/html": "<div>\n<style scoped>\n    .dataframe tbody tr th:only-of-type {\n        vertical-align: middle;\n    }\n\n    .dataframe tbody tr th {\n        vertical-align: top;\n    }\n\n    .dataframe thead th {\n        text-align: right;\n    }\n</style>\n<table border=\"1\" class=\"dataframe\">\n  <thead>\n    <tr style=\"text-align: right;\">\n      <th></th>\n      <th>name</th>\n      <th>approval_d</th>\n      <th>LEGAL_NAME</th>\n      <th>start</th>\n      <th>end</th>\n    </tr>\n  </thead>\n  <tbody>\n    <tr>\n      <th>0</th>\n      <td>Wilson Yard</td>\n      <td>2001-06-27</td>\n      <td>1021 MONTROSE, L.L.C.</td>\n      <td>2005-05-13</td>\n      <td>2024-06-15</td>\n    </tr>\n    <tr>\n      <th>1</th>\n      <td>Red and Purple Modernization Phase One Project</td>\n      <td>2016-11-30</td>\n      <td>BRIGHT HORIZONS CHILDREN'S CENTERS LLC</td>\n      <td>2014-05-13</td>\n      <td>2024-08-15</td>\n    </tr>\n    <tr>\n      <th>2</th>\n      <td>Red Line Extension (RLE)</td>\n      <td>2022-12-14</td>\n      <td>COMPASS GROUP USA, INC.</td>\n      <td>2001-11-16</td>\n      <td>2024-04-15</td>\n    </tr>\n    <tr>\n      <th>3</th>\n      <td>Red and Purple Modernization Phase One Project</td>\n      <td>2016-11-30</td>\n      <td>FOXTROT VENTURES, INCORPORATED</td>\n      <td>2016-12-16</td>\n      <td>2024-12-15</td>\n    </tr>\n    <tr>\n      <th>4</th>\n      <td>Midwest</td>\n      <td>2000-05-17</td>\n      <td>FOUR A'S FOOD INC</td>\n      <td>2002-11-22</td>\n      <td>2022-09-15</td>\n    </tr>\n    <tr>\n      <th>...</th>\n      <td>...</td>\n      <td>...</td>\n      <td>...</td>\n      <td>...</td>\n      <td>...</td>\n    </tr>\n    <tr>\n      <th>7253</th>\n      <td>Touhy/Western</td>\n      <td>2006-09-13</td>\n      <td>EFRAIN VELAZQUEZ</td>\n      <td>2015-07-31</td>\n      <td>2019-08-15</td>\n    </tr>\n    <tr>\n      <th>7254</th>\n      <td>71st &amp; Stony Island</td>\n      <td>1998-10-07</td>\n      <td>FAMILY FOCUS</td>\n      <td>2019-08-26</td>\n      <td>2024-06-15</td>\n    </tr>\n    <tr>\n      <th>7255</th>\n      <td>71st &amp; Stony Island</td>\n      <td>1998-10-07</td>\n      <td>MARTIN &amp; MICHAEL EISERMAN</td>\n      <td>2001-11-16</td>\n      <td>2021-07-15</td>\n    </tr>\n    <tr>\n      <th>7256</th>\n      <td>71st &amp; Stony Island</td>\n      <td>1998-10-07</td>\n      <td>LEITELT BROTHERS</td>\n      <td>2002-11-16</td>\n      <td>2024-10-15</td>\n    </tr>\n    <tr>\n      <th>7257</th>\n      <td>71st &amp; Stony Island</td>\n      <td>1998-10-07</td>\n      <td>MOO &amp; OINK INC</td>\n      <td>2002-02-16</td>\n      <td>2012-12-15</td>\n    </tr>\n  </tbody>\n</table>\n<p>7258 rows × 5 columns</p>\n</div>"
          },
          "metadata": {}
        }
      ],
      "outputs_reference": null,
      "execution_count": null,
      "block_group": "de41422e3afc4a60854851ce1535cacb",
      "content_dependencies": null
    },
    {
      "cell_type": "code",
      "source": "big_TIF_businesses = _deepnote_execute_sql('SELECT *\\nFROM \\'/work/Business_Info_With_TIF_Info/big_businesses.csv\\'', 'SQL_DEEPNOTE_DATAFRAME_SQL', audit_sql_comment='', sql_cache_mode='cache_disabled')\nbig_TIF_businesses",
      "metadata": {
        "source_hash": null,
        "execution_start": 1714170727135,
        "execution_millis": 685,
        "sql_integration_id": "deepnote-dataframe-sql",
        "deepnote_variable_name": "big_TIF_businesses",
        "deepnote_to_be_reexecuted": false,
        "cell_id": "46d20e26e00a4732843664855e7aab61",
        "deepnote_cell_type": "sql",
        "deepnote_sql_source": "SELECT *\nFROM '/work/Business_Info_With_TIF_Info/big_businesses.csv'"
      },
      "outputs": [
        {
          "output_type": "execute_result",
          "execution_count": 6,
          "data": {
            "application/vnd.deepnote.dataframe.v3+json": {
              "column_count": 5,
              "row_count": 14157,
              "columns": [
                {
                  "name": "name",
                  "dtype": "object",
                  "stats": {
                    "unique_count": 117,
                    "nan_count": 0,
                    "categories": [
                      {
                        "name": "Red and Purple Modernization Phase One Project",
                        "count": 1169
                      },
                      {
                        "name": "Red Line Extension (RLE)",
                        "count": 1163
                      },
                      {
                        "name": "115 others",
                        "count": 11825
                      }
                    ]
                  }
                },
                {
                  "name": "approval_d",
                  "dtype": "datetime64[us]",
                  "stats": {
                    "unique_count": 77,
                    "nan_count": 0,
                    "min": "1989-09-13 00:00:00",
                    "max": "2022-12-14 00:00:00",
                    "histogram": [
                      {
                        "bin_start": 621648000000000,
                        "bin_end": 726580800000000,
                        "count": 65
                      },
                      {
                        "bin_start": 726580800000000,
                        "bin_end": 831513600000000,
                        "count": 79
                      },
                      {
                        "bin_start": 831513600000000,
                        "bin_end": 936446400000000,
                        "count": 2541
                      },
                      {
                        "bin_start": 936446400000000,
                        "bin_end": 1041379200000000,
                        "count": 5899
                      },
                      {
                        "bin_start": 1041379200000000,
                        "bin_end": 1146312000000000,
                        "count": 487
                      },
                      {
                        "bin_start": 1146312000000000,
                        "bin_end": 1251244800000000,
                        "count": 2014
                      },
                      {
                        "bin_start": 1251244800000000,
                        "bin_end": 1356177600000000,
                        "count": 490
                      },
                      {
                        "bin_start": 1356177600000000,
                        "bin_end": 1461110400000000,
                        "count": 152
                      },
                      {
                        "bin_start": 1461110400000000,
                        "bin_end": 1566043200000000,
                        "count": 1266
                      },
                      {
                        "bin_start": 1566043200000000,
                        "bin_end": 1670976000000000,
                        "count": 1164
                      }
                    ]
                  }
                },
                {
                  "name": "LEGAL_NAME",
                  "dtype": "object",
                  "stats": {
                    "unique_count": 11060,
                    "nan_count": 0,
                    "categories": [
                      {
                        "name": "FAMILY DOLLAR, LLC",
                        "count": 54
                      },
                      {
                        "name": "H&R BLOCK ENTERPRISES LLC",
                        "count": 45
                      },
                      {
                        "name": "11058 others",
                        "count": 14058
                      }
                    ]
                  }
                },
                {
                  "name": "start",
                  "dtype": "datetime64[us]",
                  "stats": {
                    "unique_count": 4472,
                    "nan_count": 8,
                    "min": "1995-08-16 00:00:00",
                    "max": "2024-02-16 00:00:00",
                    "histogram": [
                      {
                        "bin_start": 808531200000000,
                        "bin_end": 898482240000000,
                        "count": 18
                      },
                      {
                        "bin_start": 898482240000000,
                        "bin_end": 988433280000000,
                        "count": 141
                      },
                      {
                        "bin_start": 988433280000000,
                        "bin_end": 1078384320000000,
                        "count": 4581
                      },
                      {
                        "bin_start": 1078384320000000,
                        "bin_end": 1168335360000000,
                        "count": 1854
                      },
                      {
                        "bin_start": 1168335360000000,
                        "bin_end": 1258286400000000,
                        "count": 1656
                      },
                      {
                        "bin_start": 1258286400000000,
                        "bin_end": 1348237440000000,
                        "count": 1413
                      },
                      {
                        "bin_start": 1348237440000000,
                        "bin_end": 1438188480000000,
                        "count": 1376
                      },
                      {
                        "bin_start": 1438188480000000,
                        "bin_end": 1528139520000000,
                        "count": 1268
                      },
                      {
                        "bin_start": 1528139520000000,
                        "bin_end": 1618090560000000,
                        "count": 969
                      },
                      {
                        "bin_start": 1618090560000000,
                        "bin_end": 1708041600000000,
                        "count": 873
                      }
                    ]
                  }
                },
                {
                  "name": "end",
                  "dtype": "datetime64[us]",
                  "stats": {
                    "unique_count": 534,
                    "nan_count": 1,
                    "min": "1996-08-15 00:00:00",
                    "max": "2026-04-15 00:00:00",
                    "histogram": [
                      {
                        "bin_start": 840067200000000,
                        "bin_end": 933681600000000,
                        "count": 18
                      },
                      {
                        "bin_start": 933681600000000,
                        "bin_end": 1027296000000000,
                        "count": 51
                      },
                      {
                        "bin_start": 1027296000000000,
                        "bin_end": 1120910400000000,
                        "count": 1494
                      },
                      {
                        "bin_start": 1120910400000000,
                        "bin_end": 1214524800000000,
                        "count": 1549
                      },
                      {
                        "bin_start": 1214524800000000,
                        "bin_end": 1308139200000000,
                        "count": 1395
                      },
                      {
                        "bin_start": 1308139200000000,
                        "bin_end": 1401753600000000,
                        "count": 1493
                      },
                      {
                        "bin_start": 1401753600000000,
                        "bin_end": 1495368000000000,
                        "count": 1519
                      },
                      {
                        "bin_start": 1495368000000000,
                        "bin_end": 1588982400000000,
                        "count": 1377
                      },
                      {
                        "bin_start": 1588982400000000,
                        "bin_end": 1682596800000000,
                        "count": 1285
                      },
                      {
                        "bin_start": 1682596800000000,
                        "bin_end": 1776211200000000,
                        "count": 3975
                      }
                    ]
                  }
                },
                {
                  "name": "_deepnote_index_column",
                  "dtype": "int64"
                }
              ],
              "rows": [
                {
                  "name": "Red and Purple Modernization Phase One Project",
                  "approval_d": "2016-11-30 00:00:00",
                  "LEGAL_NAME": "CHICAGO CUBS BASEBALL CLUB, LLC",
                  "start": "2010-03-16 00:00:00",
                  "end": "2024-06-15 00:00:00",
                  "_deepnote_index_column": 0
                },
                {
                  "name": "Red and Purple Modernization Phase One Project",
                  "approval_d": "2016-11-30 00:00:00",
                  "LEGAL_NAME": "GRAHAM ENTERPRISE INC",
                  "start": "2009-04-21 00:00:00",
                  "end": "2024-06-15 00:00:00",
                  "_deepnote_index_column": 1
                },
                {
                  "name": "Archer/Western",
                  "approval_d": "2009-02-11 00:00:00",
                  "LEGAL_NAME": "A&J MUFFLERS AND BRAKES CORP.",
                  "start": "2013-06-12 00:00:00",
                  "end": "2025-06-15 00:00:00",
                  "_deepnote_index_column": 2
                },
                {
                  "name": "Western Avenue North",
                  "approval_d": "2000-01-12 00:00:00",
                  "LEGAL_NAME": "STANLEY BROWN JEWELIST, LTD.",
                  "start": "2002-11-16 00:00:00",
                  "end": "2025-09-15 00:00:00",
                  "_deepnote_index_column": 3
                },
                {
                  "name": "47th/Ashland",
                  "approval_d": "2002-03-27 00:00:00",
                  "LEGAL_NAME": "CACAOABUNGA LLC",
                  "start": "2022-01-13 00:00:00",
                  "end": "2024-01-15 00:00:00",
                  "_deepnote_index_column": 4
                },
                {
                  "name": "Pilsen",
                  "approval_d": "1998-06-10 00:00:00",
                  "LEGAL_NAME": "EL RANCHITO TACOS CORP.",
                  "start": "2018-01-26 00:00:00",
                  "end": "2024-02-15 00:00:00",
                  "_deepnote_index_column": 5
                },
                {
                  "name": "Lawrence/Broadway",
                  "approval_d": "2001-06-27 00:00:00",
                  "LEGAL_NAME": "SH ENTREPRISES, LLC",
                  "start": "2022-05-11 00:00:00",
                  "end": "2025-06-15 00:00:00",
                  "_deepnote_index_column": 6
                },
                {
                  "name": "Ogden/Pulaski",
                  "approval_d": "2008-04-09 00:00:00",
                  "LEGAL_NAME": "MAK FUEL & MINI MART, INC.",
                  "start": "2016-12-16 00:00:00",
                  "end": "2025-01-15 00:00:00",
                  "_deepnote_index_column": 7
                },
                {
                  "name": "Commercial Avenue",
                  "approval_d": "2002-11-13 00:00:00",
                  "LEGAL_NAME": "MA DOLORES GONZALEZ",
                  "start": "2018-08-09 00:00:00",
                  "end": "2024-08-15 00:00:00",
                  "_deepnote_index_column": 8
                },
                {
                  "name": "Western/Ogden",
                  "approval_d": "1998-02-05 00:00:00",
                  "LEGAL_NAME": "NU WAVE DIE CUTTING & FINISHING, LTD.",
                  "start": "2005-11-16 00:00:00",
                  "end": "2022-09-15 00:00:00",
                  "_deepnote_index_column": 9
                }
              ]
            },
            "text/plain": "                                                 name approval_d  \\\n0      Red and Purple Modernization Phase One Project 2016-11-30   \n1      Red and Purple Modernization Phase One Project 2016-11-30   \n2                                      Archer/Western 2009-02-11   \n3                                Western Avenue North 2000-01-12   \n4                                        47th/Ashland 2002-03-27   \n...                                               ...        ...   \n14152                             71st & Stony Island 1998-10-07   \n14153                             71st & Stony Island 1998-10-07   \n14154                             71st & Stony Island 1998-10-07   \n14155                                   Touhy/Western 2006-09-13   \n14156                             71st & Stony Island 1998-10-07   \n\n                            LEGAL_NAME      start        end  \n0      CHICAGO CUBS BASEBALL CLUB, LLC 2010-03-16 2024-06-15  \n1                GRAHAM ENTERPRISE INC 2009-04-21 2024-06-15  \n2        A&J MUFFLERS AND BRAKES CORP. 2013-06-12 2025-06-15  \n3         STANLEY BROWN JEWELIST, LTD. 2002-11-16 2025-09-15  \n4                      CACAOABUNGA LLC 2022-01-13 2024-01-15  \n...                                ...        ...        ...  \n14152        UJAMAA CONSTRUCTION, INC. 2012-07-13 2024-07-15  \n14153                 NATASHA N. ABBEY 2005-07-27 2024-10-15  \n14154          WHITE CASTLE SYSTEM INC 2002-08-16 2024-06-15  \n14155         WESTERN 5233 CORPORATION 2015-03-05 2025-03-15  \n14156                   PENS OIL, INC. 2019-03-13 2025-03-15  \n\n[14157 rows x 5 columns]",
            "text/html": "<div>\n<style scoped>\n    .dataframe tbody tr th:only-of-type {\n        vertical-align: middle;\n    }\n\n    .dataframe tbody tr th {\n        vertical-align: top;\n    }\n\n    .dataframe thead th {\n        text-align: right;\n    }\n</style>\n<table border=\"1\" class=\"dataframe\">\n  <thead>\n    <tr style=\"text-align: right;\">\n      <th></th>\n      <th>name</th>\n      <th>approval_d</th>\n      <th>LEGAL_NAME</th>\n      <th>start</th>\n      <th>end</th>\n    </tr>\n  </thead>\n  <tbody>\n    <tr>\n      <th>0</th>\n      <td>Red and Purple Modernization Phase One Project</td>\n      <td>2016-11-30</td>\n      <td>CHICAGO CUBS BASEBALL CLUB, LLC</td>\n      <td>2010-03-16</td>\n      <td>2024-06-15</td>\n    </tr>\n    <tr>\n      <th>1</th>\n      <td>Red and Purple Modernization Phase One Project</td>\n      <td>2016-11-30</td>\n      <td>GRAHAM ENTERPRISE INC</td>\n      <td>2009-04-21</td>\n      <td>2024-06-15</td>\n    </tr>\n    <tr>\n      <th>2</th>\n      <td>Archer/Western</td>\n      <td>2009-02-11</td>\n      <td>A&amp;J MUFFLERS AND BRAKES CORP.</td>\n      <td>2013-06-12</td>\n      <td>2025-06-15</td>\n    </tr>\n    <tr>\n      <th>3</th>\n      <td>Western Avenue North</td>\n      <td>2000-01-12</td>\n      <td>STANLEY BROWN JEWELIST, LTD.</td>\n      <td>2002-11-16</td>\n      <td>2025-09-15</td>\n    </tr>\n    <tr>\n      <th>4</th>\n      <td>47th/Ashland</td>\n      <td>2002-03-27</td>\n      <td>CACAOABUNGA LLC</td>\n      <td>2022-01-13</td>\n      <td>2024-01-15</td>\n    </tr>\n    <tr>\n      <th>...</th>\n      <td>...</td>\n      <td>...</td>\n      <td>...</td>\n      <td>...</td>\n      <td>...</td>\n    </tr>\n    <tr>\n      <th>14152</th>\n      <td>71st &amp; Stony Island</td>\n      <td>1998-10-07</td>\n      <td>UJAMAA CONSTRUCTION, INC.</td>\n      <td>2012-07-13</td>\n      <td>2024-07-15</td>\n    </tr>\n    <tr>\n      <th>14153</th>\n      <td>71st &amp; Stony Island</td>\n      <td>1998-10-07</td>\n      <td>NATASHA N. ABBEY</td>\n      <td>2005-07-27</td>\n      <td>2024-10-15</td>\n    </tr>\n    <tr>\n      <th>14154</th>\n      <td>71st &amp; Stony Island</td>\n      <td>1998-10-07</td>\n      <td>WHITE CASTLE SYSTEM INC</td>\n      <td>2002-08-16</td>\n      <td>2024-06-15</td>\n    </tr>\n    <tr>\n      <th>14155</th>\n      <td>Touhy/Western</td>\n      <td>2006-09-13</td>\n      <td>WESTERN 5233 CORPORATION</td>\n      <td>2015-03-05</td>\n      <td>2025-03-15</td>\n    </tr>\n    <tr>\n      <th>14156</th>\n      <td>71st &amp; Stony Island</td>\n      <td>1998-10-07</td>\n      <td>PENS OIL, INC.</td>\n      <td>2019-03-13</td>\n      <td>2025-03-15</td>\n    </tr>\n  </tbody>\n</table>\n<p>14157 rows × 5 columns</p>\n</div>"
          },
          "metadata": {}
        }
      ],
      "outputs_reference": null,
      "execution_count": null,
      "block_group": "d5310d66034a4092893d80ba9c8a48a5",
      "content_dependencies": null
    },
    {
      "cell_type": "markdown",
      "source": "### Import all the required libraries to create visualizations in Python",
      "metadata": {
        "is_collapsed": false,
        "formattedRanges": [],
        "deepnote_app_block_visible": false,
        "cell_id": "f6a608fb6de84387a7264b2aae4fdb76",
        "deepnote_cell_type": "text-cell-h3"
      },
      "block_group": "0af72ba19bf142799bd85bba0258486f"
    },
    {
      "cell_type": "code",
      "source": "!pip install geopy\n!pip install geopandas\n!pip install numpy\n\nimport numpy as np\nimport pandas as pd\nimport matplotlib.pyplot as plt\nfrom matplotlib.colors import ListedColormap\nfrom matplotlib.cm import get_cmap\nimport json\nfrom geopy.geocoders import Nominatim\nimport geopandas as gpd\nfrom shapely.geometry import Point\nimport json\n",
      "metadata": {
        "source_hash": null,
        "execution_start": 1714170727842,
        "execution_millis": 13057,
        "deepnote_to_be_reexecuted": false,
        "cell_id": "3f75870eca6445dd8dcba14c4dbe4967",
        "deepnote_cell_type": "code"
      },
      "outputs": [
        {
          "name": "stdout",
          "text": "Collecting geopy\n  Downloading geopy-2.4.1-py3-none-any.whl (125 kB)\n\u001b[2K     \u001b[90m━━━━━━━━━━━━━━━━━━━━━━━━━━━━━━━━━━━━━━\u001b[0m \u001b[32m125.4/125.4 kB\u001b[0m \u001b[31m15.5 MB/s\u001b[0m eta \u001b[36m0:00:00\u001b[0m\n\u001b[?25hCollecting geographiclib<3,>=1.52\n  Downloading geographiclib-2.0-py3-none-any.whl (40 kB)\n\u001b[2K     \u001b[90m━━━━━━━━━━━━━━━━━━━━━━━━━━━━━━━━━━━━━━━━\u001b[0m \u001b[32m40.3/40.3 kB\u001b[0m \u001b[31m9.7 MB/s\u001b[0m eta \u001b[36m0:00:00\u001b[0m\n\u001b[?25hInstalling collected packages: geographiclib, geopy\nSuccessfully installed geographiclib-2.0 geopy-2.4.1\n\n\u001b[1m[\u001b[0m\u001b[34;49mnotice\u001b[0m\u001b[1;39;49m]\u001b[0m\u001b[39;49m A new release of pip is available: \u001b[0m\u001b[31;49m23.0.1\u001b[0m\u001b[39;49m -> \u001b[0m\u001b[32;49m24.0\u001b[0m\n\u001b[1m[\u001b[0m\u001b[34;49mnotice\u001b[0m\u001b[1;39;49m]\u001b[0m\u001b[39;49m To update, run: \u001b[0m\u001b[32;49mpip install --upgrade pip\u001b[0m\nRequirement already satisfied: geopandas in /shared-libs/python3.9/py/lib/python3.9/site-packages (0.11.1)\nRequirement already satisfied: shapely<2,>=1.7 in /shared-libs/python3.9/py/lib/python3.9/site-packages (from geopandas) (1.8.5.post1)\nRequirement already satisfied: pandas>=1.0.0 in /shared-libs/python3.9/py/lib/python3.9/site-packages (from geopandas) (2.1.4)\nRequirement already satisfied: packaging in /shared-libs/python3.9/py-core/lib/python3.9/site-packages (from geopandas) (21.3)\nRequirement already satisfied: pyproj>=2.6.1.post1 in /shared-libs/python3.9/py/lib/python3.9/site-packages (from geopandas) (3.4.0)\nRequirement already satisfied: fiona>=1.8 in /shared-libs/python3.9/py/lib/python3.9/site-packages (from geopandas) (1.8.22)\nRequirement already satisfied: cligj>=0.5 in /shared-libs/python3.9/py/lib/python3.9/site-packages (from fiona>=1.8->geopandas) (0.7.2)\nRequirement already satisfied: munch in /shared-libs/python3.9/py/lib/python3.9/site-packages (from fiona>=1.8->geopandas) (2.5.0)\nRequirement already satisfied: setuptools in /root/venv/lib/python3.9/site-packages (from fiona>=1.8->geopandas) (58.1.0)\nRequirement already satisfied: six>=1.7 in /shared-libs/python3.9/py-core/lib/python3.9/site-packages (from fiona>=1.8->geopandas) (1.16.0)\nRequirement already satisfied: click>=4.0 in /shared-libs/python3.9/py/lib/python3.9/site-packages (from fiona>=1.8->geopandas) (8.1.3)\nRequirement already satisfied: certifi in /shared-libs/python3.9/py/lib/python3.9/site-packages (from fiona>=1.8->geopandas) (2022.9.24)\nRequirement already satisfied: click-plugins>=1.0 in /shared-libs/python3.9/py/lib/python3.9/site-packages (from fiona>=1.8->geopandas) (1.1.1)\nRequirement already satisfied: attrs>=17 in /shared-libs/python3.9/py-core/lib/python3.9/site-packages (from fiona>=1.8->geopandas) (22.1.0)\nRequirement already satisfied: tzdata>=2022.1 in /shared-libs/python3.9/py/lib/python3.9/site-packages (from pandas>=1.0.0->geopandas) (2022.5)\nRequirement already satisfied: numpy<2,>=1.22.4 in /shared-libs/python3.9/py/lib/python3.9/site-packages (from pandas>=1.0.0->geopandas) (1.23.4)\nRequirement already satisfied: pytz>=2020.1 in /shared-libs/python3.9/py/lib/python3.9/site-packages (from pandas>=1.0.0->geopandas) (2022.5)\nRequirement already satisfied: python-dateutil>=2.8.2 in /shared-libs/python3.9/py-core/lib/python3.9/site-packages (from pandas>=1.0.0->geopandas) (2.8.2)\nRequirement already satisfied: pyparsing!=3.0.5,>=2.0.2 in /shared-libs/python3.9/py-core/lib/python3.9/site-packages (from packaging->geopandas) (3.0.9)\n\n\u001b[1m[\u001b[0m\u001b[34;49mnotice\u001b[0m\u001b[1;39;49m]\u001b[0m\u001b[39;49m A new release of pip is available: \u001b[0m\u001b[31;49m23.0.1\u001b[0m\u001b[39;49m -> \u001b[0m\u001b[32;49m24.0\u001b[0m\n\u001b[1m[\u001b[0m\u001b[34;49mnotice\u001b[0m\u001b[1;39;49m]\u001b[0m\u001b[39;49m To update, run: \u001b[0m\u001b[32;49mpip install --upgrade pip\u001b[0m\nRequirement already satisfied: numpy in /shared-libs/python3.9/py/lib/python3.9/site-packages (1.23.4)\n\n\u001b[1m[\u001b[0m\u001b[34;49mnotice\u001b[0m\u001b[1;39;49m]\u001b[0m\u001b[39;49m A new release of pip is available: \u001b[0m\u001b[31;49m23.0.1\u001b[0m\u001b[39;49m -> \u001b[0m\u001b[32;49m24.0\u001b[0m\n\u001b[1m[\u001b[0m\u001b[34;49mnotice\u001b[0m\u001b[1;39;49m]\u001b[0m\u001b[39;49m To update, run: \u001b[0m\u001b[32;49mpip install --upgrade pip\u001b[0m\n",
          "output_type": "stream"
        }
      ],
      "outputs_reference": null,
      "execution_count": null,
      "block_group": "8ef99a5dd293434580c4364a32cf6070",
      "content_dependencies": null
    },
    {
      "cell_type": "markdown",
      "source": "Import which Community Areas each TIF District intersects with, add a function that can return the population of Chicago by year, and add project data for TIFs that we got from a team we collaborated with",
      "metadata": {
        "formattedRanges": [],
        "cell_id": "2c732a1b6da94abab1062acc6faf4df8",
        "deepnote_cell_type": "text-cell-p"
      },
      "block_group": "33188cb723da4c2d80e5e022e45f9de1"
    },
    {
      "cell_type": "code",
      "source": "with open('/work/intersections.json', 'r') as file:\n    intersections_data = json.load(file)\n\npopulation_by_year = pd.read_csv('/work/population.csv')\npopulation_by_year.set_index('Year', inplace=True)\n\ndef get_population_by_year(year):\n    return population_by_year.loc[int(year)].Population\nintersections_data['Roosevelt/Clark']\n\n \n\nproject_info = {\n    \"Stevenson/Brighton\": {\n        2014: [\"Pulaski Promenade\"],\n        2022: [\"TIF-Works\", \"SBIF\"],\n    },\n    \"Bronzeville\": {\n        2002: [\"NIF 1\"],\n        2008: [\"Pershing Court\"],\n        2011: [\"South Park Plaza\"],\n        2012: [\"SBIF\", \"NIF 2\", \"TIF Works\"],\n        2015: [\"Quad Communities\"],\n        2020: [\"Quad Communities Completed\"],\n        2022: [\"Pershing Court Completed\", \"South Park Completed\"]\n    }, \n    \"Foster/Edens\":{2019:[\"Foster Edens Collection\"],\n    }, \n    \"Little Village East\":{2011:[\"Property Acquired\"], 2015:[\"SBIF\"]\n    },\n    \"Little Village Industrial Corridor\" : {2010:[\"SBIF\"], 2020:[\"TIFWorks\"], \n    },\n}\nget_population_by_year('2020')",
      "metadata": {
        "source_hash": null,
        "execution_start": 1714170740910,
        "execution_millis": 365,
        "deepnote_to_be_reexecuted": false,
        "cell_id": "d2248e43873d4124a1d2223c98f9da12",
        "deepnote_cell_type": "code"
      },
      "outputs": [
        {
          "output_type": "execute_result",
          "execution_count": 8,
          "data": {
            "text/plain": "2697000.0"
          },
          "metadata": {}
        }
      ],
      "outputs_reference": null,
      "execution_count": null,
      "block_group": "5b1dce6114cf405fb945c51a26fc4bfa",
      "content_dependencies": null
    },
    {
      "cell_type": "markdown",
      "source": "### Visualize the performance inside of the TIF",
      "metadata": {
        "formattedRanges": [],
        "cell_id": "e719276e9d4045c49face7e4e67055bd",
        "deepnote_cell_type": "text-cell-h3"
      },
      "block_group": "670583348ada49abb2affed714f60291"
    },
    {
      "cell_type": "code",
      "source": "small_name_commumity",
      "metadata": {
        "source_hash": null,
        "execution_start": 1714170741282,
        "execution_millis": 126,
        "deepnote_to_be_reexecuted": false,
        "cell_id": "31a7000c8110448294d6852da41a8fa2",
        "deepnote_cell_type": "code"
      },
      "outputs": [
        {
          "output_type": "execute_result",
          "execution_count": 9,
          "data": {
            "application/vnd.deepnote.dataframe.v3+json": {
              "column_count": 4,
              "row_count": 81555,
              "columns": [
                {
                  "name": "LEGAL_NAME",
                  "dtype": "object",
                  "stats": {
                    "unique_count": 76145,
                    "nan_count": 0,
                    "categories": [
                      {
                        "name": "INFINITY OF CHICAGO, INC.",
                        "count": 9
                      },
                      {
                        "name": "MANUEL CASTILLO",
                        "count": 8
                      },
                      {
                        "name": "76143 others",
                        "count": 81538
                      }
                    ]
                  }
                },
                {
                  "name": "Com_Name",
                  "dtype": "object"
                },
                {
                  "name": "start",
                  "dtype": "datetime64[us]"
                },
                {
                  "name": "end",
                  "dtype": "datetime64[us]"
                },
                {
                  "name": "_deepnote_index_column",
                  "dtype": "int64"
                }
              ],
              "rows": [
                {
                  "LEGAL_NAME": "JYM INVESTMENTS LLC",
                  "Com_Name": "WEST RIDGE",
                  "start": "2020-12-17 00:00:00",
                  "end": "2023-01-15 00:00:00",
                  "_deepnote_index_column": 0
                },
                {
                  "LEGAL_NAME": "ELIAS A. KANELLOPOULOS",
                  "Com_Name": "NEAR NORTH SIDE",
                  "start": "2008-04-14 00:00:00",
                  "end": "2023-03-15 00:00:00",
                  "_deepnote_index_column": 1
                },
                {
                  "LEGAL_NAME": "Silverwolf Productions LLC",
                  "Com_Name": "LINCOLN PARK",
                  "start": "2022-05-11 00:00:00",
                  "end": "2024-05-15 00:00:00",
                  "_deepnote_index_column": 2
                },
                {
                  "LEGAL_NAME": "MOVING UNITS INC.",
                  "Com_Name": "ALBANY PARK",
                  "start": "2021-11-17 00:00:00",
                  "end": "2024-06-15 00:00:00",
                  "_deepnote_index_column": 3
                },
                {
                  "LEGAL_NAME": "DANIELLE TO",
                  "Com_Name": "BRIDGEPORT",
                  "start": "2022-05-11 00:00:00",
                  "end": "2023-10-15 00:00:00",
                  "_deepnote_index_column": 4
                },
                {
                  "LEGAL_NAME": "SUPREME RIMS & TIRES INC.",
                  "Com_Name": "BRIGHTON PARK",
                  "start": "2022-05-11 00:00:00",
                  "end": "2024-05-15 00:00:00",
                  "_deepnote_index_column": 5
                },
                {
                  "LEGAL_NAME": "SIXT RENT A CAR, LLC",
                  "Com_Name": "OHARE",
                  "start": "2018-08-24 00:00:00",
                  "end": "2025-12-15 00:00:00",
                  "_deepnote_index_column": 6
                },
                {
                  "LEGAL_NAME": "MIGUEL ANGEL DUARTE-SOLIS",
                  "Com_Name": "NEW CITY",
                  "start": "2011-01-11 00:00:00",
                  "end": "2024-08-15 00:00:00",
                  "_deepnote_index_column": 7
                },
                {
                  "LEGAL_NAME": "W-SF GOLDFINGER OWNER VIII, L.L.C.",
                  "Com_Name": "NEAR WEST SIDE",
                  "start": "2022-04-12 00:00:00",
                  "end": "2024-04-15 00:00:00",
                  "_deepnote_index_column": 8
                },
                {
                  "LEGAL_NAME": "NYM MERGER HOLDINGS LLC",
                  "Com_Name": "WEST TOWN",
                  "start": "2018-06-06 00:00:00",
                  "end": "2024-06-15 00:00:00",
                  "_deepnote_index_column": 9
                }
              ]
            },
            "text/plain": "                           LEGAL_NAME         Com_Name      start        end\n0                 JYM INVESTMENTS LLC       WEST RIDGE 2020-12-17 2023-01-15\n1              ELIAS A. KANELLOPOULOS  NEAR NORTH SIDE 2008-04-14 2023-03-15\n2          Silverwolf Productions LLC     LINCOLN PARK 2022-05-11 2024-05-15\n3                   MOVING UNITS INC.      ALBANY PARK 2021-11-17 2024-06-15\n4                         DANIELLE TO       BRIDGEPORT 2022-05-11 2023-10-15\n...                               ...              ...        ...        ...\n81550  MARIA ALEJANDRA ARIAS ALCANTAR     CHICAGO LAWN 2017-04-07 2019-04-15\n81551   Ezza Nails - 26 S Halsted LLC   NEAR WEST SIDE 2019-11-01 2021-11-15\n81552                     AMEPOL INC.          DUNNING 2022-10-28 2024-11-15\n81553           UNIQUEPRINTZ69 L.L.C.     CHICAGO LAWN 2021-11-16 2023-12-15\n81554              BARK CHICAGO, INC.        WEST TOWN 2013-10-31 2015-11-15\n\n[81555 rows x 4 columns]",
            "text/html": "<div>\n<style scoped>\n    .dataframe tbody tr th:only-of-type {\n        vertical-align: middle;\n    }\n\n    .dataframe tbody tr th {\n        vertical-align: top;\n    }\n\n    .dataframe thead th {\n        text-align: right;\n    }\n</style>\n<table border=\"1\" class=\"dataframe\">\n  <thead>\n    <tr style=\"text-align: right;\">\n      <th></th>\n      <th>LEGAL_NAME</th>\n      <th>Com_Name</th>\n      <th>start</th>\n      <th>end</th>\n    </tr>\n  </thead>\n  <tbody>\n    <tr>\n      <th>0</th>\n      <td>JYM INVESTMENTS LLC</td>\n      <td>WEST RIDGE</td>\n      <td>2020-12-17</td>\n      <td>2023-01-15</td>\n    </tr>\n    <tr>\n      <th>1</th>\n      <td>ELIAS A. KANELLOPOULOS</td>\n      <td>NEAR NORTH SIDE</td>\n      <td>2008-04-14</td>\n      <td>2023-03-15</td>\n    </tr>\n    <tr>\n      <th>2</th>\n      <td>Silverwolf Productions LLC</td>\n      <td>LINCOLN PARK</td>\n      <td>2022-05-11</td>\n      <td>2024-05-15</td>\n    </tr>\n    <tr>\n      <th>3</th>\n      <td>MOVING UNITS INC.</td>\n      <td>ALBANY PARK</td>\n      <td>2021-11-17</td>\n      <td>2024-06-15</td>\n    </tr>\n    <tr>\n      <th>4</th>\n      <td>DANIELLE TO</td>\n      <td>BRIDGEPORT</td>\n      <td>2022-05-11</td>\n      <td>2023-10-15</td>\n    </tr>\n    <tr>\n      <th>...</th>\n      <td>...</td>\n      <td>...</td>\n      <td>...</td>\n      <td>...</td>\n    </tr>\n    <tr>\n      <th>81550</th>\n      <td>MARIA ALEJANDRA ARIAS ALCANTAR</td>\n      <td>CHICAGO LAWN</td>\n      <td>2017-04-07</td>\n      <td>2019-04-15</td>\n    </tr>\n    <tr>\n      <th>81551</th>\n      <td>Ezza Nails - 26 S Halsted LLC</td>\n      <td>NEAR WEST SIDE</td>\n      <td>2019-11-01</td>\n      <td>2021-11-15</td>\n    </tr>\n    <tr>\n      <th>81552</th>\n      <td>AMEPOL INC.</td>\n      <td>DUNNING</td>\n      <td>2022-10-28</td>\n      <td>2024-11-15</td>\n    </tr>\n    <tr>\n      <th>81553</th>\n      <td>UNIQUEPRINTZ69 L.L.C.</td>\n      <td>CHICAGO LAWN</td>\n      <td>2021-11-16</td>\n      <td>2023-12-15</td>\n    </tr>\n    <tr>\n      <th>81554</th>\n      <td>BARK CHICAGO, INC.</td>\n      <td>WEST TOWN</td>\n      <td>2013-10-31</td>\n      <td>2015-11-15</td>\n    </tr>\n  </tbody>\n</table>\n<p>81555 rows × 4 columns</p>\n</div>"
          },
          "metadata": {}
        }
      ],
      "outputs_reference": null,
      "execution_count": null,
      "block_group": "c287b2532bba446496e53f44ba0947c0",
      "content_dependencies": null
    },
    {
      "cell_type": "code",
      "source": "def plot_active_businesses_by_year_near_tif(tif_name, years, tif_approval_date, colors=['violet', 'black', 'orange'], smallOriginalDf=small_name_commumity, mediumOriginalDf=medium_name_commumity, bigOriginalDf=big_name_commumity):\n    intersecting_areas = intersections_data[tif_name]\n    small_businesses_by_years = [0 for _ in years]\n    medium_businesses_by_years= small_businesses_by_years.copy()\n    big_businesses_by_years = small_businesses_by_years.copy()\n    \n    for community_area in intersecting_areas:\n\n        # process the earliest start and latest end year for small businesses\n        smallDf = smallOriginalDf[smallOriginalDf['Com_Name'] == community_area]\n        smallDf.loc[:, 'start_year'] = smallDf['start'].dt.year\n        smallDf.loc[:, 'end_year'] = smallDf['end'].dt.year\n\n        # process the earliest start and latest end year for medium businesses\n        mediumDf = mediumOriginalDf[mediumOriginalDf['Com_Name'] == community_area]\n        mediumDf.loc[:, 'start_year'] = mediumDf['start'].dt.year\n        mediumDf.loc[:, 'end_year'] = mediumDf['end'].dt.year\n\n        # process the earliest start and latest end year for big businesses\n        bigDf = bigOriginalDf[bigOriginalDf['Com_Name'] == community_area]\n        bigDf.loc[:, 'start_year'] = bigDf['start'].dt.year\n        bigDf.loc[:, 'end_year'] = bigDf['end'].dt.year\n\n        for index, year in enumerate(years):\n            population = get_population_by_year(year)\n            small_businesses_by_years[index] += (((smallDf['start_year'] <= year) & (smallDf['end_year'] >= year)).sum()) / population\n            medium_businesses_by_years[index] += (((mediumDf['start_year'] <= year) & (mediumDf['end_year'] >= year)).sum()) / population\n            big_businesses_by_years[index] += (((bigDf['start_year'] <= year) & (bigDf['end_year'] >= year)).sum()) / population\n    \n    fig, ax = plt.subplots(figsize=(40, 20))\n    bar_width = 0.25\n\n    # Adjust the positions for each category\n    years_shifted = np.arange(len(years))\n    years_shifted_small = years_shifted - bar_width\n    years_shifted_medium = years_shifted\n    years_shifted_big = years_shifted + bar_width\n\n    # Plotting the bars\n    plt.bar(years_shifted_small, small_businesses_by_years, width=bar_width, color=colors[0], label='No Chain')\n    plt.bar(years_shifted_medium, medium_businesses_by_years, width=bar_width, color=colors[1], label='Local Chain')\n    plt.bar(years_shifted_big, big_businesses_by_years, width=bar_width, color=colors[2], label='National Chain')\n\n    # Additional plot settings\n    if tif_approval_date in list(years):\n        plt.axvline(x=list(years).index(tif_approval_date) + .5, color='red', linestyle='-', linewidth=3.0)  # Just as an example, adjust as needed\n    \n    plt.xlabel('Year')\n    plt.ylabel('Number of Active Businesses')\n    plt.title('Number of Active Businesses Each Year in Community Districts near ' + tif_name)\n    plt.xticks(years_shifted, years)\n    plt.legend(fontsize='large')\n    plt.show()",
      "metadata": {
        "source_hash": null,
        "execution_start": 1714170741400,
        "execution_millis": 146,
        "deepnote_to_be_reexecuted": false,
        "cell_id": "791b1dc8015241cf9470f5cd56eb29d7",
        "deepnote_cell_type": "code"
      },
      "outputs": [],
      "outputs_reference": null,
      "execution_count": null,
      "block_group": "93b66ab11e364b2fa0109c9edb6941bb",
      "content_dependencies": null
    },
    {
      "cell_type": "code",
      "source": "import json\n\n# Assuming your JSON file is named \"data.json\"\nwith open('intersections.json', 'r') as json_file:\n    data = json.load(json_file)",
      "metadata": {
        "source_hash": null,
        "execution_start": 1714170741406,
        "execution_millis": 141,
        "deepnote_to_be_reexecuted": false,
        "cell_id": "c6faae71140a4ac69701bfa374f133bf",
        "deepnote_cell_type": "code"
      },
      "outputs": [],
      "outputs_reference": null,
      "execution_count": null,
      "block_group": "5e9b35d3832a49cba89158ab5f20b986",
      "content_dependencies": null
    },
    {
      "cell_type": "code",
      "source": "\", \".join(project_info['Bronzeville'][2012])\n",
      "metadata": {
        "source_hash": null,
        "execution_start": 1714170741514,
        "execution_millis": 69,
        "deepnote_to_be_reexecuted": false,
        "cell_id": "6b3d34205d504a1eb28a7401e46aed4d",
        "deepnote_cell_type": "code"
      },
      "outputs": [
        {
          "output_type": "execute_result",
          "execution_count": 12,
          "data": {
            "text/plain": "'SBIF, NIF 2, TIF Works'"
          },
          "metadata": {}
        }
      ],
      "outputs_reference": null,
      "execution_count": null,
      "block_group": "b4fc97af0a554bd8b24aab08458f50a1",
      "content_dependencies": null
    },
    {
      "cell_type": "code",
      "source": "def plot_percent_of_businesses_changed_by_year(district_name, small_business_counts, medium_business_counts, big_business_counts, years, colors=['blue', 'green', 'red']):\n    businesses_change = []\n    total_businesses = []\n    for i in range(len(small_business_counts)):\n        total_businesses.append(small_business_counts[i]+medium_business_counts[i]+big_business_counts[i])\n\n    # remove the first few years because we dont have too much data from there so we just start from 2003\n    first_year = list(years)[0]\n    difference = 1\n    if first_year < 2003:\n        difference = 2003 - first_year\n        first_year = 2003\n    for index in range(difference, len(small_business_counts)):\n        businesses_change.append((total_businesses[index] - total_businesses[index-1]) / total_businesses[index-1])\n        \n    years = range(first_year, 2024, 1)\n\n    fig, ax = plt.subplots(figsize=(40, 20))\n    bar_width = 0.25\n\n    # Adjust the positions for each category\n    years_shifted = np.arange(len(years))\n\n    # Plotting the bars\n    plt.bar(years_shifted, businesses_change, width=bar_width, color=colors[0], label='No Chain')\n    \n    plt.xlabel('Year')\n    plt.ylabel('Percent increase of Active Businesses')\n    plt.title('Percent increase of Active Businesses Each Year in ' + district_name)\n    plt.xticks(years_shifted, years)\n    plt.legend(fontsize='large')\n    plt.show()\n    \n",
      "metadata": {
        "source_hash": null,
        "execution_start": 1714170741516,
        "execution_millis": 67,
        "deepnote_to_be_reexecuted": false,
        "cell_id": "a0dead2e0d384ee6a053d544ba686c70",
        "deepnote_cell_type": "code"
      },
      "outputs": [],
      "outputs_reference": null,
      "execution_count": null,
      "block_group": "30eaaec34dca4e7cbb5bd5f62152d897",
      "content_dependencies": null
    },
    {
      "cell_type": "code",
      "source": "def plot_active_businesses_by_year_by_tif(tif_name, colors=['blue', 'green', 'red'], smallOriginalDf=small_TIF_businesses, mediumOriginalDf=medium_TIF_businesses, bigOriginalDf=big_TIF_businesses):\n    \n\n    # process the earliest start and latest end year for small businesses\n    smallDf = smallOriginalDf[smallOriginalDf['name'] == tif_name]\n    smallDf.loc[:, 'start_year'] = smallDf['start'].dt.year\n    smallDf.loc[:, 'end_year'] = smallDf['end'].dt.year\n    earliest_small_year = smallDf['start_year'].min()\n\n    # process the earliest start and latest end year for medium businesses\n    mediumDf = mediumOriginalDf[mediumOriginalDf['name'] == tif_name]\n    mediumDf.loc[:, 'start_year'] = mediumDf['start'].dt.year\n    mediumDf.loc[:, 'end_year'] = mediumDf['end'].dt.year\n    earliest_medium_year = mediumDf['start_year'].min()\n\n    # process the earliest start and latest end year for big businesses\n    bigDf = bigOriginalDf[bigOriginalDf['name'] == tif_name]\n    bigDf.loc[:, 'start_year'] = bigDf['start'].dt.year\n    bigDf.loc[:, 'end_year'] = bigDf['end'].dt.year\n    earliest_big_year = bigDf['start_year'].min()\n    \n    \n    tif_approval_date = smallDf['approval_d'].iloc[0].year\n\n    years = range(int(min(earliest_small_year, earliest_medium_year, earliest_big_year)), 2024, 1)\n\n    small_business_active_counts = []\n    medium_business_active_counts = []\n    big_business_active_counts = []\n\n    for year in years:\n        population = get_population_by_year(year)\n        # print(population)\n        # print((((smallDf['start_year'] <= year) & (smallDf['end_year'] >= year)).sum()))\n        small_business_active_counts.append((((smallDf['start_year'] <= year) & (smallDf['end_year'] >= year)).sum()) / population)\n        medium_business_active_counts.append((((mediumDf['start_year'] <= year) & (mediumDf['end_year'] >= year)).sum()) / population)\n        big_business_active_counts.append((((bigDf['start_year'] <= year) & (bigDf['end_year'] >= year)).sum()) / population)\n\n    fig, ax = plt.subplots(figsize=(40, 20))\n    bar_width = 0.25\n\n    # Adjust the positions for each category\n    years_shifted = np.arange(len(years))\n    years_shifted_small = years_shifted - bar_width\n    years_shifted_medium = years_shifted\n    years_shifted_big = years_shifted + bar_width\n\n    # Plotting the bars\n    plt.bar(years_shifted_small, small_business_active_counts, width=bar_width, color=colors[0], label='No Chain')\n    plt.bar(years_shifted_medium, medium_business_active_counts, width=bar_width, color=colors[1], label='Local Chain')\n    plt.bar(years_shifted_big, big_business_active_counts, width=bar_width, color=colors[2], label='National Chain')\n\n    # Additional plot settings\n    if tif_approval_date in list(years):\n        plt.axvline(x=list(years).index(tif_approval_date) + .5, color='red', linestyle='-', linewidth=3.0, label='TIF Approval Date')  # Just as an example, adjust as needed\n    \n        if tif_name in project_info.keys():\n            line_colors = plt.cm.tab10(range(len(project_info[tif_name].keys())))\n            \n            for k, key in enumerate(project_info[tif_name].keys()):\n                plt.axvline(x=list(years).index(key) + .5, color=line_colors[k], linestyle='--', linewidth=3.0, label=\", \".join(project_info[tif_name][key]))  # Just as an example, adjust as needed\n\n    plt.xlabel('Year')\n    plt.ylabel('Number of Active Businesses')\n    plt.title('Number of Active Businesses Each Year in ' + tif_name)\n    plt.xticks(years_shifted, years)\n    plt.legend(fontsize='large')\n    plt.show()\n\n    plot_percent_of_businesses_changed_by_year(tif_name, small_business_active_counts, medium_business_active_counts, big_business_active_counts, years)\n    plot_active_businesses_by_year_near_tif(tif_name, years, tif_approval_date)\n\n\n\nplot_active_businesses_by_year_by_tif('Washington Park')\n\n\n\n\n#116th/Avenue O idk data look weird\n\n# for project dates\n# goose island \n\n# Little Village Industrial Corridor\n# Foster/Edens\n# Little Village East\n# Stevenson/Brighton\n# Red and Purple Modernization Phase One Project",
      "metadata": {
        "source_hash": null,
        "execution_start": 1714170741550,
        "execution_millis": 3146,
        "deepnote_to_be_reexecuted": false,
        "cell_id": "73a7c04cff56485585e9b0b63a413b06",
        "deepnote_cell_type": "code"
      },
      "outputs": [
        {
          "name": "stderr",
          "text": "/tmp/ipykernel_102/2588550759.py:6: SettingWithCopyWarning: \nA value is trying to be set on a copy of a slice from a DataFrame.\nTry using .loc[row_indexer,col_indexer] = value instead\n\nSee the caveats in the documentation: https://pandas.pydata.org/pandas-docs/stable/user_guide/indexing.html#returning-a-view-versus-a-copy\n  smallDf.loc[:, 'start_year'] = smallDf['start'].dt.year\n/tmp/ipykernel_102/2588550759.py:7: SettingWithCopyWarning: \nA value is trying to be set on a copy of a slice from a DataFrame.\nTry using .loc[row_indexer,col_indexer] = value instead\n\nSee the caveats in the documentation: https://pandas.pydata.org/pandas-docs/stable/user_guide/indexing.html#returning-a-view-versus-a-copy\n  smallDf.loc[:, 'end_year'] = smallDf['end'].dt.year\n/tmp/ipykernel_102/2588550759.py:12: SettingWithCopyWarning: \nA value is trying to be set on a copy of a slice from a DataFrame.\nTry using .loc[row_indexer,col_indexer] = value instead\n\nSee the caveats in the documentation: https://pandas.pydata.org/pandas-docs/stable/user_guide/indexing.html#returning-a-view-versus-a-copy\n  mediumDf.loc[:, 'start_year'] = mediumDf['start'].dt.year\n/tmp/ipykernel_102/2588550759.py:13: SettingWithCopyWarning: \nA value is trying to be set on a copy of a slice from a DataFrame.\nTry using .loc[row_indexer,col_indexer] = value instead\n\nSee the caveats in the documentation: https://pandas.pydata.org/pandas-docs/stable/user_guide/indexing.html#returning-a-view-versus-a-copy\n  mediumDf.loc[:, 'end_year'] = mediumDf['end'].dt.year\n/tmp/ipykernel_102/2588550759.py:18: SettingWithCopyWarning: \nA value is trying to be set on a copy of a slice from a DataFrame.\nTry using .loc[row_indexer,col_indexer] = value instead\n\nSee the caveats in the documentation: https://pandas.pydata.org/pandas-docs/stable/user_guide/indexing.html#returning-a-view-versus-a-copy\n  bigDf.loc[:, 'start_year'] = bigDf['start'].dt.year\n/tmp/ipykernel_102/2588550759.py:19: SettingWithCopyWarning: \nA value is trying to be set on a copy of a slice from a DataFrame.\nTry using .loc[row_indexer,col_indexer] = value instead\n\nSee the caveats in the documentation: https://pandas.pydata.org/pandas-docs/stable/user_guide/indexing.html#returning-a-view-versus-a-copy\n  bigDf.loc[:, 'end_year'] = bigDf['end'].dt.year\n",
          "output_type": "stream"
        },
        {
          "data": {
            "text/plain": "<Figure size 4000x2000 with 1 Axes>",
            "image/png": "[encoded data removed]"
          },
          "metadata": {
            "image/png": {
              "width": 3171,
              "height": 1625
            }
          },
          "output_type": "display_data"
        },
        {
          "data": {
            "text/plain": "<Figure size 4000x2000 with 1 Axes>",
            "image/png": "[encoded data removed]"
          },
          "metadata": {
            "image/png": {
              "width": 3191,
              "height": 1625
            }
          },
          "output_type": "display_data"
        },
        {
          "name": "stderr",
          "text": "/tmp/ipykernel_102/2184267457.py:11: SettingWithCopyWarning: \nA value is trying to be set on a copy of a slice from a DataFrame.\nTry using .loc[row_indexer,col_indexer] = value instead\n\nSee the caveats in the documentation: https://pandas.pydata.org/pandas-docs/stable/user_guide/indexing.html#returning-a-view-versus-a-copy\n  smallDf.loc[:, 'start_year'] = smallDf['start'].dt.year\n/tmp/ipykernel_102/2184267457.py:12: SettingWithCopyWarning: \nA value is trying to be set on a copy of a slice from a DataFrame.\nTry using .loc[row_indexer,col_indexer] = value instead\n\nSee the caveats in the documentation: https://pandas.pydata.org/pandas-docs/stable/user_guide/indexing.html#returning-a-view-versus-a-copy\n  smallDf.loc[:, 'end_year'] = smallDf['end'].dt.year\n/tmp/ipykernel_102/2184267457.py:16: SettingWithCopyWarning: \nA value is trying to be set on a copy of a slice from a DataFrame.\nTry using .loc[row_indexer,col_indexer] = value instead\n\nSee the caveats in the documentation: https://pandas.pydata.org/pandas-docs/stable/user_guide/indexing.html#returning-a-view-versus-a-copy\n  mediumDf.loc[:, 'start_year'] = mediumDf['start'].dt.year\n/tmp/ipykernel_102/2184267457.py:17: SettingWithCopyWarning: \nA value is trying to be set on a copy of a slice from a DataFrame.\nTry using .loc[row_indexer,col_indexer] = value instead\n\nSee the caveats in the documentation: https://pandas.pydata.org/pandas-docs/stable/user_guide/indexing.html#returning-a-view-versus-a-copy\n  mediumDf.loc[:, 'end_year'] = mediumDf['end'].dt.year\n/tmp/ipykernel_102/2184267457.py:21: SettingWithCopyWarning: \nA value is trying to be set on a copy of a slice from a DataFrame.\nTry using .loc[row_indexer,col_indexer] = value instead\n\nSee the caveats in the documentation: https://pandas.pydata.org/pandas-docs/stable/user_guide/indexing.html#returning-a-view-versus-a-copy\n  bigDf.loc[:, 'start_year'] = bigDf['start'].dt.year\n/tmp/ipykernel_102/2184267457.py:22: SettingWithCopyWarning: \nA value is trying to be set on a copy of a slice from a DataFrame.\nTry using .loc[row_indexer,col_indexer] = value instead\n\nSee the caveats in the documentation: https://pandas.pydata.org/pandas-docs/stable/user_guide/indexing.html#returning-a-view-versus-a-copy\n  bigDf.loc[:, 'end_year'] = bigDf['end'].dt.year\n/tmp/ipykernel_102/2184267457.py:11: SettingWithCopyWarning: \nA value is trying to be set on a copy of a slice from a DataFrame.\nTry using .loc[row_indexer,col_indexer] = value instead\n\nSee the caveats in the documentation: https://pandas.pydata.org/pandas-docs/stable/user_guide/indexing.html#returning-a-view-versus-a-copy\n  smallDf.loc[:, 'start_year'] = smallDf['start'].dt.year\n/tmp/ipykernel_102/2184267457.py:12: SettingWithCopyWarning: \nA value is trying to be set on a copy of a slice from a DataFrame.\nTry using .loc[row_indexer,col_indexer] = value instead\n\nSee the caveats in the documentation: https://pandas.pydata.org/pandas-docs/stable/user_guide/indexing.html#returning-a-view-versus-a-copy\n  smallDf.loc[:, 'end_year'] = smallDf['end'].dt.year\n/tmp/ipykernel_102/2184267457.py:16: SettingWithCopyWarning: \nA value is trying to be set on a copy of a slice from a DataFrame.\nTry using .loc[row_indexer,col_indexer] = value instead\n\nSee the caveats in the documentation: https://pandas.pydata.org/pandas-docs/stable/user_guide/indexing.html#returning-a-view-versus-a-copy\n  mediumDf.loc[:, 'start_year'] = mediumDf['start'].dt.year\n/tmp/ipykernel_102/2184267457.py:17: SettingWithCopyWarning: \nA value is trying to be set on a copy of a slice from a DataFrame.\nTry using .loc[row_indexer,col_indexer] = value instead\n\nSee the caveats in the documentation: https://pandas.pydata.org/pandas-docs/stable/user_guide/indexing.html#returning-a-view-versus-a-copy\n  mediumDf.loc[:, 'end_year'] = mediumDf['end'].dt.year\n/tmp/ipykernel_102/2184267457.py:21: SettingWithCopyWarning: \nA value is trying to be set on a copy of a slice from a DataFrame.\nTry using .loc[row_indexer,col_indexer] = value instead\n\nSee the caveats in the documentation: https://pandas.pydata.org/pandas-docs/stable/user_guide/indexing.html#returning-a-view-versus-a-copy\n  bigDf.loc[:, 'start_year'] = bigDf['start'].dt.year\n/tmp/ipykernel_102/2184267457.py:22: SettingWithCopyWarning: \nA value is trying to be set on a copy of a slice from a DataFrame.\nTry using .loc[row_indexer,col_indexer] = value instead\n\nSee the caveats in the documentation: https://pandas.pydata.org/pandas-docs/stable/user_guide/indexing.html#returning-a-view-versus-a-copy\n  bigDf.loc[:, 'end_year'] = bigDf['end'].dt.year\n/tmp/ipykernel_102/2184267457.py:11: SettingWithCopyWarning: \nA value is trying to be set on a copy of a slice from a DataFrame.\nTry using .loc[row_indexer,col_indexer] = value instead\n\nSee the caveats in the documentation: https://pandas.pydata.org/pandas-docs/stable/user_guide/indexing.html#returning-a-view-versus-a-copy\n  smallDf.loc[:, 'start_year'] = smallDf['start'].dt.year\n/tmp/ipykernel_102/2184267457.py:12: SettingWithCopyWarning: \nA value is trying to be set on a copy of a slice from a DataFrame.\nTry using .loc[row_indexer,col_indexer] = value instead\n\nSee the caveats in the documentation: https://pandas.pydata.org/pandas-docs/stable/user_guide/indexing.html#returning-a-view-versus-a-copy\n  smallDf.loc[:, 'end_year'] = smallDf['end'].dt.year\n/tmp/ipykernel_102/2184267457.py:16: SettingWithCopyWarning: \nA value is trying to be set on a copy of a slice from a DataFrame.\nTry using .loc[row_indexer,col_indexer] = value instead\n\nSee the caveats in the documentation: https://pandas.pydata.org/pandas-docs/stable/user_guide/indexing.html#returning-a-view-versus-a-copy\n  mediumDf.loc[:, 'start_year'] = mediumDf['start'].dt.year\n/tmp/ipykernel_102/2184267457.py:17: SettingWithCopyWarning: \nA value is trying to be set on a copy of a slice from a DataFrame.\nTry using .loc[row_indexer,col_indexer] = value instead\n\nSee the caveats in the documentation: https://pandas.pydata.org/pandas-docs/stable/user_guide/indexing.html#returning-a-view-versus-a-copy\n  mediumDf.loc[:, 'end_year'] = mediumDf['end'].dt.year\n/tmp/ipykernel_102/2184267457.py:21: SettingWithCopyWarning: \nA value is trying to be set on a copy of a slice from a DataFrame.\nTry using .loc[row_indexer,col_indexer] = value instead\n\nSee the caveats in the documentation: https://pandas.pydata.org/pandas-docs/stable/user_guide/indexing.html#returning-a-view-versus-a-copy\n  bigDf.loc[:, 'start_year'] = bigDf['start'].dt.year\n/tmp/ipykernel_102/2184267457.py:22: SettingWithCopyWarning: \nA value is trying to be set on a copy of a slice from a DataFrame.\nTry using .loc[row_indexer,col_indexer] = value instead\n\nSee the caveats in the documentation: https://pandas.pydata.org/pandas-docs/stable/user_guide/indexing.html#returning-a-view-versus-a-copy\n  bigDf.loc[:, 'end_year'] = bigDf['end'].dt.year\n/tmp/ipykernel_102/2184267457.py:11: SettingWithCopyWarning: \nA value is trying to be set on a copy of a slice from a DataFrame.\nTry using .loc[row_indexer,col_indexer] = value instead\n\nSee the caveats in the documentation: https://pandas.pydata.org/pandas-docs/stable/user_guide/indexing.html#returning-a-view-versus-a-copy\n  smallDf.loc[:, 'start_year'] = smallDf['start'].dt.year\n/tmp/ipykernel_102/2184267457.py:12: SettingWithCopyWarning: \nA value is trying to be set on a copy of a slice from a DataFrame.\nTry using .loc[row_indexer,col_indexer] = value instead\n\nSee the caveats in the documentation: https://pandas.pydata.org/pandas-docs/stable/user_guide/indexing.html#returning-a-view-versus-a-copy\n  smallDf.loc[:, 'end_year'] = smallDf['end'].dt.year\n/tmp/ipykernel_102/2184267457.py:16: SettingWithCopyWarning: \nA value is trying to be set on a copy of a slice from a DataFrame.\nTry using .loc[row_indexer,col_indexer] = value instead\n\nSee the caveats in the documentation: https://pandas.pydata.org/pandas-docs/stable/user_guide/indexing.html#returning-a-view-versus-a-copy\n  mediumDf.loc[:, 'start_year'] = mediumDf['start'].dt.year\n/tmp/ipykernel_102/2184267457.py:17: SettingWithCopyWarning: \nA value is trying to be set on a copy of a slice from a DataFrame.\nTry using .loc[row_indexer,col_indexer] = value instead\n\nSee the caveats in the documentation: https://pandas.pydata.org/pandas-docs/stable/user_guide/indexing.html#returning-a-view-versus-a-copy\n  mediumDf.loc[:, 'end_year'] = mediumDf['end'].dt.year\n/tmp/ipykernel_102/2184267457.py:21: SettingWithCopyWarning: \nA value is trying to be set on a copy of a slice from a DataFrame.\nTry using .loc[row_indexer,col_indexer] = value instead\n\nSee the caveats in the documentation: https://pandas.pydata.org/pandas-docs/stable/user_guide/indexing.html#returning-a-view-versus-a-copy\n  bigDf.loc[:, 'start_year'] = bigDf['start'].dt.year\n/tmp/ipykernel_102/2184267457.py:22: SettingWithCopyWarning: \nA value is trying to be set on a copy of a slice from a DataFrame.\nTry using .loc[row_indexer,col_indexer] = value instead\n\nSee the caveats in the documentation: https://pandas.pydata.org/pandas-docs/stable/user_guide/indexing.html#returning-a-view-versus-a-copy\n  bigDf.loc[:, 'end_year'] = bigDf['end'].dt.year\n/tmp/ipykernel_102/2184267457.py:11: SettingWithCopyWarning: \nA value is trying to be set on a copy of a slice from a DataFrame.\nTry using .loc[row_indexer,col_indexer] = value instead\n\nSee the caveats in the documentation: https://pandas.pydata.org/pandas-docs/stable/user_guide/indexing.html#returning-a-view-versus-a-copy\n  smallDf.loc[:, 'start_year'] = smallDf['start'].dt.year\n/tmp/ipykernel_102/2184267457.py:12: SettingWithCopyWarning: \nA value is trying to be set on a copy of a slice from a DataFrame.\nTry using .loc[row_indexer,col_indexer] = value instead\n\nSee the caveats in the documentation: https://pandas.pydata.org/pandas-docs/stable/user_guide/indexing.html#returning-a-view-versus-a-copy\n  smallDf.loc[:, 'end_year'] = smallDf['end'].dt.year\n/tmp/ipykernel_102/2184267457.py:16: SettingWithCopyWarning: \nA value is trying to be set on a copy of a slice from a DataFrame.\nTry using .loc[row_indexer,col_indexer] = value instead\n\nSee the caveats in the documentation: https://pandas.pydata.org/pandas-docs/stable/user_guide/indexing.html#returning-a-view-versus-a-copy\n  mediumDf.loc[:, 'start_year'] = mediumDf['start'].dt.year\n/tmp/ipykernel_102/2184267457.py:17: SettingWithCopyWarning: \nA value is trying to be set on a copy of a slice from a DataFrame.\nTry using .loc[row_indexer,col_indexer] = value instead\n\nSee the caveats in the documentation: https://pandas.pydata.org/pandas-docs/stable/user_guide/indexing.html#returning-a-view-versus-a-copy\n  mediumDf.loc[:, 'end_year'] = mediumDf['end'].dt.year\n/tmp/ipykernel_102/2184267457.py:21: SettingWithCopyWarning: \nA value is trying to be set on a copy of a slice from a DataFrame.\nTry using .loc[row_indexer,col_indexer] = value instead\n\nSee the caveats in the documentation: https://pandas.pydata.org/pandas-docs/stable/user_guide/indexing.html#returning-a-view-versus-a-copy\n  bigDf.loc[:, 'start_year'] = bigDf['start'].dt.year\n/tmp/ipykernel_102/2184267457.py:22: SettingWithCopyWarning: \nA value is trying to be set on a copy of a slice from a DataFrame.\nTry using .loc[row_indexer,col_indexer] = value instead\n\nSee the caveats in the documentation: https://pandas.pydata.org/pandas-docs/stable/user_guide/indexing.html#returning-a-view-versus-a-copy\n  bigDf.loc[:, 'end_year'] = bigDf['end'].dt.year\n/tmp/ipykernel_102/2184267457.py:11: SettingWithCopyWarning: \nA value is trying to be set on a copy of a slice from a DataFrame.\nTry using .loc[row_indexer,col_indexer] = value instead\n\nSee the caveats in the documentation: https://pandas.pydata.org/pandas-docs/stable/user_guide/indexing.html#returning-a-view-versus-a-copy\n  smallDf.loc[:, 'start_year'] = smallDf['start'].dt.year\n/tmp/ipykernel_102/2184267457.py:12: SettingWithCopyWarning: \nA value is trying to be set on a copy of a slice from a DataFrame.\nTry using .loc[row_indexer,col_indexer] = value instead\n\nSee the caveats in the documentation: https://pandas.pydata.org/pandas-docs/stable/user_guide/indexing.html#returning-a-view-versus-a-copy\n  smallDf.loc[:, 'end_year'] = smallDf['end'].dt.year\n/tmp/ipykernel_102/2184267457.py:16: SettingWithCopyWarning: \nA value is trying to be set on a copy of a slice from a DataFrame.\nTry using .loc[row_indexer,col_indexer] = value instead\n\nSee the caveats in the documentation: https://pandas.pydata.org/pandas-docs/stable/user_guide/indexing.html#returning-a-view-versus-a-copy\n  mediumDf.loc[:, 'start_year'] = mediumDf['start'].dt.year\n/tmp/ipykernel_102/2184267457.py:17: SettingWithCopyWarning: \nA value is trying to be set on a copy of a slice from a DataFrame.\nTry using .loc[row_indexer,col_indexer] = value instead\n\nSee the caveats in the documentation: https://pandas.pydata.org/pandas-docs/stable/user_guide/indexing.html#returning-a-view-versus-a-copy\n  mediumDf.loc[:, 'end_year'] = mediumDf['end'].dt.year\n/tmp/ipykernel_102/2184267457.py:21: SettingWithCopyWarning: \nA value is trying to be set on a copy of a slice from a DataFrame.\nTry using .loc[row_indexer,col_indexer] = value instead\n\nSee the caveats in the documentation: https://pandas.pydata.org/pandas-docs/stable/user_guide/indexing.html#returning-a-view-versus-a-copy\n  bigDf.loc[:, 'start_year'] = bigDf['start'].dt.year\n/tmp/ipykernel_102/2184267457.py:22: SettingWithCopyWarning: \nA value is trying to be set on a copy of a slice from a DataFrame.\nTry using .loc[row_indexer,col_indexer] = value instead\n\nSee the caveats in the documentation: https://pandas.pydata.org/pandas-docs/stable/user_guide/indexing.html#returning-a-view-versus-a-copy\n  bigDf.loc[:, 'end_year'] = bigDf['end'].dt.year\n",
          "output_type": "stream"
        },
        {
          "data": {
            "text/plain": "<Figure size 4000x2000 with 1 Axes>",
            "image/png": "[encoded data removed]"
          },
          "metadata": {
            "image/png": {
              "width": 3215,
              "height": 1625
            }
          },
          "output_type": "display_data"
        }
      ],
      "outputs_reference": null,
      "execution_count": null,
      "block_group": "291234270b1d48a694495b1f2c6be10a",
      "content_dependencies": null
    },
    {
      "cell_type": "code",
      "source": "",
      "metadata": {
        "source_hash": null,
        "execution_start": 1714170744701,
        "execution_millis": 400,
        "deepnote_to_be_reexecuted": false,
        "cell_id": "237dc230a8994267871dcebf0835e56f",
        "deepnote_cell_type": "code"
      },
      "outputs": [],
      "outputs_reference": null,
      "execution_count": null,
      "block_group": "68d65314a2244c09bffcd83f772bf91a",
      "content_dependencies": null
    },
    {
      "cell_type": "markdown",
      "source": "<a style='text-decoration:none;line-height:16px;display:flex;color:#5B5B62;padding:10px;justify-content:end;' href='https://deepnote.com?utm_source=created-in-deepnote-cell&projectId=41bd1eeb-8ade-41a5-ae81-cf4a88f38197' target=\"_blank\">\n<img alt='Created in deepnote.com' style='display:inline;max-height:16px;margin:0px;margin-right:7.5px;' src='data:image/svg+xml;base64,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' > </img>\nCreated in <span style='font-weight:600;margin-left:4px;'>Deepnote</span></a>",
      "metadata": {
        "created_in_deepnote_cell": true,
        "deepnote_cell_type": "markdown"
      }
    }
  ],
  "nbformat": 4,
  "nbformat_minor": 0,
  "metadata": {
    "deepnote_notebook_id": "f2a08722412448bb87bfb56bab438919",
    "deepnote_execution_queue": []
  }
}