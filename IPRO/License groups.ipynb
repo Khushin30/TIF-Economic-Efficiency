{
  "cells": [
    {
      "cell_type": "markdown",
      "source": "# Adding License Groups",
      "metadata": {
        "formattedRanges": [],
        "cell_id": "40886ba74cba497098b26c460935529b",
        "deepnote_cell_type": "text-cell-h1"
      },
      "block_group": "c5eb1eb6ccfa4abdafb7c382b1c3e8ad"
    },
    {
      "cell_type": "code",
      "source": "license_dict = {\n  \"Food\": [\n    \"Retail Food Establishment\",\n    \"Tavern\",\n    \"Mobile Food License\",\n    \"Wholesale Food Establishment\",\n    \"Food - Shared Kitchen\",\n    \"Food - Shared Kitchen - Supplemental\",\n    \"Pop-Up Food Est. User - Tier I\",\n    \"Pop-Up Food Est. User - Tier II\",\n    \"Pop-Up Food Est. User - Tier III\",\n    \"Mobile Food Dispenser\",\n    \"Produce Merchant\",\n    \"Retail Food - Seasonal Lakefront Food Establishment\",\n    \"Navy Pier Vendor (Food) 30 Day\",\n    \"Navy Pier Vendor (Food)\",\n    'Special Event Food',\n    'Shared Kitchen User (Short Term)',\n    'Shared Kitchen User (Long Term)',\n    'Mobile Frozen Desserts Dispenser - Non-Motorized',\n  ],\n  \"Liquor\": [\n    \"Caterer's Liquor License\",\n    \"Special Event Liquor\",\n    \"Riverwalk Venue Liquor License\",\n    \"Liquor Airport Pushcart License\",\n    \"Airport Pushcart Liquor O'Hare - Class A\",\n    'Airport Pushcart Liquor Midway - Class A',\n  ],\n  \"Entertainment\": [\n    \"Public Place of Amusement\",\n    \"Music and Dance\",\n    \"Indoor Special Event\",\n    \"Outdoor Entertainment Venue\",\n    \"Performing Arts Venue\",\n    \"Public Place of Amusement-TCC\",\n    \"Children's Activities Facilities\",\n    \"Industrial Private Event Venue\",\n    'Sports Facilities Authority License',\n    \"Street Performer\", \n    'Class A - Indoor Special Event',\n    'Humane Society' # Maybe move this to Entertainment?\n  ],\n  \"Vehicles\": [\n    \"Filling Station\",\n    \"Commercial Passenger Vessel\",\n    \"Motor Vehicle Services License\",\n    \"Towing - Storage Lot\",\n    \"Towing - Tow Truck\",\n    \"Scooter Sharing License\",\n    \"Navy Pier - Mobile\",\n    \"Wrigley Field\",\n    \"Motor Vehicle Repair : Engine Only (Class II)\",\n    \"Motor Vehicle Repair: Engine/Body(Class III)\",\n    \"Motor Vehicle Repair; Specialty(Class I)\",\n    \"Taxicab Two-Way Dispatch Service License\",\n    'Tire Facility Class II (1,001 - 5,000 Tires)',\n    'Tire Facilty Class I (100 - 1,000 Tires)',\n    'Tire Facility Class III (5,001 - More Tires)',\n    'Heliports',\n    'Accessory Garage',\n  ],\n  \"Accommodation\": [\n    \"Hotel\",\n    \"Bed-And-Breakfast Establishment\",\n    \"Vacation Rental\",\n    \"Navy Pier Kiosk License\",\n    'License Manager',\n    'Transportation Network Provider',\n  ],\n  \"Retail\": [\n    \"Retail Food Est.-Supplemental License for Dog-Friendly Areas\",\n    \"Retail Computing Center\",\n    \"Secondhand Dealer\",\n    \"Secondhand Dealer (No Valuable Objects)\",\n    \"Navy Pier Vendor (Non-Food)\",\n    'Outdoor Patio',\n    'Package Goods',\n  ],\n  \"Tabacco\": [\n    'Tobacco',\n    'Tobacco Vending, Individual',\n    'Tobacco Sampler',\n    'Tobacco Dealer Wholesale',\n  ],\n  \"Personal Services\": [\n    \"Massage Establishment\",\n    \"Massage Therapist\",\n    \"Body Piercing\",\n    \"Pet Shop\",\n    \"Animal Care Facility\",\n    \"Veterinary Hospital\",\n    \"Grooming Facility\",\n    \"Kennels and Catteries\",\n  ],\n  \"Business\": [\n    \"Limited Business License\",\n    \"Regulated Business License\",\n    \"Shared Housing Unit Operator\",\n    \"Commercial Garage\",\n    \"Residential Real Estate Developer\",\n    \"Long-Term Care Facility\",\n    \"Pawnbroker\",\n    \"Laboratories\",\n    \"Broker\",\n    \"Fast-Track Business Sign Registration\",\n    \"Valet Parking Operator\",\n    \"Auctioneer\",\n    \"Day Labor Agency\",\n    \"License Broker\",\n    \"Emerging Business\",\n    'Navy Pier - Outdoor Fixed',\n  ],\n  \"Special\": [\n    \"Consumption on Premises - Incidental Activity\",\n    \"Pop-Up Retail User\",\n    'Pop-Up Establishment Host - Tier II',\n    \"Peddler License\",\n    \"Peddler, non-food\",\n    \"Peddler, non-food, special\",\n    \"Peddler,food - (fruits and vegetables only) - special\",\n    \"Peddler, food (fruits and vegtables only)\",\n    \"Itinerant Merchant, Class I\",\n    \"Itinerant Merchant, Class II\",\n    \"Raffles\",\n    \"Late Hour\",\n    \"Home Occupation\",\n    \"Animal Care License\",\n    \"Home Repair\",\n    \"Hazardous Materials\",\n    \"Private Booting Registration\",\n    \"Private Booting Operation\",\n    \"Scavenger, Private\",\n    \"Junk Peddler\",\n    \"Single Room Occupancy Class I\",\n    \"Single Room Occupancy Class II\",\n    \"Weapons Dealer\",\n    \"Animal Exhibition\",\n    \"Expediter - Class B\",\n    \"Expediter - Class A\",\n    \"Expediter - Class B Employee\",\n    \"Repossessor Class B Employee\",\n    \"Night Care Privilege\",\n    \"Board-Up Work\",\n    \"Bicycle Messenger Service\",\n    \"Explosives\",\n    \"Explosives, Certificate of Fitness\",\n    \"Guard Dog Service\",\n    \"Secondhand Dealer - Children's Products\",\n    'Pop-Up Establishment Host - Tier III',\n    'Manufacturing Establishments',\n  ],\n  \"Permits\": [\n    \"Day Care Center 2 - 6 Years\",\n    \"Day Care Center Under 2 Years\",\n    \"Day Care Center Under 2 and 2 - 6 Years\",\n    \"Children's Services Facility License\",\n    'Assisted Living/Shared Housing Establishment',\n  ],\n  \"Medical\": [\n    \"Hospital\",\n    \"Nursing Home\",\n  ],\n  \"Electronic\": [\n    \"Electronic Equipment Repair\",\n    \"Tobacco Vending Machine Operator\",\n  ],\n  \"Other\": [\n    \"Not-For-Profit Club\",\n    \"Affiliation\",\n    \"Laundry, Late Hour\",\n    \"Automatic Amusement Device Operator\",\n    'Repossessor Class A',\n    'Repossessor Class B',\n    \"Marine\",  # Consider creating a new category for marine-related licenses\n  ],\n}",
      "metadata": {
        "source_hash": null,
        "execution_start": 1714081473881,
        "execution_millis": 54,
        "deepnote_to_be_reexecuted": false,
        "cell_id": "c94500367797407ea483b8c975795712",
        "deepnote_cell_type": "code"
      },
      "outputs": [],
      "outputs_reference": null,
      "execution_count": null,
      "block_group": "1409d367c40243e2b09bac821ab83897",
      "content_dependencies": null
    },
    {
      "cell_type": "code",
      "source": "arr = ['Limited Business License',\n 'Retail Food Establishment',\n 'Tavern',\n 'Filling Station',\n 'Regulated Business License',\n 'Public Place of Amusement',\n 'Shared Housing Unit Operator',\n 'Tobacco',\n 'Consumption on Premises - Incidental Activity',\n 'Pop-Up Retail User',\n \"Caterer's Liquor License\",\n \"Children's Services Facility License\",\n 'Peddler License',\n 'Pop-Up Establishment Host - Tier II',\n 'Motor Vehicle Services License',\n 'Manufacturing Establishments',\n 'Peddler, non-food, special',\n 'Commercial Passenger Vessel',\n 'Package Goods',\n 'Shared Kitchen User (Long Term)',\n 'Food - Shared Kitchen - Supplemental',\n 'Mobile Food License',\n 'Outdoor Patio',\n 'Wholesale Food Establishment',\n 'Special Event Liquor',\n 'Special Event Food',\n 'Late Hour',\n 'Raffles',\n 'Indoor Special Event',\n 'Home Occupation',\n 'Animal Care License',\n 'Motor Vehicle Repair : Engine Only (Class II)',\n 'Not-For-Profit Club',\n 'Day Care Center 2 - 6 Years',\n 'Hazardous Materials',\n 'Private Booting Registration',\n 'Shared Kitchen User (Short Term)',\n 'Valet Parking Operator',\n 'Secondhand Dealer',\n 'Residential Real Estate Developer',\n 'Peddler, food (fruits and vegtables only)',\n 'Itinerant Merchant, Class I',\n 'Towing - Storage Lot',\n 'Commercial Garage',\n 'Secondhand Dealer (No Valuable Objects)',\n 'Long-Term Care Facility',\n 'Motor Vehicle Repair: Engine/Body(Class III)',\n 'Towing - Tow Truck',\n 'Home Repair',\n 'Pawnbroker',\n 'Laboratories',\n 'Pop-Up Food Est. User - Tier II',\n 'Music and Dance',\n 'Transportation Network Provider',\n 'Peddler, non-food',\n 'License Manager',\n 'Fast-Track Business Sign Registration',\n 'Pop-Up Food Est. User - Tier I',\n 'Retail Food Est.-Supplemental License for Dog-Friendly Areas',\n 'Broker',\n 'Scooter Sharing License',\n 'Street Performer',\n 'Food - Shared Kitchen',\n 'Massage Establishment',\n 'Hospital',\n 'Hotel',\n 'Electronic Equipment Repair',\n 'Massage Therapist',\n 'Auctioneer',\n 'Single Room Occupancy Class I',\n 'Mobile Food Dispenser',\n 'Produce Merchant',\n 'Retail Computing Center',\n 'Retail Food - Seasonal Lakefront Food Establishment',\n 'Tobacco Vending, Individual',\n 'Navy Pier - Outdoor Fixed',\n 'Scavenger, Private',\n 'Junk Peddler',\n 'Tire Facility Class II (1,001 - 5,000 Tires)',\n 'Peddler,food - (fruits and vegetables only) - special',\n 'Motor Vehicle Repair; Specialty(Class I)',\n 'Tire Facilty Class I (100 - 1,000 Tires)',\n 'Grooming Facility',\n 'Kennels and Catteries',\n 'Automatic Amusement Device Operator',\n 'Veterinary Hospital',\n 'Day Care Center Under 2 Years',\n 'Mobile Frozen Desserts Dispenser - Non-Motorized',\n 'Affiliation',\n 'Laundry, Late Hour',\n 'Pet Shop',\n 'Animal Care Facility',\n 'Day Labor Agency',\n 'Body Piercing',\n 'Humane Society',\n 'Expediter - Class B',\n 'Expediter - Class A',\n 'Day Care Center Under 2 and 2 - 6 Years',\n 'Navy Pier - Mobile',\n 'Itinerant Merchant, Class II',\n 'Wrigley Field',\n 'Tobacco Dealer Wholesale',\n 'Single Room Occupancy Class II',\n 'Weapons Dealer',\n 'Outdoor Entertainment Venue',\n 'Animal Exhibition',\n 'Expediter - Class B Employee',\n 'Repossessor Class B Employee',\n 'Performing Arts Venue',\n 'Taxicab Two-Way Dispatch Service License',\n 'Bed-And-Breakfast Establishment',\n 'Night Care Privilege',\n 'Public Place of Amusement-TCC',\n 'Navy Pier Vendor (Food) 30 Day',\n 'Vacation Rental',\n 'Navy Pier Kiosk License',\n 'Navy Pier Vendor (Food)',\n 'Navy Pier Vendor (Non-Food)',\n \"Children's Activities Facilities\",\n 'Board-Up Work',\n 'Private Booting Operation',\n 'Bicycle Messenger Service',\n 'License Broker',\n 'Explosives',\n 'Heliports',\n 'Tobacco Vending Machine Operator',\n 'Accessory Garage',\n 'Class A - Indoor Special Event',\n 'Emerging Business',\n \"Secondhand Dealer - Children's Products\",\n 'Industrial Private Event Venue',\n 'Pop-Up Establishment Host - Tier III',\n 'Tobacco Sampler',\n 'Riverwalk Venue Liquor License',\n 'Tire Facility Class III (5,001 - More Tires)',\n 'Explosives, Certificate of Fitness',\n 'Assisted Living/Shared Housing Establishment',\n 'Sports Facilities Authority License',\n 'Repossessor Class A',\n 'Liquor Airport Pushcart License',\n \"Airport Pushcart Liquor O'Hare - Class A\",\n 'Pop-Up Food Est. User - Tier III',\n 'Repossessor Class B',\n 'Guard Dog Service',\n 'Airport Pushcart Liquor Midway - Class A']\n\nlen(arr)",
      "metadata": {
        "source_hash": null,
        "execution_start": 1714081473915,
        "execution_millis": 20,
        "deepnote_to_be_reexecuted": false,
        "cell_id": "84961da2340c4f0a877866639113aa66",
        "deepnote_cell_type": "code"
      },
      "outputs": [
        {
          "output_type": "execute_result",
          "execution_count": 3,
          "data": {
            "text/plain": "145"
          },
          "metadata": {}
        }
      ],
      "outputs_reference": null,
      "execution_count": null,
      "block_group": "49a22dc8e106488fbaa88f0066f8fb2e",
      "content_dependencies": null
    },
    {
      "cell_type": "code",
      "source": "seen = []\nfor key, value in license_dict.items():\n    for x in value:\n        if x not in seen:\n            seen.append(x)\n            try:\n                arr.remove(x)\n            except:\n                print(\"err\", x)\n        else:\n            print('Double', x)\n        \n\narr\n\n",
      "metadata": {
        "source_hash": null,
        "execution_start": 1714081473948,
        "execution_millis": 22,
        "deepnote_to_be_reexecuted": false,
        "cell_id": "30b173156c394fd99ada977d179943cd",
        "deepnote_cell_type": "code"
      },
      "outputs": [
        {
          "name": "stdout",
          "text": "err Nursing Home\nerr Marine\n",
          "output_type": "stream"
        },
        {
          "output_type": "execute_result",
          "execution_count": 4,
          "data": {
            "text/plain": "[]"
          },
          "metadata": {}
        }
      ],
      "outputs_reference": null,
      "execution_count": null,
      "block_group": "6eaa3610422d43efaf61ae54dbc44504",
      "content_dependencies": null
    },
    {
      "cell_type": "code",
      "source": "len(seen)",
      "metadata": {
        "source_hash": null,
        "execution_start": 1714081473949,
        "execution_millis": 21,
        "deepnote_to_be_reexecuted": false,
        "cell_id": "29786b4acc5c45df96837e650a713625",
        "deepnote_cell_type": "code"
      },
      "outputs": [
        {
          "output_type": "execute_result",
          "execution_count": 5,
          "data": {
            "text/plain": "147"
          },
          "metadata": {}
        }
      ],
      "outputs_reference": null,
      "execution_count": null,
      "block_group": "aca0f9b34941461b9ca9bc3afcd708f8",
      "content_dependencies": null
    },
    {
      "cell_type": "code",
      "source": "df_1 = _deepnote_execute_sql('SELECT *\\n    -- FROM \\'BusWithTIF.csv\\'\\n    FROM \\'BusV3.csv\\'\\n    WHERE STATE = \\'IL\\' AND CITY = \\'CHICAGO\\' \\n    AND ADDRESS IS NOT NULL \\n    AND CITY IS NOT NULL \\n    AND STATE IS NOT NULL \\n    AND ZIP_CODE IS NOT NULL \\n    AND LATITUDE IS NOT NULL \\n    AND LONGITUDE IS NOT NULL\\n-- LIMIT 1000', 'SQL_DEEPNOTE_DATAFRAME_SQL', audit_sql_comment='', sql_cache_mode='cache_disabled')\ndf_1",
      "metadata": {
        "source_hash": null,
        "execution_start": 1714081473960,
        "execution_millis": 17054,
        "sql_integration_id": "deepnote-dataframe-sql",
        "deepnote_table_state": {
          "sortBy": [],
          "filters": [],
          "pageSize": 10,
          "pageIndex": 8
        },
        "deepnote_table_loading": false,
        "deepnote_variable_name": "df_1",
        "deepnote_to_be_reexecuted": false,
        "cell_id": "7e1708554586475ebfabb026039a3b98",
        "deepnote_cell_type": "sql",
        "deepnote_sql_source": "SELECT *\n    -- FROM 'BusWithTIF.csv'\n    FROM 'BusV3.csv'\n    WHERE STATE = 'IL' AND CITY = 'CHICAGO' \n    AND ADDRESS IS NOT NULL \n    AND CITY IS NOT NULL \n    AND STATE IS NOT NULL \n    AND ZIP_CODE IS NOT NULL \n    AND LATITUDE IS NOT NULL \n    AND LONGITUDE IS NOT NULL\n-- LIMIT 1000"
      },
      "outputs": [
        {
          "output_type": "execute_result",
          "execution_count": 6,
          "data": {
            "application/vnd.deepnote.dataframe.v3+json": {
              "column_count": 36,
              "row_count": 1033616,
              "columns": [
                {
                  "name": "ID",
                  "dtype": "object"
                },
                {
                  "name": "LICENSE_ID",
                  "dtype": "int64"
                },
                {
                  "name": "ACCOUNT_NUMBER",
                  "dtype": "int64"
                },
                {
                  "name": "SITE_NUMBER",
                  "dtype": "int64"
                },
                {
                  "name": "LEGAL_NAME",
                  "dtype": "object"
                },
                {
                  "name": "DBA",
                  "dtype": "object"
                },
                {
                  "name": "ADDRESS",
                  "dtype": "object"
                },
                {
                  "name": "CITY",
                  "dtype": "object"
                },
                {
                  "name": "STATE",
                  "dtype": "object"
                },
                {
                  "name": "ZIP_CODE",
                  "dtype": "int64"
                },
                {
                  "name": "WARD",
                  "dtype": "float64"
                },
                {
                  "name": "PRECINCT",
                  "dtype": "float64"
                },
                {
                  "name": "WARD_PRECINCT",
                  "dtype": "object"
                },
                {
                  "name": "POLICE_DISTRICT",
                  "dtype": "float64"
                },
                {
                  "name": "LICENSE_CODE",
                  "dtype": "int64"
                },
                {
                  "name": "LICENSE_DESCRIPTION",
                  "dtype": "object"
                },
                {
                  "name": "BUSINESS_ACTIVITY_ID",
                  "dtype": "object"
                },
                {
                  "name": "BUSINESS_ACTIVITY",
                  "dtype": "object"
                },
                {
                  "name": "LICENSE_NUMBER",
                  "dtype": "int64"
                },
                {
                  "name": "APPLICATION_TYPE",
                  "dtype": "object"
                },
                {
                  "name": "APPLICATION_CREATED_DATE",
                  "dtype": "datetime64[us]"
                },
                {
                  "name": "APPLICATION_REQUIREMENTS_COMPLETE",
                  "dtype": "datetime64[us]"
                },
                {
                  "name": "PAYMENT_DATE",
                  "dtype": "datetime64[us]"
                },
                {
                  "name": "CONDITIONAL_APPROVAL",
                  "dtype": "object"
                },
                {
                  "name": "LICENSE_TERM_START_DATE",
                  "dtype": "datetime64[us]"
                },
                {
                  "name": "LICENSE_TERM_EXPIRATION_DATE",
                  "dtype": "datetime64[us]"
                },
                {
                  "name": "LICENSE_APPROVED_FOR_ISSUANCE",
                  "dtype": "datetime64[us]"
                },
                {
                  "name": "DATE_ISSUED",
                  "dtype": "datetime64[us]"
                },
                {
                  "name": "LICENSE_STATUS",
                  "dtype": "object"
                },
                {
                  "name": "LICENSE_STATUS_CHANGE_DATE",
                  "dtype": "datetime64[us]"
                },
                {
                  "name": "SSA",
                  "dtype": "float64"
                },
                {
                  "name": "LATITUDE",
                  "dtype": "float64"
                },
                {
                  "name": "LONGITUDE",
                  "dtype": "float64"
                },
                {
                  "name": "LOCATION",
                  "dtype": "object"
                },
                {
                  "name": "TIF_Name",
                  "dtype": "object"
                },
                {
                  "name": "LICENSE_GROUP",
                  "dtype": "object"
                },
                {
                  "name": "_deepnote_index_column",
                  "dtype": "int64"
                }
              ],
              "rows": [
                {
                  "ID": "2846248-20220511",
                  "LICENSE_ID": 2846248,
                  "ACCOUNT_NUMBER": 485716,
                  "SITE_NUMBER": 1,
                  "LEGAL_NAME": "B2B GLOBAL USA, INC.",
                  "DBA": "EXCLUSIVE MEDICAL SUPPLIES AND SERVICES",
                  "ADDRESS": "2763 W DEVON AVE 1ST",
                  "CITY": "CHICAGO",
                  "STATE": "IL",
                  "ZIP_CODE": 60659,
                  "WARD": 50,
                  "PRECINCT": 29,
                  "WARD_PRECINCT": "50-29",
                  "POLICE_DISTRICT": 24,
                  "LICENSE_CODE": 1010,
                  "LICENSE_DESCRIPTION": "Limited Business License",
                  "BUSINESS_ACTIVITY_ID": "748",
                  "BUSINESS_ACTIVITY": "Rental of General Merchandise",
                  "LICENSE_NUMBER": 2846248,
                  "APPLICATION_TYPE": "ISSUE",
                  "APPLICATION_CREATED_DATE": "2022-05-11 00:00:00",
                  "APPLICATION_REQUIREMENTS_COMPLETE": "2022-05-11 00:00:00",
                  "PAYMENT_DATE": "2022-05-11 00:00:00",
                  "CONDITIONAL_APPROVAL": "N",
                  "LICENSE_TERM_START_DATE": "2022-05-11 00:00:00",
                  "LICENSE_TERM_EXPIRATION_DATE": "2024-05-15 00:00:00",
                  "LICENSE_APPROVED_FOR_ISSUANCE": "2022-05-11 00:00:00",
                  "DATE_ISSUED": "2022-05-11 00:00:00",
                  "LICENSE_STATUS": "AAI",
                  "LICENSE_STATUS_CHANGE_DATE": "NaT",
                  "SSA": 43,
                  "LATITUDE": 41.997452094,
                  "LONGITUDE": -87.699578283,
                  "LOCATION": "(41.99745209378741, -87.69957828297817)",
                  "TIF_Name": "[]",
                  "LICENSE_GROUP": "Business",
                  "_deepnote_index_column": 80
                },
                {
                  "ID": "34396-20200716",
                  "LICENSE_ID": 2728854,
                  "ACCOUNT_NUMBER": 14839,
                  "SITE_NUMBER": 1,
                  "LEGAL_NAME": "T AND T MEXICAN RESTAURANT, A CORPORATION",
                  "DBA": "T & T MEXICAN RESTAURANT",
                  "ADDRESS": "8929 S COMMERCIAL AVE",
                  "CITY": "CHICAGO",
                  "STATE": "IL",
                  "ZIP_CODE": 60617,
                  "WARD": 10,
                  "PRECINCT": 18,
                  "WARD_PRECINCT": "10-18",
                  "POLICE_DISTRICT": 4,
                  "LICENSE_CODE": 1006,
                  "LICENSE_DESCRIPTION": "Retail Food Establishment",
                  "BUSINESS_ACTIVITY_ID": "775",
                  "BUSINESS_ACTIVITY": "Retail Sales of Perishable Foods",
                  "LICENSE_NUMBER": 34396,
                  "APPLICATION_TYPE": "RENEW",
                  "APPLICATION_CREATED_DATE": "NaT",
                  "APPLICATION_REQUIREMENTS_COMPLETE": "2020-05-15 00:00:00",
                  "PAYMENT_DATE": "2020-07-30 00:00:00",
                  "CONDITIONAL_APPROVAL": "N",
                  "LICENSE_TERM_START_DATE": "2020-07-16 00:00:00",
                  "LICENSE_TERM_EXPIRATION_DATE": "2022-07-15 00:00:00",
                  "LICENSE_APPROVED_FOR_ISSUANCE": "2020-07-30 00:00:00",
                  "DATE_ISSUED": "2022-05-11 00:00:00",
                  "LICENSE_STATUS": "AAI",
                  "LICENSE_STATUS_CHANGE_DATE": "NaT",
                  "SSA": 5,
                  "LATITUDE": 41.73284708,
                  "LONGITUDE": -87.551176144,
                  "LOCATION": "(41.732847079711306, -87.55117614380433)",
                  "TIF_Name": "['Commercial Avenue']",
                  "LICENSE_GROUP": "Food",
                  "_deepnote_index_column": 81
                },
                {
                  "ID": "2664136-20210516",
                  "LICENSE_ID": 2780330,
                  "ACCOUNT_NUMBER": 458502,
                  "SITE_NUMBER": 1,
                  "LEGAL_NAME": "MICRO HOSPITALITY LLC",
                  "DBA": "HOTEL BNB",
                  "ADDRESS": "1316 S MICHIGAN AVE 1",
                  "CITY": "CHICAGO",
                  "STATE": "IL",
                  "ZIP_CODE": 60605,
                  "WARD": 3,
                  "PRECINCT": 39,
                  "WARD_PRECINCT": "3-39",
                  "POLICE_DISTRICT": 1,
                  "LICENSE_CODE": 4404,
                  "LICENSE_DESCRIPTION": "Regulated Business License",
                  "BUSINESS_ACTIVITY_ID": "676",
                  "BUSINESS_ACTIVITY": "Hotel - 7 or More Sleeping Rooms",
                  "LICENSE_NUMBER": 2664136,
                  "APPLICATION_TYPE": "RENEW",
                  "APPLICATION_CREATED_DATE": "NaT",
                  "APPLICATION_REQUIREMENTS_COMPLETE": "2021-03-15 00:00:00",
                  "PAYMENT_DATE": "2021-04-17 00:00:00",
                  "CONDITIONAL_APPROVAL": "N",
                  "LICENSE_TERM_START_DATE": "2021-05-16 00:00:00",
                  "LICENSE_TERM_EXPIRATION_DATE": "2023-05-15 00:00:00",
                  "LICENSE_APPROVED_FOR_ISSUANCE": "2021-04-17 00:00:00",
                  "DATE_ISSUED": "2022-05-11 00:00:00",
                  "LICENSE_STATUS": "AAI",
                  "LICENSE_STATUS_CHANGE_DATE": "NaT",
                  "SSA": "nan",
                  "LATITUDE": 41.865268631,
                  "LONGITUDE": -87.624250463,
                  "LOCATION": "(41.86526863075303, -87.62425046286732)",
                  "TIF_Name": "['Red Line Extension (RLE)']",
                  "LICENSE_GROUP": "Business",
                  "_deepnote_index_column": 82
                },
                {
                  "ID": "2463243-20211216",
                  "LICENSE_ID": 2816217,
                  "ACCOUNT_NUMBER": 405700,
                  "SITE_NUMBER": 1,
                  "LEGAL_NAME": "3938 AVONDALE, LLC",
                  "DBA": "CRAWFORDS",
                  "ADDRESS": "3938-3942 W SCHOOL ST 1",
                  "CITY": "CHICAGO",
                  "STATE": "IL",
                  "ZIP_CODE": 60618,
                  "WARD": 30,
                  "PRECINCT": 8,
                  "WARD_PRECINCT": "30-8",
                  "POLICE_DISTRICT": 17,
                  "LICENSE_CODE": 1475,
                  "LICENSE_DESCRIPTION": "Consumption on Premises - Incidental Activity",
                  "BUSINESS_ACTIVITY_ID": "638",
                  "BUSINESS_ACTIVITY": "Consumption of Liquor on Premises",
                  "LICENSE_NUMBER": 2463243,
                  "APPLICATION_TYPE": "RENEW",
                  "APPLICATION_CREATED_DATE": "NaT",
                  "APPLICATION_REQUIREMENTS_COMPLETE": "2021-10-15 00:00:00",
                  "PAYMENT_DATE": "2021-11-13 00:00:00",
                  "CONDITIONAL_APPROVAL": "N",
                  "LICENSE_TERM_START_DATE": "2021-12-16 00:00:00",
                  "LICENSE_TERM_EXPIRATION_DATE": "2023-12-15 00:00:00",
                  "LICENSE_APPROVED_FOR_ISSUANCE": "2021-11-13 00:00:00",
                  "DATE_ISSUED": "2022-05-11 00:00:00",
                  "LICENSE_STATUS": "AAI",
                  "LICENSE_STATUS_CHANGE_DATE": "NaT",
                  "SSA": "nan",
                  "LATITUDE": 41.941035014,
                  "LONGITUDE": -87.726388279,
                  "LOCATION": "(41.941035014150735, -87.7263882793862)",
                  "TIF_Name": "['Avondale']",
                  "LICENSE_GROUP": "Special",
                  "_deepnote_index_column": 83
                },
                {
                  "ID": "2749818-20200915",
                  "LICENSE_ID": 2749818,
                  "ACCOUNT_NUMBER": 469960,
                  "SITE_NUMBER": 1,
                  "LEGAL_NAME": "THE SOLE INGREDIENT CATERING LLC",
                  "DBA": "THE SOLE INGREDIENT CATERING LLC",
                  "ADDRESS": "1155 E 45TH ST",
                  "CITY": "CHICAGO",
                  "STATE": "IL",
                  "ZIP_CODE": 60653,
                  "WARD": 4,
                  "PRECINCT": "nan",
                  "WARD_PRECINCT": "4-",
                  "POLICE_DISTRICT": "nan",
                  "LICENSE_CODE": 8344,
                  "LICENSE_DESCRIPTION": "Shared Kitchen User (Long Term)",
                  "BUSINESS_ACTIVITY_ID": "804",
                  "BUSINESS_ACTIVITY": "Shared Kitchen User - Long Term",
                  "LICENSE_NUMBER": 2749818,
                  "APPLICATION_TYPE": "ISSUE",
                  "APPLICATION_CREATED_DATE": "2020-09-10 00:00:00",
                  "APPLICATION_REQUIREMENTS_COMPLETE": "2020-09-10 00:00:00",
                  "PAYMENT_DATE": "2020-09-10 00:00:00",
                  "CONDITIONAL_APPROVAL": "N",
                  "LICENSE_TERM_START_DATE": "2020-09-15 00:00:00",
                  "LICENSE_TERM_EXPIRATION_DATE": "2022-10-15 00:00:00",
                  "LICENSE_APPROVED_FOR_ISSUANCE": "NaT",
                  "DATE_ISSUED": "2020-09-15 00:00:00",
                  "LICENSE_STATUS": "AAI",
                  "LICENSE_STATUS_CHANGE_DATE": "NaT",
                  "SSA": "nan",
                  "LATITUDE": 41.813173298,
                  "LONGITUDE": -87.597050291,
                  "LOCATION": "(41.81317329804011, -87.59705029076214)",
                  "TIF_Name": "[]",
                  "LICENSE_GROUP": "Food",
                  "_deepnote_index_column": 84
                },
                {
                  "ID": "2289988-20171016",
                  "LICENSE_ID": 2554810,
                  "ACCOUNT_NUMBER": 385607,
                  "SITE_NUMBER": 1,
                  "LEGAL_NAME": "360 CONSTRUCTION LLC",
                  "DBA": "360 CONSTRUCTION LLC",
                  "ADDRESS": "1830 S ALLPORT ST",
                  "CITY": "CHICAGO",
                  "STATE": "IL",
                  "ZIP_CODE": 60608,
                  "WARD": 25,
                  "PRECINCT": 28,
                  "WARD_PRECINCT": "25-28",
                  "POLICE_DISTRICT": 12,
                  "LICENSE_CODE": 4404,
                  "LICENSE_DESCRIPTION": "Regulated Business License",
                  "BUSINESS_ACTIVITY_ID": "674",
                  "BUSINESS_ACTIVITY": "Home Repair Services (Home Based Business)",
                  "LICENSE_NUMBER": 2289988,
                  "APPLICATION_TYPE": "RENEW",
                  "APPLICATION_CREATED_DATE": "NaT",
                  "APPLICATION_REQUIREMENTS_COMPLETE": "2017-08-31 00:00:00",
                  "PAYMENT_DATE": "2017-11-27 00:00:00",
                  "CONDITIONAL_APPROVAL": "N",
                  "LICENSE_TERM_START_DATE": "2017-10-16 00:00:00",
                  "LICENSE_TERM_EXPIRATION_DATE": "2019-10-15 00:00:00",
                  "LICENSE_APPROVED_FOR_ISSUANCE": "2017-11-27 00:00:00",
                  "DATE_ISSUED": "2017-11-28 00:00:00",
                  "LICENSE_STATUS": "AAI",
                  "LICENSE_STATUS_CHANGE_DATE": "NaT",
                  "SSA": "nan",
                  "LATITUDE": 41.856994657,
                  "LONGITUDE": -87.657769633,
                  "LOCATION": "(41.85699465721177, -87.6577696330932)",
                  "TIF_Name": "[]",
                  "LICENSE_GROUP": "Business",
                  "_deepnote_index_column": 85
                },
                {
                  "ID": "2813673-20220511",
                  "LICENSE_ID": 2813673,
                  "ACCOUNT_NUMBER": 480044,
                  "SITE_NUMBER": 1,
                  "LEGAL_NAME": "CACAOABUNGA LLC",
                  "DBA": "CACAOABUNGA",
                  "ADDRESS": "1400 W 46TH ST 2ND 203",
                  "CITY": "CHICAGO",
                  "STATE": "IL",
                  "ZIP_CODE": 60609,
                  "WARD": 15,
                  "PRECINCT": 1,
                  "WARD_PRECINCT": "15-1",
                  "POLICE_DISTRICT": 9,
                  "LICENSE_CODE": 8343,
                  "LICENSE_DESCRIPTION": "Food - Shared Kitchen - Supplemental",
                  "BUSINESS_ACTIVITY_ID": "803",
                  "BUSINESS_ACTIVITY": "Operation of a Shared Kitchen - Secondary to Primary Business (Supplemental)",
                  "LICENSE_NUMBER": 2813673,
                  "APPLICATION_TYPE": "ISSUE",
                  "APPLICATION_CREATED_DATE": "2021-10-05 00:00:00",
                  "APPLICATION_REQUIREMENTS_COMPLETE": "2021-10-22 00:00:00",
                  "PAYMENT_DATE": "2021-10-22 00:00:00",
                  "CONDITIONAL_APPROVAL": "N",
                  "LICENSE_TERM_START_DATE": "2022-05-11 00:00:00",
                  "LICENSE_TERM_EXPIRATION_DATE": "2024-01-15 00:00:00",
                  "LICENSE_APPROVED_FOR_ISSUANCE": "2022-05-10 00:00:00",
                  "DATE_ISSUED": "2022-05-11 00:00:00",
                  "LICENSE_STATUS": "AAI",
                  "LICENSE_STATUS_CHANGE_DATE": "NaT",
                  "SSA": "nan",
                  "LATITUDE": 41.810601294,
                  "LONGITUDE": -87.660283259,
                  "LOCATION": "(41.81060129421089, -87.66028325873228)",
                  "TIF_Name": "['47th/Ashland']",
                  "LICENSE_GROUP": "Food",
                  "_deepnote_index_column": 86
                },
                {
                  "ID": "2263778-20170616",
                  "LICENSE_ID": 2527325,
                  "ACCOUNT_NUMBER": 381911,
                  "SITE_NUMBER": 1,
                  "LEGAL_NAME": "A&J MUFFLERS AND BRAKES CORP.",
                  "DBA": "ABY'S SHOP",
                  "ADDRESS": "4146-4148 S WESTERN AVE 1ST",
                  "CITY": "CHICAGO",
                  "STATE": "IL",
                  "ZIP_CODE": 60609,
                  "WARD": 12,
                  "PRECINCT": 21,
                  "WARD_PRECINCT": "12-21",
                  "POLICE_DISTRICT": 9,
                  "LICENSE_CODE": 8340,
                  "LICENSE_DESCRIPTION": "Motor Vehicle Services License",
                  "BUSINESS_ACTIVITY_ID": "712",
                  "BUSINESS_ACTIVITY": "Motor Vehicle Repair -  Engine and Transmission Work",
                  "LICENSE_NUMBER": 2263778,
                  "APPLICATION_TYPE": "RENEW",
                  "APPLICATION_CREATED_DATE": "NaT",
                  "APPLICATION_REQUIREMENTS_COMPLETE": "2017-04-15 00:00:00",
                  "PAYMENT_DATE": "2017-05-09 00:00:00",
                  "CONDITIONAL_APPROVAL": "N",
                  "LICENSE_TERM_START_DATE": "2017-06-16 00:00:00",
                  "LICENSE_TERM_EXPIRATION_DATE": "2019-06-15 00:00:00",
                  "LICENSE_APPROVED_FOR_ISSUANCE": "2017-05-09 00:00:00",
                  "DATE_ISSUED": "2017-05-10 00:00:00",
                  "LICENSE_STATUS": "AAI",
                  "LICENSE_STATUS_CHANGE_DATE": "NaT",
                  "SSA": "nan",
                  "LATITUDE": 41.817928961,
                  "LONGITUDE": -87.6848298,
                  "LOCATION": "(41.81792896055436, -87.68482980036839)",
                  "TIF_Name": "['Archer/Western']",
                  "LICENSE_GROUP": "Vehicles",
                  "_deepnote_index_column": 87
                },
                {
                  "ID": "2022210-20231116",
                  "LICENSE_ID": 2931983,
                  "ACCOUNT_NUMBER": 351438,
                  "SITE_NUMBER": 1,
                  "LEGAL_NAME": "ALBANY FOOD MARKET,INC.",
                  "DBA": "ALBANY FOOD MARKET",
                  "ADDRESS": "1901 N ALBANY AVE 1ST",
                  "CITY": "CHICAGO",
                  "STATE": "IL",
                  "ZIP_CODE": 60647,
                  "WARD": 26,
                  "PRECINCT": 3,
                  "WARD_PRECINCT": "26-3",
                  "POLICE_DISTRICT": 14,
                  "LICENSE_CODE": 1781,
                  "LICENSE_DESCRIPTION": "Tobacco",
                  "BUSINESS_ACTIVITY_ID": "763",
                  "BUSINESS_ACTIVITY": "Retail Sale of Tobacco",
                  "LICENSE_NUMBER": 2022210,
                  "APPLICATION_TYPE": "RENEW",
                  "APPLICATION_CREATED_DATE": "NaT",
                  "APPLICATION_REQUIREMENTS_COMPLETE": "2023-09-15 00:00:00",
                  "PAYMENT_DATE": "2023-09-15 00:00:00",
                  "CONDITIONAL_APPROVAL": "N",
                  "LICENSE_TERM_START_DATE": "2023-11-16 00:00:00",
                  "LICENSE_TERM_EXPIRATION_DATE": "2024-11-15 00:00:00",
                  "LICENSE_APPROVED_FOR_ISSUANCE": "2023-09-15 00:00:00",
                  "DATE_ISSUED": "2023-09-18 00:00:00",
                  "LICENSE_STATUS": "AAI",
                  "LICENSE_STATUS_CHANGE_DATE": "NaT",
                  "SSA": "nan",
                  "LATITUDE": 41.915637653,
                  "LONGITUDE": -87.705076603,
                  "LOCATION": "(41.91563765267272, -87.70507660252024)",
                  "TIF_Name": "[]",
                  "LICENSE_GROUP": "Tabacco",
                  "_deepnote_index_column": 88
                },
                {
                  "ID": "61236-20220516",
                  "LICENSE_ID": 2837036,
                  "ACCOUNT_NUMBER": 86347,
                  "SITE_NUMBER": 1,
                  "LEGAL_NAME": "S&W CHICAGO, L.L.C.",
                  "DBA": "SMITH & WOLLENSKY",
                  "ADDRESS": "318 N STATE ST LL + 1",
                  "CITY": "CHICAGO",
                  "STATE": "IL",
                  "ZIP_CODE": 60654,
                  "WARD": 42,
                  "PRECINCT": 27,
                  "WARD_PRECINCT": "42-27",
                  "POLICE_DISTRICT": 18,
                  "LICENSE_CODE": 1475,
                  "LICENSE_DESCRIPTION": "Consumption on Premises - Incidental Activity",
                  "BUSINESS_ACTIVITY_ID": "638",
                  "BUSINESS_ACTIVITY": "Consumption of Liquor on Premises",
                  "LICENSE_NUMBER": 61236,
                  "APPLICATION_TYPE": "RENEW",
                  "APPLICATION_CREATED_DATE": "NaT",
                  "APPLICATION_REQUIREMENTS_COMPLETE": "2022-03-15 00:00:00",
                  "PAYMENT_DATE": "2022-07-14 00:00:00",
                  "CONDITIONAL_APPROVAL": "N",
                  "LICENSE_TERM_START_DATE": "2022-05-16 00:00:00",
                  "LICENSE_TERM_EXPIRATION_DATE": "2024-05-15 00:00:00",
                  "LICENSE_APPROVED_FOR_ISSUANCE": "2022-07-14 00:00:00",
                  "DATE_ISSUED": "2022-08-08 00:00:00",
                  "LICENSE_STATUS": "AAI",
                  "LICENSE_STATUS_CHANGE_DATE": "NaT",
                  "SSA": "nan",
                  "LATITUDE": 41.888040594,
                  "LONGITUDE": -87.628170663,
                  "LOCATION": "(41.88804059387871, -87.62817066340388)",
                  "TIF_Name": "[]",
                  "LICENSE_GROUP": "Special",
                  "_deepnote_index_column": 89
                }
              ]
            },
            "text/plain": "                       ID  LICENSE_ID  ACCOUNT_NUMBER  SITE_NUMBER  \\\n0        2617269-20220916     2857496            1611            5   \n1        2652692-20201217     2652692          456833            1   \n2        2647849-20200916     2739788           64603            7   \n3        1579838-20220616     2842924          289144            1   \n4        2027540-20220616     2841687           10726            5   \n...                   ...         ...             ...          ...   \n1033611  2204520-20160716     2465534           25985            1   \n1033612  2652764-20210316     2770633          456868            1   \n1033613     6415-20070816     1832401          376290            2   \n1033614  1800007-20070124     1800007          313705            1   \n1033615  2846254-20220909     2846254          349928           13   \n\n                                      LEGAL_NAME  \\\n0                                    TTX COMPANY   \n1                            JYM INVESTMENTS LLC   \n2                        LEOPARDO COMPANIES INC.   \n3                          1021 MONTROSE, L.L.C.   \n4                          GRAHAM ENTERPRISE INC   \n...                                          ...   \n1033611  AABALL HEATING SERVICE & SUPPLIES, INC.   \n1033612                             SHOBHNA INC.   \n1033613       FRANK'S CHICAGO SHRIMP HOUSE, INC.   \n1033614                        TERRANCE J. WATTS   \n1033615                         RDK VENTURES LLC   \n\n                                       DBA                       ADDRESS  \\\n0                              TTX COMPANY            4016 S ASHLAND AVE   \n1                                  WINGMAN          2321 W HOWARD ST 1ST   \n2                   Leopardo Companies Inc  210 N CARPENTER ST 3RD FLOOR   \n3                                Driftwood           1021 W MONTROSE AVE   \n4                 Rock N Roll BP (GEI-157)         631-647 N LA SALLE DR   \n...                                    ...                           ...   \n1033611  AABALL HEATING SERVICE & SUPPLIES            8518 S ASHLAND AVE   \n1033612                          FOOD STOP           3734 W LAWRENCE AVE   \n1033613       FRANK'S CHICAGO SHRIMP HOUSE         5439 W ADDISON ST 1ST   \n1033614                  TERRANCE J. WATTS            9932 S SANGAMON ST   \n1033615                           Circle K            190 W MADISON ST 1   \n\n            CITY STATE  ZIP_CODE  ...  LICENSE_APPROVED_FOR_ISSUANCE  \\\n0        CHICAGO    IL     60609  ...                     2022-08-05   \n1        CHICAGO    IL     60645  ...                     2020-12-16   \n2        CHICAGO    IL     60607  ...                     2020-08-20   \n3        CHICAGO    IL     60613  ...                     2022-05-10   \n4        CHICAGO    IL     60654  ...                     2022-05-10   \n...          ...   ...       ...  ...                            ...   \n1033611  CHICAGO    IL     60620  ...                     2016-05-31   \n1033612  CHICAGO    IL     60625  ...                     2021-04-02   \n1033613  CHICAGO    IL     60641  ...                     2007-08-24   \n1033614  CHICAGO    IL     60643  ...                            NaT   \n1033615  CHICAGO    IL     60602  ...                     2022-09-09   \n\n         DATE_ISSUED LICENSE_STATUS  LICENSE_STATUS_CHANGE_DATE   SSA  \\\n0         2022-08-08            AAI                         NaT   NaN   \n1         2020-12-17            AAC                  2022-08-08   NaN   \n2         2020-08-21            AAC                  2022-08-08   NaN   \n3         2022-05-11            AAI                         NaT  34.0   \n4         2022-05-11            AAI                         NaT   NaN   \n...              ...            ...                         ...   ...   \n1033611   2016-06-01            AAI                         NaT  69.0   \n1033612   2021-04-05            AAI                         NaT   NaN   \n1033613   2008-05-22            AAI                         NaT   NaN   \n1033614   2007-01-24            AAI                         NaT   NaN   \n1033615   2022-09-09            AAI                         NaT   NaN   \n\n          LATITUDE  LONGITUDE                                  LOCATION  \\\n0        41.820285 -87.665397   (41.82028493557808, -87.66539682158037)   \n1        42.019413 -87.688628  (42.019413270594214, -87.68862818775574)   \n2        41.885945 -87.653462   (41.88594495760403, -87.65346178255953)   \n3        41.961655 -87.655650  (41.961655308981946, -87.65564994485091)   \n4        41.893251 -87.632493   (41.89325119846543, -87.63249301222938)   \n...            ...        ...                                       ...   \n1033611  41.738831 -87.663289  (41.738831043655715, -87.66328877414871)   \n1033612  41.968417 -87.722060    (41.96841672465387, -87.7220597187097)   \n1033613  41.945810 -87.763441   (41.94580991762778, -87.76344146216435)   \n1033614  41.713160 -87.646789    (41.71316042726137, -87.6467890258547)   \n1033615  41.882058 -87.633533   (41.88205759473728, -87.63353326572278)   \n\n                                        TIF_Name LICENSE_GROUP  \n0                                             []      Business  \n1                                             []          Food  \n2        ['Kinzie Industrial Conservation Area']      Business  \n3                                ['Wilson Yard']          Food  \n4                                             []      Vehicles  \n...                                          ...           ...  \n1033611                                       []      Business  \n1033612                      ['Lawrence/Kedzie']       Tabacco  \n1033613                                       []          Food  \n1033614    ['105th Street and Vincennes Avenue']       Special  \n1033615                      ['LaSalle Central']       Tabacco  \n\n[1033616 rows x 36 columns]",
            "text/html": "<div>\n<style scoped>\n    .dataframe tbody tr th:only-of-type {\n        vertical-align: middle;\n    }\n\n    .dataframe tbody tr th {\n        vertical-align: top;\n    }\n\n    .dataframe thead th {\n        text-align: right;\n    }\n</style>\n<table border=\"1\" class=\"dataframe\">\n  <thead>\n    <tr style=\"text-align: right;\">\n      <th></th>\n      <th>ID</th>\n      <th>LICENSE_ID</th>\n      <th>ACCOUNT_NUMBER</th>\n      <th>SITE_NUMBER</th>\n      <th>LEGAL_NAME</th>\n      <th>DBA</th>\n      <th>ADDRESS</th>\n      <th>CITY</th>\n      <th>STATE</th>\n      <th>ZIP_CODE</th>\n      <th>...</th>\n      <th>LICENSE_APPROVED_FOR_ISSUANCE</th>\n      <th>DATE_ISSUED</th>\n      <th>LICENSE_STATUS</th>\n      <th>LICENSE_STATUS_CHANGE_DATE</th>\n      <th>SSA</th>\n      <th>LATITUDE</th>\n      <th>LONGITUDE</th>\n      <th>LOCATION</th>\n      <th>TIF_Name</th>\n      <th>LICENSE_GROUP</th>\n    </tr>\n  </thead>\n  <tbody>\n    <tr>\n      <th>0</th>\n      <td>2617269-20220916</td>\n      <td>2857496</td>\n      <td>1611</td>\n      <td>5</td>\n      <td>TTX COMPANY</td>\n      <td>TTX COMPANY</td>\n      <td>4016 S ASHLAND AVE</td>\n      <td>CHICAGO</td>\n      <td>IL</td>\n      <td>60609</td>\n      <td>...</td>\n      <td>2022-08-05</td>\n      <td>2022-08-08</td>\n      <td>AAI</td>\n      <td>NaT</td>\n      <td>NaN</td>\n      <td>41.820285</td>\n      <td>-87.665397</td>\n      <td>(41.82028493557808, -87.66539682158037)</td>\n      <td>[]</td>\n      <td>Business</td>\n    </tr>\n    <tr>\n      <th>1</th>\n      <td>2652692-20201217</td>\n      <td>2652692</td>\n      <td>456833</td>\n      <td>1</td>\n      <td>JYM INVESTMENTS LLC</td>\n      <td>WINGMAN</td>\n      <td>2321 W HOWARD ST 1ST</td>\n      <td>CHICAGO</td>\n      <td>IL</td>\n      <td>60645</td>\n      <td>...</td>\n      <td>2020-12-16</td>\n      <td>2020-12-17</td>\n      <td>AAC</td>\n      <td>2022-08-08</td>\n      <td>NaN</td>\n      <td>42.019413</td>\n      <td>-87.688628</td>\n      <td>(42.019413270594214, -87.68862818775574)</td>\n      <td>[]</td>\n      <td>Food</td>\n    </tr>\n    <tr>\n      <th>2</th>\n      <td>2647849-20200916</td>\n      <td>2739788</td>\n      <td>64603</td>\n      <td>7</td>\n      <td>LEOPARDO COMPANIES INC.</td>\n      <td>Leopardo Companies Inc</td>\n      <td>210 N CARPENTER ST 3RD FLOOR</td>\n      <td>CHICAGO</td>\n      <td>IL</td>\n      <td>60607</td>\n      <td>...</td>\n      <td>2020-08-20</td>\n      <td>2020-08-21</td>\n      <td>AAC</td>\n      <td>2022-08-08</td>\n      <td>NaN</td>\n      <td>41.885945</td>\n      <td>-87.653462</td>\n      <td>(41.88594495760403, -87.65346178255953)</td>\n      <td>['Kinzie Industrial Conservation Area']</td>\n      <td>Business</td>\n    </tr>\n    <tr>\n      <th>3</th>\n      <td>1579838-20220616</td>\n      <td>2842924</td>\n      <td>289144</td>\n      <td>1</td>\n      <td>1021 MONTROSE, L.L.C.</td>\n      <td>Driftwood</td>\n      <td>1021 W MONTROSE AVE</td>\n      <td>CHICAGO</td>\n      <td>IL</td>\n      <td>60613</td>\n      <td>...</td>\n      <td>2022-05-10</td>\n      <td>2022-05-11</td>\n      <td>AAI</td>\n      <td>NaT</td>\n      <td>34.0</td>\n      <td>41.961655</td>\n      <td>-87.655650</td>\n      <td>(41.961655308981946, -87.65564994485091)</td>\n      <td>['Wilson Yard']</td>\n      <td>Food</td>\n    </tr>\n    <tr>\n      <th>4</th>\n      <td>2027540-20220616</td>\n      <td>2841687</td>\n      <td>10726</td>\n      <td>5</td>\n      <td>GRAHAM ENTERPRISE INC</td>\n      <td>Rock N Roll BP (GEI-157)</td>\n      <td>631-647 N LA SALLE DR</td>\n      <td>CHICAGO</td>\n      <td>IL</td>\n      <td>60654</td>\n      <td>...</td>\n      <td>2022-05-10</td>\n      <td>2022-05-11</td>\n      <td>AAI</td>\n      <td>NaT</td>\n      <td>NaN</td>\n      <td>41.893251</td>\n      <td>-87.632493</td>\n      <td>(41.89325119846543, -87.63249301222938)</td>\n      <td>[]</td>\n      <td>Vehicles</td>\n    </tr>\n    <tr>\n      <th>...</th>\n      <td>...</td>\n      <td>...</td>\n      <td>...</td>\n      <td>...</td>\n      <td>...</td>\n      <td>...</td>\n      <td>...</td>\n      <td>...</td>\n      <td>...</td>\n      <td>...</td>\n      <td>...</td>\n      <td>...</td>\n      <td>...</td>\n      <td>...</td>\n      <td>...</td>\n      <td>...</td>\n      <td>...</td>\n      <td>...</td>\n      <td>...</td>\n      <td>...</td>\n      <td>...</td>\n    </tr>\n    <tr>\n      <th>1033611</th>\n      <td>2204520-20160716</td>\n      <td>2465534</td>\n      <td>25985</td>\n      <td>1</td>\n      <td>AABALL HEATING SERVICE &amp; SUPPLIES, INC.</td>\n      <td>AABALL HEATING SERVICE &amp; SUPPLIES</td>\n      <td>8518 S ASHLAND AVE</td>\n      <td>CHICAGO</td>\n      <td>IL</td>\n      <td>60620</td>\n      <td>...</td>\n      <td>2016-05-31</td>\n      <td>2016-06-01</td>\n      <td>AAI</td>\n      <td>NaT</td>\n      <td>69.0</td>\n      <td>41.738831</td>\n      <td>-87.663289</td>\n      <td>(41.738831043655715, -87.66328877414871)</td>\n      <td>[]</td>\n      <td>Business</td>\n    </tr>\n    <tr>\n      <th>1033612</th>\n      <td>2652764-20210316</td>\n      <td>2770633</td>\n      <td>456868</td>\n      <td>1</td>\n      <td>SHOBHNA INC.</td>\n      <td>FOOD STOP</td>\n      <td>3734 W LAWRENCE AVE</td>\n      <td>CHICAGO</td>\n      <td>IL</td>\n      <td>60625</td>\n      <td>...</td>\n      <td>2021-04-02</td>\n      <td>2021-04-05</td>\n      <td>AAI</td>\n      <td>NaT</td>\n      <td>NaN</td>\n      <td>41.968417</td>\n      <td>-87.722060</td>\n      <td>(41.96841672465387, -87.7220597187097)</td>\n      <td>['Lawrence/Kedzie']</td>\n      <td>Tabacco</td>\n    </tr>\n    <tr>\n      <th>1033613</th>\n      <td>6415-20070816</td>\n      <td>1832401</td>\n      <td>376290</td>\n      <td>2</td>\n      <td>FRANK'S CHICAGO SHRIMP HOUSE, INC.</td>\n      <td>FRANK'S CHICAGO SHRIMP HOUSE</td>\n      <td>5439 W ADDISON ST 1ST</td>\n      <td>CHICAGO</td>\n      <td>IL</td>\n      <td>60641</td>\n      <td>...</td>\n      <td>2007-08-24</td>\n      <td>2008-05-22</td>\n      <td>AAI</td>\n      <td>NaT</td>\n      <td>NaN</td>\n      <td>41.945810</td>\n      <td>-87.763441</td>\n      <td>(41.94580991762778, -87.76344146216435)</td>\n      <td>[]</td>\n      <td>Food</td>\n    </tr>\n    <tr>\n      <th>1033614</th>\n      <td>1800007-20070124</td>\n      <td>1800007</td>\n      <td>313705</td>\n      <td>1</td>\n      <td>TERRANCE J. WATTS</td>\n      <td>TERRANCE J. WATTS</td>\n      <td>9932 S SANGAMON ST</td>\n      <td>CHICAGO</td>\n      <td>IL</td>\n      <td>60643</td>\n      <td>...</td>\n      <td>NaT</td>\n      <td>2007-01-24</td>\n      <td>AAI</td>\n      <td>NaT</td>\n      <td>NaN</td>\n      <td>41.713160</td>\n      <td>-87.646789</td>\n      <td>(41.71316042726137, -87.6467890258547)</td>\n      <td>['105th Street and Vincennes Avenue']</td>\n      <td>Special</td>\n    </tr>\n    <tr>\n      <th>1033615</th>\n      <td>2846254-20220909</td>\n      <td>2846254</td>\n      <td>349928</td>\n      <td>13</td>\n      <td>RDK VENTURES LLC</td>\n      <td>Circle K</td>\n      <td>190 W MADISON ST 1</td>\n      <td>CHICAGO</td>\n      <td>IL</td>\n      <td>60602</td>\n      <td>...</td>\n      <td>2022-09-09</td>\n      <td>2022-09-09</td>\n      <td>AAI</td>\n      <td>NaT</td>\n      <td>NaN</td>\n      <td>41.882058</td>\n      <td>-87.633533</td>\n      <td>(41.88205759473728, -87.63353326572278)</td>\n      <td>['LaSalle Central']</td>\n      <td>Tabacco</td>\n    </tr>\n  </tbody>\n</table>\n<p>1033616 rows × 36 columns</p>\n</div>"
          },
          "metadata": {}
        }
      ],
      "outputs_reference": null,
      "execution_count": null,
      "block_group": "4f5760f0333c4601bb060ad0f0553c6a",
      "content_dependencies": null
    },
    {
      "cell_type": "code",
      "source": "flipped_dict = {item: key for key, value in license_dict.items() for item in value}\n\nprint(flipped_dict)",
      "metadata": {
        "source_hash": null,
        "execution_start": 1714081491028,
        "execution_millis": 210,
        "deepnote_to_be_reexecuted": false,
        "cell_id": "6c09f85d41a843c983ab9f32df984e2e",
        "deepnote_cell_type": "code"
      },
      "outputs": [
        {
          "name": "stdout",
          "text": "{'Retail Food Establishment': 'Food', 'Tavern': 'Food', 'Mobile Food License': 'Food', 'Wholesale Food Establishment': 'Food', 'Food - Shared Kitchen': 'Food', 'Food - Shared Kitchen - Supplemental': 'Food', 'Pop-Up Food Est. User - Tier I': 'Food', 'Pop-Up Food Est. User - Tier II': 'Food', 'Pop-Up Food Est. User - Tier III': 'Food', 'Mobile Food Dispenser': 'Food', 'Produce Merchant': 'Food', 'Retail Food - Seasonal Lakefront Food Establishment': 'Food', 'Navy Pier Vendor (Food) 30 Day': 'Food', 'Navy Pier Vendor (Food)': 'Food', 'Special Event Food': 'Food', 'Shared Kitchen User (Short Term)': 'Food', 'Shared Kitchen User (Long Term)': 'Food', 'Mobile Frozen Desserts Dispenser - Non-Motorized': 'Food', \"Caterer's Liquor License\": 'Liquor', 'Special Event Liquor': 'Liquor', 'Riverwalk Venue Liquor License': 'Liquor', 'Liquor Airport Pushcart License': 'Liquor', \"Airport Pushcart Liquor O'Hare - Class A\": 'Liquor', 'Airport Pushcart Liquor Midway - Class A': 'Liquor', 'Public Place of Amusement': 'Entertainment', 'Music and Dance': 'Entertainment', 'Indoor Special Event': 'Entertainment', 'Outdoor Entertainment Venue': 'Entertainment', 'Performing Arts Venue': 'Entertainment', 'Public Place of Amusement-TCC': 'Entertainment', \"Children's Activities Facilities\": 'Entertainment', 'Industrial Private Event Venue': 'Entertainment', 'Sports Facilities Authority License': 'Entertainment', 'Street Performer': 'Entertainment', 'Class A - Indoor Special Event': 'Entertainment', 'Humane Society': 'Entertainment', 'Filling Station': 'Vehicles', 'Commercial Passenger Vessel': 'Vehicles', 'Motor Vehicle Services License': 'Vehicles', 'Towing - Storage Lot': 'Vehicles', 'Towing - Tow Truck': 'Vehicles', 'Scooter Sharing License': 'Vehicles', 'Navy Pier - Mobile': 'Vehicles', 'Wrigley Field': 'Vehicles', 'Motor Vehicle Repair : Engine Only (Class II)': 'Vehicles', 'Motor Vehicle Repair: Engine/Body(Class III)': 'Vehicles', 'Motor Vehicle Repair; Specialty(Class I)': 'Vehicles', 'Taxicab Two-Way Dispatch Service License': 'Vehicles', 'Tire Facility Class II (1,001 - 5,000 Tires)': 'Vehicles', 'Tire Facilty Class I (100 - 1,000 Tires)': 'Vehicles', 'Tire Facility Class III (5,001 - More Tires)': 'Vehicles', 'Heliports': 'Vehicles', 'Accessory Garage': 'Vehicles', 'Hotel': 'Accommodation', 'Bed-And-Breakfast Establishment': 'Accommodation', 'Vacation Rental': 'Accommodation', 'Navy Pier Kiosk License': 'Accommodation', 'License Manager': 'Accommodation', 'Transportation Network Provider': 'Accommodation', 'Retail Food Est.-Supplemental License for Dog-Friendly Areas': 'Retail', 'Retail Computing Center': 'Retail', 'Secondhand Dealer': 'Retail', 'Secondhand Dealer (No Valuable Objects)': 'Retail', 'Navy Pier Vendor (Non-Food)': 'Retail', 'Outdoor Patio': 'Retail', 'Package Goods': 'Retail', 'Tobacco': 'Tabacco', 'Tobacco Vending, Individual': 'Tabacco', 'Tobacco Sampler': 'Tabacco', 'Tobacco Dealer Wholesale': 'Tabacco', 'Massage Establishment': 'Personal Services', 'Massage Therapist': 'Personal Services', 'Body Piercing': 'Personal Services', 'Pet Shop': 'Personal Services', 'Animal Care Facility': 'Personal Services', 'Veterinary Hospital': 'Personal Services', 'Grooming Facility': 'Personal Services', 'Kennels and Catteries': 'Personal Services', 'Limited Business License': 'Business', 'Regulated Business License': 'Business', 'Shared Housing Unit Operator': 'Business', 'Commercial Garage': 'Business', 'Residential Real Estate Developer': 'Business', 'Long-Term Care Facility': 'Business', 'Pawnbroker': 'Business', 'Laboratories': 'Business', 'Broker': 'Business', 'Fast-Track Business Sign Registration': 'Business', 'Valet Parking Operator': 'Business', 'Auctioneer': 'Business', 'Day Labor Agency': 'Business', 'License Broker': 'Business', 'Emerging Business': 'Business', 'Navy Pier - Outdoor Fixed': 'Business', 'Consumption on Premises - Incidental Activity': 'Special', 'Pop-Up Retail User': 'Special', 'Pop-Up Establishment Host - Tier II': 'Special', 'Peddler License': 'Special', 'Peddler, non-food': 'Special', 'Peddler, non-food, special': 'Special', 'Peddler,food - (fruits and vegetables only) - special': 'Special', 'Peddler, food (fruits and vegtables only)': 'Special', 'Itinerant Merchant, Class I': 'Special', 'Itinerant Merchant, Class II': 'Special', 'Raffles': 'Special', 'Late Hour': 'Special', 'Home Occupation': 'Special', 'Animal Care License': 'Special', 'Home Repair': 'Special', 'Hazardous Materials': 'Special', 'Private Booting Registration': 'Special', 'Private Booting Operation': 'Special', 'Scavenger, Private': 'Special', 'Junk Peddler': 'Special', 'Single Room Occupancy Class I': 'Special', 'Single Room Occupancy Class II': 'Special', 'Weapons Dealer': 'Special', 'Animal Exhibition': 'Special', 'Expediter - Class B': 'Special', 'Expediter - Class A': 'Special', 'Expediter - Class B Employee': 'Special', 'Repossessor Class B Employee': 'Special', 'Night Care Privilege': 'Special', 'Board-Up Work': 'Special', 'Bicycle Messenger Service': 'Special', 'Explosives': 'Special', 'Explosives, Certificate of Fitness': 'Special', 'Guard Dog Service': 'Special', \"Secondhand Dealer - Children's Products\": 'Special', 'Pop-Up Establishment Host - Tier III': 'Special', 'Manufacturing Establishments': 'Special', 'Day Care Center 2 - 6 Years': 'Permits', 'Day Care Center Under 2 Years': 'Permits', 'Day Care Center Under 2 and 2 - 6 Years': 'Permits', \"Children's Services Facility License\": 'Permits', 'Assisted Living/Shared Housing Establishment': 'Permits', 'Hospital': 'Medical', 'Nursing Home': 'Medical', 'Electronic Equipment Repair': 'Electronic', 'Tobacco Vending Machine Operator': 'Electronic', 'Not-For-Profit Club': 'Other', 'Affiliation': 'Other', 'Laundry, Late Hour': 'Other', 'Automatic Amusement Device Operator': 'Other', 'Repossessor Class A': 'Other', 'Repossessor Class B': 'Other', 'Marine': 'Other'}\n",
          "output_type": "stream"
        }
      ],
      "outputs_reference": null,
      "execution_count": null,
      "block_group": "f830ad417a574f059465a7c73350ad09",
      "content_dependencies": null
    },
    {
      "cell_type": "code",
      "source": "df_1['LICENSE_GROUP'] = df_1['LICENSE_DESCRIPTION'].map(flipped_dict)\ndf_1.to_csv('BusV3.csv', index=False)\ndf_1",
      "metadata": {
        "source_hash": null,
        "execution_start": 1714081491161,
        "execution_millis": 11804,
        "deepnote_table_state": {
          "sortBy": [],
          "filters": [],
          "pageSize": 10,
          "pageIndex": 5
        },
        "deepnote_table_loading": false,
        "deepnote_to_be_reexecuted": false,
        "cell_id": "9d88ed043b894e29bd926aaca2cae726",
        "deepnote_cell_type": "code"
      },
      "outputs": [
        {
          "output_type": "error",
          "ename": "KeyboardInterrupt",
          "evalue": "",
          "traceback": [
            "\u001b[0;31m---------------------------------------------------------------------------\u001b[0m",
            "\u001b[0;31mKeyboardInterrupt\u001b[0m                         Traceback (most recent call last)",
            "Cell \u001b[0;32mIn [8], line 3\u001b[0m\n\u001b[1;32m      1\u001b[0m _deepnote_current_table_attrs \u001b[38;5;241m=\u001b[39m \u001b[38;5;124m'\u001b[39m\u001b[38;5;124m{\u001b[39m\u001b[38;5;124m\"\u001b[39m\u001b[38;5;124mpageSize\u001b[39m\u001b[38;5;124m\"\u001b[39m\u001b[38;5;124m:10,\u001b[39m\u001b[38;5;124m\"\u001b[39m\u001b[38;5;124mpageIndex\u001b[39m\u001b[38;5;124m\"\u001b[39m\u001b[38;5;124m:5,\u001b[39m\u001b[38;5;124m\"\u001b[39m\u001b[38;5;124msortBy\u001b[39m\u001b[38;5;124m\"\u001b[39m\u001b[38;5;124m:[],\u001b[39m\u001b[38;5;124m\"\u001b[39m\u001b[38;5;124mfilters\u001b[39m\u001b[38;5;124m\"\u001b[39m\u001b[38;5;124m:[]}\u001b[39m\u001b[38;5;124m'\u001b[39m\n\u001b[1;32m      2\u001b[0m df_1[\u001b[38;5;124m'\u001b[39m\u001b[38;5;124mLICENSE_GROUP\u001b[39m\u001b[38;5;124m'\u001b[39m] \u001b[38;5;241m=\u001b[39m df_1[\u001b[38;5;124m'\u001b[39m\u001b[38;5;124mLICENSE_DESCRIPTION\u001b[39m\u001b[38;5;124m'\u001b[39m]\u001b[38;5;241m.\u001b[39mmap(flipped_dict)\n\u001b[0;32m----> 3\u001b[0m \u001b[43mdf_1\u001b[49m\u001b[38;5;241;43m.\u001b[39;49m\u001b[43mto_csv\u001b[49m\u001b[43m(\u001b[49m\u001b[38;5;124;43m'\u001b[39;49m\u001b[38;5;124;43mBusV3.csv\u001b[39;49m\u001b[38;5;124;43m'\u001b[39;49m\u001b[43m,\u001b[49m\u001b[43m \u001b[49m\u001b[43mindex\u001b[49m\u001b[38;5;241;43m=\u001b[39;49m\u001b[38;5;28;43;01mFalse\u001b[39;49;00m\u001b[43m)\u001b[49m\n\u001b[1;32m      4\u001b[0m df_1\n",
            "File \u001b[0;32m/shared-libs/python3.9/py/lib/python3.9/site-packages/pandas/core/generic.py:3902\u001b[0m, in \u001b[0;36mNDFrame.to_csv\u001b[0;34m(self, path_or_buf, sep, na_rep, float_format, columns, header, index, index_label, mode, encoding, compression, quoting, quotechar, lineterminator, chunksize, date_format, doublequote, escapechar, decimal, errors, storage_options)\u001b[0m\n\u001b[1;32m   3891\u001b[0m df \u001b[38;5;241m=\u001b[39m \u001b[38;5;28mself\u001b[39m \u001b[38;5;28;01mif\u001b[39;00m \u001b[38;5;28misinstance\u001b[39m(\u001b[38;5;28mself\u001b[39m, ABCDataFrame) \u001b[38;5;28;01melse\u001b[39;00m \u001b[38;5;28mself\u001b[39m\u001b[38;5;241m.\u001b[39mto_frame()\n\u001b[1;32m   3893\u001b[0m formatter \u001b[38;5;241m=\u001b[39m DataFrameFormatter(\n\u001b[1;32m   3894\u001b[0m     frame\u001b[38;5;241m=\u001b[39mdf,\n\u001b[1;32m   3895\u001b[0m     header\u001b[38;5;241m=\u001b[39mheader,\n\u001b[0;32m   (...)\u001b[0m\n\u001b[1;32m   3899\u001b[0m     decimal\u001b[38;5;241m=\u001b[39mdecimal,\n\u001b[1;32m   3900\u001b[0m )\n\u001b[0;32m-> 3902\u001b[0m \u001b[38;5;28;01mreturn\u001b[39;00m \u001b[43mDataFrameRenderer\u001b[49m\u001b[43m(\u001b[49m\u001b[43mformatter\u001b[49m\u001b[43m)\u001b[49m\u001b[38;5;241;43m.\u001b[39;49m\u001b[43mto_csv\u001b[49m\u001b[43m(\u001b[49m\n\u001b[1;32m   3903\u001b[0m \u001b[43m    \u001b[49m\u001b[43mpath_or_buf\u001b[49m\u001b[43m,\u001b[49m\n\u001b[1;32m   3904\u001b[0m \u001b[43m    \u001b[49m\u001b[43mlineterminator\u001b[49m\u001b[38;5;241;43m=\u001b[39;49m\u001b[43mlineterminator\u001b[49m\u001b[43m,\u001b[49m\n\u001b[1;32m   3905\u001b[0m \u001b[43m    \u001b[49m\u001b[43msep\u001b[49m\u001b[38;5;241;43m=\u001b[39;49m\u001b[43msep\u001b[49m\u001b[43m,\u001b[49m\n\u001b[1;32m   3906\u001b[0m \u001b[43m    \u001b[49m\u001b[43mencoding\u001b[49m\u001b[38;5;241;43m=\u001b[39;49m\u001b[43mencoding\u001b[49m\u001b[43m,\u001b[49m\n\u001b[1;32m   3907\u001b[0m \u001b[43m    \u001b[49m\u001b[43merrors\u001b[49m\u001b[38;5;241;43m=\u001b[39;49m\u001b[43merrors\u001b[49m\u001b[43m,\u001b[49m\n\u001b[1;32m   3908\u001b[0m \u001b[43m    \u001b[49m\u001b[43mcompression\u001b[49m\u001b[38;5;241;43m=\u001b[39;49m\u001b[43mcompression\u001b[49m\u001b[43m,\u001b[49m\n\u001b[1;32m   3909\u001b[0m \u001b[43m    \u001b[49m\u001b[43mquoting\u001b[49m\u001b[38;5;241;43m=\u001b[39;49m\u001b[43mquoting\u001b[49m\u001b[43m,\u001b[49m\n\u001b[1;32m   3910\u001b[0m \u001b[43m    \u001b[49m\u001b[43mcolumns\u001b[49m\u001b[38;5;241;43m=\u001b[39;49m\u001b[43mcolumns\u001b[49m\u001b[43m,\u001b[49m\n\u001b[1;32m   3911\u001b[0m \u001b[43m    \u001b[49m\u001b[43mindex_label\u001b[49m\u001b[38;5;241;43m=\u001b[39;49m\u001b[43mindex_label\u001b[49m\u001b[43m,\u001b[49m\n\u001b[1;32m   3912\u001b[0m \u001b[43m    \u001b[49m\u001b[43mmode\u001b[49m\u001b[38;5;241;43m=\u001b[39;49m\u001b[43mmode\u001b[49m\u001b[43m,\u001b[49m\n\u001b[1;32m   3913\u001b[0m \u001b[43m    \u001b[49m\u001b[43mchunksize\u001b[49m\u001b[38;5;241;43m=\u001b[39;49m\u001b[43mchunksize\u001b[49m\u001b[43m,\u001b[49m\n\u001b[1;32m   3914\u001b[0m \u001b[43m    \u001b[49m\u001b[43mquotechar\u001b[49m\u001b[38;5;241;43m=\u001b[39;49m\u001b[43mquotechar\u001b[49m\u001b[43m,\u001b[49m\n\u001b[1;32m   3915\u001b[0m \u001b[43m    \u001b[49m\u001b[43mdate_format\u001b[49m\u001b[38;5;241;43m=\u001b[39;49m\u001b[43mdate_format\u001b[49m\u001b[43m,\u001b[49m\n\u001b[1;32m   3916\u001b[0m \u001b[43m    \u001b[49m\u001b[43mdoublequote\u001b[49m\u001b[38;5;241;43m=\u001b[39;49m\u001b[43mdoublequote\u001b[49m\u001b[43m,\u001b[49m\n\u001b[1;32m   3917\u001b[0m \u001b[43m    \u001b[49m\u001b[43mescapechar\u001b[49m\u001b[38;5;241;43m=\u001b[39;49m\u001b[43mescapechar\u001b[49m\u001b[43m,\u001b[49m\n\u001b[1;32m   3918\u001b[0m \u001b[43m    \u001b[49m\u001b[43mstorage_options\u001b[49m\u001b[38;5;241;43m=\u001b[39;49m\u001b[43mstorage_options\u001b[49m\u001b[43m,\u001b[49m\n\u001b[1;32m   3919\u001b[0m \u001b[43m\u001b[49m\u001b[43m)\u001b[49m\n",
            "File \u001b[0;32m/shared-libs/python3.9/py/lib/python3.9/site-packages/pandas/io/formats/format.py:1152\u001b[0m, in \u001b[0;36mDataFrameRenderer.to_csv\u001b[0;34m(self, path_or_buf, encoding, sep, columns, index_label, mode, compression, quoting, quotechar, lineterminator, chunksize, date_format, doublequote, escapechar, errors, storage_options)\u001b[0m\n\u001b[1;32m   1131\u001b[0m     created_buffer \u001b[38;5;241m=\u001b[39m \u001b[38;5;28;01mFalse\u001b[39;00m\n\u001b[1;32m   1133\u001b[0m csv_formatter \u001b[38;5;241m=\u001b[39m CSVFormatter(\n\u001b[1;32m   1134\u001b[0m     path_or_buf\u001b[38;5;241m=\u001b[39mpath_or_buf,\n\u001b[1;32m   1135\u001b[0m     lineterminator\u001b[38;5;241m=\u001b[39mlineterminator,\n\u001b[0;32m   (...)\u001b[0m\n\u001b[1;32m   1150\u001b[0m     formatter\u001b[38;5;241m=\u001b[39m\u001b[38;5;28mself\u001b[39m\u001b[38;5;241m.\u001b[39mfmt,\n\u001b[1;32m   1151\u001b[0m )\n\u001b[0;32m-> 1152\u001b[0m \u001b[43mcsv_formatter\u001b[49m\u001b[38;5;241;43m.\u001b[39;49m\u001b[43msave\u001b[49m\u001b[43m(\u001b[49m\u001b[43m)\u001b[49m\n\u001b[1;32m   1154\u001b[0m \u001b[38;5;28;01mif\u001b[39;00m created_buffer:\n\u001b[1;32m   1155\u001b[0m     \u001b[38;5;28;01massert\u001b[39;00m \u001b[38;5;28misinstance\u001b[39m(path_or_buf, StringIO)\n",
            "File \u001b[0;32m/shared-libs/python3.9/py/lib/python3.9/site-packages/pandas/io/formats/csvs.py:266\u001b[0m, in \u001b[0;36mCSVFormatter.save\u001b[0;34m(self)\u001b[0m\n\u001b[1;32m    247\u001b[0m \u001b[38;5;28;01mwith\u001b[39;00m get_handle(\n\u001b[1;32m    248\u001b[0m     \u001b[38;5;28mself\u001b[39m\u001b[38;5;241m.\u001b[39mfilepath_or_buffer,\n\u001b[1;32m    249\u001b[0m     \u001b[38;5;28mself\u001b[39m\u001b[38;5;241m.\u001b[39mmode,\n\u001b[0;32m   (...)\u001b[0m\n\u001b[1;32m    254\u001b[0m ) \u001b[38;5;28;01mas\u001b[39;00m handles:\n\u001b[1;32m    255\u001b[0m     \u001b[38;5;66;03m# Note: self.encoding is irrelevant here\u001b[39;00m\n\u001b[1;32m    256\u001b[0m     \u001b[38;5;28mself\u001b[39m\u001b[38;5;241m.\u001b[39mwriter \u001b[38;5;241m=\u001b[39m csvlib\u001b[38;5;241m.\u001b[39mwriter(\n\u001b[1;32m    257\u001b[0m         handles\u001b[38;5;241m.\u001b[39mhandle,\n\u001b[1;32m    258\u001b[0m         lineterminator\u001b[38;5;241m=\u001b[39m\u001b[38;5;28mself\u001b[39m\u001b[38;5;241m.\u001b[39mlineterminator,\n\u001b[0;32m   (...)\u001b[0m\n\u001b[1;32m    263\u001b[0m         quotechar\u001b[38;5;241m=\u001b[39m\u001b[38;5;28mself\u001b[39m\u001b[38;5;241m.\u001b[39mquotechar,\n\u001b[1;32m    264\u001b[0m     )\n\u001b[0;32m--> 266\u001b[0m     \u001b[38;5;28;43mself\u001b[39;49m\u001b[38;5;241;43m.\u001b[39;49m\u001b[43m_save\u001b[49m\u001b[43m(\u001b[49m\u001b[43m)\u001b[49m\n",
            "File \u001b[0;32m/shared-libs/python3.9/py/lib/python3.9/site-packages/pandas/io/formats/csvs.py:271\u001b[0m, in \u001b[0;36mCSVFormatter._save\u001b[0;34m(self)\u001b[0m\n\u001b[1;32m    269\u001b[0m \u001b[38;5;28;01mif\u001b[39;00m \u001b[38;5;28mself\u001b[39m\u001b[38;5;241m.\u001b[39m_need_to_save_header:\n\u001b[1;32m    270\u001b[0m     \u001b[38;5;28mself\u001b[39m\u001b[38;5;241m.\u001b[39m_save_header()\n\u001b[0;32m--> 271\u001b[0m \u001b[38;5;28;43mself\u001b[39;49m\u001b[38;5;241;43m.\u001b[39;49m\u001b[43m_save_body\u001b[49m\u001b[43m(\u001b[49m\u001b[43m)\u001b[49m\n",
            "File \u001b[0;32m/shared-libs/python3.9/py/lib/python3.9/site-packages/pandas/io/formats/csvs.py:309\u001b[0m, in \u001b[0;36mCSVFormatter._save_body\u001b[0;34m(self)\u001b[0m\n\u001b[1;32m    307\u001b[0m \u001b[38;5;28;01mif\u001b[39;00m start_i \u001b[38;5;241m>\u001b[39m\u001b[38;5;241m=\u001b[39m end_i:\n\u001b[1;32m    308\u001b[0m     \u001b[38;5;28;01mbreak\u001b[39;00m\n\u001b[0;32m--> 309\u001b[0m \u001b[38;5;28;43mself\u001b[39;49m\u001b[38;5;241;43m.\u001b[39;49m\u001b[43m_save_chunk\u001b[49m\u001b[43m(\u001b[49m\u001b[43mstart_i\u001b[49m\u001b[43m,\u001b[49m\u001b[43m \u001b[49m\u001b[43mend_i\u001b[49m\u001b[43m)\u001b[49m\n",
            "File \u001b[0;32m/shared-libs/python3.9/py/lib/python3.9/site-packages/pandas/io/formats/csvs.py:316\u001b[0m, in \u001b[0;36mCSVFormatter._save_chunk\u001b[0;34m(self, start_i, end_i)\u001b[0m\n\u001b[1;32m    313\u001b[0m slicer \u001b[38;5;241m=\u001b[39m \u001b[38;5;28mslice\u001b[39m(start_i, end_i)\n\u001b[1;32m    314\u001b[0m df \u001b[38;5;241m=\u001b[39m \u001b[38;5;28mself\u001b[39m\u001b[38;5;241m.\u001b[39mobj\u001b[38;5;241m.\u001b[39miloc[slicer]\n\u001b[0;32m--> 316\u001b[0m res \u001b[38;5;241m=\u001b[39m \u001b[43mdf\u001b[49m\u001b[38;5;241;43m.\u001b[39;49m\u001b[43m_mgr\u001b[49m\u001b[38;5;241;43m.\u001b[39;49m\u001b[43mto_native_types\u001b[49m\u001b[43m(\u001b[49m\u001b[38;5;241;43m*\u001b[39;49m\u001b[38;5;241;43m*\u001b[39;49m\u001b[38;5;28;43mself\u001b[39;49m\u001b[38;5;241;43m.\u001b[39;49m\u001b[43m_number_format\u001b[49m\u001b[43m)\u001b[49m\n\u001b[1;32m    317\u001b[0m data \u001b[38;5;241m=\u001b[39m [res\u001b[38;5;241m.\u001b[39miget_values(i) \u001b[38;5;28;01mfor\u001b[39;00m i \u001b[38;5;129;01min\u001b[39;00m \u001b[38;5;28mrange\u001b[39m(\u001b[38;5;28mlen\u001b[39m(res\u001b[38;5;241m.\u001b[39mitems))]\n\u001b[1;32m    319\u001b[0m ix \u001b[38;5;241m=\u001b[39m \u001b[38;5;28mself\u001b[39m\u001b[38;5;241m.\u001b[39mdata_index[slicer]\u001b[38;5;241m.\u001b[39m_format_native_types(\u001b[38;5;241m*\u001b[39m\u001b[38;5;241m*\u001b[39m\u001b[38;5;28mself\u001b[39m\u001b[38;5;241m.\u001b[39m_number_format)\n",
            "File \u001b[0;32m/shared-libs/python3.9/py/lib/python3.9/site-packages/pandas/core/internals/managers.py:438\u001b[0m, in \u001b[0;36mBaseBlockManager.to_native_types\u001b[0;34m(self, **kwargs)\u001b[0m\n\u001b[1;32m    433\u001b[0m \u001b[38;5;28;01mdef\u001b[39;00m \u001b[38;5;21mto_native_types\u001b[39m(\u001b[38;5;28mself\u001b[39m, \u001b[38;5;241m*\u001b[39m\u001b[38;5;241m*\u001b[39mkwargs) \u001b[38;5;241m-\u001b[39m\u001b[38;5;241m>\u001b[39m Self:\n\u001b[1;32m    434\u001b[0m     \u001b[38;5;124;03m\"\"\"\u001b[39;00m\n\u001b[1;32m    435\u001b[0m \u001b[38;5;124;03m    Convert values to native types (strings / python objects) that are used\u001b[39;00m\n\u001b[1;32m    436\u001b[0m \u001b[38;5;124;03m    in formatting (repr / csv).\u001b[39;00m\n\u001b[1;32m    437\u001b[0m \u001b[38;5;124;03m    \"\"\"\u001b[39;00m\n\u001b[0;32m--> 438\u001b[0m     \u001b[38;5;28;01mreturn\u001b[39;00m \u001b[38;5;28;43mself\u001b[39;49m\u001b[38;5;241;43m.\u001b[39;49m\u001b[43mapply\u001b[49m\u001b[43m(\u001b[49m\u001b[38;5;124;43m\"\u001b[39;49m\u001b[38;5;124;43mto_native_types\u001b[39;49m\u001b[38;5;124;43m\"\u001b[39;49m\u001b[43m,\u001b[49m\u001b[43m \u001b[49m\u001b[38;5;241;43m*\u001b[39;49m\u001b[38;5;241;43m*\u001b[39;49m\u001b[43mkwargs\u001b[49m\u001b[43m)\u001b[49m\n",
            "File \u001b[0;32m/shared-libs/python3.9/py/lib/python3.9/site-packages/pandas/core/internals/managers.py:354\u001b[0m, in \u001b[0;36mBaseBlockManager.apply\u001b[0;34m(self, f, align_keys, **kwargs)\u001b[0m\n\u001b[1;32m    352\u001b[0m         applied \u001b[38;5;241m=\u001b[39m b\u001b[38;5;241m.\u001b[39mapply(f, \u001b[38;5;241m*\u001b[39m\u001b[38;5;241m*\u001b[39mkwargs)\n\u001b[1;32m    353\u001b[0m     \u001b[38;5;28;01melse\u001b[39;00m:\n\u001b[0;32m--> 354\u001b[0m         applied \u001b[38;5;241m=\u001b[39m \u001b[38;5;28;43mgetattr\u001b[39;49m\u001b[43m(\u001b[49m\u001b[43mb\u001b[49m\u001b[43m,\u001b[49m\u001b[43m \u001b[49m\u001b[43mf\u001b[49m\u001b[43m)\u001b[49m\u001b[43m(\u001b[49m\u001b[38;5;241;43m*\u001b[39;49m\u001b[38;5;241;43m*\u001b[39;49m\u001b[43mkwargs\u001b[49m\u001b[43m)\u001b[49m\n\u001b[1;32m    355\u001b[0m     result_blocks \u001b[38;5;241m=\u001b[39m extend_blocks(applied, result_blocks)\n\u001b[1;32m    357\u001b[0m out \u001b[38;5;241m=\u001b[39m \u001b[38;5;28mtype\u001b[39m(\u001b[38;5;28mself\u001b[39m)\u001b[38;5;241m.\u001b[39mfrom_blocks(result_blocks, \u001b[38;5;28mself\u001b[39m\u001b[38;5;241m.\u001b[39maxes)\n",
            "File \u001b[0;32m/shared-libs/python3.9/py/lib/python3.9/site-packages/pandas/core/internals/blocks.py:636\u001b[0m, in \u001b[0;36mBlock.to_native_types\u001b[0;34m(self, na_rep, quoting, **kwargs)\u001b[0m\n\u001b[1;32m    633\u001b[0m \u001b[38;5;129m@final\u001b[39m\n\u001b[1;32m    634\u001b[0m \u001b[38;5;28;01mdef\u001b[39;00m \u001b[38;5;21mto_native_types\u001b[39m(\u001b[38;5;28mself\u001b[39m, na_rep: \u001b[38;5;28mstr\u001b[39m \u001b[38;5;241m=\u001b[39m \u001b[38;5;124m\"\u001b[39m\u001b[38;5;124mnan\u001b[39m\u001b[38;5;124m\"\u001b[39m, quoting\u001b[38;5;241m=\u001b[39m\u001b[38;5;28;01mNone\u001b[39;00m, \u001b[38;5;241m*\u001b[39m\u001b[38;5;241m*\u001b[39mkwargs) \u001b[38;5;241m-\u001b[39m\u001b[38;5;241m>\u001b[39m Block:\n\u001b[1;32m    635\u001b[0m     \u001b[38;5;124;03m\"\"\"convert to our native types format\"\"\"\u001b[39;00m\n\u001b[0;32m--> 636\u001b[0m     result \u001b[38;5;241m=\u001b[39m \u001b[43mto_native_types\u001b[49m\u001b[43m(\u001b[49m\u001b[38;5;28;43mself\u001b[39;49m\u001b[38;5;241;43m.\u001b[39;49m\u001b[43mvalues\u001b[49m\u001b[43m,\u001b[49m\u001b[43m \u001b[49m\u001b[43mna_rep\u001b[49m\u001b[38;5;241;43m=\u001b[39;49m\u001b[43mna_rep\u001b[49m\u001b[43m,\u001b[49m\u001b[43m \u001b[49m\u001b[43mquoting\u001b[49m\u001b[38;5;241;43m=\u001b[39;49m\u001b[43mquoting\u001b[49m\u001b[43m,\u001b[49m\u001b[43m \u001b[49m\u001b[38;5;241;43m*\u001b[39;49m\u001b[38;5;241;43m*\u001b[39;49m\u001b[43mkwargs\u001b[49m\u001b[43m)\u001b[49m\n\u001b[1;32m    637\u001b[0m     \u001b[38;5;28;01mreturn\u001b[39;00m \u001b[38;5;28mself\u001b[39m\u001b[38;5;241m.\u001b[39mmake_block(result)\n",
            "File \u001b[0;32m/shared-libs/python3.9/py/lib/python3.9/site-packages/pandas/core/internals/blocks.py:2528\u001b[0m, in \u001b[0;36mto_native_types\u001b[0;34m(values, na_rep, quoting, float_format, decimal, **kwargs)\u001b[0m\n\u001b[1;32m   2526\u001b[0m results_converted \u001b[38;5;241m=\u001b[39m []\n\u001b[1;32m   2527\u001b[0m \u001b[38;5;28;01mfor\u001b[39;00m i \u001b[38;5;129;01min\u001b[39;00m \u001b[38;5;28mrange\u001b[39m(\u001b[38;5;28mlen\u001b[39m(values)):\n\u001b[0;32m-> 2528\u001b[0m     result \u001b[38;5;241m=\u001b[39m \u001b[43mvalues\u001b[49m\u001b[43m[\u001b[49m\u001b[43mi\u001b[49m\u001b[43m,\u001b[49m\u001b[43m \u001b[49m\u001b[43m:\u001b[49m\u001b[43m]\u001b[49m\u001b[38;5;241;43m.\u001b[39;49m\u001b[43m_format_native_types\u001b[49m\u001b[43m(\u001b[49m\u001b[43mna_rep\u001b[49m\u001b[38;5;241;43m=\u001b[39;49m\u001b[43mna_rep\u001b[49m\u001b[43m,\u001b[49m\u001b[43m \u001b[49m\u001b[38;5;241;43m*\u001b[39;49m\u001b[38;5;241;43m*\u001b[39;49m\u001b[43mkwargs\u001b[49m\u001b[43m)\u001b[49m\n\u001b[1;32m   2529\u001b[0m     results_converted\u001b[38;5;241m.\u001b[39mappend(result\u001b[38;5;241m.\u001b[39mastype(\u001b[38;5;28mobject\u001b[39m, copy\u001b[38;5;241m=\u001b[39m\u001b[38;5;28;01mFalse\u001b[39;00m))\n\u001b[1;32m   2530\u001b[0m \u001b[38;5;28;01mreturn\u001b[39;00m np\u001b[38;5;241m.\u001b[39mvstack(results_converted)\n",
            "File \u001b[0;32m/shared-libs/python3.9/py/lib/python3.9/site-packages/pandas/core/arrays/datetimes.py:739\u001b[0m, in \u001b[0;36mDatetimeArray._format_native_types\u001b[0;34m(self, na_rep, date_format, **kwargs)\u001b[0m\n\u001b[1;32m    735\u001b[0m \u001b[38;5;28;01mfrom\u001b[39;00m \u001b[38;5;21;01mpandas\u001b[39;00m\u001b[38;5;21;01m.\u001b[39;00m\u001b[38;5;21;01mio\u001b[39;00m\u001b[38;5;21;01m.\u001b[39;00m\u001b[38;5;21;01mformats\u001b[39;00m\u001b[38;5;21;01m.\u001b[39;00m\u001b[38;5;21;01mformat\u001b[39;00m \u001b[38;5;28;01mimport\u001b[39;00m get_format_datetime64_from_values\n\u001b[1;32m    737\u001b[0m fmt \u001b[38;5;241m=\u001b[39m get_format_datetime64_from_values(\u001b[38;5;28mself\u001b[39m, date_format)\n\u001b[0;32m--> 739\u001b[0m \u001b[38;5;28;01mreturn\u001b[39;00m \u001b[43mtslib\u001b[49m\u001b[38;5;241;43m.\u001b[39;49m\u001b[43mformat_array_from_datetime\u001b[49m\u001b[43m(\u001b[49m\n\u001b[1;32m    740\u001b[0m \u001b[43m    \u001b[49m\u001b[38;5;28;43mself\u001b[39;49m\u001b[38;5;241;43m.\u001b[39;49m\u001b[43masi8\u001b[49m\u001b[43m,\u001b[49m\u001b[43m \u001b[49m\u001b[43mtz\u001b[49m\u001b[38;5;241;43m=\u001b[39;49m\u001b[38;5;28;43mself\u001b[39;49m\u001b[38;5;241;43m.\u001b[39;49m\u001b[43mtz\u001b[49m\u001b[43m,\u001b[49m\u001b[43m \u001b[49m\u001b[38;5;28;43mformat\u001b[39;49m\u001b[38;5;241;43m=\u001b[39;49m\u001b[43mfmt\u001b[49m\u001b[43m,\u001b[49m\u001b[43m \u001b[49m\u001b[43mna_rep\u001b[49m\u001b[38;5;241;43m=\u001b[39;49m\u001b[43mna_rep\u001b[49m\u001b[43m,\u001b[49m\u001b[43m \u001b[49m\u001b[43mreso\u001b[49m\u001b[38;5;241;43m=\u001b[39;49m\u001b[38;5;28;43mself\u001b[39;49m\u001b[38;5;241;43m.\u001b[39;49m\u001b[43m_creso\u001b[49m\n\u001b[1;32m    741\u001b[0m \u001b[43m\u001b[49m\u001b[43m)\u001b[49m\n",
            "File \u001b[0;32mtslib.pyx:184\u001b[0m, in \u001b[0;36mpandas._libs.tslib.format_array_from_datetime\u001b[0;34m()\u001b[0m\n",
            "\u001b[0;31mKeyboardInterrupt\u001b[0m: "
          ]
        }
      ],
      "outputs_reference": null,
      "execution_count": null,
      "block_group": "d3b01d4fb0c449d88f464362fb9ce7ff",
      "content_dependencies": null
    },
    {
      "cell_type": "code",
      "source": "\ndf_1[df_1['LICENSE_GROUP'].isnull()]",
      "metadata": {
        "source_hash": null,
        "execution_start": 1710869907294,
        "execution_millis": 561,
        "deepnote_table_state": {
          "sortBy": [],
          "filters": [],
          "pageSize": 10,
          "pageIndex": 2
        },
        "deepnote_table_loading": false,
        "deepnote_to_be_reexecuted": false,
        "cell_id": "97f032bf39ce4465af55149c10952cf7",
        "deepnote_cell_type": "code"
      },
      "outputs": [
        {
          "output_type": "execute_result",
          "execution_count": 9,
          "data": {
            "application/vnd.deepnote.dataframe.v3+json": {
              "column_count": 36,
              "row_count": 29806,
              "columns": [
                {
                  "name": "ID",
                  "dtype": "object",
                  "stats": {
                    "unique_count": 29803,
                    "nan_count": 0,
                    "categories": [
                      {
                        "name": "12269-20020516",
                        "count": 2
                      },
                      {
                        "name": "38256-20021116",
                        "count": 2
                      },
                      {
                        "name": "29801 others",
                        "count": 29802
                      }
                    ]
                  }
                },
                {
                  "name": "LICENSE_ID",
                  "dtype": "int64",
                  "stats": {
                    "unique_count": 29806,
                    "nan_count": 0,
                    "min": "1095",
                    "max": "2955423",
                    "histogram": [
                      {
                        "bin_start": 1095,
                        "bin_end": 296527.8,
                        "count": 122
                      },
                      {
                        "bin_start": 296527.8,
                        "bin_end": 591960.6,
                        "count": 7
                      },
                      {
                        "bin_start": 591960.6,
                        "bin_end": 887393.3999999999,
                        "count": 0
                      },
                      {
                        "bin_start": 887393.3999999999,
                        "bin_end": 1182826.2,
                        "count": 152
                      },
                      {
                        "bin_start": 1182826.2,
                        "bin_end": 1478259,
                        "count": 6115
                      },
                      {
                        "bin_start": 1478259,
                        "bin_end": 1773691.7999999998,
                        "count": 4656
                      },
                      {
                        "bin_start": 1773691.7999999998,
                        "bin_end": 2069124.5999999999,
                        "count": 4887
                      },
                      {
                        "bin_start": 2069124.5999999999,
                        "bin_end": 2364557.4,
                        "count": 4289
                      },
                      {
                        "bin_start": 2364557.4,
                        "bin_end": 2659990.1999999997,
                        "count": 4711
                      },
                      {
                        "bin_start": 2659990.1999999997,
                        "bin_end": 2955423,
                        "count": 4867
                      }
                    ]
                  }
                },
                {
                  "name": "ACCOUNT_NUMBER",
                  "dtype": "int64",
                  "stats": {
                    "unique_count": 4101,
                    "nan_count": 0,
                    "min": "13",
                    "max": "503284",
                    "histogram": [
                      {
                        "bin_start": 13,
                        "bin_end": 50340.1,
                        "count": 12797
                      },
                      {
                        "bin_start": 50340.1,
                        "bin_end": 100667.2,
                        "count": 4983
                      },
                      {
                        "bin_start": 100667.2,
                        "bin_end": 150994.3,
                        "count": 0
                      },
                      {
                        "bin_start": 150994.3,
                        "bin_end": 201321.4,
                        "count": 46
                      },
                      {
                        "bin_start": 201321.4,
                        "bin_end": 251648.5,
                        "count": 1867
                      },
                      {
                        "bin_start": 251648.5,
                        "bin_end": 301975.6,
                        "count": 3135
                      },
                      {
                        "bin_start": 301975.6,
                        "bin_end": 352302.7,
                        "count": 2602
                      },
                      {
                        "bin_start": 352302.7,
                        "bin_end": 402629.8,
                        "count": 2780
                      },
                      {
                        "bin_start": 402629.8,
                        "bin_end": 452956.89999999997,
                        "count": 971
                      },
                      {
                        "bin_start": 452956.89999999997,
                        "bin_end": 503284,
                        "count": 625
                      }
                    ]
                  }
                },
                {
                  "name": "SITE_NUMBER",
                  "dtype": "int64"
                },
                {
                  "name": "LEGAL_NAME",
                  "dtype": "object"
                },
                {
                  "name": "DBA",
                  "dtype": "object"
                },
                {
                  "name": "ADDRESS",
                  "dtype": "object"
                },
                {
                  "name": "CITY",
                  "dtype": "object"
                },
                {
                  "name": "STATE",
                  "dtype": "object"
                },
                {
                  "name": "ZIP_CODE",
                  "dtype": "int64"
                },
                {
                  "name": "WARD",
                  "dtype": "float64"
                },
                {
                  "name": "PRECINCT",
                  "dtype": "float64"
                },
                {
                  "name": "WARD_PRECINCT",
                  "dtype": "object"
                },
                {
                  "name": "POLICE_DISTRICT",
                  "dtype": "float64"
                },
                {
                  "name": "LICENSE_CODE",
                  "dtype": "int64"
                },
                {
                  "name": "LICENSE_DESCRIPTION",
                  "dtype": "object"
                },
                {
                  "name": "BUSINESS_ACTIVITY_ID",
                  "dtype": "object"
                },
                {
                  "name": "BUSINESS_ACTIVITY",
                  "dtype": "object"
                },
                {
                  "name": "LICENSE_NUMBER",
                  "dtype": "int64"
                },
                {
                  "name": "APPLICATION_TYPE",
                  "dtype": "object"
                },
                {
                  "name": "APPLICATION_CREATED_DATE",
                  "dtype": "datetime64[us]"
                },
                {
                  "name": "APPLICATION_REQUIREMENTS_COMPLETE",
                  "dtype": "datetime64[us]"
                },
                {
                  "name": "PAYMENT_DATE",
                  "dtype": "datetime64[us]"
                },
                {
                  "name": "CONDITIONAL_APPROVAL",
                  "dtype": "object"
                },
                {
                  "name": "LICENSE_TERM_START_DATE",
                  "dtype": "datetime64[us]"
                },
                {
                  "name": "LICENSE_TERM_EXPIRATION_DATE",
                  "dtype": "datetime64[us]"
                },
                {
                  "name": "LICENSE_APPROVED_FOR_ISSUANCE",
                  "dtype": "datetime64[us]"
                },
                {
                  "name": "DATE_ISSUED",
                  "dtype": "datetime64[us]"
                },
                {
                  "name": "LICENSE_STATUS",
                  "dtype": "object"
                },
                {
                  "name": "LICENSE_STATUS_CHANGE_DATE",
                  "dtype": "datetime64[us]"
                },
                {
                  "name": "SSA",
                  "dtype": "float64"
                },
                {
                  "name": "LATITUDE",
                  "dtype": "float64"
                },
                {
                  "name": "LONGITUDE",
                  "dtype": "float64"
                },
                {
                  "name": "LOCATION",
                  "dtype": "object"
                },
                {
                  "name": "TIF_Name",
                  "dtype": "object"
                },
                {
                  "name": "LICENSE_GROUP",
                  "dtype": "object"
                },
                {
                  "name": "_deepnote_index_column",
                  "dtype": "int64"
                }
              ],
              "rows": [
                {
                  "ID": "1969369-20220716",
                  "LICENSE_ID": 2847941,
                  "ACCOUNT_NUMBER": 317101,
                  "SITE_NUMBER": 1,
                  "LEGAL_NAME": "MANDIR, INC.",
                  "DBA": "BUY LOW FOOD & LIQUOR",
                  "ADDRESS": "847-853 W 87TH ST 1",
                  "CITY": "CHICAGO",
                  "STATE": "IL",
                  "ZIP_CODE": 60620,
                  "WARD": 21,
                  "PRECINCT": 6,
                  "WARD_PRECINCT": "21-6",
                  "POLICE_DISTRICT": 22,
                  "LICENSE_CODE": 1474,
                  "LICENSE_DESCRIPTION": "Package Goods",
                  "BUSINESS_ACTIVITY_ID": "774",
                  "BUSINESS_ACTIVITY": "Retail Sales of Packaged Liquor",
                  "LICENSE_NUMBER": 1969369,
                  "APPLICATION_TYPE": "RENEW",
                  "APPLICATION_CREATED_DATE": "NaT",
                  "APPLICATION_REQUIREMENTS_COMPLETE": "2022-05-15 00:00:00",
                  "PAYMENT_DATE": "2022-05-17 00:00:00",
                  "CONDITIONAL_APPROVAL": "N",
                  "LICENSE_TERM_START_DATE": "2022-07-16 00:00:00",
                  "LICENSE_TERM_EXPIRATION_DATE": "2024-07-15 00:00:00",
                  "LICENSE_APPROVED_FOR_ISSUANCE": "2022-05-17 00:00:00",
                  "DATE_ISSUED": "2022-05-18 00:00:00",
                  "LICENSE_STATUS": "AAI",
                  "LICENSE_STATUS_CHANGE_DATE": "NaT",
                  "SSA": "nan",
                  "LATITUDE": 41.735939362,
                  "LONGITUDE": -87.645333175,
                  "LOCATION": "(41.73593936167209, -87.64533317498139)",
                  "TIF_Name": "[]",
                  "LICENSE_GROUP": "nan",
                  "_deepnote_index_column": 1018
                },
                {
                  "ID": "1891998-20210716",
                  "LICENSE_ID": 2787325,
                  "ACCOUNT_NUMBER": 29004,
                  "SITE_NUMBER": 1,
                  "LEGAL_NAME": "JESSICA JEWELRY CENTER, INC.",
                  "DBA": "JESSICA JEWELRY CENTER, INC.",
                  "ADDRESS": "1974 W LAWRENCE AVE",
                  "CITY": "CHICAGO",
                  "STATE": "IL",
                  "ZIP_CODE": 60640,
                  "WARD": 47,
                  "PRECINCT": 36,
                  "WARD_PRECINCT": "47-36",
                  "POLICE_DISTRICT": 20,
                  "LICENSE_CODE": 1683,
                  "LICENSE_DESCRIPTION": "Secondhand Dealer",
                  "BUSINESS_ACTIVITY_ID": "624",
                  "BUSINESS_ACTIVITY": "Buying and Reselling of Used Valuable Objects",
                  "LICENSE_NUMBER": 1891998,
                  "APPLICATION_TYPE": "RENEW",
                  "APPLICATION_CREATED_DATE": "NaT",
                  "APPLICATION_REQUIREMENTS_COMPLETE": "2021-05-15 00:00:00",
                  "PAYMENT_DATE": "2021-06-16 00:00:00",
                  "CONDITIONAL_APPROVAL": "N",
                  "LICENSE_TERM_START_DATE": "2021-07-16 00:00:00",
                  "LICENSE_TERM_EXPIRATION_DATE": "2023-07-15 00:00:00",
                  "LICENSE_APPROVED_FOR_ISSUANCE": "2021-06-16 00:00:00",
                  "DATE_ISSUED": "2021-06-17 00:00:00",
                  "LICENSE_STATUS": "AAC",
                  "LICENSE_STATUS_CHANGE_DATE": "2023-05-17 00:00:00",
                  "SSA": 31,
                  "LATITUDE": 41.968866898,
                  "LONGITUDE": -87.6791137,
                  "LOCATION": "(41.968866898343286, -87.67911370027275)",
                  "TIF_Name": "['Western Avenue North']",
                  "LICENSE_GROUP": "nan",
                  "_deepnote_index_column": 1092
                },
                {
                  "ID": "2309124-20220616",
                  "LICENSE_ID": 2843833,
                  "ACCOUNT_NUMBER": 388168,
                  "SITE_NUMBER": 1,
                  "LEGAL_NAME": "PETE'S FRESH MARKET MADISON CORPORATION",
                  "DBA": "PETES FRESH MARKET #10",
                  "ADDRESS": "2333 W MADISON ST",
                  "CITY": "CHICAGO",
                  "STATE": "IL",
                  "ZIP_CODE": 60612,
                  "WARD": 27,
                  "PRECINCT": 53,
                  "WARD_PRECINCT": "27-53",
                  "POLICE_DISTRICT": 12,
                  "LICENSE_CODE": 1474,
                  "LICENSE_DESCRIPTION": "Package Goods",
                  "BUSINESS_ACTIVITY_ID": "774",
                  "BUSINESS_ACTIVITY": "Retail Sales of Packaged Liquor",
                  "LICENSE_NUMBER": 2309124,
                  "APPLICATION_TYPE": "RENEW",
                  "APPLICATION_CREATED_DATE": "NaT",
                  "APPLICATION_REQUIREMENTS_COMPLETE": "2022-04-15 00:00:00",
                  "PAYMENT_DATE": "2022-05-19 00:00:00",
                  "CONDITIONAL_APPROVAL": "N",
                  "LICENSE_TERM_START_DATE": "2022-06-16 00:00:00",
                  "LICENSE_TERM_EXPIRATION_DATE": "2024-06-15 00:00:00",
                  "LICENSE_APPROVED_FOR_ISSUANCE": "2022-05-19 00:00:00",
                  "DATE_ISSUED": "2022-05-20 00:00:00",
                  "LICENSE_STATUS": "AAI",
                  "LICENSE_STATUS_CHANGE_DATE": "NaT",
                  "SSA": "nan",
                  "LATITUDE": 41.881069374,
                  "LONGITUDE": -87.685307553,
                  "LOCATION": "(41.88106937422222, -87.68530755272025)",
                  "TIF_Name": "['Central West']",
                  "LICENSE_GROUP": "nan",
                  "_deepnote_index_column": 1118
                },
                {
                  "ID": "25595-20220616",
                  "LICENSE_ID": 2841682,
                  "ACCOUNT_NUMBER": 10393,
                  "SITE_NUMBER": 2,
                  "LEGAL_NAME": "BERNIE'S, INC.",
                  "DBA": "BERNIE'S",
                  "ADDRESS": "3664 N CLARK ST 1 AND 2",
                  "CITY": "CHICAGO",
                  "STATE": "IL",
                  "ZIP_CODE": 60613,
                  "WARD": 44,
                  "PRECINCT": 50,
                  "WARD_PRECINCT": "44-50",
                  "POLICE_DISTRICT": 19,
                  "LICENSE_CODE": 1477,
                  "LICENSE_DESCRIPTION": "Outdoor Patio",
                  "BUSINESS_ACTIVITY_ID": "784",
                  "BUSINESS_ACTIVITY": "Sale of Liquor Outdoors on Private Property",
                  "LICENSE_NUMBER": 25595,
                  "APPLICATION_TYPE": "RENEW",
                  "APPLICATION_CREATED_DATE": "NaT",
                  "APPLICATION_REQUIREMENTS_COMPLETE": "2022-04-15 00:00:00",
                  "PAYMENT_DATE": "2022-05-17 00:00:00",
                  "CONDITIONAL_APPROVAL": "N",
                  "LICENSE_TERM_START_DATE": "2022-06-16 00:00:00",
                  "LICENSE_TERM_EXPIRATION_DATE": "2024-06-15 00:00:00",
                  "LICENSE_APPROVED_FOR_ISSUANCE": "2022-05-17 00:00:00",
                  "DATE_ISSUED": "2022-05-18 00:00:00",
                  "LICENSE_STATUS": "AAI",
                  "LICENSE_STATUS_CHANGE_DATE": "NaT",
                  "SSA": 17,
                  "LATITUDE": 41.948843781,
                  "LONGITUDE": -87.658009262,
                  "LOCATION": "(41.948843780887984, -87.65800926199522)",
                  "TIF_Name": "['Red and Purple Modernization Phase One Project']",
                  "LICENSE_GROUP": "nan",
                  "_deepnote_index_column": 1182
                },
                {
                  "ID": "67019-20220416",
                  "LICENSE_ID": 2832323,
                  "ACCOUNT_NUMBER": 59753,
                  "SITE_NUMBER": 1,
                  "LEGAL_NAME": "LAWRENCE D LE BLANC",
                  "DBA": "L.D.L. SALE",
                  "ADDRESS": "5255 W NORTH AVE  1",
                  "CITY": "CHICAGO",
                  "STATE": "IL",
                  "ZIP_CODE": 60639,
                  "WARD": 37,
                  "PRECINCT": 41,
                  "WARD_PRECINCT": "37-41",
                  "POLICE_DISTRICT": 25,
                  "LICENSE_CODE": 1683,
                  "LICENSE_DESCRIPTION": "Secondhand Dealer",
                  "BUSINESS_ACTIVITY_ID": "624",
                  "BUSINESS_ACTIVITY": "Buying and Reselling of Used Valuable Objects",
                  "LICENSE_NUMBER": 67019,
                  "APPLICATION_TYPE": "RENEW",
                  "APPLICATION_CREATED_DATE": "NaT",
                  "APPLICATION_REQUIREMENTS_COMPLETE": "2022-02-15 00:00:00",
                  "PAYMENT_DATE": "2022-05-16 00:00:00",
                  "CONDITIONAL_APPROVAL": "N",
                  "LICENSE_TERM_START_DATE": "2022-04-16 00:00:00",
                  "LICENSE_TERM_EXPIRATION_DATE": "2024-04-15 00:00:00",
                  "LICENSE_APPROVED_FOR_ISSUANCE": "2022-05-16 00:00:00",
                  "DATE_ISSUED": "2022-05-17 00:00:00",
                  "LICENSE_STATUS": "AAI",
                  "LICENSE_STATUS_CHANGE_DATE": "NaT",
                  "SSA": "nan",
                  "LATITUDE": 41.909367052,
                  "LONGITUDE": -87.757713277,
                  "LOCATION": "(41.90936705171328, -87.75771327745655)",
                  "TIF_Name": "['Austin Commercial']",
                  "LICENSE_GROUP": "nan",
                  "_deepnote_index_column": 1215
                },
                {
                  "ID": "2830674-20220308",
                  "LICENSE_ID": 2830674,
                  "ACCOUNT_NUMBER": 482623,
                  "SITE_NUMBER": 1,
                  "LEGAL_NAME": "SUPERMERCADO MARTIN #3 LLC",
                  "DBA": "SUPERMERCADO",
                  "ADDRESS": "7141-7147 W ADDISON ST",
                  "CITY": "CHICAGO",
                  "STATE": "IL",
                  "ZIP_CODE": 60634,
                  "WARD": 38,
                  "PRECINCT": 5,
                  "WARD_PRECINCT": "38-5",
                  "POLICE_DISTRICT": 16,
                  "LICENSE_CODE": 1474,
                  "LICENSE_DESCRIPTION": "Package Goods",
                  "BUSINESS_ACTIVITY_ID": "774 | 932",
                  "BUSINESS_ACTIVITY": "Retail Sales of Packaged Liquor | Retail Sales of Packaged Liquor on Sundays from 8AM - 11AM",
                  "LICENSE_NUMBER": 2830674,
                  "APPLICATION_TYPE": "ISSUE",
                  "APPLICATION_CREATED_DATE": "2022-01-18 00:00:00",
                  "APPLICATION_REQUIREMENTS_COMPLETE": "2022-01-20 00:00:00",
                  "PAYMENT_DATE": "2022-01-20 00:00:00",
                  "CONDITIONAL_APPROVAL": "N",
                  "LICENSE_TERM_START_DATE": "2022-03-08 00:00:00",
                  "LICENSE_TERM_EXPIRATION_DATE": "2024-03-15 00:00:00",
                  "LICENSE_APPROVED_FOR_ISSUANCE": "2022-03-08 00:00:00",
                  "DATE_ISSUED": "2022-03-08 00:00:00",
                  "LICENSE_STATUS": "AAI",
                  "LICENSE_STATUS_CHANGE_DATE": "NaT",
                  "SSA": "nan",
                  "LATITUDE": 41.945191111,
                  "LONGITUDE": -87.804997303,
                  "LOCATION": "(41.945191110996866, -87.80499730288055)",
                  "TIF_Name": "[]",
                  "LICENSE_GROUP": "nan",
                  "_deepnote_index_column": 1220
                },
                {
                  "ID": "2713462-20220716",
                  "LICENSE_ID": 2849769,
                  "ACCOUNT_NUMBER": 466438,
                  "SITE_NUMBER": 1,
                  "LEGAL_NAME": "TESTACCIO LLC",
                  "DBA": "TESTACCIO",
                  "ADDRESS": "2456 N CALIFORNIA AVE LL+1",
                  "CITY": "CHICAGO",
                  "STATE": "IL",
                  "ZIP_CODE": 60647,
                  "WARD": 1,
                  "PRECINCT": 41,
                  "WARD_PRECINCT": "1-41",
                  "POLICE_DISTRICT": 14,
                  "LICENSE_CODE": 1477,
                  "LICENSE_DESCRIPTION": "Outdoor Patio",
                  "BUSINESS_ACTIVITY_ID": "784",
                  "BUSINESS_ACTIVITY": "Sale of Liquor Outdoors on Private Property",
                  "LICENSE_NUMBER": 2713462,
                  "APPLICATION_TYPE": "RENEW",
                  "APPLICATION_CREATED_DATE": "NaT",
                  "APPLICATION_REQUIREMENTS_COMPLETE": "2022-05-15 00:00:00",
                  "PAYMENT_DATE": "2022-05-17 00:00:00",
                  "CONDITIONAL_APPROVAL": "N",
                  "LICENSE_TERM_START_DATE": "2022-07-16 00:00:00",
                  "LICENSE_TERM_EXPIRATION_DATE": "2024-07-15 00:00:00",
                  "LICENSE_APPROVED_FOR_ISSUANCE": "2022-05-17 00:00:00",
                  "DATE_ISSUED": "2022-05-18 00:00:00",
                  "LICENSE_STATUS": "AAI",
                  "LICENSE_STATUS_CHANGE_DATE": "NaT",
                  "SSA": "nan",
                  "LATITUDE": 41.926480288,
                  "LONGITUDE": -87.697607928,
                  "LOCATION": "(41.92648028782631, -87.69760792778989)",
                  "TIF_Name": "[]",
                  "LICENSE_GROUP": "nan",
                  "_deepnote_index_column": 1260
                },
                {
                  "ID": "2327226-20220616",
                  "LICENSE_ID": 2843864,
                  "ACCOUNT_NUMBER": 389169,
                  "SITE_NUMBER": 1,
                  "LEGAL_NAME": "PHEIDIAS, INC.",
                  "DBA": "DELI BOUTIQUE, WINE AND SPIRITS",
                  "ADDRESS": "2318 N CLARK ST",
                  "CITY": "CHICAGO",
                  "STATE": "IL",
                  "ZIP_CODE": 60614,
                  "WARD": 43,
                  "PRECINCT": 58,
                  "WARD_PRECINCT": "43-58",
                  "POLICE_DISTRICT": 18,
                  "LICENSE_CODE": 1474,
                  "LICENSE_DESCRIPTION": "Package Goods",
                  "BUSINESS_ACTIVITY_ID": "774",
                  "BUSINESS_ACTIVITY": "Retail Sales of Packaged Liquor",
                  "LICENSE_NUMBER": 2327226,
                  "APPLICATION_TYPE": "RENEW",
                  "APPLICATION_CREATED_DATE": "NaT",
                  "APPLICATION_REQUIREMENTS_COMPLETE": "2022-04-15 00:00:00",
                  "PAYMENT_DATE": "2022-05-19 00:00:00",
                  "CONDITIONAL_APPROVAL": "N",
                  "LICENSE_TERM_START_DATE": "2022-06-16 00:00:00",
                  "LICENSE_TERM_EXPIRATION_DATE": "2024-06-15 00:00:00",
                  "LICENSE_APPROVED_FOR_ISSUANCE": "2022-05-19 00:00:00",
                  "DATE_ISSUED": "2022-05-20 00:00:00",
                  "LICENSE_STATUS": "AAI",
                  "LICENSE_STATUS_CHANGE_DATE": "NaT",
                  "SSA": 23,
                  "LATITUDE": 41.924249821,
                  "LONGITUDE": -87.639815939,
                  "LOCATION": "(41.924249820611024, -87.63981593894823)",
                  "TIF_Name": "[]",
                  "LICENSE_GROUP": "nan",
                  "_deepnote_index_column": 1292
                },
                {
                  "ID": "2753743-20230716",
                  "LICENSE_ID": 2911070,
                  "ACCOUNT_NUMBER": 470427,
                  "SITE_NUMBER": 1,
                  "LEGAL_NAME": "KARAN 7, INC.",
                  "DBA": "Silver Leaf Wine & Spirits",
                  "ADDRESS": "3402 W FULLERTON AVE 1ST",
                  "CITY": "CHICAGO",
                  "STATE": "IL",
                  "ZIP_CODE": 60647,
                  "WARD": 35,
                  "PRECINCT": "nan",
                  "WARD_PRECINCT": "35-",
                  "POLICE_DISTRICT": 14,
                  "LICENSE_CODE": 1474,
                  "LICENSE_DESCRIPTION": "Package Goods",
                  "BUSINESS_ACTIVITY_ID": "774",
                  "BUSINESS_ACTIVITY": "Retail Sales of Packaged Liquor",
                  "LICENSE_NUMBER": 2753743,
                  "APPLICATION_TYPE": "RENEW",
                  "APPLICATION_CREATED_DATE": "NaT",
                  "APPLICATION_REQUIREMENTS_COMPLETE": "2023-05-15 00:00:00",
                  "PAYMENT_DATE": "2023-05-16 00:00:00",
                  "CONDITIONAL_APPROVAL": "N",
                  "LICENSE_TERM_START_DATE": "2023-07-16 00:00:00",
                  "LICENSE_TERM_EXPIRATION_DATE": "2025-07-15 00:00:00",
                  "LICENSE_APPROVED_FOR_ISSUANCE": "2023-05-16 00:00:00",
                  "DATE_ISSUED": "2023-05-17 00:00:00",
                  "LICENSE_STATUS": "AAI",
                  "LICENSE_STATUS_CHANGE_DATE": "NaT",
                  "SSA": "nan",
                  "LATITUDE": 41.924768173,
                  "LONGITUDE": -87.712248423,
                  "LOCATION": "(41.92476817256731, -87.7122484231239)",
                  "TIF_Name": "[]",
                  "LICENSE_GROUP": "nan",
                  "_deepnote_index_column": 1299
                },
                {
                  "ID": "2835886-20220518",
                  "LICENSE_ID": 2835886,
                  "ACCOUNT_NUMBER": 483807,
                  "SITE_NUMBER": 1,
                  "LEGAL_NAME": "Cajun Chicago Inc.",
                  "DBA": "Cajun Boil & Shake",
                  "ADDRESS": "5500 S SHORE DR  COM-101",
                  "CITY": "CHICAGO",
                  "STATE": "IL",
                  "ZIP_CODE": 60637,
                  "WARD": 5,
                  "PRECINCT": "nan",
                  "WARD_PRECINCT": "5-",
                  "POLICE_DISTRICT": 2,
                  "LICENSE_CODE": 1477,
                  "LICENSE_DESCRIPTION": "Outdoor Patio",
                  "BUSINESS_ACTIVITY_ID": "784",
                  "BUSINESS_ACTIVITY": "Sale of Liquor Outdoors on Private Property",
                  "LICENSE_NUMBER": 2835886,
                  "APPLICATION_TYPE": "ISSUE",
                  "APPLICATION_CREATED_DATE": "2022-03-09 00:00:00",
                  "APPLICATION_REQUIREMENTS_COMPLETE": "2022-04-07 00:00:00",
                  "PAYMENT_DATE": "2022-03-09 00:00:00",
                  "CONDITIONAL_APPROVAL": "N",
                  "LICENSE_TERM_START_DATE": "2022-05-18 00:00:00",
                  "LICENSE_TERM_EXPIRATION_DATE": "2024-06-15 00:00:00",
                  "LICENSE_APPROVED_FOR_ISSUANCE": "2022-05-18 00:00:00",
                  "DATE_ISSUED": "2022-05-18 00:00:00",
                  "LICENSE_STATUS": "AAI",
                  "LICENSE_STATUS_CHANGE_DATE": "NaT",
                  "SSA": "nan",
                  "LATITUDE": 41.795185016,
                  "LONGITUDE": -87.580597772,
                  "LOCATION": "(41.79518501605705, -87.58059777168157)",
                  "TIF_Name": "[]",
                  "LICENSE_GROUP": "nan",
                  "_deepnote_index_column": 1313
                }
              ]
            },
            "text/plain": "                       ID  LICENSE_ID  ACCOUNT_NUMBER  SITE_NUMBER  \\\n79       2839854-20220808     2839854          397185            2   \n102      2840595-20220511     2840595          392906           25   \n126      2411636-20220916     2858267           62544           34   \n191        61237-20220516     2837035           86347            1   \n381      2840617-20220513     2840617          484408            1   \n...                   ...         ...             ...          ...   \n1033424  2851063-20220715     2851063          408979            3   \n1033511     4194-20030516     1339417           64543           10   \n1033526  1619088-20091016     1989590          294380            1   \n1033572  1545000-20151016     2421112          283952            1   \n1033605    46478-20081116     1928752           16659            1   \n\n                             LEGAL_NAME                         DBA  \\\n79        HOP BUTCHER FOR THE WORLD LLC   Hop Butcher For the World   \n102      FOXTROT VENTURES, INCORPORATED                     Foxtrot   \n126                   HYATT CORPORATION              MARKET CHICAGO   \n191                 S&W CHICAGO, L.L.C.           SMITH & WOLLENSKY   \n381                 PLANTX MIDWEST INC.                     XMARKET   \n...                                 ...                         ...   \n1033424            EDEN IN CHICAGO, LLC                        EDEN   \n1033511  GOLD STANDARD ENTERPRISES INC.      BINNY'S BEVERAGE DEPOT   \n1033526        RRR RAIDAN LIQUORS, INC.            KONRAD'S LIQUORS   \n1033572                ROSALIE HARRISON  Kedzie Koins & Jewelry Inc   \n1033605        CRATER FOOD & LIQUOR INC        CRATER FOOD & LIQUOR   \n\n                             ADDRESS     CITY STATE  ZIP_CODE  ...  \\\n79           4253-4259 N LINCOLN AVE  CHICAGO    IL     60618  ...   \n102                3649 N CLARK ST 1  CHICAGO    IL     60613  ...   \n126                151 E WACKER DR 1  CHICAGO    IL     60601  ...   \n191            318 N STATE ST LL + 1  CHICAGO    IL     60654  ...   \n381      804 W MONTROSE AVE 1 & MEZZ  CHICAGO    IL     60613  ...   \n...                              ...      ...   ...       ...  ...   \n1033424           2734 W ROSCOE ST 1  CHICAGO    IL     60618  ...   \n1033511           1720 N MARCEY ST 1  CHICAGO    IL     60614  ...   \n1033526    6720-6724 W BELMONT AVE 1  CHICAGO    IL     60634  ...   \n1033572            5909 S KEDZIE AVE  CHICAGO    IL     60629  ...   \n1033605         1144 N MILWAUKEE AVE  CHICAGO    IL     60642  ...   \n\n         LICENSE_APPROVED_FOR_ISSUANCE  DATE_ISSUED LICENSE_STATUS  \\\n79                          2022-08-08   2022-08-08            AAI   \n102                         2022-05-11   2022-05-11            AAI   \n126                         2022-08-05   2022-08-08            AAI   \n191                         2022-07-14   2022-08-08            AAI   \n381                         2022-05-13   2022-05-13            AAI   \n...                                ...          ...            ...   \n1033424                     2022-07-15   2022-07-15            AAI   \n1033511                     2003-06-10   2003-06-11            AAC   \n1033526                     2009-09-16   2009-09-17            AAI   \n1033572                     2015-08-27   2015-08-28            AAI   \n1033605                     2008-10-30   2008-10-31            AAI   \n\n         LICENSE_STATUS_CHANGE_DATE   SSA   LATITUDE  LONGITUDE  \\\n79                              NaT  38.0  41.959233 -87.682153   \n102                             NaT  17.0  41.948481 -87.657372   \n126                             NaT   NaN  41.888000 -87.622565   \n191                             NaT   NaN  41.888041 -87.628171   \n381                             NaT  34.0  41.961951 -87.650132   \n...                             ...   ...        ...        ...   \n1033424                         NaT   NaN  41.942906 -87.696950   \n1033511                  2013-12-12   NaN  41.913468 -87.655032   \n1033526                         NaT   NaN  41.938293 -87.794163   \n1033572                         NaT  59.0  41.785941 -87.703195   \n1033605                         NaT  29.0  41.902429 -87.665254   \n\n                                         LOCATION  \\\n79        (41.95923309357485, -87.68215325256443)   \n102       (41.94848084659548, -87.65737226343279)   \n126       (41.88799988734853, -87.62256513255957)   \n191       (41.88804059387871, -87.62817066340388)   \n381        (41.96195055112621, -87.6501320506605)   \n...                                           ...   \n1033424    (41.94290577175032, -87.6969501565478)   \n1033511  (41.913468230167666, -87.65503220481568)   \n1033526    (41.9382932554215, -87.79416311289708)   \n1033572    (41.7859407274642, -87.70319451298042)   \n1033605   (41.90242867361201, -87.66525448664798)   \n\n                                                  TIF_Name LICENSE_GROUP  \n79                                                      []           NaN  \n102      ['Red and Purple Modernization Phase One Proje...           NaN  \n126                                                     []           NaN  \n191                                                     []           NaN  \n381                                 ['Montrose/Clarendon']           NaN  \n...                                                    ...           ...  \n1033424                                                 []           NaN  \n1033511  ['Red and Purple Modernization Phase One Proje...           NaN  \n1033526                                                 []           NaN  \n1033572                                                 []           NaN  \n1033605                                                 []           NaN  \n\n[29806 rows x 36 columns]",
            "text/html": "<div>\n<style scoped>\n    .dataframe tbody tr th:only-of-type {\n        vertical-align: middle;\n    }\n\n    .dataframe tbody tr th {\n        vertical-align: top;\n    }\n\n    .dataframe thead th {\n        text-align: right;\n    }\n</style>\n<table border=\"1\" class=\"dataframe\">\n  <thead>\n    <tr style=\"text-align: right;\">\n      <th></th>\n      <th>ID</th>\n      <th>LICENSE_ID</th>\n      <th>ACCOUNT_NUMBER</th>\n      <th>SITE_NUMBER</th>\n      <th>LEGAL_NAME</th>\n      <th>DBA</th>\n      <th>ADDRESS</th>\n      <th>CITY</th>\n      <th>STATE</th>\n      <th>ZIP_CODE</th>\n      <th>...</th>\n      <th>LICENSE_APPROVED_FOR_ISSUANCE</th>\n      <th>DATE_ISSUED</th>\n      <th>LICENSE_STATUS</th>\n      <th>LICENSE_STATUS_CHANGE_DATE</th>\n      <th>SSA</th>\n      <th>LATITUDE</th>\n      <th>LONGITUDE</th>\n      <th>LOCATION</th>\n      <th>TIF_Name</th>\n      <th>LICENSE_GROUP</th>\n    </tr>\n  </thead>\n  <tbody>\n    <tr>\n      <th>79</th>\n      <td>2839854-20220808</td>\n      <td>2839854</td>\n      <td>397185</td>\n      <td>2</td>\n      <td>HOP BUTCHER FOR THE WORLD LLC</td>\n      <td>Hop Butcher For the World</td>\n      <td>4253-4259 N LINCOLN AVE</td>\n      <td>CHICAGO</td>\n      <td>IL</td>\n      <td>60618</td>\n      <td>...</td>\n      <td>2022-08-08</td>\n      <td>2022-08-08</td>\n      <td>AAI</td>\n      <td>NaT</td>\n      <td>38.0</td>\n      <td>41.959233</td>\n      <td>-87.682153</td>\n      <td>(41.95923309357485, -87.68215325256443)</td>\n      <td>[]</td>\n      <td>NaN</td>\n    </tr>\n    <tr>\n      <th>102</th>\n      <td>2840595-20220511</td>\n      <td>2840595</td>\n      <td>392906</td>\n      <td>25</td>\n      <td>FOXTROT VENTURES, INCORPORATED</td>\n      <td>Foxtrot</td>\n      <td>3649 N CLARK ST 1</td>\n      <td>CHICAGO</td>\n      <td>IL</td>\n      <td>60613</td>\n      <td>...</td>\n      <td>2022-05-11</td>\n      <td>2022-05-11</td>\n      <td>AAI</td>\n      <td>NaT</td>\n      <td>17.0</td>\n      <td>41.948481</td>\n      <td>-87.657372</td>\n      <td>(41.94848084659548, -87.65737226343279)</td>\n      <td>['Red and Purple Modernization Phase One Proje...</td>\n      <td>NaN</td>\n    </tr>\n    <tr>\n      <th>126</th>\n      <td>2411636-20220916</td>\n      <td>2858267</td>\n      <td>62544</td>\n      <td>34</td>\n      <td>HYATT CORPORATION</td>\n      <td>MARKET CHICAGO</td>\n      <td>151 E WACKER DR 1</td>\n      <td>CHICAGO</td>\n      <td>IL</td>\n      <td>60601</td>\n      <td>...</td>\n      <td>2022-08-05</td>\n      <td>2022-08-08</td>\n      <td>AAI</td>\n      <td>NaT</td>\n      <td>NaN</td>\n      <td>41.888000</td>\n      <td>-87.622565</td>\n      <td>(41.88799988734853, -87.62256513255957)</td>\n      <td>[]</td>\n      <td>NaN</td>\n    </tr>\n    <tr>\n      <th>191</th>\n      <td>61237-20220516</td>\n      <td>2837035</td>\n      <td>86347</td>\n      <td>1</td>\n      <td>S&amp;W CHICAGO, L.L.C.</td>\n      <td>SMITH &amp; WOLLENSKY</td>\n      <td>318 N STATE ST LL + 1</td>\n      <td>CHICAGO</td>\n      <td>IL</td>\n      <td>60654</td>\n      <td>...</td>\n      <td>2022-07-14</td>\n      <td>2022-08-08</td>\n      <td>AAI</td>\n      <td>NaT</td>\n      <td>NaN</td>\n      <td>41.888041</td>\n      <td>-87.628171</td>\n      <td>(41.88804059387871, -87.62817066340388)</td>\n      <td>[]</td>\n      <td>NaN</td>\n    </tr>\n    <tr>\n      <th>381</th>\n      <td>2840617-20220513</td>\n      <td>2840617</td>\n      <td>484408</td>\n      <td>1</td>\n      <td>PLANTX MIDWEST INC.</td>\n      <td>XMARKET</td>\n      <td>804 W MONTROSE AVE 1 &amp; MEZZ</td>\n      <td>CHICAGO</td>\n      <td>IL</td>\n      <td>60613</td>\n      <td>...</td>\n      <td>2022-05-13</td>\n      <td>2022-05-13</td>\n      <td>AAI</td>\n      <td>NaT</td>\n      <td>34.0</td>\n      <td>41.961951</td>\n      <td>-87.650132</td>\n      <td>(41.96195055112621, -87.6501320506605)</td>\n      <td>['Montrose/Clarendon']</td>\n      <td>NaN</td>\n    </tr>\n    <tr>\n      <th>...</th>\n      <td>...</td>\n      <td>...</td>\n      <td>...</td>\n      <td>...</td>\n      <td>...</td>\n      <td>...</td>\n      <td>...</td>\n      <td>...</td>\n      <td>...</td>\n      <td>...</td>\n      <td>...</td>\n      <td>...</td>\n      <td>...</td>\n      <td>...</td>\n      <td>...</td>\n      <td>...</td>\n      <td>...</td>\n      <td>...</td>\n      <td>...</td>\n      <td>...</td>\n      <td>...</td>\n    </tr>\n    <tr>\n      <th>1033424</th>\n      <td>2851063-20220715</td>\n      <td>2851063</td>\n      <td>408979</td>\n      <td>3</td>\n      <td>EDEN IN CHICAGO, LLC</td>\n      <td>EDEN</td>\n      <td>2734 W ROSCOE ST 1</td>\n      <td>CHICAGO</td>\n      <td>IL</td>\n      <td>60618</td>\n      <td>...</td>\n      <td>2022-07-15</td>\n      <td>2022-07-15</td>\n      <td>AAI</td>\n      <td>NaT</td>\n      <td>NaN</td>\n      <td>41.942906</td>\n      <td>-87.696950</td>\n      <td>(41.94290577175032, -87.6969501565478)</td>\n      <td>[]</td>\n      <td>NaN</td>\n    </tr>\n    <tr>\n      <th>1033511</th>\n      <td>4194-20030516</td>\n      <td>1339417</td>\n      <td>64543</td>\n      <td>10</td>\n      <td>GOLD STANDARD ENTERPRISES INC.</td>\n      <td>BINNY'S BEVERAGE DEPOT</td>\n      <td>1720 N MARCEY ST 1</td>\n      <td>CHICAGO</td>\n      <td>IL</td>\n      <td>60614</td>\n      <td>...</td>\n      <td>2003-06-10</td>\n      <td>2003-06-11</td>\n      <td>AAC</td>\n      <td>2013-12-12</td>\n      <td>NaN</td>\n      <td>41.913468</td>\n      <td>-87.655032</td>\n      <td>(41.913468230167666, -87.65503220481568)</td>\n      <td>['Red and Purple Modernization Phase One Proje...</td>\n      <td>NaN</td>\n    </tr>\n    <tr>\n      <th>1033526</th>\n      <td>1619088-20091016</td>\n      <td>1989590</td>\n      <td>294380</td>\n      <td>1</td>\n      <td>RRR RAIDAN LIQUORS, INC.</td>\n      <td>KONRAD'S LIQUORS</td>\n      <td>6720-6724 W BELMONT AVE 1</td>\n      <td>CHICAGO</td>\n      <td>IL</td>\n      <td>60634</td>\n      <td>...</td>\n      <td>2009-09-16</td>\n      <td>2009-09-17</td>\n      <td>AAI</td>\n      <td>NaT</td>\n      <td>NaN</td>\n      <td>41.938293</td>\n      <td>-87.794163</td>\n      <td>(41.9382932554215, -87.79416311289708)</td>\n      <td>[]</td>\n      <td>NaN</td>\n    </tr>\n    <tr>\n      <th>1033572</th>\n      <td>1545000-20151016</td>\n      <td>2421112</td>\n      <td>283952</td>\n      <td>1</td>\n      <td>ROSALIE HARRISON</td>\n      <td>Kedzie Koins &amp; Jewelry Inc</td>\n      <td>5909 S KEDZIE AVE</td>\n      <td>CHICAGO</td>\n      <td>IL</td>\n      <td>60629</td>\n      <td>...</td>\n      <td>2015-08-27</td>\n      <td>2015-08-28</td>\n      <td>AAI</td>\n      <td>NaT</td>\n      <td>59.0</td>\n      <td>41.785941</td>\n      <td>-87.703195</td>\n      <td>(41.7859407274642, -87.70319451298042)</td>\n      <td>[]</td>\n      <td>NaN</td>\n    </tr>\n    <tr>\n      <th>1033605</th>\n      <td>46478-20081116</td>\n      <td>1928752</td>\n      <td>16659</td>\n      <td>1</td>\n      <td>CRATER FOOD &amp; LIQUOR INC</td>\n      <td>CRATER FOOD &amp; LIQUOR</td>\n      <td>1144 N MILWAUKEE AVE</td>\n      <td>CHICAGO</td>\n      <td>IL</td>\n      <td>60642</td>\n      <td>...</td>\n      <td>2008-10-30</td>\n      <td>2008-10-31</td>\n      <td>AAI</td>\n      <td>NaT</td>\n      <td>29.0</td>\n      <td>41.902429</td>\n      <td>-87.665254</td>\n      <td>(41.90242867361201, -87.66525448664798)</td>\n      <td>[]</td>\n      <td>NaN</td>\n    </tr>\n  </tbody>\n</table>\n<p>29806 rows × 36 columns</p>\n</div>"
          },
          "metadata": {}
        }
      ],
      "outputs_reference": null,
      "execution_count": null,
      "block_group": "af59344ea8544e43b52405f5f27444a1",
      "content_dependencies": null
    },
    {
      "cell_type": "code",
      "source": "df_2 = _deepnote_execute_sql('SELECT DISTINCT TIF_Name FROM df_1', 'SQL_DEEPNOTE_DATAFRAME_SQL', audit_sql_comment='', sql_cache_mode='cache_disabled')\ndf_2",
      "metadata": {
        "source_hash": null,
        "execution_start": 1710207896712,
        "execution_millis": 251,
        "sql_integration_id": "deepnote-dataframe-sql",
        "deepnote_table_state": {
          "sortBy": [],
          "filters": [],
          "pageSize": 10,
          "pageIndex": 0
        },
        "deepnote_table_loading": false,
        "deepnote_variable_name": "df_2",
        "deepnote_to_be_reexecuted": true,
        "cell_id": "ceb10f62bbcd4767bad6893f9a5aac2c",
        "deepnote_cell_type": "sql",
        "deepnote_sql_source": "SELECT DISTINCT TIF_Name FROM df_1"
      },
      "outputs": [
        {
          "output_type": "execute_result",
          "execution_count": 5,
          "data": {
            "application/vnd.deepnote.dataframe.v3+json": {
              "column_count": 1,
              "row_count": 85,
              "columns": [
                {
                  "name": "TIF_Name",
                  "dtype": "object",
                  "stats": {
                    "unique_count": 85,
                    "nan_count": 0,
                    "categories": [
                      {
                        "name": "[]",
                        "count": 1
                      },
                      {
                        "name": "['Kinzie Industrial Conservation Area']",
                        "count": 1
                      },
                      {
                        "name": "83 others",
                        "count": 83
                      }
                    ]
                  }
                },
                {
                  "name": "_deepnote_index_column",
                  "dtype": "int64"
                }
              ],
              "rows": [
                {
                  "TIF_Name": "[]",
                  "_deepnote_index_column": 0
                },
                {
                  "TIF_Name": "['Kinzie Industrial Conservation Area']",
                  "_deepnote_index_column": 1
                },
                {
                  "TIF_Name": "['Wilson Yard']",
                  "_deepnote_index_column": 2
                },
                {
                  "TIF_Name": "['35th/Halsted']",
                  "_deepnote_index_column": 3
                },
                {
                  "TIF_Name": "['Red and Purple Modernization Phase One Project']",
                  "_deepnote_index_column": 4
                },
                {
                  "TIF_Name": "['Northwest Industrial Corridor']",
                  "_deepnote_index_column": 5
                },
                {
                  "TIF_Name": "['Fullerton/Milwaukee']",
                  "_deepnote_index_column": 6
                },
                {
                  "TIF_Name": "['Red Line Extension (RLE)']",
                  "_deepnote_index_column": 7
                },
                {
                  "TIF_Name": "['Archer/Western']",
                  "_deepnote_index_column": 8
                },
                {
                  "TIF_Name": "['Midwest']",
                  "_deepnote_index_column": 9
                }
              ]
            },
            "text/plain": "                                             TIF_Name\n0                                                  []\n1             ['Kinzie Industrial Conservation Area']\n2                                     ['Wilson Yard']\n3                                    ['35th/Halsted']\n4   ['Red and Purple Modernization Phase One Proje...\n..                                                ...\n80               ['43rd Street/Cottage Grove Avenue']\n81                        ['Avalon Park/South Shore']\n82                                   ['63rd/Pulaski']\n83                               ['Harrison/Central']\n84                               ['Peterson/Pulaski']\n\n[85 rows x 1 columns]",
            "text/html": "<div>\n<style scoped>\n    .dataframe tbody tr th:only-of-type {\n        vertical-align: middle;\n    }\n\n    .dataframe tbody tr th {\n        vertical-align: top;\n    }\n\n    .dataframe thead th {\n        text-align: right;\n    }\n</style>\n<table border=\"1\" class=\"dataframe\">\n  <thead>\n    <tr style=\"text-align: right;\">\n      <th></th>\n      <th>TIF_Name</th>\n    </tr>\n  </thead>\n  <tbody>\n    <tr>\n      <th>0</th>\n      <td>[]</td>\n    </tr>\n    <tr>\n      <th>1</th>\n      <td>['Kinzie Industrial Conservation Area']</td>\n    </tr>\n    <tr>\n      <th>2</th>\n      <td>['Wilson Yard']</td>\n    </tr>\n    <tr>\n      <th>3</th>\n      <td>['35th/Halsted']</td>\n    </tr>\n    <tr>\n      <th>4</th>\n      <td>['Red and Purple Modernization Phase One Proje...</td>\n    </tr>\n    <tr>\n      <th>...</th>\n      <td>...</td>\n    </tr>\n    <tr>\n      <th>80</th>\n      <td>['43rd Street/Cottage Grove Avenue']</td>\n    </tr>\n    <tr>\n      <th>81</th>\n      <td>['Avalon Park/South Shore']</td>\n    </tr>\n    <tr>\n      <th>82</th>\n      <td>['63rd/Pulaski']</td>\n    </tr>\n    <tr>\n      <th>83</th>\n      <td>['Harrison/Central']</td>\n    </tr>\n    <tr>\n      <th>84</th>\n      <td>['Peterson/Pulaski']</td>\n    </tr>\n  </tbody>\n</table>\n<p>85 rows × 1 columns</p>\n</div>"
          },
          "metadata": {}
        }
      ],
      "outputs_reference": null,
      "execution_count": null,
      "block_group": "e9967b26caa84050ab2ea11fe601d890",
      "content_dependencies": null
    },
    {
      "cell_type": "code",
      "source": "\n\n# otherLst = df_2['TIF_Name']\n# print(otherLst)\n\notherLst = []\nfor index, row in df_1.iterrows():\n    value = row[\"TIF_Name\"]\n    cleaned_string = value.replace(\"[\", \"\").replace(\"]\", \"\").replace(\"'\", \"\")\n\n    # Split the string based on commas\n    result_list = cleaned_string.split(\", \")\n    # print(result_list)\n    otherLst.extend(result_list)\n\nprint(len(set(otherLst)))\n\n\n# notThere = set(tifLst)-set(otherLst)\n# print(notThere)\n# print(len(notThere))",
      "metadata": {
        "source_hash": null,
        "execution_start": 1710285264542,
        "execution_millis": 49464,
        "deepnote_to_be_reexecuted": true,
        "cell_id": "44191a743cc24ffcb1f5838adbbbe3be",
        "deepnote_cell_type": "code"
      },
      "outputs": [
        {
          "name": "stdout",
          "text": "120\n",
          "output_type": "stream"
        }
      ],
      "outputs_reference": null,
      "execution_count": null,
      "block_group": "5a74f78cbc434178843e922a823f4a87",
      "content_dependencies": null
    },
    {
      "cell_type": "code",
      "source": "import json\nfile_path = 'tif_num_names.json'\nwith open(file_path, 'r') as file:\n    vals_dict = json.load(file)\n\ntifLst = list( vals_dict.values())\nprint(tifLst)\nprint(len(tifLst))\n\nnotThere = set(tifLst)-set(otherLst)\nprint(notThere)\nprint(len(notThere))",
      "metadata": {
        "source_hash": null,
        "execution_start": 1710285314008,
        "execution_millis": 298,
        "deepnote_to_be_reexecuted": true,
        "cell_id": "c78968b8b3b24eec984d5960ed38b79d",
        "deepnote_cell_type": "code"
      },
      "outputs": [
        {
          "name": "stdout",
          "text": "['105th Street and Vincennes Avenue', '107th/Halsted', '111th Street/Kedzie Avenue Business District', '116th/Avenue O', '119th and Halsted', '119th Street/I-57', '24th/Michigan', '26th & King Drive', 'Roosevelt/Clark', '35th/Halsted', '35th/State', '43rd Street/Cottage Grove Avenue', '47th and King Drive', '47th/Ashland', '47th/Halsted', '47th/State', '51st and Lake Park', '51st/Archer', '53rd Street', '63rd/Ashland', '63rd/Pulaski', '67th and Wentworth', '67th/Cicero', '71st & Stony Island', '73rd/University', '79th and Cicero', '79th Street Corridor', '79th Street/Southwest Highway', '79th/Vincennes', '83rd/Stewart', '87th/Cottage Grove', '95th & Western', 'Addison South', 'Archer/Central', 'Archer/Western', 'Armitage Pulaski', 'Austin Commercial', 'Avalon Park/South Shore', 'Avondale', 'Belmont/Central', 'Belmont/Cicero', 'Bronzeville', 'Bryn Mawr/Broadway', 'Canal/Congress', 'Central West', 'Chicago/Central Park', 'Chicago/Kingsbury', 'Cicero/Archer', 'Cicero/Stevenson', 'Clark Street & Ridge Avenue', 'Clark/Montrose', 'Commercial Avenue', 'Cortland and Chicago River', 'Devon & Western', 'Devon/Sheridan', 'Diversey/Chicago River', 'Diversey/Narragansett', 'Division/Homan', 'Edgewater/Ashland', 'Elston/Armstrong Industrial Corridor', 'Englewood Mall Area', 'Englewood Neighborhood', 'Ewing Avenue', 'Foster and California', 'Foster/Edens', 'Fullerton/Milwaukee', 'Galewood/Armitage Industrial', 'Goose Island', 'Greater Southwest Industrial (East)', 'Greater Southwest Industrial (West)', 'Harrison/Central', 'Hollywood/Sheridan', 'Homan-Arthington', 'Humboldt Park Commercial', 'Jefferson Park Business District', 'Jefferson/Roosevelt', 'Kennedy/Kimball', 'Kinzie Industrial Conservation Area', 'Lake Calumet Area Industrial', 'Lakefront', 'LaSalle Central', 'Lawrence/Broadway', 'Lawrence/Kedzie', 'Lawrence/Pulaski', 'Lincoln Avenue', 'Little Village East', 'Little Village Industrial Corridor', 'Madden/Wells', 'Madison/Austin Corridor', 'Michigan/Cermak', 'Midway Industrial Corridor', 'Midwest', 'Montclare', 'Montrose/Clarendon', 'Near North', 'North Branch (South)', 'North Pullman', 'Northwest Industrial Corridor', 'Ogden/Pulaski', 'Ohio/Wabash', 'Peterson/Cicero', 'Peterson/Pulaski', 'Pilsen', 'Portage Park', 'Pratt/Ridge Industrial Park Conservation Area', 'Pulaski Corridor', 'Randolph/Wells', 'Red and Purple Modernization Phase One Project', 'River West', 'Roosevelt/Cicero', 'Roosevelt/Racine', 'Roosevelt/Union', 'Roseland/Michigan Avenue', 'Sanitary Drainage and Ship Canal', 'South Chicago', 'Stevenson/Brighton', 'Stockyards Southeast Quadrant Industrial', 'Stony Island Avenue Commercial and Burnside Industrial Corridors', 'Touhy/Western', 'Washington Park', 'West Irving Park', 'West Woodlawn', 'Western Avenue North', 'Western Avenue South', 'Western Avenue/Rock Island', 'Western/Ogden', 'Wilson Yard', 'Woodlawn']\n128\n{'Devon & Western', 'Portage Park', 'Edgewater/Ashland', 'Montclare', 'Peterson/Cicero', 'Clark Street & Ridge Avenue', 'North Branch (South)', '79th and Cicero', 'Armitage Pulaski', 'Jefferson Park Business District', 'Roosevelt/Union'}\n11\n",
          "output_type": "stream"
        }
      ],
      "outputs_reference": null,
      "execution_count": null,
      "block_group": "eeaf1a062a984c29a74476e9a14d10c6",
      "content_dependencies": null
    },
    {
      "cell_type": "code",
      "source": "import pandas as pd\ncrossTab_df = pd.crosstab(index=df_1['TIF_Name'], columns=df_1['LICENSE_GROUP'])\ncrossTab_df",
      "metadata": {
        "source_hash": null,
        "execution_start": 1710869986542,
        "execution_millis": 274,
        "deepnote_table_state": {
          "sortBy": [],
          "filters": [],
          "pageSize": 10,
          "pageIndex": 1
        },
        "deepnote_table_loading": false,
        "deepnote_to_be_reexecuted": true,
        "cell_id": "667b6e12726b499ab6b6691c0d713904",
        "deepnote_cell_type": "code"
      },
      "outputs": [
        {
          "output_type": "execute_result",
          "execution_count": 11,
          "data": {
            "application/vnd.deepnote.dataframe.v3+json": {
              "column_count": 13,
              "row_count": 125,
              "columns": [
                {
                  "name": "Accommodation",
                  "dtype": "int64",
                  "stats": {
                    "unique_count": 27,
                    "nan_count": 0,
                    "min": "0",
                    "max": "1247",
                    "histogram": [
                      {
                        "bin_start": 0,
                        "bin_end": 124.7,
                        "count": 123
                      },
                      {
                        "bin_start": 124.7,
                        "bin_end": 249.4,
                        "count": 1
                      },
                      {
                        "bin_start": 249.4,
                        "bin_end": 374.1,
                        "count": 0
                      },
                      {
                        "bin_start": 374.1,
                        "bin_end": 498.8,
                        "count": 0
                      },
                      {
                        "bin_start": 498.8,
                        "bin_end": 623.5,
                        "count": 0
                      },
                      {
                        "bin_start": 623.5,
                        "bin_end": 748.2,
                        "count": 0
                      },
                      {
                        "bin_start": 748.2,
                        "bin_end": 872.9,
                        "count": 0
                      },
                      {
                        "bin_start": 872.9,
                        "bin_end": 997.6,
                        "count": 0
                      },
                      {
                        "bin_start": 997.6,
                        "bin_end": 1122.3,
                        "count": 0
                      },
                      {
                        "bin_start": 1122.3,
                        "bin_end": 1247,
                        "count": 1
                      }
                    ]
                  }
                },
                {
                  "name": "Business",
                  "dtype": "int64",
                  "stats": {
                    "unique_count": 122,
                    "nan_count": 0,
                    "min": "0",
                    "max": "246063",
                    "histogram": [
                      {
                        "bin_start": 0,
                        "bin_end": 24606.3,
                        "count": 124
                      },
                      {
                        "bin_start": 24606.3,
                        "bin_end": 49212.6,
                        "count": 0
                      },
                      {
                        "bin_start": 49212.6,
                        "bin_end": 73818.9,
                        "count": 0
                      },
                      {
                        "bin_start": 73818.9,
                        "bin_end": 98425.2,
                        "count": 0
                      },
                      {
                        "bin_start": 98425.2,
                        "bin_end": 123031.5,
                        "count": 0
                      },
                      {
                        "bin_start": 123031.5,
                        "bin_end": 147637.8,
                        "count": 0
                      },
                      {
                        "bin_start": 147637.8,
                        "bin_end": 172244.1,
                        "count": 0
                      },
                      {
                        "bin_start": 172244.1,
                        "bin_end": 196850.4,
                        "count": 0
                      },
                      {
                        "bin_start": 196850.4,
                        "bin_end": 221456.69999999998,
                        "count": 0
                      },
                      {
                        "bin_start": 221456.69999999998,
                        "bin_end": 246063,
                        "count": 1
                      }
                    ]
                  }
                },
                {
                  "name": "Electronic",
                  "dtype": "int64",
                  "stats": {
                    "unique_count": 36,
                    "nan_count": 0,
                    "min": "0",
                    "max": "1180",
                    "histogram": [
                      {
                        "bin_start": 0,
                        "bin_end": 118,
                        "count": 123
                      },
                      {
                        "bin_start": 118,
                        "bin_end": 236,
                        "count": 1
                      },
                      {
                        "bin_start": 236,
                        "bin_end": 354,
                        "count": 0
                      },
                      {
                        "bin_start": 354,
                        "bin_end": 472,
                        "count": 0
                      },
                      {
                        "bin_start": 472,
                        "bin_end": 590,
                        "count": 0
                      },
                      {
                        "bin_start": 590,
                        "bin_end": 708,
                        "count": 0
                      },
                      {
                        "bin_start": 708,
                        "bin_end": 826,
                        "count": 0
                      },
                      {
                        "bin_start": 826,
                        "bin_end": 944,
                        "count": 0
                      },
                      {
                        "bin_start": 944,
                        "bin_end": 1062,
                        "count": 0
                      },
                      {
                        "bin_start": 1062,
                        "bin_end": 1180,
                        "count": 1
                      }
                    ]
                  }
                },
                {
                  "name": "Entertainment",
                  "dtype": "int64",
                  "stats": {
                    "unique_count": 63,
                    "nan_count": 0,
                    "min": "0",
                    "max": "8595",
                    "histogram": [
                      {
                        "bin_start": 0,
                        "bin_end": 859.5,
                        "count": 123
                      },
                      {
                        "bin_start": 859.5,
                        "bin_end": 1719,
                        "count": 0
                      },
                      {
                        "bin_start": 1719,
                        "bin_end": 2578.5,
                        "count": 1
                      },
                      {
                        "bin_start": 2578.5,
                        "bin_end": 3438,
                        "count": 0
                      },
                      {
                        "bin_start": 3438,
                        "bin_end": 4297.5,
                        "count": 0
                      },
                      {
                        "bin_start": 4297.5,
                        "bin_end": 5157,
                        "count": 0
                      },
                      {
                        "bin_start": 5157,
                        "bin_end": 6016.5,
                        "count": 0
                      },
                      {
                        "bin_start": 6016.5,
                        "bin_end": 6876,
                        "count": 0
                      },
                      {
                        "bin_start": 6876,
                        "bin_end": 7735.5,
                        "count": 0
                      },
                      {
                        "bin_start": 7735.5,
                        "bin_end": 8595,
                        "count": 1
                      }
                    ]
                  }
                },
                {
                  "name": "Food",
                  "dtype": "int64",
                  "stats": {
                    "unique_count": 113,
                    "nan_count": 0,
                    "min": "0",
                    "max": "110373",
                    "histogram": [
                      {
                        "bin_start": 0,
                        "bin_end": 11037.3,
                        "count": 123
                      },
                      {
                        "bin_start": 11037.3,
                        "bin_end": 22074.6,
                        "count": 1
                      },
                      {
                        "bin_start": 22074.6,
                        "bin_end": 33111.899999999994,
                        "count": 0
                      },
                      {
                        "bin_start": 33111.899999999994,
                        "bin_end": 44149.2,
                        "count": 0
                      },
                      {
                        "bin_start": 44149.2,
                        "bin_end": 55186.5,
                        "count": 0
                      },
                      {
                        "bin_start": 55186.5,
                        "bin_end": 66223.79999999999,
                        "count": 0
                      },
                      {
                        "bin_start": 66223.79999999999,
                        "bin_end": 77261.09999999999,
                        "count": 0
                      },
                      {
                        "bin_start": 77261.09999999999,
                        "bin_end": 88298.4,
                        "count": 0
                      },
                      {
                        "bin_start": 88298.4,
                        "bin_end": 99335.7,
                        "count": 0
                      },
                      {
                        "bin_start": 99335.7,
                        "bin_end": 110373,
                        "count": 1
                      }
                    ]
                  }
                },
                {
                  "name": "Liquor",
                  "dtype": "int64",
                  "stats": {
                    "unique_count": 33,
                    "nan_count": 0,
                    "min": "0",
                    "max": "3203",
                    "histogram": [
                      {
                        "bin_start": 0,
                        "bin_end": 320.3,
                        "count": 121
                      },
                      {
                        "bin_start": 320.3,
                        "bin_end": 640.6,
                        "count": 2
                      },
                      {
                        "bin_start": 640.6,
                        "bin_end": 960.9000000000001,
                        "count": 1
                      },
                      {
                        "bin_start": 960.9000000000001,
                        "bin_end": 1281.2,
                        "count": 0
                      },
                      {
                        "bin_start": 1281.2,
                        "bin_end": 1601.5,
                        "count": 0
                      },
                      {
                        "bin_start": 1601.5,
                        "bin_end": 1921.8000000000002,
                        "count": 0
                      },
                      {
                        "bin_start": 1921.8000000000002,
                        "bin_end": 2242.1,
                        "count": 0
                      },
                      {
                        "bin_start": 2242.1,
                        "bin_end": 2562.4,
                        "count": 0
                      },
                      {
                        "bin_start": 2562.4,
                        "bin_end": 2882.7000000000003,
                        "count": 0
                      },
                      {
                        "bin_start": 2882.7000000000003,
                        "bin_end": 3203,
                        "count": 1
                      }
                    ]
                  }
                },
                {
                  "name": "Medical",
                  "dtype": "int64",
                  "stats": {
                    "unique_count": 10,
                    "nan_count": 0,
                    "min": "0",
                    "max": "177",
                    "histogram": [
                      {
                        "bin_start": 0,
                        "bin_end": 17.7,
                        "count": 120
                      },
                      {
                        "bin_start": 17.7,
                        "bin_end": 35.4,
                        "count": 2
                      },
                      {
                        "bin_start": 35.4,
                        "bin_end": 53.099999999999994,
                        "count": 2
                      },
                      {
                        "bin_start": 53.099999999999994,
                        "bin_end": 70.8,
                        "count": 0
                      },
                      {
                        "bin_start": 70.8,
                        "bin_end": 88.5,
                        "count": 0
                      },
                      {
                        "bin_start": 88.5,
                        "bin_end": 106.19999999999999,
                        "count": 0
                      },
                      {
                        "bin_start": 106.19999999999999,
                        "bin_end": 123.89999999999999,
                        "count": 0
                      },
                      {
                        "bin_start": 123.89999999999999,
                        "bin_end": 141.6,
                        "count": 0
                      },
                      {
                        "bin_start": 141.6,
                        "bin_end": 159.29999999999998,
                        "count": 0
                      },
                      {
                        "bin_start": 159.29999999999998,
                        "bin_end": 177,
                        "count": 1
                      }
                    ]
                  }
                },
                {
                  "name": "Other",
                  "dtype": "int64",
                  "stats": {
                    "unique_count": 33,
                    "nan_count": 0,
                    "min": "0",
                    "max": "1426",
                    "histogram": [
                      {
                        "bin_start": 0,
                        "bin_end": 142.6,
                        "count": 124
                      },
                      {
                        "bin_start": 142.6,
                        "bin_end": 285.2,
                        "count": 0
                      },
                      {
                        "bin_start": 285.2,
                        "bin_end": 427.79999999999995,
                        "count": 0
                      },
                      {
                        "bin_start": 427.79999999999995,
                        "bin_end": 570.4,
                        "count": 0
                      },
                      {
                        "bin_start": 570.4,
                        "bin_end": 713,
                        "count": 0
                      },
                      {
                        "bin_start": 713,
                        "bin_end": 855.5999999999999,
                        "count": 0
                      },
                      {
                        "bin_start": 855.5999999999999,
                        "bin_end": 998.1999999999999,
                        "count": 0
                      },
                      {
                        "bin_start": 998.1999999999999,
                        "bin_end": 1140.8,
                        "count": 0
                      },
                      {
                        "bin_start": 1140.8,
                        "bin_end": 1283.3999999999999,
                        "count": 0
                      },
                      {
                        "bin_start": 1283.3999999999999,
                        "bin_end": 1426,
                        "count": 1
                      }
                    ]
                  }
                },
                {
                  "name": "Permits",
                  "dtype": "int64",
                  "stats": {
                    "unique_count": 71,
                    "nan_count": 0,
                    "min": "0",
                    "max": "5853",
                    "histogram": [
                      {
                        "bin_start": 0,
                        "bin_end": 585.3,
                        "count": 124
                      },
                      {
                        "bin_start": 585.3,
                        "bin_end": 1170.6,
                        "count": 0
                      },
                      {
                        "bin_start": 1170.6,
                        "bin_end": 1755.8999999999999,
                        "count": 0
                      },
                      {
                        "bin_start": 1755.8999999999999,
                        "bin_end": 2341.2,
                        "count": 0
                      },
                      {
                        "bin_start": 2341.2,
                        "bin_end": 2926.5,
                        "count": 0
                      },
                      {
                        "bin_start": 2926.5,
                        "bin_end": 3511.7999999999997,
                        "count": 0
                      },
                      {
                        "bin_start": 3511.7999999999997,
                        "bin_end": 4097.099999999999,
                        "count": 0
                      },
                      {
                        "bin_start": 4097.099999999999,
                        "bin_end": 4682.4,
                        "count": 0
                      },
                      {
                        "bin_start": 4682.4,
                        "bin_end": 5267.7,
                        "count": 0
                      },
                      {
                        "bin_start": 5267.7,
                        "bin_end": 5853,
                        "count": 1
                      }
                    ]
                  }
                },
                {
                  "name": "Personal Services",
                  "dtype": "int64",
                  "stats": {
                    "unique_count": 42,
                    "nan_count": 0,
                    "min": "0",
                    "max": "6131",
                    "histogram": [
                      {
                        "bin_start": 0,
                        "bin_end": 613.1,
                        "count": 123
                      },
                      {
                        "bin_start": 613.1,
                        "bin_end": 1226.2,
                        "count": 1
                      },
                      {
                        "bin_start": 1226.2,
                        "bin_end": 1839.3000000000002,
                        "count": 0
                      },
                      {
                        "bin_start": 1839.3000000000002,
                        "bin_end": 2452.4,
                        "count": 0
                      },
                      {
                        "bin_start": 2452.4,
                        "bin_end": 3065.5,
                        "count": 0
                      },
                      {
                        "bin_start": 3065.5,
                        "bin_end": 3678.6000000000004,
                        "count": 0
                      },
                      {
                        "bin_start": 3678.6000000000004,
                        "bin_end": 4291.7,
                        "count": 0
                      },
                      {
                        "bin_start": 4291.7,
                        "bin_end": 4904.8,
                        "count": 0
                      },
                      {
                        "bin_start": 4904.8,
                        "bin_end": 5517.900000000001,
                        "count": 0
                      },
                      {
                        "bin_start": 5517.900000000001,
                        "bin_end": 6131,
                        "count": 1
                      }
                    ]
                  }
                },
                {
                  "name": "Retail",
                  "dtype": "int64",
                  "stats": {
                    "unique_count": 103,
                    "nan_count": 0,
                    "min": "0",
                    "max": "25336",
                    "histogram": [
                      {
                        "bin_start": 0,
                        "bin_end": 2533.6,
                        "count": 123
                      },
                      {
                        "bin_start": 2533.6,
                        "bin_end": 5067.2,
                        "count": 1
                      },
                      {
                        "bin_start": 5067.2,
                        "bin_end": 7600.799999999999,
                        "count": 0
                      },
                      {
                        "bin_start": 7600.799999999999,
                        "bin_end": 10134.4,
                        "count": 0
                      },
                      {
                        "bin_start": 10134.4,
                        "bin_end": 12668,
                        "count": 0
                      },
                      {
                        "bin_start": 12668,
                        "bin_end": 15201.599999999999,
                        "count": 0
                      },
                      {
                        "bin_start": 15201.599999999999,
                        "bin_end": 17735.2,
                        "count": 0
                      },
                      {
                        "bin_start": 17735.2,
                        "bin_end": 20268.8,
                        "count": 0
                      },
                      {
                        "bin_start": 20268.8,
                        "bin_end": 22802.399999999998,
                        "count": 0
                      },
                      {
                        "bin_start": 22802.399999999998,
                        "bin_end": 25336,
                        "count": 1
                      }
                    ]
                  }
                },
                {
                  "name": "Special",
                  "dtype": "int64",
                  "stats": {
                    "unique_count": 112,
                    "nan_count": 0,
                    "min": "0",
                    "max": "88257",
                    "histogram": [
                      {
                        "bin_start": 0,
                        "bin_end": 8825.7,
                        "count": 124
                      },
                      {
                        "bin_start": 8825.7,
                        "bin_end": 17651.4,
                        "count": 0
                      },
                      {
                        "bin_start": 17651.4,
                        "bin_end": 26477.100000000002,
                        "count": 0
                      },
                      {
                        "bin_start": 26477.100000000002,
                        "bin_end": 35302.8,
                        "count": 0
                      },
                      {
                        "bin_start": 35302.8,
                        "bin_end": 44128.5,
                        "count": 0
                      },
                      {
                        "bin_start": 44128.5,
                        "bin_end": 52954.200000000004,
                        "count": 0
                      },
                      {
                        "bin_start": 52954.200000000004,
                        "bin_end": 61779.90000000001,
                        "count": 0
                      },
                      {
                        "bin_start": 61779.90000000001,
                        "bin_end": 70605.6,
                        "count": 0
                      },
                      {
                        "bin_start": 70605.6,
                        "bin_end": 79431.3,
                        "count": 0
                      },
                      {
                        "bin_start": 79431.3,
                        "bin_end": 88257,
                        "count": 1
                      }
                    ]
                  }
                },
                {
                  "name": "Vehicles",
                  "dtype": "int64",
                  "stats": {
                    "unique_count": 95,
                    "nan_count": 0,
                    "min": "0",
                    "max": "17345",
                    "histogram": [
                      {
                        "bin_start": 0,
                        "bin_end": 1734.5,
                        "count": 124
                      },
                      {
                        "bin_start": 1734.5,
                        "bin_end": 3469,
                        "count": 0
                      },
                      {
                        "bin_start": 3469,
                        "bin_end": 5203.5,
                        "count": 0
                      },
                      {
                        "bin_start": 5203.5,
                        "bin_end": 6938,
                        "count": 0
                      },
                      {
                        "bin_start": 6938,
                        "bin_end": 8672.5,
                        "count": 0
                      },
                      {
                        "bin_start": 8672.5,
                        "bin_end": 10407,
                        "count": 0
                      },
                      {
                        "bin_start": 10407,
                        "bin_end": 12141.5,
                        "count": 0
                      },
                      {
                        "bin_start": 12141.5,
                        "bin_end": 13876,
                        "count": 0
                      },
                      {
                        "bin_start": 13876,
                        "bin_end": 15610.5,
                        "count": 0
                      },
                      {
                        "bin_start": 15610.5,
                        "bin_end": 17345,
                        "count": 1
                      }
                    ]
                  }
                },
                {
                  "name": "_deepnote_index_column",
                  "dtype": "object"
                }
              ],
              "rows": [
                {
                  "Accommodation": 3,
                  "Business": 2710,
                  "Electronic": 9,
                  "Entertainment": 46,
                  "Food": 1439,
                  "Liquor": 21,
                  "Medical": 0,
                  "Other": 6,
                  "Permits": 14,
                  "Personal Services": 34,
                  "Retail": 130,
                  "Special": 740,
                  "Vehicles": 215,
                  "_deepnote_index_column": "['35th/Halsted']"
                },
                {
                  "Accommodation": 0,
                  "Business": 126,
                  "Electronic": 0,
                  "Entertainment": 0,
                  "Food": 50,
                  "Liquor": 0,
                  "Medical": 0,
                  "Other": 0,
                  "Permits": 2,
                  "Personal Services": 0,
                  "Retail": 0,
                  "Special": 70,
                  "Vehicles": 0,
                  "_deepnote_index_column": "['35th/State']"
                },
                {
                  "Accommodation": 0,
                  "Business": 659,
                  "Electronic": 0,
                  "Entertainment": 19,
                  "Food": 268,
                  "Liquor": 12,
                  "Medical": 0,
                  "Other": 0,
                  "Permits": 59,
                  "Personal Services": 8,
                  "Retail": 40,
                  "Special": 145,
                  "Vehicles": 18,
                  "_deepnote_index_column": "['43rd Street/Cottage Grove Avenue']"
                },
                {
                  "Accommodation": 6,
                  "Business": 1722,
                  "Electronic": 0,
                  "Entertainment": 69,
                  "Food": 632,
                  "Liquor": 21,
                  "Medical": 0,
                  "Other": 0,
                  "Permits": 105,
                  "Personal Services": 10,
                  "Retail": 252,
                  "Special": 461,
                  "Vehicles": 43,
                  "_deepnote_index_column": "['47th and King Drive']"
                },
                {
                  "Accommodation": 0,
                  "Business": 2932,
                  "Electronic": 29,
                  "Entertainment": 18,
                  "Food": 1948,
                  "Liquor": 0,
                  "Medical": 0,
                  "Other": 33,
                  "Permits": 50,
                  "Personal Services": 10,
                  "Retail": 384,
                  "Special": 282,
                  "Vehicles": 293,
                  "_deepnote_index_column": "['47th/Ashland']"
                },
                {
                  "Accommodation": 0,
                  "Business": 980,
                  "Electronic": 0,
                  "Entertainment": 10,
                  "Food": 788,
                  "Liquor": 0,
                  "Medical": 0,
                  "Other": 17,
                  "Permits": 20,
                  "Personal Services": 2,
                  "Retail": 307,
                  "Special": 458,
                  "Vehicles": 356,
                  "_deepnote_index_column": "['47th/Halsted']"
                },
                {
                  "Accommodation": 0,
                  "Business": 404,
                  "Electronic": 0,
                  "Entertainment": 7,
                  "Food": 334,
                  "Liquor": 3,
                  "Medical": 0,
                  "Other": 17,
                  "Permits": 38,
                  "Personal Services": 0,
                  "Retail": 159,
                  "Special": 96,
                  "Vehicles": 105,
                  "_deepnote_index_column": "['47th/State']"
                },
                {
                  "Accommodation": 0,
                  "Business": 46,
                  "Electronic": 0,
                  "Entertainment": 2,
                  "Food": 3,
                  "Liquor": 0,
                  "Medical": 0,
                  "Other": 0,
                  "Permits": 0,
                  "Personal Services": 0,
                  "Retail": 0,
                  "Special": 5,
                  "Vehicles": 2,
                  "_deepnote_index_column": "['51st and Lake Park']"
                },
                {
                  "Accommodation": 0,
                  "Business": 939,
                  "Electronic": 2,
                  "Entertainment": 33,
                  "Food": 564,
                  "Liquor": 2,
                  "Medical": 0,
                  "Other": 19,
                  "Permits": 1,
                  "Personal Services": 0,
                  "Retail": 126,
                  "Special": 172,
                  "Vehicles": 138,
                  "_deepnote_index_column": "['51st/Archer']"
                },
                {
                  "Accommodation": 0,
                  "Business": 1531,
                  "Electronic": 36,
                  "Entertainment": 29,
                  "Food": 888,
                  "Liquor": 47,
                  "Medical": 0,
                  "Other": 0,
                  "Permits": 12,
                  "Personal Services": 58,
                  "Retail": 125,
                  "Special": 290,
                  "Vehicles": 43,
                  "_deepnote_index_column": "['53rd Street']"
                }
              ]
            },
            "text/plain": "LICENSE_GROUP                                       Accommodation  Business  \\\nTIF_Name                                                                      \n['105th Street and Vincennes Avenue', '107th/Ha...              0         1   \n['105th Street and Vincennes Avenue', 'Roseland...              0        10   \n['105th Street and Vincennes Avenue']                           8      1278   \n['107th/Halsted']                                               0      1007   \n['111th Street/Kedzie Avenue Business District']                0       955   \n...                                                           ...       ...   \n['Western/Ogden']                                              12      1669   \n['Wilson Yard', 'Lawrence/Broadway']                            0        11   \n['Wilson Yard']                                                12      1641   \n['Woodlawn']                                                    4       741   \n[]                                                           1247    246063   \n\nLICENSE_GROUP                                       Electronic  Entertainment  \\\nTIF_Name                                                                        \n['105th Street and Vincennes Avenue', '107th/Ha...           0              0   \n['105th Street and Vincennes Avenue', 'Roseland...           0              0   \n['105th Street and Vincennes Avenue']                        4              6   \n['107th/Halsted']                                            5              3   \n['111th Street/Kedzie Avenue Business District']             6             20   \n...                                                        ...            ...   \n['Western/Ogden']                                            5             28   \n['Wilson Yard', 'Lawrence/Broadway']                         0              0   \n['Wilson Yard']                                             20             70   \n['Woodlawn']                                                 3             19   \n[]                                                        1180           8595   \n\nLICENSE_GROUP                                         Food  Liquor  Medical  \\\nTIF_Name                                                                      \n['105th Street and Vincennes Avenue', '107th/Ha...      15       0        0   \n['105th Street and Vincennes Avenue', 'Roseland...      16       0        0   \n['105th Street and Vincennes Avenue']                  553       0        0   \n['107th/Halsted']                                      505       0        8   \n['111th Street/Kedzie Avenue Business District']       470      11        0   \n...                                                    ...     ...      ...   \n['Western/Ogden']                                      632       5        0   \n['Wilson Yard', 'Lawrence/Broadway']                     0       0        0   \n['Wilson Yard']                                        883       0        0   \n['Woodlawn']                                           337       1        0   \n[]                                                  110373    3203      177   \n\nLICENSE_GROUP                                       Other  Permits  \\\nTIF_Name                                                             \n['105th Street and Vincennes Avenue', '107th/Ha...      0        0   \n['105th Street and Vincennes Avenue', 'Roseland...      9        0   \n['105th Street and Vincennes Avenue']                   0      158   \n['107th/Halsted']                                       0      129   \n['111th Street/Kedzie Avenue Business District']       34       15   \n...                                                   ...      ...   \n['Western/Ogden']                                       0       36   \n['Wilson Yard', 'Lawrence/Broadway']                    0        0   \n['Wilson Yard']                                        10       56   \n['Woodlawn']                                            9       74   \n[]                                                   1426     5853   \n\nLICENSE_GROUP                                       Personal Services  Retail  \\\nTIF_Name                                                                        \n['105th Street and Vincennes Avenue', '107th/Ha...                  0       0   \n['105th Street and Vincennes Avenue', 'Roseland...                  0       0   \n['105th Street and Vincennes Avenue']                               2     271   \n['107th/Halsted']                                                   0     211   \n['111th Street/Kedzie Avenue Business District']                   42      84   \n...                                                               ...     ...   \n['Western/Ogden']                                                   0     120   \n['Wilson Yard', 'Lawrence/Broadway']                                0       0   \n['Wilson Yard']                                                    29     244   \n['Woodlawn']                                                        1     168   \n[]                                                               6131   25336   \n\nLICENSE_GROUP                                       Special  Vehicles  \nTIF_Name                                                               \n['105th Street and Vincennes Avenue', '107th/Ha...        0         0  \n['105th Street and Vincennes Avenue', 'Roseland...        0         0  \n['105th Street and Vincennes Avenue']                   227       210  \n['107th/Halsted']                                       403       202  \n['111th Street/Kedzie Avenue Business District']        181        60  \n...                                                     ...       ...  \n['Western/Ogden']                                       772       198  \n['Wilson Yard', 'Lawrence/Broadway']                      0         0  \n['Wilson Yard']                                         354        13  \n['Woodlawn']                                            158        66  \n[]                                                    88257     17345  \n\n[125 rows x 13 columns]",
            "text/html": "<div>\n<style scoped>\n    .dataframe tbody tr th:only-of-type {\n        vertical-align: middle;\n    }\n\n    .dataframe tbody tr th {\n        vertical-align: top;\n    }\n\n    .dataframe thead th {\n        text-align: right;\n    }\n</style>\n<table border=\"1\" class=\"dataframe\">\n  <thead>\n    <tr style=\"text-align: right;\">\n      <th>LICENSE_GROUP</th>\n      <th>Accommodation</th>\n      <th>Business</th>\n      <th>Electronic</th>\n      <th>Entertainment</th>\n      <th>Food</th>\n      <th>Liquor</th>\n      <th>Medical</th>\n      <th>Other</th>\n      <th>Permits</th>\n      <th>Personal Services</th>\n      <th>Retail</th>\n      <th>Special</th>\n      <th>Vehicles</th>\n    </tr>\n    <tr>\n      <th>TIF_Name</th>\n      <th></th>\n      <th></th>\n      <th></th>\n      <th></th>\n      <th></th>\n      <th></th>\n      <th></th>\n      <th></th>\n      <th></th>\n      <th></th>\n      <th></th>\n      <th></th>\n      <th></th>\n    </tr>\n  </thead>\n  <tbody>\n    <tr>\n      <th>['105th Street and Vincennes Avenue', '107th/Halsted']</th>\n      <td>0</td>\n      <td>1</td>\n      <td>0</td>\n      <td>0</td>\n      <td>15</td>\n      <td>0</td>\n      <td>0</td>\n      <td>0</td>\n      <td>0</td>\n      <td>0</td>\n      <td>0</td>\n      <td>0</td>\n      <td>0</td>\n    </tr>\n    <tr>\n      <th>['105th Street and Vincennes Avenue', 'Roseland/Michigan Avenue']</th>\n      <td>0</td>\n      <td>10</td>\n      <td>0</td>\n      <td>0</td>\n      <td>16</td>\n      <td>0</td>\n      <td>0</td>\n      <td>9</td>\n      <td>0</td>\n      <td>0</td>\n      <td>0</td>\n      <td>0</td>\n      <td>0</td>\n    </tr>\n    <tr>\n      <th>['105th Street and Vincennes Avenue']</th>\n      <td>8</td>\n      <td>1278</td>\n      <td>4</td>\n      <td>6</td>\n      <td>553</td>\n      <td>0</td>\n      <td>0</td>\n      <td>0</td>\n      <td>158</td>\n      <td>2</td>\n      <td>271</td>\n      <td>227</td>\n      <td>210</td>\n    </tr>\n    <tr>\n      <th>['107th/Halsted']</th>\n      <td>0</td>\n      <td>1007</td>\n      <td>5</td>\n      <td>3</td>\n      <td>505</td>\n      <td>0</td>\n      <td>8</td>\n      <td>0</td>\n      <td>129</td>\n      <td>0</td>\n      <td>211</td>\n      <td>403</td>\n      <td>202</td>\n    </tr>\n    <tr>\n      <th>['111th Street/Kedzie Avenue Business District']</th>\n      <td>0</td>\n      <td>955</td>\n      <td>6</td>\n      <td>20</td>\n      <td>470</td>\n      <td>11</td>\n      <td>0</td>\n      <td>34</td>\n      <td>15</td>\n      <td>42</td>\n      <td>84</td>\n      <td>181</td>\n      <td>60</td>\n    </tr>\n    <tr>\n      <th>...</th>\n      <td>...</td>\n      <td>...</td>\n      <td>...</td>\n      <td>...</td>\n      <td>...</td>\n      <td>...</td>\n      <td>...</td>\n      <td>...</td>\n      <td>...</td>\n      <td>...</td>\n      <td>...</td>\n      <td>...</td>\n      <td>...</td>\n    </tr>\n    <tr>\n      <th>['Western/Ogden']</th>\n      <td>12</td>\n      <td>1669</td>\n      <td>5</td>\n      <td>28</td>\n      <td>632</td>\n      <td>5</td>\n      <td>0</td>\n      <td>0</td>\n      <td>36</td>\n      <td>0</td>\n      <td>120</td>\n      <td>772</td>\n      <td>198</td>\n    </tr>\n    <tr>\n      <th>['Wilson Yard', 'Lawrence/Broadway']</th>\n      <td>0</td>\n      <td>11</td>\n      <td>0</td>\n      <td>0</td>\n      <td>0</td>\n      <td>0</td>\n      <td>0</td>\n      <td>0</td>\n      <td>0</td>\n      <td>0</td>\n      <td>0</td>\n      <td>0</td>\n      <td>0</td>\n    </tr>\n    <tr>\n      <th>['Wilson Yard']</th>\n      <td>12</td>\n      <td>1641</td>\n      <td>20</td>\n      <td>70</td>\n      <td>883</td>\n      <td>0</td>\n      <td>0</td>\n      <td>10</td>\n      <td>56</td>\n      <td>29</td>\n      <td>244</td>\n      <td>354</td>\n      <td>13</td>\n    </tr>\n    <tr>\n      <th>['Woodlawn']</th>\n      <td>4</td>\n      <td>741</td>\n      <td>3</td>\n      <td>19</td>\n      <td>337</td>\n      <td>1</td>\n      <td>0</td>\n      <td>9</td>\n      <td>74</td>\n      <td>1</td>\n      <td>168</td>\n      <td>158</td>\n      <td>66</td>\n    </tr>\n    <tr>\n      <th>[]</th>\n      <td>1247</td>\n      <td>246063</td>\n      <td>1180</td>\n      <td>8595</td>\n      <td>110373</td>\n      <td>3203</td>\n      <td>177</td>\n      <td>1426</td>\n      <td>5853</td>\n      <td>6131</td>\n      <td>25336</td>\n      <td>88257</td>\n      <td>17345</td>\n    </tr>\n  </tbody>\n</table>\n<p>125 rows × 13 columns</p>\n</div>"
          },
          "metadata": {}
        }
      ],
      "outputs_reference": null,
      "execution_count": null,
      "block_group": "d7b842bb696b43a39d46ee91c497b6a1",
      "content_dependencies": null
    },
    {
      "cell_type": "code",
      "source": "crossTab_df.to_csv('Cross_values.csv')",
      "metadata": {
        "source_hash": null,
        "execution_start": 1710286756812,
        "execution_millis": 273,
        "deepnote_to_be_reexecuted": true,
        "cell_id": "8020792257224c90a85634376e9d8d69",
        "deepnote_cell_type": "code"
      },
      "outputs": [],
      "outputs_reference": null,
      "execution_count": null,
      "block_group": "d1794d523ddd47e2b4b3d9408a04cd62",
      "content_dependencies": null
    },
    {
      "cell_type": "code",
      "source": "import pandas as pd\ncrossTab_percent_df = pd.crosstab(index=df_1['TIF_Name'], columns=df_1['LICENSE_GROUP'], normalize='index')\ncrossTab_percent_df",
      "metadata": {
        "source_hash": null,
        "execution_start": 1710869998962,
        "execution_millis": 289,
        "deepnote_to_be_reexecuted": true,
        "cell_id": "d8f3a97f260041c188693fb7c616cc31",
        "deepnote_cell_type": "code"
      },
      "outputs": [
        {
          "output_type": "execute_result",
          "execution_count": 10,
          "data": {
            "application/vnd.deepnote.dataframe.v3+json": {
              "column_count": 13,
              "row_count": 125,
              "columns": [
                {
                  "name": "Accommodation",
                  "dtype": "float64",
                  "stats": {
                    "unique_count": 39,
                    "nan_count": 0,
                    "min": "0.0",
                    "max": "0.018633540372670808",
                    "histogram": [
                      {
                        "bin_start": 0,
                        "bin_end": 0.0018633540372670807,
                        "count": 98
                      },
                      {
                        "bin_start": 0.0018633540372670807,
                        "bin_end": 0.0037267080745341614,
                        "count": 13
                      },
                      {
                        "bin_start": 0.0037267080745341614,
                        "bin_end": 0.005590062111801242,
                        "count": 4
                      },
                      {
                        "bin_start": 0.005590062111801242,
                        "bin_end": 0.007453416149068323,
                        "count": 2
                      },
                      {
                        "bin_start": 0.007453416149068323,
                        "bin_end": 0.009316770186335404,
                        "count": 4
                      },
                      {
                        "bin_start": 0.009316770186335404,
                        "bin_end": 0.011180124223602483,
                        "count": 1
                      },
                      {
                        "bin_start": 0.011180124223602483,
                        "bin_end": 0.013043478260869565,
                        "count": 0
                      },
                      {
                        "bin_start": 0.013043478260869565,
                        "bin_end": 0.014906832298136646,
                        "count": 0
                      },
                      {
                        "bin_start": 0.014906832298136646,
                        "bin_end": 0.016770186335403725,
                        "count": 1
                      },
                      {
                        "bin_start": 0.016770186335403725,
                        "bin_end": 0.018633540372670808,
                        "count": 2
                      }
                    ]
                  }
                },
                {
                  "name": "Business",
                  "dtype": "float64",
                  "stats": {
                    "unique_count": 124,
                    "nan_count": 0,
                    "min": "0.0",
                    "max": "1.0",
                    "histogram": [
                      {
                        "bin_start": 0,
                        "bin_end": 0.1,
                        "count": 3
                      },
                      {
                        "bin_start": 0.1,
                        "bin_end": 0.2,
                        "count": 1
                      },
                      {
                        "bin_start": 0.2,
                        "bin_end": 0.30000000000000004,
                        "count": 4
                      },
                      {
                        "bin_start": 0.30000000000000004,
                        "bin_end": 0.4,
                        "count": 18
                      },
                      {
                        "bin_start": 0.4,
                        "bin_end": 0.5,
                        "count": 46
                      },
                      {
                        "bin_start": 0.5,
                        "bin_end": 0.6000000000000001,
                        "count": 39
                      },
                      {
                        "bin_start": 0.6000000000000001,
                        "bin_end": 0.7000000000000001,
                        "count": 7
                      },
                      {
                        "bin_start": 0.7000000000000001,
                        "bin_end": 0.8,
                        "count": 5
                      },
                      {
                        "bin_start": 0.8,
                        "bin_end": 0.9,
                        "count": 0
                      },
                      {
                        "bin_start": 0.9,
                        "bin_end": 1,
                        "count": 2
                      }
                    ]
                  }
                },
                {
                  "name": "Electronic",
                  "dtype": "float64",
                  "stats": {
                    "unique_count": 75,
                    "nan_count": 0,
                    "min": "0.0",
                    "max": "0.013803680981595092",
                    "histogram": [
                      {
                        "bin_start": 0,
                        "bin_end": 0.0013803680981595093,
                        "count": 66
                      },
                      {
                        "bin_start": 0.0013803680981595093,
                        "bin_end": 0.0027607361963190185,
                        "count": 22
                      },
                      {
                        "bin_start": 0.0027607361963190185,
                        "bin_end": 0.004141104294478528,
                        "count": 11
                      },
                      {
                        "bin_start": 0.004141104294478528,
                        "bin_end": 0.005521472392638037,
                        "count": 8
                      },
                      {
                        "bin_start": 0.005521472392638037,
                        "bin_end": 0.006901840490797546,
                        "count": 7
                      },
                      {
                        "bin_start": 0.006901840490797546,
                        "bin_end": 0.008282208588957056,
                        "count": 5
                      },
                      {
                        "bin_start": 0.008282208588957056,
                        "bin_end": 0.009662576687116564,
                        "count": 3
                      },
                      {
                        "bin_start": 0.009662576687116564,
                        "bin_end": 0.011042944785276074,
                        "count": 0
                      },
                      {
                        "bin_start": 0.011042944785276074,
                        "bin_end": 0.012423312883435584,
                        "count": 2
                      },
                      {
                        "bin_start": 0.012423312883435584,
                        "bin_end": 0.013803680981595092,
                        "count": 1
                      }
                    ]
                  }
                },
                {
                  "name": "Entertainment",
                  "dtype": "float64",
                  "stats": {
                    "unique_count": 108,
                    "nan_count": 0,
                    "min": "0.0",
                    "max": "0.10377358490566038",
                    "histogram": [
                      {
                        "bin_start": 0,
                        "bin_end": 0.010377358490566039,
                        "count": 80
                      },
                      {
                        "bin_start": 0.010377358490566039,
                        "bin_end": 0.020754716981132078,
                        "count": 30
                      },
                      {
                        "bin_start": 0.020754716981132078,
                        "bin_end": 0.031132075471698117,
                        "count": 6
                      },
                      {
                        "bin_start": 0.031132075471698117,
                        "bin_end": 0.041509433962264156,
                        "count": 3
                      },
                      {
                        "bin_start": 0.041509433962264156,
                        "bin_end": 0.05188679245283019,
                        "count": 2
                      },
                      {
                        "bin_start": 0.05188679245283019,
                        "bin_end": 0.06226415094339623,
                        "count": 2
                      },
                      {
                        "bin_start": 0.06226415094339623,
                        "bin_end": 0.07264150943396228,
                        "count": 0
                      },
                      {
                        "bin_start": 0.07264150943396228,
                        "bin_end": 0.08301886792452831,
                        "count": 0
                      },
                      {
                        "bin_start": 0.08301886792452831,
                        "bin_end": 0.09339622641509435,
                        "count": 1
                      },
                      {
                        "bin_start": 0.09339622641509435,
                        "bin_end": 0.10377358490566038,
                        "count": 1
                      }
                    ]
                  }
                },
                {
                  "name": "Food",
                  "dtype": "float64",
                  "stats": {
                    "unique_count": 122,
                    "nan_count": 0,
                    "min": "0.0",
                    "max": "1.0",
                    "histogram": [
                      {
                        "bin_start": 0,
                        "bin_end": 0.1,
                        "count": 11
                      },
                      {
                        "bin_start": 0.1,
                        "bin_end": 0.2,
                        "count": 35
                      },
                      {
                        "bin_start": 0.2,
                        "bin_end": 0.30000000000000004,
                        "count": 64
                      },
                      {
                        "bin_start": 0.30000000000000004,
                        "bin_end": 0.4,
                        "count": 10
                      },
                      {
                        "bin_start": 0.4,
                        "bin_end": 0.5,
                        "count": 1
                      },
                      {
                        "bin_start": 0.5,
                        "bin_end": 0.6000000000000001,
                        "count": 1
                      },
                      {
                        "bin_start": 0.6000000000000001,
                        "bin_end": 0.7000000000000001,
                        "count": 1
                      },
                      {
                        "bin_start": 0.7000000000000001,
                        "bin_end": 0.8,
                        "count": 0
                      },
                      {
                        "bin_start": 0.8,
                        "bin_end": 0.9,
                        "count": 0
                      },
                      {
                        "bin_start": 0.9,
                        "bin_end": 1,
                        "count": 2
                      }
                    ]
                  }
                },
                {
                  "name": "Liquor",
                  "dtype": "float64",
                  "stats": {
                    "unique_count": 82,
                    "nan_count": 0,
                    "min": "0.0",
                    "max": "0.5833333333333334",
                    "histogram": [
                      {
                        "bin_start": 0,
                        "bin_end": 0.058333333333333334,
                        "count": 124
                      },
                      {
                        "bin_start": 0.058333333333333334,
                        "bin_end": 0.11666666666666667,
                        "count": 0
                      },
                      {
                        "bin_start": 0.11666666666666667,
                        "bin_end": 0.175,
                        "count": 0
                      },
                      {
                        "bin_start": 0.175,
                        "bin_end": 0.23333333333333334,
                        "count": 0
                      },
                      {
                        "bin_start": 0.23333333333333334,
                        "bin_end": 0.2916666666666667,
                        "count": 0
                      },
                      {
                        "bin_start": 0.2916666666666667,
                        "bin_end": 0.35,
                        "count": 0
                      },
                      {
                        "bin_start": 0.35,
                        "bin_end": 0.4083333333333333,
                        "count": 0
                      },
                      {
                        "bin_start": 0.4083333333333333,
                        "bin_end": 0.4666666666666667,
                        "count": 0
                      },
                      {
                        "bin_start": 0.4666666666666667,
                        "bin_end": 0.525,
                        "count": 0
                      },
                      {
                        "bin_start": 0.525,
                        "bin_end": 0.5833333333333334,
                        "count": 1
                      }
                    ]
                  }
                },
                {
                  "name": "Medical",
                  "dtype": "float64",
                  "stats": {
                    "unique_count": 15,
                    "nan_count": 0,
                    "min": "0.0",
                    "max": "0.028169014084507043",
                    "histogram": [
                      {
                        "bin_start": 0,
                        "bin_end": 0.0028169014084507044,
                        "count": 117
                      },
                      {
                        "bin_start": 0.0028169014084507044,
                        "bin_end": 0.005633802816901409,
                        "count": 6
                      },
                      {
                        "bin_start": 0.005633802816901409,
                        "bin_end": 0.008450704225352114,
                        "count": 0
                      },
                      {
                        "bin_start": 0.008450704225352114,
                        "bin_end": 0.011267605633802818,
                        "count": 1
                      },
                      {
                        "bin_start": 0.011267605633802818,
                        "bin_end": 0.014084507042253521,
                        "count": 0
                      },
                      {
                        "bin_start": 0.014084507042253521,
                        "bin_end": 0.016901408450704227,
                        "count": 0
                      },
                      {
                        "bin_start": 0.016901408450704227,
                        "bin_end": 0.01971830985915493,
                        "count": 0
                      },
                      {
                        "bin_start": 0.01971830985915493,
                        "bin_end": 0.022535211267605635,
                        "count": 0
                      },
                      {
                        "bin_start": 0.022535211267605635,
                        "bin_end": 0.02535211267605634,
                        "count": 0
                      },
                      {
                        "bin_start": 0.02535211267605634,
                        "bin_end": 0.028169014084507043,
                        "count": 1
                      }
                    ]
                  }
                },
                {
                  "name": "Other",
                  "dtype": "float64",
                  "stats": {
                    "unique_count": 67,
                    "nan_count": 0,
                    "min": "0.0",
                    "max": "0.2571428571428571",
                    "histogram": [
                      {
                        "bin_start": 0,
                        "bin_end": 0.02571428571428571,
                        "count": 124
                      },
                      {
                        "bin_start": 0.02571428571428571,
                        "bin_end": 0.05142857142857142,
                        "count": 0
                      },
                      {
                        "bin_start": 0.05142857142857142,
                        "bin_end": 0.07714285714285712,
                        "count": 0
                      },
                      {
                        "bin_start": 0.07714285714285712,
                        "bin_end": 0.10285714285714284,
                        "count": 0
                      },
                      {
                        "bin_start": 0.10285714285714284,
                        "bin_end": 0.12857142857142856,
                        "count": 0
                      },
                      {
                        "bin_start": 0.12857142857142856,
                        "bin_end": 0.15428571428571425,
                        "count": 0
                      },
                      {
                        "bin_start": 0.15428571428571425,
                        "bin_end": 0.17999999999999997,
                        "count": 0
                      },
                      {
                        "bin_start": 0.17999999999999997,
                        "bin_end": 0.20571428571428568,
                        "count": 0
                      },
                      {
                        "bin_start": 0.20571428571428568,
                        "bin_end": 0.2314285714285714,
                        "count": 0
                      },
                      {
                        "bin_start": 0.2314285714285714,
                        "bin_end": 0.2571428571428571,
                        "count": 1
                      }
                    ]
                  }
                },
                {
                  "name": "Permits",
                  "dtype": "float64",
                  "stats": {
                    "unique_count": 97,
                    "nan_count": 0,
                    "min": "0.0",
                    "max": "0.4444444444444444",
                    "histogram": [
                      {
                        "bin_start": 0,
                        "bin_end": 0.04444444444444444,
                        "count": 113
                      },
                      {
                        "bin_start": 0.04444444444444444,
                        "bin_end": 0.08888888888888888,
                        "count": 7
                      },
                      {
                        "bin_start": 0.08888888888888888,
                        "bin_end": 0.1333333333333333,
                        "count": 1
                      },
                      {
                        "bin_start": 0.1333333333333333,
                        "bin_end": 0.17777777777777776,
                        "count": 1
                      },
                      {
                        "bin_start": 0.17777777777777776,
                        "bin_end": 0.2222222222222222,
                        "count": 0
                      },
                      {
                        "bin_start": 0.2222222222222222,
                        "bin_end": 0.2666666666666666,
                        "count": 1
                      },
                      {
                        "bin_start": 0.2666666666666666,
                        "bin_end": 0.31111111111111106,
                        "count": 0
                      },
                      {
                        "bin_start": 0.31111111111111106,
                        "bin_end": 0.3555555555555555,
                        "count": 1
                      },
                      {
                        "bin_start": 0.3555555555555555,
                        "bin_end": 0.39999999999999997,
                        "count": 0
                      },
                      {
                        "bin_start": 0.39999999999999997,
                        "bin_end": 0.4444444444444444,
                        "count": 1
                      }
                    ]
                  }
                },
                {
                  "name": "Personal Services",
                  "dtype": "float64",
                  "stats": {
                    "unique_count": 87,
                    "nan_count": 0,
                    "min": "0.0",
                    "max": "0.02830188679245283",
                    "histogram": [
                      {
                        "bin_start": 0,
                        "bin_end": 0.0028301886792452833,
                        "count": 63
                      },
                      {
                        "bin_start": 0.0028301886792452833,
                        "bin_end": 0.0056603773584905665,
                        "count": 15
                      },
                      {
                        "bin_start": 0.0056603773584905665,
                        "bin_end": 0.00849056603773585,
                        "count": 17
                      },
                      {
                        "bin_start": 0.00849056603773585,
                        "bin_end": 0.011320754716981133,
                        "count": 10
                      },
                      {
                        "bin_start": 0.011320754716981133,
                        "bin_end": 0.014150943396226415,
                        "count": 11
                      },
                      {
                        "bin_start": 0.014150943396226415,
                        "bin_end": 0.0169811320754717,
                        "count": 3
                      },
                      {
                        "bin_start": 0.0169811320754717,
                        "bin_end": 0.019811320754716984,
                        "count": 3
                      },
                      {
                        "bin_start": 0.019811320754716984,
                        "bin_end": 0.022641509433962266,
                        "count": 2
                      },
                      {
                        "bin_start": 0.022641509433962266,
                        "bin_end": 0.02547169811320755,
                        "count": 0
                      },
                      {
                        "bin_start": 0.02547169811320755,
                        "bin_end": 0.02830188679245283,
                        "count": 1
                      }
                    ]
                  }
                },
                {
                  "name": "Retail",
                  "dtype": "float64",
                  "stats": {
                    "unique_count": 109,
                    "nan_count": 0,
                    "min": "0.0",
                    "max": "0.18040013563919974",
                    "histogram": [
                      {
                        "bin_start": 0,
                        "bin_end": 0.018040013563919974,
                        "count": 27
                      },
                      {
                        "bin_start": 0.018040013563919974,
                        "bin_end": 0.03608002712783995,
                        "count": 20
                      },
                      {
                        "bin_start": 0.03608002712783995,
                        "bin_end": 0.05412004069175992,
                        "count": 19
                      },
                      {
                        "bin_start": 0.05412004069175992,
                        "bin_end": 0.0721600542556799,
                        "count": 16
                      },
                      {
                        "bin_start": 0.0721600542556799,
                        "bin_end": 0.09020006781959987,
                        "count": 19
                      },
                      {
                        "bin_start": 0.09020006781959987,
                        "bin_end": 0.10824008138351984,
                        "count": 12
                      },
                      {
                        "bin_start": 0.10824008138351984,
                        "bin_end": 0.1262800949474398,
                        "count": 9
                      },
                      {
                        "bin_start": 0.1262800949474398,
                        "bin_end": 0.1443201085113598,
                        "count": 2
                      },
                      {
                        "bin_start": 0.1443201085113598,
                        "bin_end": 0.16236012207527978,
                        "count": 0
                      },
                      {
                        "bin_start": 0.16236012207527978,
                        "bin_end": 0.18040013563919974,
                        "count": 1
                      }
                    ]
                  }
                },
                {
                  "name": "Special",
                  "dtype": "float64",
                  "stats": {
                    "unique_count": 119,
                    "nan_count": 0,
                    "min": "0.0",
                    "max": "0.390625",
                    "histogram": [
                      {
                        "bin_start": 0,
                        "bin_end": 0.0390625,
                        "count": 11
                      },
                      {
                        "bin_start": 0.0390625,
                        "bin_end": 0.078125,
                        "count": 24
                      },
                      {
                        "bin_start": 0.078125,
                        "bin_end": 0.1171875,
                        "count": 32
                      },
                      {
                        "bin_start": 0.1171875,
                        "bin_end": 0.15625,
                        "count": 21
                      },
                      {
                        "bin_start": 0.15625,
                        "bin_end": 0.1953125,
                        "count": 15
                      },
                      {
                        "bin_start": 0.1953125,
                        "bin_end": 0.234375,
                        "count": 9
                      },
                      {
                        "bin_start": 0.234375,
                        "bin_end": 0.2734375,
                        "count": 4
                      },
                      {
                        "bin_start": 0.2734375,
                        "bin_end": 0.3125,
                        "count": 5
                      },
                      {
                        "bin_start": 0.3125,
                        "bin_end": 0.3515625,
                        "count": 2
                      },
                      {
                        "bin_start": 0.3515625,
                        "bin_end": 0.390625,
                        "count": 2
                      }
                    ]
                  }
                },
                {
                  "name": "Vehicles",
                  "dtype": "float64",
                  "stats": {
                    "unique_count": 106,
                    "nan_count": 0,
                    "min": "0.0",
                    "max": "0.17777777777777778",
                    "histogram": [
                      {
                        "bin_start": 0,
                        "bin_end": 0.017777777777777778,
                        "count": 34
                      },
                      {
                        "bin_start": 0.017777777777777778,
                        "bin_end": 0.035555555555555556,
                        "count": 24
                      },
                      {
                        "bin_start": 0.035555555555555556,
                        "bin_end": 0.05333333333333333,
                        "count": 23
                      },
                      {
                        "bin_start": 0.05333333333333333,
                        "bin_end": 0.07111111111111111,
                        "count": 12
                      },
                      {
                        "bin_start": 0.07111111111111111,
                        "bin_end": 0.08888888888888889,
                        "count": 12
                      },
                      {
                        "bin_start": 0.08888888888888889,
                        "bin_end": 0.10666666666666666,
                        "count": 7
                      },
                      {
                        "bin_start": 0.10666666666666666,
                        "bin_end": 0.12444444444444444,
                        "count": 7
                      },
                      {
                        "bin_start": 0.12444444444444444,
                        "bin_end": 0.14222222222222222,
                        "count": 4
                      },
                      {
                        "bin_start": 0.14222222222222222,
                        "bin_end": 0.16,
                        "count": 0
                      },
                      {
                        "bin_start": 0.16,
                        "bin_end": 0.17777777777777778,
                        "count": 2
                      }
                    ]
                  }
                },
                {
                  "name": "_deepnote_index_column",
                  "dtype": "object"
                }
              ],
              "rows": [
                {
                  "Accommodation": 0,
                  "Business": 0.0625,
                  "Electronic": 0,
                  "Entertainment": 0,
                  "Food": 0.9375,
                  "Liquor": 0,
                  "Medical": 0,
                  "Other": 0,
                  "Permits": 0,
                  "Personal Services": 0,
                  "Retail": 0,
                  "Special": 0,
                  "Vehicles": 0,
                  "_deepnote_index_column": "['105th Street and Vincennes Avenue', '107th/Halsted']"
                },
                {
                  "Accommodation": 0,
                  "Business": 0.2857142857142857,
                  "Electronic": 0,
                  "Entertainment": 0,
                  "Food": 0.45714285714285713,
                  "Liquor": 0,
                  "Medical": 0,
                  "Other": 0.2571428571428571,
                  "Permits": 0,
                  "Personal Services": 0,
                  "Retail": 0,
                  "Special": 0,
                  "Vehicles": 0,
                  "_deepnote_index_column": "['105th Street and Vincennes Avenue', 'Roseland/Michigan Avenue']"
                },
                {
                  "Accommodation": 0.002944423997055576,
                  "Business": 0.47037173352962824,
                  "Electronic": 0.001472211998527788,
                  "Entertainment": 0.002208317997791682,
                  "Food": 0.2035333087964667,
                  "Liquor": 0,
                  "Medical": 0,
                  "Other": 0,
                  "Permits": 0.05815237394184763,
                  "Personal Services": 0.000736105999263894,
                  "Retail": 0.09974236290025763,
                  "Special": 0.08354803091645197,
                  "Vehicles": 0.07729112992270887,
                  "_deepnote_index_column": "['105th Street and Vincennes Avenue']"
                },
                {
                  "Accommodation": 0,
                  "Business": 0.40719773554387384,
                  "Electronic": 0.0020218358269308533,
                  "Entertainment": 0.001213101496158512,
                  "Food": 0.20420541852001617,
                  "Liquor": 0,
                  "Medical": 0.003234937323089365,
                  "Other": 0,
                  "Permits": 0.05216336433481601,
                  "Personal Services": 0,
                  "Retail": 0.08532147189648201,
                  "Special": 0.16295996765062676,
                  "Vehicles": 0.08168216740800648,
                  "_deepnote_index_column": "['107th/Halsted']"
                },
                {
                  "Accommodation": 0,
                  "Business": 0.5085197018104366,
                  "Electronic": 0.003194888178913738,
                  "Entertainment": 0.010649627263045794,
                  "Food": 0.25026624068157616,
                  "Liquor": 0.005857294994675187,
                  "Medical": 0,
                  "Other": 0.01810436634717785,
                  "Permits": 0.007987220447284345,
                  "Personal Services": 0.022364217252396165,
                  "Retail": 0.04472843450479233,
                  "Special": 0.09637912673056442,
                  "Vehicles": 0.03194888178913738,
                  "_deepnote_index_column": "['111th Street/Kedzie Avenue Business District']"
                },
                {
                  "Accommodation": 0,
                  "Business": 0.304,
                  "Electronic": 0,
                  "Entertainment": 0.056,
                  "Food": 0.16,
                  "Liquor": 0.008,
                  "Medical": 0,
                  "Other": 0,
                  "Permits": 0,
                  "Personal Services": 0,
                  "Retail": 0.08,
                  "Special": 0.28,
                  "Vehicles": 0.112,
                  "_deepnote_index_column": "['116th/Avenue O']"
                },
                {
                  "Accommodation": 0,
                  "Business": 0.4050901378579003,
                  "Electronic": 0.0010604453870625664,
                  "Entertainment": 0.016436903499469777,
                  "Food": 0.20837751855779427,
                  "Liquor": 0.0005302226935312832,
                  "Medical": 0,
                  "Other": 0.007953340402969246,
                  "Permits": 0.026511134676564158,
                  "Personal Services": 0.006362672322375398,
                  "Retail": 0.07051961823966066,
                  "Special": 0.20837751855779427,
                  "Vehicles": 0.04878048780487805,
                  "_deepnote_index_column": "['119th Street/I-57']"
                },
                {
                  "Accommodation": 0,
                  "Business": 0.4279051690633502,
                  "Electronic": 0.00388651379712398,
                  "Entertainment": 0.006218422075398368,
                  "Food": 0.18460940536338905,
                  "Liquor": 0,
                  "Medical": 0,
                  "Other": 0.004275165176836378,
                  "Permits": 0.04236300038865138,
                  "Personal Services": 0.006995724834823164,
                  "Retail": 0.08161678973960358,
                  "Special": 0.1383598911776137,
                  "Vehicles": 0.10376991838321026,
                  "_deepnote_index_column": "['119th and Halsted']"
                },
                {
                  "Accommodation": 0,
                  "Business": 0.5503421309872922,
                  "Electronic": 0,
                  "Entertainment": 0.042033235581622676,
                  "Food": 0.18475073313782991,
                  "Liquor": 0.002932551319648094,
                  "Medical": 0,
                  "Other": 0,
                  "Permits": 0.04398826979472141,
                  "Personal Services": 0.008797653958944282,
                  "Retail": 0.020527859237536656,
                  "Special": 0.08308895405669599,
                  "Vehicles": 0.0635386119257087,
                  "_deepnote_index_column": "['24th/Michigan']"
                },
                {
                  "Accommodation": 0,
                  "Business": 0.7207792207792207,
                  "Electronic": 0,
                  "Entertainment": 0.05194805194805195,
                  "Food": 0.15584415584415584,
                  "Liquor": 0,
                  "Medical": 0,
                  "Other": 0,
                  "Permits": 0,
                  "Personal Services": 0,
                  "Retail": 0,
                  "Special": 0.07142857142857142,
                  "Vehicles": 0,
                  "_deepnote_index_column": "['26th & King Drive']"
                }
              ]
            },
            "text/plain": "LICENSE_GROUP                                       Accommodation  Business  \\\nTIF_Name                                                                      \n['105th Street and Vincennes Avenue', '107th/Ha...       0.000000  0.062500   \n['105th Street and Vincennes Avenue', 'Roseland...       0.000000  0.285714   \n['105th Street and Vincennes Avenue']                    0.002944  0.470372   \n['107th/Halsted']                                        0.000000  0.407198   \n['111th Street/Kedzie Avenue Business District']         0.000000  0.508520   \n...                                                           ...       ...   \n['Western/Ogden']                                        0.003451  0.480012   \n['Wilson Yard', 'Lawrence/Broadway']                     0.000000  1.000000   \n['Wilson Yard']                                          0.003601  0.492497   \n['Woodlawn']                                             0.002530  0.468691   \n[]                                                       0.002420  0.477620   \n\nLICENSE_GROUP                                       Electronic  Entertainment  \\\nTIF_Name                                                                        \n['105th Street and Vincennes Avenue', '107th/Ha...    0.000000       0.000000   \n['105th Street and Vincennes Avenue', 'Roseland...    0.000000       0.000000   \n['105th Street and Vincennes Avenue']                 0.001472       0.002208   \n['107th/Halsted']                                     0.002022       0.001213   \n['111th Street/Kedzie Avenue Business District']      0.003195       0.010650   \n...                                                        ...            ...   \n['Western/Ogden']                                     0.001438       0.008053   \n['Wilson Yard', 'Lawrence/Broadway']                  0.000000       0.000000   \n['Wilson Yard']                                       0.006002       0.021008   \n['Woodlawn']                                          0.001898       0.012018   \n[]                                                    0.002290       0.016683   \n\nLICENSE_GROUP                                           Food    Liquor  \\\nTIF_Name                                                                 \n['105th Street and Vincennes Avenue', '107th/Ha...  0.937500  0.000000   \n['105th Street and Vincennes Avenue', 'Roseland...  0.457143  0.000000   \n['105th Street and Vincennes Avenue']               0.203533  0.000000   \n['107th/Halsted']                                   0.204205  0.000000   \n['111th Street/Kedzie Avenue Business District']    0.250266  0.005857   \n...                                                      ...       ...   \n['Western/Ogden']                                   0.181766  0.001438   \n['Wilson Yard', 'Lawrence/Broadway']                0.000000  0.000000   \n['Wilson Yard']                                     0.265006  0.000000   \n['Woodlawn']                                        0.213156  0.000633   \n[]                                                  0.214239  0.006217   \n\nLICENSE_GROUP                                        Medical     Other  \\\nTIF_Name                                                                 \n['105th Street and Vincennes Avenue', '107th/Ha...  0.000000  0.000000   \n['105th Street and Vincennes Avenue', 'Roseland...  0.000000  0.257143   \n['105th Street and Vincennes Avenue']               0.000000  0.000000   \n['107th/Halsted']                                   0.003235  0.000000   \n['111th Street/Kedzie Avenue Business District']    0.000000  0.018104   \n...                                                      ...       ...   \n['Western/Ogden']                                   0.000000  0.000000   \n['Wilson Yard', 'Lawrence/Broadway']                0.000000  0.000000   \n['Wilson Yard']                                     0.000000  0.003001   \n['Woodlawn']                                        0.000000  0.005693   \n[]                                                  0.000344  0.002768   \n\nLICENSE_GROUP                                        Permits  \\\nTIF_Name                                                       \n['105th Street and Vincennes Avenue', '107th/Ha...  0.000000   \n['105th Street and Vincennes Avenue', 'Roseland...  0.000000   \n['105th Street and Vincennes Avenue']               0.058152   \n['107th/Halsted']                                   0.052163   \n['111th Street/Kedzie Avenue Business District']    0.007987   \n...                                                      ...   \n['Western/Ogden']                                   0.010354   \n['Wilson Yard', 'Lawrence/Broadway']                0.000000   \n['Wilson Yard']                                     0.016807   \n['Woodlawn']                                        0.046806   \n[]                                                  0.011361   \n\nLICENSE_GROUP                                       Personal Services  \\\nTIF_Name                                                                \n['105th Street and Vincennes Avenue', '107th/Ha...           0.000000   \n['105th Street and Vincennes Avenue', 'Roseland...           0.000000   \n['105th Street and Vincennes Avenue']                        0.000736   \n['107th/Halsted']                                            0.000000   \n['111th Street/Kedzie Avenue Business District']             0.022364   \n...                                                               ...   \n['Western/Ogden']                                            0.000000   \n['Wilson Yard', 'Lawrence/Broadway']                         0.000000   \n['Wilson Yard']                                              0.008703   \n['Woodlawn']                                                 0.000633   \n[]                                                           0.011901   \n\nLICENSE_GROUP                                         Retail   Special  \\\nTIF_Name                                                                 \n['105th Street and Vincennes Avenue', '107th/Ha...  0.000000  0.000000   \n['105th Street and Vincennes Avenue', 'Roseland...  0.000000  0.000000   \n['105th Street and Vincennes Avenue']               0.099742  0.083548   \n['107th/Halsted']                                   0.085321  0.162960   \n['111th Street/Kedzie Avenue Business District']    0.044728  0.096379   \n...                                                      ...       ...   \n['Western/Ogden']                                   0.034513  0.222030   \n['Wilson Yard', 'Lawrence/Broadway']                0.000000  0.000000   \n['Wilson Yard']                                     0.073229  0.106242   \n['Woodlawn']                                        0.106262  0.099937   \n[]                                                  0.049178  0.171311   \n\nLICENSE_GROUP                                       Vehicles  \nTIF_Name                                                      \n['105th Street and Vincennes Avenue', '107th/Ha...  0.000000  \n['105th Street and Vincennes Avenue', 'Roseland...  0.000000  \n['105th Street and Vincennes Avenue']               0.077291  \n['107th/Halsted']                                   0.081682  \n['111th Street/Kedzie Avenue Business District']    0.031949  \n...                                                      ...  \n['Western/Ogden']                                   0.056946  \n['Wilson Yard', 'Lawrence/Broadway']                0.000000  \n['Wilson Yard']                                     0.003902  \n['Woodlawn']                                        0.041746  \n[]                                                  0.033667  \n\n[125 rows x 13 columns]",
            "text/html": "<div>\n<style scoped>\n    .dataframe tbody tr th:only-of-type {\n        vertical-align: middle;\n    }\n\n    .dataframe tbody tr th {\n        vertical-align: top;\n    }\n\n    .dataframe thead th {\n        text-align: right;\n    }\n</style>\n<table border=\"1\" class=\"dataframe\">\n  <thead>\n    <tr style=\"text-align: right;\">\n      <th>LICENSE_GROUP</th>\n      <th>Accommodation</th>\n      <th>Business</th>\n      <th>Electronic</th>\n      <th>Entertainment</th>\n      <th>Food</th>\n      <th>Liquor</th>\n      <th>Medical</th>\n      <th>Other</th>\n      <th>Permits</th>\n      <th>Personal Services</th>\n      <th>Retail</th>\n      <th>Special</th>\n      <th>Vehicles</th>\n    </tr>\n    <tr>\n      <th>TIF_Name</th>\n      <th></th>\n      <th></th>\n      <th></th>\n      <th></th>\n      <th></th>\n      <th></th>\n      <th></th>\n      <th></th>\n      <th></th>\n      <th></th>\n      <th></th>\n      <th></th>\n      <th></th>\n    </tr>\n  </thead>\n  <tbody>\n    <tr>\n      <th>['105th Street and Vincennes Avenue', '107th/Halsted']</th>\n      <td>0.000000</td>\n      <td>0.062500</td>\n      <td>0.000000</td>\n      <td>0.000000</td>\n      <td>0.937500</td>\n      <td>0.000000</td>\n      <td>0.000000</td>\n      <td>0.000000</td>\n      <td>0.000000</td>\n      <td>0.000000</td>\n      <td>0.000000</td>\n      <td>0.000000</td>\n      <td>0.000000</td>\n    </tr>\n    <tr>\n      <th>['105th Street and Vincennes Avenue', 'Roseland/Michigan Avenue']</th>\n      <td>0.000000</td>\n      <td>0.285714</td>\n      <td>0.000000</td>\n      <td>0.000000</td>\n      <td>0.457143</td>\n      <td>0.000000</td>\n      <td>0.000000</td>\n      <td>0.257143</td>\n      <td>0.000000</td>\n      <td>0.000000</td>\n      <td>0.000000</td>\n      <td>0.000000</td>\n      <td>0.000000</td>\n    </tr>\n    <tr>\n      <th>['105th Street and Vincennes Avenue']</th>\n      <td>0.002944</td>\n      <td>0.470372</td>\n      <td>0.001472</td>\n      <td>0.002208</td>\n      <td>0.203533</td>\n      <td>0.000000</td>\n      <td>0.000000</td>\n      <td>0.000000</td>\n      <td>0.058152</td>\n      <td>0.000736</td>\n      <td>0.099742</td>\n      <td>0.083548</td>\n      <td>0.077291</td>\n    </tr>\n    <tr>\n      <th>['107th/Halsted']</th>\n      <td>0.000000</td>\n      <td>0.407198</td>\n      <td>0.002022</td>\n      <td>0.001213</td>\n      <td>0.204205</td>\n      <td>0.000000</td>\n      <td>0.003235</td>\n      <td>0.000000</td>\n      <td>0.052163</td>\n      <td>0.000000</td>\n      <td>0.085321</td>\n      <td>0.162960</td>\n      <td>0.081682</td>\n    </tr>\n    <tr>\n      <th>['111th Street/Kedzie Avenue Business District']</th>\n      <td>0.000000</td>\n      <td>0.508520</td>\n      <td>0.003195</td>\n      <td>0.010650</td>\n      <td>0.250266</td>\n      <td>0.005857</td>\n      <td>0.000000</td>\n      <td>0.018104</td>\n      <td>0.007987</td>\n      <td>0.022364</td>\n      <td>0.044728</td>\n      <td>0.096379</td>\n      <td>0.031949</td>\n    </tr>\n    <tr>\n      <th>...</th>\n      <td>...</td>\n      <td>...</td>\n      <td>...</td>\n      <td>...</td>\n      <td>...</td>\n      <td>...</td>\n      <td>...</td>\n      <td>...</td>\n      <td>...</td>\n      <td>...</td>\n      <td>...</td>\n      <td>...</td>\n      <td>...</td>\n    </tr>\n    <tr>\n      <th>['Western/Ogden']</th>\n      <td>0.003451</td>\n      <td>0.480012</td>\n      <td>0.001438</td>\n      <td>0.008053</td>\n      <td>0.181766</td>\n      <td>0.001438</td>\n      <td>0.000000</td>\n      <td>0.000000</td>\n      <td>0.010354</td>\n      <td>0.000000</td>\n      <td>0.034513</td>\n      <td>0.222030</td>\n      <td>0.056946</td>\n    </tr>\n    <tr>\n      <th>['Wilson Yard', 'Lawrence/Broadway']</th>\n      <td>0.000000</td>\n      <td>1.000000</td>\n      <td>0.000000</td>\n      <td>0.000000</td>\n      <td>0.000000</td>\n      <td>0.000000</td>\n      <td>0.000000</td>\n      <td>0.000000</td>\n      <td>0.000000</td>\n      <td>0.000000</td>\n      <td>0.000000</td>\n      <td>0.000000</td>\n      <td>0.000000</td>\n    </tr>\n    <tr>\n      <th>['Wilson Yard']</th>\n      <td>0.003601</td>\n      <td>0.492497</td>\n      <td>0.006002</td>\n      <td>0.021008</td>\n      <td>0.265006</td>\n      <td>0.000000</td>\n      <td>0.000000</td>\n      <td>0.003001</td>\n      <td>0.016807</td>\n      <td>0.008703</td>\n      <td>0.073229</td>\n      <td>0.106242</td>\n      <td>0.003902</td>\n    </tr>\n    <tr>\n      <th>['Woodlawn']</th>\n      <td>0.002530</td>\n      <td>0.468691</td>\n      <td>0.001898</td>\n      <td>0.012018</td>\n      <td>0.213156</td>\n      <td>0.000633</td>\n      <td>0.000000</td>\n      <td>0.005693</td>\n      <td>0.046806</td>\n      <td>0.000633</td>\n      <td>0.106262</td>\n      <td>0.099937</td>\n      <td>0.041746</td>\n    </tr>\n    <tr>\n      <th>[]</th>\n      <td>0.002420</td>\n      <td>0.477620</td>\n      <td>0.002290</td>\n      <td>0.016683</td>\n      <td>0.214239</td>\n      <td>0.006217</td>\n      <td>0.000344</td>\n      <td>0.002768</td>\n      <td>0.011361</td>\n      <td>0.011901</td>\n      <td>0.049178</td>\n      <td>0.171311</td>\n      <td>0.033667</td>\n    </tr>\n  </tbody>\n</table>\n<p>125 rows × 13 columns</p>\n</div>"
          },
          "metadata": {}
        }
      ],
      "outputs_reference": null,
      "execution_count": null,
      "block_group": "e8076fe852294e19a01c24deb8fa8859",
      "content_dependencies": null
    },
    {
      "cell_type": "code",
      "source": "crossTab_percent_df.to_csv('Cross_percent.csv')",
      "metadata": {
        "source_hash": null,
        "execution_start": 1710286733273,
        "execution_millis": 291,
        "deepnote_to_be_reexecuted": true,
        "cell_id": "7aec1767fe1e421995fabed9b7489c8b",
        "deepnote_cell_type": "code"
      },
      "outputs": [],
      "outputs_reference": null,
      "execution_count": null,
      "block_group": "9831020a2da94db388dfb97d1afaf56d",
      "content_dependencies": null
    },
    {
      "cell_type": "markdown",
      "source": "<a style='text-decoration:none;line-height:16px;display:flex;color:#5B5B62;padding:10px;justify-content:end;' href='https://deepnote.com?utm_source=created-in-deepnote-cell&projectId=41bd1eeb-8ade-41a5-ae81-cf4a88f38197' target=\"_blank\">\n<img alt='Created in deepnote.com' style='display:inline;max-height:16px;margin:0px;margin-right:7.5px;' src='data:image/svg+xml;base64,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' > </img>\nCreated in <span style='font-weight:600;margin-left:4px;'>Deepnote</span></a>",
      "metadata": {
        "created_in_deepnote_cell": true,
        "deepnote_cell_type": "markdown"
      }
    }
  ],
  "nbformat": 4,
  "nbformat_minor": 0,
  "metadata": {
    "deepnote_notebook_id": "bc7d0f4fb24e4893806a991505b5a8c5",
    "deepnote_execution_queue": []
  }
}