{
  "cells": [
    {
      "cell_type": "code",
      "source": "years = list(range(1990, 2025, 1))\npop = [2.784, 2.786, 2.792, 2.797, 2.802, 2.814, 2.808, 2.803, 2.799, 2.896, 2.895, 2.883, 2.87, 2.852, 2.829, 2.812, 2.817, 2.835, 2.855, 2.697, 2.708, 2.719, 2.726, 2.727, 2.724, 2.716, 2.71, 2.701, 2.691, 2.742, 2.697, 2.665, 2.6, 2.6]\nprint(pop)\n",
      "metadata": {
        "source_hash": "2d603a9d",
        "execution_start": 1713287763095,
        "execution_millis": 303,
        "deepnote_to_be_reexecuted": false,
        "cell_id": "c8e212e7fc9f418486ccbfa76e6953f7",
        "deepnote_cell_type": "code"
      },
      "outputs": [
        {
          "name": "stdout",
          "text": "[2.784, 2.786, 2.792, 2.797, 2.802, 2.814, 2.808, 2.803, 2.799, 2.896, 2.895, 2.883, 2.87, 2.852, 2.829, 2.812, 2.817, 2.835, 2.855, 2.697, 2.708, 2.719, 2.726, 2.727, 2.724, 2.716, 2.71, 2.701, 2.691, 2.742, 2.697, 2.665, 2.6, 2.6]\n",
          "output_type": "stream"
        }
      ],
      "outputs_reference": null,
      "execution_count": 3,
      "block_group": "c8e212e7fc9f418486ccbfa76e6953f7",
      "content_dependencies": null
    },
    {
      "cell_type": "code",
      "source": "pop = [2.784, 2.786, 2.792, 2.797, 2.802, 2.814, 2.808, 2.803, 2.799, 2.896, 2.895, 2.883, 2.87, 2.852, 2.829, 2.812, 2.817, 2.835, 2.855, 2.697, 2.708, 2.719, 2.726, 2.727, 2.724, 2.716, 2.71, 2.701, 2.691, 2.742, 2.697, 2.665, 2.6, 2.6]\npop_millions = [x * 1000000 for x in pop]\n\nprint(pop_millions)",
      "metadata": {
        "source_hash": "ac68f26f",
        "execution_start": 1713287768617,
        "execution_millis": 93,
        "deepnote_to_be_reexecuted": false,
        "cell_id": "26a135fd3f0240ba94c63af2d5bd6da4",
        "deepnote_cell_type": "code"
      },
      "outputs": [
        {
          "name": "stdout",
          "text": "[2784000.0, 2786000.0, 2792000.0, 2797000.0, 2802000.0, 2814000.0, 2808000.0, 2803000.0, 2799000.0, 2896000.0, 2895000.0, 2883000.0, 2870000.0, 2852000.0, 2829000.0, 2812000.0, 2817000.0, 2835000.0, 2855000.0, 2697000.0, 2708000.0, 2719000.0, 2726000.0, 2727000.0, 2724000.0, 2716000.0, 2710000.0, 2701000.0, 2691000.0, 2742000.0, 2697000.0, 2665000.0, 2600000.0, 2600000.0]\n",
          "output_type": "stream"
        }
      ],
      "outputs_reference": null,
      "execution_count": 4,
      "block_group": "ea5b6aaa9e404c128fcad6aab4434fea",
      "content_dependencies": null
    },
    {
      "cell_type": "code",
      "source": "import csv\n\n# Assuming 'years' and 'values' are your lists\nyears = [1990, 1991, 1992, 1993, 1994, 1995, 1996, 1997, 1998, 1999, 2000, 2001, 2002, 2003, 2004, 2005, 2006, 2007, 2008, 2009, 2010, 2011, 2012, 2013, 2014, 2015, 2016, 2017, 2018, 2019, 2020, 2021, 2022, 2023, 2024]\nvalues = pop_millions\n\n# Open a file to write\nwith open('output.csv', 'w', newline='') as file:\n    writer = csv.writer(file)\n    # Write the header\n    writer.writerow(['Year', 'Population'])\n    # Write data\n    for year, population in zip(years, pop_millions):\n        writer.writerow([year, population])\n\nprint(\"CSV file has been created successfully.\")",
      "metadata": {
        "source_hash": "4c54e764",
        "execution_start": 1713287955688,
        "execution_millis": 238,
        "deepnote_to_be_reexecuted": false,
        "cell_id": "74f721c681704818b50c9f8d4c903555",
        "deepnote_cell_type": "code"
      },
      "outputs": [
        {
          "name": "stdout",
          "text": "CSV file has been created successfully.\n",
          "output_type": "stream"
        }
      ],
      "outputs_reference": null,
      "execution_count": 7,
      "block_group": "87ef68918732493393064c7782343fa4",
      "content_dependencies": null
    },
    {
      "cell_type": "code",
      "source": "import csv\n\n# Path to the CSV file\nfile_path = 'output.csv'\n\n# Open the file in read mode\nwith open(file_path, 'r') as file:\n    reader = csv.reader(file)\n    # Print each row\n    for row in reader:\n        print(row)",
      "metadata": {
        "source_hash": "30f5c83c",
        "execution_start": 1713287957977,
        "execution_millis": 219,
        "deepnote_to_be_reexecuted": false,
        "cell_id": "c6fb1c3381f84ad2ae32f701e65759f5",
        "deepnote_cell_type": "code"
      },
      "outputs": [
        {
          "name": "stdout",
          "text": "['Year', 'Population']\n['1990', '2784000.0']\n['1991', '2786000.0']\n['1992', '2792000.0']\n['1993', '2797000.0']\n['1994', '2802000.0']\n['1995', '2814000.0']\n['1996', '2808000.0']\n['1997', '2803000.0']\n['1998', '2799000.0']\n['1999', '2896000.0']\n['2000', '2895000.0']\n['2001', '2883000.0']\n['2002', '2870000.0']\n['2003', '2852000.0']\n['2004', '2829000.0']\n['2005', '2812000.0']\n['2006', '2817000.0']\n['2007', '2835000.0']\n['2008', '2855000.0']\n['2009', '2697000.0']\n['2010', '2708000.0']\n['2011', '2719000.0']\n['2012', '2726000.0']\n['2013', '2727000.0']\n['2014', '2724000.0']\n['2015', '2716000.0']\n['2016', '2710000.0']\n['2017', '2701000.0']\n['2018', '2691000.0']\n['2019', '2742000.0']\n['2020', '2697000.0']\n['2021', '2665000.0']\n['2022', '2600000.0']\n['2023', '2600000.0']\n",
          "output_type": "stream"
        }
      ],
      "outputs_reference": null,
      "execution_count": 8,
      "block_group": "d9d6f7e7e8264829a0a00871a0aaa693",
      "content_dependencies": null
    },
    {
      "cell_type": "markdown",
      "source": "<a style='text-decoration:none;line-height:16px;display:flex;color:#5B5B62;padding:10px;justify-content:end;' href='https://deepnote.com?utm_source=created-in-deepnote-cell&projectId=41bd1eeb-8ade-41a5-ae81-cf4a88f38197' target=\"_blank\">\n<img alt='Created in deepnote.com' style='display:inline;max-height:16px;margin:0px;margin-right:7.5px;' src='data:image/svg+xml;base64,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' > </img>\nCreated in <span style='font-weight:600;margin-left:4px;'>Deepnote</span></a>",
      "metadata": {
        "created_in_deepnote_cell": true,
        "deepnote_cell_type": "markdown"
      }
    }
  ],
  "nbformat": 4,
  "nbformat_minor": 0,
  "metadata": {
    "deepnote_notebook_id": "99460376569c43939b01c2af83df1032",
    "deepnote_execution_queue": []
  }
}