{
  "cells": [
    {
      "cell_type": "code",
      "source": "!pip install geopy==2.4.1",
      "metadata": {
        "source_hash": "336bdf6d",
        "execution_start": 1709859533658,
        "execution_millis": 3862,
        "deepnote_to_be_reexecuted": false,
        "cell_id": "86ac255487994b75a5974f28a59b7967",
        "deepnote_cell_type": "code"
      },
      "outputs": [
        {
          "name": "stdout",
          "text": "Collecting geopy==2.4.1\n  Downloading geopy-2.4.1-py3-none-any.whl (125 kB)\n\u001b[2K     \u001b[90m━━━━━━━━━━━━━━━━━━━━━━━━━━━━━━━━━━━━━━\u001b[0m \u001b[32m125.4/125.4 kB\u001b[0m \u001b[31m18.6 MB/s\u001b[0m eta \u001b[36m0:00:00\u001b[0m\n\u001b[?25hCollecting geographiclib<3,>=1.52\n  Downloading geographiclib-2.0-py3-none-any.whl (40 kB)\n\u001b[2K     \u001b[90m━━━━━━━━━━━━━━━━━━━━━━━━━━━━━━━━━━━━━━━━\u001b[0m \u001b[32m40.3/40.3 kB\u001b[0m \u001b[31m7.8 MB/s\u001b[0m eta \u001b[36m0:00:00\u001b[0m\n\u001b[?25hInstalling collected packages: geographiclib, geopy\nSuccessfully installed geographiclib-2.0 geopy-2.4.1\n\n\u001b[1m[\u001b[0m\u001b[34;49mnotice\u001b[0m\u001b[1;39;49m]\u001b[0m\u001b[39;49m A new release of pip is available: \u001b[0m\u001b[31;49m23.0.1\u001b[0m\u001b[39;49m -> \u001b[0m\u001b[32;49m24.0\u001b[0m\n\u001b[1m[\u001b[0m\u001b[34;49mnotice\u001b[0m\u001b[1;39;49m]\u001b[0m\u001b[39;49m To update, run: \u001b[0m\u001b[32;49mpip install --upgrade pip\u001b[0m\n",
          "output_type": "stream"
        }
      ],
      "outputs_reference": null,
      "execution_count": 1,
      "block_group": "f833401015324f66bf9a0f19a63a1b84",
      "content_dependencies": null
    },
    {
      "cell_type": "code",
      "source": "!pip install geodatasets==2023.12.0",
      "metadata": {
        "source_hash": "5b301f8f",
        "execution_start": 1709859537523,
        "execution_millis": 3364,
        "deepnote_to_be_reexecuted": false,
        "cell_id": "f86c1f25fb4f43ea815898ef19898325",
        "deepnote_cell_type": "code"
      },
      "outputs": [
        {
          "name": "stdout",
          "text": "Collecting geodatasets==2023.12.0\n  Downloading geodatasets-2023.12.0-py3-none-any.whl (19 kB)\nCollecting pooch\n  Downloading pooch-1.8.1-py3-none-any.whl (62 kB)\n\u001b[2K     \u001b[90m━━━━━━━━━━━━━━━━━━━━━━━━━━━━━━━━━━━━━━━━\u001b[0m \u001b[32m63.0/63.0 kB\u001b[0m \u001b[31m12.2 MB/s\u001b[0m eta \u001b[36m0:00:00\u001b[0m\n\u001b[?25hRequirement already satisfied: packaging>=20.0 in /shared-libs/python3.9/py-core/lib/python3.9/site-packages (from pooch->geodatasets==2023.12.0) (21.3)\nRequirement already satisfied: requests>=2.19.0 in /shared-libs/python3.9/py/lib/python3.9/site-packages (from pooch->geodatasets==2023.12.0) (2.28.1)\nCollecting platformdirs>=2.5.0\n  Downloading platformdirs-4.2.0-py3-none-any.whl (17 kB)\nRequirement already satisfied: pyparsing!=3.0.5,>=2.0.2 in /shared-libs/python3.9/py-core/lib/python3.9/site-packages (from packaging>=20.0->pooch->geodatasets==2023.12.0) (3.0.9)\nRequirement already satisfied: certifi>=2017.4.17 in /shared-libs/python3.9/py/lib/python3.9/site-packages (from requests>=2.19.0->pooch->geodatasets==2023.12.0) (2022.9.24)\nRequirement already satisfied: charset-normalizer<3,>=2 in /shared-libs/python3.9/py-core/lib/python3.9/site-packages (from requests>=2.19.0->pooch->geodatasets==2023.12.0) (2.1.1)\nRequirement already satisfied: urllib3<1.27,>=1.21.1 in /shared-libs/python3.9/py/lib/python3.9/site-packages (from requests>=2.19.0->pooch->geodatasets==2023.12.0) (1.26.12)\nRequirement already satisfied: idna<4,>=2.5 in /shared-libs/python3.9/py-core/lib/python3.9/site-packages (from requests>=2.19.0->pooch->geodatasets==2023.12.0) (3.4)\nInstalling collected packages: platformdirs, pooch, geodatasets\nSuccessfully installed geodatasets-2023.12.0 platformdirs-4.2.0 pooch-1.8.1\n\n\u001b[1m[\u001b[0m\u001b[34;49mnotice\u001b[0m\u001b[1;39;49m]\u001b[0m\u001b[39;49m A new release of pip is available: \u001b[0m\u001b[31;49m23.0.1\u001b[0m\u001b[39;49m -> \u001b[0m\u001b[32;49m24.0\u001b[0m\n\u001b[1m[\u001b[0m\u001b[34;49mnotice\u001b[0m\u001b[1;39;49m]\u001b[0m\u001b[39;49m To update, run: \u001b[0m\u001b[32;49mpip install --upgrade pip\u001b[0m\n",
          "output_type": "stream"
        }
      ],
      "outputs_reference": null,
      "execution_count": 2,
      "block_group": "5a0689fcf44346a1b186ab8130a4d1ea",
      "content_dependencies": null
    },
    {
      "cell_type": "code",
      "source": "from geopy.geocoders import Nominatim\nimport geopandas as gpd\nimport pandas as pd\nimport geodatasets\nimport matplotlib.pyplot as plt\nfrom shapely.geometry import Point",
      "metadata": {
        "source_hash": "9b9812c2",
        "execution_start": 1709860320865,
        "execution_millis": 55,
        "deepnote_to_be_reexecuted": false,
        "cell_id": "9e1f3014f1a84b3f9392de38de36ea11",
        "deepnote_cell_type": "code"
      },
      "outputs": [],
      "outputs_reference": null,
      "execution_count": 25,
      "block_group": "9e1f3014f1a84b3f9392de38de36ea11",
      "content_dependencies": null
    },
    {
      "cell_type": "code",
      "source": "all_df = _deepnote_execute_sql('SELECT *\\n    FROM \\'BusCorrected.csv\\'\\n    WHERE STATE = \\'IL\\' AND CITY = \\'CHICAGO\\' \\n    AND ADDRESS IS NOT NULL \\n    AND CITY IS NOT NULL \\n    AND STATE IS NOT NULL \\n    AND ZIP_CODE IS NOT NULL \\n    AND LATITUDE IS NOT NULL \\n    AND LONGITUDE IS NOT NULL;', 'SQL_DEEPNOTE_DATAFRAME_SQL', audit_sql_comment='', sql_cache_mode='cache_disabled')\nall_df",
      "metadata": {
        "source_hash": "c49db012",
        "execution_start": 1709859541982,
        "execution_millis": 15370,
        "sql_integration_id": "deepnote-dataframe-sql",
        "deepnote_table_state": {
          "sortBy": [],
          "filters": [],
          "pageSize": 10,
          "pageIndex": 2
        },
        "deepnote_table_loading": false,
        "deepnote_variable_name": "all_df",
        "deepnote_to_be_reexecuted": false,
        "cell_id": "638bac79111a4dfa8d1c4bf7b21dba15",
        "deepnote_cell_type": "sql",
        "deepnote_sql_source": "SELECT *\n    FROM 'BusCorrected.csv'\n    WHERE STATE = 'IL' AND CITY = 'CHICAGO' \n    AND ADDRESS IS NOT NULL \n    AND CITY IS NOT NULL \n    AND STATE IS NOT NULL \n    AND ZIP_CODE IS NOT NULL \n    AND LATITUDE IS NOT NULL \n    AND LONGITUDE IS NOT NULL;"
      },
      "outputs": [
        {
          "output_type": "execute_result",
          "execution_count": 4,
          "data": {
            "application/vnd.deepnote.dataframe.v3+json": {
              "column_count": 34,
              "row_count": 1033616,
              "columns": [
                {
                  "name": "ID",
                  "dtype": "object"
                },
                {
                  "name": "LICENSE_ID",
                  "dtype": "int64"
                },
                {
                  "name": "ACCOUNT_NUMBER",
                  "dtype": "int64"
                },
                {
                  "name": "SITE_NUMBER",
                  "dtype": "int64"
                },
                {
                  "name": "LEGAL_NAME",
                  "dtype": "object"
                },
                {
                  "name": "DBA",
                  "dtype": "object"
                },
                {
                  "name": "ADDRESS",
                  "dtype": "object"
                },
                {
                  "name": "CITY",
                  "dtype": "object"
                },
                {
                  "name": "STATE",
                  "dtype": "object"
                },
                {
                  "name": "ZIP_CODE",
                  "dtype": "object"
                },
                {
                  "name": "WARD",
                  "dtype": "float64"
                },
                {
                  "name": "PRECINCT",
                  "dtype": "float64"
                },
                {
                  "name": "WARD_PRECINCT",
                  "dtype": "object"
                },
                {
                  "name": "POLICE_DISTRICT",
                  "dtype": "float64"
                },
                {
                  "name": "LICENSE_CODE",
                  "dtype": "int64"
                },
                {
                  "name": "LICENSE_DESCRIPTION",
                  "dtype": "object"
                },
                {
                  "name": "BUSINESS_ACTIVITY_ID",
                  "dtype": "object"
                },
                {
                  "name": "BUSINESS_ACTIVITY",
                  "dtype": "object"
                },
                {
                  "name": "LICENSE_NUMBER",
                  "dtype": "int64"
                },
                {
                  "name": "APPLICATION_TYPE",
                  "dtype": "object"
                },
                {
                  "name": "APPLICATION_CREATED_DATE",
                  "dtype": "datetime64[us]"
                },
                {
                  "name": "APPLICATION_REQUIREMENTS_COMPLETE",
                  "dtype": "datetime64[us]"
                },
                {
                  "name": "PAYMENT_DATE",
                  "dtype": "datetime64[us]"
                },
                {
                  "name": "CONDITIONAL_APPROVAL",
                  "dtype": "object"
                },
                {
                  "name": "LICENSE_TERM_START_DATE",
                  "dtype": "datetime64[us]"
                },
                {
                  "name": "LICENSE_TERM_EXPIRATION_DATE",
                  "dtype": "datetime64[us]"
                },
                {
                  "name": "LICENSE_APPROVED_FOR_ISSUANCE",
                  "dtype": "datetime64[us]"
                },
                {
                  "name": "DATE_ISSUED",
                  "dtype": "datetime64[us]"
                },
                {
                  "name": "LICENSE_STATUS",
                  "dtype": "object"
                },
                {
                  "name": "LICENSE_STATUS_CHANGE_DATE",
                  "dtype": "datetime64[us]"
                },
                {
                  "name": "SSA",
                  "dtype": "float64"
                },
                {
                  "name": "LATITUDE",
                  "dtype": "float64"
                },
                {
                  "name": "LONGITUDE",
                  "dtype": "float64"
                },
                {
                  "name": "LOCATION",
                  "dtype": "object"
                },
                {
                  "name": "_deepnote_index_column",
                  "dtype": "int64"
                }
              ],
              "rows": [
                {
                  "ID": "1145136-20220916",
                  "LICENSE_ID": 2857739,
                  "ACCOUNT_NUMBER": 14479,
                  "SITE_NUMBER": 2,
                  "LEGAL_NAME": "THE BUTLER DID IT INC.",
                  "DBA": "ENTERTAINING COMPANY",
                  "ADDRESS": "1640 W WALNUT ST",
                  "CITY": "CHICAGO",
                  "STATE": "IL",
                  "ZIP_CODE": "60612",
                  "WARD": 27,
                  "PRECINCT": 33,
                  "WARD_PRECINCT": "27-33",
                  "POLICE_DISTRICT": 12,
                  "LICENSE_CODE": 1481,
                  "LICENSE_DESCRIPTION": "Caterer's Liquor License",
                  "BUSINESS_ACTIVITY_ID": "630",
                  "BUSINESS_ACTIVITY": "Catering of Liquor To Events",
                  "LICENSE_NUMBER": 1145136,
                  "APPLICATION_TYPE": "RENEW",
                  "APPLICATION_CREATED_DATE": "NaT",
                  "APPLICATION_REQUIREMENTS_COMPLETE": "2022-07-15 00:00:00",
                  "PAYMENT_DATE": "2022-08-05 00:00:00",
                  "CONDITIONAL_APPROVAL": "N",
                  "LICENSE_TERM_START_DATE": "2022-09-16 00:00:00",
                  "LICENSE_TERM_EXPIRATION_DATE": "2024-09-15 00:00:00",
                  "LICENSE_APPROVED_FOR_ISSUANCE": "2022-08-05 00:00:00",
                  "DATE_ISSUED": "2022-08-08 00:00:00",
                  "LICENSE_STATUS": "AAI",
                  "LICENSE_STATUS_CHANGE_DATE": "NaT",
                  "SSA": "nan",
                  "LATITUDE": 41.886238989,
                  "LONGITUDE": -87.66859588,
                  "LOCATION": "(41.886238989108286, -87.66859587973032)",
                  "_deepnote_index_column": 20
                },
                {
                  "ID": "2846205-20220511",
                  "LICENSE_ID": 2846205,
                  "ACCOUNT_NUMBER": 485684,
                  "SITE_NUMBER": 1,
                  "LEGAL_NAME": "SUPREME RIMS & TIRES INC.",
                  "DBA": "SUPREME RIMS & TIRES INC.",
                  "ADDRESS": "4163 S ARCHER AVE 1ST",
                  "CITY": "CHICAGO",
                  "STATE": "IL",
                  "ZIP_CODE": "60632",
                  "WARD": 12,
                  "PRECINCT": 13,
                  "WARD_PRECINCT": "12-13",
                  "POLICE_DISTRICT": 9,
                  "LICENSE_CODE": 1010,
                  "LICENSE_DESCRIPTION": "Limited Business License",
                  "BUSINESS_ACTIVITY_ID": "792",
                  "BUSINESS_ACTIVITY": "Sale of Vehicle Parts and Accessories",
                  "LICENSE_NUMBER": 2846205,
                  "APPLICATION_TYPE": "ISSUE",
                  "APPLICATION_CREATED_DATE": "2022-05-11 00:00:00",
                  "APPLICATION_REQUIREMENTS_COMPLETE": "2022-05-11 00:00:00",
                  "PAYMENT_DATE": "2022-05-11 00:00:00",
                  "CONDITIONAL_APPROVAL": "N",
                  "LICENSE_TERM_START_DATE": "2022-05-11 00:00:00",
                  "LICENSE_TERM_EXPIRATION_DATE": "2024-05-15 00:00:00",
                  "LICENSE_APPROVED_FOR_ISSUANCE": "2022-05-11 00:00:00",
                  "DATE_ISSUED": "2022-05-11 00:00:00",
                  "LICENSE_STATUS": "AAI",
                  "LICENSE_STATUS_CHANGE_DATE": "NaT",
                  "SSA": 39,
                  "LATITUDE": 41.817770713,
                  "LONGITUDE": -87.698006394,
                  "LOCATION": "(41.81777071313062, -87.69800639403326)",
                  "_deepnote_index_column": 21
                },
                {
                  "ID": "2780957-20220416",
                  "LICENSE_ID": 2833895,
                  "ACCOUNT_NUMBER": 390575,
                  "SITE_NUMBER": 2,
                  "LEGAL_NAME": "DINEAMIC STEAK, LLC",
                  "DBA": "PRIME & PROVISIONS",
                  "ADDRESS": "222 N LA SALLE ST 1-2",
                  "CITY": "CHICAGO",
                  "STATE": "IL",
                  "ZIP_CODE": "60601",
                  "WARD": 42,
                  "PRECINCT": 9,
                  "WARD_PRECINCT": "42-9",
                  "POLICE_DISTRICT": 1,
                  "LICENSE_CODE": 1781,
                  "LICENSE_DESCRIPTION": "Tobacco",
                  "BUSINESS_ACTIVITY_ID": "776 | 937",
                  "BUSINESS_ACTIVITY": "Retail Sales of Tobacco Products | Retail Sales of Tobacco and Flavored Tobacco Products",
                  "LICENSE_NUMBER": 2780957,
                  "APPLICATION_TYPE": "RENEW",
                  "APPLICATION_CREATED_DATE": "NaT",
                  "APPLICATION_REQUIREMENTS_COMPLETE": "2022-02-15 00:00:00",
                  "PAYMENT_DATE": "2022-05-06 00:00:00",
                  "CONDITIONAL_APPROVAL": "N",
                  "LICENSE_TERM_START_DATE": "2022-04-16 00:00:00",
                  "LICENSE_TERM_EXPIRATION_DATE": "2023-04-15 00:00:00",
                  "LICENSE_APPROVED_FOR_ISSUANCE": "2022-05-06 00:00:00",
                  "DATE_ISSUED": "2022-05-11 00:00:00",
                  "LICENSE_STATUS": "AAI",
                  "LICENSE_STATUS_CHANGE_DATE": "NaT",
                  "SSA": "nan",
                  "LATITUDE": 41.886351604,
                  "LONGITUDE": -87.632613946,
                  "LOCATION": "(41.886351604488574, -87.63261394551859)",
                  "_deepnote_index_column": 22
                },
                {
                  "ID": "2321004-20220816",
                  "LICENSE_ID": 2854072,
                  "ACCOUNT_NUMBER": 355521,
                  "SITE_NUMBER": 15,
                  "LEGAL_NAME": "BRIGHT HORIZONS CHILDREN'S CENTERS LLC",
                  "DBA": "Bright Horizons at Clybourn",
                  "ADDRESS": "1425 N DAYTON ST 1ST",
                  "CITY": "CHICAGO",
                  "STATE": "IL",
                  "ZIP_CODE": "60642",
                  "WARD": 27,
                  "PRECINCT": 46,
                  "WARD_PRECINCT": "27-46",
                  "POLICE_DISTRICT": 18,
                  "LICENSE_CODE": 1023,
                  "LICENSE_DESCRIPTION": "Children's Services Facility License",
                  "BUSINESS_ACTIVITY_ID": "820 | 823",
                  "BUSINESS_ACTIVITY": "Supervision of, and Care for, Children 0-6 Years of Age, During the Day between 6am-9pm | Supervision of, and Care for, Children 2-6 Years of Age, During the Day between 6am-9pm",
                  "LICENSE_NUMBER": 2321004,
                  "APPLICATION_TYPE": "RENEW",
                  "APPLICATION_CREATED_DATE": "NaT",
                  "APPLICATION_REQUIREMENTS_COMPLETE": "2022-06-15 00:00:00",
                  "PAYMENT_DATE": "2022-06-23 00:00:00",
                  "CONDITIONAL_APPROVAL": "N",
                  "LICENSE_TERM_START_DATE": "2022-08-16 00:00:00",
                  "LICENSE_TERM_EXPIRATION_DATE": "2024-08-15 00:00:00",
                  "LICENSE_APPROVED_FOR_ISSUANCE": "2022-08-05 00:00:00",
                  "DATE_ISSUED": "2022-08-08 00:00:00",
                  "LICENSE_STATUS": "AAI",
                  "LICENSE_STATUS_CHANGE_DATE": "NaT",
                  "SSA": "nan",
                  "LATITUDE": 41.907156887,
                  "LONGITUDE": -87.649259472,
                  "LOCATION": "(41.9071568870692, -87.64925947162907)",
                  "_deepnote_index_column": 23
                },
                {
                  "ID": "2293833-20220516",
                  "LICENSE_ID": 2838574,
                  "ACCOUNT_NUMBER": 386117,
                  "SITE_NUMBER": 1,
                  "LEGAL_NAME": "FLYING SQUIRREL INDUSTRIES LLC",
                  "DBA": "SLIPPERY SLOPE",
                  "ADDRESS": "2357 N MILWAUKEE AVE 1 & 2",
                  "CITY": "CHICAGO",
                  "STATE": "IL",
                  "ZIP_CODE": "60647",
                  "WARD": 1,
                  "PRECINCT": 10,
                  "WARD_PRECINCT": "1-10",
                  "POLICE_DISTRICT": 14,
                  "LICENSE_CODE": 1470,
                  "LICENSE_DESCRIPTION": "Tavern",
                  "BUSINESS_ACTIVITY_ID": "829",
                  "BUSINESS_ACTIVITY": "Tavern - Consumption of Liquor on Premise",
                  "LICENSE_NUMBER": 2293833,
                  "APPLICATION_TYPE": "RENEW",
                  "APPLICATION_CREATED_DATE": "NaT",
                  "APPLICATION_REQUIREMENTS_COMPLETE": "2022-03-15 00:00:00",
                  "PAYMENT_DATE": "2022-05-11 00:00:00",
                  "CONDITIONAL_APPROVAL": "N",
                  "LICENSE_TERM_START_DATE": "2022-05-16 00:00:00",
                  "LICENSE_TERM_EXPIRATION_DATE": "2024-05-15 00:00:00",
                  "LICENSE_APPROVED_FOR_ISSUANCE": "2022-05-11 00:00:00",
                  "DATE_ISSUED": "2022-05-11 00:00:00",
                  "LICENSE_STATUS": "AAI",
                  "LICENSE_STATUS_CHANGE_DATE": "NaT",
                  "SSA": "nan",
                  "LATITUDE": 41.924150306,
                  "LONGITUDE": -87.699150883,
                  "LOCATION": "(41.92415030562805, -87.69915088269197)",
                  "_deepnote_index_column": 24
                },
                {
                  "ID": "1968626-20220616",
                  "LICENSE_ID": 2841684,
                  "ACCOUNT_NUMBER": 10726,
                  "SITE_NUMBER": 3,
                  "LEGAL_NAME": "GRAHAM ENTERPRISE INC",
                  "DBA": "Chicago BP@Irving (GEI-152)",
                  "ADDRESS": "841 W IRVING PARK RD",
                  "CITY": "CHICAGO",
                  "STATE": "IL",
                  "ZIP_CODE": "60613",
                  "WARD": 46,
                  "PRECINCT": 10,
                  "WARD_PRECINCT": "46-10",
                  "POLICE_DISTRICT": 19,
                  "LICENSE_CODE": 1006,
                  "LICENSE_DESCRIPTION": "Retail Food Establishment",
                  "BUSINESS_ACTIVITY_ID": "775",
                  "BUSINESS_ACTIVITY": "Retail Sales of Perishable Foods",
                  "LICENSE_NUMBER": 1968626,
                  "APPLICATION_TYPE": "RENEW",
                  "APPLICATION_CREATED_DATE": "NaT",
                  "APPLICATION_REQUIREMENTS_COMPLETE": "2022-04-15 00:00:00",
                  "PAYMENT_DATE": "2022-05-10 00:00:00",
                  "CONDITIONAL_APPROVAL": "N",
                  "LICENSE_TERM_START_DATE": "2022-06-16 00:00:00",
                  "LICENSE_TERM_EXPIRATION_DATE": "2024-06-15 00:00:00",
                  "LICENSE_APPROVED_FOR_ISSUANCE": "2022-05-10 00:00:00",
                  "DATE_ISSUED": "2022-05-11 00:00:00",
                  "LICENSE_STATUS": "AAI",
                  "LICENSE_STATUS_CHANGE_DATE": "NaT",
                  "SSA": 18,
                  "LATITUDE": 41.954425019,
                  "LONGITUDE": -87.651324017,
                  "LOCATION": "(41.95442501861227, -87.65132401707042)",
                  "_deepnote_index_column": 25
                },
                {
                  "ID": "2621669-20211216",
                  "LICENSE_ID": 2816160,
                  "ACCOUNT_NUMBER": 402671,
                  "SITE_NUMBER": 2,
                  "LEGAL_NAME": "SIXT RENT A CAR, LLC",
                  "DBA": "Sixt Rent A Car, LLC",
                  "ADDRESS": "10255 W ZEMKE BLVD",
                  "CITY": "CHICAGO",
                  "STATE": "IL",
                  "ZIP_CODE": "60666",
                  "WARD": 41,
                  "PRECINCT": 27,
                  "WARD_PRECINCT": "41-27",
                  "POLICE_DISTRICT": 16,
                  "LICENSE_CODE": 1010,
                  "LICENSE_DESCRIPTION": "Limited Business License",
                  "BUSINESS_ACTIVITY_ID": "793",
                  "BUSINESS_ACTIVITY": "Sales / Car Rental / Lease of Motorized Vehicles",
                  "LICENSE_NUMBER": 2621669,
                  "APPLICATION_TYPE": "RENEW",
                  "APPLICATION_CREATED_DATE": "NaT",
                  "APPLICATION_REQUIREMENTS_COMPLETE": "2021-10-15 00:00:00",
                  "PAYMENT_DATE": "2021-11-11 00:00:00",
                  "CONDITIONAL_APPROVAL": "N",
                  "LICENSE_TERM_START_DATE": "2021-12-16 00:00:00",
                  "LICENSE_TERM_EXPIRATION_DATE": "2023-12-15 00:00:00",
                  "LICENSE_APPROVED_FOR_ISSUANCE": "2021-11-11 00:00:00",
                  "DATE_ISSUED": "2022-08-08 00:00:00",
                  "LICENSE_STATUS": "AAI",
                  "LICENSE_STATUS_CHANGE_DATE": "NaT",
                  "SSA": "nan",
                  "LATITUDE": 41.994793386,
                  "LONGITUDE": -87.88270766,
                  "LOCATION": "(41.994793386111766, -87.88270765951567)",
                  "_deepnote_index_column": 26
                },
                {
                  "ID": "2212246-20180816",
                  "LICENSE_ID": 2604971,
                  "ACCOUNT_NUMBER": 334772,
                  "SITE_NUMBER": 2,
                  "LEGAL_NAME": "MIGUEL ANGEL DUARTE-SOLIS",
                  "DBA": "MIGUEL ANGEL DUARTE-SOLIS",
                  "ADDRESS": "5015 S DAMEN AVE 1ST",
                  "CITY": "CHICAGO",
                  "STATE": "IL",
                  "ZIP_CODE": "60609",
                  "WARD": 15,
                  "PRECINCT": 15,
                  "WARD_PRECINCT": "15-15",
                  "POLICE_DISTRICT": 9,
                  "LICENSE_CODE": 4406,
                  "LICENSE_DESCRIPTION": "Peddler License",
                  "BUSINESS_ACTIVITY_ID": "770",
                  "BUSINESS_ACTIVITY": "Peddler (Over 65 Years of Age) - Retail Sales of General Merchandise, Whole Uncut Fruits/Vegetables, Flowers, Moving Along the Public Way",
                  "LICENSE_NUMBER": 2212246,
                  "APPLICATION_TYPE": "RENEW",
                  "APPLICATION_CREATED_DATE": "NaT",
                  "APPLICATION_REQUIREMENTS_COMPLETE": "2018-06-15 00:00:00",
                  "PAYMENT_DATE": "2018-08-22 00:00:00",
                  "CONDITIONAL_APPROVAL": "N",
                  "LICENSE_TERM_START_DATE": "2018-08-16 00:00:00",
                  "LICENSE_TERM_EXPIRATION_DATE": "2020-10-15 00:00:00",
                  "LICENSE_APPROVED_FOR_ISSUANCE": "NaT",
                  "DATE_ISSUED": "2018-08-22 00:00:00",
                  "LICENSE_STATUS": "AAI",
                  "LICENSE_STATUS_CHANGE_DATE": "NaT",
                  "SSA": "nan",
                  "LATITUDE": 41.802569456,
                  "LONGITUDE": -87.674395755,
                  "LOCATION": "(41.802569455769735, -87.67439575456822)",
                  "_deepnote_index_column": 27
                },
                {
                  "ID": "2840733-20220511",
                  "LICENSE_ID": 2840733,
                  "ACCOUNT_NUMBER": 8970,
                  "SITE_NUMBER": 210,
                  "LEGAL_NAME": "COMPASS GROUP USA, INC.",
                  "DBA": "Compass Group USA, Inc.",
                  "ADDRESS": "1 N WACKER DR 2ND",
                  "CITY": "CHICAGO",
                  "STATE": "IL",
                  "ZIP_CODE": "60606",
                  "WARD": 42,
                  "PRECINCT": "nan",
                  "WARD_PRECINCT": "42-",
                  "POLICE_DISTRICT": "nan",
                  "LICENSE_CODE": 7013,
                  "LICENSE_DESCRIPTION": "Pop-Up Establishment Host - Tier II",
                  "BUSINESS_ACTIVITY_ID": "1025",
                  "BUSINESS_ACTIVITY": "Pop-Up Food Est. User Host - Tier II (Pre-Packaged Prepared Hot/Cold Food. Final Prep On-Site)",
                  "LICENSE_NUMBER": 2840733,
                  "APPLICATION_TYPE": "ISSUE",
                  "APPLICATION_CREATED_DATE": "2022-03-31 00:00:00",
                  "APPLICATION_REQUIREMENTS_COMPLETE": "2022-03-31 00:00:00",
                  "PAYMENT_DATE": "2022-04-01 00:00:00",
                  "CONDITIONAL_APPROVAL": "N",
                  "LICENSE_TERM_START_DATE": "2022-05-11 00:00:00",
                  "LICENSE_TERM_EXPIRATION_DATE": "2023-04-15 00:00:00",
                  "LICENSE_APPROVED_FOR_ISSUANCE": "2022-05-11 00:00:00",
                  "DATE_ISSUED": "2022-05-11 00:00:00",
                  "LICENSE_STATUS": "AAI",
                  "LICENSE_STATUS_CHANGE_DATE": "NaT",
                  "SSA": "nan",
                  "LATITUDE": 41.881951876,
                  "LONGITUDE": -87.636620349,
                  "LOCATION": "(41.88195187648601, -87.63662034940238)",
                  "_deepnote_index_column": 28
                },
                {
                  "ID": "1694745-20061116",
                  "LICENSE_ID": 1753621,
                  "ACCOUNT_NUMBER": 64603,
                  "SITE_NUMBER": 5,
                  "LEGAL_NAME": "LEOPARDO COMPANIES INC.",
                  "DBA": "LEOPARDO COMPANIES INC",
                  "ADDRESS": "1945 W HUBBARD ST  B",
                  "CITY": "CHICAGO",
                  "STATE": "IL",
                  "ZIP_CODE": "60622",
                  "WARD": 27,
                  "PRECINCT": 27,
                  "WARD_PRECINCT": "27-27",
                  "POLICE_DISTRICT": 12,
                  "LICENSE_CODE": 1010,
                  "LICENSE_DESCRIPTION": "Limited Business License",
                  "BUSINESS_ACTIVITY_ID": "None",
                  "BUSINESS_ACTIVITY": "None",
                  "LICENSE_NUMBER": 1694745,
                  "APPLICATION_TYPE": "RENEW",
                  "APPLICATION_CREATED_DATE": "NaT",
                  "APPLICATION_REQUIREMENTS_COMPLETE": "2006-09-20 00:00:00",
                  "PAYMENT_DATE": "2006-11-03 00:00:00",
                  "CONDITIONAL_APPROVAL": "N",
                  "LICENSE_TERM_START_DATE": "2006-11-16 00:00:00",
                  "LICENSE_TERM_EXPIRATION_DATE": "2007-11-15 00:00:00",
                  "LICENSE_APPROVED_FOR_ISSUANCE": "2006-11-03 00:00:00",
                  "DATE_ISSUED": "2006-11-06 00:00:00",
                  "LICENSE_STATUS": "AAI",
                  "LICENSE_STATUS_CHANGE_DATE": "NaT",
                  "SSA": "nan",
                  "LATITUDE": 41.889627703,
                  "LONGITUDE": -87.67623091,
                  "LOCATION": "(41.8896277030332, -87.67623090978807)",
                  "_deepnote_index_column": 29
                }
              ]
            },
            "text/plain": "                       ID  LICENSE_ID  ACCOUNT_NUMBER  SITE_NUMBER  \\\n0        2617269-20220916     2857496            1611            5   \n1        2652692-20201217     2652692          456833            1   \n2        2647849-20200916     2739788           64603            7   \n3        1579838-20220616     2842924          289144            1   \n4        2027540-20220616     2841687           10726            5   \n...                   ...         ...             ...          ...   \n1033611  2204520-20160716     2465534           25985            1   \n1033612  2652764-20210316     2770633          456868            1   \n1033613     6415-20070816     1832401          376290            2   \n1033614  1800007-20070124     1800007          313705            1   \n1033615  2846254-20220909     2846254          349928           13   \n\n                                      LEGAL_NAME  \\\n0                                    TTX COMPANY   \n1                            JYM INVESTMENTS LLC   \n2                        LEOPARDO COMPANIES INC.   \n3                          1021 MONTROSE, L.L.C.   \n4                          GRAHAM ENTERPRISE INC   \n...                                          ...   \n1033611  AABALL HEATING SERVICE & SUPPLIES, INC.   \n1033612                             SHOBHNA INC.   \n1033613       FRANK'S CHICAGO SHRIMP HOUSE, INC.   \n1033614                        TERRANCE J. WATTS   \n1033615                         RDK VENTURES LLC   \n\n                                       DBA                       ADDRESS  \\\n0                              TTX COMPANY            4016 S ASHLAND AVE   \n1                                  WINGMAN          2321 W HOWARD ST 1ST   \n2                   Leopardo Companies Inc  210 N CARPENTER ST 3RD FLOOR   \n3                                Driftwood           1021 W MONTROSE AVE   \n4                 Rock N Roll BP (GEI-157)         631-647 N LA SALLE DR   \n...                                    ...                           ...   \n1033611  AABALL HEATING SERVICE & SUPPLIES            8518 S ASHLAND AVE   \n1033612                          FOOD STOP           3734 W LAWRENCE AVE   \n1033613       FRANK'S CHICAGO SHRIMP HOUSE         5439 W ADDISON ST 1ST   \n1033614                  TERRANCE J. WATTS            9932 S SANGAMON ST   \n1033615                           Circle K            190 W MADISON ST 1   \n\n            CITY STATE ZIP_CODE  ...  LICENSE_TERM_START_DATE  \\\n0        CHICAGO    IL    60609  ...               2022-09-16   \n1        CHICAGO    IL    60645  ...               2020-12-17   \n2        CHICAGO    IL    60607  ...               2020-09-16   \n3        CHICAGO    IL    60613  ...               2022-06-16   \n4        CHICAGO    IL    60654  ...               2022-06-16   \n...          ...   ...      ...  ...                      ...   \n1033611  CHICAGO    IL    60620  ...               2016-07-16   \n1033612  CHICAGO    IL    60625  ...               2021-03-16   \n1033613  CHICAGO    IL    60641  ...               2007-08-16   \n1033614  CHICAGO    IL    60643  ...               2007-01-24   \n1033615  CHICAGO    IL    60602  ...               2022-09-09   \n\n         LICENSE_TERM_EXPIRATION_DATE LICENSE_APPROVED_FOR_ISSUANCE  \\\n0                          2024-09-15                    2022-08-05   \n1                          2023-01-15                    2020-12-16   \n2                          2022-09-15                    2020-08-20   \n3                          2024-06-15                    2022-05-10   \n4                          2024-06-15                    2022-05-10   \n...                               ...                           ...   \n1033611                    2018-07-15                    2016-05-31   \n1033612                    2022-03-15                    2021-04-02   \n1033613                    2009-08-15                    2007-08-24   \n1033614                    2009-02-15                           NaT   \n1033615                    2023-09-15                    2022-09-09   \n\n         DATE_ISSUED  LICENSE_STATUS LICENSE_STATUS_CHANGE_DATE   SSA  \\\n0         2022-08-08             AAI                        NaT   NaN   \n1         2020-12-17             AAC                 2022-08-08   NaN   \n2         2020-08-21             AAC                 2022-08-08   NaN   \n3         2022-05-11             AAI                        NaT  34.0   \n4         2022-05-11             AAI                        NaT   NaN   \n...              ...             ...                        ...   ...   \n1033611   2016-06-01             AAI                        NaT  69.0   \n1033612   2021-04-05             AAI                        NaT   NaN   \n1033613   2008-05-22             AAI                        NaT   NaN   \n1033614   2007-01-24             AAI                        NaT   NaN   \n1033615   2022-09-09             AAI                        NaT   NaN   \n\n          LATITUDE  LONGITUDE                                  LOCATION  \n0        41.820285 -87.665397   (41.82028493557808, -87.66539682158037)  \n1        42.019413 -87.688628  (42.019413270594214, -87.68862818775574)  \n2        41.885945 -87.653462   (41.88594495760403, -87.65346178255953)  \n3        41.961655 -87.655650  (41.961655308981946, -87.65564994485091)  \n4        41.893251 -87.632493   (41.89325119846543, -87.63249301222938)  \n...            ...        ...                                       ...  \n1033611  41.738831 -87.663289  (41.738831043655715, -87.66328877414871)  \n1033612  41.968417 -87.722060    (41.96841672465387, -87.7220597187097)  \n1033613  41.945810 -87.763441   (41.94580991762778, -87.76344146216435)  \n1033614  41.713160 -87.646789    (41.71316042726137, -87.6467890258547)  \n1033615  41.882058 -87.633533   (41.88205759473728, -87.63353326572278)  \n\n[1033616 rows x 34 columns]",
            "text/html": "<div>\n<style scoped>\n    .dataframe tbody tr th:only-of-type {\n        vertical-align: middle;\n    }\n\n    .dataframe tbody tr th {\n        vertical-align: top;\n    }\n\n    .dataframe thead th {\n        text-align: right;\n    }\n</style>\n<table border=\"1\" class=\"dataframe\">\n  <thead>\n    <tr style=\"text-align: right;\">\n      <th></th>\n      <th>ID</th>\n      <th>LICENSE_ID</th>\n      <th>ACCOUNT_NUMBER</th>\n      <th>SITE_NUMBER</th>\n      <th>LEGAL_NAME</th>\n      <th>DBA</th>\n      <th>ADDRESS</th>\n      <th>CITY</th>\n      <th>STATE</th>\n      <th>ZIP_CODE</th>\n      <th>...</th>\n      <th>LICENSE_TERM_START_DATE</th>\n      <th>LICENSE_TERM_EXPIRATION_DATE</th>\n      <th>LICENSE_APPROVED_FOR_ISSUANCE</th>\n      <th>DATE_ISSUED</th>\n      <th>LICENSE_STATUS</th>\n      <th>LICENSE_STATUS_CHANGE_DATE</th>\n      <th>SSA</th>\n      <th>LATITUDE</th>\n      <th>LONGITUDE</th>\n      <th>LOCATION</th>\n    </tr>\n  </thead>\n  <tbody>\n    <tr>\n      <th>0</th>\n      <td>2617269-20220916</td>\n      <td>2857496</td>\n      <td>1611</td>\n      <td>5</td>\n      <td>TTX COMPANY</td>\n      <td>TTX COMPANY</td>\n      <td>4016 S ASHLAND AVE</td>\n      <td>CHICAGO</td>\n      <td>IL</td>\n      <td>60609</td>\n      <td>...</td>\n      <td>2022-09-16</td>\n      <td>2024-09-15</td>\n      <td>2022-08-05</td>\n      <td>2022-08-08</td>\n      <td>AAI</td>\n      <td>NaT</td>\n      <td>NaN</td>\n      <td>41.820285</td>\n      <td>-87.665397</td>\n      <td>(41.82028493557808, -87.66539682158037)</td>\n    </tr>\n    <tr>\n      <th>1</th>\n      <td>2652692-20201217</td>\n      <td>2652692</td>\n      <td>456833</td>\n      <td>1</td>\n      <td>JYM INVESTMENTS LLC</td>\n      <td>WINGMAN</td>\n      <td>2321 W HOWARD ST 1ST</td>\n      <td>CHICAGO</td>\n      <td>IL</td>\n      <td>60645</td>\n      <td>...</td>\n      <td>2020-12-17</td>\n      <td>2023-01-15</td>\n      <td>2020-12-16</td>\n      <td>2020-12-17</td>\n      <td>AAC</td>\n      <td>2022-08-08</td>\n      <td>NaN</td>\n      <td>42.019413</td>\n      <td>-87.688628</td>\n      <td>(42.019413270594214, -87.68862818775574)</td>\n    </tr>\n    <tr>\n      <th>2</th>\n      <td>2647849-20200916</td>\n      <td>2739788</td>\n      <td>64603</td>\n      <td>7</td>\n      <td>LEOPARDO COMPANIES INC.</td>\n      <td>Leopardo Companies Inc</td>\n      <td>210 N CARPENTER ST 3RD FLOOR</td>\n      <td>CHICAGO</td>\n      <td>IL</td>\n      <td>60607</td>\n      <td>...</td>\n      <td>2020-09-16</td>\n      <td>2022-09-15</td>\n      <td>2020-08-20</td>\n      <td>2020-08-21</td>\n      <td>AAC</td>\n      <td>2022-08-08</td>\n      <td>NaN</td>\n      <td>41.885945</td>\n      <td>-87.653462</td>\n      <td>(41.88594495760403, -87.65346178255953)</td>\n    </tr>\n    <tr>\n      <th>3</th>\n      <td>1579838-20220616</td>\n      <td>2842924</td>\n      <td>289144</td>\n      <td>1</td>\n      <td>1021 MONTROSE, L.L.C.</td>\n      <td>Driftwood</td>\n      <td>1021 W MONTROSE AVE</td>\n      <td>CHICAGO</td>\n      <td>IL</td>\n      <td>60613</td>\n      <td>...</td>\n      <td>2022-06-16</td>\n      <td>2024-06-15</td>\n      <td>2022-05-10</td>\n      <td>2022-05-11</td>\n      <td>AAI</td>\n      <td>NaT</td>\n      <td>34.0</td>\n      <td>41.961655</td>\n      <td>-87.655650</td>\n      <td>(41.961655308981946, -87.65564994485091)</td>\n    </tr>\n    <tr>\n      <th>4</th>\n      <td>2027540-20220616</td>\n      <td>2841687</td>\n      <td>10726</td>\n      <td>5</td>\n      <td>GRAHAM ENTERPRISE INC</td>\n      <td>Rock N Roll BP (GEI-157)</td>\n      <td>631-647 N LA SALLE DR</td>\n      <td>CHICAGO</td>\n      <td>IL</td>\n      <td>60654</td>\n      <td>...</td>\n      <td>2022-06-16</td>\n      <td>2024-06-15</td>\n      <td>2022-05-10</td>\n      <td>2022-05-11</td>\n      <td>AAI</td>\n      <td>NaT</td>\n      <td>NaN</td>\n      <td>41.893251</td>\n      <td>-87.632493</td>\n      <td>(41.89325119846543, -87.63249301222938)</td>\n    </tr>\n    <tr>\n      <th>...</th>\n      <td>...</td>\n      <td>...</td>\n      <td>...</td>\n      <td>...</td>\n      <td>...</td>\n      <td>...</td>\n      <td>...</td>\n      <td>...</td>\n      <td>...</td>\n      <td>...</td>\n      <td>...</td>\n      <td>...</td>\n      <td>...</td>\n      <td>...</td>\n      <td>...</td>\n      <td>...</td>\n      <td>...</td>\n      <td>...</td>\n      <td>...</td>\n      <td>...</td>\n      <td>...</td>\n    </tr>\n    <tr>\n      <th>1033611</th>\n      <td>2204520-20160716</td>\n      <td>2465534</td>\n      <td>25985</td>\n      <td>1</td>\n      <td>AABALL HEATING SERVICE &amp; SUPPLIES, INC.</td>\n      <td>AABALL HEATING SERVICE &amp; SUPPLIES</td>\n      <td>8518 S ASHLAND AVE</td>\n      <td>CHICAGO</td>\n      <td>IL</td>\n      <td>60620</td>\n      <td>...</td>\n      <td>2016-07-16</td>\n      <td>2018-07-15</td>\n      <td>2016-05-31</td>\n      <td>2016-06-01</td>\n      <td>AAI</td>\n      <td>NaT</td>\n      <td>69.0</td>\n      <td>41.738831</td>\n      <td>-87.663289</td>\n      <td>(41.738831043655715, -87.66328877414871)</td>\n    </tr>\n    <tr>\n      <th>1033612</th>\n      <td>2652764-20210316</td>\n      <td>2770633</td>\n      <td>456868</td>\n      <td>1</td>\n      <td>SHOBHNA INC.</td>\n      <td>FOOD STOP</td>\n      <td>3734 W LAWRENCE AVE</td>\n      <td>CHICAGO</td>\n      <td>IL</td>\n      <td>60625</td>\n      <td>...</td>\n      <td>2021-03-16</td>\n      <td>2022-03-15</td>\n      <td>2021-04-02</td>\n      <td>2021-04-05</td>\n      <td>AAI</td>\n      <td>NaT</td>\n      <td>NaN</td>\n      <td>41.968417</td>\n      <td>-87.722060</td>\n      <td>(41.96841672465387, -87.7220597187097)</td>\n    </tr>\n    <tr>\n      <th>1033613</th>\n      <td>6415-20070816</td>\n      <td>1832401</td>\n      <td>376290</td>\n      <td>2</td>\n      <td>FRANK'S CHICAGO SHRIMP HOUSE, INC.</td>\n      <td>FRANK'S CHICAGO SHRIMP HOUSE</td>\n      <td>5439 W ADDISON ST 1ST</td>\n      <td>CHICAGO</td>\n      <td>IL</td>\n      <td>60641</td>\n      <td>...</td>\n      <td>2007-08-16</td>\n      <td>2009-08-15</td>\n      <td>2007-08-24</td>\n      <td>2008-05-22</td>\n      <td>AAI</td>\n      <td>NaT</td>\n      <td>NaN</td>\n      <td>41.945810</td>\n      <td>-87.763441</td>\n      <td>(41.94580991762778, -87.76344146216435)</td>\n    </tr>\n    <tr>\n      <th>1033614</th>\n      <td>1800007-20070124</td>\n      <td>1800007</td>\n      <td>313705</td>\n      <td>1</td>\n      <td>TERRANCE J. WATTS</td>\n      <td>TERRANCE J. WATTS</td>\n      <td>9932 S SANGAMON ST</td>\n      <td>CHICAGO</td>\n      <td>IL</td>\n      <td>60643</td>\n      <td>...</td>\n      <td>2007-01-24</td>\n      <td>2009-02-15</td>\n      <td>NaT</td>\n      <td>2007-01-24</td>\n      <td>AAI</td>\n      <td>NaT</td>\n      <td>NaN</td>\n      <td>41.713160</td>\n      <td>-87.646789</td>\n      <td>(41.71316042726137, -87.6467890258547)</td>\n    </tr>\n    <tr>\n      <th>1033615</th>\n      <td>2846254-20220909</td>\n      <td>2846254</td>\n      <td>349928</td>\n      <td>13</td>\n      <td>RDK VENTURES LLC</td>\n      <td>Circle K</td>\n      <td>190 W MADISON ST 1</td>\n      <td>CHICAGO</td>\n      <td>IL</td>\n      <td>60602</td>\n      <td>...</td>\n      <td>2022-09-09</td>\n      <td>2023-09-15</td>\n      <td>2022-09-09</td>\n      <td>2022-09-09</td>\n      <td>AAI</td>\n      <td>NaT</td>\n      <td>NaN</td>\n      <td>41.882058</td>\n      <td>-87.633533</td>\n      <td>(41.88205759473728, -87.63353326572278)</td>\n    </tr>\n  </tbody>\n</table>\n<p>1033616 rows × 34 columns</p>\n</div>"
          },
          "metadata": {}
        }
      ],
      "outputs_reference": null,
      "execution_count": 4,
      "block_group": "567742a999f64db5abb125bef0d5a55b",
      "content_dependencies": null
    },
    {
      "cell_type": "code",
      "source": "df_1 = _deepnote_execute_sql('SELECT LEGAL_NAME,DBA, ADDRESS, CITY, STATE, ZIP_CODE, BUSINESS_ACTIVITY_ID, BUSINESS_ACTIVITY, LATITUDE, LONGITUDE\\n    FROM all_df\\n    WHERE STATE = \\'IL\\' AND CITY = \\'CHICAGO\\' \\n      AND COALESCE(ADDRESS, CITY, STATE, ZIP_CODE, BUSINESS_ACTIVITY_ID, BUSINESS_ACTIVITY, LATITUDE, LONGITUDE) != \\'None\\'\\n    LIMIT 1000000', 'SQL_DEEPNOTE_DATAFRAME_SQL', audit_sql_comment='', sql_cache_mode='cache_disabled')\ndf_1",
      "metadata": {
        "source_hash": "de7bad7c",
        "execution_start": 1709859557371,
        "execution_millis": 1606,
        "sql_integration_id": "deepnote-dataframe-sql",
        "deepnote_table_state": {
          "sortBy": [],
          "filters": [],
          "pageSize": 10,
          "pageIndex": 6
        },
        "deepnote_table_loading": false,
        "deepnote_variable_name": "df_1",
        "deepnote_to_be_reexecuted": false,
        "cell_id": "2260b7d34dbf4920b0034fb77bc46751",
        "deepnote_cell_type": "sql",
        "deepnote_sql_source": "SELECT LEGAL_NAME,DBA, ADDRESS, CITY, STATE, ZIP_CODE, BUSINESS_ACTIVITY_ID, BUSINESS_ACTIVITY, LATITUDE, LONGITUDE\n    FROM all_df\n    WHERE STATE = 'IL' AND CITY = 'CHICAGO' \n      AND COALESCE(ADDRESS, CITY, STATE, ZIP_CODE, BUSINESS_ACTIVITY_ID, BUSINESS_ACTIVITY, LATITUDE, LONGITUDE) != 'None'\n    LIMIT 1000000"
      },
      "outputs": [
        {
          "output_type": "execute_result",
          "execution_count": 5,
          "data": {
            "application/vnd.deepnote.dataframe.v3+json": {
              "column_count": 10,
              "row_count": 1000000,
              "columns": [
                {
                  "name": "LEGAL_NAME",
                  "dtype": "object"
                },
                {
                  "name": "DBA",
                  "dtype": "object"
                },
                {
                  "name": "ADDRESS",
                  "dtype": "object"
                },
                {
                  "name": "CITY",
                  "dtype": "object"
                },
                {
                  "name": "STATE",
                  "dtype": "object"
                },
                {
                  "name": "ZIP_CODE",
                  "dtype": "object"
                },
                {
                  "name": "BUSINESS_ACTIVITY_ID",
                  "dtype": "object"
                },
                {
                  "name": "BUSINESS_ACTIVITY",
                  "dtype": "object"
                },
                {
                  "name": "LATITUDE",
                  "dtype": "float64"
                },
                {
                  "name": "LONGITUDE",
                  "dtype": "float64"
                },
                {
                  "name": "_deepnote_index_column",
                  "dtype": "int64"
                }
              ],
              "rows": [
                {
                  "LEGAL_NAME": "MICHELE TAYLOR PHOTOGRAPHY LLC",
                  "DBA": "MICHELE TAYLOR PHOTOGRAPHY",
                  "ADDRESS": "1641 W IRVING PARK RD",
                  "CITY": "CHICAGO",
                  "STATE": "IL",
                  "ZIP_CODE": "60613",
                  "BUSINESS_ACTIVITY_ID": "476",
                  "BUSINESS_ACTIVITY": "Photography Services",
                  "LATITUDE": 41.954157699,
                  "LONGITUDE": -87.670602863,
                  "_deepnote_index_column": 60
                },
                {
                  "LEGAL_NAME": "LUXE B STUDIO INC.",
                  "DBA": "LUXE B STUDIO",
                  "ADDRESS": "358 E 47TH ST 1",
                  "CITY": "CHICAGO",
                  "STATE": "IL",
                  "ZIP_CODE": "60653",
                  "BUSINESS_ACTIVITY_ID": "476 | 602 | 904 | 1089",
                  "BUSINESS_ACTIVITY": "Photography Services | Administrative Commercial Office | Retail Sales of General Merchandise | Multi-Media Services",
                  "LATITUDE": 41.809482509,
                  "LONGITUDE": -87.617253367,
                  "_deepnote_index_column": 61
                },
                {
                  "LEGAL_NAME": "THE BUTLER DID IT INC.",
                  "DBA": "ENTERTAINING COMPANY",
                  "ADDRESS": "1640 W WALNUT ST",
                  "CITY": "CHICAGO",
                  "STATE": "IL",
                  "ZIP_CODE": "60612",
                  "BUSINESS_ACTIVITY_ID": "775",
                  "BUSINESS_ACTIVITY": "Retail Sales of Perishable Foods",
                  "LATITUDE": 41.886238989,
                  "LONGITUDE": -87.66859588,
                  "_deepnote_index_column": 62
                },
                {
                  "LEGAL_NAME": "GRAHAM ENTERPRISE INC",
                  "DBA": "Rock N Roll BP (GEI-157)",
                  "ADDRESS": "631-647 N LA SALLE DR",
                  "CITY": "CHICAGO",
                  "STATE": "IL",
                  "ZIP_CODE": "60654",
                  "BUSINESS_ACTIVITY_ID": "775",
                  "BUSINESS_ACTIVITY": "Retail Sales of Perishable Foods",
                  "LATITUDE": 41.893251198,
                  "LONGITUDE": -87.632493012,
                  "_deepnote_index_column": 63
                },
                {
                  "LEGAL_NAME": "A&J MUFFLERS AND BRAKES CORP.",
                  "DBA": "ABY'S SHOP",
                  "ADDRESS": "4146-4148 S WESTERN AVE 1ST",
                  "CITY": "CHICAGO",
                  "STATE": "IL",
                  "ZIP_CODE": "60609",
                  "BUSINESS_ACTIVITY_ID": "712",
                  "BUSINESS_ACTIVITY": "Motor Vehicle Repair -  Engine and Transmission Work",
                  "LATITUDE": 41.817928961,
                  "LONGITUDE": -87.6848298,
                  "_deepnote_index_column": 64
                },
                {
                  "LEGAL_NAME": "3938 AVONDALE, LLC",
                  "DBA": "CRAWFORDS",
                  "ADDRESS": "3938-3942 W SCHOOL ST 1",
                  "CITY": "CHICAGO",
                  "STATE": "IL",
                  "ZIP_CODE": "60618",
                  "BUSINESS_ACTIVITY_ID": "735",
                  "BUSINESS_ACTIVITY": "Preparation of Food and Dining on Premise With Seating",
                  "LATITUDE": 41.941035014,
                  "LONGITUDE": -87.726388279,
                  "_deepnote_index_column": 65
                },
                {
                  "LEGAL_NAME": "WON BOK SEO",
                  "DBA": "1130 VALET SHOP",
                  "ADDRESS": "1130 S MICHIGAN AVE GROUND",
                  "CITY": "CHICAGO",
                  "STATE": "IL",
                  "ZIP_CODE": "60605",
                  "BUSINESS_ACTIVITY_ID": "648",
                  "BUSINESS_ACTIVITY": "Dry Cleaning - Drop Off Location",
                  "LATITUDE": 41.868305012,
                  "LONGITUDE": -87.62425305,
                  "_deepnote_index_column": 66
                },
                {
                  "LEGAL_NAME": "MIGUEL ANGEL DUARTE-SOLIS",
                  "DBA": "MIGUEL ANGEL DUARTE-SOLIS",
                  "ADDRESS": "5015 S DAMEN AVE 1ST",
                  "CITY": "CHICAGO",
                  "STATE": "IL",
                  "ZIP_CODE": "60609",
                  "BUSINESS_ACTIVITY_ID": "None",
                  "BUSINESS_ACTIVITY": "None",
                  "LATITUDE": 41.802569456,
                  "LONGITUDE": -87.674395755,
                  "_deepnote_index_column": 67
                },
                {
                  "LEGAL_NAME": "CHICAGO AUTO WAREHOUSE LLC",
                  "DBA": "CHICAGO AUTO WAREHOUSE LLC",
                  "ADDRESS": "3325 W MONTROSE AVE 1ST",
                  "CITY": "CHICAGO",
                  "STATE": "IL",
                  "ZIP_CODE": "60618",
                  "BUSINESS_ACTIVITY_ID": "793",
                  "BUSINESS_ACTIVITY": "Sales / Car Rental / Lease of Motorized Vehicles",
                  "LATITUDE": 41.961037447,
                  "LONGITUDE": -87.711688068,
                  "_deepnote_index_column": 68
                },
                {
                  "LEGAL_NAME": "SRX COMPOUNDING AND WELLNESS LLC",
                  "DBA": "SRX COMPOUNDING AND WELLNESS",
                  "ADDRESS": "2450 W MONTROSE AVE",
                  "CITY": "CHICAGO",
                  "STATE": "IL",
                  "ZIP_CODE": "60618",
                  "BUSINESS_ACTIVITY_ID": "904",
                  "BUSINESS_ACTIVITY": "Retail Sales of General Merchandise",
                  "LATITUDE": 41.961409498,
                  "LONGITUDE": -87.690658442,
                  "_deepnote_index_column": 69
                }
              ]
            },
            "text/plain": "                                   LEGAL_NAME  \\\n0                                 TTX COMPANY   \n1                         JYM INVESTMENTS LLC   \n2                     LEOPARDO COMPANIES INC.   \n3                       1021 MONTROSE, L.L.C.   \n4                       GRAHAM ENTERPRISE INC   \n...                                       ...   \n999995                  VEHICLE ALIGN & BRAKE   \n999996                 Y & Y ENTERPRISE, INC.   \n999997  FEDEX OFFICE AND PRINT SERVICES, INC.   \n999998                     3201 ADDISON, INC.   \n999999                             ABEL VILLA   \n\n                                      DBA                       ADDRESS  \\\n0                             TTX COMPANY            4016 S ASHLAND AVE   \n1                                 WINGMAN          2321 W HOWARD ST 1ST   \n2                  Leopardo Companies Inc  210 N CARPENTER ST 3RD FLOOR   \n3                               Driftwood           1021 W MONTROSE AVE   \n4                Rock N Roll BP (GEI-157)         631-647 N LA SALLE DR   \n...                                   ...                           ...   \n999995                        LUCAS TIRES            3501 N WESTERN AVE   \n999996                       BOOST MOBILE         7356 S HALSTED ST 1ST   \n999997  FEDEX OFFICE AND PRINT SVCS, INC.            1242 S CANAL ST  6   \n999998                         ADDISON BP         3201 W ADDISON ST 1ST   \n999999                      NUTRI-FITNESS         6102 W ADDISON ST 1ST   \n\n           CITY STATE ZIP_CODE BUSINESS_ACTIVITY_ID  \\\n0       CHICAGO    IL    60609                  708   \n1       CHICAGO    IL    60645                  781   \n2       CHICAGO    IL    60607                  602   \n3       CHICAGO    IL    60613                  829   \n4       CHICAGO    IL    60654                  666   \n...         ...   ...      ...                  ...   \n999995  CHICAGO    IL    60618                 None   \n999996  CHICAGO    IL    60621                 None   \n999997  CHICAGO    IL    60607                 None   \n999998  CHICAGO    IL    60618                  763   \n999999  CHICAGO    IL    60634            661 | 767   \n\n                                        BUSINESS_ACTIVITY   LATITUDE  \\\n0                       Miscellaneous Commercial Services  41.820285   \n1           Sale of Food Prepared Onsite With Dining Area  42.019413   \n2                        Administrative Commercial Office  41.885945   \n3               Tavern - Consumption of Liquor on Premise  41.961655   \n4                     Operation of a Fuel Filling Station  41.893251   \n...                                                   ...        ...   \n999995                                               None  41.945012   \n999996                                               None  41.759890   \n999997                                               None  41.866070   \n999998                             Retail Sale of Tobacco  41.946521   \n999999  Fitness Training On and Off Premise | Retail S...  41.945855   \n\n        LONGITUDE  \n0      -87.665397  \n1      -87.688628  \n2      -87.653462  \n3      -87.655650  \n4      -87.632493  \n...           ...  \n999995 -87.688062  \n999996 -87.644425  \n999997 -87.639355  \n999998 -87.707870  \n999999 -87.779138  \n\n[1000000 rows x 10 columns]",
            "text/html": "<div>\n<style scoped>\n    .dataframe tbody tr th:only-of-type {\n        vertical-align: middle;\n    }\n\n    .dataframe tbody tr th {\n        vertical-align: top;\n    }\n\n    .dataframe thead th {\n        text-align: right;\n    }\n</style>\n<table border=\"1\" class=\"dataframe\">\n  <thead>\n    <tr style=\"text-align: right;\">\n      <th></th>\n      <th>LEGAL_NAME</th>\n      <th>DBA</th>\n      <th>ADDRESS</th>\n      <th>CITY</th>\n      <th>STATE</th>\n      <th>ZIP_CODE</th>\n      <th>BUSINESS_ACTIVITY_ID</th>\n      <th>BUSINESS_ACTIVITY</th>\n      <th>LATITUDE</th>\n      <th>LONGITUDE</th>\n    </tr>\n  </thead>\n  <tbody>\n    <tr>\n      <th>0</th>\n      <td>TTX COMPANY</td>\n      <td>TTX COMPANY</td>\n      <td>4016 S ASHLAND AVE</td>\n      <td>CHICAGO</td>\n      <td>IL</td>\n      <td>60609</td>\n      <td>708</td>\n      <td>Miscellaneous Commercial Services</td>\n      <td>41.820285</td>\n      <td>-87.665397</td>\n    </tr>\n    <tr>\n      <th>1</th>\n      <td>JYM INVESTMENTS LLC</td>\n      <td>WINGMAN</td>\n      <td>2321 W HOWARD ST 1ST</td>\n      <td>CHICAGO</td>\n      <td>IL</td>\n      <td>60645</td>\n      <td>781</td>\n      <td>Sale of Food Prepared Onsite With Dining Area</td>\n      <td>42.019413</td>\n      <td>-87.688628</td>\n    </tr>\n    <tr>\n      <th>2</th>\n      <td>LEOPARDO COMPANIES INC.</td>\n      <td>Leopardo Companies Inc</td>\n      <td>210 N CARPENTER ST 3RD FLOOR</td>\n      <td>CHICAGO</td>\n      <td>IL</td>\n      <td>60607</td>\n      <td>602</td>\n      <td>Administrative Commercial Office</td>\n      <td>41.885945</td>\n      <td>-87.653462</td>\n    </tr>\n    <tr>\n      <th>3</th>\n      <td>1021 MONTROSE, L.L.C.</td>\n      <td>Driftwood</td>\n      <td>1021 W MONTROSE AVE</td>\n      <td>CHICAGO</td>\n      <td>IL</td>\n      <td>60613</td>\n      <td>829</td>\n      <td>Tavern - Consumption of Liquor on Premise</td>\n      <td>41.961655</td>\n      <td>-87.655650</td>\n    </tr>\n    <tr>\n      <th>4</th>\n      <td>GRAHAM ENTERPRISE INC</td>\n      <td>Rock N Roll BP (GEI-157)</td>\n      <td>631-647 N LA SALLE DR</td>\n      <td>CHICAGO</td>\n      <td>IL</td>\n      <td>60654</td>\n      <td>666</td>\n      <td>Operation of a Fuel Filling Station</td>\n      <td>41.893251</td>\n      <td>-87.632493</td>\n    </tr>\n    <tr>\n      <th>...</th>\n      <td>...</td>\n      <td>...</td>\n      <td>...</td>\n      <td>...</td>\n      <td>...</td>\n      <td>...</td>\n      <td>...</td>\n      <td>...</td>\n      <td>...</td>\n      <td>...</td>\n    </tr>\n    <tr>\n      <th>999995</th>\n      <td>VEHICLE ALIGN &amp; BRAKE</td>\n      <td>LUCAS TIRES</td>\n      <td>3501 N WESTERN AVE</td>\n      <td>CHICAGO</td>\n      <td>IL</td>\n      <td>60618</td>\n      <td>None</td>\n      <td>None</td>\n      <td>41.945012</td>\n      <td>-87.688062</td>\n    </tr>\n    <tr>\n      <th>999996</th>\n      <td>Y &amp; Y ENTERPRISE, INC.</td>\n      <td>BOOST MOBILE</td>\n      <td>7356 S HALSTED ST 1ST</td>\n      <td>CHICAGO</td>\n      <td>IL</td>\n      <td>60621</td>\n      <td>None</td>\n      <td>None</td>\n      <td>41.759890</td>\n      <td>-87.644425</td>\n    </tr>\n    <tr>\n      <th>999997</th>\n      <td>FEDEX OFFICE AND PRINT SERVICES, INC.</td>\n      <td>FEDEX OFFICE AND PRINT SVCS, INC.</td>\n      <td>1242 S CANAL ST  6</td>\n      <td>CHICAGO</td>\n      <td>IL</td>\n      <td>60607</td>\n      <td>None</td>\n      <td>None</td>\n      <td>41.866070</td>\n      <td>-87.639355</td>\n    </tr>\n    <tr>\n      <th>999998</th>\n      <td>3201 ADDISON, INC.</td>\n      <td>ADDISON BP</td>\n      <td>3201 W ADDISON ST 1ST</td>\n      <td>CHICAGO</td>\n      <td>IL</td>\n      <td>60618</td>\n      <td>763</td>\n      <td>Retail Sale of Tobacco</td>\n      <td>41.946521</td>\n      <td>-87.707870</td>\n    </tr>\n    <tr>\n      <th>999999</th>\n      <td>ABEL VILLA</td>\n      <td>NUTRI-FITNESS</td>\n      <td>6102 W ADDISON ST 1ST</td>\n      <td>CHICAGO</td>\n      <td>IL</td>\n      <td>60634</td>\n      <td>661 | 767</td>\n      <td>Fitness Training On and Off Premise | Retail S...</td>\n      <td>41.945855</td>\n      <td>-87.779138</td>\n    </tr>\n  </tbody>\n</table>\n<p>1000000 rows × 10 columns</p>\n</div>"
          },
          "metadata": {}
        }
      ],
      "outputs_reference": null,
      "execution_count": 5,
      "block_group": "b9fc4b0b08104747b7011aa57e6c0235",
      "content_dependencies": null
    },
    {
      "cell_type": "code",
      "source": "df_8 = _deepnote_execute_sql('', 'SQL_DEEPNOTE_DATAFRAME_SQL', audit_sql_comment='', sql_cache_mode='cache_disabled')\ndf_8",
      "metadata": {
        "source_hash": "f5b0f66d",
        "execution_start": 1709859559003,
        "execution_millis": 363,
        "sql_integration_id": "deepnote-dataframe-sql",
        "deepnote_variable_name": "df_8",
        "deepnote_to_be_reexecuted": false,
        "cell_id": "f605d912a0d04d589acb04a03ff3fd4b",
        "deepnote_cell_type": "sql",
        "deepnote_sql_source": ""
      },
      "outputs": [],
      "outputs_reference": null,
      "execution_count": 6,
      "block_group": "87ae3dd8c0bc49b8b91a7c2a45595c04",
      "content_dependencies": null
    },
    {
      "cell_type": "code",
      "source": "# calling the Nominatim tool and create Nominatim class\nloc = Nominatim(user_agent=\"Geopy Library\")\n\ndef getLongAlt(address):\n    getLoc = loc.geocode(address)\n    return getLoc.latitude, getLoc.longitude\n",
      "metadata": {
        "source_hash": "3558528b",
        "execution_start": 1709859559013,
        "execution_millis": 353,
        "deepnote_to_be_reexecuted": false,
        "cell_id": "f94c15e85cac4f58980206593fc547fa",
        "deepnote_cell_type": "code"
      },
      "outputs": [],
      "outputs_reference": null,
      "execution_count": 7,
      "block_group": "84bce98c392b49d58f040fd23dbf34f6",
      "content_dependencies": null
    },
    {
      "cell_type": "code",
      "source": "# This cell from Alattin Kirtisoglu\ntif = gpd.read_file('/work/chiTifBoundaries.shp')\n# Set the coordinate reference system to the standard latitude/longitude system\ntif = tif.set_crs(epsg=4326)\n\n# tif.plot()\ntif.iloc[[0]].plot()\ntif.shape\nlen(tif)",
      "metadata": {
        "source_hash": "f05405ee",
        "execution_start": 1709859559088,
        "execution_millis": 2025,
        "deepnote_to_be_reexecuted": false,
        "cell_id": "59f846a79ebf49d681010036b5124031",
        "deepnote_cell_type": "code"
      },
      "outputs": [
        {
          "output_type": "execute_result",
          "execution_count": 8,
          "data": {
            "text/plain": "131"
          },
          "metadata": {}
        },
        {
          "data": {
            "text/plain": "<Figure size 640x480 with 1 Axes>",
            "image/png": "[encoded data removed]"
          },
          "metadata": {
            "image/png": {
              "width": 447,
              "height": 413
            }
          },
          "output_type": "display_data"
        }
      ],
      "outputs_reference": null,
      "execution_count": 8,
      "block_group": "359a2536d3f849829b9b408c4bf4e3dc",
      "content_dependencies": null
    },
    {
      "cell_type": "code",
      "source": "tif",
      "metadata": {
        "source_hash": "d38cc757",
        "execution_start": 1709859561225,
        "execution_millis": 387,
        "deepnote_to_be_reexecuted": false,
        "cell_id": "3aaec4431d5d43df84977beab1ad621e",
        "deepnote_cell_type": "code"
      },
      "outputs": [
        {
          "output_type": "execute_result",
          "execution_count": 9,
          "data": {
            "application/vnd.deepnote.dataframe.v3+json": {
              "column_count": 1,
              "row_count": 131,
              "columns": [
                {
                  "name": "geometry",
                  "dtype": "geometry",
                  "stats": {
                    "unique_count": 131,
                    "nan_count": 0,
                    "categories": [
                      {
                        "name": "POLYGON ((-87.75330719223057 41.96016480790079, -87.7532996646495 41.95982728644748, -87.75320722277667 41.95982841115912, -87.75309617420967 41.95982982530078, -87.75303620220222 41.95983056116923, -87.75289153380929 41.95965124122119, -87.75259724939905 41.95931155650393, -87.75245369767332 41.95931329899065, -87.75239486424982 41.95931409970721, -87.75239350486704 41.959269471552425, -87.75238220221725 41.958926991677465, -87.75223512105686 41.958928826773, -87.75209093703248 41.95874950374326, -87.75179695280998 41.958410092152015, -87.75177952353617 41.95841027846757, -87.75166906651906 41.95841164020868, -87.75166652464587 41.958367774930295, -87.75165530477202 41.958024855993344, -87.75132489228669 41.95802866990005, -87.75130587739105 41.9578477303961, -87.75114921375996 41.95766658544432, -87.75110017039549 41.95760986079838, -87.7510503257778 41.9575522542448, -87.7510004817495 41.95749459275196, -87.75095063852508 41.95743698526094, -87.7509007946758 41.957379323724794, -87.75085095041597 41.95732171708466, -87.75067864604085 41.9571224359904, -87.75052321850173 41.95694316372514, -87.75029044930648 41.956674036232926, -87.75022881839404 41.9566027582584, -87.75015954612655 41.95660361375456, -87.75015803468233 41.95655969874427, -87.75014660968863 41.9562158448779, -87.7500180668067 41.95621738776604, -87.74988945035444 41.956218929236016, -87.74976098103737 41.95622047221014, -87.74974558000295 41.9562206532215, -87.74974174912084 41.95603953129346, -87.7494886854387 41.95574686336646, -87.7494472121657 41.95569890250264, -87.74938331023566 41.95569968400642, -87.74937532707585 41.95565589272033, -87.74936383482111 41.955311819605114, -87.74972666478449 41.955307352311415, -87.75001250080153 41.95530386571419, -87.74985744686333 41.95512464931719, -87.74940618909581 41.9546028199523, -87.74924686882864 41.95446441463227, -87.74917572378565 41.954420968220646, -87.74910457833795 41.95437757668285, -87.74903343227423 41.954334131077786, -87.74896228822602 41.95429073945855, -87.74889114235584 41.954247293765874, -87.748819997805 41.95420384623494, -87.74874885333452 41.954160400460815, -87.74867770726107 41.95411700865407, -87.74860656419841 41.95407356189817, -87.74853541881221 41.95403011598642, -87.74846420116572 41.95398666876197, -87.74839313025663 41.95394327716096, -87.74832216868757 41.95389994189339, -87.74825084207984 41.953856439060566, -87.74775283486258 41.953552420590185, -87.7477491606825 41.95327798448353, -87.74747371075892 41.95328151485527, -87.74710640837827 41.95328644018735, -87.74711440833913 41.95356024925931, -87.74614758808154 41.953570841149784, -87.7460740548771 41.953571617472775, -87.74589029467911 41.95357364037685, -87.74570646088544 41.95357566441079, -87.74569712066244 41.95330135680815, -87.74545161437213 41.95330405422368, -87.74546387228045 41.953578374083435, -87.74528003847576 41.95358039653409, -87.74509620467106 41.95358241779001, -87.74507858079379 41.9533081262202, -87.74499100183604 41.95330910358352, -87.74489967387467 41.95331011838637, -87.74480841879749 41.95331107676929, -87.7447171644109 41.95331209090376, -87.74459585275433 41.95331341811078, -87.7444745037142 41.95331474409756, -87.74438258719341 41.95331575366966, -87.74429074423287 41.9533167644459, -87.74417309135093 41.95331802714725, -87.74393043012459 41.95332073320814, -87.74381263009967 41.953321993884316, -87.74372078711808 41.95332300510475, -87.74362887107837 41.95332396005596, -87.74353695333268 41.953324968944656, -87.74344511034498 41.95332597994453, -87.74284721104738 41.95333256607934, -87.74291981094187 41.95347261952724, -87.74255699512423 41.95347689703229, -87.74252802907584 41.95347723685892, -87.74248573985821 41.953477729595676, -87.7423774981442 41.95347898937032, -87.74237315920226 41.95347904086386, -87.74236909370316 41.95333811901024, -87.74236396810295 41.95316076159485, -87.74224130744389 41.952924072310225, -87.74221876916792 41.95288054319964, -87.74178477160946 41.952043188492155, -87.74171210426518 41.95190291336821, -87.74163936296974 41.95176258289393, -87.74103389611166 41.951769999327404, -87.74079066156881 41.95177298120684, -87.74078607801111 41.95159188289812, -87.7407821280212 41.95145476184197, -87.740780193979 41.95138581708248, -87.7407782566995 41.9513170919863, -87.74077430978842 41.95117964141797, -87.74077036238228 41.95104224576393, -87.74076648735138 41.95090485048008, -87.74076254048919 41.95076739900158, -87.74075859363222 41.950629948420016, -87.74075665638945 41.95056122331474, -87.74072393566968 41.950498047423814, -87.7406777085771 41.95040878582218, -87.74063249101256 41.95032161638097, -87.7405872751048 41.95023428126829, -87.74054205829333 41.950147056872794, -87.74049684161231 41.95005983155864, -87.74044526873348 41.94996027847308, -87.74018945528721 41.94996356776786, -87.73975364510898 41.94996913753052, -87.7395812086973 41.949971345743734, -87.73933809089466 41.94997443499919, -87.73933340055852 41.94979333692931, -87.73932940413786 41.949653635193734, -87.73932863304175 41.94962575063251, -87.73932617658264 41.94954192964598, -87.7393254077228 41.94951393435499, -87.73932379319325 41.94945816305616, -87.73932141133004 41.94937423261257, -87.73931902794226 41.94929046692054, -87.73931770023319 41.949243424019215, -87.73875411633077 41.94889994996728, -87.73823247058921 41.948582100584844, -87.73813110332979 41.94852032465312, -87.73788568324319 41.94841850394137, -87.73733840807743 41.948425489647825, -87.73725065936318 41.948445395113254, -87.73677345649956 41.9484514238197, -87.73653082120582 41.94845278190836, -87.73652976823517 41.948416458849245, -87.73652700410773 41.94831869545223, -87.73652490162647 41.948244644832236, -87.73652463054925 41.94823427069968, -87.73652273153311 41.9481698267771, -87.73626147726178 41.94817326091375, -87.73599016100346 41.94817682577385, -87.73593141179157 41.94817756358511, -87.73539891402801 41.948184506197585, -87.73515634226823 41.94818768848683, -87.73457847871575 41.94819521383091, -87.73452340409632 41.94819596918438, -87.73395311308386 41.94820336701473, -87.73365936020045 41.94821560817614, -87.73323072223226 41.948219572757104, -87.73308673686975 41.94822090435194, -87.73303166427992 41.94822143931943, -87.73302909157808 41.9482214636819, -87.73302608556561 41.94804040203896, -87.73302309666816 41.94794351520635, -87.73302179515586 41.94790201660765, -87.73302027887698 41.94785217260998, -87.73301750821206 41.947763520450195, -87.73301738613841 41.94776072068008, -87.73301456715443 41.94766937807448, -87.73301321835615 41.94762507919427, -87.73301174816854 41.947578036367695, -87.73300893091881 41.94748663884794, -87.73300471465657 41.94734819796992, -87.73300042724918 41.94720975761683, -87.73299613796019 41.94707126233018, -87.73299185058293 41.946932821970336, -87.73298902342258 41.9468423571321, -87.73298756030204 41.946794435611764, -87.7329862696477 41.946751783735955, -87.7329832734786 41.94665593942734, -87.73297898373464 41.94651749904479, -87.73297577468402 41.94641298252062, -87.73297019740313 41.946212667277365, -87.73443590166065 41.94619358677457, -87.73456494678939 41.94619218817151, -87.73478354074776 41.94618937820474, -87.73528756576529 41.946182897840856, -87.73498865321673 41.94600093550169, -87.7348590453356 41.945921995006515, -87.73469105809346 41.94581974723319, -87.73465790984494 41.945799552804445, -87.73464026102194 41.94555481169765, -87.73464018457335 41.94555073729559, -87.73463904909252 41.94551149219389, -87.73463889778803 41.94550626677677, -87.73488197206403 41.945505908926876, -87.73534648452488 41.945503077558755, -87.73540578381362 41.94552193773968, -87.73543027208491 41.9455368289158, -87.735485975959 41.945570708581634, -87.73559723556367 41.94563846616027, -87.7358790419049 41.94581001920446, -87.73612092592742 41.94578509777783, -87.73658737461189 41.945779180622296, -87.73664612160931 41.94577844336113, -87.73711257022138 41.945772524071195, -87.73711056156473 41.9457041271022, -87.73710855168889 41.94563573192669, -87.73710654234492 41.94556728003221, -87.73710453369029 41.945498883961044, -87.7371025243532 41.94543043206486, -87.73710051570546 41.945362035992055, -87.73709850790199 41.94529342024171, -87.73709649721435 41.9452252438377, -87.73709441433002 41.945156791556236, -87.73709240569615 41.94508839548018, -87.73709039586815 41.9450199984967, -87.73709000878165 41.94500627542101, -87.73708838774449 41.94495154840162, -87.73708761255796 41.94492421118483, -87.73708637792339 41.944883151416505, -87.73708436981498 41.94481470041953, -87.73708308668797 41.94477095020527, -87.73708236000084 41.944746303432765, -87.73708056823126 41.944686086197315, -87.73708035120511 41.94467779751022, -87.73707834208368 41.94460945634601, -87.7370781720269 41.94460402195657, -87.73707577308645 41.944522122461215, -87.73707047668401 41.944341030892936, -87.73706790226622 41.94425441003915, -87.73706589879485 41.944185464775934, -87.73706389412102 41.94411651950569, -87.73706181589087 41.94404757385253, -87.73705981242993 41.94397862858688, -87.73705780776656 41.943909683314075, -87.73705580380086 41.94384079296435, -87.73705372609663 41.943771792390265, -87.73705172093203 41.94370290203261, -87.73704971748846 41.94363395676277, -87.73704763928322 41.94356501110379, -87.73704563634998 41.94349601181494, -87.73704363119927 41.943427121453965, -87.73704155421063 41.943358175798764, -87.73703954957864 41.943289230518474, -87.73703754564427 41.943220340161254, -87.73703546797213 41.94315133957964, -87.73703346455649 41.9430823943031, -87.73703210894165 41.94303853475858, -87.73702692591525 41.942860956829215, -87.736942724271 41.94269839116973, -87.73733415920196 41.942693288621285, -87.73948447745953 41.94266502402408, -87.739727413778 41.94267577519798, -87.73972934958688 41.94274439056464, -87.73973136016335 41.94281300631702, -87.73973329648827 41.94288156676432, -87.7397353070716 41.94295018251506, -87.73973718275799 41.943017480380725, -87.73973919162447 41.94308615194152, -87.73974112764874 41.94315487624453, -87.7397421323355 41.94318918501552, -87.73974313703144 41.94322349288603, -87.73974507305405 41.943292218087635, -87.73974708194257 41.943360888744856, -87.73974901797187 41.94342961394483, -87.73975102686722 41.94349828460038, -87.73975296290325 41.9435670097987, -87.73975489945198 41.94363568007855, -87.7397569078398 41.94370440654961, -87.73975884439521 41.94377307682776, -87.73976085279826 41.943841802396854, -87.73976278936036 41.943910472673345, -87.73976479897614 41.943979198247035, -87.73976673433906 41.94404786851565, -87.73976874396168 41.94411659408769, -87.73977068136878 41.94418504468405, -87.7397726169288 41.94425382479176, -87.7397746248464 41.94432260527269, -87.73977985654749 41.94450369639194, -87.73978186600571 41.944572312116904, -87.73978225825248 41.944585540929424, -87.73978380311284 41.94464092746702, -87.7397845828362 41.944667769508946, -87.7397858130873 41.94470948827269, -87.73978698167352 41.94475005429175, -87.73978775019275 41.9447781045214, -87.7397896878192 41.94484666495138, -87.73979169780391 41.9449152257546, -87.73979263578268 41.94494893004686, -87.7397936349277 41.944983841100566, -87.73979557084888 41.9450524564395, -87.73979751408339 41.94512041367239, -87.73979891922141 41.945167072560395, -87.73979952528764 41.94518897447852, -87.73980146121043 41.94525759071528, -87.73980347242151 41.94532615151974, -87.73980540835936 41.94539476685454, -87.73980734601582 41.945463327277125, -87.73980935672773 41.94553194299679, -87.73981002650423 41.94555477798713, -87.73981129318497 41.945600503411484, -87.7398125598671 41.94564622883546, -87.73981323033368 41.94566911964951, -87.73981524036763 41.94573767954254, -87.7402796305145 41.945731682723085, -87.74033837866179 41.945730942677976, -87.74033905676276 41.9457528998837, -87.74038643725066 41.94575229287214, -87.74049478529986 41.945750904957684, -87.74080359412733 41.94574690080492, -87.74104547763737 41.945721804236136, -87.7415074407786 41.945715843949586, -87.74150550250167 41.945647283553214, -87.74150356473596 41.94557866823836, -87.7415016252597 41.94551010783412, -87.74149968629469 41.94544149251142, -87.7414977468334 41.945372931205235, -87.74149580907262 41.94530431678737, -87.74149387082387 41.945235755485754, -87.74149193065783 41.945167141053815, -87.74148999241571 41.94509857975056, -87.7414880546765 41.94502996442911, -87.74148611523505 41.944961403118015, -87.74148417901789 41.94489262394222, -87.74148223888511 41.94482400770558, -87.74148030115913 41.944755392380806, -87.74147986241118 41.944739199439745, -87.74147836292855 41.9446868319729, -87.74147741492133 41.944654116205214, -87.74147642349534 41.944618271557964, -87.74147504048925 41.944569088266206, -87.74147448457337 41.94454965622455, -87.7414725473769 41.944480985078535, -87.74146745748992 41.94429995058135, -87.74198823325226 41.944292974322224, -87.74210949322807 41.94429356728959, -87.74205781441252 41.942459041600834, -87.74201231912078 41.940842900450335, -87.74208590062675 41.940843279384225, -87.74203352654224 41.93898506214246, -87.74202600100517 41.938894580392954, -87.74232505557599 41.93889051556401, -87.74232752744558 41.93898103250409, -87.74232947325892 41.93904898978187, -87.74233134147296 41.939117385121776, -87.7423332820386 41.93918578083328, -87.74233522380509 41.93925417745041, -87.74233716558314 41.93932257316645, -87.74233910615875 41.93939096887549, -87.74234097318305 41.9394593642051, -87.7423429161685 41.93952776082516, -87.7423448567456 41.93959615743203, -87.74234679734268 41.939664552237495, -87.74234873913221 41.939732948848885, -87.74235060737843 41.939801344180594, -87.74235254796871 41.939869740784175, -87.74235448977645 41.93993813649284, -87.74235636513146 41.94000576297407, -87.74235837340183 41.94007492790779, -87.74236024044997 41.94014332412943, -87.74236218106503 41.94021171982863, -87.74236412288924 41.940280115533206, -87.74236606470845 41.94034851213725, -87.74236800533345 41.940416907833985, -87.7423698736118 41.94048530315751, -87.74237181544918 41.94055369885883, -87.74237375607571 41.940622095453364, -87.74237887318422 41.940800440873396, -87.74237892019708 41.94080318533076, -87.74238085089405 41.940872789217835, -87.74238278970769 41.94094151442077, -87.7423847273188 41.94101023961664, -87.74238666613905 41.94107896481792, -87.74238860496263 41.94114769001834, -87.74239054258368 41.94121641521175, -87.74239248141387 41.94128514041054, -87.74239441904156 41.94135386560227, -87.7423963578784 41.94142259079937, -87.74239829671856 41.941491315995705, -87.74240023434787 41.94156004208525, -87.74240217199714 41.94162876637338, -87.74240411204478 41.94169749247368, -87.74240604970066 41.94176621676018, -87.74240798854909 41.94183494285263, -87.74240992620331 41.94190366803775, -87.74241186386082 41.94197239322207, -87.74241380393337 41.942041118417954, -87.74241574159751 41.94210984360062, -87.74241767926499 41.942178568782424, -87.74241961814162 41.942247293969594, -87.7424215570216 41.94231601915601, -87.74242349590487 41.94238474434154, -87.74242543409268 41.942453414602326, -87.74242790618403 41.94254393148599, -87.74243052488204 41.942634504943335, -87.74244425804977 41.94312167457737, -87.74245544078815 41.94351898594291, -87.74245659902456 41.94356059357697, -87.74246923110161 41.94400796636294, -87.74252786442324 41.94608959367464, -87.74276667897114 41.946086486312964, -87.74288807085874 41.94608491564199, -87.7432651579871 41.946080060339206, -87.74326778116587 41.94626118016645, -87.7432780146284 41.94660299078572, -87.74327943767206 41.94664680826588, -87.74324606235302 41.946647234557766, -87.74315415336943 41.94664846377951, -87.74306231794604 41.94664969330584, -87.74297040775113 41.946650922374246, -87.74298019289502 41.94699279191248, -87.74298499121456 41.94717388058528, -87.74290778775162 41.947174965539865, -87.74289308217095 41.947175164516935, -87.74265051221761 41.94717847159615, -87.74266076995572 41.94752083244013, -87.74266216561807 41.94756469749718, -87.7425704024384 41.94756592699984, -87.74257653591317 41.94777901764042, -87.74258025502829 41.94790823712501, -87.74267201869885 41.94790700761767, -87.74269367098896 41.947906698552046, -87.7427067427182 41.94808770102068, -87.74271757399278 41.94843395148968, -87.7427179927691 41.94847782141764, -87.74272803045567 41.94882408398611, -87.74273319597546 41.94900517359993, -87.74274323278048 41.94935154597169, -87.74274451882877 41.94939540504812, -87.74275448268087 41.94974172119981, -87.74275964831156 41.9499228116848, -87.74276962091254 41.95026819420485, -87.74286168323998 41.95026685714671, -87.7429538927068 41.95026551987103, -87.74304551483208 41.950264180401895, -87.74313735696433 41.95026278617004, -87.74322927214565 41.95026144806071, -87.74332118733224 41.95026010897746, -87.74341310251585 41.95025876982062, -87.74345906156984 41.95025807231184, -87.74350501769644 41.95025743059013, -87.74359693287404 41.95025609128607, -87.7436888480403 41.95025475280869, -87.74378076441789 41.950253413363605, -87.74387268008415 41.95025201982132, -87.74396444811559 41.95025067946752, -87.7440230579041 41.95024982519121, -87.74405636327808 41.95024933979552, -87.74406889606423 41.95024915742903, -87.74407007735437 41.950293097877505, -87.74407209202245 41.95036165947151, -87.74407403434107 41.95043021979298, -87.74407597646861 41.95049867027221, -87.74407791879388 41.950567230592064, -87.74407993348393 41.95063579128247, -87.74408187530183 41.95070440741856, -87.74408381814297 41.95077291281831, -87.74408471500264 41.95080321357981, -87.74414693791338 41.950840689595175, -87.74425815110949 41.950907614699894, -87.74439166427922 41.95098799250165, -87.74454968672156 41.9509856743383, -87.74479239898132 41.95098550165137, -87.7447966864092 41.95113381094075, -87.74479789860796 41.95117772452415, -87.74480760353259 41.95151355651808, -87.74494724366002 41.95151152892152, -87.74503908755918 41.9515101331798, -87.74513100451873 41.95150879265911, -87.74522292147529 41.951507452064774, -87.7452688802007 41.95150675473137, -87.74531483842057 41.95150611229719, -87.74540668300864 41.95150477118506, -87.74549867352465 41.95150343074665, -87.74554455817238 41.95150278784377, -87.74559051689242 41.951502090381574, -87.74562944680497 41.95150148837005, -87.74563260507087 41.951682599917106, -87.74563476601976 41.95175944976941, -87.74587794199704 41.95190822260183, -87.74597152723949 41.95196550782536, -87.74605487765929 41.95201648241602, -87.74661623840143 41.95200820999582, -87.74660671002754 41.95166826275825, -87.74660160647758 41.95148722862514, -87.74659219114031 41.95115101380804, -87.74659097650397 41.95110710022936, -87.7465815000724 41.95076940313132, -87.74657647070765 41.95058831442798, -87.74656705506905 41.9502521553759, -87.74656583875033 41.95020829670185, -87.74655642472001 41.949871971974105, -87.74655139375817 41.94969093815385, -87.7473123649709 41.94968071840434, -87.74777178449392 41.94967466504593, -87.7478305350049 41.94967392208419, -87.74789955430141 41.94967300727131, -87.7478979959719 41.94985412268118, -87.74790731909034 41.95019324507624, -87.7479085351144 41.950237104636145, -87.74791773257664 41.95057375675749, -87.74792269216194 41.95075484595171, -87.74793196250623 41.95109171809443, -87.74793401153279 41.951165941977045, -87.74794243975965 41.951473326643615, -87.74794740066997 41.95165441491522, -87.74795673252909 41.95199249556235, -87.74795794861546 41.952036354208175, -87.74796720749607 41.95237437953996, -87.74797216851739 41.95255546778299, -87.74798143425053 41.95289288899605, -87.74807232117108 41.95289176055237, -87.74816409093059 41.95289063653639, -87.74825586067948 41.95288951334729, -87.74834770521039 41.95288838956559, -87.74843954732677 41.952887265698074, -87.74853124471268 41.95288614101987, -87.74862308853228 41.95288496209397, -87.74871493184747 41.95288383801223, -87.74880670158194 41.952882714382746, -87.7488984725283 41.95288158978573, -87.7489903158363 41.952880465483666, -87.74908208677788 41.952879340739834, -87.74912797138987 41.952878806246304, -87.74917393008108 41.95287821629081, -87.7492656998036 41.9528770922943, -87.74935747004143 41.9528759115062, -87.74944931333738 41.95287478683682, -87.74954115662273 41.95287366299425, -87.74963285397972 41.95287253743595, -87.7497246972685 41.95287141254619, -87.74971630517759 41.95253399590224, -87.7497118542059 41.95235291032056, -87.74995444008823 41.95234997197018, -87.75006165150774 41.95234865029636, -87.75015356761014 41.9523475254324, -87.75024541013241 41.95234640102147, -87.75033732623001 41.95234527601035, -87.75042924403168 41.95234409601405, -87.75052108655487 41.952342970482256, -87.75061300264521 41.95234184525036, -87.75070491873312 41.95234071994485, -87.75079676124092 41.952339595092745, -87.75088867732406 41.9523384696401, -87.7509344144103 41.95233793277526, -87.75098059461904 41.95233734321964, -87.75107236355012 41.95233621777384, -87.75116428012579 41.95233503718278, -87.7512561961992 41.952333911435794, -87.75134803870074 41.95233278524228, -87.75136634843848 41.9523325494331, -87.75143995597541 41.95233165935425, -87.7514766478215 41.95233118717011, -87.75153187082739 41.95233053428064, -87.75158687313211 41.952329879346024, -87.75162371452774 41.95232940787264, -87.75169717370606 41.95232851777752, -87.75171562938311 41.952328281751626, -87.7518075471392 41.9523271015518, -87.75189938963436 41.952325974016844, -87.75191769937733 41.95232573721941, -87.75199130568849 41.95232484768116, -87.75208322173202 41.952323722172125, -87.75232609382654 41.95232072083709, -87.75233033868444 41.95250180978613, -87.75233875125485 41.95283862223904, -87.75243677052579 41.95283741749243, -87.75244603582513 41.95283729961007, -87.75253795260934 41.95283617284139, -87.75262979582101 41.95283504562701, -87.75267560803172 41.95283450844891, -87.75272171380647 41.95283391871727, -87.75281355650684 41.95283284717382, -87.75290539971951 41.95283171883859, -87.75292363602705 41.95283148241001, -87.75299731648359 41.95283059260235, -87.75303386268402 41.952830118284346, -87.75308923325342 41.95282946539215, -87.7531441636074 41.9528288102487, -87.7531810764507 41.952828337736634, -87.75325446382755 41.95282744628297, -87.75327292084353 41.95282721091401, -87.75336483761427 41.952826082582845, -87.75345668080433 41.95282495470679, -87.75347499067901 41.952824718562205, -87.75354859755394 41.952823828029054, -87.75360360147097 41.95282317303721, -87.75364051430932 41.95282270037741, -87.75373235869822 41.95282157228686, -87.75382427544875 41.95282044448805, -87.75385361509346 41.95282009919473, -87.75391619219685 41.952819316615624, -87.75397494506285 41.95281862544545, -87.7539978143747 41.9528183564046, -87.75409620145794 41.952817151196705, -87.75409995161851 41.95281711519652, -87.75419179598727 41.9528159876386, -87.75421753141089 41.95281567809132, -87.75428363915572 41.952814859100826, -87.75433878778955 41.952814204486586, -87.75437562946195 41.95281373123153, -87.75446019301539 41.95281267568376, -87.75446754498145 41.95281260381178, -87.75455946292695 41.95281147453002, -87.75480204922667 41.95280852684075, -87.75489301074391 41.95280739337279, -87.75498455912516 41.95280631680894, -87.75507610919036 41.95280518706095, -87.75516773162529 41.9528040567041, -87.7552592804796 41.952802926803976, -87.75535083055381 41.952801795036294, -87.75544245298151 41.952800664460135, -87.75553400133255 41.95279958925859, -87.75557003322487 41.9527991664651, -87.75562555139958 41.95279845727182, -87.75571717381197 41.952797327376636, -87.75580872265998 41.95279619613795, -87.7558815214213 41.952795300043945, -87.75590041985181 41.95279506557235, -87.75599189462929 41.95279398873531, -87.75608351704018 41.952792857647395, -87.75617514064662 41.95279172739268, -87.75626661591251 41.952790595418946, -87.75635823831617 41.95278946411177, -87.75644986192347 41.95278833273748, -87.75645728867019 41.95278826021348, -87.75654126311684 41.952787255092886, -87.756549131284 41.95278718478058, -87.75663288550518 41.95278612446673, -87.75664104845579 41.95278599980833, -87.75672450910533 41.952784992873205, -87.7567403183061 41.95278479676832, -87.75681598436485 41.95278385956132, -87.75686900304483 41.952783193036126, -87.75690760674591 41.952782728715874, -87.75701342169116 41.952781449360074, -87.75725600783814 41.952778494683656, -87.75737520557261 41.952777117382595, -87.75748535802437 41.952775803530585, -87.75759551118458 41.95277454449663, -87.75770573669757 41.95277328662008, -87.75781588913945 41.952771972450826, -87.75792604107596 41.95277071399389, -87.75803626779356 41.95276945490568, -87.75814649379572 41.95276814078783, -87.75825657216066 41.95276688074482, -87.75836679814809 41.952765567315666, -87.75847695007671 41.95276430742976, -87.75858710320016 41.95276304834448, -87.75869732919391 41.95276173279733, -87.75880748110488 41.952760473494486, -87.75891770708397 41.95275915863598, -87.7590278589885 41.952757899121664, -87.75913801210402 41.95275663860739, -87.75924823806517 41.95275532433177, -87.75935838997627 41.95275406269967, -87.75947670480309 41.95275267880256, -87.75971936407608 41.95274988494713, -87.75983775126358 41.95274850013912, -87.75994790314957 41.95274723884157, -87.76005805672247 41.952745923426846, -87.76016828217212 41.95274466228515, -87.76027850810246 41.95274334702011, -87.76038866118165 41.95274208530554, -87.76049888711343 41.95274076892855, -87.76060903897205 41.952739507896815, -87.7607191913271 41.95273819094128, -87.76082941795543 41.952736930070984, -87.7609395698125 41.95273566782169, -87.76099464598956 41.9527350087484, -87.7610497957278 41.95273435091567, -87.76115259441015 41.95273316164983, -87.76115994878448 41.952733088460924, -87.76127010111497 41.952731771877, -87.76138032652925 41.95273050957129, -87.7614905524232 41.952729193142275, -87.761600704269 41.952727929358254, -87.76171085658625 41.95272661235131, -87.7618210831937 41.95272534962838, -87.76193932437216 41.9527239628266, -87.76218204790261 41.95272759335332, -87.76218362512574 41.952776001226276, -87.7621850716869 41.952819860873916, -87.76219430990363 41.953102836029295, -87.76220318298216 41.95337713646036, -87.76221411979188 41.95371628991626, -87.76221421695668 41.95371932181564, -87.7619715416187 41.95371851683296, -87.76151371505041 41.95372419555038, -87.76145496138315 41.95372489147404, -87.76134458734555 41.95372626204878, -87.76123068138537 41.95372767073836, -87.76111670305629 41.95372907895423, -87.76100272424017 41.95373054107439, -87.76088881948274 41.95373194853046, -87.76077483992815 41.953733357301125, -87.76066093516323 41.953734764531, -87.76054695681526 41.95373617218109, -87.76043305034493 41.95373763409659, -87.76031907199739 41.95373904062007, -87.76020509484411 41.953740447936724, -87.76009126241742 41.953741855862795, -87.75997728405865 41.95374326204687, -87.75986337925929 41.95374466938555, -87.7597513861106 41.95374608526131, -87.75950879268933 41.95374931887025, -87.75939047503392 41.9537508126242, -87.75928017328656 41.95375218247571, -87.75916987153565 41.95375355222126, -87.75905956978926 41.953754920960485, -87.75894934088952 41.95375623593827, -87.75883903912808 41.95375760536583, -87.75872866330664 41.95375902833669, -87.75861843560263 41.95376034300273, -87.75850813383866 41.953761711211996, -87.75839790563431 41.953763080583975, -87.75827532272623 41.95376460674966, -87.75815281337694 41.95376613405333, -87.75803030523744 41.95376766033193, -87.7579383135829 41.953768792021506, -87.75784639430726 41.95376992219952, -87.7577361660817 41.953771290936, -87.75728672223586 41.953776884980904, -87.75704549388416 41.95382457589481, -87.75658053473887 41.953830200035625, -87.75652185282698 41.9538309478148, -87.75605630625688 41.95383656598072, -87.75581364746463 41.953838967648714, -87.75534824673456 41.953844584577055, -87.75528949243692 41.95384533136184, -87.75482482735957 41.95385094897168, -87.7545822383768 41.95385362298948, -87.7541227941482 41.953859154235005, -87.75406403982176 41.95385990129277, -87.75360415530486 41.95386542824109, -87.75336156375576 41.95386837426738, -87.75290292865508 41.95387390471802, -87.7528441748062 41.95387459623358, -87.75238553963946 41.95388012461677, -87.7521428751434 41.95388312261877, -87.75168438532374 41.95388870385665, -87.75168691246577 41.95396654309331, -87.75168960714797 41.954050364978364, -87.75169230062993 41.954134186856066, -87.75169499241228 41.95421806364411, -87.75169761354017 41.95430188515271, -87.75170030654016 41.954385761944344, -87.75170300004531 41.954469583817115, -87.75170569305692 41.95455346060628, -87.75170838777977 41.95463728248266, -87.75171091426351 41.95471506678523, -87.7517123785825 41.9547589725483, -87.75168293906066 41.95475932579051, -87.75160843584659 41.954760251997996, -87.75156050250645 41.954760846425216, -87.75143828595829 41.954762313124206, -87.75131614369295 41.95476383408954, -87.75119436857025 41.95476530276658, -87.75120514466988 41.95510816386762, -87.75121572723673 41.955290715527184, -87.75115415318422 41.955289956749176, -87.75112039943755 41.95529038880715, -87.75061704315938 41.95529650711989, -87.75076242691112 41.955463983522826, -87.7507901507917 41.955495902279374, -87.75082442419613 41.95553537382386, -87.75086065951544 41.955577160158754, -87.75088634564166 41.95560676280565, -87.75093116963197 41.95565841710068, -87.7509483432023 41.955678153039734, -87.75100175229427 41.95573967436629, -87.75101026543146 41.95574948613673, -87.7510722627678 41.95582093122151, -87.75120418654626 41.95597291612054, -87.75127418729785 41.95605351212268, -87.75133414784469 41.95612258516902, -87.75134419013777 41.956134163012045, -87.75140414962908 41.95620323601564, -87.75141411817468 41.95621470273792, -87.75148412065953 41.95629529861814, -87.75154408044365 41.956364372448924, -87.7515541216145 41.95637594936717, -87.75161408155745 41.95644502226112, -87.75162405138421 41.95645648897128, -87.75168408454437 41.95652561801935, -87.75169405439617 41.95653708472342, -87.75175605205591 41.956608528532406, -87.75176405587843 41.956617735344416, -87.75183405925011 41.95669833011084, -87.7519039880086 41.9567789253562, -87.75197399293783 41.95685952004335, -87.75203082417194 41.95692495664199, -87.752185005856 41.95710427458528, -87.75233497976907 41.95727737044564, -87.75248036779008 41.95744522908943, -87.75263966454908 41.95761889570266, -87.7526464978729 41.95783146682526, -87.75277548691113 41.9578297593943, -87.75283906700668 41.957828917657054, -87.75290447595228 41.957828050918046, -87.75295313678227 41.957827427198495, -87.75296747357837 41.95800838960513, -87.75326197157852 41.95834829420477, -87.75341088690584 41.95850335056004, -87.75341885794461 41.95873294810296, -87.75353012413595 41.95873153384529, -87.7536401414227 41.958730168994244, -87.75372438461855 41.95872912408588, -87.75375101557604 41.95890992605394, -87.75395041031358 41.959140018869476, -87.75404574181732 41.95925004853263, -87.75408343747077 41.95929354282152, -87.75419943584193 41.959427441747, -87.75429315025636 41.959544306454596, -87.7542950709636 41.95963407008048, -87.75441641385532 41.95963259594729, -87.75450303184797 41.9596315822512, -87.75452788107737 41.95981240924353, -87.75480375723171 41.96013168928712, -87.75481365462215 41.96014315534932, -87.75493272153119 41.960264608408714, -87.75494108082226 41.96051805388669, -87.75495131662488 41.96062829687504, -87.7549449964514 41.96062835506793, -87.75420176024012 41.96063265637449, -87.75397194017475 41.96063535656491, -87.75393592556611 41.9606357798384, -87.75379326896174 41.96063745648716, -87.75372358234021 41.96063830033214, -87.7536406020939 41.96053712541648, -87.7534421517547 41.96030802364664, -87.75335555326696 41.96020808170368, -87.75330719223057 41.96016480790079))",
                        "count": 1
                      },
                      {
                        "name": "POLYGON ((-87.66735682528424 41.72021210714656, -87.66734648195322 41.71984452770874, -87.6673350784877 41.71943775276876, -87.66733179212659 41.71932318644711, -87.66732113444107 41.71894347539638, -87.66731856190681 41.71885207422125, -87.66731598937814 41.71876067304471, -87.6673134168458 41.718669272767, -87.66731020328791 41.71855476087359, -87.66730698980632 41.718440358823, -87.66730574646829 41.71839748518015, -87.66730370296509 41.71832584650017, -87.66730048886654 41.71821138951901, -87.66729277196386 41.71793713283592, -87.66728768275503 41.71775603246764, -87.66727862313219 41.71743445552698, -87.66727476645646 41.71729716151103, -87.6672709085824 41.71715986838517, -87.66726705192256 41.717022575263, -87.6672631952754 41.71688528213755, -87.66725926535102 41.716747987683625, -87.66725540872919 41.71661069455159, -87.66725171534681 41.71647889099688, -87.66725155211996 41.716473401416316, -87.66724769552336 41.71633610827776, -87.66724383894864 41.716198814235575, -87.66724014440092 41.716067010664446, -87.66723998117564 41.7160615210835, -87.66723612461685 41.7159242279351, -87.6672321947727 41.71578693435852, -87.66722833824856 41.715649640303276, -87.66722448172774 41.71551234714501, -87.66722255202069 41.71544378293981, -87.66722062521957 41.71537505398348, -87.6672181626579 41.71528722154117, -87.667216769291 41.71523770589964, -87.66721397973613 41.71513894831034, -87.66721291281732 41.715100411831216, -87.66721044907021 41.71501257937771, -87.66720905514536 41.71496311865288, -87.66720659260788 41.71487528620425, -87.66720519868758 41.71482582547825, -87.66720396685514 41.714781964172154, -87.66720126895498 41.71468853097514, -87.66719741252258 41.71455123779393, -87.66657579241618 41.71456209883905, -87.66657793161116 41.71452091586777, -87.66656362445288 41.71401285847404, -87.66655700481792 41.713793326815946, -87.66663908697224 41.71379188438248, -87.66673066805176 41.7137903295252, -87.66682217759178 41.713788720157964, -87.66681341304 41.71365145249804, -87.66680783893021 41.71346777051375, -87.66672095134655 41.713468913281375, -87.66662937236866 41.71347019263162, -87.66662806764641 41.713426330886826, -87.66644498549626 41.713428890706666, -87.66626183116645 41.71343134087136, -87.66625582209686 41.713233165824086, -87.6663042485227 41.71323251415203, -87.66644263933908 41.713230627981176, -87.6665781013943 41.71322877867225, -87.66671363609545 41.713226875603034, -87.66683261295391 41.713225260795696, -87.66695166310309 41.713223646290125, -87.66694751577111 41.713086186612735, -87.66694401670684 41.712971123720784, -87.66694173437236 41.71289426955753, -87.66693546219221 41.71280652482474, -87.66705260711946 41.712804898264295, -87.66715883551655 41.71280348381204, -87.66715315695508 41.71261562890947, -87.66717844369266 41.71250775935448, -87.66717901634507 41.71250548204417, -87.66725101021451 41.712219257577445, -87.66728403109889 41.712100125109316, -87.66733028481357 41.71193364878145, -87.66739400223562 41.71173598677318, -87.66749747634361 41.71145474439678, -87.66761498161291 41.71117665705234, -87.66761947410346 41.711167132881414, -87.66771267975163 41.71097233179133, -87.6677462934117 41.710902052030036, -87.66780559326028 41.71079146931518, -87.66789140762137 41.710631313715844, -87.66789543544526 41.710624311472756, -87.66796225555444 41.710508942647394, -87.66798301027531 41.71047097187188, -87.66805930674757 41.71033172788651, -87.66806057527964 41.71032942938922, -87.66810361047969 41.71024043319613, -87.66814425926071 41.71014840423913, -87.66804710833206 41.71015075092197, -87.66809705037313 41.71002419716653, -87.66811119073832 41.709988273325116, -87.66812383454418 41.70994844402775, -87.66814056372006 41.70989590537912, -87.66816744001231 41.709811205808904, -87.66817054382385 41.709801398963684, -87.66817873421482 41.70976719728913, -87.66820032478564 41.709676430149244, -87.66821556320228 41.70961230142973, -87.66821861375718 41.70959343837705, -87.66822738439497 41.70953849288485, -87.6682435135488 41.70943748485447, -87.66824609499395 41.709421583095725, -87.66824865972684 41.70940019169855, -87.66826538655923 41.709262523249784, -87.66828211281977 41.70912501955917, -87.66828627619206 41.70909062979973, -87.66830716570772 41.70891873633992, -87.66832381728916 41.708781232202654, -87.6683455822814 41.70860248299026, -87.66836559514607 41.708437390312206, -87.66836895490063 41.70840996654291, -87.66838232095647 41.70829988658419, -87.66839897283656 41.70816243734507, -87.66840065323032 41.708148615617404, -87.66841569729553 41.708024933597635, -87.66841905870275 41.70799734506713, -87.66844475232885 41.707785576841054, -87.6684614772178 41.70764812800274, -87.66840609623848 41.70764885019555, -87.66781998547673 41.707656214930395, -87.66781622385894 41.70753094206332, -87.6678158984674 41.70751985304812, -87.66781263506526 41.70741011621126, -87.66781214478245 41.70739381221007, -87.66780855713353 41.70727287651679, -87.66780850931507 41.70727040653048, -87.66780442744148 41.70713355036652, -87.6676763017203 41.70713560750608, -87.66725529535046 41.707142333776126, -87.66698799636693 41.70714791415432, -87.66698584272494 41.70707710393122, -87.66625635274318 41.70708878832342, -87.66625362347297 41.70699853940238, -87.66624531978022 41.706724826145525, -87.6661845589261 41.70672580865825, -87.66618038416556 41.70654469609913, -87.6661672162247 41.70608977530233, -87.66616398744465 41.705976964740195, -87.66616198801131 41.70590817941169, -87.66615680592878 41.705729329005564, -87.66634031049429 41.70572633268021, -87.66657883085345 41.70572244788721, -87.66694488718584 41.70571644807015, -87.66721229678467 41.70571657135517, -87.66721360011599 41.70576059791126, -87.66721730081446 41.70588455324256, -87.6672209571297 41.706005709069274, -87.66722473290552 41.706129609907876, -87.6677181892239 41.706120997561186, -87.66777305815191 41.706120053042234, -87.6677714995098 41.70606521249471, -87.66776950238533 41.705996153494084, -87.66776591712558 41.70587499809457, -87.66776223971073 41.70574868304891, -87.66805249330145 41.705742405412884, -87.66804619603194 41.705607238091254, -87.66803977257635 41.70547009462775, -87.6680311874005 41.70528694333179, -87.66811499294174 41.70528545217912, -87.66810276571309 41.704880044584904, -87.66828575651198 41.70487687740685, -87.66839563881219 41.70487498863284, -87.66846882058229 41.70487371036128, -87.6687068275477 41.70486954356269, -87.66872891198679 41.70468799675584, -87.66878557321594 41.70422118447912, -87.66880221572083 41.70408444902006, -87.66881854863284 41.70394930271614, -87.66882390548213 41.703905589288034, -87.66884055347968 41.703768303722235, -87.66885720139331 41.703631019050675, -87.66887400222767 41.703492994254105, -87.66889056964476 41.70335639518639, -87.66890721733446 41.70321911049615, -87.66892393703175 41.70308182621648, -87.668936583819 41.70297744936756, -87.66895850789163 41.70279710982302, -87.66897507691547 41.70266031805659, -87.66899164530001 41.70252358120318, -87.66900828624806 41.70238679074144, -87.66902485448455 41.70225005387574, -87.66904149648555 41.702113263408634, -87.66905806457396 41.70197652653066, -87.66907470465999 41.701839790963476, -87.6690912731656 41.70170299915394, -87.66910791430462 41.701566263581384, -87.66912448266214 41.701429471759596, -87.66914112246072 41.70129273526743, -87.66915769066088 41.70115594433363, -87.66917433151242 41.70101920783608, -87.66919089779812 41.70088247180229, -87.66920753906643 41.70074568037321, -87.66922410640537 41.700608944334014, -87.6692407475253 41.70047215289259, -87.66925731352416 41.70033541593385, -87.66927395448646 41.70019862538042, -87.66929052153857 41.70006188841634, -87.6693071617875 41.699925152769815, -87.6693182055976 41.699833994781635, -87.66932372805532 41.69978836086724, -87.66932925114112 41.69974278187839, -87.66934036815587 41.69965162520844, -87.66861502016799 41.699603521820194, -87.66860390156404 41.69969473423287, -87.66859837797104 41.69974031318357, -87.66859285557109 41.69978589214048, -87.66858173690109 41.69987710454767, -87.66856509456483 41.700013894998385, -87.66854852599086 41.700150631847876, -87.66854481815044 41.70018111130202, -87.6684859581168 41.70018139024473, -87.66825580525288 41.700185656992886, -87.66790420066685 41.70019223902528, -87.66789035571045 41.70019248839143, -87.66781351537689 41.700193963905946, -87.6678106242409 41.70009789578936, -87.6678077337467 41.700001882597356, -87.66780484206721 41.69990586849651, -87.66780195038521 41.69980985529433, -87.66779923110028 41.69976598346596, -87.66787748485427 41.69976451704507, -87.66786574317905 41.699376072110184, -87.66775615995347 41.699378291660814, -87.66764650288526 41.69938056470134, -87.6675369178794 41.69938283895507, -87.66747839028162 41.699384036785034, -87.66702166872558 41.69939340951255, -87.66675444792422 41.69939883049196, -87.66674782277262 41.69921777643977, -87.66673719601538 41.698970286134745, -87.6667358320417 41.69893926680517, -87.66672986002959 41.69880130189691, -87.6667239562132 41.69866383168338, -87.66671805241815 41.69852636146646, -87.66671207536623 41.698388890821136, -87.66670609890313 41.698251365253135, -87.66670019517237 41.69811389502601, -87.66669509730379 41.69799517876227, -87.66698802510476 41.69799146551094, -87.66751293255588 41.69798067643036, -87.66757146008173 41.697979478580166, -87.66766302209433 41.69797759419588, -87.66775451082475 41.69797570931426, -87.6678459995601 41.697973823459385, -87.66793748828175 41.69797193843199, -87.66802897699901 41.69797005333174, -87.66812054019087 41.697968168589675, -87.66821202890861 41.697966282443275, -87.66830351761269 41.69796439712429, -87.66836211719081 41.697963199288274, -87.66882065980639 41.69795377682236, -87.66906230215419 41.6979496851872, -87.66906577031067 41.69803258424106, -87.66906813197728 41.69808770410264, -87.66906931168158 41.69811537387178, -87.66907278042758 41.69819821710358, -87.66907624797057 41.69828106122754, -87.66907971615719 41.69836396027647, -87.6690832581948 41.698446804828514, -87.66908443904042 41.69847436475729, -87.66960957002865 41.69846356739755, -87.66961292973829 41.69843592385278, -87.66962301230902 41.69835277354684, -87.66963309484312 41.69826962413894, -87.66964317679445 41.69818652874767, -87.66965325927384 41.69810337933524, -87.66965662127461 41.69807562595558, -87.66966334117049 41.698020283939435, -87.66967342359519 41.69793713452243, -87.66968357927945 41.69785398462598, -87.66969366108471 41.69777089012369, -87.66970206418766 41.6977015066561, -87.66971046557781 41.69763228794476, -87.66972576954846 41.69750595363369, -87.66972710981838 41.69749489313045, -87.66973711089827 41.69741251124556, -87.6697438278981 41.69735755365929, -87.66974718579286 41.69733007486229, -87.66975718738344 41.69724763805366, -87.66976047206144 41.697220268678045, -87.66976718725347 41.69716536600062, -87.66977718935478 41.697082874268226, -87.66979383506236 41.696945424516734, -87.66981047900181 41.69680813951691, -87.66982151644007 41.69671747479526, -87.66982719784566 41.6966706892758, -87.66983248119699 41.696626865474386, -87.66984384156345 41.69653329441804, -87.66986055855496 41.69639600982262, -87.66987720388906 41.6962585600401, -87.669893846254 41.69612127500232, -87.66995713076739 41.69559994266148, -87.6697894013351 41.695467411388414, -87.66980596087153 41.6953311684947, -87.66984428796225 41.695015022308255, -87.66987740582708 41.69474248244816, -87.66988500618204 41.69467984526976, -87.66989004644279 41.694638379916704, -87.66990997052035 41.694473945118126, -87.66991436928683 41.694437854869676, -87.66997028943766 41.69397729445162, -87.6699951691457 41.69377232655064, -87.66977373077032 41.69389273229659, -87.66952482291906 41.694028126772835, -87.66949934327207 41.694041975847696, -87.66938313667497 41.694105192991735, -87.66920300857743 41.6942031127478, -87.66913216544201 41.69424167223998, -87.66891072385738 41.694362076289636, -87.66876307069003 41.694442399892225, -87.66861548979453 41.69452266879892, -87.66832018219468 41.694683260117365, -87.66817260140255 41.6947635284508, -87.66802494697043 41.694843796166694, -87.6677297097163 41.69500438636156, -87.66754338505568 41.69482229128768, -87.66757825244501 41.694785828421246, -87.66760820670245 41.69473583603609, -87.6676242823542 41.6946823598501, -87.66762587356601 41.69462753743937, -87.66761288206402 41.69457356333712, -87.66760741619774 41.69455679109588, -87.66758640996777 41.69449184817359, -87.66756581921796 41.69438662059978, -87.6675630365189 41.694336932868346, -87.66755981223326 41.694280325936, -87.66756769524027 41.69418338644986, -87.66756845034973 41.694174115212626, -87.66759164832895 41.69406914130648, -87.6676017461174 41.69404142698891, -87.6676291011164 41.69396655581559, -87.66765898876393 41.69390876852015, -87.66768043210931 41.69386734335027, -87.66773716292448 41.69378429946716, -87.66774511885374 41.69377265424018, -87.66782248926593 41.69368347227687, -87.66783823719219 41.6936688541257, -87.66791173009274 41.69360072640982, -87.66796250520484 41.69356248995878, -87.66801187973408 41.69352528800514, -87.6681098930726 41.693465260486086, -87.66812175733662 41.69345797403797, -87.66824040485061 41.693399547852266, -87.66828900464994 41.69338061880824, -87.66836642446783 41.6933505505589, -87.6684099167447 41.69332972544269, -87.66844397556501 41.69330061274773, -87.66845097593719 41.69328923655506, -87.66846579283228 41.693265502084415, -87.66847365631689 41.69322723682689, -87.6684669487854 41.69318883144791, -87.66844622300249 41.693153419730145, -87.66841306449172 41.693123699345, -87.66837584481216 41.69310421877144, -87.66814968250401 41.693014980687025, -87.66771092320252 41.69284185251897, -87.66749708801491 41.69275746101013, -87.66717312809297 41.692629618201224, -87.66701114712716 41.69256572435963, -87.66696841425139 41.6926264559604, -87.66692560633163 41.692687350976755, -87.6668828727269 41.69274813746259, -87.66684006520236 41.69280897842565, -87.66679725817289 41.692869763551904, -87.66675452375792 41.69293060490562, -87.66671164216 41.69299149941109, -87.66666890871689 41.693052230891915, -87.66663070806834 41.69310651228997, -87.66662610078635 41.69311307176911, -87.66658336662334 41.69317385723461, -87.66654048412371 41.69323480749087, -87.66649782419603 41.69329548440899, -87.66645501418165 41.6933563792295, -87.6664335365007 41.69338688158454, -87.66641220641252 41.693417165101565, -87.66636947126749 41.693478006300985, -87.66632673718541 41.69353873674439, -87.6663123936638 41.6935591261084, -87.66628392860551 41.69359957748424, -87.66625524206614 41.69364030127958, -87.66624104611341 41.69366047180055, -87.66619831064385 41.693721312931366, -87.66615550238775 41.693782098700424, -87.6661037953753 41.6937614897577, -87.66562062355383 41.693570806860635, -87.66553536954973 41.6936925439272, -87.66540797423794 41.69387435719886, -87.66528265756268 41.6940532724101, -87.66512449199521 41.69388950385221, -87.66463643063864 41.693697306384806, -87.66458457592607 41.69367686156771, -87.66409710228832 41.69348482909487, -87.66388319539206 41.693400539401466, -87.6633967465673 41.69320889528303, -87.66334489208431 41.693188503929555, -87.6628585960447 41.69299691424454, -87.66297104341416 41.69283663807491, -87.66301372894712 41.69277575102833, -87.66305638335083 41.692714961923926, -87.66309905379364 41.69265412427645, -87.66314176750987 41.6925932760603, -87.66318443780006 41.69253243747835, -87.66322712291856 41.69247155124665, -87.66323168542806 41.69246505196729, -87.66326983520918 41.69241070117151, -87.66327502792767 41.69240331779985, -87.66331250285403 41.69234986252431, -87.66335517041793 41.69228902386003, -87.6633978379102 41.69222818427833, -87.66344050412036 41.69216734467258, -87.66348317143203 41.69210650685734, -87.66349557123421 41.69208884633976, -87.66352716135208 41.692043803964026, -87.66356975290658 41.69198307371803, -87.66361234558158 41.691922343462004, -87.66364476343105 41.69187611918807, -87.66365487117241 41.69186158758814, -87.66369715442215 41.69180079427091, -87.6637401171167 41.69174015255682, -87.66378270587488 41.691679421311406, -87.66382529397355 41.69161874586863, -87.66386788377159 41.6915580145962, -87.66391054555814 41.69149728372655, -87.66395313455365 41.69143649839411, -87.66399572290845 41.691375767063604, -87.66410219647936 41.69121309957177, -87.66415379090327 41.69112864544386, -87.66419195154569 41.6910661397355, -87.66423009360194 41.69100368162511, -87.66426823557445 41.69094122440113, -87.6643063714948 41.69087876442737, -87.66434452466045 41.69081625592056, -87.66438266043195 41.69075379591905, -87.66442100617586 41.69069100398915, -87.66445894906195 41.69062882825549, -87.6644833159357 41.69058890538669, -87.66471219383129 41.69021403450492, -87.66483011720875 41.69001306722337, -87.66504512840437 41.689634333415896, -87.6650682401046 41.68959398354338, -87.66510458115398 41.68953047022166, -87.66514066489385 41.689467438890624, -87.66517676709171 41.689404358134354, -87.66521266368828 41.68934128967628, -87.6652485903816 41.68927820787556, -87.66528453552374 41.689215077550045, -87.66532043071604 41.689152008147396, -87.66535637691747 41.68908887780397, -87.66539230572951 41.689025795967495, -87.66542825058796 41.6889626655922, -87.66546419657658 41.68889953521143, -87.6655000740871 41.68883651516631, -87.66553601993392 41.688773384760665, -87.66557196451801 41.68871025343528, -87.66560791022296 41.68864712300476, -87.66564385585696 41.68858399256174, -87.66569271447474 41.68849816224373, -87.66578756688443 41.68833158009929, -87.6658235955227 41.6882682871111, -87.66585952579669 41.68820520692742, -87.66587958910154 41.68816997128943, -87.66589547094337 41.68814207549696, -87.66593136132795 41.68807900586204, -87.6659433462941 41.68805799237657, -87.66596729259977 41.68801592474771, -87.66599123765423 41.68797385890698, -87.66600323632332 41.68795279417327, -87.66603916625228 41.68788971302708, -87.6660750575547 41.68782664334943, -87.66609302991955 41.68779507804858, -87.6661110183924 41.687763463317864, -87.66614692958085 41.68770043154719, -87.66618287295917 41.68763730001019, -87.66621876757225 41.687574231204074, -87.66625471079946 41.68751110054252, -87.66629064262523 41.687448020223535, -87.66632658691165 41.68738488954407, -87.66636247525463 41.687321818852745, -87.66639841940858 41.687258687248054, -87.66643434974051 41.687195607772665, -87.6664702937526 41.687132476143084, -87.66649649065333 41.68708642020643, -87.6665061818123 41.68706940540208, -87.66652271266443 41.68704037161202, -87.66654212687439 41.68700627465494, -87.6665780581239 41.686943195136756, -87.66661400304415 41.68688006436471, -87.66664996163497 41.686816882338746, -87.66674475796397 41.686650362048994, -87.6667806888138 41.68658728246066, -87.66681657866376 41.68652421162622, -87.66685257898455 41.686461020770686, -87.6668884674917 41.686397949904425, -87.66692439685703 41.68633487025937, -87.66696034109368 41.68627173936736, -87.6669962715276 41.68620865880407, -87.66703221562243 41.68614552788718, -87.66706815964632 41.68608239695781, -87.66710406146028 41.6860192756758, -87.66711599217754 41.68599832297018, -87.66713999160139 41.68595619596309, -87.66715423807663 41.68593116629035, -87.6671639351324 41.685914128051174, -87.66717593422081 41.6858930640891, -87.66721187676929 41.68582993220273, -87.66724780310389 41.68576685153144, -87.66728374310846 41.685703719606245, -87.66731963315857 41.68564064950512, -87.66735557422238 41.68557751756196, -87.66739151521526 41.685514385606375, -87.66740300301994 41.68549420102024, -87.66742743640067 41.68545130394481, -87.66745041438736 41.68541093207623, -87.66746337726104 41.685388171064, -87.66749926934985 41.68532510181499, -87.66753520885808 41.68526196980271, -87.66757114829541 41.68519883777796, -87.6676070876618 41.68513570574074, -87.66764301082412 41.68507262401843, -87.66767895125905 41.685009491063, -87.6676803591216 41.68500702769783, -87.66771484053011 41.6849464208252, -87.66771624838991 41.684943957459545, -87.66775076227886 41.68488333905868, -87.66775212026266 41.68488093662893, -87.66779932788035 41.68479800308973, -87.66840673019941 41.68478626304589, -87.66847110410727 41.684785007604084, -87.6685130668544 41.6847842014238, -87.6690760865221 41.68477333105573, -87.6693418541208 41.68476818249275, -87.66980712438587 41.68475918195412, -87.66994258971773 41.684756566882854, -87.6700070342346 41.68475533079628, -87.67011622631847 41.684753219344614, -87.67020703681135 41.684751453714895, -87.67029784730019 41.68474968801334, -87.67038872961572 41.68474794516365, -87.67047382763293 41.684746299433925, -87.6707169640361 41.68474160510054, -87.67114061935564 41.684733431562435, -87.67126958418064 41.68473093863767, -87.67132846417078 41.68472979850694, -87.67133935234902 41.68463896871702, -87.67135024113308 41.68454819385074, -87.67139196570562 41.684199135016854, -87.67140028895321 41.68413002541078, -87.67141766385268 41.68398495045773, -87.67143504044296 41.68383981968499, -87.67145241517788 41.68369474471827, -87.67146979040263 41.68354961392493, -87.671487166174 41.68340453895139, -87.67150446797308 41.683259407722474, -87.6715698010346 41.68271415501272, -87.67160463478528 41.68242279716018, -87.671609513994 41.68238253811246, -87.67162088363405 41.68228753960691, -87.67163225323891 41.68219254109844, -87.67167581418754 41.681828398751925, -87.67169326723025 41.68168271999805, -87.67171071962741 41.68153709615674, -87.67172810044622 41.68139141697424, -87.67174555268689 41.68124579221878, -87.67176300539795 41.68110011343731, -87.67178045922702 41.68095443465585, -87.67179791120971 41.68080881078002, -87.67181529041376 41.68066313155612, -87.67183458398772 41.680502204736705, -87.67190383945207 41.67992354782416, -87.67193871815853 41.67963218098065, -87.67220230096383 41.677430220376394, -87.67221262715503 41.677343942138435, -87.67258102103422 41.67733714700986, -87.67264322417041 41.67733193220466, -87.67262956837773 41.67742219349791, -87.67261627858215 41.67753326270434, -87.67260258604715 41.67764800761403, -87.67258881908246 41.67776286193726, -87.67257240792789 41.67789998437669, -87.67255599782344 41.67803699697094, -87.67253958827555 41.67817406538585, -87.67252317633896 41.67831124272639, -87.67250989009075 41.678421927464264, -87.67250676545255 41.67844831022186, -87.67249683710503 41.678531407040445, -87.67249042718672 41.67858543305193, -87.67248378231913 41.67864094062503, -87.6724740161445 41.678722501435466, -87.6724730591046 41.67873023463396, -87.67246241183801 41.67881914551855, -87.67245760447618 41.67885962383212, -87.67245184230107 41.678907616565546, -87.6724411944973 41.67899669131003, -87.67241958033922 41.67917708989101, -87.67240973231728 41.679259473157884, -87.6724031673806 41.67931443195223, -87.67239988425963 41.67934185732291, -87.67238996292798 41.6794242401641, -87.67238668044344 41.6794517195599, -87.67238011370259 41.67950673326334, -87.67237026613662 41.67958906160196, -87.67236041798223 41.67967144485784, -87.67235385175627 41.679726403637865, -87.67235056980134 41.679753828111515, -87.67234064777475 41.679836265861134, -87.67233736404509 41.67986374524635, -87.67233080010283 41.679918594190895, -87.67232095184244 41.68000097743793, -87.6723111017926 41.68008341559534, -87.67230453724127 41.680138319455466, -87.6723012529172 41.68016585375749, -87.67229133187251 41.680248182557385, -87.67228804929962 41.68027566194582, -87.67228148350613 41.68033056579561, -87.67227163455117 41.68041300395111, -87.67226178613181 41.680495387184926, -87.67225522029125 41.680550291030784, -87.67225193712389 41.680577825336016, -87.67224201595555 41.680660153224565, -87.67223873390057 41.68068757768984, -87.67223216745667 41.68074253645177, -87.67222231836921 41.68082497459623, -87.67220070292234 41.68100537306991, -87.67219149937173 41.681081996716685, -87.67218429347187 41.68114227659414, -87.67218133185159 41.681166903641916, -87.67217123869567 41.68125170024696, -87.67216795601519 41.68127917962651, -87.67216107169071 41.68133655134774, -87.67215154522654 41.68141608223127, -87.67214073871155 41.68150614460362, -87.67213513435533 41.681552985730306, -87.67213057218439 41.68159094077787, -87.67212047831696 41.6816757931911, -87.67211879667937 41.681689888744366, -87.6721103111714 41.6817606442801, -87.67210238566174 41.68182679223119, -87.67210014576088 41.681845440454275, -87.67208997911207 41.68193023751949, -87.67208597634325 41.68196363989907, -87.67207981188209 41.68201508860153, -87.6720696384388 41.6821005437952, -87.67205875055998 41.682191373698004, -87.67205322721063 41.68223744636342, -87.67204778385144 41.68228286131659, -87.67203681533763 41.68237440474533, -87.67202592230979 41.682465728014776, -87.67202047778544 41.68251125280344, -87.67201495661861 41.682557106686595, -87.67200390575788 41.68264952749647, -87.67198229022577 41.682829925870045, -87.6719725266623 41.68291110123292, -87.67196587804483 41.68296688332518, -87.67196275237826 41.68299332096343, -87.67195290481637 41.683075539369824, -87.67194954081488 41.68310378628334, -87.67194305722799 41.68315775777405, -87.67193312847823 41.68324074462662, -87.67192231851767 41.683331080642375, -87.67191671663987 41.68337764714408, -87.67191142802831 41.683422240032364, -87.67190037854282 41.68351449605791, -87.67188957242301 41.68360444762955, -87.67188396655803 41.68365139856316, -87.6718786829613 41.68369549717258, -87.67186755449067 41.683788301962615, -87.67185690161483 41.68387770608247, -87.6718512168221 41.68392520488427, -87.67184601030173 41.683968809629604, -87.67183480404576 41.684062163190944, -87.67182422876098 41.684151018523295, -87.67181846559255 41.68419901117407, -87.6718132640793 41.684242122540944, -87.6718020537948 41.68433585962974, -87.67179220580161 41.68441807800023, -87.67179004451474 41.68443606848954, -87.6717776317799 41.684539897218784, -87.67195612709435 41.68453645691895, -87.6719400395283 41.684717897253925, -87.67191057460477 41.684963894662474, -87.67190665097601 41.684996694224466, -87.67189423726009 41.685100742641396, -87.67189127420323 41.68512547950149, -87.67187782311882 41.68523781076365, -87.67187582409323 41.68525426525179, -87.67186140947585 41.685374823060044, -87.67186044598999 41.685383050511184, -87.6718449957595 41.68551183535035, -87.67182858252312 41.68564879361546, -87.67181224192399 41.68578580631524, -87.67179582917947 41.68592281949449, -87.67177941573236 41.68605977684093, -87.67176300164927 41.68619678910072, -87.67174666074813 41.68633380267649, -87.67173024651841 41.686470814924036, -87.67171383276875 41.68660777314642, -87.67169741959331 41.68674478538868, -87.67168100514341 41.68688179761796, -87.67166466387629 41.68701881116324, -87.67165040901874 41.68713799766129, -87.6716482498425 41.687155768460876, -87.67163183516335 41.68729278157214, -87.67161542042005 41.68742979377695, -87.67159908007044 41.68756680640448, -87.67158266573408 41.687703764578046, -87.67156625077075 41.68784077676455, -87.67154448555836 41.68802117402797, -87.67152792669646 41.68815791165988, -87.67152728431351 41.688163396622336, -87.67151144103673 41.68829464880724, -87.67149488146437 41.68843144134626, -87.67147832359137 41.6885681780663, -87.67146176443423 41.688704915673654, -87.67144520464944 41.688841707293896, -87.67143200211596 41.688951075840066, -87.67142871973805 41.688978335472164, -87.67142376274099 41.68901908742079, -87.67142040378543 41.689046785992225, -87.6714121604346 41.68911518290679, -87.67140800240453 41.68914935324263, -87.67139560099137 41.68925191958924, -87.67137904146503 41.6893886571659, -87.67136255514225 41.68952539425811, -87.67134599666947 41.689662131829394, -87.67132943636786 41.6897989234067, -87.6713128765462 41.68993566095881, -87.67129631665073 41.690072398504746, -87.67128807423389 41.690140794502916, -87.67127567241954 41.69024336081618, -87.67126327111758 41.69034587310692, -87.6712499941124 41.690455295196124, -87.67124671044671 41.69048266465352, -87.67123015025587 41.69061940217494, -87.67121366447113 41.69075613921894, -87.6712053473901 41.690824535673045, -87.67119710413269 41.69089287672806, -87.67118054315718 41.691029669150424, -87.67116398268026 41.691166405746976, -87.67114749659156 41.69130314366678, -87.67148909257874 41.69132508975447, -87.67152107212594 41.691327140388985, -87.67189457468334 41.69135113547702, -87.67188740689907 41.69139593537603, -87.67223681921017 41.69140294206316, -87.67264022519691 41.69139576664672, -87.67272884600035 41.69139418993547, -87.67287525268955 41.691391573999226, -87.67295647629888 41.69139011936861, -87.67296703398084 41.691195497410426, -87.67297451736876 41.691058103342485, -87.67307895712767 41.691056233698546, -87.67311455192275 41.691055615252786, -87.67361770918912 41.69104659372142, -87.67391222718106 41.69104201474124, -87.6739387936931 41.6911840619817, -87.67395189338606 41.69123507200802, -87.67449480960225 41.69122537798281, -87.67467784651247 41.69122210988534, -87.67486087398233 41.691218823434845, -87.67485386402821 41.69098710620149, -87.6748496984388 41.690849865845074, -87.67503272365603 41.69084657820576, -87.67521574949971 41.69084334520106, -87.67539870141756 41.69084005655899, -87.67558172659028 41.69083676804487, -87.67576475238994 41.69083353416543, -87.67594777753301 41.690830245068085, -87.67613072938228 41.69082695616041, -87.67631375569673 41.69082366648676, -87.67633133233655 41.69082338251321, -87.67649678023643 41.69082043143402, -87.67667980532009 41.69081714117025, -87.67668002862783 41.69082400327106, -87.67668534597385 41.69099956092138, -87.67669087268897 41.69118335365211, -87.67733318676369 41.691171873142984, -87.67762664312023 41.691164346076036, -87.67763027339248 41.69119283380862, -87.67763237914544 41.691209037189005, -87.6776392965301 41.69129933161275, -87.67784883575712 41.691295620828, -87.67803186279062 41.69129238334666, -87.67806840900103 41.691291768791594, -87.67821488805113 41.69128920048629, -87.67839784058413 41.69128596199731, -87.6785808675648 41.69128272454153, -87.67876389333887 41.69127948588696, -87.67894691854166 41.69127630186024, -87.67895058076758 41.69127621286811, -87.67912994548776 41.69127306262925, -87.67931289794781 41.691269822682806, -87.67949592366347 41.69126658286188, -87.67967895000966 41.69126339767557, -87.67986197569626 41.69126015727135, -87.68004492809784 41.69125691615897, -87.6802279549563 41.691253675178444, -87.68021680253875 41.69090113015644, -87.68021109205613 41.69072002593443, -87.68019960954624 41.69035666554862, -87.68038263384751 41.690353424302856, -87.68036958683481 41.68994191939047, -87.68040205471479 41.68972173356809, -87.68039334268795 41.68944648207826, -87.6803890177321 41.68930935080836, -87.68038629078742 41.68922420613427, -87.6803846922446 41.68917227355431, -87.68038036731802 41.68903514227787, -87.68037715968858 41.68893232148454, -87.6803760424061 41.6888980109981, -87.68037388000992 41.688829499379594, -87.6803706590774 41.688727995749794, -87.68018610530234 41.68873089875614, -87.68000155271561 41.68873380147279, -87.67981699946168 41.68873664986695, -87.67963244684951 41.6887395519906, -87.6795958293811 41.68874011171758, -87.67903667649097 41.68874889469409, -87.67873878103265 41.688743850725324, -87.678754415956 41.68868219232981, -87.67878226077455 41.688514122885145, -87.67878923798354 41.688447091277595, -87.67878431334658 41.68842005839831, -87.67878364658489 41.688124654530014, -87.67878846034068 41.688097568168835, -87.67876571174736 41.687929045780734, -87.67875233961611 41.687861349038236, -87.67873083283229 41.68775814934033, -87.67866456542646 41.687440472032975, -87.67865835670763 41.687410139171206, -87.67864594941628 41.687384490744364, -87.67860289975506 41.68710234734359, -87.6786073471772 41.68707525889824, -87.67860469328585 41.68704581604223, -87.67889770870416 41.68704271751222, -87.67917900721523 41.687037458179525, -87.6793620243523 41.68703399971231, -87.67954496646 41.687030594549014, -87.67969129149037 41.687027804678706, -87.67972798237348 41.68702713459155, -87.67983769043038 41.687025069064624, -87.67991099891647 41.687023729268816, -87.67998408815018 41.68702233415747, -87.68009401478925 41.687020269628455, -87.68013055913458 41.68701959857978, -87.68027703009982 41.68701686371568, -87.68027047829814 41.686810397434854, -87.68026398814047 41.68660508397213, -87.68025100561204 41.68619456685672, -87.68024485513018 41.68601351581261, -87.6802405318365 41.685876383565926, -87.68023620845814 41.685739142370394, -87.68023188398358 41.68560201101058, -87.68004894863415 41.68560503285419, -87.67995843398995 41.68560654863476, -87.67995411066629 41.68546936234616, -87.67994971409375 41.68533217563774, -87.67994539080865 41.68519498844225, -87.67994106697344 41.685057857063235, -87.67992649421251 41.684594968745074, -87.67991830938351 41.68434228419489, -87.68001275336012 41.68434089432278, -87.68000326315695 41.6840413785093, -87.6799989364759 41.68390452080206, -87.67999572239077 41.68380241296628, -87.67999460925391 41.68376771801103, -87.6799924423553 41.683699701504544, -87.67999028203745 41.683630916117046, -87.6799882350287 41.683565533878316, -87.6799859548447 41.68349411331946, -87.67998490886634 41.683460022893655, -87.67998162821307 41.68335725649939, -87.67997741536628 41.683223638060404, -87.67997308941806 41.683086835259914, -87.67996876228344 41.68295003244931, -87.6799644357099 41.68281317561619, -87.67996010860456 41.682676372799, -87.67995578150469 41.68253957087889, -87.67995145442856 41.68240276805517, -87.67994712792266 41.68226591030864, -87.67994280086666 41.682129108378675, -87.67993869361376 41.681992306794626, -87.67993546924696 41.68188410694725, -87.67992716207408 41.681619669926455, -87.67992351200665 41.68150274034359, -87.6799200396188 41.68139009303848, -87.67991932378004 41.68136670720175, -87.67991634130577 41.681270692554996, -87.67991513502086 41.68123072807586, -87.67991264419544 41.68115129297618, -87.67991087300784 41.68109474943058, -87.67990894709594 41.681031893394874, -87.6799066842677 41.68095877119856, -87.67990525056288 41.68091243889153, -87.67990242792884 41.68082235319722, -87.67990155173761 41.68079309331763, -87.67989829859414 41.6806877474638, -87.67989785467068 41.68067369372885, -87.67989415817016 41.680554239218, -87.6798940521855 41.680550231958335, -87.67989045992394 41.68043483961739, -87.67988979079901 41.6804141983773, -87.67988625571309 41.68030039731667, -87.67915331804365 41.6803139011255, -87.67886071951594 41.68032355654175, -87.67885934900985 41.680279240511425, -87.67885510260349 41.68014194465216, -87.67885085621148 41.68000464878962, -87.67884660983374 41.679867352923786, -87.67884236292299 41.67973011107386, -87.67883342265691 41.679441850022265, -87.67882646728512 41.67921787155433, -87.67911773545435 41.67916464321576, -87.6792394635935 41.679123731655764, -87.6792884261821 41.67910364747981, -87.67946241867261 41.67903476680346, -87.67964422372295 41.67897509609188, -87.67983134372174 41.67892566463848, -87.67984366846964 41.67892315515056, -87.67984082931359 41.67883471611171, -87.67983629011405 41.67868995359697, -87.67983173547226 41.67854683777225, -87.67982735055492 41.67840855250817, -87.67982296564348 41.678270268141034, -87.67981858075613 41.67813198287025, -87.67981419587463 41.67799369849644, -87.67980981934248 41.67785459032555, -87.6798053863196 41.677713944893576, -87.6798010519757 41.67757791082846, -87.67979679145662 41.677441822257066, -87.6797939019118 41.67735113287639, -87.67978526177998 41.67723472315512, -87.6798848771726 41.677237759298706, -87.68038323278945 41.677244158967824, -87.68069641056243 41.67725655949924, -87.68083929918444 41.67726219951506, -87.6811284068244 41.677269548877646, -87.68132114902187 41.67728252651594, -87.68138521784508 41.679101482704695, -87.68144239661305 41.68091130545079, -87.68149823661845 41.68272110110785, -87.68155415432003 41.68453320247079, -87.6815562617229 41.684624059234466, -87.68158542126996 41.68462365376657, -87.68159481996597 41.684918449162986, -87.68157746529023 41.68491868028047, -87.68158022652642 41.685007831840174, -87.68158306103203 41.68509698381398, -87.68158582228043 41.68518613537089, -87.68158865678936 41.68527528824219, -87.68164724026421 41.68527452200056, -87.68165000159661 41.68536367445417, -87.68165283620792 41.68545282642155, -87.6816555975616 41.685541977972086, -87.68165843218532 41.68563112993667, -87.68166214706568 41.68574910328458, -87.68166586252016 41.685867020810136, -87.68166735740417 41.68591087378127, -87.68160866636742 41.68591164842601, -87.68160955112243 41.68594014029965, -87.68161149095957 41.6860017889371, -87.68161537018102 41.68612525097532, -87.68161947378266 41.68625552109201, -87.68176483690428 41.68625360098574, -87.68191159084672 41.68625168857901, -87.68212593809233 41.686248841768034, -87.68236752553645 41.68624565455154, -87.68252965873994 41.686243498930246, -87.68268710429393 41.686241426386694, -87.68284454984055 41.686239353627386, -87.68300192330713 41.68623728114478, -87.68315936883906 41.68623520795399, -87.68332179386162 41.686233052865916, -87.68356338242072 41.68622986314148, -87.68373371629647 41.68622764324124, -87.68389460458353 41.686225533579965, -87.68389819325343 41.68622544401394, -87.68405541894941 41.6862233683531, -87.68421623275532 41.68622125782071, -87.68437712101928 41.686219147483705, -87.68454752867054 41.686216871870975, -87.68478911594022 41.68621367956217, -87.6849429739213 41.68621169352756, -87.68509668471641 41.68620965153408, -87.68525039550448 41.686207609334936, -87.68540410748646 41.686205566936906, -87.68555781825123 41.686203525226766, -87.68568604479003 41.686201832204276, -87.68577837807808 41.686202410122476, -87.68573497696835 41.68487823917753, -87.68573440944463 41.684861769979584, -87.68572485688318 41.68456582154749, -87.6857219571779 41.68447529622464, -87.68584271172446 41.684473617640066, -87.68596331975908 41.68447193630262, -87.68606261935017 41.68447047517093, -87.68606266384504 41.68447202766268, -87.68606522548923 41.684561097873534, -87.68606880846409 41.68467122092788, -87.68606970718662 41.68469839471045, -87.68607260519285 41.6847891388026, -87.68607411617769 41.68483563711218, -87.6860764013733 41.68490711249481, -87.68607852464234 41.68497293352989, -87.68608097572988 41.685049788666184, -87.68608293422295 41.68511012010509, -87.68608562336617 41.6851924652466, -87.68608741598129 41.68524741692878, -87.68609027100995 41.685335142723815, -87.68609182383162 41.685384659310564, -87.6860948447649 41.68547776395815, -87.68609623235665 41.68552195571503, -87.68609941918666 41.68562044011524, -87.68610064199754 41.68565914227702, -87.68610293283551 41.68573017919979, -87.68610505054363 41.68579643957523, -87.68610644530193 41.68583991737517, -87.68610953292855 41.685933681462814, -87.68611003104226 41.68594965596105, -87.68611354471997 41.686059395039294, -87.68611394151387 41.68607097785404, -87.68611795882323 41.68619614223181, -87.6861237589028 41.686377246830325, -87.68612576092056 41.68644043267792, -87.68612677540682 41.68647068097237, -87.68612800164648 41.68650916345688, -87.68612967409162 41.686561370116735, -87.68613024117518 41.68657789422823, -87.68613248125814 41.68664657007921, -87.6861326454977 41.68665211459182, -87.68613464873036 41.686715300443105, -87.68613554474607 41.68674274881376, -87.6861368888209 41.68678397629243, -87.68613851671591 41.68683343836642, -87.68613913011636 41.68685265214769, -87.68614129639873 41.68692138250233, -87.6861414148766 41.68692418242459, -87.68614353769277 41.68699005925626, -87.68614431468605 41.687014762622944, -87.6861457777986 41.68705873510228, -87.68614721341022 41.68710545175867, -87.68614794409217 41.68712746545444, -87.68615018540666 41.68719614130556, -87.68615242497356 41.687264872068624, -87.68615459302981 41.68733354750551, -87.68615683315468 41.6874022233474, -87.68615907218258 41.68747100902753, -87.68616124025009 41.68753968446194, -87.6861634803864 41.687608360301326, -87.68616572117722 41.68767709106622, -87.68616788804582 41.6877457673917, -87.68617012939465 41.687814443235354, -87.68617236899586 41.68788317399097, -87.68617453588466 41.687951849413636, -87.68617661244922 41.68801503566309, -87.6861824133514 41.688196084383996, -87.6861868210754 41.68833349146019, -87.68618922550273 41.68840771180093, -87.68619130088955 41.68847089803855, -87.68619458773085 41.688574048673566, -87.68619794839839 41.68867714479969, -87.68620123405549 41.68878029542421, -87.68620459474019 41.688883391546625, -87.68620900254878 41.68902079770593, -87.6862134109138 41.689158149842726, -87.68621781810177 41.689295501069076, -87.6862222986734 41.689432962550555, -87.68622670654237 41.68957036869661, -87.68623111442638 41.68970777483937, -87.68623520426777 41.68983304938892, -87.68662964363507 41.689828080204485, -87.68666044254547 41.68982769348212, -87.68666473922802 41.69000879938724, -87.68666681411293 41.69007220528735, -87.68666793585145 41.69010640589052, -87.68666905703192 41.690140662313325, -87.68667122844573 41.6902090631131, -87.68667347138134 41.690277519237135, -87.68667403257437 41.690294647451424, -87.68667571432076 41.6903459753603, -87.68667676398967 41.69038017645662, -87.68667788573676 41.690414377057955, -87.68667956868924 41.690465704972546, -87.6866801286838 41.69048283317952, -87.6866823728358 41.69055128930702, -87.68668461633153 41.690619691407676, -87.68668678602033 41.69068814711449, -87.68668903018377 41.690756603239535, -87.68669127369996 41.690825004437436, -87.68669351786205 41.69089346146111, -87.68669568756583 41.690961917164636, -87.68669793229459 41.69103031836684, -87.68670017581701 41.69109872046175, -87.68670234498195 41.69116723108237, -87.68670458972213 41.691235632282094, -87.68670683325601 41.69130403437455, -87.68670912324157 41.69137523508012, -87.68717358618548 41.69136933987247, -87.68741519432542 41.69136597742361, -87.68741625583127 41.69139891535402, -87.68788064453955 41.69139312761705, -87.68787950953528 41.69136018837743, -87.68793802466942 41.69135947437679, -87.68840241428401 41.69135368363542, -87.68864412064542 41.691355149643464, -87.68913824144394 41.69134913915049, -87.68913450154305 41.69123950883388, -87.6896286219849 41.69123344130612, -87.68962772444571 41.69120599297315, -87.68962579262855 41.691148907639466, -87.68986745680037 41.69114838641941, -87.69036157596865 41.69114237065423, -87.69035880958961 41.69105986048879, -87.69035761316208 41.69102560458382, -87.69035409705744 41.69092272653151, -87.69034945780258 41.69078559388116, -87.69034474704209 41.69064840590471, -87.69034010782842 41.69051127234746, -87.69033539589931 41.69037408435766, -87.690330756162 41.69023700661365, -87.69032604547556 41.69009981772362, -87.69032140631738 41.68996268505342, -87.69035055362001 41.689962298905655, -87.69034742825495 41.689871694178855, -87.690344375789 41.6897812483238, -87.69028586089541 41.68978196355345, -87.69028371312864 41.689718282689256, -87.69028253042153 41.68968265468683, -87.69028139420168 41.68964971635297, -87.69027900135602 41.68958109467954, -87.69027668243716 41.68951252834161, -87.69027509672192 41.68946586583438, -87.69027436286814 41.68944390707648, -87.69027204396625 41.689375339836545, -87.69026972505941 41.6893067734961, -87.6902686358829 41.68927646990949, -87.69026733168732 41.689238206738125, -87.69026501333555 41.68916958547644, -87.69026269444082 41.68910101913354, -87.69026037490491 41.68903239696314, -87.69025805656514 41.68896377569894, -87.69025566441468 41.688895208943556, -87.69025476652165 41.68886765075677, -87.69025334433495 41.6888266425906, -87.69025102546033 41.68875807624351, -87.69024870713669 41.68868945497604, -87.69024638707795 41.68862088772027, -87.69024399549497 41.688552266041114, -87.69024280079894 41.68851784536206, -87.6902416759823 41.688483644764425, -87.69023935767478 41.68841502349363, -87.6902370388243 41.68834645714158, -87.69023464605664 41.68827783545242, -87.6902323272232 41.68820926819842, -87.69023017953303 41.68814558821687, -87.69022714136884 41.68796447861026, -87.69025322061565 41.68796415184876, -87.69024903557161 41.68784030394647, -87.69024886059395 41.687835802010376, -87.69024415226399 41.68769828443835, -87.69024064421 41.68759474819754, -87.69023951787081 41.68756082219928, -87.69023713113543 41.68749159638532, -87.69023481012933 41.68742324880062, -87.69023361981807 41.68738838965839, -87.69023010130137 41.68728578613817, -87.69022546695663 41.68714832388912, -87.6902218855785 41.68704467738236, -87.69022075870818 41.68701080630038, -87.69021837211302 41.68694169032571, -87.69021605047611 41.68687328870836, -87.69021485745563 41.68683870326046, -87.69021141497878 41.6867358264426, -87.69020812737139 41.6866395916307, -87.69020670798032 41.6865983088506, -87.69020207306217 41.68646079165856, -87.69019843772247 41.68635533328909, -87.69019736435726 41.68632332807247, -87.69019487718197 41.68624960162318, -87.69019424025105 41.686232750303496, -87.69019122385012 41.6861429366509, -87.69018761736488 41.68603747843688, -87.6901838792558 41.68592762927153, -87.69018201261284 41.68587240262681, -87.69015264736318 41.685872787515095, -87.69015077692802 41.68581794440653, -87.69014711215375 41.685708095646355, -87.69014337521953 41.685598136634816, -87.69017259435431 41.685597696908644, -87.69016788411102 41.68546039806057, -87.69016324713888 41.685323100519454, -87.69015853866719 41.68518574765211, -87.69015382846386 41.68504844969436, -87.6901491910021 41.68491120616261, -87.69014448312632 41.684773798365676, -87.69011533696437 41.68477418447138, -87.69010608913842 41.68450447401367, -87.69010040100392 41.684414004314085, -87.69062457407685 41.6844066573205, -87.69074532845046 41.684404971782115, -87.69357051910359 41.684363926359026, -87.6940619548518 41.68435738445555, -87.69440305099658 41.68435313443411, -87.69469135348429 41.684349082543676, -87.69519224194256 41.68434165734936, -87.69549254625885 41.684338274239124, -87.69549582598226 41.68442880054663, -87.69549651421534 41.68444801470533, -87.69562581903388 41.68797745871642, -87.69576093539946 41.687975493764625, -87.69580890223334 41.687974796464026, -87.69599191334675 41.6879721344206, -87.69610254769684 41.68797077159877, -87.69610475791724 41.68805097634681, -87.69610504166927 41.688061294377334, -87.69610843954415 41.68815467544366, -87.69611098334379 41.6882233527813, -87.69611352834904 41.68829203012472, -87.69611455565378 41.688321455459864, -87.69611599889045 41.68836070705445, -87.69611820113172 41.68841944779668, -87.69611854270352 41.68842938438958, -87.69612101379563 41.688498006397964, -87.69612177291785 41.688517605391475, -87.69612355880983 41.68856668463842, -87.6961253440538 41.68861570805828, -87.69612610263631 41.68863536197104, -87.69612857319966 41.688704038896546, -87.69612891639987 41.68871381073002, -87.69613111823618 41.688772716234176, -87.69613256148959 41.68881196782562, -87.69613358880834 41.68884139315805, -87.69613613265265 41.68891007048729, -87.69613867650149 41.688978747815725, -87.69613970610969 41.68900806331464, -87.69614114828791 41.689047424743755, -87.69614335001688 41.68910622129881, -87.69614369214565 41.68911610207052, -87.6961461632728 41.689184724970886, -87.696146922417 41.689204323061716, -87.69614870659753 41.689253457215614, -87.69615049361613 41.68930242571655, -87.69615125221175 41.68932207962691, -87.69615372281902 41.68939075654407, -87.69615406602539 41.68940052837636, -87.69615626669915 41.68945943386665, -87.69615770996907 41.68949868635368, -87.69615873731517 41.68952811078217, -87.69616128240531 41.68959678810975, -87.69616479987282 41.68969291414469, -87.6961714342872 41.689874022794896, -87.69617540957285 41.68998315992703, -87.69617795565924 41.690051617563824, -87.6961804284809 41.69012007479358, -87.69618297523542 41.69018858735505, -87.69618418069685 41.690222240010186, -87.69618544805692 41.69025704548344, -87.69618799416114 41.6903255031169, -87.69619046700029 41.69039396034335, -87.69619174098648 41.690428216625854, -87.69619301377263 41.69046247290147, -87.69619548661169 41.69053093102657, -87.69619803273372 41.690599388656686, -87.69619930552544 41.69063364493129, -87.69620050679153 41.69066784588647, -87.69620305238055 41.690736358434606, -87.6962055252371 41.69080481655635, -87.69620679803548 41.69083907282971, -87.69620807137694 41.6908732741832, -87.69621054545229 41.69094173140965, -87.69621309105024 41.69101024485477, -87.696214291127 41.691044445801026, -87.69621556393318 41.69107870207288, -87.69621811009087 41.691147159696385, -87.69621948828177 41.69118558797097, -87.69623206904058 41.69152848029082, -87.69623504229848 41.69170960099751, -87.69621848972969 41.69170980545615, -87.6960939889686 41.69171131118258, -87.69610538512102 41.692040530185494, -87.6961069294455 41.692084393115174, -87.69611900931041 41.69243331960293, -87.6961252774216 41.69261442613938, -87.69613330759903 41.69284691579744, -87.69613570674609 41.69291553735462, -87.69613689380486 41.69295105546071, -87.69613803088161 41.69298421341763, -87.69614042829377 41.69305288988609, -87.69614282745333 41.69312151144077, -87.69614515214313 41.69319013258169, -87.69614754955887 41.693258809947956, -87.69614994818892 41.69332748641974, -87.69615227289097 41.69339610755816, -87.69615467087013 41.69346472910203, -87.69615706951262 41.69353340557133, -87.69615815066892 41.69356480659145, -87.69615946750015 41.6936020271135, -87.69616179167657 41.69367070316823, -87.69616419033157 41.69373937963498, -87.6961665883227 41.693808002074995, -87.69616891305338 41.693876623207615, -87.69617131172089 41.693945299671924, -87.69617370919137 41.69401397612872, -87.69617603513552 41.69408259726553, -87.69617843315632 41.69415121880105, -87.69618083063929 41.69421989525537, -87.69618315658683 41.694288517289955, -87.69618435344375 41.69432304683467, -87.6961855540781 41.694357193742604, -87.69618795157356 41.694425870194415, -87.69619034961521 41.69449449172579, -87.69619267558801 41.69456311285677, -87.69619507309595 41.69463178930611, -87.69619747180933 41.69470046576121, -87.69619979659313 41.69476908688303, -87.69620219464672 41.69483770931057, -87.69620459337256 41.69490638576323, -87.69620691816864 41.694975006882565, -87.6962093157016 41.695043683326865, -87.69621051419861 41.69507804900853, -87.69621171443993 41.69511235977703, -87.69621403924828 41.695180980893845, -87.69623073784273 41.6951807988557, -87.69624333488981 41.69518064990049, -87.696351806579 41.695179476552426, -87.69635881058694 41.695352316267936, -87.69637001869616 41.69564135677144, -87.69637316033567 41.695723759873715, -87.6963763747246 41.69580621740019, -87.69637958857855 41.69588872984508, -87.6963828046069 41.69597102261041, -87.69638594574054 41.69605347972711, -87.69638915949757 41.69613588232253, -87.69639237446277 41.696218284923354, -87.69639558889298 41.69630074244258, -87.69639873058674 41.69638314553521, -87.69640194557253 41.696465548132394, -87.69640515882209 41.69654800564132, -87.69640830054504 41.69663040783001, -87.69641151555143 41.6967128104236, -87.69641473002285 41.69679526793555, -87.69641794504304 41.69687767052671, -87.69642056267689 41.69694634816439, -87.6964232535836 41.697015027107604, -87.69643437251713 41.69717958365541, -87.69643677317157 41.697248095318926, -87.69643924536446 41.697316662300636, -87.6964417175528 41.69738523018181, -87.69644419029623 41.69745374224226, -87.69644659096765 41.69752225390245, -87.69644906263599 41.69759087580042, -87.6964515353835 41.69765938875869, -87.69645400880366 41.69772795574205, -87.69645640829077 41.69779646739228, -87.69645888051828 41.697865034367325, -87.6964613527501 41.697933601341546, -87.69646382672056 41.69800211430234, -87.69646484724916 41.69803225264099, -87.69646622568283 41.698070680868774, -87.69646869792761 41.698139247840494, -87.69647117191988 41.69820775989849, -87.69647357143671 41.69827627154291, -87.69647484339153 41.69831063760998, -87.69647604314373 41.698344894331974, -87.69647851714895 41.69841340638745, -87.69648098995722 41.69848191843548, -87.69648338840737 41.698550539915686, -87.69648586122423 41.698619051962005, -87.69648833523789 41.69868756491449, -87.69649080752163 41.69875613187874, -87.69649138491154 41.69877188704966, -87.69649378391262 41.69884045450712, -87.69656342043754 41.69883965099439, -87.69657392107742 41.69903162931771, -87.69658373638235 41.69930611732798, -87.6965853544239 41.69934998060545, -87.69658782748685 41.69941860248684, -87.696590226073 41.699487223954705, -87.69659102502457 41.69951011578134, -87.69659269848503 41.69955579090817, -87.69659437032216 41.699601630793346, -87.69659516981788 41.699624467699955, -87.69659764343105 41.69969303555879, -87.69660004203416 41.69976165702331, -87.69660170576246 41.69980831979975, -87.69660251500528 41.69983016905393, -87.69660498755674 41.69989884584904, -87.69660579517614 41.6999208598615, -87.69660745945303 41.69996746771707, -87.69660985807315 41.70003608917827, -87.69661233171225 41.7001046570321, -87.69661480362147 41.70017327889765, -87.69661727553505 41.7002419007624, -87.69661967417218 41.70031052222026, -87.69662214783749 41.70037908917039, -87.69662341989891 41.70041345522417, -87.6966246203058 41.700447656113084, -87.69662709168601 41.70051633379436, -87.69662949208325 41.70058490033601, -87.69663213731113 41.7006582428933, -87.69663862655777 41.70083929545078, -87.69664109267197 41.700908631268085, -87.69664356571542 41.7009771432848, -87.69664603876322 41.70104565530071, -87.6966484379919 41.70111422182931, -87.69665091170788 41.70118278876972, -87.69665338475978 41.701251301683406, -87.69665418537303 41.70127402874428, -87.69665585782487 41.70131981369596, -87.69665746024714 41.70136526872405, -87.69665825773014 41.70138843514741, -87.69666033476585 41.701445089799286, -87.69666073675414 41.701456343943725, -87.69666313600827 41.70152491046733, -87.69666560920844 41.701593532322306, -87.6966680822951 41.701662044330725, -87.69667055484437 41.701730611257794, -87.69667302630562 41.70179928892346, -87.69667382758979 41.70182207090834, -87.69667542678236 41.70186785544958, -87.69667709980114 41.70191358547694, -87.69667789609414 41.7019367518914, -87.69668036866074 41.70200531881518, -87.69668284297475 41.70207383082523, -87.6966840445165 41.70210792186505, -87.69668524226714 41.702142397341376, -87.696687716463 41.70221080040436, -87.69669018850516 41.70227942224437, -87.69669266175303 41.70234804409016, -87.6966950610624 41.702416610602974, -87.69669753744247 41.70248479398453, -87.69670395491919 41.702665845183866, -87.69670635803138 41.70273402815648, -87.6967076307102 41.70276833927641, -87.6967088323913 41.70280254015772, -87.69671130447074 41.70287116199051, -87.69671280424268 41.702912170413725, -87.69671377763794 41.702939673983444, -87.69671617752564 41.703008185569566, -87.696718651894 41.703076698467754, -87.69672112399071 41.70314532029723, -87.69672359717525 41.70321383228683, -87.69672599828135 41.70328234387625, -87.69672847147449 41.70335085586419, -87.69673094412138 41.703419423671136, -87.69673334524019 41.7034879352581, -87.69673581790457 41.70355650216306, -87.69673829111501 41.70362501414766, -87.69674076377922 41.70369358195126, -87.6967431643733 41.70376214845441, -87.6967456375967 41.70383066043653, -87.69674811082446 41.70389917241779, -87.69675058471624 41.70396773932442, -87.69675298465877 41.704036251798414, -87.69675545735777 41.70410481869672, -87.69675793060284 41.704173330674685, -87.69676033122666 41.70424189717198, -87.69676280772173 41.70431008053154, -87.69676929824308 41.70449118699789, -87.6967725124333 41.70458105442574, -87.69677336810966 41.70460575808781, -87.69677583976122 41.70467443481821, -87.6967783119588 41.704743056628274, -87.69678078536215 41.704811678444166, -87.69678325756843 41.70488030025257, -87.69678565594239 41.70494897747398, -87.6967881281573 41.705017599280716, -87.69679060157796 41.70508622109328, -87.69679180104609 41.70512053179295, -87.69679307380156 41.70515484289834, -87.69679554548782 41.70522351962207, -87.69679794563505 41.705292141026185, -87.69680041787164 41.70536076282876, -87.69680289010367 41.705429385530785, -87.69680536300869 41.70549806225784, -87.69680783525831 41.70556668405788, -87.69681023422544 41.705635305451196, -87.69681270648368 41.705703927249594, -87.69681517994768 41.70577254905378, -87.69681672442515 41.7058164667946, -87.69682654738489 41.70609035126128, -87.69684779339325 41.706364571795156, -87.69665316287565 41.706366787184635, -87.69664836320834 41.706229629033395, -87.6964653069956 41.70623173806139, -87.6962821029447 41.706233851380375, -87.69627889612987 41.70614330062634, -87.6960207701346 41.69892817539805, -87.69576270269735 41.691715341469305, -87.69575946325897 41.69162480920294, -87.6909883657969 41.6916826264212, -87.69099149183872 41.69177313836931, -87.69100481373184 41.692163841416814, -87.69100544545802 41.6921823277595, -87.69088477936702 41.692187321102885, -87.69039387321763 41.692193412002936, -87.68990304146574 41.692199502122605, -87.6896614329011 41.69220248533669, -87.68916708468052 41.69220860663937, -87.68867281030838 41.692214782052424, -87.68843120166235 41.692217762679235, -87.68793743944708 41.69222388198006, -87.68744375042756 41.692230000470836, -87.68720214170054 41.692232978512834, -87.68720663438604 41.692369451350835, -87.68721120089928 41.692505870578294, -87.68721569360662 41.69264234431005, -87.68722018687892 41.69277876311904, -87.68722467841573 41.69291523683751, -87.6872291717187 41.69305165563995, -87.68723227272106 41.69314426718465, -87.68723373776 41.693188129770604, -87.68705056962847 41.693190447422204, -87.68686747354982 41.69319276608746, -87.68673938024303 41.69319440533223, -87.68661106765482 41.693195989177916, -87.68648905225938 41.69319755250148, -87.68642797276382 41.69319830624921, -87.68636689206602 41.69319905995767, -87.68624502319828 41.69320062474736, -87.68624363265408 41.693156707646736, -87.68624060699307 41.69306415142454, -87.68623618960166 41.69292767809165, -87.68623177277571 41.69279114983602, -87.68622735541437 41.69265467649665, -87.68622293806801 41.69251820315397, -87.68621852072769 41.692381730708355, -87.68621410341137 41.692245257359154, -87.68621337212062 41.69222329860231, -87.68621263962908 41.692201339838604, -87.68620068134483 41.69183100674479, -87.6861977808023 41.69174047883998, -87.68607694160767 41.69174193670766, -87.68595617931975 41.691743391280006, -87.6859532026544 41.691652822422675, -87.68581539058341 41.69165448692801, -87.6858273234184 41.69183548996856, -87.68583843047733 41.69218100948777, -87.685839967827 41.692224872504696, -87.68571136463069 41.69222639788859, -87.68558312777847 41.69222792609372, -87.68545503747403 41.692229454081556, -87.68532687389381 41.692230981513426, -87.68519870909917 41.69223250969586, -87.68507054495903 41.69223409176126, -87.68494245463748 41.69223561917759, -87.68481429103112 41.69223714693792, -87.6846861274296 41.69223867365499, -87.68455796261357 41.69224020112261, -87.68442987227502 41.69224172796744, -87.68430163538925 41.6922432538418, -87.68417354503316 41.69224478130116, -87.68404538020921 41.69224630729662, -87.6839172165822 41.692247833155896, -87.68378956584222 41.69224936267141, -87.6835479151875 41.69224920400486, -87.68308982120766 41.69225468120244, -87.68303130523984 41.69225539272815, -87.68257357690823 41.69226081501403, -87.68233196907921 41.69226367297552, -87.6818746797404 41.69226914988665, -87.68187934957105 41.69241599888957, -87.68188241076531 41.692511793161515, -87.6818853986859 41.69260758791685, -87.68188845989461 41.69270338218562, -87.68189152046352 41.69279912152646, -87.68189458167768 41.69289491669232, -87.68189756963591 41.692990710540876, -87.68190063086448 41.693086505703505, -87.68190369210943 41.69318229996424, -87.68190675215138 41.693278095116824, -87.68190974013814 41.69337388895898, -87.68191486060695 41.693534187519106, -87.68192064865322 41.69371523619287, -87.68192265011051 41.69377820233437, -87.68192415270164 41.69382524890029, -87.68192559475723 41.693871032803436, -87.6819271584433 41.69391928711148, -87.68192866159383 41.69396627875681, -87.68192893493004 41.69397550099873, -87.68193016474609 41.69401327040171, -87.68193166790921 41.6940602611459, -87.68193199337873 41.69407145999607, -87.68193349764314 41.6941183418012, -87.68193544300676 41.69417960682071, -87.6819384354938 41.69427496129216, -87.68194150005145 41.69437031707084, -87.68194449143535 41.694465782278314, -87.6819475572086 41.69456113806065, -87.68195062299823 41.694656492941036, -87.68195361551173 41.69475184830484, -87.68195389937273 41.69476002797645, -87.68195606799728 41.69482810015267, -87.68195668130666 41.6948472040824, -87.68195750400253 41.69487448726133, -87.68195901439212 41.69492076494602, -87.68195967264222 41.694942558535864, -87.68196045094574 41.69496709803481, -87.68196196078466 41.69501343063818, -87.68196273845157 41.69503791431022, -87.68196339735071 41.69505976282586, -87.68196490718398 41.695106096328836, -87.68196573043933 41.69513332458709, -87.68196634430747 41.69515237359634, -87.68196851184477 41.69522055560679, -87.68196879570898 41.6952287352777, -87.68197257535802 41.69534764067224, -87.68197836430188 41.69552874511503, -87.68198047308432 41.69559560864603, -87.68198263622159 41.6956642291063, -87.68198487319204 41.69573279506166, -87.68198703752884 41.69580141642743, -87.6819892012313 41.69586998196582, -87.68195997852564 41.695870309737955, -87.6819621433929 41.69593887618297, -87.68196430651749 41.696007496639496, -87.68196491872779 41.6960267104042, -87.68196870780898 41.69614468305271, -87.68197087205296 41.696213193667866, -87.68197131926206 41.69622697276377, -87.68197381240228 41.69630646345317, -87.68200303531448 41.696306134778645, -87.68200442245961 41.696350106805816, -87.68200658739276 41.696418672344436, -87.68200882440456 41.69648723829067, -87.68201098878191 41.69655585964738, -87.68201210701407 41.696590170079546, -87.68201315252486 41.696624425176715, -87.6820148307585 41.696675862917765, -87.68201539010211 41.69669293620108, -87.68201755449964 41.696761556655034, -87.68198833138126 41.69676188533174, -87.68199049455012 41.69683050577835, -87.68199139009039 41.69685795412833, -87.68199265947808 41.696899071311485, -87.68199444815966 41.69695396799707, -87.68199482320841 41.696967636837016, -87.68199706086642 41.69703625770326, -87.68199922514926 41.69710476920805, -87.68200138833653 41.697173389650565, -87.68203061284247 41.697173060978685, -87.68203632756904 41.69735416494142, -87.68203849255615 41.697422730467935, -87.68204065634565 41.697491295986865, -87.68204289406346 41.697559916846465, -87.68204505786035 41.69762848236373, -87.68204722285313 41.69769704878733, -87.68204938610327 41.69776566922236, -87.68205162318898 41.697834235152406, -87.68205274210338 41.69786860050308, -87.68205378764783 41.697902855592595, -87.68205595146316 41.69797142110575, -87.68205811648343 41.6980399866249, -87.68205923420221 41.69807435196752, -87.68206035302103 41.69810860837142, -87.68206251749463 41.69817722880827, -87.68206468132473 41.69824579431814, -87.68206572632492 41.69828010432484, -87.68206684580565 41.69831441475338, -87.68206908292149 41.698382980676875, -87.68207124620855 41.69845160110367, -87.68207236569403 41.69848591153117, -87.68207341124563 41.69852016751736, -87.68207557509413 41.698588733023065, -87.68207781287222 41.69865735386946, -87.68207893116207 41.69869166428897, -87.68207997672818 41.69872591937356, -87.68208214123497 41.69879453980304, -87.68208430509821 41.69886310530546, -87.68208564783816 41.698904223789626, -87.68208654223511 41.69893167212269, -87.68208865064175 41.69899859053324, -87.68208997300152 41.699179736172724, -87.68211282452788 41.699179469506205, -87.68212379137307 41.69952246348864, -87.68212539353712 41.69956633136539, -87.68210672194915 41.69956654969164, -87.68210883471957 41.69963291979426, -87.68211022917342 41.69967617874396, -87.68211056475657 41.699686498879565, -87.68211222151594 41.6997400775491, -87.68211366322947 41.69978591632422, -87.68211426941076 41.69980573418948, -87.68211638939675 41.699871390337215, -87.68211716881953 41.69989570923023, -87.68211811888985 41.69992502433964, -87.68211984893928 41.699978603422245, -87.68212067561139 41.700005503041204, -87.68212150450942 41.70003218208223, -87.68212323400935 41.700085816083174, -87.68212418122053 41.700115295943, -87.68212496461975 41.70013934024483, -87.6821266208438 41.70019297382951, -87.68212761531413 41.70022503351484, -87.68212827761506 41.70024655339464, -87.68213039762406 41.700312209537266, -87.68213112094226 41.700334826412366, -87.6821319043366 41.70035887161359, -87.6821342988318 41.70043364104802, -87.68213462777217 41.70044462021492, -87.68213602281708 41.70048782333879, -87.68213813397347 41.70055435818887, -87.68214164083153 41.700664151086904, -87.68214669106574 41.70082411950385, -87.68215248135655 41.701005167953134, -87.68215592549066 41.70111391785925, -87.68215943229502 41.70122360180124, -87.68216293976528 41.70133333976702, -87.68216637331591 41.70144302238925, -87.68216988079602 41.70155276125108, -87.68217338764754 41.70166244428434, -87.68217689515583 41.701772182241676, -87.68218032873499 41.70188186575578, -87.68218383626225 41.70199160370887, -87.68218411398459 41.70200027763764, -87.68218734315181 41.70210128673369, -87.68218757094738 41.702107764379186, -87.68219085069818 41.70221102468257, -87.68219129677814 41.70222480375713, -87.68219428431486 41.70232070818823, -87.68219779188021 41.70243044613291, -87.68219957972148 41.70248545260367, -87.68220129880783 41.702540129149305, -87.68220474251906 41.70264893394552, -87.68221045977867 41.702829982822, -87.68221390175914 41.70293884252528, -87.68221740993214 41.70304852553871, -87.68222091691327 41.703158208543165, -87.68222435125826 41.70326794695683, -87.68222785825834 41.70337762995712, -87.68223136591534 41.70348736788142, -87.68223487292545 41.70359705177782, -87.6822383073171 41.70370678928272, -87.68224181435527 41.703816472274575, -87.68224532204124 41.70392621109078, -87.6822488290985 41.704035894078416, -87.68225226352772 41.70414563157488, -87.68225577060393 41.70425531455826, -87.68225927832799 41.70436505336603, -87.68226272099375 41.70447385812071, -87.68226851180705 41.704654906454174, -87.68227273963932 41.70478759162778, -87.68227662079639 41.704911053258535, -87.68228057525126 41.705034515301776, -87.68228408304296 41.70514425409456, -87.68228751636565 41.70525399156294, -87.68229102418542 41.70536372945119, -87.68229453080421 41.705473468230835, -87.68229803864308 41.705583206114866, -87.68230147200335 41.70569294357479, -87.68230497930715 41.70580273637392, -87.68230803928954 41.70589875099881, -87.68232679790677 41.70591235919444, -87.68276762468335 41.705907500536895, -87.6830093541087 41.70590491704306, -87.68301074316948 41.70594877915249, -87.68302138028356 41.70628139764703, -87.68311278122833 41.70628207871539, -87.68320410952761 41.706282815122876, -87.6832955104691 41.70628349694622, -87.68338698470082 41.70628417911135, -87.68347831180755 41.7062849152942, -87.6835698593325 41.70628559772822, -87.68366118819951 41.70628627885317, -87.6837520755997 41.7062870114322, -87.68384386066516 41.70628593927215, -87.68399541976586 41.70628421530379, -87.68398439880669 41.70593825846461, -87.6839830090841 41.7058943963621, -87.68422466450822 41.705891754970814, -87.68466497698077 41.705886995973614, -87.68476013092754 41.705885996119065, -87.68520058606023 41.70588162033184, -87.68544251804761 41.7058785889797, -87.68544363544184 41.705922508955126, -87.68545489344187 41.70626753512196, -87.68546205594272 41.70649524447799, -87.68547174428795 41.706814244714295, -87.68547306118606 41.70685816220565, -87.68547741583541 41.7070007817004, -87.68548104861942 41.70712039991307, -87.68549151460238 41.70739845934777, -87.68548992164354 41.70741123919913, -87.68549338528688 41.70752580718404, -87.68549729264713 41.707654702527456, -87.68550119771554 41.70778370769994, -87.68550517717928 41.70791260434428, -87.68550869156711 41.70802942262515, -87.68551077003606 41.708041289490716, -87.68551915776696 41.70830748201539, -87.68551756479786 41.70832026096465, -87.68552108417413 41.70843658586337, -87.68552499042032 41.7085654811795, -87.68552897061012 41.708694432732315, -87.68553287632979 41.70882338296201, -87.68553639134781 41.70894014630493, -87.68554526421626 41.7092310404178, -87.68554873352811 41.70934505917283, -87.68555263986153 41.7094739544685, -87.68555654684839 41.70960290558768, -87.6855605259465 41.709731856210034, -87.68556404709899 41.70984801632204, -87.68556612618384 41.709859828264, -87.68556764344454 41.71008104281079, -87.68532953361043 41.71008621902141, -87.68487131571598 41.71009131795979, -87.68481278413215 41.71009197535586, -87.68435463946486 41.710097073547296, -87.6841128944463 41.71009976960284, -87.68365460257644 41.71010491819336, -87.68359599768401 41.71010557455511, -87.68359042327839 41.70992447275349, -87.68358716325105 41.709819127482916, -87.68358380022543 41.70970933471072, -87.68358043840131 41.70959954284354, -87.68357707538473 41.70948975096747, -87.68357371237727 41.709379959089325, -87.68357027729859 41.7092701659011, -87.6835669148624 41.70916031909936, -87.68356355308373 41.709050527221684, -87.68356019011263 41.708940735335055, -87.68355682836118 41.7088309425528, -87.68355339211804 41.708721150247555, -87.68355002917428 41.70861135835465, -87.68354666744106 41.708501566466374, -87.68354330452452 41.70839177366889, -87.68354004683188 41.708286208692726, -87.68353447267556 41.70810510683352, -87.68352971205529 41.707952275727976, -87.6835262732253 41.70784286694765, -87.68352290648315 41.7077334594732, -87.68351946711859 41.70762410560802, -87.68351610039468 41.70751469812939, -87.68351266040023 41.707405289333884, -87.68350922106343 41.70729593546244, -87.68350585436694 41.707186527977505, -87.68350241560171 41.70707711918253, -87.6834990483704 41.70696776661274, -87.68349561238891 41.706858083216886, -87.6830391006774 41.70686329527899, -87.68279744104406 41.706865989069634, -87.68233858589583 41.70687123910445, -87.68234195327088 41.70698026307349, -87.68234531797815 41.70708967148253, -87.68234868205613 41.707199024063065, -87.68235204678152 41.707308432467954, -87.68235541087759 41.707417785044264, -87.68235877562107 41.707527193444946, -87.68236214038265 41.70763660094324, -87.68236550449676 41.7077459544136, -87.68236886927646 41.707855361907704, -87.68237223340866 41.70796471537388, -87.68237699128734 41.708117546507445, -87.68238256219492 41.7082986483992, -87.68238581577774 41.70840443307168, -87.68238917672471 41.70851422588866, -87.68239253824386 41.70862396288396, -87.68239589801655 41.70873375478965, -87.68239933173608 41.708843602034484, -87.68240269151792 41.70895339483624, -87.6824060525194 41.7090631867424, -87.6824094856191 41.7091729790548, -87.68241284663884 41.70928277095674, -87.68241620590301 41.70939261866938, -87.68241956694085 41.70950241056711, -87.68242300072488 41.709612257797176, -87.68242636057944 41.70972204968388, -87.6824297216355 41.70983184247557, -87.68243297811097 41.70993735252319, -87.68243854926777 41.71011845435728, -87.6824424677715 41.710245649006445, -87.68244582878647 41.710355331042415, -87.68244919100293 41.71046501398335, -87.68245262532828 41.71057469643023, -87.68245598757207 41.71068437846663, -87.68245934861427 41.7107940613945, -87.68246271087618 41.71090374342673, -87.6824660719456 41.71101342545003, -87.6824695075094 41.71112310879351, -87.68247286979857 41.71123279081943, -87.68247623089528 41.711342472836414, -87.68247959320259 41.71145215485814, -87.68248295430831 41.71156183777124, -87.68244564223262 41.71156160032642, -87.6824594171439 41.7118906096405, -87.68250745774249 41.71330808081822, -87.68251159207654 41.713442850507924, -87.68251571700601 41.71357855382201, -87.68252947766135 41.71366675160333, -87.68249644243507 41.71366672927274, -87.68230075050919 41.71366663547407, -87.68210312832619 41.71366908384471, -87.681841690879 41.71366175675734, -87.6818485443927 41.71391539845681, -87.68185335664312 41.71412426861757, -87.68186083340109 41.71438129020651, -87.68187047219807 41.71464543063846, -87.68188091966726 41.714956586508535, -87.68189008576273 41.71526743257368, -87.68189702341897 41.715498132426305, -87.68190724418191 41.715838900032225, -87.681917532506 41.71612217147101, -87.68192879551174 41.716432453123325, -87.68193479097714 41.71661855331858, -87.68193492014919 41.71662385000843, -87.68194679129465 41.71698257301121, -87.68195557770008 41.71728406020023, -87.68196390014002 41.717569736105006, -87.68196907391378 41.71777569909494, -87.68197782856225 41.71812021548114, -87.68198774172335 41.7185097198247, -87.68199706743472 41.71876139901363, -87.68200767549456 41.71911114076731, -87.68162300020495 41.71912155587071, -87.68138005293417 41.719127009730826, -87.68135882418049 41.71912748622907, -87.68135667461762 41.71903412044036, -87.68135463941891 41.71896736743006, -87.6813527696821 41.718905883401874, -87.68135254692857 41.71889891150094, -87.68135045452405 41.71883056631652, -87.68134828817492 41.718762165789386, -87.68134619634172 41.7186937647838, -87.68134410330126 41.71862536467093, -87.681342011466 41.718556964564065, -87.68133991844167 41.718488563549215, -87.6813378266134 41.7184201634407, -87.68133573358702 41.71835176332457, -87.68133364176578 41.718283363214404, -87.6813315487555 41.718214962196285, -87.68132938419555 41.71814650674941, -87.68132729182983 41.718078161556, -87.68132519883017 41.71800976053544, -87.68132310758169 41.717941305501995, -87.68132101402485 41.717872960299324, -87.68131892168225 41.71780461420234, -87.68131682924266 41.71773615915961, -87.6813147374531 41.7176677590421, -87.68131257117432 41.71759935760071, -87.68131047883672 41.7175310124008, -87.68130838585616 41.717462612274005, -87.68130635185561 41.71739574850659, -87.68130898874345 41.71721452865542, -87.6813052017183 41.71708914640696, -87.68130438024522 41.71706175349003, -87.68130146802928 41.716965740763406, -87.681298483085 41.71686967179971, -87.68129557088285 41.71677365906991, -87.68129265868758 41.71667764633843, -87.68128974594401 41.7165816885246, -87.68128683432663 41.71648561997037, -87.68128408657304 41.716395096803346, -87.68128392215188 41.71638960723412, -87.68128101063047 41.71629364942226, -87.6812780984694 41.716197636682764, -87.68127518632429 41.71610162304135, -87.68127227473202 41.71600555537939, -87.6812693625915 41.71590954263503, -87.68126645101296 41.71581347496984, -87.68126567901176 41.71578844218913, -87.6812621547737 41.71567321573839, -87.68125842066839 41.71554986408322, -87.68125513472108 41.715440072694555, -87.68125177613142 41.7153303358139, -87.6812505164404 41.71528828512778, -87.68124869796632 41.71522899734528, -87.68124760435101 41.71519227237142, -87.68124561924465 41.71512771469442, -87.68124469171335 41.715096314532644, -87.68124254108572 41.71502637712252, -87.68124178020189 41.71500024595353, -87.68123946359 41.714925093574564, -87.68123879483586 41.71490423277638, -87.6812363843361 41.71482386583756, -87.68123588277396 41.71480822001354, -87.68123330565409 41.71472258227917, -87.68123297071891 41.71471220724912, -87.68123022530521 41.71462146437706, -87.68125645863785 41.714621705079644, -87.68125055652006 41.71432766210046, -87.68124950847177 41.714293681698614, -87.68124764445572 41.714231649328426, -87.68124741728235 41.71422511677579, -87.68124532730717 41.71415655095862, -87.68124473295333 41.714135581635496, -87.68124330942106 41.714087986450046, -87.68124182091178 41.71403956795989, -87.68124121999884 41.7140193666123, -87.68123912826834 41.71395085660546, -87.68123886275404 41.71394086552441, -87.68123703829804 41.71388229168531, -87.68123583361927 41.713842052839645, -87.68123298101675 41.71374741255634, -87.68120374854657 41.713747904834804, -87.6807517060784 41.713755492955165, -87.68051007880182 41.713759554236645, -87.68051086214716 41.71355911352736, -87.68050916154664 41.7135027345725, -87.68050707180501 41.713434224558675, -87.68050505360503 41.71336576987284, -87.6805037833084 41.71332481755293, -87.68050296387035 41.7132972598574, -87.68050094568625 41.71322880426961, -87.68050056979207 41.713215245303395, -87.68049892925369 41.713160294668896, -87.6804972841816 41.71310567354252, -87.6804968377721 41.71309183956341, -87.68049482134631 41.71302332996104, -87.68049399793411 41.71299604685353, -87.68049272988078 41.71295487395361, -87.68073442743848 41.712950813102665, -87.68119107990073 41.71294308733612, -87.68122038531025 41.712942594573775, -87.68121829482372 41.712874084560944, -87.6812162025841 41.71280562945973, -87.68121411099439 41.712737229283775, -87.68121201932595 41.71266871836137, -87.68118271459596 41.712669156203184, -87.6811806235995 41.712600701106076, -87.68117930779056 41.71255683944211, -87.68117853141408 41.712532245100945, -87.68117644097974 41.712463735082885, -87.6811758289108 41.71244452136935, -87.68117434934739 41.712395225057186, -87.68117225892011 41.71232671503753, -87.68117016674873 41.712258259029134, -87.68116807577333 41.712189803927046, -87.6811668056245 41.71214879668396, -87.68116591086101 41.71212129348213, -87.68116381989272 41.71205283837838, -87.68116338554854 41.712037797074785, -87.68116172884575 41.71198427252821, -87.68116002769118 41.71192789446411, -87.6811545333261 41.71174679306549, -87.68115276397539 41.711690030155026, -87.68115144995275 41.711646113571646, -87.68115067238278 41.71162152012007, -87.6811485819952 41.7115530100911, -87.68114829929988 41.711544720603015, -87.68114649096475 41.711484445135206, -87.68114522195718 41.7114433271482, -87.68114432730012 41.71141593378834, -87.68114223627677 41.71134736883079, -87.68114207187509 41.71134187925673, -87.68114014590331 41.71127885879856, -87.68113892244722 41.71124048628952, -87.68113798159403 41.71121029342342, -87.6811358912368 41.71114178248919, -87.68113577238991 41.71113903749411, -87.68113379967244 41.71107327244767, -87.68113269562417 41.71103759001315, -87.68113170986825 41.7110047074929, -87.68112954501827 41.710936197033725, -87.68112745522122 41.71086763207729, -87.68112646947856 41.71083474865572, -87.68112536488161 41.71079912113898, -87.68112327389001 41.710730556174035, -87.681121110256 41.71066204571844, -87.68111951191239 41.710610004395576, -87.68111901927155 41.710593480751875, -87.68111692893696 41.710524970710594, -87.68111598699905 41.71049488677899, -87.68111483741345 41.71045645976135, -87.68111267490416 41.710387839463905, -87.68111246328807 41.710379770067206, -87.6811105833787 41.710319329413345, -87.68110893949584 41.71026454350776, -87.68110849361338 41.71025076444949, -87.68110640210402 41.71018225349696, -87.68110462949012 41.710125820086674, -87.68098379716832 41.710127936152176, -87.68097783701417 41.70990846377055, -87.68097314900973 41.709756291196584, -87.68096971778102 41.709646553788986, -87.68096628536011 41.70953681637244, -87.68096292688566 41.70942713429598, -87.68095949449228 41.70931739597495, -87.68095606209913 41.70920765855209, -87.68095270420733 41.70909792155002, -87.68094927184173 41.708988183222644, -87.6809458406778 41.7088784458003, -87.6809441247762 41.70882354962526, -87.68094248161184 41.70876870878509, -87.68094031931955 41.708700088466, -87.68093905046636 41.70865897135851, -87.68093561869307 41.70854917810344, -87.68093226085597 41.708439441088714, -87.68092750305436 41.708286939444044, -87.68092193513071 41.70810594644901, -87.68091690756522 41.707944002903666, -87.68091354802159 41.70783432078983, -87.68091011640854 41.70772463736433, -87.6809067568831 41.707614955246285, -87.68090332527942 41.70750527271686, -87.68089989249266 41.70739558927822, -87.6808965329946 41.70728590715385, -87.68089310141862 41.70717622461815, -87.68088974194785 41.70706654158926, -87.68088631039033 41.706956859049306, -87.68088295092868 41.70684717691659, -87.68087951884345 41.70673754839143, -87.68087615939999 41.706627866254436, -87.68087146020497 41.70647695674425, -87.68051891001866 41.70647242899209, -87.6802984023542 41.70647649730221, -87.68029313171277 41.70629539966897, -87.68028196070749 41.70595174659553, -87.68028054946424 41.7059078852302, -87.68052224855444 41.705903439432134, -87.68096376642713 41.705895353896025, -87.68095937085845 41.705757892196786, -87.68095497464944 41.705620376468424, -87.68095050516895 41.70548286032071, -87.6809461084349 41.70534539950509, -87.68094171282623 41.705207828847456, -87.68093724339134 41.705070312689784, -87.68093284790383 41.70493285187099, -87.68092845122989 41.70479539104207, -87.68092332545773 41.70463580671372, -87.68091753963071 41.70445475744543, -87.68091319632516 41.704319272316646, -87.68090879472139 41.704182305747054, -87.68090439258648 41.704045393193134, -87.68089998990229 41.70390853645561, -87.68089558835254 41.70377156897578, -87.68089118680865 41.70363460239303, -87.68088678593503 41.703497689832794, -87.68088238331067 41.703360833082144, -87.68087798126561 41.70322392050852, -87.68087358033681 41.703086898993256, -87.68086935211736 41.70295454326653, -87.68086917832166 41.70294998641305, -87.68086483461425 41.70281455706821, -87.68084088173676 41.7026337890491, -87.68083806555403 41.70254288081098, -87.6808366791245 41.70249890882177, -87.68083524438963 41.70245246594536, -87.68083242377763 41.70236199705921, -87.68082817019261 41.70222503128121, -87.68082391431919 41.70208817443145, -87.68081965845106 41.70195131847879, -87.68081540316156 41.70181440670317, -87.68081107571477 41.70167738466941, -87.68080682044503 41.70154047378748, -87.68080256408828 41.701403671840744, -87.68079830940246 41.70126670603296, -87.68079405418487 41.701129794240906, -87.68078979897248 41.70099288334591, -87.68078415907712 41.70081183478692, -87.68077991056097 41.70067426485182, -87.680777027332 41.700582752953636, -87.68077558877836 41.70053669449729, -87.68077414633966 41.70049102047623, -87.68077134149245 41.700399124562416, -87.68076701918376 41.70026160912066, -87.68076277072542 41.70012403917231, -87.68075844844594 41.6999865237239, -87.68075420057173 41.69984889884956, -87.68074987832145 41.69971138339454, -87.68074563047611 41.69957375851355, -87.68068786052517 41.699574884540226, -87.68068593531292 41.69953110124579, -87.68067432982959 41.69916505135072, -87.68065368205164 41.69891838319738, -87.68064935838657 41.69878103247651, -87.68064496201285 41.698643626416796, -87.6806406389326 41.69850622076995, -87.68063840444252 41.698437544992196, -87.68063802246648 41.69842458920507, -87.68063625535187 41.698367552457874, -87.68063193175495 41.69823020082348, -87.6806275366421 41.698092794757315, -87.68062237750192 41.69792936816606, -87.68061544252059 41.69770989157175, -87.6806111167637 41.69757276049942, -87.68060671774415 41.69743562900762, -87.68060239378245 41.697298442115816, -87.68059978340301 41.69721609747493, -87.68059806862503 41.697161256114235, -87.68059366965917 41.697024123712204, -87.68058934453123 41.696886937704036, -87.68058417342749 41.69672482825059, -87.68057731192938 41.69650535202618, -87.68057254720024 41.69636816350824, -87.68056785576357 41.69623097540319, -87.68056020172888 41.69601028726137, -87.6805430417824 41.69551291632188, -87.68053889037006 41.69529334649907, -87.68066699512949 41.69529100024479, -87.68066028782094 41.69508524648748, -87.68065350726326 41.6948794932069, -87.68052540332032 41.69488183945217, -87.68034243835488 41.69488519018546, -87.68015940129185 41.694888541117955, -87.68010498110945 41.69488954904135, -87.6801009368415 41.69476092708291, -87.68009681987708 41.694632248885306, -87.68009272346866 41.69450154046674, -87.68014765624184 41.69450053546205, -87.68033061837538 41.69449723904318, -87.68051365376795 41.69449394274911, -87.68050060717734 41.69408238322255, -87.68031757175031 41.69408567949762, -87.68013461078303 41.69408897590433, -87.67995157597146 41.694092326522465, -87.6797685404994 41.694095621922635, -87.67958550621357 41.69409891703799, -87.67940247136563 41.69410226588081, -87.67921950912208 41.694105560823076, -87.67898762090785 41.69410972938217, -87.67895909500737 41.69411368344982, -87.678927830091 41.6941277213666, -87.67890644248892 41.694149773894516, -87.67889819129611 41.6941764012763, -87.67884703088467 41.69390639681198, -87.67883666101761 41.69358579962323, -87.67883377127623 41.693495220315675, -87.67882044122692 41.693083658929645, -87.67881439938402 41.69287790968588, -87.67899735695886 41.69287461535613, -87.67918038834729 41.69287126623266, -87.67936342036536 41.692867971743766, -87.67954645116731 41.69286467695638, -87.6797294086822 41.692861381460624, -87.67991244065541 41.692858086096905, -87.68009547195908 41.69285473641557, -87.68027850270106 41.692851440461745, -87.68046153462926 41.69284814422307, -87.68053477644862 41.692846803661816, -87.68052597969152 41.69257248553174, -87.68052381761832 41.692503919038195, -87.68052158162216 41.69243529810168, -87.68048510748488 41.69243596966831, -87.68044834026956 41.69243663865797, -87.680265310709 41.69243993489109, -87.68009348606464 41.692443019910776, -87.68008228113352 41.692443230832495, -87.68006052712148 41.69244365550055, -87.67991411765486 41.69244633639499, -87.67989924979518 41.692446580494625, -87.6797162201896 41.692449875852795, -87.67969446792188 41.69245024643919, -87.67953326263958 41.69245317132935, -87.67951151037012 41.69245354188108, -87.6793502330041 41.692456466104346, -87.6791672033537 41.69245976058771, -87.67898417193058 41.692463109691985, -87.67896241966507 41.69246347923943, -87.6788012155309 41.692466403109044, -87.67868798476069 41.69246844846412, -87.6786181858355 41.69246969671757, -87.678504953864 41.692471740985056, -87.67843515492402 41.692472990027625, -87.67841340208714 41.69247341529083, -87.67825212464152 41.69247633797229, -87.67823044563167 41.6924767086991, -87.67806916817283 41.69247963112366, -87.67804741469756 41.69248000049097, -87.67788613721638 41.69248292355889, -87.67768069516606 41.69248663617134, -87.67738787703338 41.692491880967665, -87.6770401260064 41.69249818348798, -87.67693033763847 41.69250013602396, -87.67685709616711 41.69250147429034, -87.67683878579662 41.69250180907473, -87.6767473065891 41.69250342664452, -87.67667406511177 41.6925047647942, -87.67658251326849 41.69250643674038, -87.67656427616738 41.692506771899744, -87.67646173854237 41.692508600657064, -87.67638183153618 41.69251003827828, -87.6762787086559 41.692511890537816, -87.67626779438949 41.692512102749404, -87.6761982884667 41.692513352108406, -87.67612504698036 41.692514689007695, -87.67609575082506 41.69251518053904, -87.67608461794386 41.69251539148299, -87.67592722244432 41.69251822325692, -87.67576982637438 41.69252110973458, -87.67561242965147 41.69252394107028, -87.67557602926426 41.692524556577965, -87.67545503410952 41.692526773097455, -87.67529763856571 41.69252960400868, -87.67514024180971 41.69253243469734, -87.67502708413502 41.69253447596293, -87.67498284623468 41.692535266077506, -87.67482545065782 41.69253809634172, -87.67466805330847 41.69254098130277, -87.67442928841788 41.692545276831524, -87.67413083653489 41.692549757128525, -87.67378096133721 41.69255603669995, -87.6736893360952 41.69255770681992, -87.67363594298003 41.69255866265555, -87.67345298613748 41.69256194845432, -87.67341431438275 41.69256265917993, -87.67341065207852 41.69256274799501, -87.67336143416286 41.69256361783313, -87.67308692411083 41.692568572347845, -87.67304766736822 41.692569280489536, -87.67302935697579 41.69256961376632, -87.67297896613407 41.6925705325244, -87.67284603372542 41.69257289649337, -87.67272093704972 41.692575141483765, -87.6726810929261 41.6925758461238, -87.67258939437642 41.69257751404486, -87.67244642691934 41.69258009446773, -87.67240599725642 41.69258085056766, -87.67241861790703 41.69299328645264, -87.67242233126233 41.693199083831885, -87.67234612391518 41.69320045078493, -87.67205527944004 41.693205693338115, -87.67169170485325 41.693212218148666, -87.67170841172268 41.69376129075041, -87.67172079850744 41.694167523526126, -87.67172351507556 41.69418834131606, -87.67173358954112 41.69421137856012, -87.67142939582406 41.694219634540204, -87.67075957434106 41.69423257018323, -87.67054907026001 41.69423662530828, -87.67049411096039 41.69468950777792, -87.67043915149527 41.695142444206034, -87.67040618899831 41.695414217993616, -87.67039519112122 41.69550499466746, -87.67038418549564 41.69559582081444, -87.67035066795624 41.69587176187519, -87.67033578396806 41.69599467732532, -87.67032906826583 41.696049689890145, -87.67031642580459 41.69615401122443, -87.67029986316241 41.696290638613675, -87.67028330109281 41.696427320022735, -87.67027386164935 41.69650493055039, -87.67027169949138 41.696522920967375, -87.6702600990643 41.6966185210157, -87.67024346289466 41.69675514796127, -87.67021858270162 41.69696011580733, -87.67019834064747 41.69712696354547, -87.67018161739395 41.69726490720792, -87.67017305824135 41.69733538736668, -87.6701648952664 41.69740285087103, -87.67015953533488 41.697446893930355, -87.6701480980208 41.69754084901737, -87.67013137398628 41.69767884668002, -87.6701146516327 41.69781679032437, -87.67009785472486 41.697954733532605, -87.67008113046428 41.698092731176445, -87.67006440788475 41.698230674802, -87.67004761018612 41.69836867291074, -87.67003088626382 41.698506615616516, -87.67002512372011 41.69855427942343, -87.67001416345825 41.698644559223276, -87.67001048428743 41.69867478049329, -87.66999736553308 41.69878255731316, -87.67006087423204 41.69878127710321, -87.67007766932562 41.699149444110674, -87.67011477724314 41.69932985097485, -87.67009814000207 41.69946647692746, -87.6700815765942 41.699603159123384, -87.67006501191113 41.69973984130624, -87.67006404852269 41.6997480137993, -87.67004869576688 41.69987372476973, -87.67004837444786 41.69987646724039, -87.67003180961692 41.70001314941095, -87.67001524648698 41.70014977576274, -87.66999860822789 41.70028645749803, -87.66998204317511 41.70042313965017, -87.66996547862215 41.70055976597656, -87.66994884134208 41.700696447700324, -87.66993227663197 41.7008330749148, -87.66991571129277 41.70096975614201, -87.66989907435494 41.70110638292807, -87.66988250885859 41.701243065043336, -87.66986594329758 41.70137974625213, -87.66984930493618 41.70151637301277, -87.66983274041934 41.70165305511656, -87.66981617520109 41.70178968138771, -87.66979960933513 41.70192636347227, -87.66978297012211 41.70206304422721, -87.66976640587419 41.70219967138717, -87.67022219479202 41.70223303911684, -87.67020562861272 41.70236994003843, -87.67018913612453 41.70250667751245, -87.67017249136278 41.70264396242657, -87.67015200254525 41.70281322425552, -87.6707341926676 41.70280533064359, -87.67103104479499 41.7028096538348, -87.67101625946287 41.70288895773423, -87.67101021466387 41.70292130555685, -87.67099589737491 41.70306036061651, -87.67099369864157 41.703082027921724, -87.6709919929667 41.70309826434352, -87.67098841380387 41.703275746897, -87.67098901282802 41.70331735458451, -87.67098650407289 41.70341909978941, -87.67098358443015 41.70353933979719, -87.6709771532838 41.70369501607837, -87.67097741637201 41.70381922524197, -87.67068445519526 41.70383334408262, -87.67013301052688 41.70379904262166, -87.66957644301277 41.70376443341295, -87.66955980060607 41.7039014445077, -87.66954315636794 41.70403850960817, -87.66952651261097 41.70417552068361, -87.66950986942534 41.704312585778695, -87.66950162133634 41.70438103636495, -87.6694932988139 41.70444959636476, -87.66947665426888 41.704586662340866, -87.66947337703577 41.704613372646165, -87.67008402851707 41.704652684717615, -87.6700775090517 41.70476681110447, -87.67006948430323 41.70490628677606, -87.67006555923416 41.70497454265774, -87.67006162971279 41.705043347737494, -87.67005377402876 41.70518062837865, -87.67004984609103 41.70524915975266, -87.67004591653239 41.7053179648283, -87.67003805908051 41.70545541021898, -87.67003012710353 41.70559285517564, -87.67002226957698 41.7057303005582, -87.67008696879002 41.70573484539726, -87.67071457789291 41.705778643093396, -87.67100650131566 41.70579976943157, -87.6709874664465 41.705901460759485, -87.67098079906286 41.70593742715639, -87.67096522119498 41.70602082041172, -87.67095422439441 41.70607169175781, -87.6709281592263 41.70619212692989, -87.67092515969777 41.706205996018745, -87.67086825942637 41.70646906892785, -87.67079643750276 41.706651591669065, -87.67075321091328 41.70713077674862, -87.67069836349384 41.70726504211067, -87.67064359025936 41.70739919802594, -87.67039570479511 41.70738734020466, -87.67030013237996 41.70762142831712, -87.67029855391655 41.70762537092482, -87.67024438099486 41.707757939153254, -87.67019028178268 41.70789056180026, -87.67013610961094 41.708023129975246, -87.66972341909101 41.70797568501261, -87.6695930499558 41.707960662156815, -87.66907428060367 41.70790096665964, -87.66905763927204 41.70803753820744, -87.66904107173022 41.708174054353236, -87.66902450467072 41.708310516474064, -87.66900793873884 41.70844697859572, -87.66899137096634 41.70858349562344, -87.66897480369467 41.70871995682554, -87.66895823633993 41.70885641892183, -87.66894487113811 41.70896649894323, -87.66892830308454 41.70910301594764, -87.66891173672414 41.70923947803367, -87.66889516909772 41.7093759392063, -87.66888428860305 41.70946512253826, -87.66887684134707 41.70951261078599, -87.66885536497014 41.70964920923059, -87.66885223170193 41.709669004602844, -87.66882554772698 41.70978482575485, -87.66880561272654 41.70987137626016, -87.6687908308552 41.709919810687666, -87.66875004266201 41.71005382681344, -87.66874465941672 41.71007157884018, -87.6687141170751 41.71015669581868, -87.66865029492074 41.71032238416427, -87.66851425193909 41.71032453598952, -87.66845362159076 41.710450588700624, -87.66843346762735 41.71048719087766, -87.66835053309248 41.710638087967475, -87.66834247534581 41.710652422007946, -87.66824958095584 41.710817257595174, -87.66820899125089 41.71088930776732, -87.6681612102864 41.710983820081196, -87.66807626629003 41.71115199508132, -87.6680739495878 41.711156426783255, -87.66800204590274 41.71131715734688, -87.66795278492602 41.711427303979214, -87.66793111814357 41.71148272398223, -87.66786649353739 41.711647831868326, -87.66784557702029 41.711701444658665, -87.6678079455055 41.71181325041798, -87.66775247536422 41.71197846707027, -87.66801475710905 41.71197405789068, -87.66827711148403 41.711969593610235, -87.66826222583191 41.712134551977854, -87.66826581673422 41.712269373939684, -87.66826945385621 41.712406940484975, -87.66827309092056 41.71254439718179, -87.66827672743051 41.71268190879446, -87.66828036451824 41.71281936548473, -87.66828400168698 41.712956932016915, -87.66828763823199 41.7130944436197, -87.66829127478867 41.71323195521924, -87.66829305730764 41.713300683349566, -87.66829491192316 41.71336941189633, -87.66829855026161 41.71350686947747, -87.66830218685335 41.71364438106716, -87.66830582289066 41.71378194757268, -87.66878204793878 41.71377361549164, -87.66907496251841 41.71376844827235, -87.66908037187667 41.713968759872834, -87.66909001368074 41.7143008142099, -87.66879702709562 41.71430352124462, -87.66830337348937 41.71431087376058, -87.66830489050436 41.71436269595327, -87.66824635272077 41.71436356455737, -87.66811520926308 41.71436554977356, -87.66802465580021 41.7143668919931, -87.66793395454951 41.714368232385134, -87.66775284584143 41.71437097137919, -87.66775671024955 41.71450760552547, -87.66775928614472 41.714598732167445, -87.66776057409439 41.7146442954879, -87.66776186204547 41.71468985880795, -87.66776436522159 41.71478093010344, -87.66776822966735 41.71491756423994, -87.66777080558761 41.71500869087542, -87.66777209354984 41.71505425419261, -87.66777338151346 41.71509981750945, -87.66777595921312 41.71519088922992, -87.6677798236874 41.715327524257006, -87.66778232634458 41.71541864956114, -87.66778361431938 41.715464212875105, -87.66778490286214 41.71550972126957, -87.66778747938528 41.71560079297661, -87.66779257047295 41.71578183848036, -87.66779626437271 41.71591369696055, -87.66780012445837 41.71605088026792, -87.66780405608685 41.71618811890864, -87.66780791442041 41.716325358021905, -87.66781177277586 41.71646259623157, -87.66781563114392 41.716599834437964, -87.66831025511468 41.716592379818174, -87.66836879492077 41.71659151119664, -87.66886349210293 41.71658405371832, -87.66915648482575 41.716579655678046, -87.66916032530938 41.71671178955962, -87.66916433428439 41.71684891874495, -87.6691682706095 41.71698610242942, -87.66917227903618 41.717123287427654, -87.66917628748536 41.71726047152223, -87.66918029651323 41.7173976006945, -87.6691856109217 41.71757870229974, -87.66918927963201 41.71770616946638, -87.66918965203126 41.71771983828003, -87.6691932898245 41.71784318969013, -87.66919729947409 41.71798026392939, -87.66920130912767 41.718117339065664, -87.66920524606846 41.71825435795566, -87.66920925574838 41.718391433085365, -87.66921326545085 41.71852850731154, -87.66921727573202 41.71866552661532, -87.66922128545173 41.71880260173525, -87.66922522309405 41.7189396755349, -87.66893229287349 41.71894396514946, -87.6684364082337 41.718951196333244, -87.66844034244488 41.71908832505624, -87.668444276669 41.71922545377594, -87.66844982891415 41.71940649010435, -87.66828649165114 41.71940890416752, -87.66812222078997 41.7194113017895, -87.6679578772527 41.71941375367812, -87.66779360638238 41.71941614992982, -87.66762757751316 41.71941864650716, -87.66763916139024 41.71982942819578, -87.66764258374445 41.71995206436748, -87.66780861405506 41.7199496776238, -87.66797288571769 41.719947336279844, -87.66813722948173 41.71994499421802, -87.66829878956231 41.719942691633456, -87.66830186714627 41.72007767520976, -87.6683037833442 41.7201617714795, -87.66830500100454 41.720214195132876, -87.66830788102455 41.720339901989284, -87.66830813663094 41.720350661040996, -87.66831138201704 41.72049058588664, -87.66831451200963 41.720627600078366, -87.66798669881378 41.7206322337081, -87.66766189094804 41.72063677486812, -87.66756113221338 41.72063794774337, -87.66751503499651 41.720639324721034, -87.66751617307632 41.7206857748891, -87.66747087712268 41.72068671351173, -87.66742931038756 41.720687639513514, -87.66736999465382 41.720688688628556, -87.66736968681339 41.720669385701015, -87.66736010490992 41.720327332478945, -87.66735682528424 41.72021210714656))",
                        "count": 1
                      },
                      {
                        "name": "129 others",
                        "count": 129
                      }
                    ]
                  }
                },
                {
                  "name": "_deepnote_index_column",
                  "dtype": "int64"
                }
              ],
              "rows": [
                {
                  "geometry": "POLYGON ((-87.75330719223057 41.96016480790079, -87.7532996646495 41.95982728644748, -87.75320722277667 41.95982841115912, -87.75309617420967 41.95982982530078, -87.75303620220222 41.95983056116923, -87.75289153380929 41.95965124122119, -87.75259724939905 41.95931155650393, -87.75245369767332 41.95931329899065, -87.75239486424982 41.95931409970721, -87.75239350486704 41.959269471552425, -87.75238220221725 41.958926991677465, -87.75223512105686 41.958928826773, -87.75209093703248 41.95874950374326, -87.75179695280998 41.958410092152015, -87.75177952353617 41.95841027846757, -87.75166906651906 41.95841164020868, -87.75166652464587 41.958367774930295, -87.75165530477202 41.958024855993344, -87.75132489228669 41.95802866990005, -87.75130587739105 41.9578477303961, -87.75114921375996 41.95766658544432, -87.75110017039549 41.95760986079838, -87.7510503257778 41.9575522542448, -87.7510004817495 41.95749459275196, -87.75095063852508 41.95743698526094, -87.7509007946758 41.957379323724794, -87…",
                  "_deepnote_index_column": 0
                },
                {
                  "geometry": "POLYGON ((-87.66735682528424 41.72021210714656, -87.66734648195322 41.71984452770874, -87.6673350784877 41.71943775276876, -87.66733179212659 41.71932318644711, -87.66732113444107 41.71894347539638, -87.66731856190681 41.71885207422125, -87.66731598937814 41.71876067304471, -87.6673134168458 41.718669272767, -87.66731020328791 41.71855476087359, -87.66730698980632 41.718440358823, -87.66730574646829 41.71839748518015, -87.66730370296509 41.71832584650017, -87.66730048886654 41.71821138951901, -87.66729277196386 41.71793713283592, -87.66728768275503 41.71775603246764, -87.66727862313219 41.71743445552698, -87.66727476645646 41.71729716151103, -87.6672709085824 41.71715986838517, -87.66726705192256 41.717022575263, -87.6672631952754 41.71688528213755, -87.66725926535102 41.716747987683625, -87.66725540872919 41.71661069455159, -87.66725171534681 41.71647889099688, -87.66725155211996 41.716473401416316, -87.66724769552336 41.71633610827776, -87.66724383894864 41.716198814235575, -87.6672…",
                  "_deepnote_index_column": 1
                },
                {
                  "geometry": "POLYGON ((-87.60969545058178 41.823336465144344, -87.60968552043101 41.82284995405443, -87.60931865845254 41.82285472256284, -87.60922692506043 41.82285589998841, -87.60897021811422 41.82285922162379, -87.60886153083081 41.822860621367965, -87.6087587893068 41.82286194957375, -87.60867256053999 41.822863106358895, -87.60858640338185 41.82286421041059, -87.60826695042867 41.82286834102071, -87.60675386629387 41.82287922858027, -87.60674217586619 41.8226555746293, -87.60673560830165 41.822412226432526, -87.6067313587256 41.82225588639276, -87.60672996584854 41.82220384642315, -87.60672784109805 41.82212562057953, -87.60672608379207 41.822060461121026, -87.60672432467443 41.821995355671284, -87.60672256738387 41.821930195311026, -87.60672153891066 41.82189138466899, -87.60672080577777 41.821865310429466, -87.60671868041271 41.82178714039892, -87.6067130398753 41.821578704557005, -87.60670811761632 41.82139755202379, -87.60670258243296 41.8211926840166, -87.60669704726544 41.8209878169024…",
                  "_deepnote_index_column": 2
                },
                {
                  "geometry": "POLYGON ((-87.53587168081512 41.72304325719736, -87.53449541718442 41.721365287938305, -87.53449054058083 41.72127377358583, -87.53464082062175 41.72127170569074, -87.53464276114748 41.721043576271136, -87.53463968957517 41.71801668499942, -87.53463782279653 41.715921713765255, -87.5327452510223 41.71594904914352, -87.53274600093324 41.714869703946334, -87.53349538931884 41.71486103444033, -87.53349536720386 41.714898096855734, -87.53419416501914 41.71489552715065, -87.53419407311532 41.715541230382485, -87.53463785075118 41.715534820539474, -87.53463834256159 41.71442425508923, -87.530259358839 41.711283454175465, -87.52537843890269 41.707718277420696, -87.52454781677382 41.70703063593364, -87.52454650384846 41.70674379032259, -87.52454417552656 41.706234264746456, -87.52576904379659 41.70729417285549, -87.52791182548064 41.70887779418857, -87.53329366439456 41.71271751156999, -87.53458558245256 41.7136391357682, -87.5245353317171 41.70432462398628, -87.52453328697746 41.703885930118…",
                  "_deepnote_index_column": 3
                },
                {
                  "geometry": "POLYGON ((-87.5269111748688 41.726297444771326, -87.52690648161246 41.726101673191444, -87.52690037650775 41.725846963017155, -87.52689318014906 41.72554679490736, -87.52688693039117 41.725286070176175, -87.52688128486182 41.725050551704165, -87.52648650211178 41.7250547121688, -87.52600481078943 41.72505978680075, -87.52559941907886 41.72506405605241, -87.52531211469557 41.72506708079789, -87.52528552355538 41.72503171126377, -87.52524846278554 41.72494266234913, -87.52523175425847 41.72490251565403, -87.52519016913338 41.72482935239831, -87.5251608239726 41.72477774074391, -87.52513763215084 41.72473697580442, -87.52513224266161 41.72470526856681, -87.52516194659853 41.724661787426555, -87.52516080186659 41.724608416724124, -87.52515959654802 41.72455220855461, -87.52515820094199 41.72448711337402, -87.52511539784578 41.72444671919751, -87.52508477909011 41.72441782459903, -87.52506316791691 41.72440016414478, -87.52504191974691 41.724361788910954, -87.52502612935496 41.724333271413…",
                  "_deepnote_index_column": 4
                },
                {
                  "geometry": "POLYGON ((-87.62943365710794 41.8352742314258, -87.62941735913972 41.834725498585456, -87.6290873529538 41.834731260064984, -87.62908557637522 41.8345501370905, -87.62903640658178 41.8328933257807, -87.62903412912907 41.83281654277123, -87.62903384015287 41.83280282060102, -87.62851232014991 41.83281186087836, -87.62851426391252 41.83290232353266, -87.62800639758922 41.83291111576667, -87.62776431835117 41.83291528224278, -87.62679187537707 41.83293206441988, -87.62678951518309 41.832841593777005, -87.626787883731 41.83275097725742, -87.62678633104251 41.83268505325518, -87.62678494750901 41.832619073570854, -87.62678344661697 41.83255314718467, -87.62678197761934 41.83248716697308, -87.62678050862377 41.832421186760754, -87.62677903782254 41.832355261457764, -87.62677756641372 41.83228928212939, -87.62677606251505 41.832223301700076, -87.62677458930267 41.83215737728032, -87.62677311430865 41.83209139612693, -87.6267716398967 41.832025471698266, -87.62677016308922 41.83195954635372, …",
                  "_deepnote_index_column": 5
                },
                {
                  "geometry": "POLYGON ((-87.64061334117153 41.89664576934212, -87.64050192963589 41.89664643330811, -87.64040759298832 41.89664762065865, -87.64031208089555 41.896648854858086, -87.64021649708525 41.89665003452491, -87.64012098436653 41.89665121454131, -87.64001254162388 41.89665259011471, -87.6397701605538 41.89665568215555, -87.6396743550125 41.89665686003185, -87.63957678598376 41.896658082094746, -87.63947921695242 41.89665930407479, -87.63938164792825 41.89666052507157, -87.6392840782971 41.89666180180272, -87.63918643576365 41.89666302218934, -87.63908886672183 41.89666424383759, -87.63899132402497 41.89666614801836, -87.63889375043449 41.896667232621894, -87.63879801368515 41.89666828683661, -87.63865330509991 41.89666994416469, -87.63856718058027 41.896670937491066, -87.63855816566571 41.89667103420503, -87.63855569717154 41.89667141631887, -87.63848204122253 41.89667209517351, -87.63846513424487 41.89639784804916, -87.63846193780772 41.89623871826806, -87.63845698554346 41.895995110839955,…",
                  "_deepnote_index_column": 6
                },
                {
                  "geometry": "POLYGON ((-87.63372867590951 41.88381875408928, -87.63402247098985 41.88381779930522, -87.63427821918872 41.883816940796656, -87.63431868940374 41.883816803599466, -87.63431933574532 41.88384140121805, -87.634319914747 41.88386609746403, -87.63432538044452 41.88408566960562, -87.63433215746997 41.884360025494196, -87.63434618678653 41.88436000104627, -87.63440678270278 41.88435976573326, -87.6346330799313 41.88435900269326, -87.63477902395279 41.8843585184399, -87.63492717025939 41.88435804739459, -87.63503940055513 41.8843576872939, -87.63522632957452 41.88435706723672, -87.63552012594624 41.88435610863232, -87.63552559636095 41.88457562671281, -87.63553039988672 41.88476863022817, -87.63553105487074 41.884796241326306, -87.63567920219631 41.88479576931847, -87.6357533129032 41.88479556137847, -87.63582749770772 41.8847952980196, -87.6358302639245 41.884905633451865, -87.63583164763286 41.884960746250115, -87.63583302894352 41.885015968874725, -87.63583435408822 41.885069709198504, -…",
                  "_deepnote_index_column": 7
                },
                {
                  "geometry": "POLYGON ((-87.65863131042602 41.82133419553586, -87.65863082649129 41.821317232798705, -87.658621532612 41.821314873311145, -87.65861223930996 41.821312458904885, -87.65860302063021 41.821310044936226, -87.6585937273296 41.821307630528466, -87.65858450683014 41.821305160725935, -87.65857528752551 41.82130269182999, -87.65856606879817 41.82130016801541, -87.65855685127516 41.821297644207114, -87.65854763135516 41.82129511948366, -87.65853848662465 41.82129254118014, -87.65852926968044 41.821289962451694, -87.65851877744971 41.82128698457809, -87.65851093073174 41.82128470471112, -87.65850179573373 41.821282002213565, -87.65849267248865 41.821279326794816, -87.65848360601085 41.82127663280153, -87.6584744710435 41.821273927600934, -87.65846532189877 41.82127119710654, -87.65845624001317 41.82126848051178, -87.65844713791336 41.821265740388505, -87.65843805479736 41.82126302648615, -87.65842898459707 41.821260228926405, -87.65841991616843 41.82125737735535, -87.65841084775948 41.82125452…",
                  "_deepnote_index_column": 8
                },
                {
                  "geometry": "POLYGON ((-87.76702186358474 41.95011848432977, -87.76701661573027 41.94996372196531, -87.76677405186098 41.94996759142112, -87.76675909420186 41.949524133732965, -87.76674469707989 41.9490980236762, -87.7667283866439 41.948614381911746, -87.76671382127044 41.94818443013619, -87.76657514635762 41.94818621618315, -87.76656211371694 41.94779833815747, -87.76617560458506 41.94780324143394, -87.76615989168647 41.947272018062826, -87.7661412328322 41.946721870401745, -87.76612842590278 41.94634503862836, -87.76611519988114 41.94588325746417, -87.76610647151723 41.94556891177348, -87.76609870707837 41.94535044997222, -87.76608613680911 41.94499608258005, -87.76607394262238 41.94465304051037, -87.76606015382109 41.9442663784103, -87.766051991346 41.94403666312852, -87.76603882379467 41.94366714639652, -87.76602357217021 41.9432386268128, -87.76546620092988 41.94324520250064, -87.7648412630443 41.94325259248078, -87.76432763750219 41.94325872018976, -87.76433916393209 41.94359359768755, -87.7…",
                  "_deepnote_index_column": 9
                }
              ]
            },
            "text/plain": "                                              geometry\n0    POLYGON ((-87.75331 41.96016, -87.75330 41.959...\n1    POLYGON ((-87.66736 41.72021, -87.66735 41.719...\n2    POLYGON ((-87.60970 41.82334, -87.60969 41.822...\n3    POLYGON ((-87.53587 41.72304, -87.53450 41.721...\n4    POLYGON ((-87.52691 41.72630, -87.52691 41.726...\n..                                                 ...\n126  POLYGON ((-87.63455 41.87438, -87.63454 41.874...\n127  POLYGON ((-87.62952 41.85532, -87.62945 41.855...\n128  POLYGON ((-87.64485 41.88255, -87.64474 41.882...\n129  POLYGON ((-87.74351 41.81422, -87.74351 41.814...\n130  MULTIPOLYGON (((-87.63754 41.82730, -87.63752 ...\n\n[131 rows x 1 columns]",
            "text/html": "<div>\n<style scoped>\n    .dataframe tbody tr th:only-of-type {\n        vertical-align: middle;\n    }\n\n    .dataframe tbody tr th {\n        vertical-align: top;\n    }\n\n    .dataframe thead th {\n        text-align: right;\n    }\n</style>\n<table border=\"1\" class=\"dataframe\">\n  <thead>\n    <tr style=\"text-align: right;\">\n      <th></th>\n      <th>geometry</th>\n    </tr>\n  </thead>\n  <tbody>\n    <tr>\n      <th>0</th>\n      <td>POLYGON ((-87.75331 41.96016, -87.75330 41.959...</td>\n    </tr>\n    <tr>\n      <th>1</th>\n      <td>POLYGON ((-87.66736 41.72021, -87.66735 41.719...</td>\n    </tr>\n    <tr>\n      <th>2</th>\n      <td>POLYGON ((-87.60970 41.82334, -87.60969 41.822...</td>\n    </tr>\n    <tr>\n      <th>3</th>\n      <td>POLYGON ((-87.53587 41.72304, -87.53450 41.721...</td>\n    </tr>\n    <tr>\n      <th>4</th>\n      <td>POLYGON ((-87.52691 41.72630, -87.52691 41.726...</td>\n    </tr>\n    <tr>\n      <th>...</th>\n      <td>...</td>\n    </tr>\n    <tr>\n      <th>126</th>\n      <td>POLYGON ((-87.63455 41.87438, -87.63454 41.874...</td>\n    </tr>\n    <tr>\n      <th>127</th>\n      <td>POLYGON ((-87.62952 41.85532, -87.62945 41.855...</td>\n    </tr>\n    <tr>\n      <th>128</th>\n      <td>POLYGON ((-87.64485 41.88255, -87.64474 41.882...</td>\n    </tr>\n    <tr>\n      <th>129</th>\n      <td>POLYGON ((-87.74351 41.81422, -87.74351 41.814...</td>\n    </tr>\n    <tr>\n      <th>130</th>\n      <td>MULTIPOLYGON (((-87.63754 41.82730, -87.63752 ...</td>\n    </tr>\n  </tbody>\n</table>\n<p>131 rows × 1 columns</p>\n</div>"
          },
          "metadata": {}
        }
      ],
      "outputs_reference": null,
      "execution_count": 9,
      "block_group": "2160b333c2424ffbab0cdab0181ab150",
      "content_dependencies": null
    },
    {
      "cell_type": "code",
      "source": "# Map of Chicago\nchicago_map = gpd.read_file(geodatasets.get_path(\"geoda.chicago_commpop\"))\nchicago_map = chicago_map['geometry']\n\nchicago_map.plot()",
      "metadata": {
        "source_hash": "a897ef9",
        "execution_start": 1709859561412,
        "execution_millis": 557,
        "deepnote_to_be_reexecuted": false,
        "cell_id": "7763aae598994bca9171b83299b0144e",
        "deepnote_cell_type": "code"
      },
      "outputs": [
        {
          "name": "stderr",
          "text": "Downloading file 'chicago_commpop.zip' from 'https://geodacenter.github.io/data-and-lab//data/chicago_commpop.zip' to '/root/.cache/geodatasets'.\nExtracting 'chicago_commpop/chicago_commpop.geojson' from '/root/.cache/geodatasets/chicago_commpop.zip' to '/root/.cache/geodatasets/chicago_commpop.zip.unzip'\n",
          "output_type": "stream"
        },
        {
          "output_type": "execute_result",
          "execution_count": 10,
          "data": {
            "text/plain": "<AxesSubplot: >"
          },
          "metadata": {}
        },
        {
          "data": {
            "text/plain": "<Figure size 640x480 with 1 Axes>",
            "image/png": "[encoded data removed]"
          },
          "metadata": {
            "image/png": {
              "width": 372,
              "height": 413
            }
          },
          "output_type": "display_data"
        }
      ],
      "outputs_reference": null,
      "execution_count": 10,
      "block_group": "e248e32cc1d14680a043777511cbab93",
      "content_dependencies": null
    },
    {
      "cell_type": "code",
      "source": "# df_1 = df_1.dropna()\n\n# df_1['BUSINESS_ACTIVITY'].unique()\n\n# for index, row in df_1.iterrows():\n#     business_activity = row['BUSINESS_ACTIVITY'].lower()\n#     if \"dining\" in business_activity:\n#         df_1.at[index, 'TYPE'] = \"Restaurant\"\n#     elif \"fuel\" in business_activity:\n#         df_1.at[index, 'TYPE'] = \"Gas Stations\"\n#     elif \"food\" in business_activity:\n#         df_1.at[index, 'TYPE'] = \"Groceries\"\n#     elif \"retail\" in business_activity or \"wholesale\" in business_activity:\n#         df_1.at[index, 'TYPE'] = \"Sales\"\n#     elif \"finance\" in business_activity or \"accounting\" in business_activity:\n#         df_1.at[index, 'TYPE'] = \"Financial\"\n#     elif \"liquor\" in business_activity or \"bar\" in business_activity:\n#         df_1.at[index, 'TYPE'] = \"Alcohol\"\n#     else:\n#         df_1.at[index, 'TYPE'] = \"TBD\"\n\n",
      "metadata": {
        "source_hash": "2b29a395",
        "execution_start": 1709859562105,
        "execution_millis": 368,
        "deepnote_to_be_reexecuted": false,
        "cell_id": "be186cf05ed44fbfa5ca95f3c87bab90",
        "deepnote_cell_type": "code"
      },
      "outputs": [],
      "outputs_reference": null,
      "execution_count": 11,
      "block_group": "8977e84babc5456a82181b819a8fb79c",
      "content_dependencies": null
    },
    {
      "cell_type": "code",
      "source": "df_1[df_1[\"TYPE\"]==\"TBD\"][\"BUSINESS_ACTIVITY\"].unique()",
      "metadata": {
        "source_hash": "709fc387",
        "execution_start": 1709859562126,
        "execution_millis": 3645,
        "deepnote_to_be_reexecuted": false,
        "cell_id": "df0e646220a2439c80a4bcb3e8f0d02f",
        "deepnote_cell_type": "code"
      },
      "outputs": [
        {
          "output_type": "error",
          "ename": "KeyError",
          "evalue": "'TYPE'",
          "traceback": [
            "\u001b[0;31m---------------------------------------------------------------------------\u001b[0m",
            "\u001b[0;31mKeyError\u001b[0m                                  Traceback (most recent call last)",
            "File \u001b[0;32m/shared-libs/python3.9/py/lib/python3.9/site-packages/pandas/core/indexes/base.py:3791\u001b[0m, in \u001b[0;36mIndex.get_loc\u001b[0;34m(self, key)\u001b[0m\n\u001b[1;32m   3790\u001b[0m \u001b[38;5;28;01mtry\u001b[39;00m:\n\u001b[0;32m-> 3791\u001b[0m     \u001b[38;5;28;01mreturn\u001b[39;00m \u001b[38;5;28;43mself\u001b[39;49m\u001b[38;5;241;43m.\u001b[39;49m\u001b[43m_engine\u001b[49m\u001b[38;5;241;43m.\u001b[39;49m\u001b[43mget_loc\u001b[49m\u001b[43m(\u001b[49m\u001b[43mcasted_key\u001b[49m\u001b[43m)\u001b[49m\n\u001b[1;32m   3792\u001b[0m \u001b[38;5;28;01mexcept\u001b[39;00m \u001b[38;5;167;01mKeyError\u001b[39;00m \u001b[38;5;28;01mas\u001b[39;00m err:\n",
            "File \u001b[0;32mindex.pyx:152\u001b[0m, in \u001b[0;36mpandas._libs.index.IndexEngine.get_loc\u001b[0;34m()\u001b[0m\n",
            "File \u001b[0;32mindex.pyx:181\u001b[0m, in \u001b[0;36mpandas._libs.index.IndexEngine.get_loc\u001b[0;34m()\u001b[0m\n",
            "File \u001b[0;32mpandas/_libs/hashtable_class_helper.pxi:7080\u001b[0m, in \u001b[0;36mpandas._libs.hashtable.PyObjectHashTable.get_item\u001b[0;34m()\u001b[0m\n",
            "File \u001b[0;32mpandas/_libs/hashtable_class_helper.pxi:7088\u001b[0m, in \u001b[0;36mpandas._libs.hashtable.PyObjectHashTable.get_item\u001b[0;34m()\u001b[0m\n",
            "\u001b[0;31mKeyError\u001b[0m: 'TYPE'",
            "\nThe above exception was the direct cause of the following exception:\n",
            "\u001b[0;31mKeyError\u001b[0m                                  Traceback (most recent call last)",
            "Cell \u001b[0;32mIn [12], line 1\u001b[0m\n\u001b[0;32m----> 1\u001b[0m df_1[\u001b[43mdf_1\u001b[49m\u001b[43m[\u001b[49m\u001b[38;5;124;43m\"\u001b[39;49m\u001b[38;5;124;43mTYPE\u001b[39;49m\u001b[38;5;124;43m\"\u001b[39;49m\u001b[43m]\u001b[49m\u001b[38;5;241m==\u001b[39m\u001b[38;5;124m\"\u001b[39m\u001b[38;5;124mTBD\u001b[39m\u001b[38;5;124m\"\u001b[39m][\u001b[38;5;124m\"\u001b[39m\u001b[38;5;124mBUSINESS_ACTIVITY\u001b[39m\u001b[38;5;124m\"\u001b[39m]\u001b[38;5;241m.\u001b[39munique()\n",
            "File \u001b[0;32m/shared-libs/python3.9/py/lib/python3.9/site-packages/pandas/core/frame.py:3893\u001b[0m, in \u001b[0;36mDataFrame.__getitem__\u001b[0;34m(self, key)\u001b[0m\n\u001b[1;32m   3891\u001b[0m \u001b[38;5;28;01mif\u001b[39;00m \u001b[38;5;28mself\u001b[39m\u001b[38;5;241m.\u001b[39mcolumns\u001b[38;5;241m.\u001b[39mnlevels \u001b[38;5;241m>\u001b[39m \u001b[38;5;241m1\u001b[39m:\n\u001b[1;32m   3892\u001b[0m     \u001b[38;5;28;01mreturn\u001b[39;00m \u001b[38;5;28mself\u001b[39m\u001b[38;5;241m.\u001b[39m_getitem_multilevel(key)\n\u001b[0;32m-> 3893\u001b[0m indexer \u001b[38;5;241m=\u001b[39m \u001b[38;5;28;43mself\u001b[39;49m\u001b[38;5;241;43m.\u001b[39;49m\u001b[43mcolumns\u001b[49m\u001b[38;5;241;43m.\u001b[39;49m\u001b[43mget_loc\u001b[49m\u001b[43m(\u001b[49m\u001b[43mkey\u001b[49m\u001b[43m)\u001b[49m\n\u001b[1;32m   3894\u001b[0m \u001b[38;5;28;01mif\u001b[39;00m is_integer(indexer):\n\u001b[1;32m   3895\u001b[0m     indexer \u001b[38;5;241m=\u001b[39m [indexer]\n",
            "File \u001b[0;32m/shared-libs/python3.9/py/lib/python3.9/site-packages/pandas/core/indexes/base.py:3798\u001b[0m, in \u001b[0;36mIndex.get_loc\u001b[0;34m(self, key)\u001b[0m\n\u001b[1;32m   3793\u001b[0m     \u001b[38;5;28;01mif\u001b[39;00m \u001b[38;5;28misinstance\u001b[39m(casted_key, \u001b[38;5;28mslice\u001b[39m) \u001b[38;5;129;01mor\u001b[39;00m (\n\u001b[1;32m   3794\u001b[0m         \u001b[38;5;28misinstance\u001b[39m(casted_key, abc\u001b[38;5;241m.\u001b[39mIterable)\n\u001b[1;32m   3795\u001b[0m         \u001b[38;5;129;01mand\u001b[39;00m \u001b[38;5;28many\u001b[39m(\u001b[38;5;28misinstance\u001b[39m(x, \u001b[38;5;28mslice\u001b[39m) \u001b[38;5;28;01mfor\u001b[39;00m x \u001b[38;5;129;01min\u001b[39;00m casted_key)\n\u001b[1;32m   3796\u001b[0m     ):\n\u001b[1;32m   3797\u001b[0m         \u001b[38;5;28;01mraise\u001b[39;00m InvalidIndexError(key)\n\u001b[0;32m-> 3798\u001b[0m     \u001b[38;5;28;01mraise\u001b[39;00m \u001b[38;5;167;01mKeyError\u001b[39;00m(key) \u001b[38;5;28;01mfrom\u001b[39;00m \u001b[38;5;21;01merr\u001b[39;00m\n\u001b[1;32m   3799\u001b[0m \u001b[38;5;28;01mexcept\u001b[39;00m \u001b[38;5;167;01mTypeError\u001b[39;00m:\n\u001b[1;32m   3800\u001b[0m     \u001b[38;5;66;03m# If we have a listlike key, _check_indexing_error will raise\u001b[39;00m\n\u001b[1;32m   3801\u001b[0m     \u001b[38;5;66;03m#  InvalidIndexError. Otherwise we fall through and re-raise\u001b[39;00m\n\u001b[1;32m   3802\u001b[0m     \u001b[38;5;66;03m#  the TypeError.\u001b[39;00m\n\u001b[1;32m   3803\u001b[0m     \u001b[38;5;28mself\u001b[39m\u001b[38;5;241m.\u001b[39m_check_indexing_error(key)\n",
            "\u001b[0;31mKeyError\u001b[0m: 'TYPE'"
          ]
        }
      ],
      "outputs_reference": null,
      "execution_count": 12,
      "block_group": "ee0bcefd5a6c4522a189f399e67ec48d",
      "content_dependencies": null
    },
    {
      "cell_type": "code",
      "source": "# unique_counts = df_1['BUSINESS_ACTIVITY'].value_counts()\n\n# unique_counts_df = unique_counts.reset_index()\n# unique_counts_df.columns = ['Category', 'Count']\n\n# print(\"Counts of unique values in the 'Category' column:\")\n# print(unique_counts_df)",
      "metadata": {
        "source_hash": "afc3700f",
        "execution_start": 1709256103465,
        "execution_millis": 335,
        "deepnote_to_be_reexecuted": true,
        "cell_id": "48c37ad067be402eae0f1b6eeb93646e",
        "deepnote_cell_type": "code"
      },
      "outputs": [
        {
          "name": "stdout",
          "text": "Counts of unique values in the 'Category' column:\n                                               Category   Count\n0                      Retail Sales of Perishable Foods  133864\n1                                Retail Sale of Tobacco   43427\n2                     Consumption of Liquor on Premises   34670\n3             Tavern - Consumption of Liquor on Premise   17870\n4                       Retail Sales of Packaged Liquor   15383\n...                                                 ...     ...\n3437  Electronic Equipment Repair | Retail Sales of ...       1\n3438  Printing Activities, Metal Processing | Retail...       1\n3439  Clothing Alterations | Dry Cleaning - Drop Off...       1\n3440  Miscellaneous Personal Services | Rental of Ge...       1\n3441  Professional Consulting (Home Based Business) ...       1\n\n[3442 rows x 2 columns]\n",
          "output_type": "stream"
        }
      ],
      "outputs_reference": null,
      "execution_count": null,
      "block_group": "031e44aa5493451282c389889dd5cdec",
      "content_dependencies": null
    },
    {
      "cell_type": "code",
      "source": "df_2 = _deepnote_execute_sql('SELECT LEGAL_NAME,ADDRESS, COUNT(*) as Count\\nFROM all_df\\nGROUP BY LEGAL_NAME, ADDRESS\\nORDER BY Count DESC;', 'SQL_DEEPNOTE_DATAFRAME_SQL', audit_sql_comment='', sql_cache_mode='cache_disabled')\ndf_2",
      "metadata": {
        "source_hash": "f1eaf5f2",
        "execution_start": 1709662371013,
        "execution_millis": 354,
        "sql_integration_id": "deepnote-dataframe-sql",
        "deepnote_table_state": {
          "sortBy": [],
          "filters": [],
          "pageSize": 10,
          "pageIndex": 1
        },
        "deepnote_table_loading": false,
        "deepnote_variable_name": "df_2",
        "deepnote_to_be_reexecuted": true,
        "cell_id": "076b1ab4dae54934a829178b355328d6",
        "deepnote_cell_type": "sql",
        "deepnote_sql_source": "SELECT LEGAL_NAME,ADDRESS, COUNT(*) as Count\nFROM all_df\nGROUP BY LEGAL_NAME, ADDRESS\nORDER BY Count DESC;"
      },
      "outputs": [
        {
          "output_type": "execute_result",
          "execution_count": 13,
          "data": {
            "application/vnd.deepnote.dataframe.v3+json": {
              "column_count": 3,
              "row_count": 222253,
              "columns": [
                {
                  "name": "LEGAL_NAME",
                  "dtype": "object"
                },
                {
                  "name": "ADDRESS",
                  "dtype": "object"
                },
                {
                  "name": "Count",
                  "dtype": "int64"
                },
                {
                  "name": "_deepnote_index_column",
                  "dtype": "int64"
                }
              ],
              "rows": [
                {
                  "LEGAL_NAME": "FELIPE BENITEZ",
                  "ADDRESS": "2113 N MAJOR AVE",
                  "Count": 245,
                  "_deepnote_index_column": 10
                },
                {
                  "LEGAL_NAME": "PALETERIAS MONARCA, CORP.",
                  "ADDRESS": "6955 N CLARK ST",
                  "Count": 243,
                  "_deepnote_index_column": 11
                },
                {
                  "LEGAL_NAME": "MARSHALL FIELD'S CHICAGO, INC.",
                  "ADDRESS": "111 N STATE ST",
                  "Count": 233,
                  "_deepnote_index_column": 12
                },
                {
                  "LEGAL_NAME": "CHICAGO HILTON LLC",
                  "ADDRESS": "720 S MICHIGAN AVE",
                  "Count": 229,
                  "_deepnote_index_column": 13
                },
                {
                  "LEGAL_NAME": "THUNDERBIRD CATERING CO.",
                  "ADDRESS": "1204 W 36TH PL",
                  "Count": 219,
                  "_deepnote_index_column": 14
                },
                {
                  "LEGAL_NAME": "RAFAEL MAGALLON",
                  "ADDRESS": "2215 S KEDZIE AVE",
                  "Count": 217,
                  "_deepnote_index_column": 15
                },
                {
                  "LEGAL_NAME": "JOSE LOPEZ",
                  "ADDRESS": "4219 N KEDZIE AVE",
                  "Count": 196,
                  "_deepnote_index_column": 16
                },
                {
                  "LEGAL_NAME": "PALETERIA PONCHO INC",
                  "ADDRESS": "2513 S PULASKI RD",
                  "Count": 185,
                  "_deepnote_index_column": 17
                },
                {
                  "LEGAL_NAME": "HYATT CORPORATION",
                  "ADDRESS": "2233 S DR MARTIN LUTHER KING JR DR",
                  "Count": 181,
                  "_deepnote_index_column": 18
                },
                {
                  "LEGAL_NAME": "CONGRESS PLAZA HOTEL, LLC",
                  "ADDRESS": "520 S MICHIGAN AVE",
                  "Count": 170,
                  "_deepnote_index_column": 19
                }
              ]
            },
            "text/plain": "                               LEGAL_NAME                    ADDRESS  Count\n0       ALLIED WASTE TRANSPORTATION, INC.           2608 S DAMEN AVE   1189\n1       WASTE MANAGEMENT OF ILLINOIS INC.           1500 N HOOKER ST    975\n2                 TRIPLE A SERVICES, INC.           2637 S THROOP ST    612\n3                 FLOOD BROS DISPOSAL CO.    4815-4835 W HARRISON ST    409\n4                           RAUL MARTINEZ             2404 W 46TH PL    343\n...                                   ...                        ...    ...\n222248                 BARK CHICAGO, INC.  1765 N ELSTON AVE 1ST 104      1\n222249                   SABOR LATINO INC         200 S MICHIGAN AVE      1\n222250                          AWA FOMBA       11551 S CARPENTER ST      1\n222251   LOS DOS LAREDOS RESTAURANT, INC.         100 S MICHIGAN AVE      1\n222252                  TERRANCE J. WATTS         9932 S SANGAMON ST      1\n\n[222253 rows x 3 columns]",
            "text/html": "<div>\n<style scoped>\n    .dataframe tbody tr th:only-of-type {\n        vertical-align: middle;\n    }\n\n    .dataframe tbody tr th {\n        vertical-align: top;\n    }\n\n    .dataframe thead th {\n        text-align: right;\n    }\n</style>\n<table border=\"1\" class=\"dataframe\">\n  <thead>\n    <tr style=\"text-align: right;\">\n      <th></th>\n      <th>LEGAL_NAME</th>\n      <th>ADDRESS</th>\n      <th>Count</th>\n    </tr>\n  </thead>\n  <tbody>\n    <tr>\n      <th>0</th>\n      <td>ALLIED WASTE TRANSPORTATION, INC.</td>\n      <td>2608 S DAMEN AVE</td>\n      <td>1189</td>\n    </tr>\n    <tr>\n      <th>1</th>\n      <td>WASTE MANAGEMENT OF ILLINOIS INC.</td>\n      <td>1500 N HOOKER ST</td>\n      <td>975</td>\n    </tr>\n    <tr>\n      <th>2</th>\n      <td>TRIPLE A SERVICES, INC.</td>\n      <td>2637 S THROOP ST</td>\n      <td>612</td>\n    </tr>\n    <tr>\n      <th>3</th>\n      <td>FLOOD BROS DISPOSAL CO.</td>\n      <td>4815-4835 W HARRISON ST</td>\n      <td>409</td>\n    </tr>\n    <tr>\n      <th>4</th>\n      <td>RAUL MARTINEZ</td>\n      <td>2404 W 46TH PL</td>\n      <td>343</td>\n    </tr>\n    <tr>\n      <th>...</th>\n      <td>...</td>\n      <td>...</td>\n      <td>...</td>\n    </tr>\n    <tr>\n      <th>222248</th>\n      <td>BARK CHICAGO, INC.</td>\n      <td>1765 N ELSTON AVE 1ST 104</td>\n      <td>1</td>\n    </tr>\n    <tr>\n      <th>222249</th>\n      <td>SABOR LATINO INC</td>\n      <td>200 S MICHIGAN AVE</td>\n      <td>1</td>\n    </tr>\n    <tr>\n      <th>222250</th>\n      <td>AWA FOMBA</td>\n      <td>11551 S CARPENTER ST</td>\n      <td>1</td>\n    </tr>\n    <tr>\n      <th>222251</th>\n      <td>LOS DOS LAREDOS RESTAURANT, INC.</td>\n      <td>100 S MICHIGAN AVE</td>\n      <td>1</td>\n    </tr>\n    <tr>\n      <th>222252</th>\n      <td>TERRANCE J. WATTS</td>\n      <td>9932 S SANGAMON ST</td>\n      <td>1</td>\n    </tr>\n  </tbody>\n</table>\n<p>222253 rows × 3 columns</p>\n</div>"
          },
          "metadata": {}
        }
      ],
      "outputs_reference": null,
      "execution_count": null,
      "block_group": "b5e7b770747f416a8f8cba547b0c940f",
      "content_dependencies": null
    },
    {
      "cell_type": "code",
      "source": "df_6 = _deepnote_execute_sql('SELECT DISTINCT LATITUDE, LONGITUDE, LEGAL_NAME\\nFROM all_df;', 'SQL_DEEPNOTE_DATAFRAME_SQL', audit_sql_comment='', sql_cache_mode='cache_disabled')\ndf_6",
      "metadata": {
        "source_hash": "b1ebb45",
        "execution_start": 1709663072118,
        "execution_millis": 186,
        "sql_integration_id": "deepnote-dataframe-sql",
        "deepnote_table_state": {
          "sortBy": [],
          "filters": [],
          "pageSize": 10,
          "pageIndex": 0
        },
        "deepnote_table_loading": false,
        "deepnote_variable_name": "df_6",
        "deepnote_to_be_reexecuted": true,
        "cell_id": "096eb3da466b47f3a5a52ddcbd3ef0be",
        "deepnote_cell_type": "sql",
        "deepnote_sql_source": "SELECT DISTINCT LATITUDE, LONGITUDE, LEGAL_NAME\nFROM all_df;"
      },
      "outputs": [
        {
          "output_type": "execute_result",
          "execution_count": 17,
          "data": {
            "application/vnd.deepnote.dataframe.v3+json": {
              "column_count": 3,
              "row_count": 216722,
              "columns": [
                {
                  "name": "LATITUDE",
                  "dtype": "float64"
                },
                {
                  "name": "LONGITUDE",
                  "dtype": "float64"
                },
                {
                  "name": "LEGAL_NAME",
                  "dtype": "object"
                },
                {
                  "name": "_deepnote_index_column",
                  "dtype": "int64"
                }
              ],
              "rows": [
                {
                  "LATITUDE": 41.820284936,
                  "LONGITUDE": -87.665396822,
                  "LEGAL_NAME": "TTX COMPANY",
                  "_deepnote_index_column": 0
                },
                {
                  "LATITUDE": 42.019413271,
                  "LONGITUDE": -87.688628188,
                  "LEGAL_NAME": "JYM INVESTMENTS LLC",
                  "_deepnote_index_column": 1
                },
                {
                  "LATITUDE": 41.885944958,
                  "LONGITUDE": -87.653461783,
                  "LEGAL_NAME": "LEOPARDO COMPANIES INC.",
                  "_deepnote_index_column": 2
                },
                {
                  "LATITUDE": 41.961655309,
                  "LONGITUDE": -87.655649945,
                  "LEGAL_NAME": "1021 MONTROSE, L.L.C.",
                  "_deepnote_index_column": 3
                },
                {
                  "LATITUDE": 41.893251198,
                  "LONGITUDE": -87.632493012,
                  "LEGAL_NAME": "GRAHAM ENTERPRISE INC",
                  "_deepnote_index_column": 4
                },
                {
                  "LATITUDE": 41.997597404,
                  "LONGITUDE": -87.691331516,
                  "LEGAL_NAME": "MEHRAB MANAGEMENT, INC.",
                  "_deepnote_index_column": 5
                },
                {
                  "LATITUDE": 41.899354739,
                  "LONGITUDE": -87.621791302,
                  "LEGAL_NAME": "ELIAS A. KANELLOPOULOS",
                  "_deepnote_index_column": 6
                },
                {
                  "LATITUDE": 41.930322481,
                  "LONGITUDE": -87.665386892,
                  "LEGAL_NAME": "Silverwolf Productions LLC",
                  "_deepnote_index_column": 7
                },
                {
                  "LATITUDE": 41.830728826,
                  "LONGITUDE": -87.655813252,
                  "LEGAL_NAME": "DOMONANT MEDIA LLC",
                  "_deepnote_index_column": 8
                },
                {
                  "LATITUDE": 41.939420519,
                  "LONGITUDE": -87.681875251,
                  "LEGAL_NAME": "NAIL JUNKIE ROSCOE, INC.",
                  "_deepnote_index_column": 9
                }
              ]
            },
            "text/plain": "         LATITUDE  LONGITUDE                        LEGAL_NAME\n0       41.820285 -87.665397                       TTX COMPANY\n1       42.019413 -87.688628               JYM INVESTMENTS LLC\n2       41.885945 -87.653462           LEOPARDO COMPANIES INC.\n3       41.961655 -87.655650             1021 MONTROSE, L.L.C.\n4       41.893251 -87.632493             GRAHAM ENTERPRISE INC\n...           ...        ...                               ...\n216717  41.914743 -87.664978                BARK CHICAGO, INC.\n216718  41.879489 -87.624498                  SABOR LATINO INC\n216719  41.683502 -87.648037                         AWA FOMBA\n216720  41.880771 -87.624483  LOS DOS LAREDOS RESTAURANT, INC.\n216721  41.713160 -87.646789                 TERRANCE J. WATTS\n\n[216722 rows x 3 columns]",
            "text/html": "<div>\n<style scoped>\n    .dataframe tbody tr th:only-of-type {\n        vertical-align: middle;\n    }\n\n    .dataframe tbody tr th {\n        vertical-align: top;\n    }\n\n    .dataframe thead th {\n        text-align: right;\n    }\n</style>\n<table border=\"1\" class=\"dataframe\">\n  <thead>\n    <tr style=\"text-align: right;\">\n      <th></th>\n      <th>LATITUDE</th>\n      <th>LONGITUDE</th>\n      <th>LEGAL_NAME</th>\n    </tr>\n  </thead>\n  <tbody>\n    <tr>\n      <th>0</th>\n      <td>41.820285</td>\n      <td>-87.665397</td>\n      <td>TTX COMPANY</td>\n    </tr>\n    <tr>\n      <th>1</th>\n      <td>42.019413</td>\n      <td>-87.688628</td>\n      <td>JYM INVESTMENTS LLC</td>\n    </tr>\n    <tr>\n      <th>2</th>\n      <td>41.885945</td>\n      <td>-87.653462</td>\n      <td>LEOPARDO COMPANIES INC.</td>\n    </tr>\n    <tr>\n      <th>3</th>\n      <td>41.961655</td>\n      <td>-87.655650</td>\n      <td>1021 MONTROSE, L.L.C.</td>\n    </tr>\n    <tr>\n      <th>4</th>\n      <td>41.893251</td>\n      <td>-87.632493</td>\n      <td>GRAHAM ENTERPRISE INC</td>\n    </tr>\n    <tr>\n      <th>...</th>\n      <td>...</td>\n      <td>...</td>\n      <td>...</td>\n    </tr>\n    <tr>\n      <th>216717</th>\n      <td>41.914743</td>\n      <td>-87.664978</td>\n      <td>BARK CHICAGO, INC.</td>\n    </tr>\n    <tr>\n      <th>216718</th>\n      <td>41.879489</td>\n      <td>-87.624498</td>\n      <td>SABOR LATINO INC</td>\n    </tr>\n    <tr>\n      <th>216719</th>\n      <td>41.683502</td>\n      <td>-87.648037</td>\n      <td>AWA FOMBA</td>\n    </tr>\n    <tr>\n      <th>216720</th>\n      <td>41.880771</td>\n      <td>-87.624483</td>\n      <td>LOS DOS LAREDOS RESTAURANT, INC.</td>\n    </tr>\n    <tr>\n      <th>216721</th>\n      <td>41.713160</td>\n      <td>-87.646789</td>\n      <td>TERRANCE J. WATTS</td>\n    </tr>\n  </tbody>\n</table>\n<p>216722 rows × 3 columns</p>\n</div>"
          },
          "metadata": {}
        }
      ],
      "outputs_reference": null,
      "execution_count": null,
      "block_group": "c1bc2bf5c19148a5922cd0fc8e62299f",
      "content_dependencies": null
    },
    {
      "cell_type": "code",
      "source": "df_9 = _deepnote_execute_sql('SELECT LICENSE_CODE, Count(LICENSE_CODE) as cnt\\nFROM all_df\\nGROUP BY LICENSE_CODE\\nORDER BY cnt', 'SQL_DEEPNOTE_DATAFRAME_SQL', audit_sql_comment='', sql_cache_mode='cache_disabled')\ndf_9",
      "metadata": {
        "source_hash": "cf28aed7",
        "execution_start": 1709860033279,
        "execution_millis": 304,
        "sql_integration_id": "deepnote-dataframe-sql",
        "deepnote_table_state": {
          "sortBy": [],
          "filters": [],
          "pageSize": 10,
          "pageIndex": 13
        },
        "deepnote_table_loading": false,
        "deepnote_variable_name": "df_9",
        "deepnote_to_be_reexecuted": false,
        "cell_id": "96e3e26ad99c4ce38eba1453a110d46e",
        "deepnote_cell_type": "sql",
        "deepnote_sql_source": "SELECT LICENSE_CODE, Count(LICENSE_CODE) as cnt\nFROM all_df\nGROUP BY LICENSE_CODE\nORDER BY cnt"
      },
      "outputs": [
        {
          "output_type": "execute_result",
          "execution_count": 20,
          "data": {
            "application/vnd.deepnote.dataframe.v3+json": {
              "column_count": 2,
              "row_count": 145,
              "columns": [
                {
                  "name": "LICENSE_CODE",
                  "dtype": "int64",
                  "stats": {
                    "unique_count": 145,
                    "nan_count": 0,
                    "min": "1002",
                    "max": "8604",
                    "histogram": [
                      {
                        "bin_start": 1002,
                        "bin_end": 1762.2,
                        "count": 101
                      },
                      {
                        "bin_start": 1762.2,
                        "bin_end": 2522.4,
                        "count": 15
                      },
                      {
                        "bin_start": 2522.4,
                        "bin_end": 3282.6000000000004,
                        "count": 0
                      },
                      {
                        "bin_start": 3282.6000000000004,
                        "bin_end": 4042.8,
                        "count": 1
                      },
                      {
                        "bin_start": 4042.8,
                        "bin_end": 4803,
                        "count": 7
                      },
                      {
                        "bin_start": 4803,
                        "bin_end": 5563.200000000001,
                        "count": 0
                      },
                      {
                        "bin_start": 5563.200000000001,
                        "bin_end": 6323.400000000001,
                        "count": 0
                      },
                      {
                        "bin_start": 6323.400000000001,
                        "bin_end": 7083.6,
                        "count": 14
                      },
                      {
                        "bin_start": 7083.6,
                        "bin_end": 7843.8,
                        "count": 0
                      },
                      {
                        "bin_start": 7843.8,
                        "bin_end": 8604,
                        "count": 7
                      }
                    ]
                  }
                },
                {
                  "name": "cnt",
                  "dtype": "int64",
                  "stats": {
                    "unique_count": 130,
                    "nan_count": 0,
                    "min": "1",
                    "max": "419003",
                    "histogram": [
                      {
                        "bin_start": 1,
                        "bin_end": 41901.2,
                        "count": 141
                      },
                      {
                        "bin_start": 41901.2,
                        "bin_end": 83801.4,
                        "count": 2
                      },
                      {
                        "bin_start": 83801.4,
                        "bin_end": 125701.59999999999,
                        "count": 0
                      },
                      {
                        "bin_start": 125701.59999999999,
                        "bin_end": 167601.8,
                        "count": 0
                      },
                      {
                        "bin_start": 167601.8,
                        "bin_end": 209502,
                        "count": 1
                      },
                      {
                        "bin_start": 209502,
                        "bin_end": 251402.19999999998,
                        "count": 0
                      },
                      {
                        "bin_start": 251402.19999999998,
                        "bin_end": 293302.39999999997,
                        "count": 0
                      },
                      {
                        "bin_start": 293302.39999999997,
                        "bin_end": 335202.6,
                        "count": 0
                      },
                      {
                        "bin_start": 335202.6,
                        "bin_end": 377102.8,
                        "count": 0
                      },
                      {
                        "bin_start": 377102.8,
                        "bin_end": 419003,
                        "count": 1
                      }
                    ]
                  }
                },
                {
                  "name": "_deepnote_index_column",
                  "dtype": "int64"
                }
              ],
              "rows": [
                {
                  "LICENSE_CODE": 1007,
                  "cnt": 9896,
                  "_deepnote_index_column": 130
                },
                {
                  "LICENSE_CODE": 1569,
                  "cnt": 10030,
                  "_deepnote_index_column": 131
                },
                {
                  "LICENSE_CODE": 1008,
                  "cnt": 10719,
                  "_deepnote_index_column": 132
                },
                {
                  "LICENSE_CODE": 8340,
                  "cnt": 11520,
                  "_deepnote_index_column": 133
                },
                {
                  "LICENSE_CODE": 1329,
                  "cnt": 12848,
                  "_deepnote_index_column": 134
                },
                {
                  "LICENSE_CODE": 1009,
                  "cnt": 14093,
                  "_deepnote_index_column": 135
                },
                {
                  "LICENSE_CODE": 1011,
                  "cnt": 16874,
                  "_deepnote_index_column": 136
                },
                {
                  "LICENSE_CODE": 1474,
                  "cnt": 17563,
                  "_deepnote_index_column": 137
                },
                {
                  "LICENSE_CODE": 1470,
                  "cnt": 18819,
                  "_deepnote_index_column": 138
                },
                {
                  "LICENSE_CODE": 1012,
                  "cnt": 27074,
                  "_deepnote_index_column": 139
                }
              ]
            },
            "text/plain": "     LICENSE_CODE     cnt\n0            7026       1\n1            7036       1\n2            1841       1\n3            1063       1\n4            1686       1\n..            ...     ...\n140          1475   37061\n141          4404   45671\n142          1781   52918\n143          1006  171426\n144          1010  419003\n\n[145 rows x 2 columns]",
            "text/html": "<div>\n<style scoped>\n    .dataframe tbody tr th:only-of-type {\n        vertical-align: middle;\n    }\n\n    .dataframe tbody tr th {\n        vertical-align: top;\n    }\n\n    .dataframe thead th {\n        text-align: right;\n    }\n</style>\n<table border=\"1\" class=\"dataframe\">\n  <thead>\n    <tr style=\"text-align: right;\">\n      <th></th>\n      <th>LICENSE_CODE</th>\n      <th>cnt</th>\n    </tr>\n  </thead>\n  <tbody>\n    <tr>\n      <th>0</th>\n      <td>7026</td>\n      <td>1</td>\n    </tr>\n    <tr>\n      <th>1</th>\n      <td>7036</td>\n      <td>1</td>\n    </tr>\n    <tr>\n      <th>2</th>\n      <td>1841</td>\n      <td>1</td>\n    </tr>\n    <tr>\n      <th>3</th>\n      <td>1063</td>\n      <td>1</td>\n    </tr>\n    <tr>\n      <th>4</th>\n      <td>1686</td>\n      <td>1</td>\n    </tr>\n    <tr>\n      <th>...</th>\n      <td>...</td>\n      <td>...</td>\n    </tr>\n    <tr>\n      <th>140</th>\n      <td>1475</td>\n      <td>37061</td>\n    </tr>\n    <tr>\n      <th>141</th>\n      <td>4404</td>\n      <td>45671</td>\n    </tr>\n    <tr>\n      <th>142</th>\n      <td>1781</td>\n      <td>52918</td>\n    </tr>\n    <tr>\n      <th>143</th>\n      <td>1006</td>\n      <td>171426</td>\n    </tr>\n    <tr>\n      <th>144</th>\n      <td>1010</td>\n      <td>419003</td>\n    </tr>\n  </tbody>\n</table>\n<p>145 rows × 2 columns</p>\n</div>"
          },
          "metadata": {}
        }
      ],
      "outputs_reference": null,
      "execution_count": 19,
      "block_group": "7c533f6d339e4cdbb01b0f4ddaeefc87",
      "content_dependencies": null
    },
    {
      "cell_type": "code",
      "source": "Lic_name_df = _deepnote_execute_sql('SELECT DISTINCT LICENSE_DESCRIPTION\\nfrom all_df', 'SQL_DEEPNOTE_DATAFRAME_SQL', audit_sql_comment='', sql_cache_mode='cache_disabled')\nLic_name_df",
      "metadata": {
        "source_hash": "86faab93",
        "execution_start": 1709860206224,
        "execution_millis": 44,
        "sql_integration_id": "deepnote-dataframe-sql",
        "deepnote_variable_name": "Lic_name_df",
        "deepnote_to_be_reexecuted": false,
        "cell_id": "6601a55021f94ef4bdabcba59f6e8d8b",
        "deepnote_cell_type": "sql",
        "deepnote_sql_source": "SELECT DISTINCT LICENSE_DESCRIPTION\nfrom all_df"
      },
      "outputs": [
        {
          "output_type": "execute_result",
          "execution_count": 20,
          "data": {
            "application/vnd.deepnote.dataframe.v3+json": {
              "column_count": 1,
              "row_count": 145,
              "columns": [
                {
                  "name": "LICENSE_DESCRIPTION",
                  "dtype": "object",
                  "stats": {
                    "unique_count": 145,
                    "nan_count": 0,
                    "categories": [
                      {
                        "name": "Limited Business License",
                        "count": 1
                      },
                      {
                        "name": "Retail Food Establishment",
                        "count": 1
                      },
                      {
                        "name": "143 others",
                        "count": 143
                      }
                    ]
                  }
                },
                {
                  "name": "_deepnote_index_column",
                  "dtype": "int64"
                }
              ],
              "rows": [
                {
                  "LICENSE_DESCRIPTION": "Limited Business License",
                  "_deepnote_index_column": 0
                },
                {
                  "LICENSE_DESCRIPTION": "Retail Food Establishment",
                  "_deepnote_index_column": 1
                },
                {
                  "LICENSE_DESCRIPTION": "Tavern",
                  "_deepnote_index_column": 2
                },
                {
                  "LICENSE_DESCRIPTION": "Filling Station",
                  "_deepnote_index_column": 3
                },
                {
                  "LICENSE_DESCRIPTION": "Regulated Business License",
                  "_deepnote_index_column": 4
                },
                {
                  "LICENSE_DESCRIPTION": "Public Place of Amusement",
                  "_deepnote_index_column": 5
                },
                {
                  "LICENSE_DESCRIPTION": "Shared Housing Unit Operator",
                  "_deepnote_index_column": 6
                },
                {
                  "LICENSE_DESCRIPTION": "Tobacco",
                  "_deepnote_index_column": 7
                },
                {
                  "LICENSE_DESCRIPTION": "Consumption on Premises - Incidental Activity",
                  "_deepnote_index_column": 8
                },
                {
                  "LICENSE_DESCRIPTION": "Pop-Up Retail User",
                  "_deepnote_index_column": 9
                }
              ]
            },
            "text/plain": "                          LICENSE_DESCRIPTION\n0                    Limited Business License\n1                   Retail Food Establishment\n2                                      Tavern\n3                             Filling Station\n4                  Regulated Business License\n..                                        ...\n140  Airport Pushcart Liquor O'Hare - Class A\n141          Pop-Up Food Est. User - Tier III\n142                       Repossessor Class B\n143                         Guard Dog Service\n144  Airport Pushcart Liquor Midway - Class A\n\n[145 rows x 1 columns]",
            "text/html": "<div>\n<style scoped>\n    .dataframe tbody tr th:only-of-type {\n        vertical-align: middle;\n    }\n\n    .dataframe tbody tr th {\n        vertical-align: top;\n    }\n\n    .dataframe thead th {\n        text-align: right;\n    }\n</style>\n<table border=\"1\" class=\"dataframe\">\n  <thead>\n    <tr style=\"text-align: right;\">\n      <th></th>\n      <th>LICENSE_DESCRIPTION</th>\n    </tr>\n  </thead>\n  <tbody>\n    <tr>\n      <th>0</th>\n      <td>Limited Business License</td>\n    </tr>\n    <tr>\n      <th>1</th>\n      <td>Retail Food Establishment</td>\n    </tr>\n    <tr>\n      <th>2</th>\n      <td>Tavern</td>\n    </tr>\n    <tr>\n      <th>3</th>\n      <td>Filling Station</td>\n    </tr>\n    <tr>\n      <th>4</th>\n      <td>Regulated Business License</td>\n    </tr>\n    <tr>\n      <th>...</th>\n      <td>...</td>\n    </tr>\n    <tr>\n      <th>140</th>\n      <td>Airport Pushcart Liquor O'Hare - Class A</td>\n    </tr>\n    <tr>\n      <th>141</th>\n      <td>Pop-Up Food Est. User - Tier III</td>\n    </tr>\n    <tr>\n      <th>142</th>\n      <td>Repossessor Class B</td>\n    </tr>\n    <tr>\n      <th>143</th>\n      <td>Guard Dog Service</td>\n    </tr>\n    <tr>\n      <th>144</th>\n      <td>Airport Pushcart Liquor Midway - Class A</td>\n    </tr>\n  </tbody>\n</table>\n<p>145 rows × 1 columns</p>\n</div>"
          },
          "metadata": {}
        }
      ],
      "outputs_reference": null,
      "execution_count": 20,
      "block_group": "ef8906926e4a4fa08202664e50adb635",
      "content_dependencies": null
    },
    {
      "cell_type": "code",
      "source": "p = Lic_name_df['LICENSE_DESCRIPTION'].tolist()\nlen(p)",
      "metadata": {
        "source_hash": "baa1deee",
        "execution_start": 1709862068281,
        "execution_millis": 56,
        "deepnote_to_be_reexecuted": false,
        "cell_id": "41794f8b0cf6414e811dd782deafdf77",
        "deepnote_cell_type": "code"
      },
      "outputs": [
        {
          "output_type": "execute_result",
          "execution_count": 34,
          "data": {
            "text/plain": "145"
          },
          "metadata": {}
        }
      ],
      "outputs_reference": null,
      "execution_count": 34,
      "block_group": "c75031f9f4e044f486e69e8f33247ba8",
      "content_dependencies": null
    },
    {
      "cell_type": "markdown",
      "source": "LICENSE_DESCRIPTION",
      "metadata": {
        "formattedRanges": [],
        "cell_id": "f6000bc2a18e4486b19c301ed4148d81",
        "deepnote_cell_type": "text-cell-p"
      },
      "block_group": "804d65cf393a432b9d443ce1d33ddb3c"
    },
    {
      "cell_type": "code",
      "source": "df_7 = _deepnote_execute_sql('SELECT *\\nFROM all_df\\nWHERE EXTRACT(YEAR FROM CAST(LICENSE_TERM_EXPIRATION_DATE AS DATE)) BETWEEN 2006 AND 2020;\\n', 'SQL_DEEPNOTE_DATAFRAME_SQL', audit_sql_comment='', sql_cache_mode='cache_disabled')\ndf_7",
      "metadata": {
        "source_hash": "baa4fcea",
        "execution_start": 1709834084933,
        "execution_millis": 3959,
        "sql_integration_id": "deepnote-dataframe-sql",
        "deepnote_table_state": {
          "sortBy": [],
          "filters": [],
          "pageSize": 10,
          "pageIndex": 3
        },
        "deepnote_table_loading": false,
        "deepnote_variable_name": "df_7",
        "deepnote_to_be_reexecuted": true,
        "cell_id": "2811893a6d064dfa9912266846269f2c",
        "deepnote_cell_type": "sql",
        "deepnote_sql_source": "SELECT *\nFROM all_df\nWHERE EXTRACT(YEAR FROM CAST(LICENSE_TERM_EXPIRATION_DATE AS DATE)) BETWEEN 2006 AND 2020;\n"
      },
      "outputs": [
        {
          "output_type": "execute_result",
          "execution_count": 3,
          "data": {
            "application/vnd.deepnote.dataframe.v3+json": {
              "column_count": 34,
              "row_count": 626271,
              "columns": [
                {
                  "name": "ID",
                  "dtype": "object"
                },
                {
                  "name": "LICENSE_ID",
                  "dtype": "int64"
                },
                {
                  "name": "ACCOUNT_NUMBER",
                  "dtype": "int64"
                },
                {
                  "name": "SITE_NUMBER",
                  "dtype": "int64"
                },
                {
                  "name": "LEGAL_NAME",
                  "dtype": "object"
                },
                {
                  "name": "DBA",
                  "dtype": "object"
                },
                {
                  "name": "ADDRESS",
                  "dtype": "object"
                },
                {
                  "name": "CITY",
                  "dtype": "object"
                },
                {
                  "name": "STATE",
                  "dtype": "object"
                },
                {
                  "name": "ZIP_CODE",
                  "dtype": "object"
                },
                {
                  "name": "WARD",
                  "dtype": "float64"
                },
                {
                  "name": "PRECINCT",
                  "dtype": "float64"
                },
                {
                  "name": "WARD_PRECINCT",
                  "dtype": "object"
                },
                {
                  "name": "POLICE_DISTRICT",
                  "dtype": "float64"
                },
                {
                  "name": "LICENSE_CODE",
                  "dtype": "int64"
                },
                {
                  "name": "LICENSE_DESCRIPTION",
                  "dtype": "object"
                },
                {
                  "name": "BUSINESS_ACTIVITY_ID",
                  "dtype": "object"
                },
                {
                  "name": "BUSINESS_ACTIVITY",
                  "dtype": "object"
                },
                {
                  "name": "LICENSE_NUMBER",
                  "dtype": "int64"
                },
                {
                  "name": "APPLICATION_TYPE",
                  "dtype": "object"
                },
                {
                  "name": "APPLICATION_CREATED_DATE",
                  "dtype": "datetime64[us]"
                },
                {
                  "name": "APPLICATION_REQUIREMENTS_COMPLETE",
                  "dtype": "datetime64[us]"
                },
                {
                  "name": "PAYMENT_DATE",
                  "dtype": "datetime64[us]"
                },
                {
                  "name": "CONDITIONAL_APPROVAL",
                  "dtype": "object"
                },
                {
                  "name": "LICENSE_TERM_START_DATE",
                  "dtype": "datetime64[us]"
                },
                {
                  "name": "LICENSE_TERM_EXPIRATION_DATE",
                  "dtype": "datetime64[us]"
                },
                {
                  "name": "LICENSE_APPROVED_FOR_ISSUANCE",
                  "dtype": "datetime64[us]"
                },
                {
                  "name": "DATE_ISSUED",
                  "dtype": "datetime64[us]"
                },
                {
                  "name": "LICENSE_STATUS",
                  "dtype": "object"
                },
                {
                  "name": "LICENSE_STATUS_CHANGE_DATE",
                  "dtype": "datetime64[us]"
                },
                {
                  "name": "SSA",
                  "dtype": "float64"
                },
                {
                  "name": "LATITUDE",
                  "dtype": "float64"
                },
                {
                  "name": "LONGITUDE",
                  "dtype": "float64"
                },
                {
                  "name": "LOCATION",
                  "dtype": "object"
                },
                {
                  "name": "_deepnote_index_column",
                  "dtype": "int64"
                }
              ],
              "rows": [
                {
                  "ID": "1476068-20060511",
                  "LICENSE_ID": 1476068,
                  "ACCOUNT_NUMBER": 64603,
                  "SITE_NUMBER": 4,
                  "LEGAL_NAME": "LEOPARDO COMPANIES INC.",
                  "DBA": "LEOPARDO COMPANIES INC",
                  "ADDRESS": "333 W WACKER DR 2ND 250",
                  "CITY": "CHICAGO",
                  "STATE": "IL",
                  "ZIP_CODE": "60606",
                  "WARD": 42,
                  "PRECINCT": "nan",
                  "WARD_PRECINCT": "42-",
                  "POLICE_DISTRICT": 1,
                  "LICENSE_CODE": 1010,
                  "LICENSE_DESCRIPTION": "Limited Business License",
                  "BUSINESS_ACTIVITY_ID": "None",
                  "BUSINESS_ACTIVITY": "None",
                  "LICENSE_NUMBER": 1476068,
                  "APPLICATION_TYPE": "ISSUE",
                  "APPLICATION_CREATED_DATE": "2004-02-05 00:00:00",
                  "APPLICATION_REQUIREMENTS_COMPLETE": "2006-05-10 00:00:00",
                  "PAYMENT_DATE": "2006-05-10 00:00:00",
                  "CONDITIONAL_APPROVAL": "N",
                  "LICENSE_TERM_START_DATE": "2006-05-11 00:00:00",
                  "LICENSE_TERM_EXPIRATION_DATE": "2006-11-15 00:00:00",
                  "LICENSE_APPROVED_FOR_ISSUANCE": "2006-05-10 00:00:00",
                  "DATE_ISSUED": "2006-05-11 00:00:00",
                  "LICENSE_STATUS": "AAI",
                  "LICENSE_STATUS_CHANGE_DATE": "NaT",
                  "SSA": "nan",
                  "LATITUDE": 41.886025413,
                  "LONGITUDE": -87.636297703,
                  "LOCATION": "(41.886025412541144, -87.63629770323044)",
                  "_deepnote_index_column": 30
                },
                {
                  "ID": "1476068-20180916",
                  "LICENSE_ID": 2610989,
                  "ACCOUNT_NUMBER": 64603,
                  "SITE_NUMBER": 4,
                  "LEGAL_NAME": "LEOPARDO COMPANIES INC.",
                  "DBA": "LEOPARDO COMPANIES INC",
                  "ADDRESS": "333 W WACKER DR 2ND 250",
                  "CITY": "CHICAGO",
                  "STATE": "IL",
                  "ZIP_CODE": "60606",
                  "WARD": 42,
                  "PRECINCT": "nan",
                  "WARD_PRECINCT": "42-",
                  "POLICE_DISTRICT": 1,
                  "LICENSE_CODE": 1010,
                  "LICENSE_DESCRIPTION": "Limited Business License",
                  "BUSINESS_ACTIVITY_ID": "708",
                  "BUSINESS_ACTIVITY": "Miscellaneous Commercial Services",
                  "LICENSE_NUMBER": 1476068,
                  "APPLICATION_TYPE": "RENEW",
                  "APPLICATION_CREATED_DATE": "NaT",
                  "APPLICATION_REQUIREMENTS_COMPLETE": "2018-07-15 00:00:00",
                  "PAYMENT_DATE": "2018-08-22 00:00:00",
                  "CONDITIONAL_APPROVAL": "N",
                  "LICENSE_TERM_START_DATE": "2018-09-16 00:00:00",
                  "LICENSE_TERM_EXPIRATION_DATE": "2020-09-15 00:00:00",
                  "LICENSE_APPROVED_FOR_ISSUANCE": "2018-08-22 00:00:00",
                  "DATE_ISSUED": "2018-08-22 00:00:00",
                  "LICENSE_STATUS": "AAC",
                  "LICENSE_STATUS_CHANGE_DATE": "2019-04-24 00:00:00",
                  "SSA": "nan",
                  "LATITUDE": 41.886025413,
                  "LONGITUDE": -87.636297703,
                  "LOCATION": "(41.886025412541144, -87.63629770323044)",
                  "_deepnote_index_column": 31
                },
                {
                  "ID": "2074468-20120816",
                  "LICENSE_ID": 2161158,
                  "ACCOUNT_NUMBER": 334772,
                  "SITE_NUMBER": 2,
                  "LEGAL_NAME": "MIGUEL ANGEL DUARTE-SOLIS",
                  "DBA": "MIGUEL ANGEL DUARTE-SOLIS",
                  "ADDRESS": "5015 S DAMEN AVE 1ST",
                  "CITY": "CHICAGO",
                  "STATE": "IL",
                  "ZIP_CODE": "60609",
                  "WARD": 15,
                  "PRECINCT": 15,
                  "WARD_PRECINCT": "15-15",
                  "POLICE_DISTRICT": 9,
                  "LICENSE_CODE": 1607,
                  "LICENSE_DESCRIPTION": "Peddler, non-food, special",
                  "BUSINESS_ACTIVITY_ID": "None",
                  "BUSINESS_ACTIVITY": "None",
                  "LICENSE_NUMBER": 2074468,
                  "APPLICATION_TYPE": "RENEW",
                  "APPLICATION_CREATED_DATE": "NaT",
                  "APPLICATION_REQUIREMENTS_COMPLETE": "2012-06-15 00:00:00",
                  "PAYMENT_DATE": "2012-08-16 00:00:00",
                  "CONDITIONAL_APPROVAL": "N",
                  "LICENSE_TERM_START_DATE": "2012-08-16 00:00:00",
                  "LICENSE_TERM_EXPIRATION_DATE": "2014-08-15 00:00:00",
                  "LICENSE_APPROVED_FOR_ISSUANCE": "NaT",
                  "DATE_ISSUED": "2012-08-16 00:00:00",
                  "LICENSE_STATUS": "AAC",
                  "LICENSE_STATUS_CHANGE_DATE": "2012-12-29 00:00:00",
                  "SSA": "nan",
                  "LATITUDE": 41.802569456,
                  "LONGITUDE": -87.674395755,
                  "LOCATION": "(41.802569455769735, -87.67439575456822)",
                  "_deepnote_index_column": 32
                },
                {
                  "ID": "2647849-20190423",
                  "LICENSE_ID": 2647849,
                  "ACCOUNT_NUMBER": 64603,
                  "SITE_NUMBER": 7,
                  "LEGAL_NAME": "LEOPARDO COMPANIES INC.",
                  "DBA": "Leopardo Companies Inc",
                  "ADDRESS": "210 N CARPENTER ST 3RD FLOOR",
                  "CITY": "CHICAGO",
                  "STATE": "IL",
                  "ZIP_CODE": "60607",
                  "WARD": 27,
                  "PRECINCT": "nan",
                  "WARD_PRECINCT": "27-",
                  "POLICE_DISTRICT": "nan",
                  "LICENSE_CODE": 1010,
                  "LICENSE_DESCRIPTION": "Limited Business License",
                  "BUSINESS_ACTIVITY_ID": "602",
                  "BUSINESS_ACTIVITY": "Administrative Commercial Office",
                  "LICENSE_NUMBER": 2647849,
                  "APPLICATION_TYPE": "C_LOC",
                  "APPLICATION_CREATED_DATE": "2019-02-21 00:00:00",
                  "APPLICATION_REQUIREMENTS_COMPLETE": "2019-02-21 00:00:00",
                  "PAYMENT_DATE": "2019-02-21 00:00:00",
                  "CONDITIONAL_APPROVAL": "N",
                  "LICENSE_TERM_START_DATE": "2019-04-23 00:00:00",
                  "LICENSE_TERM_EXPIRATION_DATE": "2020-09-15 00:00:00",
                  "LICENSE_APPROVED_FOR_ISSUANCE": "2019-02-21 00:00:00",
                  "DATE_ISSUED": "2019-04-23 00:00:00",
                  "LICENSE_STATUS": "AAI",
                  "LICENSE_STATUS_CHANGE_DATE": "NaT",
                  "SSA": "nan",
                  "LATITUDE": 41.885944958,
                  "LONGITUDE": -87.653461783,
                  "LOCATION": "(41.88594495760403, -87.65346178255953)",
                  "_deepnote_index_column": 33
                },
                {
                  "ID": "53884-20070216",
                  "LICENSE_ID": 1783374,
                  "ACCOUNT_NUMBER": 64579,
                  "SITE_NUMBER": 1,
                  "LEGAL_NAME": "CYNPAT, INC",
                  "DBA": "Cielo Dulce",
                  "ADDRESS": "3504 S WESTERN AVE 1",
                  "CITY": "CHICAGO",
                  "STATE": "IL",
                  "ZIP_CODE": "60609",
                  "WARD": 12,
                  "PRECINCT": 6,
                  "WARD_PRECINCT": "12-6",
                  "POLICE_DISTRICT": 9,
                  "LICENSE_CODE": 1006,
                  "LICENSE_DESCRIPTION": "Retail Food Establishment",
                  "BUSINESS_ACTIVITY_ID": "775",
                  "BUSINESS_ACTIVITY": "Retail Sales of Perishable Foods",
                  "LICENSE_NUMBER": 53884,
                  "APPLICATION_TYPE": "RENEW",
                  "APPLICATION_CREATED_DATE": "NaT",
                  "APPLICATION_REQUIREMENTS_COMPLETE": "2006-12-20 00:00:00",
                  "PAYMENT_DATE": "2007-01-22 00:00:00",
                  "CONDITIONAL_APPROVAL": "N",
                  "LICENSE_TERM_START_DATE": "2007-02-16 00:00:00",
                  "LICENSE_TERM_EXPIRATION_DATE": "2008-05-15 00:00:00",
                  "LICENSE_APPROVED_FOR_ISSUANCE": "2007-01-22 00:00:00",
                  "DATE_ISSUED": "2007-01-23 00:00:00",
                  "LICENSE_STATUS": "AAI",
                  "LICENSE_STATUS_CHANGE_DATE": "NaT",
                  "SSA": "nan",
                  "LATITUDE": 41.830073693,
                  "LONGITUDE": -87.68517427,
                  "LOCATION": "(41.830073693447986, -87.68517426995787)",
                  "_deepnote_index_column": 34
                },
                {
                  "ID": "1649036-20060309",
                  "LICENSE_ID": 1649036,
                  "ACCOUNT_NUMBER": 64579,
                  "SITE_NUMBER": 1,
                  "LEGAL_NAME": "CYNPAT, INC",
                  "DBA": "Cielo Dulce",
                  "ADDRESS": "3504 S WESTERN AVE 1",
                  "CITY": "CHICAGO",
                  "STATE": "IL",
                  "ZIP_CODE": "60609",
                  "WARD": 12,
                  "PRECINCT": 6,
                  "WARD_PRECINCT": "12-6",
                  "POLICE_DISTRICT": 9,
                  "LICENSE_CODE": 1050,
                  "LICENSE_DESCRIPTION": "Public Place of Amusement",
                  "BUSINESS_ACTIVITY_ID": "743",
                  "BUSINESS_ACTIVITY": "Provides Onsite Amusement or Entertainment",
                  "LICENSE_NUMBER": 1649036,
                  "APPLICATION_TYPE": "ISSUE",
                  "APPLICATION_CREATED_DATE": "2005-11-28 00:00:00",
                  "APPLICATION_REQUIREMENTS_COMPLETE": "2005-12-13 00:00:00",
                  "PAYMENT_DATE": "2005-12-14 00:00:00",
                  "CONDITIONAL_APPROVAL": "N",
                  "LICENSE_TERM_START_DATE": "2006-03-09 00:00:00",
                  "LICENSE_TERM_EXPIRATION_DATE": "2007-02-15 00:00:00",
                  "LICENSE_APPROVED_FOR_ISSUANCE": "2006-03-08 00:00:00",
                  "DATE_ISSUED": "2006-03-09 00:00:00",
                  "LICENSE_STATUS": "AAI",
                  "LICENSE_STATUS_CHANGE_DATE": "NaT",
                  "SSA": "nan",
                  "LATITUDE": 41.830073693,
                  "LONGITUDE": -87.68517427,
                  "LOCATION": "(41.830073693447986, -87.68517426995787)",
                  "_deepnote_index_column": 35
                },
                {
                  "ID": "53884-20120516",
                  "LICENSE_ID": 2144330,
                  "ACCOUNT_NUMBER": 64579,
                  "SITE_NUMBER": 1,
                  "LEGAL_NAME": "CYNPAT, INC",
                  "DBA": "Cielo Dulce",
                  "ADDRESS": "3504 S WESTERN AVE 1",
                  "CITY": "CHICAGO",
                  "STATE": "IL",
                  "ZIP_CODE": "60609",
                  "WARD": 12,
                  "PRECINCT": 6,
                  "WARD_PRECINCT": "12-6",
                  "POLICE_DISTRICT": 9,
                  "LICENSE_CODE": 1006,
                  "LICENSE_DESCRIPTION": "Retail Food Establishment",
                  "BUSINESS_ACTIVITY_ID": "775",
                  "BUSINESS_ACTIVITY": "Retail Sales of Perishable Foods",
                  "LICENSE_NUMBER": 53884,
                  "APPLICATION_TYPE": "RENEW",
                  "APPLICATION_CREATED_DATE": "NaT",
                  "APPLICATION_REQUIREMENTS_COMPLETE": "2012-03-15 00:00:00",
                  "PAYMENT_DATE": "2012-05-14 00:00:00",
                  "CONDITIONAL_APPROVAL": "N",
                  "LICENSE_TERM_START_DATE": "2012-05-16 00:00:00",
                  "LICENSE_TERM_EXPIRATION_DATE": "2014-05-15 00:00:00",
                  "LICENSE_APPROVED_FOR_ISSUANCE": "2012-05-14 00:00:00",
                  "DATE_ISSUED": "2012-07-31 00:00:00",
                  "LICENSE_STATUS": "AAI",
                  "LICENSE_STATUS_CHANGE_DATE": "NaT",
                  "SSA": "nan",
                  "LATITUDE": 41.830073693,
                  "LONGITUDE": -87.68517427,
                  "LOCATION": "(41.830073693447986, -87.68517426995787)",
                  "_deepnote_index_column": 36
                },
                {
                  "ID": "1875213-20180516",
                  "LICENSE_ID": 2585347,
                  "ACCOUNT_NUMBER": 64579,
                  "SITE_NUMBER": 1,
                  "LEGAL_NAME": "CYNPAT, INC",
                  "DBA": "Cielo Dulce",
                  "ADDRESS": "3504 S WESTERN AVE 1",
                  "CITY": "CHICAGO",
                  "STATE": "IL",
                  "ZIP_CODE": "60609",
                  "WARD": 12,
                  "PRECINCT": 6,
                  "WARD_PRECINCT": "12-6",
                  "POLICE_DISTRICT": 9,
                  "LICENSE_CODE": 1475,
                  "LICENSE_DESCRIPTION": "Consumption on Premises - Incidental Activity",
                  "BUSINESS_ACTIVITY_ID": "638",
                  "BUSINESS_ACTIVITY": "Consumption of Liquor on Premises",
                  "LICENSE_NUMBER": 1875213,
                  "APPLICATION_TYPE": "RENEW",
                  "APPLICATION_CREATED_DATE": "NaT",
                  "APPLICATION_REQUIREMENTS_COMPLETE": "2018-03-15 00:00:00",
                  "PAYMENT_DATE": "2018-12-17 00:00:00",
                  "CONDITIONAL_APPROVAL": "N",
                  "LICENSE_TERM_START_DATE": "2018-05-16 00:00:00",
                  "LICENSE_TERM_EXPIRATION_DATE": "2020-07-15 00:00:00",
                  "LICENSE_APPROVED_FOR_ISSUANCE": "2018-12-17 00:00:00",
                  "DATE_ISSUED": "2018-12-17 00:00:00",
                  "LICENSE_STATUS": "AAI",
                  "LICENSE_STATUS_CHANGE_DATE": "NaT",
                  "SSA": "nan",
                  "LATITUDE": 41.830073693,
                  "LONGITUDE": -87.68517427,
                  "LOCATION": "(41.830073693447986, -87.68517426995787)",
                  "_deepnote_index_column": 37
                },
                {
                  "ID": "53884-20100516",
                  "LICENSE_ID": 2024043,
                  "ACCOUNT_NUMBER": 64579,
                  "SITE_NUMBER": 1,
                  "LEGAL_NAME": "CYNPAT, INC",
                  "DBA": "Cielo Dulce",
                  "ADDRESS": "3504 S WESTERN AVE 1",
                  "CITY": "CHICAGO",
                  "STATE": "IL",
                  "ZIP_CODE": "60609",
                  "WARD": 12,
                  "PRECINCT": 6,
                  "WARD_PRECINCT": "12-6",
                  "POLICE_DISTRICT": 9,
                  "LICENSE_CODE": 1006,
                  "LICENSE_DESCRIPTION": "Retail Food Establishment",
                  "BUSINESS_ACTIVITY_ID": "775",
                  "BUSINESS_ACTIVITY": "Retail Sales of Perishable Foods",
                  "LICENSE_NUMBER": 53884,
                  "APPLICATION_TYPE": "RENEW",
                  "APPLICATION_CREATED_DATE": "NaT",
                  "APPLICATION_REQUIREMENTS_COMPLETE": "2010-03-15 00:00:00",
                  "PAYMENT_DATE": "2010-04-26 00:00:00",
                  "CONDITIONAL_APPROVAL": "N",
                  "LICENSE_TERM_START_DATE": "2010-05-16 00:00:00",
                  "LICENSE_TERM_EXPIRATION_DATE": "2012-05-15 00:00:00",
                  "LICENSE_APPROVED_FOR_ISSUANCE": "2010-04-26 00:00:00",
                  "DATE_ISSUED": "2010-04-27 00:00:00",
                  "LICENSE_STATUS": "AAI",
                  "LICENSE_STATUS_CHANGE_DATE": "NaT",
                  "SSA": "nan",
                  "LATITUDE": 41.830073693,
                  "LONGITUDE": -87.68517427,
                  "LOCATION": "(41.830073693447986, -87.68517426995787)",
                  "_deepnote_index_column": 38
                },
                {
                  "ID": "1649036-20160516",
                  "LICENSE_ID": 2454218,
                  "ACCOUNT_NUMBER": 64579,
                  "SITE_NUMBER": 1,
                  "LEGAL_NAME": "CYNPAT, INC",
                  "DBA": "Cielo Dulce",
                  "ADDRESS": "3504 S WESTERN AVE 1",
                  "CITY": "CHICAGO",
                  "STATE": "IL",
                  "ZIP_CODE": "60609",
                  "WARD": 12,
                  "PRECINCT": 6,
                  "WARD_PRECINCT": "12-6",
                  "POLICE_DISTRICT": 9,
                  "LICENSE_CODE": 1050,
                  "LICENSE_DESCRIPTION": "Public Place of Amusement",
                  "BUSINESS_ACTIVITY_ID": "743",
                  "BUSINESS_ACTIVITY": "Provides Onsite Amusement or Entertainment",
                  "LICENSE_NUMBER": 1649036,
                  "APPLICATION_TYPE": "RENEW",
                  "APPLICATION_CREATED_DATE": "NaT",
                  "APPLICATION_REQUIREMENTS_COMPLETE": "2016-03-15 00:00:00",
                  "PAYMENT_DATE": "2016-05-13 00:00:00",
                  "CONDITIONAL_APPROVAL": "N",
                  "LICENSE_TERM_START_DATE": "2016-05-16 00:00:00",
                  "LICENSE_TERM_EXPIRATION_DATE": "2018-05-15 00:00:00",
                  "LICENSE_APPROVED_FOR_ISSUANCE": "2016-05-17 00:00:00",
                  "DATE_ISSUED": "2016-05-18 00:00:00",
                  "LICENSE_STATUS": "AAI",
                  "LICENSE_STATUS_CHANGE_DATE": "NaT",
                  "SSA": "nan",
                  "LATITUDE": 41.830073693,
                  "LONGITUDE": -87.68517427,
                  "LOCATION": "(41.830073693447986, -87.68517426995787)",
                  "_deepnote_index_column": 39
                }
              ]
            },
            "text/plain": "                      ID  LICENSE_ID  ACCOUNT_NUMBER  SITE_NUMBER  \\\n0       1899783-20090316     1953094          330192            1   \n1       1899783-20110316     2078221          330192            1   \n2       2212246-20180816     2604971          334772            2   \n3       1694745-20061116     1753621           64603            5   \n4       2289988-20131009     2289988          385607            1   \n...                  ...         ...             ...          ...   \n626266  2283718-20150216     2371710          322234            2   \n626267  1800644-20091116     1996441          313982            1   \n626268  2204520-20160716     2465534           25985            1   \n626269     6415-20070816     1832401          376290            2   \n626270  1800007-20070124     1800007          313705            1   \n\n                                     LEGAL_NAME  \\\n0                        ELIAS A. KANELLOPOULOS   \n1                        ELIAS A. KANELLOPOULOS   \n2                     MIGUEL ANGEL DUARTE-SOLIS   \n3                       LEOPARDO COMPANIES INC.   \n4                          360 CONSTRUCTION LLC   \n...                                         ...   \n626266         GUARANTEED MEDICAL SERVICE, INC.   \n626267                     JH ELECTRONICS, INC.   \n626268  AABALL HEATING SERVICE & SUPPLIES, INC.   \n626269       FRANK'S CHICAGO SHRIMP HOUSE, INC.   \n626270                        TERRANCE J. WATTS   \n\n                                      DBA                    ADDRESS     CITY  \\\n0                           RITZ CLEANERS        200 E DELAWARE PL 1  CHICAGO   \n1                           RITZ CLEANERS        200 E DELAWARE PL 1  CHICAGO   \n2               MIGUEL ANGEL DUARTE-SOLIS       5015 S DAMEN AVE 1ST  CHICAGO   \n3                  LEOPARDO COMPANIES INC       1945 W HUBBARD ST  B  CHICAGO   \n4                    360 CONSTRUCTION LLC          1830 S ALLPORT ST  CHICAGO   \n...                                   ...                        ...      ...   \n626266  GUARANTEED MEDICAL SERVICES, INC.      6619 W ARCHER AVE IST  CHICAGO   \n626267                   ACE SOUND SYSTEM  2500 N MILWAUKEE AVE  201  CHICAGO   \n626268  AABALL HEATING SERVICE & SUPPLIES         8518 S ASHLAND AVE  CHICAGO   \n626269       FRANK'S CHICAGO SHRIMP HOUSE      5439 W ADDISON ST 1ST  CHICAGO   \n626270                  TERRANCE J. WATTS         9932 S SANGAMON ST  CHICAGO   \n\n       STATE ZIP_CODE  ...  LICENSE_TERM_START_DATE  \\\n0         IL    60611  ...               2009-03-16   \n1         IL    60611  ...               2011-03-16   \n2         IL    60609  ...               2018-08-16   \n3         IL    60622  ...               2006-11-16   \n4         IL    60608  ...               2013-10-09   \n...      ...      ...  ...                      ...   \n626266    IL    60638  ...               2015-02-16   \n626267    IL    60647  ...               2009-11-16   \n626268    IL    60620  ...               2016-07-16   \n626269    IL    60641  ...               2007-08-16   \n626270    IL    60643  ...               2007-01-24   \n\n        LICENSE_TERM_EXPIRATION_DATE LICENSE_APPROVED_FOR_ISSUANCE  \\\n0                         2011-03-15                    2009-02-20   \n1                         2013-03-15                    2011-02-14   \n2                         2020-10-15                           NaT   \n3                         2007-11-15                    2006-11-03   \n4                         2015-10-15                    2013-10-09   \n...                              ...                           ...   \n626266                    2017-02-15                    2015-02-11   \n626267                    2011-11-15                    2009-11-20   \n626268                    2018-07-15                    2016-05-31   \n626269                    2009-08-15                    2007-08-24   \n626270                    2009-02-15                           NaT   \n\n        DATE_ISSUED  LICENSE_STATUS LICENSE_STATUS_CHANGE_DATE   SSA  \\\n0        2009-02-23             AAI                        NaT   NaN   \n1        2011-02-15             AAI                        NaT   NaN   \n2        2018-08-22             AAI                        NaT   NaN   \n3        2006-11-06             AAI                        NaT   NaN   \n4        2013-10-09             AAI                        NaT   NaN   \n...             ...             ...                        ...   ...   \n626266   2015-02-13             AAI                        NaT   NaN   \n626267   2009-11-25             AAI                        NaT   NaN   \n626268   2016-06-01             AAI                        NaT  69.0   \n626269   2008-05-22             AAI                        NaT   NaN   \n626270   2007-01-24             AAI                        NaT   NaN   \n\n         LATITUDE  LONGITUDE                                  LOCATION  \n0       41.899355 -87.621791     (41.89935473944382, -87.621791301926)  \n1       41.899355 -87.621791     (41.89935473944382, -87.621791301926)  \n2       41.802569 -87.674396  (41.802569455769735, -87.67439575456822)  \n3       41.889628 -87.676231    (41.8896277030332, -87.67623090978807)  \n4       41.856995 -87.657770    (41.85699465721177, -87.6577696330932)  \n...           ...        ...                                       ...  \n626266  41.792122 -87.787572   (41.79212203192581, -87.78757215070192)  \n626267  41.926737 -87.703828   (41.92673659835983, -87.70382782692913)  \n626268  41.738831 -87.663289  (41.738831043655715, -87.66328877414871)  \n626269  41.945810 -87.763441   (41.94580991762778, -87.76344146216435)  \n626270  41.713160 -87.646789    (41.71316042726137, -87.6467890258547)  \n\n[626271 rows x 34 columns]",
            "text/html": "<div>\n<style scoped>\n    .dataframe tbody tr th:only-of-type {\n        vertical-align: middle;\n    }\n\n    .dataframe tbody tr th {\n        vertical-align: top;\n    }\n\n    .dataframe thead th {\n        text-align: right;\n    }\n</style>\n<table border=\"1\" class=\"dataframe\">\n  <thead>\n    <tr style=\"text-align: right;\">\n      <th></th>\n      <th>ID</th>\n      <th>LICENSE_ID</th>\n      <th>ACCOUNT_NUMBER</th>\n      <th>SITE_NUMBER</th>\n      <th>LEGAL_NAME</th>\n      <th>DBA</th>\n      <th>ADDRESS</th>\n      <th>CITY</th>\n      <th>STATE</th>\n      <th>ZIP_CODE</th>\n      <th>...</th>\n      <th>LICENSE_TERM_START_DATE</th>\n      <th>LICENSE_TERM_EXPIRATION_DATE</th>\n      <th>LICENSE_APPROVED_FOR_ISSUANCE</th>\n      <th>DATE_ISSUED</th>\n      <th>LICENSE_STATUS</th>\n      <th>LICENSE_STATUS_CHANGE_DATE</th>\n      <th>SSA</th>\n      <th>LATITUDE</th>\n      <th>LONGITUDE</th>\n      <th>LOCATION</th>\n    </tr>\n  </thead>\n  <tbody>\n    <tr>\n      <th>0</th>\n      <td>1899783-20090316</td>\n      <td>1953094</td>\n      <td>330192</td>\n      <td>1</td>\n      <td>ELIAS A. KANELLOPOULOS</td>\n      <td>RITZ CLEANERS</td>\n      <td>200 E DELAWARE PL 1</td>\n      <td>CHICAGO</td>\n      <td>IL</td>\n      <td>60611</td>\n      <td>...</td>\n      <td>2009-03-16</td>\n      <td>2011-03-15</td>\n      <td>2009-02-20</td>\n      <td>2009-02-23</td>\n      <td>AAI</td>\n      <td>NaT</td>\n      <td>NaN</td>\n      <td>41.899355</td>\n      <td>-87.621791</td>\n      <td>(41.89935473944382, -87.621791301926)</td>\n    </tr>\n    <tr>\n      <th>1</th>\n      <td>1899783-20110316</td>\n      <td>2078221</td>\n      <td>330192</td>\n      <td>1</td>\n      <td>ELIAS A. KANELLOPOULOS</td>\n      <td>RITZ CLEANERS</td>\n      <td>200 E DELAWARE PL 1</td>\n      <td>CHICAGO</td>\n      <td>IL</td>\n      <td>60611</td>\n      <td>...</td>\n      <td>2011-03-16</td>\n      <td>2013-03-15</td>\n      <td>2011-02-14</td>\n      <td>2011-02-15</td>\n      <td>AAI</td>\n      <td>NaT</td>\n      <td>NaN</td>\n      <td>41.899355</td>\n      <td>-87.621791</td>\n      <td>(41.89935473944382, -87.621791301926)</td>\n    </tr>\n    <tr>\n      <th>2</th>\n      <td>2212246-20180816</td>\n      <td>2604971</td>\n      <td>334772</td>\n      <td>2</td>\n      <td>MIGUEL ANGEL DUARTE-SOLIS</td>\n      <td>MIGUEL ANGEL DUARTE-SOLIS</td>\n      <td>5015 S DAMEN AVE 1ST</td>\n      <td>CHICAGO</td>\n      <td>IL</td>\n      <td>60609</td>\n      <td>...</td>\n      <td>2018-08-16</td>\n      <td>2020-10-15</td>\n      <td>NaT</td>\n      <td>2018-08-22</td>\n      <td>AAI</td>\n      <td>NaT</td>\n      <td>NaN</td>\n      <td>41.802569</td>\n      <td>-87.674396</td>\n      <td>(41.802569455769735, -87.67439575456822)</td>\n    </tr>\n    <tr>\n      <th>3</th>\n      <td>1694745-20061116</td>\n      <td>1753621</td>\n      <td>64603</td>\n      <td>5</td>\n      <td>LEOPARDO COMPANIES INC.</td>\n      <td>LEOPARDO COMPANIES INC</td>\n      <td>1945 W HUBBARD ST  B</td>\n      <td>CHICAGO</td>\n      <td>IL</td>\n      <td>60622</td>\n      <td>...</td>\n      <td>2006-11-16</td>\n      <td>2007-11-15</td>\n      <td>2006-11-03</td>\n      <td>2006-11-06</td>\n      <td>AAI</td>\n      <td>NaT</td>\n      <td>NaN</td>\n      <td>41.889628</td>\n      <td>-87.676231</td>\n      <td>(41.8896277030332, -87.67623090978807)</td>\n    </tr>\n    <tr>\n      <th>4</th>\n      <td>2289988-20131009</td>\n      <td>2289988</td>\n      <td>385607</td>\n      <td>1</td>\n      <td>360 CONSTRUCTION LLC</td>\n      <td>360 CONSTRUCTION LLC</td>\n      <td>1830 S ALLPORT ST</td>\n      <td>CHICAGO</td>\n      <td>IL</td>\n      <td>60608</td>\n      <td>...</td>\n      <td>2013-10-09</td>\n      <td>2015-10-15</td>\n      <td>2013-10-09</td>\n      <td>2013-10-09</td>\n      <td>AAI</td>\n      <td>NaT</td>\n      <td>NaN</td>\n      <td>41.856995</td>\n      <td>-87.657770</td>\n      <td>(41.85699465721177, -87.6577696330932)</td>\n    </tr>\n    <tr>\n      <th>...</th>\n      <td>...</td>\n      <td>...</td>\n      <td>...</td>\n      <td>...</td>\n      <td>...</td>\n      <td>...</td>\n      <td>...</td>\n      <td>...</td>\n      <td>...</td>\n      <td>...</td>\n      <td>...</td>\n      <td>...</td>\n      <td>...</td>\n      <td>...</td>\n      <td>...</td>\n      <td>...</td>\n      <td>...</td>\n      <td>...</td>\n      <td>...</td>\n      <td>...</td>\n      <td>...</td>\n    </tr>\n    <tr>\n      <th>626266</th>\n      <td>2283718-20150216</td>\n      <td>2371710</td>\n      <td>322234</td>\n      <td>2</td>\n      <td>GUARANTEED MEDICAL SERVICE, INC.</td>\n      <td>GUARANTEED MEDICAL SERVICES, INC.</td>\n      <td>6619 W ARCHER AVE IST</td>\n      <td>CHICAGO</td>\n      <td>IL</td>\n      <td>60638</td>\n      <td>...</td>\n      <td>2015-02-16</td>\n      <td>2017-02-15</td>\n      <td>2015-02-11</td>\n      <td>2015-02-13</td>\n      <td>AAI</td>\n      <td>NaT</td>\n      <td>NaN</td>\n      <td>41.792122</td>\n      <td>-87.787572</td>\n      <td>(41.79212203192581, -87.78757215070192)</td>\n    </tr>\n    <tr>\n      <th>626267</th>\n      <td>1800644-20091116</td>\n      <td>1996441</td>\n      <td>313982</td>\n      <td>1</td>\n      <td>JH ELECTRONICS, INC.</td>\n      <td>ACE SOUND SYSTEM</td>\n      <td>2500 N MILWAUKEE AVE  201</td>\n      <td>CHICAGO</td>\n      <td>IL</td>\n      <td>60647</td>\n      <td>...</td>\n      <td>2009-11-16</td>\n      <td>2011-11-15</td>\n      <td>2009-11-20</td>\n      <td>2009-11-25</td>\n      <td>AAI</td>\n      <td>NaT</td>\n      <td>NaN</td>\n      <td>41.926737</td>\n      <td>-87.703828</td>\n      <td>(41.92673659835983, -87.70382782692913)</td>\n    </tr>\n    <tr>\n      <th>626268</th>\n      <td>2204520-20160716</td>\n      <td>2465534</td>\n      <td>25985</td>\n      <td>1</td>\n      <td>AABALL HEATING SERVICE &amp; SUPPLIES, INC.</td>\n      <td>AABALL HEATING SERVICE &amp; SUPPLIES</td>\n      <td>8518 S ASHLAND AVE</td>\n      <td>CHICAGO</td>\n      <td>IL</td>\n      <td>60620</td>\n      <td>...</td>\n      <td>2016-07-16</td>\n      <td>2018-07-15</td>\n      <td>2016-05-31</td>\n      <td>2016-06-01</td>\n      <td>AAI</td>\n      <td>NaT</td>\n      <td>69.0</td>\n      <td>41.738831</td>\n      <td>-87.663289</td>\n      <td>(41.738831043655715, -87.66328877414871)</td>\n    </tr>\n    <tr>\n      <th>626269</th>\n      <td>6415-20070816</td>\n      <td>1832401</td>\n      <td>376290</td>\n      <td>2</td>\n      <td>FRANK'S CHICAGO SHRIMP HOUSE, INC.</td>\n      <td>FRANK'S CHICAGO SHRIMP HOUSE</td>\n      <td>5439 W ADDISON ST 1ST</td>\n      <td>CHICAGO</td>\n      <td>IL</td>\n      <td>60641</td>\n      <td>...</td>\n      <td>2007-08-16</td>\n      <td>2009-08-15</td>\n      <td>2007-08-24</td>\n      <td>2008-05-22</td>\n      <td>AAI</td>\n      <td>NaT</td>\n      <td>NaN</td>\n      <td>41.945810</td>\n      <td>-87.763441</td>\n      <td>(41.94580991762778, -87.76344146216435)</td>\n    </tr>\n    <tr>\n      <th>626270</th>\n      <td>1800007-20070124</td>\n      <td>1800007</td>\n      <td>313705</td>\n      <td>1</td>\n      <td>TERRANCE J. WATTS</td>\n      <td>TERRANCE J. WATTS</td>\n      <td>9932 S SANGAMON ST</td>\n      <td>CHICAGO</td>\n      <td>IL</td>\n      <td>60643</td>\n      <td>...</td>\n      <td>2007-01-24</td>\n      <td>2009-02-15</td>\n      <td>NaT</td>\n      <td>2007-01-24</td>\n      <td>AAI</td>\n      <td>NaT</td>\n      <td>NaN</td>\n      <td>41.713160</td>\n      <td>-87.646789</td>\n      <td>(41.71316042726137, -87.6467890258547)</td>\n    </tr>\n  </tbody>\n</table>\n<p>626271 rows × 34 columns</p>\n</div>"
          },
          "metadata": {}
        }
      ],
      "outputs_reference": null,
      "execution_count": null,
      "block_group": "fcce1da9e3c946aabf70c42003cce554",
      "content_dependencies": null
    },
    {
      "cell_type": "code",
      "source": "df_5 = _deepnote_execute_sql('SELECT LEGAL_NAME, DBA, ADDRESS, BUSINESS_ACTIVITY\\nfrom all_df\\nWHERE LEGAL_NAME = \\'CHICAGO HILTON LLC\\'', 'SQL_DEEPNOTE_DATAFRAME_SQL', audit_sql_comment='', sql_cache_mode='cache_disabled')\ndf_5",
      "metadata": {
        "source_hash": "f152a6af",
        "execution_start": 1709256104217,
        "execution_millis": 184,
        "sql_integration_id": "deepnote-dataframe-sql",
        "deepnote_variable_name": "df_5",
        "deepnote_to_be_reexecuted": true,
        "cell_id": "a66a3636c6d245ec875c0e5e8d464f2b",
        "deepnote_cell_type": "sql",
        "deepnote_sql_source": "SELECT LEGAL_NAME, DBA, ADDRESS, BUSINESS_ACTIVITY\nfrom all_df\nWHERE LEGAL_NAME = 'CHICAGO HILTON LLC'"
      },
      "outputs": [
        {
          "output_type": "execute_result",
          "execution_count": 17,
          "data": {
            "application/vnd.deepnote.dataframe.v3+json": {
              "column_count": 4,
              "row_count": 229,
              "columns": [
                {
                  "name": "LEGAL_NAME",
                  "dtype": "object",
                  "stats": {
                    "unique_count": 1,
                    "nan_count": 0,
                    "categories": [
                      {
                        "name": "CHICAGO HILTON LLC",
                        "count": 229
                      }
                    ]
                  }
                },
                {
                  "name": "DBA",
                  "dtype": "object",
                  "stats": {
                    "unique_count": 1,
                    "nan_count": 0,
                    "categories": [
                      {
                        "name": "CHICAGO HILTON & TOWERS",
                        "count": 229
                      }
                    ]
                  }
                },
                {
                  "name": "ADDRESS",
                  "dtype": "object",
                  "stats": {
                    "unique_count": 1,
                    "nan_count": 0,
                    "categories": [
                      {
                        "name": "720 S MICHIGAN AVE",
                        "count": 229
                      }
                    ]
                  }
                },
                {
                  "name": "BUSINESS_ACTIVITY",
                  "dtype": "object",
                  "stats": {
                    "unique_count": 11,
                    "nan_count": 18,
                    "categories": [
                      {
                        "name": "Consumption of Liquor on Premises",
                        "count": 106
                      },
                      {
                        "name": "10 others",
                        "count": 105
                      },
                      {
                        "name": "Missing",
                        "count": 18
                      }
                    ]
                  }
                },
                {
                  "name": "_deepnote_index_column",
                  "dtype": "int64"
                }
              ],
              "rows": [
                {
                  "LEGAL_NAME": "CHICAGO HILTON LLC",
                  "DBA": "CHICAGO HILTON & TOWERS",
                  "ADDRESS": "720 S MICHIGAN AVE",
                  "BUSINESS_ACTIVITY": "Consumption of Liquor on Premises",
                  "_deepnote_index_column": 0
                },
                {
                  "LEGAL_NAME": "CHICAGO HILTON LLC",
                  "DBA": "CHICAGO HILTON & TOWERS",
                  "ADDRESS": "720 S MICHIGAN AVE",
                  "BUSINESS_ACTIVITY": "Consumption of Liquor on Premises",
                  "_deepnote_index_column": 1
                },
                {
                  "LEGAL_NAME": "CHICAGO HILTON LLC",
                  "DBA": "CHICAGO HILTON & TOWERS",
                  "ADDRESS": "720 S MICHIGAN AVE",
                  "BUSINESS_ACTIVITY": "Sale of Liquor Outdoors on Private Property",
                  "_deepnote_index_column": 2
                },
                {
                  "LEGAL_NAME": "CHICAGO HILTON LLC",
                  "DBA": "CHICAGO HILTON & TOWERS",
                  "ADDRESS": "720 S MICHIGAN AVE",
                  "BUSINESS_ACTIVITY": "Consumption of Liquor on Premises",
                  "_deepnote_index_column": 3
                },
                {
                  "LEGAL_NAME": "CHICAGO HILTON LLC",
                  "DBA": "CHICAGO HILTON & TOWERS",
                  "ADDRESS": "720 S MICHIGAN AVE",
                  "BUSINESS_ACTIVITY": "Consumption of Liquor on Premises",
                  "_deepnote_index_column": 4
                },
                {
                  "LEGAL_NAME": "CHICAGO HILTON LLC",
                  "DBA": "CHICAGO HILTON & TOWERS",
                  "ADDRESS": "720 S MICHIGAN AVE",
                  "BUSINESS_ACTIVITY": "Retail Sales of Perishable Foods",
                  "_deepnote_index_column": 5
                },
                {
                  "LEGAL_NAME": "CHICAGO HILTON LLC",
                  "DBA": "CHICAGO HILTON & TOWERS",
                  "ADDRESS": "720 S MICHIGAN AVE",
                  "BUSINESS_ACTIVITY": "Consumption of Liquor on Premises",
                  "_deepnote_index_column": 6
                },
                {
                  "LEGAL_NAME": "CHICAGO HILTON LLC",
                  "DBA": "CHICAGO HILTON & TOWERS",
                  "ADDRESS": "720 S MICHIGAN AVE",
                  "BUSINESS_ACTIVITY": "Consumption of Liquor on Premises",
                  "_deepnote_index_column": 7
                },
                {
                  "LEGAL_NAME": "CHICAGO HILTON LLC",
                  "DBA": "CHICAGO HILTON & TOWERS",
                  "ADDRESS": "720 S MICHIGAN AVE",
                  "BUSINESS_ACTIVITY": "Retail Sales of Perishable Foods",
                  "_deepnote_index_column": 8
                },
                {
                  "LEGAL_NAME": "CHICAGO HILTON LLC",
                  "DBA": "CHICAGO HILTON & TOWERS",
                  "ADDRESS": "720 S MICHIGAN AVE",
                  "BUSINESS_ACTIVITY": "None",
                  "_deepnote_index_column": 9
                }
              ]
            },
            "text/plain": "             LEGAL_NAME                      DBA             ADDRESS  \\\n0    CHICAGO HILTON LLC  CHICAGO HILTON & TOWERS  720 S MICHIGAN AVE   \n1    CHICAGO HILTON LLC  CHICAGO HILTON & TOWERS  720 S MICHIGAN AVE   \n2    CHICAGO HILTON LLC  CHICAGO HILTON & TOWERS  720 S MICHIGAN AVE   \n3    CHICAGO HILTON LLC  CHICAGO HILTON & TOWERS  720 S MICHIGAN AVE   \n4    CHICAGO HILTON LLC  CHICAGO HILTON & TOWERS  720 S MICHIGAN AVE   \n..                  ...                      ...                 ...   \n224  CHICAGO HILTON LLC  CHICAGO HILTON & TOWERS  720 S MICHIGAN AVE   \n225  CHICAGO HILTON LLC  CHICAGO HILTON & TOWERS  720 S MICHIGAN AVE   \n226  CHICAGO HILTON LLC  CHICAGO HILTON & TOWERS  720 S MICHIGAN AVE   \n227  CHICAGO HILTON LLC  CHICAGO HILTON & TOWERS  720 S MICHIGAN AVE   \n228  CHICAGO HILTON LLC  CHICAGO HILTON & TOWERS  720 S MICHIGAN AVE   \n\n                                     BUSINESS_ACTIVITY  \n0                    Consumption of Liquor on Premises  \n1                    Consumption of Liquor on Premises  \n2          Sale of Liquor Outdoors on Private Property  \n3                    Consumption of Liquor on Premises  \n4                    Consumption of Liquor on Premises  \n..                                                 ...  \n224                             Retail Sale of Tobacco  \n225                   Retail Sales of Perishable Foods  \n226                   Retail Sales of Perishable Foods  \n227         Provides Onsite Amusement or Entertainment  \n228  Hotel - 7 or More Sleeping Rooms  | Provide Fu...  \n\n[229 rows x 4 columns]",
            "text/html": "<div>\n<style scoped>\n    .dataframe tbody tr th:only-of-type {\n        vertical-align: middle;\n    }\n\n    .dataframe tbody tr th {\n        vertical-align: top;\n    }\n\n    .dataframe thead th {\n        text-align: right;\n    }\n</style>\n<table border=\"1\" class=\"dataframe\">\n  <thead>\n    <tr style=\"text-align: right;\">\n      <th></th>\n      <th>LEGAL_NAME</th>\n      <th>DBA</th>\n      <th>ADDRESS</th>\n      <th>BUSINESS_ACTIVITY</th>\n    </tr>\n  </thead>\n  <tbody>\n    <tr>\n      <th>0</th>\n      <td>CHICAGO HILTON LLC</td>\n      <td>CHICAGO HILTON &amp; TOWERS</td>\n      <td>720 S MICHIGAN AVE</td>\n      <td>Consumption of Liquor on Premises</td>\n    </tr>\n    <tr>\n      <th>1</th>\n      <td>CHICAGO HILTON LLC</td>\n      <td>CHICAGO HILTON &amp; TOWERS</td>\n      <td>720 S MICHIGAN AVE</td>\n      <td>Consumption of Liquor on Premises</td>\n    </tr>\n    <tr>\n      <th>2</th>\n      <td>CHICAGO HILTON LLC</td>\n      <td>CHICAGO HILTON &amp; TOWERS</td>\n      <td>720 S MICHIGAN AVE</td>\n      <td>Sale of Liquor Outdoors on Private Property</td>\n    </tr>\n    <tr>\n      <th>3</th>\n      <td>CHICAGO HILTON LLC</td>\n      <td>CHICAGO HILTON &amp; TOWERS</td>\n      <td>720 S MICHIGAN AVE</td>\n      <td>Consumption of Liquor on Premises</td>\n    </tr>\n    <tr>\n      <th>4</th>\n      <td>CHICAGO HILTON LLC</td>\n      <td>CHICAGO HILTON &amp; TOWERS</td>\n      <td>720 S MICHIGAN AVE</td>\n      <td>Consumption of Liquor on Premises</td>\n    </tr>\n    <tr>\n      <th>...</th>\n      <td>...</td>\n      <td>...</td>\n      <td>...</td>\n      <td>...</td>\n    </tr>\n    <tr>\n      <th>224</th>\n      <td>CHICAGO HILTON LLC</td>\n      <td>CHICAGO HILTON &amp; TOWERS</td>\n      <td>720 S MICHIGAN AVE</td>\n      <td>Retail Sale of Tobacco</td>\n    </tr>\n    <tr>\n      <th>225</th>\n      <td>CHICAGO HILTON LLC</td>\n      <td>CHICAGO HILTON &amp; TOWERS</td>\n      <td>720 S MICHIGAN AVE</td>\n      <td>Retail Sales of Perishable Foods</td>\n    </tr>\n    <tr>\n      <th>226</th>\n      <td>CHICAGO HILTON LLC</td>\n      <td>CHICAGO HILTON &amp; TOWERS</td>\n      <td>720 S MICHIGAN AVE</td>\n      <td>Retail Sales of Perishable Foods</td>\n    </tr>\n    <tr>\n      <th>227</th>\n      <td>CHICAGO HILTON LLC</td>\n      <td>CHICAGO HILTON &amp; TOWERS</td>\n      <td>720 S MICHIGAN AVE</td>\n      <td>Provides Onsite Amusement or Entertainment</td>\n    </tr>\n    <tr>\n      <th>228</th>\n      <td>CHICAGO HILTON LLC</td>\n      <td>CHICAGO HILTON &amp; TOWERS</td>\n      <td>720 S MICHIGAN AVE</td>\n      <td>Hotel - 7 or More Sleeping Rooms  | Provide Fu...</td>\n    </tr>\n  </tbody>\n</table>\n<p>229 rows × 4 columns</p>\n</div>"
          },
          "metadata": {}
        }
      ],
      "outputs_reference": null,
      "execution_count": null,
      "block_group": "4d361933414b423ab6b479a901ebe542",
      "content_dependencies": null
    },
    {
      "cell_type": "code",
      "source": "df_3 = _deepnote_execute_sql('SELECT LEGAL_NAME,DBA, BUSINESS_ACTIVITY from \\'BusCorrected.csv\\' \\nwhere BUSINESS_ACTIVITY_ID = \\'None\\'\\n', 'SQL_DEEPNOTE_DATAFRAME_SQL', audit_sql_comment='', sql_cache_mode='cache_disabled')\ndf_3",
      "metadata": {
        "source_hash": "51e3174b",
        "execution_start": 1709256104309,
        "execution_millis": 1710,
        "sql_integration_id": "deepnote-dataframe-sql",
        "deepnote_variable_name": "df_3",
        "deepnote_to_be_reexecuted": true,
        "cell_id": "4f3eb992cf954653a86117d1eb5b3da4",
        "deepnote_cell_type": "sql",
        "deepnote_sql_source": "SELECT LEGAL_NAME,DBA, BUSINESS_ACTIVITY from 'BusCorrected.csv' \nwhere BUSINESS_ACTIVITY_ID = 'None'\n"
      },
      "outputs": [
        {
          "output_type": "execute_result",
          "execution_count": 18,
          "data": {
            "application/vnd.deepnote.dataframe.v3+json": {
              "column_count": 3,
              "row_count": 0,
              "columns": [
                {
                  "name": "LEGAL_NAME",
                  "dtype": "object",
                  "stats": {
                    "unique_count": 0,
                    "nan_count": 0,
                    "categories": []
                  }
                },
                {
                  "name": "DBA",
                  "dtype": "object",
                  "stats": {
                    "unique_count": 0,
                    "nan_count": 0,
                    "categories": []
                  }
                },
                {
                  "name": "BUSINESS_ACTIVITY",
                  "dtype": "object",
                  "stats": {
                    "unique_count": 0,
                    "nan_count": 0,
                    "categories": []
                  }
                },
                {
                  "name": "_deepnote_index_column",
                  "dtype": "int64"
                }
              ],
              "rows": []
            },
            "text/plain": "Empty DataFrame\nColumns: [LEGAL_NAME, DBA, BUSINESS_ACTIVITY]\nIndex: []",
            "text/html": "<div>\n<style scoped>\n    .dataframe tbody tr th:only-of-type {\n        vertical-align: middle;\n    }\n\n    .dataframe tbody tr th {\n        vertical-align: top;\n    }\n\n    .dataframe thead th {\n        text-align: right;\n    }\n</style>\n<table border=\"1\" class=\"dataframe\">\n  <thead>\n    <tr style=\"text-align: right;\">\n      <th></th>\n      <th>LEGAL_NAME</th>\n      <th>DBA</th>\n      <th>BUSINESS_ACTIVITY</th>\n    </tr>\n  </thead>\n  <tbody>\n  </tbody>\n</table>\n</div>"
          },
          "metadata": {}
        }
      ],
      "outputs_reference": null,
      "execution_count": null,
      "block_group": "1e520b500c8f4d8e8eb8c457e6e52874",
      "content_dependencies": null
    },
    {
      "cell_type": "code",
      "source": "# functions to find tif district\n\nfrom geopy.geocoders import Nominatim\n\nAdress = \"800 W Fulton Market, Chicago, IL 60607\"\nTIF = \"Kinzie Industrial Conservation Area\"\n\ndef addressInsideTIF(address):\n    # calling the Nominatim tool and create Nominatim class\n    loc = Nominatim(user_agent=\"Geopy Library\")\n\n    # entering the location name\n    getLoc = loc.geocode(address)\n\n    # convert to a point\n    addressPoint = Point(getLoc.latitude, getLoc.longitude)\n\n    # give it to the isInsideTIF function as a point and return the result\n    return isInsideTIF(addressPoint)\n\ndef isInsideTIF(point):\n    # takes a Point class and returns the index of the TIF that contains the Point\n    # NOTE: RETURNS AN ARRAY NOT BOOL\n    returnArray = []\n    # iterate over all the distrcits and see if it contains the given point\n    for index, row in tif.iterrows():\n        if row['geometry'].contains(point):\n            returnArray.append(index)\n    \n    return returnArray\n\naddressInsideTIF(Adress)",
      "metadata": {
        "source_hash": "a2576ad4",
        "execution_start": 1709834628429,
        "execution_millis": 190,
        "deepnote_to_be_reexecuted": true,
        "cell_id": "9b19456c84ec4d0fa6487e92095dba48",
        "deepnote_cell_type": "code"
      },
      "outputs": [
        {
          "output_type": "execute_result",
          "execution_count": 8,
          "data": {
            "text/plain": "<AxesSubplot: >"
          },
          "metadata": {}
        },
        {
          "data": {
            "text/plain": "<Figure size 640x480 with 1 Axes>",
            "image/png": "[encoded data removed]"
          },
          "metadata": {
            "image/png": {
              "width": 269,
              "height": 413
            }
          },
          "output_type": "display_data"
        }
      ],
      "outputs_reference": null,
      "execution_count": null,
      "block_group": "11a8cfbfade34ba09512c810279cea3c",
      "content_dependencies": null
    },
    {
      "cell_type": "code",
      "source": "# this adds the tif number column tool over 2 hours\n# df_1['TIF_Number'] = [isInsideTIF(Point(row['LONGITUDE'],row['LATITUDE'])) for index, row in df_1.iterrows()]\n# df_1",
      "metadata": {
        "source_hash": "d354cb86",
        "execution_start": 1709256106060,
        "execution_millis": 911559,
        "deepnote_to_be_reexecuted": true,
        "cell_id": "ea4026cc627941cc95da3e9e543d1173",
        "deepnote_cell_type": "code"
      },
      "outputs": [
        {
          "name": "stderr",
          "text": "\nKeyboardInterrupt\n\n",
          "output_type": "stream"
        }
      ],
      "outputs_reference": null,
      "execution_count": null,
      "block_group": "f4f602e26f164bd98dc0b266fb2e4d09",
      "content_dependencies": null
    },
    {
      "cell_type": "code",
      "source": "",
      "metadata": {
        "source_hash": "b623e53d",
        "deepnote_to_be_reexecuted": true,
        "cell_id": "0d7acac12528414ead156f802674db4c",
        "deepnote_cell_type": "code"
      },
      "outputs": [],
      "outputs_reference": null,
      "execution_count": null,
      "block_group": "a851215c6d9c4d268cda122831aafd65",
      "content_dependencies": null
    },
    {
      "cell_type": "markdown",
      "source": "<a style='text-decoration:none;line-height:16px;display:flex;color:#5B5B62;padding:10px;justify-content:end;' href='https://deepnote.com?utm_source=created-in-deepnote-cell&projectId=41bd1eeb-8ade-41a5-ae81-cf4a88f38197' target=\"_blank\">\n<img alt='Created in deepnote.com' style='display:inline;max-height:16px;margin:0px;margin-right:7.5px;' src='data:image/svg+xml;base64,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' > </img>\nCreated in <span style='font-weight:600;margin-left:4px;'>Deepnote</span></a>",
      "metadata": {
        "created_in_deepnote_cell": true,
        "deepnote_cell_type": "markdown"
      }
    }
  ],
  "nbformat": 4,
  "nbformat_minor": 0,
  "metadata": {
    "deepnote_notebook_id": "65fac655695c402780787e940e3ed1c3",
    "deepnote_execution_queue": []
  }
}