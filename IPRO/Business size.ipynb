{
  "cells": [
    {
      "cell_type": "markdown",
      "source": "# Splitting the Licenses into Big / Medium / Small",
      "metadata": {
        "formattedRanges": [],
        "cell_id": "e06af1d19782400fa641c28d414125a5",
        "deepnote_cell_type": "text-cell-h1"
      },
      "block_group": "4fd916b74f6f4bcb90bb67214b57eba6"
    },
    {
      "cell_type": "markdown",
      "source": "# SQL",
      "metadata": {
        "formattedRanges": [],
        "cell_id": "3e9c00dad83b4e4aa9cb6937345b92ab",
        "deepnote_cell_type": "text-cell-h1"
      },
      "block_group": "7c724ce8b3cb4330a8a1d2e18ec2d6d3"
    },
    {
      "cell_type": "code",
      "source": "total_names = _deepnote_execute_sql('SELECT COUNT(*) as name_counts\\nFROM \\'BusWithTIF.csv\\'', 'SQL_DEEPNOTE_DATAFRAME_SQL', audit_sql_comment='', sql_cache_mode='cache_disabled')\ntotal_names",
      "metadata": {
        "source_hash": null,
        "execution_start": 1710647059120,
        "execution_millis": 8076,
        "sql_integration_id": "deepnote-dataframe-sql",
        "deepnote_variable_name": "total_names",
        "deepnote_to_be_reexecuted": false,
        "cell_id": "aa52509fa59448129c70f5e6d7f7f403",
        "deepnote_cell_type": "sql",
        "deepnote_sql_source": "SELECT COUNT(*) as name_counts\nFROM 'BusWithTIF.csv'"
      },
      "outputs": [
        {
          "output_type": "execute_result",
          "execution_count": 1,
          "data": {
            "application/vnd.deepnote.dataframe.v3+json": {
              "column_count": 1,
              "row_count": 1,
              "columns": [
                {
                  "name": "name_counts",
                  "dtype": "int64",
                  "stats": {
                    "unique_count": 1,
                    "nan_count": 0,
                    "min": "1033616",
                    "max": "1033616",
                    "histogram": [
                      {
                        "bin_start": 1033615.5,
                        "bin_end": 1033615.6,
                        "count": 0
                      },
                      {
                        "bin_start": 1033615.6,
                        "bin_end": 1033615.7,
                        "count": 0
                      },
                      {
                        "bin_start": 1033615.7,
                        "bin_end": 1033615.8,
                        "count": 0
                      },
                      {
                        "bin_start": 1033615.8,
                        "bin_end": 1033615.9,
                        "count": 0
                      },
                      {
                        "bin_start": 1033615.9,
                        "bin_end": 1033616,
                        "count": 0
                      },
                      {
                        "bin_start": 1033616,
                        "bin_end": 1033616.1,
                        "count": 1
                      },
                      {
                        "bin_start": 1033616.1,
                        "bin_end": 1033616.2,
                        "count": 0
                      },
                      {
                        "bin_start": 1033616.2,
                        "bin_end": 1033616.3,
                        "count": 0
                      },
                      {
                        "bin_start": 1033616.3,
                        "bin_end": 1033616.4,
                        "count": 0
                      },
                      {
                        "bin_start": 1033616.4,
                        "bin_end": 1033616.5,
                        "count": 0
                      }
                    ]
                  }
                },
                {
                  "name": "_deepnote_index_column",
                  "dtype": "int64"
                }
              ],
              "rows": [
                {
                  "name_counts": 1033616,
                  "_deepnote_index_column": 0
                }
              ]
            },
            "text/plain": "   name_counts\n0      1033616",
            "text/html": "<div>\n<style scoped>\n    .dataframe tbody tr th:only-of-type {\n        vertical-align: middle;\n    }\n\n    .dataframe tbody tr th {\n        vertical-align: top;\n    }\n\n    .dataframe thead th {\n        text-align: right;\n    }\n</style>\n<table border=\"1\" class=\"dataframe\">\n  <thead>\n    <tr style=\"text-align: right;\">\n      <th></th>\n      <th>name_counts</th>\n    </tr>\n  </thead>\n  <tbody>\n    <tr>\n      <th>0</th>\n      <td>1033616</td>\n    </tr>\n  </tbody>\n</table>\n</div>"
          },
          "metadata": {}
        }
      ],
      "outputs_reference": null,
      "execution_count": null,
      "block_group": "06d727ef08ba4d5d93ae28ae2af6f91c",
      "content_dependencies": null
    },
    {
      "cell_type": "code",
      "source": "df_1 = _deepnote_execute_sql('SELECT LEGAL_NAME, COUNT(*) as count\\nFROM \\'BusWithTIF.csv\\'\\nGROUP BY LEGAL_NAME\\norder by count desc\\n\\n-- shows the count associated with each LEGAL_NAME value, we can use this to distinguish big, medium, and small businesses', 'SQL_DEEPNOTE_DATAFRAME_SQL', audit_sql_comment='', sql_cache_mode='cache_disabled')\ndf_1",
      "metadata": {
        "source_hash": null,
        "execution_start": 1710647067203,
        "execution_millis": 3205,
        "sql_integration_id": "deepnote-dataframe-sql",
        "deepnote_table_state": {
          "sortBy": [],
          "filters": [],
          "pageSize": 10,
          "pageIndex": 0
        },
        "deepnote_table_loading": false,
        "deepnote_variable_name": "df_1",
        "deepnote_to_be_reexecuted": false,
        "cell_id": "84357a7208194f58b92a6a3416c70e53",
        "deepnote_cell_type": "sql",
        "deepnote_sql_source": "SELECT LEGAL_NAME, COUNT(*) as count\nFROM 'BusWithTIF.csv'\nGROUP BY LEGAL_NAME\norder by count desc\n\n-- shows the count associated with each LEGAL_NAME value, we can use this to distinguish big, medium, and small businesses"
      },
      "outputs": [
        {
          "output_type": "execute_result",
          "execution_count": 2,
          "data": {
            "application/vnd.deepnote.dataframe.v3+json": {
              "column_count": 2,
              "row_count": 161322,
              "columns": [
                {
                  "name": "LEGAL_NAME",
                  "dtype": "object"
                },
                {
                  "name": "count",
                  "dtype": "int64"
                },
                {
                  "name": "_deepnote_index_column",
                  "dtype": "int64"
                }
              ],
              "rows": [
                {
                  "LEGAL_NAME": "WALGREEN CO.",
                  "count": 3368,
                  "_deepnote_index_column": 0
                },
                {
                  "LEGAL_NAME": "BOND DRUG COMPANY OF ILLINOIS, LLC",
                  "count": 2741,
                  "_deepnote_index_column": 1
                },
                {
                  "LEGAL_NAME": "SP PLUS CORPORATION",
                  "count": 2709,
                  "_deepnote_index_column": 2
                },
                {
                  "LEGAL_NAME": "STARBUCKS CORPORATION",
                  "count": 2365,
                  "_deepnote_index_column": 3
                },
                {
                  "LEGAL_NAME": "AMERICAN DRUG STORES LLC",
                  "count": 2101,
                  "_deepnote_index_column": 4
                },
                {
                  "LEGAL_NAME": "FAMILY DOLLAR, LLC",
                  "count": 2099,
                  "_deepnote_index_column": 5
                },
                {
                  "LEGAL_NAME": "HIGHLAND PARK CVS, L.L.C.",
                  "count": 2021,
                  "_deepnote_index_column": 6
                },
                {
                  "LEGAL_NAME": "ALLIED WASTE TRANSPORTATION, INC.",
                  "count": 1455,
                  "_deepnote_index_column": 7
                },
                {
                  "LEGAL_NAME": "HOST INTERNATIONAL, INC.",
                  "count": 1318,
                  "_deepnote_index_column": 8
                },
                {
                  "LEGAL_NAME": "H&R BLOCK ENTERPRISES LLC",
                  "count": 1309,
                  "_deepnote_index_column": 9
                }
              ]
            },
            "text/plain": "                                LEGAL_NAME  count\n0                             WALGREEN CO.   3368\n1       BOND DRUG COMPANY OF ILLINOIS, LLC   2741\n2                      SP PLUS CORPORATION   2709\n3                    STARBUCKS CORPORATION   2365\n4                 AMERICAN DRUG STORES LLC   2101\n...                                    ...    ...\n161317       Ezza Nails - 26 S Halsted LLC      1\n161318                         AMEPOL INC.      1\n161319               UNIQUEPRINTZ69 L.L.C.      1\n161320                           AWA FOMBA      1\n161321                   TERRANCE J. WATTS      1\n\n[161322 rows x 2 columns]",
            "text/html": "<div>\n<style scoped>\n    .dataframe tbody tr th:only-of-type {\n        vertical-align: middle;\n    }\n\n    .dataframe tbody tr th {\n        vertical-align: top;\n    }\n\n    .dataframe thead th {\n        text-align: right;\n    }\n</style>\n<table border=\"1\" class=\"dataframe\">\n  <thead>\n    <tr style=\"text-align: right;\">\n      <th></th>\n      <th>LEGAL_NAME</th>\n      <th>count</th>\n    </tr>\n  </thead>\n  <tbody>\n    <tr>\n      <th>0</th>\n      <td>WALGREEN CO.</td>\n      <td>3368</td>\n    </tr>\n    <tr>\n      <th>1</th>\n      <td>BOND DRUG COMPANY OF ILLINOIS, LLC</td>\n      <td>2741</td>\n    </tr>\n    <tr>\n      <th>2</th>\n      <td>SP PLUS CORPORATION</td>\n      <td>2709</td>\n    </tr>\n    <tr>\n      <th>3</th>\n      <td>STARBUCKS CORPORATION</td>\n      <td>2365</td>\n    </tr>\n    <tr>\n      <th>4</th>\n      <td>AMERICAN DRUG STORES LLC</td>\n      <td>2101</td>\n    </tr>\n    <tr>\n      <th>...</th>\n      <td>...</td>\n      <td>...</td>\n    </tr>\n    <tr>\n      <th>161317</th>\n      <td>Ezza Nails - 26 S Halsted LLC</td>\n      <td>1</td>\n    </tr>\n    <tr>\n      <th>161318</th>\n      <td>AMEPOL INC.</td>\n      <td>1</td>\n    </tr>\n    <tr>\n      <th>161319</th>\n      <td>UNIQUEPRINTZ69 L.L.C.</td>\n      <td>1</td>\n    </tr>\n    <tr>\n      <th>161320</th>\n      <td>AWA FOMBA</td>\n      <td>1</td>\n    </tr>\n    <tr>\n      <th>161321</th>\n      <td>TERRANCE J. WATTS</td>\n      <td>1</td>\n    </tr>\n  </tbody>\n</table>\n<p>161322 rows × 2 columns</p>\n</div>"
          },
          "metadata": {}
        }
      ],
      "outputs_reference": null,
      "execution_count": null,
      "block_group": "53d7e3415a91459ab5a0e9954dd792b0",
      "content_dependencies": null
    },
    {
      "cell_type": "code",
      "source": "df_2 = _deepnote_execute_sql('SELECT count(count) AS frequency, count AS count_value\\nFROM (\\n    SELECT COUNT(*) AS count\\n    FROM \\'BusWithTIF.csv\\'\\n    GROUP BY LEGAL_NAME\\n) AS counts\\nGROUP BY count\\nORDER BY count_value ASC;\\n\\n-- look at the distribution of frequencies', 'SQL_DEEPNOTE_DATAFRAME_SQL', audit_sql_comment='', sql_cache_mode='cache_disabled')\ndf_2",
      "metadata": {
        "source_hash": null,
        "execution_start": 1710647070416,
        "execution_millis": 3714,
        "sql_integration_id": "deepnote-dataframe-sql",
        "deepnote_table_state": {
          "sortBy": [],
          "filters": [],
          "pageSize": 10,
          "pageIndex": 0
        },
        "deepnote_table_loading": false,
        "deepnote_variable_name": "df_2",
        "deepnote_to_be_reexecuted": false,
        "cell_id": "b9b4bbe7bcdb4372b8d0fe3fc5d394cd",
        "deepnote_cell_type": "sql",
        "deepnote_sql_source": "SELECT count(count) AS frequency, count AS count_value\nFROM (\n    SELECT COUNT(*) AS count\n    FROM 'BusWithTIF.csv'\n    GROUP BY LEGAL_NAME\n) AS counts\nGROUP BY count\nORDER BY count_value ASC;\n\n-- look at the distribution of frequencies"
      },
      "outputs": [
        {
          "output_type": "execute_result",
          "execution_count": 3,
          "data": {
            "application/vnd.deepnote.dataframe.v3+json": {
              "column_count": 2,
              "row_count": 287,
              "columns": [
                {
                  "name": "frequency",
                  "dtype": "int64",
                  "stats": {
                    "unique_count": 81,
                    "nan_count": 0,
                    "min": "1",
                    "max": "47549",
                    "histogram": [
                      {
                        "bin_start": 1,
                        "bin_end": 4755.8,
                        "count": 279
                      },
                      {
                        "bin_start": 4755.8,
                        "bin_end": 9510.6,
                        "count": 4
                      },
                      {
                        "bin_start": 9510.6,
                        "bin_end": 14265.400000000001,
                        "count": 1
                      },
                      {
                        "bin_start": 14265.400000000001,
                        "bin_end": 19020.2,
                        "count": 1
                      },
                      {
                        "bin_start": 19020.2,
                        "bin_end": 23775,
                        "count": 0
                      },
                      {
                        "bin_start": 23775,
                        "bin_end": 28529.800000000003,
                        "count": 1
                      },
                      {
                        "bin_start": 28529.800000000003,
                        "bin_end": 33284.6,
                        "count": 0
                      },
                      {
                        "bin_start": 33284.6,
                        "bin_end": 38039.4,
                        "count": 0
                      },
                      {
                        "bin_start": 38039.4,
                        "bin_end": 42794.200000000004,
                        "count": 0
                      },
                      {
                        "bin_start": 42794.200000000004,
                        "bin_end": 47549,
                        "count": 1
                      }
                    ]
                  }
                },
                {
                  "name": "count_value",
                  "dtype": "int64",
                  "stats": {
                    "unique_count": 287,
                    "nan_count": 0,
                    "min": "1",
                    "max": "3368",
                    "histogram": [
                      {
                        "bin_start": 1,
                        "bin_end": 337.7,
                        "count": 236
                      },
                      {
                        "bin_start": 337.7,
                        "bin_end": 674.4,
                        "count": 30
                      },
                      {
                        "bin_start": 674.4,
                        "bin_end": 1011.0999999999999,
                        "count": 8
                      },
                      {
                        "bin_start": 1011.0999999999999,
                        "bin_end": 1347.8,
                        "count": 5
                      },
                      {
                        "bin_start": 1347.8,
                        "bin_end": 1684.5,
                        "count": 1
                      },
                      {
                        "bin_start": 1684.5,
                        "bin_end": 2021.1999999999998,
                        "count": 1
                      },
                      {
                        "bin_start": 2021.1999999999998,
                        "bin_end": 2357.9,
                        "count": 2
                      },
                      {
                        "bin_start": 2357.9,
                        "bin_end": 2694.6,
                        "count": 1
                      },
                      {
                        "bin_start": 2694.6,
                        "bin_end": 3031.2999999999997,
                        "count": 2
                      },
                      {
                        "bin_start": 3031.2999999999997,
                        "bin_end": 3368,
                        "count": 1
                      }
                    ]
                  }
                },
                {
                  "name": "_deepnote_index_column",
                  "dtype": "int64"
                }
              ],
              "rows": [
                {
                  "frequency": 47549,
                  "count_value": 1,
                  "_deepnote_index_column": 0
                },
                {
                  "frequency": 26119,
                  "count_value": 2,
                  "_deepnote_index_column": 1
                },
                {
                  "frequency": 15936,
                  "count_value": 3,
                  "_deepnote_index_column": 2
                },
                {
                  "frequency": 11943,
                  "count_value": 4,
                  "_deepnote_index_column": 3
                },
                {
                  "frequency": 8190,
                  "count_value": 5,
                  "_deepnote_index_column": 4
                },
                {
                  "frequency": 7695,
                  "count_value": 6,
                  "_deepnote_index_column": 5
                },
                {
                  "frequency": 5548,
                  "count_value": 7,
                  "_deepnote_index_column": 6
                },
                {
                  "frequency": 5289,
                  "count_value": 8,
                  "_deepnote_index_column": 7
                },
                {
                  "frequency": 4180,
                  "count_value": 9,
                  "_deepnote_index_column": 8
                },
                {
                  "frequency": 3661,
                  "count_value": 10,
                  "_deepnote_index_column": 9
                }
              ]
            },
            "text/plain": "     frequency  count_value\n0        47549            1\n1        26119            2\n2        15936            3\n3        11943            4\n4         8190            5\n..         ...          ...\n282          1         2101\n283          1         2365\n284          1         2709\n285          1         2741\n286          1         3368\n\n[287 rows x 2 columns]",
            "text/html": "<div>\n<style scoped>\n    .dataframe tbody tr th:only-of-type {\n        vertical-align: middle;\n    }\n\n    .dataframe tbody tr th {\n        vertical-align: top;\n    }\n\n    .dataframe thead th {\n        text-align: right;\n    }\n</style>\n<table border=\"1\" class=\"dataframe\">\n  <thead>\n    <tr style=\"text-align: right;\">\n      <th></th>\n      <th>frequency</th>\n      <th>count_value</th>\n    </tr>\n  </thead>\n  <tbody>\n    <tr>\n      <th>0</th>\n      <td>47549</td>\n      <td>1</td>\n    </tr>\n    <tr>\n      <th>1</th>\n      <td>26119</td>\n      <td>2</td>\n    </tr>\n    <tr>\n      <th>2</th>\n      <td>15936</td>\n      <td>3</td>\n    </tr>\n    <tr>\n      <th>3</th>\n      <td>11943</td>\n      <td>4</td>\n    </tr>\n    <tr>\n      <th>4</th>\n      <td>8190</td>\n      <td>5</td>\n    </tr>\n    <tr>\n      <th>...</th>\n      <td>...</td>\n      <td>...</td>\n    </tr>\n    <tr>\n      <th>282</th>\n      <td>1</td>\n      <td>2101</td>\n    </tr>\n    <tr>\n      <th>283</th>\n      <td>1</td>\n      <td>2365</td>\n    </tr>\n    <tr>\n      <th>284</th>\n      <td>1</td>\n      <td>2709</td>\n    </tr>\n    <tr>\n      <th>285</th>\n      <td>1</td>\n      <td>2741</td>\n    </tr>\n    <tr>\n      <th>286</th>\n      <td>1</td>\n      <td>3368</td>\n    </tr>\n  </tbody>\n</table>\n<p>287 rows × 2 columns</p>\n</div>"
          },
          "metadata": {}
        }
      ],
      "outputs_reference": null,
      "execution_count": null,
      "block_group": "0c53bfe2c0b14f08bd13f237cfa9ed68",
      "content_dependencies": null
    },
    {
      "cell_type": "markdown",
      "source": "# Python",
      "metadata": {
        "formattedRanges": [],
        "cell_id": "a487bf75f7b348a0b25cf4daa6d24a3f",
        "deepnote_cell_type": "text-cell-h1"
      },
      "block_group": "effcab6c94db44a8b4ecec9f41dd1de7"
    },
    {
      "cell_type": "code",
      "source": "import pandas\n",
      "metadata": {
        "source_hash": null,
        "execution_start": 1710647074134,
        "execution_millis": 280,
        "deepnote_to_be_reexecuted": false,
        "cell_id": "0cd8fff8c13e43438235217aa3898b1f",
        "deepnote_cell_type": "code"
      },
      "outputs": [],
      "outputs_reference": null,
      "execution_count": null,
      "block_group": "6bfc25dab14541108213a4706a541368",
      "content_dependencies": null
    },
    {
      "cell_type": "code",
      "source": "legal_name_counts = pandas.DataFrame(df_1)\ncount_freqs = pandas.DataFrame(df_2)\ntotal_names = pandas.DataFrame(total_names)['name_counts'].iloc[0]\n\nbusinesses_in_each_class = total_names//3 + 1",
      "metadata": {
        "source_hash": null,
        "execution_start": 1710647074163,
        "execution_millis": 252,
        "deepnote_to_be_reexecuted": false,
        "cell_id": "27f36cba87ff49e08d1e44b5068229bd",
        "deepnote_cell_type": "code"
      },
      "outputs": [],
      "outputs_reference": null,
      "execution_count": null,
      "block_group": "825248f7c102454cbbaf01984756bd5d",
      "content_dependencies": null
    },
    {
      "cell_type": "code",
      "source": "current_count = 0\ncurrent_class = 0\nclasses = ['Small', 'Medium', 'Big']\nclass_to_counts = {'Small':[], 'Medium':[], 'Big':[],}\nfor row in count_freqs.values:\n    if current_count >= businesses_in_each_class and current_class < 2:\n        print(\"rows in class\", current_class, \":\", current_count)\n        current_class += 1\n        current_count = 0\n    current_count += (row[0] * row[1])\n    class_to_counts[classes[current_class]].append(row[1])\nprint(\"rows in class 2:\", current_count)\nprint(class_to_counts['Small'])\nprint(class_to_counts['Medium'])\nprint(class_to_counts['Big'])",
      "metadata": {
        "source_hash": null,
        "execution_start": 1710647074167,
        "execution_millis": 248,
        "deepnote_to_be_reexecuted": false,
        "cell_id": "13e273246fc643f094e8b269c55aebb9",
        "deepnote_cell_type": "code"
      },
      "outputs": [
        {
          "name": "stdout",
          "text": "rows in class 0 : 363635\nrows in class 1 : 354486\nrows in class 2: 315495\n[1, 2, 3, 4, 5, 6, 7, 8]\n[9, 10, 11, 12, 13, 14, 15, 16, 17, 18, 19, 20, 21, 22, 23]\n[24, 25, 26, 27, 28, 29, 30, 31, 32, 33, 34, 35, 36, 37, 38, 39, 40, 41, 42, 43, 44, 45, 46, 47, 48, 49, 50, 51, 52, 53, 54, 55, 56, 57, 58, 59, 60, 61, 62, 63, 64, 65, 66, 67, 68, 69, 70, 71, 72, 73, 74, 75, 76, 77, 78, 79, 80, 81, 82, 83, 84, 85, 86, 87, 88, 89, 90, 91, 92, 93, 94, 95, 96, 97, 98, 99, 100, 101, 102, 103, 104, 105, 106, 107, 108, 109, 110, 111, 112, 113, 114, 115, 116, 117, 118, 119, 120, 121, 122, 123, 124, 126, 127, 128, 129, 130, 131, 133, 135, 136, 137, 138, 139, 141, 142, 143, 144, 145, 146, 148, 150, 151, 152, 154, 157, 159, 160, 161, 162, 163, 164, 165, 166, 167, 168, 169, 170, 171, 172, 173, 174, 177, 178, 179, 181, 182, 184, 185, 188, 189, 190, 191, 192, 193, 194, 195, 198, 199, 202, 204, 207, 209, 210, 211, 214, 216, 217, 218, 222, 223, 224, 225, 227, 228, 229, 230, 231, 233, 235, 236, 238, 241, 242, 243, 245, 250, 252, 253, 254, 256, 257, 259, 261, 266, 268, 269, 271, 273, 275, 278, 282, 290, 295, 300, 308, 309, 314, 315, 320, 324, 326, 331, 337, 349, 357, 361, 364, 372, 374, 386, 388, 405, 410, 412, 427, 428, 430, 438, 441, 464, 497, 502, 504, 550, 576, 578, 601, 625, 626, 627, 645, 651, 662, 680, 727, 740, 762, 806, 830, 832, 985, 1055, 1149, 1184, 1309, 1318, 1455, 2021, 2099, 2101, 2365, 2709, 2741, 3368]\n",
          "output_type": "stream"
        }
      ],
      "outputs_reference": null,
      "execution_count": null,
      "block_group": "2ffa5e57b88145a892604f15b8aee367",
      "content_dependencies": null
    },
    {
      "cell_type": "code",
      "source": "class_to_legal_names = {'Small':[], 'Medium':[], 'Big':[],}\n\nfor row in legal_name_counts.values:\n    if row[1] in class_to_counts['Small']:\n        class_to_legal_names['Small'].append(row[0])\n    elif row[1] in class_to_counts['Medium']:\n        class_to_legal_names['Medium'].append(row[0])\n    else:\n        class_to_legal_names['Big'].append(row[0])\n\nsmall_buss_names = pandas.DataFrame(class_to_legal_names['Small'], columns=['LEGAL_NAME'])\nmedium_buss_names = pandas.DataFrame(class_to_legal_names['Medium'], columns=['LEGAL_NAME'])\nbig_buss_names = pandas.DataFrame(class_to_legal_names['Big'], columns=['LEGAL_NAME'])",
      "metadata": {
        "source_hash": null,
        "execution_start": 1710647074230,
        "execution_millis": 188,
        "deepnote_to_be_reexecuted": false,
        "cell_id": "abed5764e6b24f6ea214408874f17d21",
        "deepnote_cell_type": "code"
      },
      "outputs": [],
      "outputs_reference": null,
      "execution_count": null,
      "block_group": "3bc135da8aaa4c6d9686b2682a8cc582",
      "content_dependencies": null
    },
    {
      "cell_type": "markdown",
      "source": "# SQL for joining the info with names",
      "metadata": {
        "formattedRanges": [],
        "cell_id": "f2eae09a3d134d608c51e949593d1f94",
        "deepnote_cell_type": "text-cell-h1"
      },
      "block_group": "133282c2af8f4d5f8d1dea5cd6fac0ab"
    },
    {
      "cell_type": "code",
      "source": "small_buss_info = _deepnote_execute_sql('SELECT allBus.*  \\nFROM \\'BusWithTIF.csv\\' as allBus\\nJOIN small_buss_names as small\\nON small.LEGAL_NAME = allBus.LEGAL_NAME;', 'SQL_DEEPNOTE_DATAFRAME_SQL', audit_sql_comment='', sql_cache_mode='cache_disabled')\nsmall_buss_info",
      "metadata": {
        "source_hash": null,
        "execution_start": 1710647325641,
        "execution_millis": 5148,
        "sql_integration_id": "deepnote-dataframe-sql",
        "deepnote_variable_name": "small_buss_info",
        "deepnote_to_be_reexecuted": false,
        "cell_id": "c981cac8c79a4f309f6c91f92644c284",
        "deepnote_cell_type": "sql",
        "deepnote_sql_source": "SELECT allBus.*  \nFROM 'BusWithTIF.csv' as allBus\nJOIN small_buss_names as small\nON small.LEGAL_NAME = allBus.LEGAL_NAME;"
      },
      "outputs": [
        {
          "output_type": "execute_result",
          "execution_count": 13,
          "data": {
            "application/vnd.deepnote.dataframe.v3+json": {
              "column_count": 35,
              "row_count": 363635,
              "columns": [
                {
                  "name": "ID",
                  "dtype": "object"
                },
                {
                  "name": "LICENSE_ID",
                  "dtype": "int64"
                },
                {
                  "name": "ACCOUNT_NUMBER",
                  "dtype": "int64"
                },
                {
                  "name": "SITE_NUMBER",
                  "dtype": "int64"
                },
                {
                  "name": "LEGAL_NAME",
                  "dtype": "object"
                },
                {
                  "name": "DBA",
                  "dtype": "object"
                },
                {
                  "name": "ADDRESS",
                  "dtype": "object"
                },
                {
                  "name": "CITY",
                  "dtype": "object"
                },
                {
                  "name": "STATE",
                  "dtype": "object"
                },
                {
                  "name": "ZIP_CODE",
                  "dtype": "int64"
                },
                {
                  "name": "WARD",
                  "dtype": "float64"
                },
                {
                  "name": "PRECINCT",
                  "dtype": "float64"
                },
                {
                  "name": "WARD_PRECINCT",
                  "dtype": "object"
                },
                {
                  "name": "POLICE_DISTRICT",
                  "dtype": "float64"
                },
                {
                  "name": "LICENSE_CODE",
                  "dtype": "int64"
                },
                {
                  "name": "LICENSE_DESCRIPTION",
                  "dtype": "object"
                },
                {
                  "name": "BUSINESS_ACTIVITY_ID",
                  "dtype": "object"
                },
                {
                  "name": "BUSINESS_ACTIVITY",
                  "dtype": "object"
                },
                {
                  "name": "LICENSE_NUMBER",
                  "dtype": "int64"
                },
                {
                  "name": "APPLICATION_TYPE",
                  "dtype": "object"
                },
                {
                  "name": "APPLICATION_CREATED_DATE",
                  "dtype": "datetime64[us]"
                },
                {
                  "name": "APPLICATION_REQUIREMENTS_COMPLETE",
                  "dtype": "datetime64[us]"
                },
                {
                  "name": "PAYMENT_DATE",
                  "dtype": "datetime64[us]"
                },
                {
                  "name": "CONDITIONAL_APPROVAL",
                  "dtype": "object"
                },
                {
                  "name": "LICENSE_TERM_START_DATE",
                  "dtype": "datetime64[us]"
                },
                {
                  "name": "LICENSE_TERM_EXPIRATION_DATE",
                  "dtype": "datetime64[us]"
                },
                {
                  "name": "LICENSE_APPROVED_FOR_ISSUANCE",
                  "dtype": "datetime64[us]"
                },
                {
                  "name": "DATE_ISSUED",
                  "dtype": "datetime64[us]"
                },
                {
                  "name": "LICENSE_STATUS",
                  "dtype": "object"
                },
                {
                  "name": "LICENSE_STATUS_CHANGE_DATE",
                  "dtype": "datetime64[us]"
                },
                {
                  "name": "SSA",
                  "dtype": "float64"
                },
                {
                  "name": "LATITUDE",
                  "dtype": "float64"
                },
                {
                  "name": "LONGITUDE",
                  "dtype": "float64"
                },
                {
                  "name": "LOCATION",
                  "dtype": "object"
                },
                {
                  "name": "TIF_Name",
                  "dtype": "object"
                },
                {
                  "name": "_deepnote_index_column",
                  "dtype": "int64"
                }
              ],
              "rows": [
                {
                  "ID": "2652692-20201217",
                  "LICENSE_ID": 2652692,
                  "ACCOUNT_NUMBER": 456833,
                  "SITE_NUMBER": 1,
                  "LEGAL_NAME": "JYM INVESTMENTS LLC",
                  "DBA": "WINGMAN",
                  "ADDRESS": "2321 W HOWARD ST 1ST",
                  "CITY": "CHICAGO",
                  "STATE": "IL",
                  "ZIP_CODE": 60645,
                  "WARD": 49,
                  "PRECINCT": 21,
                  "WARD_PRECINCT": "49-21",
                  "POLICE_DISTRICT": 24,
                  "LICENSE_CODE": 1006,
                  "LICENSE_DESCRIPTION": "Retail Food Establishment",
                  "BUSINESS_ACTIVITY_ID": "781",
                  "BUSINESS_ACTIVITY": "Sale of Food Prepared Onsite With Dining Area",
                  "LICENSE_NUMBER": 2652692,
                  "APPLICATION_TYPE": "ISSUE",
                  "APPLICATION_CREATED_DATE": "2019-03-01 00:00:00",
                  "APPLICATION_REQUIREMENTS_COMPLETE": "2020-11-18 00:00:00",
                  "PAYMENT_DATE": "2020-11-19 00:00:00",
                  "CONDITIONAL_APPROVAL": "N",
                  "LICENSE_TERM_START_DATE": "2020-12-17 00:00:00",
                  "LICENSE_TERM_EXPIRATION_DATE": "2023-01-15 00:00:00",
                  "LICENSE_APPROVED_FOR_ISSUANCE": "2020-12-16 00:00:00",
                  "DATE_ISSUED": "2020-12-17 00:00:00",
                  "LICENSE_STATUS": "AAC",
                  "LICENSE_STATUS_CHANGE_DATE": "2022-08-08 00:00:00",
                  "SSA": "nan",
                  "LATITUDE": 42.019413271,
                  "LONGITUDE": -87.688628188,
                  "LOCATION": "(42.019413270594214, -87.68862818775574)",
                  "TIF_Name": "[]",
                  "_deepnote_index_column": 0
                },
                {
                  "ID": "2846132-20220511",
                  "LICENSE_ID": 2846132,
                  "ACCOUNT_NUMBER": 485647,
                  "SITE_NUMBER": 1,
                  "LEGAL_NAME": "Silverwolf Productions LLC",
                  "DBA": "Silverwolf Productions LLC",
                  "ADDRESS": "2673 N GREENVIEW AVE  UNIT H",
                  "CITY": "CHICAGO",
                  "STATE": "IL",
                  "ZIP_CODE": 60614,
                  "WARD": 32,
                  "PRECINCT": "nan",
                  "WARD_PRECINCT": "32-",
                  "POLICE_DISTRICT": "nan",
                  "LICENSE_CODE": 4404,
                  "LICENSE_DESCRIPTION": "Regulated Business License",
                  "BUSINESS_ACTIVITY_ID": "665 | 667 | 702 | 719",
                  "BUSINESS_ACTIVITY": "Freelance Writer (Home Based Business) | Graphic Design (Home Based Business) | Marketing / Advertising / Public Relations (Home Based Business) | Professional Consulting (Home Based Business)",
                  "LICENSE_NUMBER": 2846132,
                  "APPLICATION_TYPE": "ISSUE",
                  "APPLICATION_CREATED_DATE": "2022-05-10 00:00:00",
                  "APPLICATION_REQUIREMENTS_COMPLETE": "2022-05-10 00:00:00",
                  "PAYMENT_DATE": "2022-05-10 00:00:00",
                  "CONDITIONAL_APPROVAL": "N",
                  "LICENSE_TERM_START_DATE": "2022-05-11 00:00:00",
                  "LICENSE_TERM_EXPIRATION_DATE": "2024-05-15 00:00:00",
                  "LICENSE_APPROVED_FOR_ISSUANCE": "2022-05-10 00:00:00",
                  "DATE_ISSUED": "2022-05-11 00:00:00",
                  "LICENSE_STATUS": "AAI",
                  "LICENSE_STATUS_CHANGE_DATE": "NaT",
                  "SSA": "nan",
                  "LATITUDE": 41.930322481,
                  "LONGITUDE": -87.665386892,
                  "LOCATION": "(41.93032248132474, -87.66538689175445)",
                  "TIF_Name": "[]",
                  "_deepnote_index_column": 1
                },
                {
                  "ID": "2863350-20220808",
                  "LICENSE_ID": 2863350,
                  "ACCOUNT_NUMBER": 488437,
                  "SITE_NUMBER": 1,
                  "LEGAL_NAME": "DOMONANT MEDIA LLC",
                  "DBA": "DOMONANT MEDIA",
                  "ADDRESS": "1200 W 35TH ST 3RD 3A3130",
                  "CITY": "CHICAGO",
                  "STATE": "IL",
                  "ZIP_CODE": 60609,
                  "WARD": 11,
                  "PRECINCT": 11,
                  "WARD_PRECINCT": "11-11",
                  "POLICE_DISTRICT": 9,
                  "LICENSE_CODE": 1010,
                  "LICENSE_DESCRIPTION": "Limited Business License",
                  "BUSINESS_ACTIVITY_ID": "476 | 1089",
                  "BUSINESS_ACTIVITY": "Photography Services | Multi-Media Services",
                  "LICENSE_NUMBER": 2863350,
                  "APPLICATION_TYPE": "ISSUE",
                  "APPLICATION_CREATED_DATE": "2022-08-08 00:00:00",
                  "APPLICATION_REQUIREMENTS_COMPLETE": "2022-08-08 00:00:00",
                  "PAYMENT_DATE": "2022-08-08 00:00:00",
                  "CONDITIONAL_APPROVAL": "N",
                  "LICENSE_TERM_START_DATE": "2022-08-08 00:00:00",
                  "LICENSE_TERM_EXPIRATION_DATE": "2024-08-15 00:00:00",
                  "LICENSE_APPROVED_FOR_ISSUANCE": "2022-08-08 00:00:00",
                  "DATE_ISSUED": "2022-08-08 00:00:00",
                  "LICENSE_STATUS": "AAI",
                  "LICENSE_STATUS_CHANGE_DATE": "NaT",
                  "SSA": "nan",
                  "LATITUDE": 41.830728826,
                  "LONGITUDE": -87.655813252,
                  "LOCATION": "(41.830728825995436, -87.65581325202945)",
                  "TIF_Name": "['35th/Halsted']",
                  "_deepnote_index_column": 2
                },
                {
                  "ID": "2818513-20220616",
                  "LICENSE_ID": 2844542,
                  "ACCOUNT_NUMBER": 427773,
                  "SITE_NUMBER": 2,
                  "LEGAL_NAME": "MOVING UNITS INC.",
                  "DBA": "MOVING UNITS INC.",
                  "ADDRESS": "4432 N KEDZIE AVE  104",
                  "CITY": "CHICAGO",
                  "STATE": "IL",
                  "ZIP_CODE": 60625,
                  "WARD": 33,
                  "PRECINCT": "nan",
                  "WARD_PRECINCT": "33-",
                  "POLICE_DISTRICT": "nan",
                  "LICENSE_CODE": 1010,
                  "LICENSE_DESCRIPTION": "Limited Business License",
                  "BUSINESS_ACTIVITY_ID": "668 | 904",
                  "BUSINESS_ACTIVITY": "Graphic Design and Consultation | Retail Sales of General Merchandise",
                  "LICENSE_NUMBER": 2818513,
                  "APPLICATION_TYPE": "RENEW",
                  "APPLICATION_CREATED_DATE": "NaT",
                  "APPLICATION_REQUIREMENTS_COMPLETE": "2022-04-15 00:00:00",
                  "PAYMENT_DATE": "2022-05-10 00:00:00",
                  "CONDITIONAL_APPROVAL": "N",
                  "LICENSE_TERM_START_DATE": "2022-06-16 00:00:00",
                  "LICENSE_TERM_EXPIRATION_DATE": "2024-06-15 00:00:00",
                  "LICENSE_APPROVED_FOR_ISSUANCE": "2022-05-10 00:00:00",
                  "DATE_ISSUED": "2022-05-11 00:00:00",
                  "LICENSE_STATUS": "AAI",
                  "LICENSE_STATUS_CHANGE_DATE": "NaT",
                  "SSA": 60,
                  "LATITUDE": 41.96218474,
                  "LONGITUDE": -87.708422754,
                  "LOCATION": "(41.962184740105535, -87.70842275378467)",
                  "TIF_Name": "[]",
                  "_deepnote_index_column": 3
                },
                {
                  "ID": "2808785-20220511",
                  "LICENSE_ID": 2808785,
                  "ACCOUNT_NUMBER": 478909,
                  "SITE_NUMBER": 1,
                  "LEGAL_NAME": "DANIELLE TO",
                  "DBA": "DANIELLE TO",
                  "ADDRESS": "2725 S HALSTED ST",
                  "CITY": "CHICAGO",
                  "STATE": "IL",
                  "ZIP_CODE": 60608,
                  "WARD": 11,
                  "PRECINCT": "nan",
                  "WARD_PRECINCT": "11-",
                  "POLICE_DISTRICT": "nan",
                  "LICENSE_CODE": 7008,
                  "LICENSE_DESCRIPTION": "Shared Housing Unit Operator",
                  "BUSINESS_ACTIVITY_ID": "981",
                  "BUSINESS_ACTIVITY": "Shared Housing Operator - Host of More Than One Shared Housing Unit",
                  "LICENSE_NUMBER": 2808785,
                  "APPLICATION_TYPE": "ISSUE",
                  "APPLICATION_CREATED_DATE": "2021-09-08 00:00:00",
                  "APPLICATION_REQUIREMENTS_COMPLETE": "2021-09-08 00:00:00",
                  "PAYMENT_DATE": "2021-09-18 00:00:00",
                  "CONDITIONAL_APPROVAL": "N",
                  "LICENSE_TERM_START_DATE": "2022-05-11 00:00:00",
                  "LICENSE_TERM_EXPIRATION_DATE": "2023-10-15 00:00:00",
                  "LICENSE_APPROVED_FOR_ISSUANCE": "2021-09-23 00:00:00",
                  "DATE_ISSUED": "2021-09-24 00:00:00",
                  "LICENSE_STATUS": "AAI",
                  "LICENSE_STATUS_CHANGE_DATE": "NaT",
                  "SSA": "nan",
                  "LATITUDE": 41.843548903,
                  "LONGITUDE": -87.646265567,
                  "LOCATION": "(41.843548903182935, -87.64626556723158)",
                  "TIF_Name": "[]",
                  "_deepnote_index_column": 4
                },
                {
                  "ID": "2846205-20220511",
                  "LICENSE_ID": 2846205,
                  "ACCOUNT_NUMBER": 485684,
                  "SITE_NUMBER": 1,
                  "LEGAL_NAME": "SUPREME RIMS & TIRES INC.",
                  "DBA": "SUPREME RIMS & TIRES INC.",
                  "ADDRESS": "4163 S ARCHER AVE 1ST",
                  "CITY": "CHICAGO",
                  "STATE": "IL",
                  "ZIP_CODE": 60632,
                  "WARD": 12,
                  "PRECINCT": 13,
                  "WARD_PRECINCT": "12-13",
                  "POLICE_DISTRICT": 9,
                  "LICENSE_CODE": 1010,
                  "LICENSE_DESCRIPTION": "Limited Business License",
                  "BUSINESS_ACTIVITY_ID": "792",
                  "BUSINESS_ACTIVITY": "Sale of Vehicle Parts and Accessories",
                  "LICENSE_NUMBER": 2846205,
                  "APPLICATION_TYPE": "ISSUE",
                  "APPLICATION_CREATED_DATE": "2022-05-11 00:00:00",
                  "APPLICATION_REQUIREMENTS_COMPLETE": "2022-05-11 00:00:00",
                  "PAYMENT_DATE": "2022-05-11 00:00:00",
                  "CONDITIONAL_APPROVAL": "N",
                  "LICENSE_TERM_START_DATE": "2022-05-11 00:00:00",
                  "LICENSE_TERM_EXPIRATION_DATE": "2024-05-15 00:00:00",
                  "LICENSE_APPROVED_FOR_ISSUANCE": "2022-05-11 00:00:00",
                  "DATE_ISSUED": "2022-05-11 00:00:00",
                  "LICENSE_STATUS": "AAI",
                  "LICENSE_STATUS_CHANGE_DATE": "NaT",
                  "SSA": 39,
                  "LATITUDE": 41.817770713,
                  "LONGITUDE": -87.698006394,
                  "LOCATION": "(41.81777071313062, -87.69800639403326)",
                  "TIF_Name": "[]",
                  "_deepnote_index_column": 5
                },
                {
                  "ID": "2621669-20211216",
                  "LICENSE_ID": 2816160,
                  "ACCOUNT_NUMBER": 402671,
                  "SITE_NUMBER": 2,
                  "LEGAL_NAME": "SIXT RENT A CAR, LLC",
                  "DBA": "Sixt Rent A Car, LLC",
                  "ADDRESS": "10255 W ZEMKE BLVD",
                  "CITY": "CHICAGO",
                  "STATE": "IL",
                  "ZIP_CODE": 60666,
                  "WARD": 41,
                  "PRECINCT": 27,
                  "WARD_PRECINCT": "41-27",
                  "POLICE_DISTRICT": 16,
                  "LICENSE_CODE": 1010,
                  "LICENSE_DESCRIPTION": "Limited Business License",
                  "BUSINESS_ACTIVITY_ID": "793",
                  "BUSINESS_ACTIVITY": "Sales / Car Rental / Lease of Motorized Vehicles",
                  "LICENSE_NUMBER": 2621669,
                  "APPLICATION_TYPE": "RENEW",
                  "APPLICATION_CREATED_DATE": "NaT",
                  "APPLICATION_REQUIREMENTS_COMPLETE": "2021-10-15 00:00:00",
                  "PAYMENT_DATE": "2021-11-11 00:00:00",
                  "CONDITIONAL_APPROVAL": "N",
                  "LICENSE_TERM_START_DATE": "2021-12-16 00:00:00",
                  "LICENSE_TERM_EXPIRATION_DATE": "2023-12-15 00:00:00",
                  "LICENSE_APPROVED_FOR_ISSUANCE": "2021-11-11 00:00:00",
                  "DATE_ISSUED": "2022-08-08 00:00:00",
                  "LICENSE_STATUS": "AAI",
                  "LICENSE_STATUS_CHANGE_DATE": "NaT",
                  "SSA": "nan",
                  "LATITUDE": 41.994793386,
                  "LONGITUDE": -87.88270766,
                  "LOCATION": "(41.994793386111766, -87.88270765951567)",
                  "TIF_Name": "[]",
                  "_deepnote_index_column": 6
                },
                {
                  "ID": "2840941-20220412",
                  "LICENSE_ID": 2840941,
                  "ACCOUNT_NUMBER": 484624,
                  "SITE_NUMBER": 1,
                  "LEGAL_NAME": "W-SF GOLDFINGER OWNER VIII, L.L.C.",
                  "DBA": "W-SF Goldfinger Owner VIII, L.L.C.",
                  "ADDRESS": "167 N GREEN ST 10 1001",
                  "CITY": "CHICAGO",
                  "STATE": "IL",
                  "ZIP_CODE": 60607,
                  "WARD": 27,
                  "PRECINCT": "nan",
                  "WARD_PRECINCT": "27-",
                  "POLICE_DISTRICT": "nan",
                  "LICENSE_CODE": 1010,
                  "LICENSE_DESCRIPTION": "Limited Business License",
                  "BUSINESS_ACTIVITY_ID": "1078",
                  "BUSINESS_ACTIVITY": "Property Management / Real Estate Management",
                  "LICENSE_NUMBER": 2840941,
                  "APPLICATION_TYPE": "ISSUE",
                  "APPLICATION_CREATED_DATE": "2022-04-06 00:00:00",
                  "APPLICATION_REQUIREMENTS_COMPLETE": "2022-04-06 00:00:00",
                  "PAYMENT_DATE": "2022-04-11 00:00:00",
                  "CONDITIONAL_APPROVAL": "N",
                  "LICENSE_TERM_START_DATE": "2022-04-12 00:00:00",
                  "LICENSE_TERM_EXPIRATION_DATE": "2024-04-15 00:00:00",
                  "LICENSE_APPROVED_FOR_ISSUANCE": "2022-04-11 00:00:00",
                  "DATE_ISSUED": "2022-04-12 00:00:00",
                  "LICENSE_STATUS": "AAI",
                  "LICENSE_STATUS_CHANGE_DATE": "NaT",
                  "SSA": "nan",
                  "LATITUDE": 41.885044177,
                  "LONGITUDE": -87.648475907,
                  "LOCATION": "(41.88504417665877, -87.64847590715003)",
                  "TIF_Name": "[]",
                  "_deepnote_index_column": 7
                },
                {
                  "ID": "2263778-20190616",
                  "LICENSE_ID": 2662258,
                  "ACCOUNT_NUMBER": 381911,
                  "SITE_NUMBER": 1,
                  "LEGAL_NAME": "A&J MUFFLERS AND BRAKES CORP.",
                  "DBA": "ABY'S SHOP",
                  "ADDRESS": "4146-4148 S WESTERN AVE 1ST",
                  "CITY": "CHICAGO",
                  "STATE": "IL",
                  "ZIP_CODE": 60609,
                  "WARD": 12,
                  "PRECINCT": 21,
                  "WARD_PRECINCT": "12-21",
                  "POLICE_DISTRICT": 9,
                  "LICENSE_CODE": 8340,
                  "LICENSE_DESCRIPTION": "Motor Vehicle Services License",
                  "BUSINESS_ACTIVITY_ID": "712",
                  "BUSINESS_ACTIVITY": "Motor Vehicle Repair -  Engine and Transmission Work",
                  "LICENSE_NUMBER": 2263778,
                  "APPLICATION_TYPE": "RENEW",
                  "APPLICATION_CREATED_DATE": "NaT",
                  "APPLICATION_REQUIREMENTS_COMPLETE": "2019-04-15 00:00:00",
                  "PAYMENT_DATE": "2019-06-27 00:00:00",
                  "CONDITIONAL_APPROVAL": "N",
                  "LICENSE_TERM_START_DATE": "2019-06-16 00:00:00",
                  "LICENSE_TERM_EXPIRATION_DATE": "2021-07-15 00:00:00",
                  "LICENSE_APPROVED_FOR_ISSUANCE": "2019-06-27 00:00:00",
                  "DATE_ISSUED": "2019-06-27 00:00:00",
                  "LICENSE_STATUS": "AAI",
                  "LICENSE_STATUS_CHANGE_DATE": "NaT",
                  "SSA": "nan",
                  "LATITUDE": 41.817928961,
                  "LONGITUDE": -87.6848298,
                  "LOCATION": "(41.81792896055436, -87.68482980036839)",
                  "TIF_Name": "['Archer/Western']",
                  "_deepnote_index_column": 8
                },
                {
                  "ID": "2601379-20200616",
                  "LICENSE_ID": 2727930,
                  "ACCOUNT_NUMBER": 428052,
                  "SITE_NUMBER": 1,
                  "LEGAL_NAME": "NYM MERGER HOLDINGS LLC",
                  "DBA": "Oak + Fort",
                  "ADDRESS": "1715 N DAMEN AVE",
                  "CITY": "CHICAGO",
                  "STATE": "IL",
                  "ZIP_CODE": 60647,
                  "WARD": 32,
                  "PRECINCT": 36,
                  "WARD_PRECINCT": "32-36",
                  "POLICE_DISTRICT": 14,
                  "LICENSE_CODE": 1010,
                  "LICENSE_DESCRIPTION": "Limited Business License",
                  "BUSINESS_ACTIVITY_ID": "911",
                  "BUSINESS_ACTIVITY": "Retail Sales of Clothing / Accessories / Shoes",
                  "LICENSE_NUMBER": 2601379,
                  "APPLICATION_TYPE": "RENEW",
                  "APPLICATION_CREATED_DATE": "NaT",
                  "APPLICATION_REQUIREMENTS_COMPLETE": "2020-04-15 00:00:00",
                  "PAYMENT_DATE": "2022-02-23 00:00:00",
                  "CONDITIONAL_APPROVAL": "N",
                  "LICENSE_TERM_START_DATE": "2020-06-16 00:00:00",
                  "LICENSE_TERM_EXPIRATION_DATE": "2022-06-15 00:00:00",
                  "LICENSE_APPROVED_FOR_ISSUANCE": "2022-02-23 00:00:00",
                  "DATE_ISSUED": "2022-05-11 00:00:00",
                  "LICENSE_STATUS": "AAI",
                  "LICENSE_STATUS_CHANGE_DATE": "NaT",
                  "SSA": 33,
                  "LATITUDE": 41.912750695,
                  "LONGITUDE": -87.677368344,
                  "LOCATION": "(41.91275069507496, -87.67736834388643)",
                  "TIF_Name": "[]",
                  "_deepnote_index_column": 9
                }
              ]
            },
            "text/plain": "                      ID  LICENSE_ID  ACCOUNT_NUMBER  SITE_NUMBER  \\\n0       2652692-20201217     2652692          456833            1   \n1       2846132-20220511     2846132          485647            1   \n2       2863350-20220808     2863350          488437            1   \n3       2818513-20220616     2844542          427773            2   \n4       2808785-20220511     2808785          478909            1   \n...                  ...         ...             ...          ...   \n363630  1046364-20050216     1552225           18490            1   \n363631  2771122-20210618     2771122          472955            1   \n363632  2385648-20220916     2861006          396729            1   \n363633  2114491-20130916     2277009          365945            1   \n363634  2813997-20220201     2813997          480284            1   \n\n                               LEGAL_NAME                             DBA  \\\n0                     JYM INVESTMENTS LLC                         WINGMAN   \n1              Silverwolf Productions LLC      Silverwolf Productions LLC   \n2                      DOMONANT MEDIA LLC                  DOMONANT MEDIA   \n3                       MOVING UNITS INC.               MOVING UNITS INC.   \n4                             DANIELLE TO                     DANIELLE TO   \n...                                   ...                             ...   \n363630        BIG CITY CONSTRUCTION, INC.       BIG CITY CONSTRUCTION INC   \n363631        LADYBUG MDL VAN BUREN 4 LLC     LADYBUG MDL VAN BUREN 4 LLC   \n363632     NEW MILLENNIUM AUTO CARE, INC.  NEW MILLENNIUM AUTO CARE, INC.   \n363633                        YUDITH VEGA                   YUDY' S SALON   \n363634  NO.1 ENTERTAINMENT INVESTMENT LLC                        KING KTV   \n\n                             ADDRESS     CITY STATE  ZIP_CODE  ...  \\\n0               2321 W HOWARD ST 1ST  CHICAGO    IL     60645  ...   \n1       2673 N GREENVIEW AVE  UNIT H  CHICAGO    IL     60614  ...   \n2          1200 W 35TH ST 3RD 3A3130  CHICAGO    IL     60609  ...   \n3             4432 N KEDZIE AVE  104  CHICAGO    IL     60625  ...   \n4                  2725 S HALSTED ST  CHICAGO    IL     60608  ...   \n...                              ...      ...   ...       ...  ...   \n363630            2243 N LATROBE AVE  CHICAGO    IL     60639  ...   \n363631              336 S HALSTED ST  CHICAGO    IL     60661  ...   \n363632             3820 N CICERO AVE  CHICAGO    IL     60641  ...   \n363633      5023 W FULLERTON AVE 1ST  CHICAGO    IL     60639  ...   \n363634  2002 S WENTWORTH AVE 2ND 1-4  CHICAGO    IL     60616  ...   \n\n        LICENSE_TERM_EXPIRATION_DATE  LICENSE_APPROVED_FOR_ISSUANCE  \\\n0                         2023-01-15                     2020-12-16   \n1                         2024-05-15                     2022-05-10   \n2                         2024-08-15                     2022-08-08   \n3                         2024-06-15                     2022-05-10   \n4                         2023-10-15                     2021-09-23   \n...                              ...                            ...   \n363630                    2006-02-15                     2005-02-15   \n363631                    2023-07-15                     2021-06-16   \n363632                    2024-09-15                     2022-09-12   \n363633                    2015-09-15                     2013-10-01   \n363634                    2024-02-15                     2022-02-01   \n\n       DATE_ISSUED  LICENSE_STATUS  LICENSE_STATUS_CHANGE_DATE   SSA  \\\n0       2020-12-17             AAC                  2022-08-08   NaN   \n1       2022-05-11             AAI                         NaT   NaN   \n2       2022-08-08             AAI                         NaT   NaN   \n3       2022-05-11             AAI                         NaT  60.0   \n4       2021-09-24             AAI                         NaT   NaN   \n...            ...             ...                         ...   ...   \n363630  2005-02-16             AAI                         NaT   NaN   \n363631  2021-06-18             AAI                         NaT  16.0   \n363632  2022-10-03             AAI                         NaT   NaN   \n363633  2013-10-02             AAI                         NaT   NaN   \n363634  2022-02-01             AAI                         NaT   NaN   \n\n         LATITUDE  LONGITUDE                                  LOCATION  \\\n0       42.019413 -87.688628  (42.019413270594214, -87.68862818775574)   \n1       41.930322 -87.665387   (41.93032248132474, -87.66538689175445)   \n2       41.830729 -87.655813  (41.830728825995436, -87.65581325202945)   \n3       41.962185 -87.708423  (41.962184740105535, -87.70842275378467)   \n4       41.843549 -87.646266  (41.843548903182935, -87.64626556723158)   \n...           ...        ...                                       ...   \n363630  41.921724 -87.757159     (41.921723848768, -87.75715890551395)   \n363631  41.876817 -87.647353   (41.87681692058487, -87.64735289813731)   \n363632  41.950391 -87.747379  (41.950391059972645, -87.74737867063736)   \n363633  41.924052 -87.752185   (41.92405205127457, -87.75218515621361)   \n363634  41.855282 -87.631993   (41.85528170377401, -87.63199264229414)   \n\n                            TIF_Name  \n0                                 []  \n1                                 []  \n2                   ['35th/Halsted']  \n3                                 []  \n4                                 []  \n...                              ...  \n363630                            []  \n363631                            []  \n363632                            []  \n363633           ['Belmont/Central']  \n363634  ['Red Line Extension (RLE)']  \n\n[363635 rows x 35 columns]",
            "text/html": "<div>\n<style scoped>\n    .dataframe tbody tr th:only-of-type {\n        vertical-align: middle;\n    }\n\n    .dataframe tbody tr th {\n        vertical-align: top;\n    }\n\n    .dataframe thead th {\n        text-align: right;\n    }\n</style>\n<table border=\"1\" class=\"dataframe\">\n  <thead>\n    <tr style=\"text-align: right;\">\n      <th></th>\n      <th>ID</th>\n      <th>LICENSE_ID</th>\n      <th>ACCOUNT_NUMBER</th>\n      <th>SITE_NUMBER</th>\n      <th>LEGAL_NAME</th>\n      <th>DBA</th>\n      <th>ADDRESS</th>\n      <th>CITY</th>\n      <th>STATE</th>\n      <th>ZIP_CODE</th>\n      <th>...</th>\n      <th>LICENSE_TERM_EXPIRATION_DATE</th>\n      <th>LICENSE_APPROVED_FOR_ISSUANCE</th>\n      <th>DATE_ISSUED</th>\n      <th>LICENSE_STATUS</th>\n      <th>LICENSE_STATUS_CHANGE_DATE</th>\n      <th>SSA</th>\n      <th>LATITUDE</th>\n      <th>LONGITUDE</th>\n      <th>LOCATION</th>\n      <th>TIF_Name</th>\n    </tr>\n  </thead>\n  <tbody>\n    <tr>\n      <th>0</th>\n      <td>2652692-20201217</td>\n      <td>2652692</td>\n      <td>456833</td>\n      <td>1</td>\n      <td>JYM INVESTMENTS LLC</td>\n      <td>WINGMAN</td>\n      <td>2321 W HOWARD ST 1ST</td>\n      <td>CHICAGO</td>\n      <td>IL</td>\n      <td>60645</td>\n      <td>...</td>\n      <td>2023-01-15</td>\n      <td>2020-12-16</td>\n      <td>2020-12-17</td>\n      <td>AAC</td>\n      <td>2022-08-08</td>\n      <td>NaN</td>\n      <td>42.019413</td>\n      <td>-87.688628</td>\n      <td>(42.019413270594214, -87.68862818775574)</td>\n      <td>[]</td>\n    </tr>\n    <tr>\n      <th>1</th>\n      <td>2846132-20220511</td>\n      <td>2846132</td>\n      <td>485647</td>\n      <td>1</td>\n      <td>Silverwolf Productions LLC</td>\n      <td>Silverwolf Productions LLC</td>\n      <td>2673 N GREENVIEW AVE  UNIT H</td>\n      <td>CHICAGO</td>\n      <td>IL</td>\n      <td>60614</td>\n      <td>...</td>\n      <td>2024-05-15</td>\n      <td>2022-05-10</td>\n      <td>2022-05-11</td>\n      <td>AAI</td>\n      <td>NaT</td>\n      <td>NaN</td>\n      <td>41.930322</td>\n      <td>-87.665387</td>\n      <td>(41.93032248132474, -87.66538689175445)</td>\n      <td>[]</td>\n    </tr>\n    <tr>\n      <th>2</th>\n      <td>2863350-20220808</td>\n      <td>2863350</td>\n      <td>488437</td>\n      <td>1</td>\n      <td>DOMONANT MEDIA LLC</td>\n      <td>DOMONANT MEDIA</td>\n      <td>1200 W 35TH ST 3RD 3A3130</td>\n      <td>CHICAGO</td>\n      <td>IL</td>\n      <td>60609</td>\n      <td>...</td>\n      <td>2024-08-15</td>\n      <td>2022-08-08</td>\n      <td>2022-08-08</td>\n      <td>AAI</td>\n      <td>NaT</td>\n      <td>NaN</td>\n      <td>41.830729</td>\n      <td>-87.655813</td>\n      <td>(41.830728825995436, -87.65581325202945)</td>\n      <td>['35th/Halsted']</td>\n    </tr>\n    <tr>\n      <th>3</th>\n      <td>2818513-20220616</td>\n      <td>2844542</td>\n      <td>427773</td>\n      <td>2</td>\n      <td>MOVING UNITS INC.</td>\n      <td>MOVING UNITS INC.</td>\n      <td>4432 N KEDZIE AVE  104</td>\n      <td>CHICAGO</td>\n      <td>IL</td>\n      <td>60625</td>\n      <td>...</td>\n      <td>2024-06-15</td>\n      <td>2022-05-10</td>\n      <td>2022-05-11</td>\n      <td>AAI</td>\n      <td>NaT</td>\n      <td>60.0</td>\n      <td>41.962185</td>\n      <td>-87.708423</td>\n      <td>(41.962184740105535, -87.70842275378467)</td>\n      <td>[]</td>\n    </tr>\n    <tr>\n      <th>4</th>\n      <td>2808785-20220511</td>\n      <td>2808785</td>\n      <td>478909</td>\n      <td>1</td>\n      <td>DANIELLE TO</td>\n      <td>DANIELLE TO</td>\n      <td>2725 S HALSTED ST</td>\n      <td>CHICAGO</td>\n      <td>IL</td>\n      <td>60608</td>\n      <td>...</td>\n      <td>2023-10-15</td>\n      <td>2021-09-23</td>\n      <td>2021-09-24</td>\n      <td>AAI</td>\n      <td>NaT</td>\n      <td>NaN</td>\n      <td>41.843549</td>\n      <td>-87.646266</td>\n      <td>(41.843548903182935, -87.64626556723158)</td>\n      <td>[]</td>\n    </tr>\n    <tr>\n      <th>...</th>\n      <td>...</td>\n      <td>...</td>\n      <td>...</td>\n      <td>...</td>\n      <td>...</td>\n      <td>...</td>\n      <td>...</td>\n      <td>...</td>\n      <td>...</td>\n      <td>...</td>\n      <td>...</td>\n      <td>...</td>\n      <td>...</td>\n      <td>...</td>\n      <td>...</td>\n      <td>...</td>\n      <td>...</td>\n      <td>...</td>\n      <td>...</td>\n      <td>...</td>\n      <td>...</td>\n    </tr>\n    <tr>\n      <th>363630</th>\n      <td>1046364-20050216</td>\n      <td>1552225</td>\n      <td>18490</td>\n      <td>1</td>\n      <td>BIG CITY CONSTRUCTION, INC.</td>\n      <td>BIG CITY CONSTRUCTION INC</td>\n      <td>2243 N LATROBE AVE</td>\n      <td>CHICAGO</td>\n      <td>IL</td>\n      <td>60639</td>\n      <td>...</td>\n      <td>2006-02-15</td>\n      <td>2005-02-15</td>\n      <td>2005-02-16</td>\n      <td>AAI</td>\n      <td>NaT</td>\n      <td>NaN</td>\n      <td>41.921724</td>\n      <td>-87.757159</td>\n      <td>(41.921723848768, -87.75715890551395)</td>\n      <td>[]</td>\n    </tr>\n    <tr>\n      <th>363631</th>\n      <td>2771122-20210618</td>\n      <td>2771122</td>\n      <td>472955</td>\n      <td>1</td>\n      <td>LADYBUG MDL VAN BUREN 4 LLC</td>\n      <td>LADYBUG MDL VAN BUREN 4 LLC</td>\n      <td>336 S HALSTED ST</td>\n      <td>CHICAGO</td>\n      <td>IL</td>\n      <td>60661</td>\n      <td>...</td>\n      <td>2023-07-15</td>\n      <td>2021-06-16</td>\n      <td>2021-06-18</td>\n      <td>AAI</td>\n      <td>NaT</td>\n      <td>16.0</td>\n      <td>41.876817</td>\n      <td>-87.647353</td>\n      <td>(41.87681692058487, -87.64735289813731)</td>\n      <td>[]</td>\n    </tr>\n    <tr>\n      <th>363632</th>\n      <td>2385648-20220916</td>\n      <td>2861006</td>\n      <td>396729</td>\n      <td>1</td>\n      <td>NEW MILLENNIUM AUTO CARE, INC.</td>\n      <td>NEW MILLENNIUM AUTO CARE, INC.</td>\n      <td>3820 N CICERO AVE</td>\n      <td>CHICAGO</td>\n      <td>IL</td>\n      <td>60641</td>\n      <td>...</td>\n      <td>2024-09-15</td>\n      <td>2022-09-12</td>\n      <td>2022-10-03</td>\n      <td>AAI</td>\n      <td>NaT</td>\n      <td>NaN</td>\n      <td>41.950391</td>\n      <td>-87.747379</td>\n      <td>(41.950391059972645, -87.74737867063736)</td>\n      <td>[]</td>\n    </tr>\n    <tr>\n      <th>363633</th>\n      <td>2114491-20130916</td>\n      <td>2277009</td>\n      <td>365945</td>\n      <td>1</td>\n      <td>YUDITH VEGA</td>\n      <td>YUDY' S SALON</td>\n      <td>5023 W FULLERTON AVE 1ST</td>\n      <td>CHICAGO</td>\n      <td>IL</td>\n      <td>60639</td>\n      <td>...</td>\n      <td>2015-09-15</td>\n      <td>2013-10-01</td>\n      <td>2013-10-02</td>\n      <td>AAI</td>\n      <td>NaT</td>\n      <td>NaN</td>\n      <td>41.924052</td>\n      <td>-87.752185</td>\n      <td>(41.92405205127457, -87.75218515621361)</td>\n      <td>['Belmont/Central']</td>\n    </tr>\n    <tr>\n      <th>363634</th>\n      <td>2813997-20220201</td>\n      <td>2813997</td>\n      <td>480284</td>\n      <td>1</td>\n      <td>NO.1 ENTERTAINMENT INVESTMENT LLC</td>\n      <td>KING KTV</td>\n      <td>2002 S WENTWORTH AVE 2ND 1-4</td>\n      <td>CHICAGO</td>\n      <td>IL</td>\n      <td>60616</td>\n      <td>...</td>\n      <td>2024-02-15</td>\n      <td>2022-02-01</td>\n      <td>2022-02-01</td>\n      <td>AAI</td>\n      <td>NaT</td>\n      <td>NaN</td>\n      <td>41.855282</td>\n      <td>-87.631993</td>\n      <td>(41.85528170377401, -87.63199264229414)</td>\n      <td>['Red Line Extension (RLE)']</td>\n    </tr>\n  </tbody>\n</table>\n<p>363635 rows × 35 columns</p>\n</div>"
          },
          "metadata": {}
        }
      ],
      "outputs_reference": null,
      "execution_count": null,
      "block_group": "1620453036e847419d16fe7cdc1dd3de",
      "content_dependencies": null
    },
    {
      "cell_type": "code",
      "source": "medium_buss_info = _deepnote_execute_sql('SELECT allBus.* \\nFROM \\'BusWithTIF.csv\\' as allBus\\nJOIN medium_buss_names as medium\\nON medium.LEGAL_NAME = allBus.LEGAL_NAME;', 'SQL_DEEPNOTE_DATAFRAME_SQL', audit_sql_comment='', sql_cache_mode='cache_disabled')\nmedium_buss_info",
      "metadata": {
        "source_hash": null,
        "execution_start": 1710647081142,
        "execution_millis": 6571,
        "sql_integration_id": "deepnote-dataframe-sql",
        "deepnote_variable_name": "medium_buss_info",
        "deepnote_to_be_reexecuted": false,
        "cell_id": "aa4c51591ee148c5b3aeb434d40afbde",
        "deepnote_cell_type": "sql",
        "deepnote_sql_source": "SELECT allBus.* \nFROM 'BusWithTIF.csv' as allBus\nJOIN medium_buss_names as medium\nON medium.LEGAL_NAME = allBus.LEGAL_NAME;"
      },
      "outputs": [
        {
          "output_type": "execute_result",
          "execution_count": 9,
          "data": {
            "application/vnd.deepnote.dataframe.v3+json": {
              "column_count": 35,
              "row_count": 354486,
              "columns": [
                {
                  "name": "ID",
                  "dtype": "object"
                },
                {
                  "name": "LICENSE_ID",
                  "dtype": "int64"
                },
                {
                  "name": "ACCOUNT_NUMBER",
                  "dtype": "int64"
                },
                {
                  "name": "SITE_NUMBER",
                  "dtype": "int64"
                },
                {
                  "name": "LEGAL_NAME",
                  "dtype": "object"
                },
                {
                  "name": "DBA",
                  "dtype": "object"
                },
                {
                  "name": "ADDRESS",
                  "dtype": "object"
                },
                {
                  "name": "CITY",
                  "dtype": "object"
                },
                {
                  "name": "STATE",
                  "dtype": "object"
                },
                {
                  "name": "ZIP_CODE",
                  "dtype": "int64"
                },
                {
                  "name": "WARD",
                  "dtype": "float64"
                },
                {
                  "name": "PRECINCT",
                  "dtype": "float64"
                },
                {
                  "name": "WARD_PRECINCT",
                  "dtype": "object"
                },
                {
                  "name": "POLICE_DISTRICT",
                  "dtype": "float64"
                },
                {
                  "name": "LICENSE_CODE",
                  "dtype": "int64"
                },
                {
                  "name": "LICENSE_DESCRIPTION",
                  "dtype": "object"
                },
                {
                  "name": "BUSINESS_ACTIVITY_ID",
                  "dtype": "object"
                },
                {
                  "name": "BUSINESS_ACTIVITY",
                  "dtype": "object"
                },
                {
                  "name": "LICENSE_NUMBER",
                  "dtype": "int64"
                },
                {
                  "name": "APPLICATION_TYPE",
                  "dtype": "object"
                },
                {
                  "name": "APPLICATION_CREATED_DATE",
                  "dtype": "datetime64[us]"
                },
                {
                  "name": "APPLICATION_REQUIREMENTS_COMPLETE",
                  "dtype": "datetime64[us]"
                },
                {
                  "name": "PAYMENT_DATE",
                  "dtype": "datetime64[us]"
                },
                {
                  "name": "CONDITIONAL_APPROVAL",
                  "dtype": "object"
                },
                {
                  "name": "LICENSE_TERM_START_DATE",
                  "dtype": "datetime64[us]"
                },
                {
                  "name": "LICENSE_TERM_EXPIRATION_DATE",
                  "dtype": "datetime64[us]"
                },
                {
                  "name": "LICENSE_APPROVED_FOR_ISSUANCE",
                  "dtype": "datetime64[us]"
                },
                {
                  "name": "DATE_ISSUED",
                  "dtype": "datetime64[us]"
                },
                {
                  "name": "LICENSE_STATUS",
                  "dtype": "object"
                },
                {
                  "name": "LICENSE_STATUS_CHANGE_DATE",
                  "dtype": "datetime64[us]"
                },
                {
                  "name": "SSA",
                  "dtype": "float64"
                },
                {
                  "name": "LATITUDE",
                  "dtype": "float64"
                },
                {
                  "name": "LONGITUDE",
                  "dtype": "float64"
                },
                {
                  "name": "LOCATION",
                  "dtype": "object"
                },
                {
                  "name": "TIF_Name",
                  "dtype": "object"
                },
                {
                  "name": "_deepnote_index_column",
                  "dtype": "int64"
                }
              ],
              "rows": [
                {
                  "ID": "1899783-20090316",
                  "LICENSE_ID": 1953094,
                  "ACCOUNT_NUMBER": 330192,
                  "SITE_NUMBER": 1,
                  "LEGAL_NAME": "ELIAS A. KANELLOPOULOS",
                  "DBA": "RITZ CLEANERS",
                  "ADDRESS": "200 E DELAWARE PL 1",
                  "CITY": "CHICAGO",
                  "STATE": "IL",
                  "ZIP_CODE": 60611,
                  "WARD": 2,
                  "PRECINCT": 13,
                  "WARD_PRECINCT": "2-13",
                  "POLICE_DISTRICT": 18,
                  "LICENSE_CODE": 1010,
                  "LICENSE_DESCRIPTION": "Limited Business License",
                  "BUSINESS_ACTIVITY_ID": "None",
                  "BUSINESS_ACTIVITY": "None",
                  "LICENSE_NUMBER": 1899783,
                  "APPLICATION_TYPE": "RENEW",
                  "APPLICATION_CREATED_DATE": "NaT",
                  "APPLICATION_REQUIREMENTS_COMPLETE": "2009-01-15 00:00:00",
                  "PAYMENT_DATE": "2009-02-20 00:00:00",
                  "CONDITIONAL_APPROVAL": "N",
                  "LICENSE_TERM_START_DATE": "2009-03-16 00:00:00",
                  "LICENSE_TERM_EXPIRATION_DATE": "2011-03-15 00:00:00",
                  "LICENSE_APPROVED_FOR_ISSUANCE": "2009-02-20 00:00:00",
                  "DATE_ISSUED": "2009-02-23 00:00:00",
                  "LICENSE_STATUS": "AAI",
                  "LICENSE_STATUS_CHANGE_DATE": "NaT",
                  "SSA": "nan",
                  "LATITUDE": 41.899354739,
                  "LONGITUDE": -87.621791302,
                  "LOCATION": "(41.89935473944382, -87.621791301926)",
                  "TIF_Name": "[]",
                  "_deepnote_index_column": 0
                },
                {
                  "ID": "1899783-20110316",
                  "LICENSE_ID": 2078221,
                  "ACCOUNT_NUMBER": 330192,
                  "SITE_NUMBER": 1,
                  "LEGAL_NAME": "ELIAS A. KANELLOPOULOS",
                  "DBA": "RITZ CLEANERS",
                  "ADDRESS": "200 E DELAWARE PL 1",
                  "CITY": "CHICAGO",
                  "STATE": "IL",
                  "ZIP_CODE": 60611,
                  "WARD": 2,
                  "PRECINCT": 13,
                  "WARD_PRECINCT": "2-13",
                  "POLICE_DISTRICT": 18,
                  "LICENSE_CODE": 1010,
                  "LICENSE_DESCRIPTION": "Limited Business License",
                  "BUSINESS_ACTIVITY_ID": "None",
                  "BUSINESS_ACTIVITY": "None",
                  "LICENSE_NUMBER": 1899783,
                  "APPLICATION_TYPE": "RENEW",
                  "APPLICATION_CREATED_DATE": "NaT",
                  "APPLICATION_REQUIREMENTS_COMPLETE": "2011-01-14 00:00:00",
                  "PAYMENT_DATE": "2011-02-14 00:00:00",
                  "CONDITIONAL_APPROVAL": "N",
                  "LICENSE_TERM_START_DATE": "2011-03-16 00:00:00",
                  "LICENSE_TERM_EXPIRATION_DATE": "2013-03-15 00:00:00",
                  "LICENSE_APPROVED_FOR_ISSUANCE": "2011-02-14 00:00:00",
                  "DATE_ISSUED": "2011-02-15 00:00:00",
                  "LICENSE_STATUS": "AAI",
                  "LICENSE_STATUS_CHANGE_DATE": "NaT",
                  "SSA": "nan",
                  "LATITUDE": 41.899354739,
                  "LONGITUDE": -87.621791302,
                  "LOCATION": "(41.89935473944382, -87.621791301926)",
                  "TIF_Name": "[]",
                  "_deepnote_index_column": 1
                },
                {
                  "ID": "1899785-20210316",
                  "LICENSE_ID": 2769221,
                  "ACCOUNT_NUMBER": 330192,
                  "SITE_NUMBER": 2,
                  "LEGAL_NAME": "ELIAS A. KANELLOPOULOS",
                  "DBA": "GOLD COAST CLEANERS",
                  "ADDRESS": "900 N LAKE SHORE DR 1",
                  "CITY": "CHICAGO",
                  "STATE": "IL",
                  "ZIP_CODE": 60611,
                  "WARD": 2,
                  "PRECINCT": 29,
                  "WARD_PRECINCT": "2-29",
                  "POLICE_DISTRICT": 18,
                  "LICENSE_CODE": 1010,
                  "LICENSE_DESCRIPTION": "Limited Business License",
                  "BUSINESS_ACTIVITY_ID": "648",
                  "BUSINESS_ACTIVITY": "Dry Cleaning - Drop Off Location",
                  "LICENSE_NUMBER": 1899785,
                  "APPLICATION_TYPE": "RENEW",
                  "APPLICATION_CREATED_DATE": "NaT",
                  "APPLICATION_REQUIREMENTS_COMPLETE": "2021-01-15 00:00:00",
                  "PAYMENT_DATE": "2021-03-04 00:00:00",
                  "CONDITIONAL_APPROVAL": "N",
                  "LICENSE_TERM_START_DATE": "2021-03-16 00:00:00",
                  "LICENSE_TERM_EXPIRATION_DATE": "2023-03-15 00:00:00",
                  "LICENSE_APPROVED_FOR_ISSUANCE": "2021-03-04 00:00:00",
                  "DATE_ISSUED": "2022-05-11 00:00:00",
                  "LICENSE_STATUS": "AAI",
                  "LICENSE_STATUS_CHANGE_DATE": "NaT",
                  "SSA": "nan",
                  "LATITUDE": 41.899280991,
                  "LONGITUDE": -87.618894512,
                  "LOCATION": "(41.899280990919685, -87.61889451230181)",
                  "TIF_Name": "[]",
                  "_deepnote_index_column": 2
                },
                {
                  "ID": "2293833-20220516",
                  "LICENSE_ID": 2838574,
                  "ACCOUNT_NUMBER": 386117,
                  "SITE_NUMBER": 1,
                  "LEGAL_NAME": "FLYING SQUIRREL INDUSTRIES LLC",
                  "DBA": "SLIPPERY SLOPE",
                  "ADDRESS": "2357 N MILWAUKEE AVE 1 & 2",
                  "CITY": "CHICAGO",
                  "STATE": "IL",
                  "ZIP_CODE": 60647,
                  "WARD": 1,
                  "PRECINCT": 10,
                  "WARD_PRECINCT": "1-10",
                  "POLICE_DISTRICT": 14,
                  "LICENSE_CODE": 1470,
                  "LICENSE_DESCRIPTION": "Tavern",
                  "BUSINESS_ACTIVITY_ID": "829",
                  "BUSINESS_ACTIVITY": "Tavern - Consumption of Liquor on Premise",
                  "LICENSE_NUMBER": 2293833,
                  "APPLICATION_TYPE": "RENEW",
                  "APPLICATION_CREATED_DATE": "NaT",
                  "APPLICATION_REQUIREMENTS_COMPLETE": "2022-03-15 00:00:00",
                  "PAYMENT_DATE": "2022-05-11 00:00:00",
                  "CONDITIONAL_APPROVAL": "N",
                  "LICENSE_TERM_START_DATE": "2022-05-16 00:00:00",
                  "LICENSE_TERM_EXPIRATION_DATE": "2024-05-15 00:00:00",
                  "LICENSE_APPROVED_FOR_ISSUANCE": "2022-05-11 00:00:00",
                  "DATE_ISSUED": "2022-05-11 00:00:00",
                  "LICENSE_STATUS": "AAI",
                  "LICENSE_STATUS_CHANGE_DATE": "NaT",
                  "SSA": "nan",
                  "LATITUDE": 41.924150306,
                  "LONGITUDE": -87.699150883,
                  "LOCATION": "(41.92415030562805, -87.69915088269197)",
                  "TIF_Name": "['Fullerton/Milwaukee']",
                  "_deepnote_index_column": 3
                },
                {
                  "ID": "2212246-20180816",
                  "LICENSE_ID": 2604971,
                  "ACCOUNT_NUMBER": 334772,
                  "SITE_NUMBER": 2,
                  "LEGAL_NAME": "MIGUEL ANGEL DUARTE-SOLIS",
                  "DBA": "MIGUEL ANGEL DUARTE-SOLIS",
                  "ADDRESS": "5015 S DAMEN AVE 1ST",
                  "CITY": "CHICAGO",
                  "STATE": "IL",
                  "ZIP_CODE": 60609,
                  "WARD": 15,
                  "PRECINCT": 15,
                  "WARD_PRECINCT": "15-15",
                  "POLICE_DISTRICT": 9,
                  "LICENSE_CODE": 4406,
                  "LICENSE_DESCRIPTION": "Peddler License",
                  "BUSINESS_ACTIVITY_ID": "770",
                  "BUSINESS_ACTIVITY": "Peddler (Over 65 Years of Age) - Retail Sales of General Merchandise, Whole Uncut Fruits/Vegetables, Flowers, Moving Along the Public Way",
                  "LICENSE_NUMBER": 2212246,
                  "APPLICATION_TYPE": "RENEW",
                  "APPLICATION_CREATED_DATE": "NaT",
                  "APPLICATION_REQUIREMENTS_COMPLETE": "2018-06-15 00:00:00",
                  "PAYMENT_DATE": "2018-08-22 00:00:00",
                  "CONDITIONAL_APPROVAL": "N",
                  "LICENSE_TERM_START_DATE": "2018-08-16 00:00:00",
                  "LICENSE_TERM_EXPIRATION_DATE": "2020-10-15 00:00:00",
                  "LICENSE_APPROVED_FOR_ISSUANCE": "NaT",
                  "DATE_ISSUED": "2018-08-22 00:00:00",
                  "LICENSE_STATUS": "AAI",
                  "LICENSE_STATUS_CHANGE_DATE": "NaT",
                  "SSA": "nan",
                  "LATITUDE": 41.802569456,
                  "LONGITUDE": -87.674395755,
                  "LOCATION": "(41.802569455769735, -87.67439575456822)",
                  "TIF_Name": "[]",
                  "_deepnote_index_column": 4
                },
                {
                  "ID": "1272252-20220616",
                  "LICENSE_ID": 2842596,
                  "ACCOUNT_NUMBER": 251103,
                  "SITE_NUMBER": 1,
                  "LEGAL_NAME": "WING YIP INC",
                  "DBA": "WING YIP RESTAURANT",
                  "ADDRESS": "537 W 26TH ST",
                  "CITY": "CHICAGO",
                  "STATE": "IL",
                  "ZIP_CODE": 60616,
                  "WARD": 11,
                  "PRECINCT": 13,
                  "WARD_PRECINCT": "11-13",
                  "POLICE_DISTRICT": 9,
                  "LICENSE_CODE": 1006,
                  "LICENSE_DESCRIPTION": "Retail Food Establishment",
                  "BUSINESS_ACTIVITY_ID": "775",
                  "BUSINESS_ACTIVITY": "Retail Sales of Perishable Foods",
                  "LICENSE_NUMBER": 1272252,
                  "APPLICATION_TYPE": "RENEW",
                  "APPLICATION_CREATED_DATE": "NaT",
                  "APPLICATION_REQUIREMENTS_COMPLETE": "2022-04-15 00:00:00",
                  "PAYMENT_DATE": "2022-05-10 00:00:00",
                  "CONDITIONAL_APPROVAL": "N",
                  "LICENSE_TERM_START_DATE": "2022-06-16 00:00:00",
                  "LICENSE_TERM_EXPIRATION_DATE": "2024-06-15 00:00:00",
                  "LICENSE_APPROVED_FOR_ISSUANCE": "2022-05-10 00:00:00",
                  "DATE_ISSUED": "2022-05-11 00:00:00",
                  "LICENSE_STATUS": "AAI",
                  "LICENSE_STATUS_CHANGE_DATE": "NaT",
                  "SSA": "nan",
                  "LATITUDE": 41.845284104,
                  "LONGITUDE": -87.641495378,
                  "LOCATION": "(41.845284104251014, -87.64149537830836)",
                  "TIF_Name": "[]",
                  "_deepnote_index_column": 5
                },
                {
                  "ID": "6735-20210916",
                  "LICENSE_ID": 2798345,
                  "ACCOUNT_NUMBER": 25490,
                  "SITE_NUMBER": 1,
                  "LEGAL_NAME": "STANLEY BROWN JEWELIST, LTD.",
                  "DBA": "STANLEY BROWN JEWELIST LTD",
                  "ADDRESS": "4751 N LINCOLN AVE 1ST",
                  "CITY": "CHICAGO",
                  "STATE": "IL",
                  "ZIP_CODE": 60625,
                  "WARD": 47,
                  "PRECINCT": 20,
                  "WARD_PRECINCT": "47-20",
                  "POLICE_DISTRICT": 19,
                  "LICENSE_CODE": 1010,
                  "LICENSE_DESCRIPTION": "Limited Business License",
                  "BUSINESS_ACTIVITY_ID": "None",
                  "BUSINESS_ACTIVITY": "None",
                  "LICENSE_NUMBER": 6735,
                  "APPLICATION_TYPE": "RENEW",
                  "APPLICATION_CREATED_DATE": "NaT",
                  "APPLICATION_REQUIREMENTS_COMPLETE": "2021-07-15 00:00:00",
                  "PAYMENT_DATE": "2021-08-20 00:00:00",
                  "CONDITIONAL_APPROVAL": "N",
                  "LICENSE_TERM_START_DATE": "2021-09-16 00:00:00",
                  "LICENSE_TERM_EXPIRATION_DATE": "2023-09-15 00:00:00",
                  "LICENSE_APPROVED_FOR_ISSUANCE": "2021-08-20 00:00:00",
                  "DATE_ISSUED": "2022-05-11 00:00:00",
                  "LICENSE_STATUS": "AAI",
                  "LICENSE_STATUS_CHANGE_DATE": "NaT",
                  "SSA": 21,
                  "LATITUDE": 41.968001608,
                  "LONGITUDE": -87.688006885,
                  "LOCATION": "(41.968001607809484, -87.6880068847022)",
                  "TIF_Name": "['Western Avenue North']",
                  "_deepnote_index_column": 6
                },
                {
                  "ID": "2846251-20220511",
                  "LICENSE_ID": 2846251,
                  "ACCOUNT_NUMBER": 461483,
                  "SITE_NUMBER": 5,
                  "LEGAL_NAME": "J & H DESIGNS INC.",
                  "DBA": "DCI FURNITURE",
                  "ADDRESS": "2727 W DEVON AVE 1ST",
                  "CITY": "CHICAGO",
                  "STATE": "IL",
                  "ZIP_CODE": 60659,
                  "WARD": 50,
                  "PRECINCT": 29,
                  "WARD_PRECINCT": "50-29",
                  "POLICE_DISTRICT": 24,
                  "LICENSE_CODE": 1010,
                  "LICENSE_DESCRIPTION": "Limited Business License",
                  "BUSINESS_ACTIVITY_ID": "900",
                  "BUSINESS_ACTIVITY": "Sale of Furniture",
                  "LICENSE_NUMBER": 2846251,
                  "APPLICATION_TYPE": "C_LOC",
                  "APPLICATION_CREATED_DATE": "2022-05-11 00:00:00",
                  "APPLICATION_REQUIREMENTS_COMPLETE": "2022-05-11 00:00:00",
                  "PAYMENT_DATE": "2022-05-11 00:00:00",
                  "CONDITIONAL_APPROVAL": "N",
                  "LICENSE_TERM_START_DATE": "2022-05-11 00:00:00",
                  "LICENSE_TERM_EXPIRATION_DATE": "2023-08-15 00:00:00",
                  "LICENSE_APPROVED_FOR_ISSUANCE": "2022-05-11 00:00:00",
                  "DATE_ISSUED": "2022-05-11 00:00:00",
                  "LICENSE_STATUS": "AAI",
                  "LICENSE_STATUS_CHANGE_DATE": "NaT",
                  "SSA": 43,
                  "LATITUDE": 41.997473444,
                  "LONGITUDE": -87.698286252,
                  "LOCATION": "(41.99747344436516, -87.69828625157092)",
                  "TIF_Name": "[]",
                  "_deepnote_index_column": 7
                },
                {
                  "ID": "1899783-20150316",
                  "LICENSE_ID": 2377613,
                  "ACCOUNT_NUMBER": 330192,
                  "SITE_NUMBER": 1,
                  "LEGAL_NAME": "ELIAS A. KANELLOPOULOS",
                  "DBA": "RITZ CLEANERS",
                  "ADDRESS": "200 E DELAWARE PL 1",
                  "CITY": "CHICAGO",
                  "STATE": "IL",
                  "ZIP_CODE": 60611,
                  "WARD": 2,
                  "PRECINCT": 13,
                  "WARD_PRECINCT": "2-13",
                  "POLICE_DISTRICT": 18,
                  "LICENSE_CODE": 1010,
                  "LICENSE_DESCRIPTION": "Limited Business License",
                  "BUSINESS_ACTIVITY_ID": "648",
                  "BUSINESS_ACTIVITY": "Dry Cleaning - Drop Off Location",
                  "LICENSE_NUMBER": 1899783,
                  "APPLICATION_TYPE": "RENEW",
                  "APPLICATION_CREATED_DATE": "NaT",
                  "APPLICATION_REQUIREMENTS_COMPLETE": "2015-01-16 00:00:00",
                  "PAYMENT_DATE": "2015-02-27 00:00:00",
                  "CONDITIONAL_APPROVAL": "N",
                  "LICENSE_TERM_START_DATE": "2015-03-16 00:00:00",
                  "LICENSE_TERM_EXPIRATION_DATE": "2017-03-15 00:00:00",
                  "LICENSE_APPROVED_FOR_ISSUANCE": "2015-02-27 00:00:00",
                  "DATE_ISSUED": "2015-03-03 00:00:00",
                  "LICENSE_STATUS": "AAI",
                  "LICENSE_STATUS_CHANGE_DATE": "NaT",
                  "SSA": "nan",
                  "LATITUDE": 41.899354739,
                  "LONGITUDE": -87.621791302,
                  "LOCATION": "(41.89935473944382, -87.621791301926)",
                  "TIF_Name": "[]",
                  "_deepnote_index_column": 8
                },
                {
                  "ID": "1716740-20220816",
                  "LICENSE_ID": 2853533,
                  "ACCOUNT_NUMBER": 304779,
                  "SITE_NUMBER": 1,
                  "LEGAL_NAME": "CHICAGO ANODIZING COMPANY",
                  "DBA": "CHICAGO ANODIZING COMPANY",
                  "ADDRESS": "4112 W LAKE ST 1",
                  "CITY": "CHICAGO",
                  "STATE": "IL",
                  "ZIP_CODE": 60624,
                  "WARD": 28,
                  "PRECINCT": 24,
                  "WARD_PRECINCT": "28-24",
                  "POLICE_DISTRICT": 11,
                  "LICENSE_CODE": 1009,
                  "LICENSE_DESCRIPTION": "Manufacturing Establishments",
                  "BUSINESS_ACTIVITY_ID": "817",
                  "BUSINESS_ACTIVITY": "Storage or Use of Hazardous Materials (MFG)",
                  "LICENSE_NUMBER": 1716740,
                  "APPLICATION_TYPE": "RENEW",
                  "APPLICATION_CREATED_DATE": "NaT",
                  "APPLICATION_REQUIREMENTS_COMPLETE": "2022-06-15 00:00:00",
                  "PAYMENT_DATE": "2022-08-05 00:00:00",
                  "CONDITIONAL_APPROVAL": "N",
                  "LICENSE_TERM_START_DATE": "2022-08-16 00:00:00",
                  "LICENSE_TERM_EXPIRATION_DATE": "2024-08-15 00:00:00",
                  "LICENSE_APPROVED_FOR_ISSUANCE": "2022-08-05 00:00:00",
                  "DATE_ISSUED": "2022-08-08 00:00:00",
                  "LICENSE_STATUS": "AAI",
                  "LICENSE_STATUS_CHANGE_DATE": "NaT",
                  "SSA": "nan",
                  "LATITUDE": 41.885742095,
                  "LONGITUDE": -87.728833951,
                  "LOCATION": "(41.88574209472369, -87.7288339509947)",
                  "TIF_Name": "['Northwest Industrial Corridor']",
                  "_deepnote_index_column": 9
                }
              ]
            },
            "text/plain": "                      ID  LICENSE_ID  ACCOUNT_NUMBER  SITE_NUMBER  \\\n0       1899783-20090316     1953094          330192            1   \n1       1899783-20110316     2078221          330192            1   \n2       1899785-20210316     2769221          330192            2   \n3       2293833-20220516     2838574          386117            1   \n4       2212246-20180816     2604971          334772            2   \n...                  ...         ...             ...          ...   \n354481    41386-20140916     2343481           55248            1   \n354482  1648048-20140316     2306301          243463            2   \n354483  2283718-20150216     2371710          322234            2   \n354484  1649332-20171016     2553670          298754            1   \n354485  2278341-20130726     2278341          307563            4   \n\n                              LEGAL_NAME                                DBA  \\\n0                 ELIAS A. KANELLOPOULOS                      RITZ CLEANERS   \n1                 ELIAS A. KANELLOPOULOS                      RITZ CLEANERS   \n2                 ELIAS A. KANELLOPOULOS                GOLD COAST CLEANERS   \n3         FLYING SQUIRREL INDUSTRIES LLC                     SLIPPERY SLOPE   \n4              MIGUEL ANGEL DUARTE-SOLIS          MIGUEL ANGEL DUARTE-SOLIS   \n...                                  ...                                ...   \n354481      TRANSAGRA INTERNATIONAL INC.                TRANSAGRA INT'L INC   \n354482                    INSIGNIS, INC.                    INSIGNIS , INC.   \n354483  GUARANTEED MEDICAL SERVICE, INC.  GUARANTEED MEDICAL SERVICES, INC.   \n354484                   EL VIAJERO INC.                    EL VIAJERO INC.   \n354485         PACO COMMUNICATIONS, INC.                               PACO   \n\n                           ADDRESS     CITY STATE  ZIP_CODE  ...  \\\n0              200 E DELAWARE PL 1  CHICAGO    IL     60611  ...   \n1              200 E DELAWARE PL 1  CHICAGO    IL     60611  ...   \n2            900 N LAKE SHORE DR 1  CHICAGO    IL     60611  ...   \n3       2357 N MILWAUKEE AVE 1 & 2  CHICAGO    IL     60647  ...   \n4             5015 S DAMEN AVE 1ST  CHICAGO    IL     60609  ...   \n...                            ...      ...   ...       ...  ...   \n354481     155 N MICHIGAN AVE  720  CHICAGO    IL     60601  ...   \n354482        1 N LA SALLE ST  825  CHICAGO    IL     60602  ...   \n354483       6619 W ARCHER AVE IST  CHICAGO    IL     60638  ...   \n354484              2818 W 59TH ST  CHICAGO    IL     60629  ...   \n354485        400 S GREEN ST 1ST H  CHICAGO    IL     60607  ...   \n\n        LICENSE_TERM_EXPIRATION_DATE  LICENSE_APPROVED_FOR_ISSUANCE  \\\n0                         2011-03-15                     2009-02-20   \n1                         2013-03-15                     2011-02-14   \n2                         2023-03-15                     2021-03-04   \n3                         2024-05-15                     2022-05-11   \n4                         2020-10-15                            NaT   \n...                              ...                            ...   \n354481                    2016-09-15                     2014-07-29   \n354482                    2016-03-15                     2014-03-04   \n354483                    2017-02-15                     2015-02-11   \n354484                    2019-10-15                     2017-09-21   \n354485                    2014-06-15                     2013-07-26   \n\n       DATE_ISSUED  LICENSE_STATUS  LICENSE_STATUS_CHANGE_DATE   SSA  \\\n0       2009-02-23             AAI                         NaT   NaN   \n1       2011-02-15             AAI                         NaT   NaN   \n2       2022-05-11             AAI                         NaT   NaN   \n3       2022-05-11             AAI                         NaT   NaN   \n4       2018-08-22             AAI                         NaT   NaN   \n...            ...             ...                         ...   ...   \n354481  2014-07-30             AAI                         NaT   NaN   \n354482  2014-03-05             AAI                         NaT   NaN   \n354483  2015-02-13             AAI                         NaT   NaN   \n354484  2017-09-22             AAI                         NaT  59.0   \n354485  2013-07-26             AAI                         NaT  16.0   \n\n         LATITUDE  LONGITUDE                                  LOCATION  \\\n0       41.899355 -87.621791     (41.89935473944382, -87.621791301926)   \n1       41.899355 -87.621791     (41.89935473944382, -87.621791301926)   \n2       41.899281 -87.618895  (41.899280990919685, -87.61889451230181)   \n3       41.924150 -87.699151   (41.92415030562805, -87.69915088269197)   \n4       41.802569 -87.674396  (41.802569455769735, -87.67439575456822)   \n...           ...        ...                                       ...   \n354481  41.884636 -87.624314   (41.88463624920333, -87.62431388722874)   \n354482  41.881990 -87.632213   (41.88199007378305, -87.63221287591374)   \n354483  41.792122 -87.787572   (41.79212203192581, -87.78757215070192)   \n354484  41.786499 -87.694482   (41.78649910107084, -87.69448173517925)   \n354485  41.876621 -87.648514   (41.87662069007096, -87.64851385660216)   \n\n                       TIF_Name  \n0                            []  \n1                            []  \n2                            []  \n3       ['Fullerton/Milwaukee']  \n4                            []  \n...                         ...  \n354481                       []  \n354482      ['LaSalle Central']  \n354483                       []  \n354484                       []  \n354485                       []  \n\n[354486 rows x 35 columns]",
            "text/html": "<div>\n<style scoped>\n    .dataframe tbody tr th:only-of-type {\n        vertical-align: middle;\n    }\n\n    .dataframe tbody tr th {\n        vertical-align: top;\n    }\n\n    .dataframe thead th {\n        text-align: right;\n    }\n</style>\n<table border=\"1\" class=\"dataframe\">\n  <thead>\n    <tr style=\"text-align: right;\">\n      <th></th>\n      <th>ID</th>\n      <th>LICENSE_ID</th>\n      <th>ACCOUNT_NUMBER</th>\n      <th>SITE_NUMBER</th>\n      <th>LEGAL_NAME</th>\n      <th>DBA</th>\n      <th>ADDRESS</th>\n      <th>CITY</th>\n      <th>STATE</th>\n      <th>ZIP_CODE</th>\n      <th>...</th>\n      <th>LICENSE_TERM_EXPIRATION_DATE</th>\n      <th>LICENSE_APPROVED_FOR_ISSUANCE</th>\n      <th>DATE_ISSUED</th>\n      <th>LICENSE_STATUS</th>\n      <th>LICENSE_STATUS_CHANGE_DATE</th>\n      <th>SSA</th>\n      <th>LATITUDE</th>\n      <th>LONGITUDE</th>\n      <th>LOCATION</th>\n      <th>TIF_Name</th>\n    </tr>\n  </thead>\n  <tbody>\n    <tr>\n      <th>0</th>\n      <td>1899783-20090316</td>\n      <td>1953094</td>\n      <td>330192</td>\n      <td>1</td>\n      <td>ELIAS A. KANELLOPOULOS</td>\n      <td>RITZ CLEANERS</td>\n      <td>200 E DELAWARE PL 1</td>\n      <td>CHICAGO</td>\n      <td>IL</td>\n      <td>60611</td>\n      <td>...</td>\n      <td>2011-03-15</td>\n      <td>2009-02-20</td>\n      <td>2009-02-23</td>\n      <td>AAI</td>\n      <td>NaT</td>\n      <td>NaN</td>\n      <td>41.899355</td>\n      <td>-87.621791</td>\n      <td>(41.89935473944382, -87.621791301926)</td>\n      <td>[]</td>\n    </tr>\n    <tr>\n      <th>1</th>\n      <td>1899783-20110316</td>\n      <td>2078221</td>\n      <td>330192</td>\n      <td>1</td>\n      <td>ELIAS A. KANELLOPOULOS</td>\n      <td>RITZ CLEANERS</td>\n      <td>200 E DELAWARE PL 1</td>\n      <td>CHICAGO</td>\n      <td>IL</td>\n      <td>60611</td>\n      <td>...</td>\n      <td>2013-03-15</td>\n      <td>2011-02-14</td>\n      <td>2011-02-15</td>\n      <td>AAI</td>\n      <td>NaT</td>\n      <td>NaN</td>\n      <td>41.899355</td>\n      <td>-87.621791</td>\n      <td>(41.89935473944382, -87.621791301926)</td>\n      <td>[]</td>\n    </tr>\n    <tr>\n      <th>2</th>\n      <td>1899785-20210316</td>\n      <td>2769221</td>\n      <td>330192</td>\n      <td>2</td>\n      <td>ELIAS A. KANELLOPOULOS</td>\n      <td>GOLD COAST CLEANERS</td>\n      <td>900 N LAKE SHORE DR 1</td>\n      <td>CHICAGO</td>\n      <td>IL</td>\n      <td>60611</td>\n      <td>...</td>\n      <td>2023-03-15</td>\n      <td>2021-03-04</td>\n      <td>2022-05-11</td>\n      <td>AAI</td>\n      <td>NaT</td>\n      <td>NaN</td>\n      <td>41.899281</td>\n      <td>-87.618895</td>\n      <td>(41.899280990919685, -87.61889451230181)</td>\n      <td>[]</td>\n    </tr>\n    <tr>\n      <th>3</th>\n      <td>2293833-20220516</td>\n      <td>2838574</td>\n      <td>386117</td>\n      <td>1</td>\n      <td>FLYING SQUIRREL INDUSTRIES LLC</td>\n      <td>SLIPPERY SLOPE</td>\n      <td>2357 N MILWAUKEE AVE 1 &amp; 2</td>\n      <td>CHICAGO</td>\n      <td>IL</td>\n      <td>60647</td>\n      <td>...</td>\n      <td>2024-05-15</td>\n      <td>2022-05-11</td>\n      <td>2022-05-11</td>\n      <td>AAI</td>\n      <td>NaT</td>\n      <td>NaN</td>\n      <td>41.924150</td>\n      <td>-87.699151</td>\n      <td>(41.92415030562805, -87.69915088269197)</td>\n      <td>['Fullerton/Milwaukee']</td>\n    </tr>\n    <tr>\n      <th>4</th>\n      <td>2212246-20180816</td>\n      <td>2604971</td>\n      <td>334772</td>\n      <td>2</td>\n      <td>MIGUEL ANGEL DUARTE-SOLIS</td>\n      <td>MIGUEL ANGEL DUARTE-SOLIS</td>\n      <td>5015 S DAMEN AVE 1ST</td>\n      <td>CHICAGO</td>\n      <td>IL</td>\n      <td>60609</td>\n      <td>...</td>\n      <td>2020-10-15</td>\n      <td>NaT</td>\n      <td>2018-08-22</td>\n      <td>AAI</td>\n      <td>NaT</td>\n      <td>NaN</td>\n      <td>41.802569</td>\n      <td>-87.674396</td>\n      <td>(41.802569455769735, -87.67439575456822)</td>\n      <td>[]</td>\n    </tr>\n    <tr>\n      <th>...</th>\n      <td>...</td>\n      <td>...</td>\n      <td>...</td>\n      <td>...</td>\n      <td>...</td>\n      <td>...</td>\n      <td>...</td>\n      <td>...</td>\n      <td>...</td>\n      <td>...</td>\n      <td>...</td>\n      <td>...</td>\n      <td>...</td>\n      <td>...</td>\n      <td>...</td>\n      <td>...</td>\n      <td>...</td>\n      <td>...</td>\n      <td>...</td>\n      <td>...</td>\n      <td>...</td>\n    </tr>\n    <tr>\n      <th>354481</th>\n      <td>41386-20140916</td>\n      <td>2343481</td>\n      <td>55248</td>\n      <td>1</td>\n      <td>TRANSAGRA INTERNATIONAL INC.</td>\n      <td>TRANSAGRA INT'L INC</td>\n      <td>155 N MICHIGAN AVE  720</td>\n      <td>CHICAGO</td>\n      <td>IL</td>\n      <td>60601</td>\n      <td>...</td>\n      <td>2016-09-15</td>\n      <td>2014-07-29</td>\n      <td>2014-07-30</td>\n      <td>AAI</td>\n      <td>NaT</td>\n      <td>NaN</td>\n      <td>41.884636</td>\n      <td>-87.624314</td>\n      <td>(41.88463624920333, -87.62431388722874)</td>\n      <td>[]</td>\n    </tr>\n    <tr>\n      <th>354482</th>\n      <td>1648048-20140316</td>\n      <td>2306301</td>\n      <td>243463</td>\n      <td>2</td>\n      <td>INSIGNIS, INC.</td>\n      <td>INSIGNIS , INC.</td>\n      <td>1 N LA SALLE ST  825</td>\n      <td>CHICAGO</td>\n      <td>IL</td>\n      <td>60602</td>\n      <td>...</td>\n      <td>2016-03-15</td>\n      <td>2014-03-04</td>\n      <td>2014-03-05</td>\n      <td>AAI</td>\n      <td>NaT</td>\n      <td>NaN</td>\n      <td>41.881990</td>\n      <td>-87.632213</td>\n      <td>(41.88199007378305, -87.63221287591374)</td>\n      <td>['LaSalle Central']</td>\n    </tr>\n    <tr>\n      <th>354483</th>\n      <td>2283718-20150216</td>\n      <td>2371710</td>\n      <td>322234</td>\n      <td>2</td>\n      <td>GUARANTEED MEDICAL SERVICE, INC.</td>\n      <td>GUARANTEED MEDICAL SERVICES, INC.</td>\n      <td>6619 W ARCHER AVE IST</td>\n      <td>CHICAGO</td>\n      <td>IL</td>\n      <td>60638</td>\n      <td>...</td>\n      <td>2017-02-15</td>\n      <td>2015-02-11</td>\n      <td>2015-02-13</td>\n      <td>AAI</td>\n      <td>NaT</td>\n      <td>NaN</td>\n      <td>41.792122</td>\n      <td>-87.787572</td>\n      <td>(41.79212203192581, -87.78757215070192)</td>\n      <td>[]</td>\n    </tr>\n    <tr>\n      <th>354484</th>\n      <td>1649332-20171016</td>\n      <td>2553670</td>\n      <td>298754</td>\n      <td>1</td>\n      <td>EL VIAJERO INC.</td>\n      <td>EL VIAJERO INC.</td>\n      <td>2818 W 59TH ST</td>\n      <td>CHICAGO</td>\n      <td>IL</td>\n      <td>60629</td>\n      <td>...</td>\n      <td>2019-10-15</td>\n      <td>2017-09-21</td>\n      <td>2017-09-22</td>\n      <td>AAI</td>\n      <td>NaT</td>\n      <td>59.0</td>\n      <td>41.786499</td>\n      <td>-87.694482</td>\n      <td>(41.78649910107084, -87.69448173517925)</td>\n      <td>[]</td>\n    </tr>\n    <tr>\n      <th>354485</th>\n      <td>2278341-20130726</td>\n      <td>2278341</td>\n      <td>307563</td>\n      <td>4</td>\n      <td>PACO COMMUNICATIONS, INC.</td>\n      <td>PACO</td>\n      <td>400 S GREEN ST 1ST H</td>\n      <td>CHICAGO</td>\n      <td>IL</td>\n      <td>60607</td>\n      <td>...</td>\n      <td>2014-06-15</td>\n      <td>2013-07-26</td>\n      <td>2013-07-26</td>\n      <td>AAI</td>\n      <td>NaT</td>\n      <td>16.0</td>\n      <td>41.876621</td>\n      <td>-87.648514</td>\n      <td>(41.87662069007096, -87.64851385660216)</td>\n      <td>[]</td>\n    </tr>\n  </tbody>\n</table>\n<p>354486 rows × 35 columns</p>\n</div>"
          },
          "metadata": {}
        }
      ],
      "outputs_reference": null,
      "execution_count": null,
      "block_group": "19762861b11f44c798fc7e115756c394",
      "content_dependencies": null
    },
    {
      "cell_type": "code",
      "source": "big_buss_info = _deepnote_execute_sql('SELECT allBus.* \\nFROM \\'BusWithTIF.csv\\' as allBus\\nJOIN big_buss_names as big\\nON big.LEGAL_NAME = allBus.LEGAL_NAME;', 'SQL_DEEPNOTE_DATAFRAME_SQL', audit_sql_comment='', sql_cache_mode='cache_disabled')\nbig_buss_info",
      "metadata": {
        "source_hash": null,
        "execution_start": 1710647087767,
        "execution_millis": 5418,
        "sql_integration_id": "deepnote-dataframe-sql",
        "deepnote_variable_name": "big_buss_info",
        "deepnote_to_be_reexecuted": false,
        "cell_id": "84f20979d2f4426e874baa18d28712ad",
        "deepnote_cell_type": "sql",
        "deepnote_sql_source": "SELECT allBus.* \nFROM 'BusWithTIF.csv' as allBus\nJOIN big_buss_names as big\nON big.LEGAL_NAME = allBus.LEGAL_NAME;"
      },
      "outputs": [
        {
          "output_type": "execute_result",
          "execution_count": 10,
          "data": {
            "application/vnd.deepnote.dataframe.v3+json": {
              "column_count": 35,
              "row_count": 315495,
              "columns": [
                {
                  "name": "ID",
                  "dtype": "object"
                },
                {
                  "name": "LICENSE_ID",
                  "dtype": "int64"
                },
                {
                  "name": "ACCOUNT_NUMBER",
                  "dtype": "int64"
                },
                {
                  "name": "SITE_NUMBER",
                  "dtype": "int64"
                },
                {
                  "name": "LEGAL_NAME",
                  "dtype": "object"
                },
                {
                  "name": "DBA",
                  "dtype": "object"
                },
                {
                  "name": "ADDRESS",
                  "dtype": "object"
                },
                {
                  "name": "CITY",
                  "dtype": "object"
                },
                {
                  "name": "STATE",
                  "dtype": "object"
                },
                {
                  "name": "ZIP_CODE",
                  "dtype": "int64"
                },
                {
                  "name": "WARD",
                  "dtype": "float64"
                },
                {
                  "name": "PRECINCT",
                  "dtype": "float64"
                },
                {
                  "name": "WARD_PRECINCT",
                  "dtype": "object"
                },
                {
                  "name": "POLICE_DISTRICT",
                  "dtype": "float64"
                },
                {
                  "name": "LICENSE_CODE",
                  "dtype": "int64"
                },
                {
                  "name": "LICENSE_DESCRIPTION",
                  "dtype": "object"
                },
                {
                  "name": "BUSINESS_ACTIVITY_ID",
                  "dtype": "object"
                },
                {
                  "name": "BUSINESS_ACTIVITY",
                  "dtype": "object"
                },
                {
                  "name": "LICENSE_NUMBER",
                  "dtype": "int64"
                },
                {
                  "name": "APPLICATION_TYPE",
                  "dtype": "object"
                },
                {
                  "name": "APPLICATION_CREATED_DATE",
                  "dtype": "datetime64[us]"
                },
                {
                  "name": "APPLICATION_REQUIREMENTS_COMPLETE",
                  "dtype": "datetime64[us]"
                },
                {
                  "name": "PAYMENT_DATE",
                  "dtype": "datetime64[us]"
                },
                {
                  "name": "CONDITIONAL_APPROVAL",
                  "dtype": "object"
                },
                {
                  "name": "LICENSE_TERM_START_DATE",
                  "dtype": "datetime64[us]"
                },
                {
                  "name": "LICENSE_TERM_EXPIRATION_DATE",
                  "dtype": "datetime64[us]"
                },
                {
                  "name": "LICENSE_APPROVED_FOR_ISSUANCE",
                  "dtype": "datetime64[us]"
                },
                {
                  "name": "DATE_ISSUED",
                  "dtype": "datetime64[us]"
                },
                {
                  "name": "LICENSE_STATUS",
                  "dtype": "object"
                },
                {
                  "name": "LICENSE_STATUS_CHANGE_DATE",
                  "dtype": "datetime64[us]"
                },
                {
                  "name": "SSA",
                  "dtype": "float64"
                },
                {
                  "name": "LATITUDE",
                  "dtype": "float64"
                },
                {
                  "name": "LONGITUDE",
                  "dtype": "float64"
                },
                {
                  "name": "LOCATION",
                  "dtype": "object"
                },
                {
                  "name": "TIF_Name",
                  "dtype": "object"
                },
                {
                  "name": "_deepnote_index_column",
                  "dtype": "int64"
                }
              ],
              "rows": [
                {
                  "ID": "1579838-20220616",
                  "LICENSE_ID": 2842924,
                  "ACCOUNT_NUMBER": 289144,
                  "SITE_NUMBER": 1,
                  "LEGAL_NAME": "1021 MONTROSE, L.L.C.",
                  "DBA": "Driftwood",
                  "ADDRESS": "1021 W MONTROSE AVE",
                  "CITY": "CHICAGO",
                  "STATE": "IL",
                  "ZIP_CODE": 60613,
                  "WARD": 46,
                  "PRECINCT": 9,
                  "WARD_PRECINCT": "46-9",
                  "POLICE_DISTRICT": 19,
                  "LICENSE_CODE": 1470,
                  "LICENSE_DESCRIPTION": "Tavern",
                  "BUSINESS_ACTIVITY_ID": "829",
                  "BUSINESS_ACTIVITY": "Tavern - Consumption of Liquor on Premise",
                  "LICENSE_NUMBER": 1579838,
                  "APPLICATION_TYPE": "RENEW",
                  "APPLICATION_CREATED_DATE": "NaT",
                  "APPLICATION_REQUIREMENTS_COMPLETE": "2022-04-15 00:00:00",
                  "PAYMENT_DATE": "2022-05-10 00:00:00",
                  "CONDITIONAL_APPROVAL": "N",
                  "LICENSE_TERM_START_DATE": "2022-06-16 00:00:00",
                  "LICENSE_TERM_EXPIRATION_DATE": "2024-06-15 00:00:00",
                  "LICENSE_APPROVED_FOR_ISSUANCE": "2022-05-10 00:00:00",
                  "DATE_ISSUED": "2022-05-11 00:00:00",
                  "LICENSE_STATUS": "AAI",
                  "LICENSE_STATUS_CHANGE_DATE": "NaT",
                  "SSA": 34,
                  "LATITUDE": 41.961655309,
                  "LONGITUDE": -87.655649945,
                  "LOCATION": "(41.961655308981946, -87.65564994485091)",
                  "TIF_Name": "['Wilson Yard']",
                  "_deepnote_index_column": 0
                },
                {
                  "ID": "2027540-20220616",
                  "LICENSE_ID": 2841687,
                  "ACCOUNT_NUMBER": 10726,
                  "SITE_NUMBER": 5,
                  "LEGAL_NAME": "GRAHAM ENTERPRISE INC",
                  "DBA": "Rock N Roll BP (GEI-157)",
                  "ADDRESS": "631-647 N LA SALLE DR",
                  "CITY": "CHICAGO",
                  "STATE": "IL",
                  "ZIP_CODE": 60654,
                  "WARD": 42,
                  "PRECINCT": 46,
                  "WARD_PRECINCT": "42-46",
                  "POLICE_DISTRICT": 18,
                  "LICENSE_CODE": 1275,
                  "LICENSE_DESCRIPTION": "Filling Station",
                  "BUSINESS_ACTIVITY_ID": "666",
                  "BUSINESS_ACTIVITY": "Operation of a Fuel Filling Station",
                  "LICENSE_NUMBER": 2027540,
                  "APPLICATION_TYPE": "RENEW",
                  "APPLICATION_CREATED_DATE": "NaT",
                  "APPLICATION_REQUIREMENTS_COMPLETE": "2022-04-15 00:00:00",
                  "PAYMENT_DATE": "2022-05-10 00:00:00",
                  "CONDITIONAL_APPROVAL": "N",
                  "LICENSE_TERM_START_DATE": "2022-06-16 00:00:00",
                  "LICENSE_TERM_EXPIRATION_DATE": "2024-06-15 00:00:00",
                  "LICENSE_APPROVED_FOR_ISSUANCE": "2022-05-10 00:00:00",
                  "DATE_ISSUED": "2022-05-11 00:00:00",
                  "LICENSE_STATUS": "AAI",
                  "LICENSE_STATUS_CHANGE_DATE": "NaT",
                  "SSA": "nan",
                  "LATITUDE": 41.893251198,
                  "LONGITUDE": -87.632493012,
                  "LOCATION": "(41.89325119846543, -87.63249301222938)",
                  "TIF_Name": "[]",
                  "_deepnote_index_column": 1
                },
                {
                  "ID": "2009364-20200616",
                  "LICENSE_ID": 2726245,
                  "ACCOUNT_NUMBER": 349503,
                  "SITE_NUMBER": 1,
                  "LEGAL_NAME": "CHICAGO CUBS BASEBALL CLUB, LLC",
                  "DBA": "CHICAGO CUBS",
                  "ADDRESS": "1060 W ADDISON ST 1ST",
                  "CITY": "CHICAGO",
                  "STATE": "IL",
                  "ZIP_CODE": 60613,
                  "WARD": 44,
                  "PRECINCT": 31,
                  "WARD_PRECINCT": "44-31",
                  "POLICE_DISTRICT": 19,
                  "LICENSE_CODE": 1050,
                  "LICENSE_DESCRIPTION": "Public Place of Amusement",
                  "BUSINESS_ACTIVITY_ID": "743",
                  "BUSINESS_ACTIVITY": "Provides Onsite Amusement or Entertainment",
                  "LICENSE_NUMBER": 2009364,
                  "APPLICATION_TYPE": "RENEW",
                  "APPLICATION_CREATED_DATE": "NaT",
                  "APPLICATION_REQUIREMENTS_COMPLETE": "2020-04-15 00:00:00",
                  "PAYMENT_DATE": "2020-08-07 00:00:00",
                  "CONDITIONAL_APPROVAL": "N",
                  "LICENSE_TERM_START_DATE": "2020-06-16 00:00:00",
                  "LICENSE_TERM_EXPIRATION_DATE": "2022-06-15 00:00:00",
                  "LICENSE_APPROVED_FOR_ISSUANCE": "2020-08-07 00:00:00",
                  "DATE_ISSUED": "2022-05-11 00:00:00",
                  "LICENSE_STATUS": "AAI",
                  "LICENSE_STATUS_CHANGE_DATE": "NaT",
                  "SSA": 17,
                  "LATITUDE": 41.947317489,
                  "LONGITUDE": -87.656417948,
                  "LOCATION": "(41.94731748901495, -87.65641794764645)",
                  "TIF_Name": "['Red and Purple Modernization Phase One Project']",
                  "_deepnote_index_column": 2
                },
                {
                  "ID": "1939-20220916",
                  "LICENSE_ID": 2858243,
                  "ACCOUNT_NUMBER": 62544,
                  "SITE_NUMBER": 9,
                  "LEGAL_NAME": "HYATT CORPORATION",
                  "DBA": "EAST TOWER MAIN KITCHEN",
                  "ADDRESS": "151 E WACKER DR  L",
                  "CITY": "CHICAGO",
                  "STATE": "IL",
                  "ZIP_CODE": 60601,
                  "WARD": 42,
                  "PRECINCT": 44,
                  "WARD_PRECINCT": "42-44",
                  "POLICE_DISTRICT": 1,
                  "LICENSE_CODE": 1006,
                  "LICENSE_DESCRIPTION": "Retail Food Establishment",
                  "BUSINESS_ACTIVITY_ID": "775",
                  "BUSINESS_ACTIVITY": "Retail Sales of Perishable Foods",
                  "LICENSE_NUMBER": 1939,
                  "APPLICATION_TYPE": "RENEW",
                  "APPLICATION_CREATED_DATE": "NaT",
                  "APPLICATION_REQUIREMENTS_COMPLETE": "2022-07-15 00:00:00",
                  "PAYMENT_DATE": "2022-08-05 00:00:00",
                  "CONDITIONAL_APPROVAL": "N",
                  "LICENSE_TERM_START_DATE": "2022-09-16 00:00:00",
                  "LICENSE_TERM_EXPIRATION_DATE": "2024-09-15 00:00:00",
                  "LICENSE_APPROVED_FOR_ISSUANCE": "2022-08-05 00:00:00",
                  "DATE_ISSUED": "2022-08-08 00:00:00",
                  "LICENSE_STATUS": "AAI",
                  "LICENSE_STATUS_CHANGE_DATE": "NaT",
                  "SSA": "nan",
                  "LATITUDE": 41.887999887,
                  "LONGITUDE": -87.622565133,
                  "LOCATION": "(41.88799988734853, -87.62256513255957)",
                  "TIF_Name": "[]",
                  "_deepnote_index_column": 3
                },
                {
                  "ID": "1968629-20220616",
                  "LICENSE_ID": 2841685,
                  "ACCOUNT_NUMBER": 10726,
                  "SITE_NUMBER": 3,
                  "LEGAL_NAME": "GRAHAM ENTERPRISE INC",
                  "DBA": "Chicago BP@Irving (GEI-152)",
                  "ADDRESS": "841 W IRVING PARK RD",
                  "CITY": "CHICAGO",
                  "STATE": "IL",
                  "ZIP_CODE": 60613,
                  "WARD": 46,
                  "PRECINCT": 10,
                  "WARD_PRECINCT": "46-10",
                  "POLICE_DISTRICT": 19,
                  "LICENSE_CODE": 1781,
                  "LICENSE_DESCRIPTION": "Tobacco",
                  "BUSINESS_ACTIVITY_ID": "763",
                  "BUSINESS_ACTIVITY": "Retail Sale of Tobacco",
                  "LICENSE_NUMBER": 1968629,
                  "APPLICATION_TYPE": "RENEW",
                  "APPLICATION_CREATED_DATE": "NaT",
                  "APPLICATION_REQUIREMENTS_COMPLETE": "2022-04-15 00:00:00",
                  "PAYMENT_DATE": "2022-05-10 00:00:00",
                  "CONDITIONAL_APPROVAL": "N",
                  "LICENSE_TERM_START_DATE": "2022-06-16 00:00:00",
                  "LICENSE_TERM_EXPIRATION_DATE": "2023-06-15 00:00:00",
                  "LICENSE_APPROVED_FOR_ISSUANCE": "2022-05-10 00:00:00",
                  "DATE_ISSUED": "2022-05-11 00:00:00",
                  "LICENSE_STATUS": "AAI",
                  "LICENSE_STATUS_CHANGE_DATE": "NaT",
                  "SSA": 18,
                  "LATITUDE": 41.954425019,
                  "LONGITUDE": -87.651324017,
                  "LOCATION": "(41.95442501861227, -87.65132401707042)",
                  "TIF_Name": "['Red and Purple Modernization Phase One Project']",
                  "_deepnote_index_column": 4
                },
                {
                  "ID": "1938-20220916",
                  "LICENSE_ID": 2858242,
                  "ACCOUNT_NUMBER": 62544,
                  "SITE_NUMBER": 8,
                  "LEGAL_NAME": "HYATT CORPORATION",
                  "DBA": "THE GALLERY",
                  "ADDRESS": "151 E WACKER DR  SKYWA",
                  "CITY": "CHICAGO",
                  "STATE": "IL",
                  "ZIP_CODE": 60601,
                  "WARD": 42,
                  "PRECINCT": 44,
                  "WARD_PRECINCT": "42-44",
                  "POLICE_DISTRICT": 1,
                  "LICENSE_CODE": 1475,
                  "LICENSE_DESCRIPTION": "Consumption on Premises - Incidental Activity",
                  "BUSINESS_ACTIVITY_ID": "638",
                  "BUSINESS_ACTIVITY": "Consumption of Liquor on Premises",
                  "LICENSE_NUMBER": 1938,
                  "APPLICATION_TYPE": "RENEW",
                  "APPLICATION_CREATED_DATE": "NaT",
                  "APPLICATION_REQUIREMENTS_COMPLETE": "2022-07-15 00:00:00",
                  "PAYMENT_DATE": "2022-08-05 00:00:00",
                  "CONDITIONAL_APPROVAL": "N",
                  "LICENSE_TERM_START_DATE": "2022-09-16 00:00:00",
                  "LICENSE_TERM_EXPIRATION_DATE": "2024-09-15 00:00:00",
                  "LICENSE_APPROVED_FOR_ISSUANCE": "2022-08-05 00:00:00",
                  "DATE_ISSUED": "2022-08-08 00:00:00",
                  "LICENSE_STATUS": "AAI",
                  "LICENSE_STATUS_CHANGE_DATE": "NaT",
                  "SSA": "nan",
                  "LATITUDE": 41.887999887,
                  "LONGITUDE": -87.622565133,
                  "LOCATION": "(41.88799988734853, -87.62256513255957)",
                  "TIF_Name": "[]",
                  "_deepnote_index_column": 5
                },
                {
                  "ID": "2857176-20220808",
                  "LICENSE_ID": 2857176,
                  "ACCOUNT_NUMBER": 218538,
                  "SITE_NUMBER": 96,
                  "LEGAL_NAME": "LINCOLN SQUARE RAVENSWOOD CHAMBER OF COMMERCE",
                  "DBA": "LINCOLN SQUARE RAVENSWOOD CHAMBER OF COMMERCE",
                  "ADDRESS": "4505 N LINCOLN AVE  STOREFRONT",
                  "CITY": "CHICAGO",
                  "STATE": "IL",
                  "ZIP_CODE": 60625,
                  "WARD": 47,
                  "PRECINCT": 42,
                  "WARD_PRECINCT": "47-42",
                  "POLICE_DISTRICT": 19,
                  "LICENSE_CODE": 4409,
                  "LICENSE_DESCRIPTION": "Pop-Up Retail User",
                  "BUSINESS_ACTIVITY_ID": "1027",
                  "BUSINESS_ACTIVITY": "Organizer of a 1-5 Day Event w/ Pop-Up Retail Users at a Trade Show, Exhibition or Convention",
                  "LICENSE_NUMBER": 2857176,
                  "APPLICATION_TYPE": "ISSUE",
                  "APPLICATION_CREATED_DATE": "2022-07-08 00:00:00",
                  "APPLICATION_REQUIREMENTS_COMPLETE": "2022-07-08 00:00:00",
                  "PAYMENT_DATE": "2022-08-08 00:00:00",
                  "CONDITIONAL_APPROVAL": "N",
                  "LICENSE_TERM_START_DATE": "2022-08-08 00:00:00",
                  "LICENSE_TERM_EXPIRATION_DATE": "2022-08-13 00:00:00",
                  "LICENSE_APPROVED_FOR_ISSUANCE": "2022-08-08 00:00:00",
                  "DATE_ISSUED": "2022-08-08 00:00:00",
                  "LICENSE_STATUS": "AAI",
                  "LICENSE_STATUS_CHANGE_DATE": "NaT",
                  "SSA": 21,
                  "LATITUDE": 41.963424053,
                  "LONGITUDE": -87.684990788,
                  "LOCATION": "(41.963424053299256, -87.68499078804334)",
                  "TIF_Name": "[]",
                  "_deepnote_index_column": 6
                },
                {
                  "ID": "2780957-20220416",
                  "LICENSE_ID": 2833895,
                  "ACCOUNT_NUMBER": 390575,
                  "SITE_NUMBER": 2,
                  "LEGAL_NAME": "DINEAMIC STEAK, LLC",
                  "DBA": "PRIME & PROVISIONS",
                  "ADDRESS": "222 N LA SALLE ST 1-2",
                  "CITY": "CHICAGO",
                  "STATE": "IL",
                  "ZIP_CODE": 60601,
                  "WARD": 42,
                  "PRECINCT": 9,
                  "WARD_PRECINCT": "42-9",
                  "POLICE_DISTRICT": 1,
                  "LICENSE_CODE": 1781,
                  "LICENSE_DESCRIPTION": "Tobacco",
                  "BUSINESS_ACTIVITY_ID": "776 | 937",
                  "BUSINESS_ACTIVITY": "Retail Sales of Tobacco Products | Retail Sales of Tobacco and Flavored Tobacco Products",
                  "LICENSE_NUMBER": 2780957,
                  "APPLICATION_TYPE": "RENEW",
                  "APPLICATION_CREATED_DATE": "NaT",
                  "APPLICATION_REQUIREMENTS_COMPLETE": "2022-02-15 00:00:00",
                  "PAYMENT_DATE": "2022-05-06 00:00:00",
                  "CONDITIONAL_APPROVAL": "N",
                  "LICENSE_TERM_START_DATE": "2022-04-16 00:00:00",
                  "LICENSE_TERM_EXPIRATION_DATE": "2023-04-15 00:00:00",
                  "LICENSE_APPROVED_FOR_ISSUANCE": "2022-05-06 00:00:00",
                  "DATE_ISSUED": "2022-05-11 00:00:00",
                  "LICENSE_STATUS": "AAI",
                  "LICENSE_STATUS_CHANGE_DATE": "NaT",
                  "SSA": "nan",
                  "LATITUDE": 41.886351604,
                  "LONGITUDE": -87.632613946,
                  "LOCATION": "(41.886351604488574, -87.63261394551859)",
                  "TIF_Name": "[]",
                  "_deepnote_index_column": 7
                },
                {
                  "ID": "2321004-20220816",
                  "LICENSE_ID": 2854072,
                  "ACCOUNT_NUMBER": 355521,
                  "SITE_NUMBER": 15,
                  "LEGAL_NAME": "BRIGHT HORIZONS CHILDREN'S CENTERS LLC",
                  "DBA": "Bright Horizons at Clybourn",
                  "ADDRESS": "1425 N DAYTON ST 1ST",
                  "CITY": "CHICAGO",
                  "STATE": "IL",
                  "ZIP_CODE": 60642,
                  "WARD": 27,
                  "PRECINCT": 46,
                  "WARD_PRECINCT": "27-46",
                  "POLICE_DISTRICT": 18,
                  "LICENSE_CODE": 1023,
                  "LICENSE_DESCRIPTION": "Children's Services Facility License",
                  "BUSINESS_ACTIVITY_ID": "820 | 823",
                  "BUSINESS_ACTIVITY": "Supervision of, and Care for, Children 0-6 Years of Age, During the Day between 6am-9pm | Supervision of, and Care for, Children 2-6 Years of Age, During the Day between 6am-9pm",
                  "LICENSE_NUMBER": 2321004,
                  "APPLICATION_TYPE": "RENEW",
                  "APPLICATION_CREATED_DATE": "NaT",
                  "APPLICATION_REQUIREMENTS_COMPLETE": "2022-06-15 00:00:00",
                  "PAYMENT_DATE": "2022-06-23 00:00:00",
                  "CONDITIONAL_APPROVAL": "N",
                  "LICENSE_TERM_START_DATE": "2022-08-16 00:00:00",
                  "LICENSE_TERM_EXPIRATION_DATE": "2024-08-15 00:00:00",
                  "LICENSE_APPROVED_FOR_ISSUANCE": "2022-08-05 00:00:00",
                  "DATE_ISSUED": "2022-08-08 00:00:00",
                  "LICENSE_STATUS": "AAI",
                  "LICENSE_STATUS_CHANGE_DATE": "NaT",
                  "SSA": "nan",
                  "LATITUDE": 41.907156887,
                  "LONGITUDE": -87.649259472,
                  "LOCATION": "(41.9071568870692, -87.64925947162907)",
                  "TIF_Name": "['Red and Purple Modernization Phase One Project']",
                  "_deepnote_index_column": 8
                },
                {
                  "ID": "1968626-20220616",
                  "LICENSE_ID": 2841684,
                  "ACCOUNT_NUMBER": 10726,
                  "SITE_NUMBER": 3,
                  "LEGAL_NAME": "GRAHAM ENTERPRISE INC",
                  "DBA": "Chicago BP@Irving (GEI-152)",
                  "ADDRESS": "841 W IRVING PARK RD",
                  "CITY": "CHICAGO",
                  "STATE": "IL",
                  "ZIP_CODE": 60613,
                  "WARD": 46,
                  "PRECINCT": 10,
                  "WARD_PRECINCT": "46-10",
                  "POLICE_DISTRICT": 19,
                  "LICENSE_CODE": 1006,
                  "LICENSE_DESCRIPTION": "Retail Food Establishment",
                  "BUSINESS_ACTIVITY_ID": "775",
                  "BUSINESS_ACTIVITY": "Retail Sales of Perishable Foods",
                  "LICENSE_NUMBER": 1968626,
                  "APPLICATION_TYPE": "RENEW",
                  "APPLICATION_CREATED_DATE": "NaT",
                  "APPLICATION_REQUIREMENTS_COMPLETE": "2022-04-15 00:00:00",
                  "PAYMENT_DATE": "2022-05-10 00:00:00",
                  "CONDITIONAL_APPROVAL": "N",
                  "LICENSE_TERM_START_DATE": "2022-06-16 00:00:00",
                  "LICENSE_TERM_EXPIRATION_DATE": "2024-06-15 00:00:00",
                  "LICENSE_APPROVED_FOR_ISSUANCE": "2022-05-10 00:00:00",
                  "DATE_ISSUED": "2022-05-11 00:00:00",
                  "LICENSE_STATUS": "AAI",
                  "LICENSE_STATUS_CHANGE_DATE": "NaT",
                  "SSA": 18,
                  "LATITUDE": 41.954425019,
                  "LONGITUDE": -87.651324017,
                  "LOCATION": "(41.95442501861227, -87.65132401707042)",
                  "TIF_Name": "['Red and Purple Modernization Phase One Project']",
                  "_deepnote_index_column": 9
                }
              ]
            },
            "text/plain": "                      ID  LICENSE_ID  ACCOUNT_NUMBER  SITE_NUMBER  \\\n0       1579838-20220616     2842924          289144            1   \n1       2027540-20220616     2841687           10726            5   \n2       2009364-20200616     2726245          349503            1   \n3          1939-20220916     2858243           62544            9   \n4       1968629-20220616     2841685           10726            3   \n...                  ...         ...             ...          ...   \n315490    20364-20030516     1342093            8107           15   \n315491    49248-20101016     2051426           64451            1   \n315492    49258-20031116     1444445           64451            1   \n315493  1817133-20070719     1817133          314687            1   \n315494  1953522-20131116     2285382           16296            2   \n\n                              LEGAL_NAME  \\\n0                  1021 MONTROSE, L.L.C.   \n1                  GRAHAM ENTERPRISE INC   \n2        CHICAGO CUBS BASEBALL CLUB, LLC   \n3                      HYATT CORPORATION   \n4                  GRAHAM ENTERPRISE INC   \n...                                  ...   \n315490      HDS Retail North America, LP   \n315491         CONGRESS PLAZA HOTEL, LLC   \n315492         CONGRESS PLAZA HOTEL, LLC   \n315493  DHM CHICAGO HOTEL LESSEE GP, LLC   \n315494                GUSTO MEXICANO INC   \n\n                                                      DBA  \\\n0                                               Driftwood   \n1                                Rock N Roll BP (GEI-157)   \n2                                            CHICAGO CUBS   \n3                                 EAST TOWER MAIN KITCHEN   \n4                             Chicago BP@Irving (GEI-152)   \n...                                                   ...   \n315490                                  Press Relay #4042   \n315491                                 THE CONGRESS HOTEL   \n315492                                 THE CONGRESS HOTEL   \n315493  HAMPTON INN AND HOMEWOOD SUITES CHICAGODOWNTOW...   \n315494                                    EL CID TACOS #2   \n\n                        ADDRESS     CITY STATE  ZIP_CODE  ...  \\\n0           1021 W MONTROSE AVE  CHICAGO    IL     60613  ...   \n1         631-647 N LA SALLE DR  CHICAGO    IL     60654  ...   \n2         1060 W ADDISON ST 1ST  CHICAGO    IL     60613  ...   \n3            151 E WACKER DR  L  CHICAGO    IL     60601  ...   \n4          841 W IRVING PARK RD  CHICAGO    IL     60613  ...   \n...                         ...      ...   ...       ...  ...   \n315490     210 S CANAL ST UNION  CHICAGO    IL     60606  ...   \n315491       520 S MICHIGAN AVE  CHICAGO    IL     60605  ...   \n315492       520 S MICHIGAN AVE  CHICAGO    IL     60605  ...   \n315493       150-160 E HURON ST  CHICAGO    IL     60611  ...   \n315494  2645 N KEDZIE AVE 1 & 2  CHICAGO    IL     60647  ...   \n\n        LICENSE_TERM_EXPIRATION_DATE  LICENSE_APPROVED_FOR_ISSUANCE  \\\n0                         2024-06-15                     2022-05-10   \n1                         2024-06-15                     2022-05-10   \n2                         2022-06-15                     2020-08-07   \n3                         2024-09-15                     2022-08-05   \n4                         2023-06-15                     2022-05-10   \n...                              ...                            ...   \n315490                    2004-05-15                     2003-06-03   \n315491                    2012-10-15                     2010-10-04   \n315492                    2004-11-15                     2003-11-14   \n315493                    2009-03-15                     2007-07-18   \n315494                    2015-11-15                     2013-11-06   \n\n       DATE_ISSUED  LICENSE_STATUS  LICENSE_STATUS_CHANGE_DATE   SSA  \\\n0       2022-05-11             AAI                         NaT  34.0   \n1       2022-05-11             AAI                         NaT   NaN   \n2       2022-05-11             AAI                         NaT  17.0   \n3       2022-08-08             AAI                         NaT   NaN   \n4       2022-05-11             AAI                         NaT  18.0   \n...            ...             ...                         ...   ...   \n315490  2003-06-04             AAI                         NaT   NaN   \n315491  2010-10-05             AAI                         NaT   NaN   \n315492  2003-11-17             AAI                         NaT   NaN   \n315493  2007-07-19             AAI                         NaT   NaN   \n315494  2013-11-07             AAI                         NaT   NaN   \n\n         LATITUDE  LONGITUDE                                  LOCATION  \\\n0       41.961655 -87.655650  (41.961655308981946, -87.65564994485091)   \n1       41.893251 -87.632493   (41.89325119846543, -87.63249301222938)   \n2       41.947317 -87.656418   (41.94731748901495, -87.65641794764645)   \n3       41.888000 -87.622565   (41.88799988734853, -87.62256513255957)   \n4       41.954425 -87.651324   (41.95442501861227, -87.65132401707042)   \n...           ...        ...                                       ...   \n315490  41.878962 -87.639733  (41.878961784808446, -87.63973261184394)   \n315491  41.875260 -87.624397    (41.87525982581901, -87.6243966738356)   \n315492  41.875260 -87.624397    (41.87525982581901, -87.6243966738356)   \n315493  41.895061 -87.623508  (41.895060785681196, -87.62350750911575)   \n315494  41.929763 -87.707223   (41.92976286483289, -87.70722323405842)   \n\n                                                 TIF_Name  \n0                                         ['Wilson Yard']  \n1                                                      []  \n2       ['Red and Purple Modernization Phase One Proje...  \n3                                                      []  \n4       ['Red and Purple Modernization Phase One Proje...  \n...                                                   ...  \n315490                                 ['Canal/Congress']  \n315491                       ['Red Line Extension (RLE)']  \n315492                       ['Red Line Extension (RLE)']  \n315493                                                 []  \n315494                                                 []  \n\n[315495 rows x 35 columns]",
            "text/html": "<div>\n<style scoped>\n    .dataframe tbody tr th:only-of-type {\n        vertical-align: middle;\n    }\n\n    .dataframe tbody tr th {\n        vertical-align: top;\n    }\n\n    .dataframe thead th {\n        text-align: right;\n    }\n</style>\n<table border=\"1\" class=\"dataframe\">\n  <thead>\n    <tr style=\"text-align: right;\">\n      <th></th>\n      <th>ID</th>\n      <th>LICENSE_ID</th>\n      <th>ACCOUNT_NUMBER</th>\n      <th>SITE_NUMBER</th>\n      <th>LEGAL_NAME</th>\n      <th>DBA</th>\n      <th>ADDRESS</th>\n      <th>CITY</th>\n      <th>STATE</th>\n      <th>ZIP_CODE</th>\n      <th>...</th>\n      <th>LICENSE_TERM_EXPIRATION_DATE</th>\n      <th>LICENSE_APPROVED_FOR_ISSUANCE</th>\n      <th>DATE_ISSUED</th>\n      <th>LICENSE_STATUS</th>\n      <th>LICENSE_STATUS_CHANGE_DATE</th>\n      <th>SSA</th>\n      <th>LATITUDE</th>\n      <th>LONGITUDE</th>\n      <th>LOCATION</th>\n      <th>TIF_Name</th>\n    </tr>\n  </thead>\n  <tbody>\n    <tr>\n      <th>0</th>\n      <td>1579838-20220616</td>\n      <td>2842924</td>\n      <td>289144</td>\n      <td>1</td>\n      <td>1021 MONTROSE, L.L.C.</td>\n      <td>Driftwood</td>\n      <td>1021 W MONTROSE AVE</td>\n      <td>CHICAGO</td>\n      <td>IL</td>\n      <td>60613</td>\n      <td>...</td>\n      <td>2024-06-15</td>\n      <td>2022-05-10</td>\n      <td>2022-05-11</td>\n      <td>AAI</td>\n      <td>NaT</td>\n      <td>34.0</td>\n      <td>41.961655</td>\n      <td>-87.655650</td>\n      <td>(41.961655308981946, -87.65564994485091)</td>\n      <td>['Wilson Yard']</td>\n    </tr>\n    <tr>\n      <th>1</th>\n      <td>2027540-20220616</td>\n      <td>2841687</td>\n      <td>10726</td>\n      <td>5</td>\n      <td>GRAHAM ENTERPRISE INC</td>\n      <td>Rock N Roll BP (GEI-157)</td>\n      <td>631-647 N LA SALLE DR</td>\n      <td>CHICAGO</td>\n      <td>IL</td>\n      <td>60654</td>\n      <td>...</td>\n      <td>2024-06-15</td>\n      <td>2022-05-10</td>\n      <td>2022-05-11</td>\n      <td>AAI</td>\n      <td>NaT</td>\n      <td>NaN</td>\n      <td>41.893251</td>\n      <td>-87.632493</td>\n      <td>(41.89325119846543, -87.63249301222938)</td>\n      <td>[]</td>\n    </tr>\n    <tr>\n      <th>2</th>\n      <td>2009364-20200616</td>\n      <td>2726245</td>\n      <td>349503</td>\n      <td>1</td>\n      <td>CHICAGO CUBS BASEBALL CLUB, LLC</td>\n      <td>CHICAGO CUBS</td>\n      <td>1060 W ADDISON ST 1ST</td>\n      <td>CHICAGO</td>\n      <td>IL</td>\n      <td>60613</td>\n      <td>...</td>\n      <td>2022-06-15</td>\n      <td>2020-08-07</td>\n      <td>2022-05-11</td>\n      <td>AAI</td>\n      <td>NaT</td>\n      <td>17.0</td>\n      <td>41.947317</td>\n      <td>-87.656418</td>\n      <td>(41.94731748901495, -87.65641794764645)</td>\n      <td>['Red and Purple Modernization Phase One Proje...</td>\n    </tr>\n    <tr>\n      <th>3</th>\n      <td>1939-20220916</td>\n      <td>2858243</td>\n      <td>62544</td>\n      <td>9</td>\n      <td>HYATT CORPORATION</td>\n      <td>EAST TOWER MAIN KITCHEN</td>\n      <td>151 E WACKER DR  L</td>\n      <td>CHICAGO</td>\n      <td>IL</td>\n      <td>60601</td>\n      <td>...</td>\n      <td>2024-09-15</td>\n      <td>2022-08-05</td>\n      <td>2022-08-08</td>\n      <td>AAI</td>\n      <td>NaT</td>\n      <td>NaN</td>\n      <td>41.888000</td>\n      <td>-87.622565</td>\n      <td>(41.88799988734853, -87.62256513255957)</td>\n      <td>[]</td>\n    </tr>\n    <tr>\n      <th>4</th>\n      <td>1968629-20220616</td>\n      <td>2841685</td>\n      <td>10726</td>\n      <td>3</td>\n      <td>GRAHAM ENTERPRISE INC</td>\n      <td>Chicago BP@Irving (GEI-152)</td>\n      <td>841 W IRVING PARK RD</td>\n      <td>CHICAGO</td>\n      <td>IL</td>\n      <td>60613</td>\n      <td>...</td>\n      <td>2023-06-15</td>\n      <td>2022-05-10</td>\n      <td>2022-05-11</td>\n      <td>AAI</td>\n      <td>NaT</td>\n      <td>18.0</td>\n      <td>41.954425</td>\n      <td>-87.651324</td>\n      <td>(41.95442501861227, -87.65132401707042)</td>\n      <td>['Red and Purple Modernization Phase One Proje...</td>\n    </tr>\n    <tr>\n      <th>...</th>\n      <td>...</td>\n      <td>...</td>\n      <td>...</td>\n      <td>...</td>\n      <td>...</td>\n      <td>...</td>\n      <td>...</td>\n      <td>...</td>\n      <td>...</td>\n      <td>...</td>\n      <td>...</td>\n      <td>...</td>\n      <td>...</td>\n      <td>...</td>\n      <td>...</td>\n      <td>...</td>\n      <td>...</td>\n      <td>...</td>\n      <td>...</td>\n      <td>...</td>\n      <td>...</td>\n    </tr>\n    <tr>\n      <th>315490</th>\n      <td>20364-20030516</td>\n      <td>1342093</td>\n      <td>8107</td>\n      <td>15</td>\n      <td>HDS Retail North America, LP</td>\n      <td>Press Relay #4042</td>\n      <td>210 S CANAL ST UNION</td>\n      <td>CHICAGO</td>\n      <td>IL</td>\n      <td>60606</td>\n      <td>...</td>\n      <td>2004-05-15</td>\n      <td>2003-06-03</td>\n      <td>2003-06-04</td>\n      <td>AAI</td>\n      <td>NaT</td>\n      <td>NaN</td>\n      <td>41.878962</td>\n      <td>-87.639733</td>\n      <td>(41.878961784808446, -87.63973261184394)</td>\n      <td>['Canal/Congress']</td>\n    </tr>\n    <tr>\n      <th>315491</th>\n      <td>49248-20101016</td>\n      <td>2051426</td>\n      <td>64451</td>\n      <td>1</td>\n      <td>CONGRESS PLAZA HOTEL, LLC</td>\n      <td>THE CONGRESS HOTEL</td>\n      <td>520 S MICHIGAN AVE</td>\n      <td>CHICAGO</td>\n      <td>IL</td>\n      <td>60605</td>\n      <td>...</td>\n      <td>2012-10-15</td>\n      <td>2010-10-04</td>\n      <td>2010-10-05</td>\n      <td>AAI</td>\n      <td>NaT</td>\n      <td>NaN</td>\n      <td>41.875260</td>\n      <td>-87.624397</td>\n      <td>(41.87525982581901, -87.6243966738356)</td>\n      <td>['Red Line Extension (RLE)']</td>\n    </tr>\n    <tr>\n      <th>315492</th>\n      <td>49258-20031116</td>\n      <td>1444445</td>\n      <td>64451</td>\n      <td>1</td>\n      <td>CONGRESS PLAZA HOTEL, LLC</td>\n      <td>THE CONGRESS HOTEL</td>\n      <td>520 S MICHIGAN AVE</td>\n      <td>CHICAGO</td>\n      <td>IL</td>\n      <td>60605</td>\n      <td>...</td>\n      <td>2004-11-15</td>\n      <td>2003-11-14</td>\n      <td>2003-11-17</td>\n      <td>AAI</td>\n      <td>NaT</td>\n      <td>NaN</td>\n      <td>41.875260</td>\n      <td>-87.624397</td>\n      <td>(41.87525982581901, -87.6243966738356)</td>\n      <td>['Red Line Extension (RLE)']</td>\n    </tr>\n    <tr>\n      <th>315493</th>\n      <td>1817133-20070719</td>\n      <td>1817133</td>\n      <td>314687</td>\n      <td>1</td>\n      <td>DHM CHICAGO HOTEL LESSEE GP, LLC</td>\n      <td>HAMPTON INN AND HOMEWOOD SUITES CHICAGODOWNTOW...</td>\n      <td>150-160 E HURON ST</td>\n      <td>CHICAGO</td>\n      <td>IL</td>\n      <td>60611</td>\n      <td>...</td>\n      <td>2009-03-15</td>\n      <td>2007-07-18</td>\n      <td>2007-07-19</td>\n      <td>AAI</td>\n      <td>NaT</td>\n      <td>NaN</td>\n      <td>41.895061</td>\n      <td>-87.623508</td>\n      <td>(41.895060785681196, -87.62350750911575)</td>\n      <td>[]</td>\n    </tr>\n    <tr>\n      <th>315494</th>\n      <td>1953522-20131116</td>\n      <td>2285382</td>\n      <td>16296</td>\n      <td>2</td>\n      <td>GUSTO MEXICANO INC</td>\n      <td>EL CID TACOS #2</td>\n      <td>2645 N KEDZIE AVE 1 &amp; 2</td>\n      <td>CHICAGO</td>\n      <td>IL</td>\n      <td>60647</td>\n      <td>...</td>\n      <td>2015-11-15</td>\n      <td>2013-11-06</td>\n      <td>2013-11-07</td>\n      <td>AAI</td>\n      <td>NaT</td>\n      <td>NaN</td>\n      <td>41.929763</td>\n      <td>-87.707223</td>\n      <td>(41.92976286483289, -87.70722323405842)</td>\n      <td>[]</td>\n    </tr>\n  </tbody>\n</table>\n<p>315495 rows × 35 columns</p>\n</div>"
          },
          "metadata": {}
        }
      ],
      "outputs_reference": null,
      "execution_count": null,
      "block_group": "4a95838a43814deb9be853b32d572767",
      "content_dependencies": null
    },
    {
      "cell_type": "markdown",
      "source": "# Python for table to CSV stored under business info by size folder",
      "metadata": {
        "formattedRanges": [],
        "cell_id": "b91f0aece8d14c7c800fde852bae17cd",
        "deepnote_cell_type": "text-cell-h1"
      },
      "block_group": "7d4f639b89f943cea2deab298bf373d4"
    },
    {
      "cell_type": "code",
      "source": "pandas.DataFrame(big_buss_info).to_csv('/work/Business Info By Size/BigBusinessInfo.csv')\npandas.DataFrame(medium_buss_info).to_csv('/work/Business Info By Size/MediumBusinessInfo.csv')\npandas.DataFrame(small_buss_info).to_csv('/work/Business Info By Size/SmallBusinessInfo.csv')",
      "metadata": {
        "source_hash": null,
        "execution_start": 1710647335632,
        "execution_millis": 37884,
        "deepnote_to_be_reexecuted": false,
        "cell_id": "a2067746598b4d7e80fdaaddd6bbf484",
        "deepnote_cell_type": "code"
      },
      "outputs": [],
      "outputs_reference": null,
      "execution_count": null,
      "block_group": "54bfc23773714e79afcf0fefcdad978c",
      "content_dependencies": null
    },
    {
      "cell_type": "markdown",
      "source": "<a style='text-decoration:none;line-height:16px;display:flex;color:#5B5B62;padding:10px;justify-content:end;' href='https://deepnote.com?utm_source=created-in-deepnote-cell&projectId=41bd1eeb-8ade-41a5-ae81-cf4a88f38197' target=\"_blank\">\n<img alt='Created in deepnote.com' style='display:inline;max-height:16px;margin:0px;margin-right:7.5px;' src='data:image/svg+xml;base64,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' > </img>\nCreated in <span style='font-weight:600;margin-left:4px;'>Deepnote</span></a>",
      "metadata": {
        "created_in_deepnote_cell": true,
        "deepnote_cell_type": "markdown"
      }
    }
  ],
  "nbformat": 4,
  "nbformat_minor": 0,
  "metadata": {
    "deepnote_notebook_id": "bd677dd806cb4627b75a1545372561cd",
    "deepnote_execution_queue": []
  }
}