{
  "cells": [
    {
      "cell_type": "markdown",
      "source": "# Splitting Businesses by Chain",
      "metadata": {
        "formattedRanges": [],
        "cell_id": "081857e9c4e64c54aa3848bace685555",
        "deepnote_cell_type": "text-cell-h1"
      },
      "block_group": "25baf7a3971344eb97de4026da6c08ca"
    },
    {
      "cell_type": "code",
      "source": "import pandas as pd",
      "metadata": {
        "source_hash": null,
        "execution_start": 1712709991938,
        "execution_millis": 202,
        "deepnote_to_be_reexecuted": false,
        "cell_id": "aa82c4ac7f114e319c78d96566b7179d",
        "deepnote_cell_type": "code"
      },
      "outputs": [],
      "outputs_reference": null,
      "execution_count": null,
      "block_group": "aa82c4ac7f114e319c78d96566b7179d",
      "content_dependencies": null
    },
    {
      "cell_type": "code",
      "source": "def load_file_to_list(filename):\n  with open(filename, 'r') as f:\n    # Read all lines into a list\n    lines = f.readlines()\n  # Remove trailing newline characters (optional)\n  lines = [line.strip().lower() for line in lines]\n  return lines\n\n# Example usage (assuming the modified file is named 'your_file_modified.txt')\nstrings_to_check = load_file_to_list('lst_mod.txt')\nprint(strings_to_check)",
      "metadata": {
        "source_hash": null,
        "execution_start": 1712709987780,
        "execution_millis": 725,
        "deepnote_to_be_reexecuted": false,
        "cell_id": "5db46bbaa836496c9e77cccbc28991d7",
        "deepnote_cell_type": "code"
      },
      "outputs": [
        {
          "name": "stdout",
          "text": "['subway', \"mcdonald's\", 'starbucks', 'taco bell', 'pizza hut', \"domino's\", 'burger king', \"wendy's\", \"dunkin'\", 'dairy queen', 'little caesars', 'kfc', 'sonic drive-in', \"papa john's\", \"arby's\", 'chipotle mexican grill', 'chick-fil-a', \"jimmy john's\", 'panda express', 'baskin-robbins', 'jack in the box', \"jersey mike's subs\", 'panera bread', \"hardee's\", 'wingstop', 'five guys', \"culver's\", 'krispy kreme', \"applebee's\", 'olive garden', 'outback steakhouse', 'popeyes louisiana kitchen', '7-eleven', 'wawa', 'circle k', \"casey's general stores\", 'sheetz', 'quicktrip', 'cumberland farms', 'racetrac', 'getgo', 'thorntons', 'walmart', 'kroger', 'jewel osco', 'mariano', 'aldi', 'whole foods', 'dollar general', 'petco', 'petsmart', 'dollar tree', 'cvs pharmacy', 'walgreens', 'home depot', 'menards', 'ace hardware', \"lowe's\", 'target', \"kohl's\", \"macy's\", 'jcpenney', 'best buy', 'office depot', 'staples', 'ross dress for less', 'tj maxx', 'marshalls', 'bed bath & beyond', 'michaels', 'hobby lobby', 'ulta beauty', 'sephora', 'exxonmobil', 'shell', 'chevron', 'bp', 'aaa', 'speedway', 'hilton', 'marriott', 'anytime fitness', 'planet fitness', 'meineke car care', 'jiffy lube', 'sherwin-williams', 'cold stone', 'hyatt', 'mc donalds', 'allied waste', 'jimmy john', 'cielo dulce', 'comcast', 'best western', 'dunkin donuts', 'dunkin', 'kentucky', 'citgo', 'jackson hewitt tax service', 'waste management', 'edward jones', 'h&r', 'h & r', '7 eleven', 'seven eleven', 'fedex', 'trader joe', 'jewel', 'boost', 'mobil', 'marathon', 'sprint', 't-mobile', 'public storage', 'liberty tax service', 'clark', 'mcdonalds', 'potbelly', 'ups', 'united parcel service', 'xsport', 'firestone', 'at&t', 'payless', 'metro', 'hertz', 'citgo', 'u s cellular', 'us cellular', 'u.s. cellular', 'cricket', 'phillips 66', 'verizon', 'xerox', 'enterprise', 'chartwells', 'amstar', 'embassy suites hotel', 'akira', 'great clips', 'intercontinental', 'swissotel', 'costco', 'hard rock cafe', 'extra space storage', 'amoco', 'greyhound', \"nando's peri-peri\", 'dolex dollar express', 'dolex', 'gnc', 'life storage', 'popeyes', 'exxon', 'tuxedo junction', 'town & country liquors', 'holiday inn', 'londonhouse hotel', 'united airlines', 'burlington', 'urban outfitters', 'goose island', 'wyndham', 'shop-n-save', \"sam's club\", \"chuck 'e' cheese's\", 'check into cash', 'deja vu', 'mattress firm', 'amc', 'cheesecake factory', 'gns', 'walgreen', 'cvs', 'food 4 less', 'fannie may', 'osco', 'l a fitness', \"binny's\", 'hooters', 'uhaul', 'little caesar', 'quiznos', 'potbelly', 'xfinity', 'hampton', 'orangetheory', 'bath & body works', 'baskin robbins', 'family dollar', 'american drug stores', 'blockbuster', 'gamestop', 'radioshack', 'foot locker', 'autozone', 'tropical ice cream', 'white castle', \"o'reilly\", 'bridgestone', 'sears', 'rent-a-center', 'americash', \"claire's\", 'supercuts', 'goodyear', 'jamba juice company', 'image dynamics', 'vista international', 'the noodle shop', 'barnes & noble', 'tennis corporation of america', 'party city', 'mattress world', 'fitness international', 'pier 1', 'budget', 'old navy', 'bon appetit', 'national vision', 'hat world', 'qdoba', \"men's wearhouse\", \"bloomingdale's\", 'california pizza kitchen', \"the children's place\", 'k mart', 'citigroup', 'zale', 'j.b.hunt', 'american airlines', 'h & m', 'bath & body', 'five below', 'amazon', 'shop-n-save', 'tootsie roll', 'tampico', 'citi', 'cbs', \"dave & buster's\", 'nordstrom', 'kmart', 'american mattress', 'ticketmaster']\n",
          "output_type": "stream"
        }
      ],
      "outputs_reference": null,
      "execution_count": null,
      "block_group": "2f53ea7c82984351969001879055f46a",
      "content_dependencies": null
    },
    {
      "cell_type": "code",
      "source": "df_1 = _deepnote_execute_sql('SELECT *\\n    FROM \\'BusWithCom.csv\\'\\n    WHERE STATE = \\'IL\\' AND CITY = \\'CHICAGO\\' \\n    AND ADDRESS IS NOT NULL \\n    AND CITY IS NOT NULL \\n    AND STATE IS NOT NULL \\n    AND ZIP_CODE IS NOT NULL \\n    AND LATITUDE IS NOT NULL \\n    AND LONGITUDE IS NOT NULL\\n-- LIMIT 1000;', 'SQL_DEEPNOTE_DATAFRAME_SQL', audit_sql_comment='', sql_cache_mode='cache_disabled')\ndf_1",
      "metadata": {
        "source_hash": null,
        "execution_start": 1712710007786,
        "execution_millis": 21003,
        "sql_integration_id": "deepnote-dataframe-sql",
        "deepnote_table_state": {
          "sortBy": [],
          "filters": [],
          "pageSize": 10,
          "pageIndex": 14
        },
        "deepnote_table_loading": false,
        "deepnote_variable_name": "df_1",
        "deepnote_to_be_reexecuted": false,
        "cell_id": "eec571de459941f59b2f0140312aa082",
        "deepnote_cell_type": "sql",
        "deepnote_sql_source": "SELECT *\n    FROM 'BusWithCom.csv'\n    WHERE STATE = 'IL' AND CITY = 'CHICAGO' \n    AND ADDRESS IS NOT NULL \n    AND CITY IS NOT NULL \n    AND STATE IS NOT NULL \n    AND ZIP_CODE IS NOT NULL \n    AND LATITUDE IS NOT NULL \n    AND LONGITUDE IS NOT NULL\n-- LIMIT 1000;"
      },
      "outputs": [
        {
          "output_type": "execute_result",
          "execution_count": 3,
          "data": {
            "application/vnd.deepnote.dataframe.v3+json": {
              "column_count": 37,
              "row_count": 1033616,
              "columns": [
                {
                  "name": "ID",
                  "dtype": "object"
                },
                {
                  "name": "LICENSE_ID",
                  "dtype": "int64"
                },
                {
                  "name": "ACCOUNT_NUMBER",
                  "dtype": "int64"
                },
                {
                  "name": "SITE_NUMBER",
                  "dtype": "int64"
                },
                {
                  "name": "LEGAL_NAME",
                  "dtype": "object"
                },
                {
                  "name": "DBA",
                  "dtype": "object"
                },
                {
                  "name": "ADDRESS",
                  "dtype": "object"
                },
                {
                  "name": "CITY",
                  "dtype": "object"
                },
                {
                  "name": "STATE",
                  "dtype": "object"
                },
                {
                  "name": "ZIP_CODE",
                  "dtype": "int64"
                },
                {
                  "name": "WARD",
                  "dtype": "float64"
                },
                {
                  "name": "PRECINCT",
                  "dtype": "float64"
                },
                {
                  "name": "WARD_PRECINCT",
                  "dtype": "object"
                },
                {
                  "name": "POLICE_DISTRICT",
                  "dtype": "float64"
                },
                {
                  "name": "LICENSE_CODE",
                  "dtype": "int64"
                },
                {
                  "name": "LICENSE_DESCRIPTION",
                  "dtype": "object"
                },
                {
                  "name": "BUSINESS_ACTIVITY_ID",
                  "dtype": "object"
                },
                {
                  "name": "BUSINESS_ACTIVITY",
                  "dtype": "object"
                },
                {
                  "name": "LICENSE_NUMBER",
                  "dtype": "int64"
                },
                {
                  "name": "APPLICATION_TYPE",
                  "dtype": "object"
                },
                {
                  "name": "APPLICATION_CREATED_DATE",
                  "dtype": "datetime64[us]"
                },
                {
                  "name": "APPLICATION_REQUIREMENTS_COMPLETE",
                  "dtype": "datetime64[us]"
                },
                {
                  "name": "PAYMENT_DATE",
                  "dtype": "datetime64[us]"
                },
                {
                  "name": "CONDITIONAL_APPROVAL",
                  "dtype": "object"
                },
                {
                  "name": "LICENSE_TERM_START_DATE",
                  "dtype": "datetime64[us]"
                },
                {
                  "name": "LICENSE_TERM_EXPIRATION_DATE",
                  "dtype": "datetime64[us]"
                },
                {
                  "name": "LICENSE_APPROVED_FOR_ISSUANCE",
                  "dtype": "datetime64[us]"
                },
                {
                  "name": "DATE_ISSUED",
                  "dtype": "datetime64[us]"
                },
                {
                  "name": "LICENSE_STATUS",
                  "dtype": "object"
                },
                {
                  "name": "LICENSE_STATUS_CHANGE_DATE",
                  "dtype": "datetime64[us]"
                },
                {
                  "name": "SSA",
                  "dtype": "float64"
                },
                {
                  "name": "LATITUDE",
                  "dtype": "float64"
                },
                {
                  "name": "LONGITUDE",
                  "dtype": "float64"
                },
                {
                  "name": "LOCATION",
                  "dtype": "object"
                },
                {
                  "name": "TIF_Name",
                  "dtype": "object"
                },
                {
                  "name": "LICENSE_GROUP",
                  "dtype": "object"
                },
                {
                  "name": "Com_Name",
                  "dtype": "object"
                },
                {
                  "name": "_deepnote_index_column",
                  "dtype": "int64"
                }
              ],
              "rows": [
                {
                  "ID": "1476068-20071116",
                  "LICENSE_ID": 1857378,
                  "ACCOUNT_NUMBER": 64603,
                  "SITE_NUMBER": 4,
                  "LEGAL_NAME": "LEOPARDO COMPANIES INC.",
                  "DBA": "LEOPARDO COMPANIES INC",
                  "ADDRESS": "333 W WACKER DR 2ND 250",
                  "CITY": "CHICAGO",
                  "STATE": "IL",
                  "ZIP_CODE": 60606,
                  "WARD": 42,
                  "PRECINCT": "nan",
                  "WARD_PRECINCT": "42-",
                  "POLICE_DISTRICT": 1,
                  "LICENSE_CODE": 1010,
                  "LICENSE_DESCRIPTION": "Limited Business License",
                  "BUSINESS_ACTIVITY_ID": "None",
                  "BUSINESS_ACTIVITY": "None",
                  "LICENSE_NUMBER": 1476068,
                  "APPLICATION_TYPE": "RENEW",
                  "APPLICATION_CREATED_DATE": "NaT",
                  "APPLICATION_REQUIREMENTS_COMPLETE": "2007-09-21 00:00:00",
                  "PAYMENT_DATE": "2007-11-15 00:00:00",
                  "CONDITIONAL_APPROVAL": "N",
                  "LICENSE_TERM_START_DATE": "2007-11-16 00:00:00",
                  "LICENSE_TERM_EXPIRATION_DATE": "2008-09-15 00:00:00",
                  "LICENSE_APPROVED_FOR_ISSUANCE": "2007-11-15 00:00:00",
                  "DATE_ISSUED": "2007-11-16 00:00:00",
                  "LICENSE_STATUS": "AAI",
                  "LICENSE_STATUS_CHANGE_DATE": "NaT",
                  "SSA": "nan",
                  "LATITUDE": 41.886025413,
                  "LONGITUDE": -87.636297703,
                  "LOCATION": "(41.886025412541144, -87.63629770323044)",
                  "TIF_Name": "[]",
                  "LICENSE_GROUP": "Business",
                  "Com_Name": "['LOOP']",
                  "_deepnote_index_column": 140
                },
                {
                  "ID": "1694745-20100916",
                  "LICENSE_ID": 2044894,
                  "ACCOUNT_NUMBER": 64603,
                  "SITE_NUMBER": 5,
                  "LEGAL_NAME": "LEOPARDO COMPANIES INC.",
                  "DBA": "LEOPARDO COMPANIES INC",
                  "ADDRESS": "1945 W HUBBARD ST  B",
                  "CITY": "CHICAGO",
                  "STATE": "IL",
                  "ZIP_CODE": 60622,
                  "WARD": 27,
                  "PRECINCT": 27,
                  "WARD_PRECINCT": "27-27",
                  "POLICE_DISTRICT": 12,
                  "LICENSE_CODE": 1010,
                  "LICENSE_DESCRIPTION": "Limited Business License",
                  "BUSINESS_ACTIVITY_ID": "None",
                  "BUSINESS_ACTIVITY": "None",
                  "LICENSE_NUMBER": 1694745,
                  "APPLICATION_TYPE": "RENEW",
                  "APPLICATION_CREATED_DATE": "NaT",
                  "APPLICATION_REQUIREMENTS_COMPLETE": "2010-07-15 00:00:00",
                  "PAYMENT_DATE": "2010-08-19 00:00:00",
                  "CONDITIONAL_APPROVAL": "N",
                  "LICENSE_TERM_START_DATE": "2010-09-16 00:00:00",
                  "LICENSE_TERM_EXPIRATION_DATE": "2012-09-15 00:00:00",
                  "LICENSE_APPROVED_FOR_ISSUANCE": "2010-08-19 00:00:00",
                  "DATE_ISSUED": "2010-08-20 00:00:00",
                  "LICENSE_STATUS": "AAI",
                  "LICENSE_STATUS_CHANGE_DATE": "NaT",
                  "SSA": "nan",
                  "LATITUDE": 41.889627703,
                  "LONGITUDE": -87.67623091,
                  "LOCATION": "(41.8896277030332, -87.67623090978807)",
                  "TIF_Name": "['Kinzie Industrial Conservation Area']",
                  "LICENSE_GROUP": "Business",
                  "Com_Name": "[]",
                  "_deepnote_index_column": 141
                },
                {
                  "ID": "2368367-20220816",
                  "LICENSE_ID": 2853208,
                  "ACCOUNT_NUMBER": 261064,
                  "SITE_NUMBER": 2,
                  "LEGAL_NAME": "TOURANCE SMITH",
                  "DBA": "S & S HOME REPAIR SERVICE",
                  "ADDRESS": "1475 W 77TH ST 2ND",
                  "CITY": "CHICAGO",
                  "STATE": "IL",
                  "ZIP_CODE": 60620,
                  "WARD": 17,
                  "PRECINCT": 29,
                  "WARD_PRECINCT": "17-29",
                  "POLICE_DISTRICT": 6,
                  "LICENSE_CODE": 4404,
                  "LICENSE_DESCRIPTION": "Regulated Business License",
                  "BUSINESS_ACTIVITY_ID": "674",
                  "BUSINESS_ACTIVITY": "Home Repair Services (Home Based Business)",
                  "LICENSE_NUMBER": 2368367,
                  "APPLICATION_TYPE": "RENEW",
                  "APPLICATION_CREATED_DATE": "NaT",
                  "APPLICATION_REQUIREMENTS_COMPLETE": "2022-06-15 00:00:00",
                  "PAYMENT_DATE": "2022-08-07 00:00:00",
                  "CONDITIONAL_APPROVAL": "N",
                  "LICENSE_TERM_START_DATE": "2022-08-16 00:00:00",
                  "LICENSE_TERM_EXPIRATION_DATE": "2024-08-15 00:00:00",
                  "LICENSE_APPROVED_FOR_ISSUANCE": "2022-08-07 00:00:00",
                  "DATE_ISSUED": "2022-08-08 00:00:00",
                  "LICENSE_STATUS": "AAI",
                  "LICENSE_STATUS_CHANGE_DATE": "NaT",
                  "SSA": "nan",
                  "LATITUDE": 41.753911827,
                  "LONGITUDE": -87.661602814,
                  "LOCATION": "(41.75391182736269, -87.66160281418608)",
                  "TIF_Name": "[]",
                  "LICENSE_GROUP": "Business",
                  "Com_Name": "['AUBURN GRESHAM']",
                  "_deepnote_index_column": 142
                },
                {
                  "ID": "1963938-20211216",
                  "LICENSE_ID": 2815089,
                  "ACCOUNT_NUMBER": 217453,
                  "SITE_NUMBER": 2,
                  "LEGAL_NAME": "CHITOWN SPORTS FACILITIES, LLC",
                  "DBA": "CHITOWN SPORTS FACILITIES",
                  "ADDRESS": "2343 S THROOP ST 2",
                  "CITY": "CHICAGO",
                  "STATE": "IL",
                  "ZIP_CODE": 60608,
                  "WARD": 25,
                  "PRECINCT": 28,
                  "WARD_PRECINCT": "25-28",
                  "POLICE_DISTRICT": 12,
                  "LICENSE_CODE": 1050,
                  "LICENSE_DESCRIPTION": "Public Place of Amusement",
                  "BUSINESS_ACTIVITY_ID": "743",
                  "BUSINESS_ACTIVITY": "Provides Onsite Amusement or Entertainment",
                  "LICENSE_NUMBER": 1963938,
                  "APPLICATION_TYPE": "RENEW",
                  "APPLICATION_CREATED_DATE": "NaT",
                  "APPLICATION_REQUIREMENTS_COMPLETE": "2021-10-15 00:00:00",
                  "PAYMENT_DATE": "2021-12-13 00:00:00",
                  "CONDITIONAL_APPROVAL": "N",
                  "LICENSE_TERM_START_DATE": "2021-12-16 00:00:00",
                  "LICENSE_TERM_EXPIRATION_DATE": "2023-12-15 00:00:00",
                  "LICENSE_APPROVED_FOR_ISSUANCE": "2021-12-13 00:00:00",
                  "DATE_ISSUED": "2021-12-13 00:00:00",
                  "LICENSE_STATUS": "AAI",
                  "LICENSE_STATUS_CHANGE_DATE": "NaT",
                  "SSA": "nan",
                  "LATITUDE": 41.849377228,
                  "LONGITUDE": -87.658477318,
                  "LOCATION": "(41.849377228107315, -87.65847731791494)",
                  "TIF_Name": "['Pilsen']",
                  "LICENSE_GROUP": "Entertainment",
                  "Com_Name": "[]",
                  "_deepnote_index_column": 143
                },
                {
                  "ID": "2212246-20121229",
                  "LICENSE_ID": 2212246,
                  "ACCOUNT_NUMBER": 334772,
                  "SITE_NUMBER": 2,
                  "LEGAL_NAME": "MIGUEL ANGEL DUARTE-SOLIS",
                  "DBA": "MIGUEL ANGEL DUARTE-SOLIS",
                  "ADDRESS": "5015 S DAMEN AVE 1ST",
                  "CITY": "CHICAGO",
                  "STATE": "IL",
                  "ZIP_CODE": 60609,
                  "WARD": 15,
                  "PRECINCT": 15,
                  "WARD_PRECINCT": "15-15",
                  "POLICE_DISTRICT": 9,
                  "LICENSE_CODE": 4406,
                  "LICENSE_DESCRIPTION": "Peddler License",
                  "BUSINESS_ACTIVITY_ID": "770",
                  "BUSINESS_ACTIVITY": "Peddler (Over 65 Years of Age) - Retail Sales of General Merchandise, Whole Uncut Fruits/Vegetables, Flowers, Moving Along the Public Way",
                  "LICENSE_NUMBER": 2212246,
                  "APPLICATION_TYPE": "ISSUE",
                  "APPLICATION_CREATED_DATE": "NaT",
                  "APPLICATION_REQUIREMENTS_COMPLETE": "NaT",
                  "PAYMENT_DATE": "NaT",
                  "CONDITIONAL_APPROVAL": "N",
                  "LICENSE_TERM_START_DATE": "2012-12-29 00:00:00",
                  "LICENSE_TERM_EXPIRATION_DATE": "2014-08-15 00:00:00",
                  "LICENSE_APPROVED_FOR_ISSUANCE": "NaT",
                  "DATE_ISSUED": "2012-12-29 00:00:00",
                  "LICENSE_STATUS": "AAI",
                  "LICENSE_STATUS_CHANGE_DATE": "NaT",
                  "SSA": "nan",
                  "LATITUDE": 41.802569456,
                  "LONGITUDE": -87.674395755,
                  "LOCATION": "(41.802569455769735, -87.67439575456822)",
                  "TIF_Name": "[]",
                  "LICENSE_GROUP": "Special",
                  "Com_Name": "['NEW CITY']",
                  "_deepnote_index_column": 144
                },
                {
                  "ID": "2863270-20220808",
                  "LICENSE_ID": 2863270,
                  "ACCOUNT_NUMBER": 488323,
                  "SITE_NUMBER": 1,
                  "LEGAL_NAME": "CATERINA P GROUP INC.",
                  "DBA": "CATERINA P GROUP INC.",
                  "ADDRESS": "7022 W ROSCOE ST",
                  "CITY": "CHICAGO",
                  "STATE": "IL",
                  "ZIP_CODE": 60634,
                  "WARD": 38,
                  "PRECINCT": 4,
                  "WARD_PRECINCT": "38-4",
                  "POLICE_DISTRICT": 16,
                  "LICENSE_CODE": 4404,
                  "LICENSE_DESCRIPTION": "Regulated Business License",
                  "BUSINESS_ACTIVITY_ID": "674",
                  "BUSINESS_ACTIVITY": "Home Repair Services (Home Based Business)",
                  "LICENSE_NUMBER": 2863270,
                  "APPLICATION_TYPE": "ISSUE",
                  "APPLICATION_CREATED_DATE": "2022-08-05 00:00:00",
                  "APPLICATION_REQUIREMENTS_COMPLETE": "2022-08-08 00:00:00",
                  "PAYMENT_DATE": "2022-08-08 00:00:00",
                  "CONDITIONAL_APPROVAL": "N",
                  "LICENSE_TERM_START_DATE": "2022-08-08 00:00:00",
                  "LICENSE_TERM_EXPIRATION_DATE": "2024-08-15 00:00:00",
                  "LICENSE_APPROVED_FOR_ISSUANCE": "2022-08-08 00:00:00",
                  "DATE_ISSUED": "2022-08-08 00:00:00",
                  "LICENSE_STATUS": "AAI",
                  "LICENSE_STATUS_CHANGE_DATE": "NaT",
                  "SSA": "nan",
                  "LATITUDE": 41.941817381,
                  "LONGITUDE": -87.80230679,
                  "LOCATION": "(41.941817381411816, -87.80230679030826)",
                  "TIF_Name": "[]",
                  "LICENSE_GROUP": "Business",
                  "Com_Name": "['DUNNING']",
                  "_deepnote_index_column": 145
                },
                {
                  "ID": "2641855-20220916",
                  "LICENSE_ID": 2857499,
                  "ACCOUNT_NUMBER": 1611,
                  "SITE_NUMBER": 8,
                  "LEGAL_NAME": "TTX COMPANY",
                  "DBA": "TTX Company",
                  "ADDRESS": "7540 S WESTERN AVE",
                  "CITY": "CHICAGO",
                  "STATE": "IL",
                  "ZIP_CODE": 60620,
                  "WARD": 18,
                  "PRECINCT": "nan",
                  "WARD_PRECINCT": "18-",
                  "POLICE_DISTRICT": "nan",
                  "LICENSE_CODE": 1010,
                  "LICENSE_DESCRIPTION": "Limited Business License",
                  "BUSINESS_ACTIVITY_ID": "708",
                  "BUSINESS_ACTIVITY": "Miscellaneous Commercial Services",
                  "LICENSE_NUMBER": 2641855,
                  "APPLICATION_TYPE": "RENEW",
                  "APPLICATION_CREATED_DATE": "NaT",
                  "APPLICATION_REQUIREMENTS_COMPLETE": "2022-07-15 00:00:00",
                  "PAYMENT_DATE": "2022-08-05 00:00:00",
                  "CONDITIONAL_APPROVAL": "N",
                  "LICENSE_TERM_START_DATE": "2022-09-16 00:00:00",
                  "LICENSE_TERM_EXPIRATION_DATE": "2024-09-15 00:00:00",
                  "LICENSE_APPROVED_FOR_ISSUANCE": "2022-08-05 00:00:00",
                  "DATE_ISSUED": "2022-08-08 00:00:00",
                  "LICENSE_STATUS": "AAI",
                  "LICENSE_STATUS_CHANGE_DATE": "NaT",
                  "SSA": "nan",
                  "LATITUDE": 41.756140935,
                  "LONGITUDE": -87.683154198,
                  "LOCATION": "(41.7561409351624, -87.68315419754529)",
                  "TIF_Name": "['Greater Southwest Industrial (East)']",
                  "LICENSE_GROUP": "Business",
                  "Com_Name": "[]",
                  "_deepnote_index_column": 146
                },
                {
                  "ID": "2212246-20160816",
                  "LICENSE_ID": 2473745,
                  "ACCOUNT_NUMBER": 334772,
                  "SITE_NUMBER": 2,
                  "LEGAL_NAME": "MIGUEL ANGEL DUARTE-SOLIS",
                  "DBA": "MIGUEL ANGEL DUARTE-SOLIS",
                  "ADDRESS": "5015 S DAMEN AVE 1ST",
                  "CITY": "CHICAGO",
                  "STATE": "IL",
                  "ZIP_CODE": 60609,
                  "WARD": 15,
                  "PRECINCT": 15,
                  "WARD_PRECINCT": "15-15",
                  "POLICE_DISTRICT": 9,
                  "LICENSE_CODE": 4406,
                  "LICENSE_DESCRIPTION": "Peddler License",
                  "BUSINESS_ACTIVITY_ID": "770",
                  "BUSINESS_ACTIVITY": "Peddler (Over 65 Years of Age) - Retail Sales of General Merchandise, Whole Uncut Fruits/Vegetables, Flowers, Moving Along the Public Way",
                  "LICENSE_NUMBER": 2212246,
                  "APPLICATION_TYPE": "RENEW",
                  "APPLICATION_CREATED_DATE": "NaT",
                  "APPLICATION_REQUIREMENTS_COMPLETE": "2016-06-15 00:00:00",
                  "PAYMENT_DATE": "2016-08-26 00:00:00",
                  "CONDITIONAL_APPROVAL": "N",
                  "LICENSE_TERM_START_DATE": "2016-08-16 00:00:00",
                  "LICENSE_TERM_EXPIRATION_DATE": "2018-08-15 00:00:00",
                  "LICENSE_APPROVED_FOR_ISSUANCE": "NaT",
                  "DATE_ISSUED": "2016-08-26 00:00:00",
                  "LICENSE_STATUS": "AAI",
                  "LICENSE_STATUS_CHANGE_DATE": "NaT",
                  "SSA": "nan",
                  "LATITUDE": 41.802569456,
                  "LONGITUDE": -87.674395755,
                  "LOCATION": "(41.802569455769735, -87.67439575456822)",
                  "TIF_Name": "[]",
                  "LICENSE_GROUP": "Special",
                  "Com_Name": "['NEW CITY']",
                  "_deepnote_index_column": 147
                },
                {
                  "ID": "2405444-20220616",
                  "LICENSE_ID": 2843858,
                  "ACCOUNT_NUMBER": 388750,
                  "SITE_NUMBER": 2,
                  "LEGAL_NAME": "J M D ENTERPRISES INC.",
                  "DBA": "HAROLD'S CHICKEN",
                  "ADDRESS": "124 E 35TH ST  C",
                  "CITY": "CHICAGO",
                  "STATE": "IL",
                  "ZIP_CODE": 60616,
                  "WARD": 3,
                  "PRECINCT": 53,
                  "WARD_PRECINCT": "3-53",
                  "POLICE_DISTRICT": 2,
                  "LICENSE_CODE": 1006,
                  "LICENSE_DESCRIPTION": "Retail Food Establishment",
                  "BUSINESS_ACTIVITY_ID": "782",
                  "BUSINESS_ACTIVITY": "Sale of Food Prepared Onsite Without Dining Area",
                  "LICENSE_NUMBER": 2405444,
                  "APPLICATION_TYPE": "RENEW",
                  "APPLICATION_CREATED_DATE": "NaT",
                  "APPLICATION_REQUIREMENTS_COMPLETE": "2022-04-15 00:00:00",
                  "PAYMENT_DATE": "2022-08-08 00:00:00",
                  "CONDITIONAL_APPROVAL": "N",
                  "LICENSE_TERM_START_DATE": "2022-06-16 00:00:00",
                  "LICENSE_TERM_EXPIRATION_DATE": "2024-06-15 00:00:00",
                  "LICENSE_APPROVED_FOR_ISSUANCE": "2022-08-08 00:00:00",
                  "DATE_ISSUED": "2022-08-08 00:00:00",
                  "LICENSE_STATUS": "AAI",
                  "LICENSE_STATUS_CHANGE_DATE": "NaT",
                  "SSA": "nan",
                  "LATITUDE": 41.831165134,
                  "LONGITUDE": -87.622109047,
                  "LOCATION": "(41.83116513402594, -87.62210904738643)",
                  "TIF_Name": "['Bronzeville']",
                  "LICENSE_GROUP": "Food",
                  "Com_Name": "[]",
                  "_deepnote_index_column": 148
                },
                {
                  "ID": "61234-20220516",
                  "LICENSE_ID": 2837034,
                  "ACCOUNT_NUMBER": 86347,
                  "SITE_NUMBER": 1,
                  "LEGAL_NAME": "S&W CHICAGO, L.L.C.",
                  "DBA": "SMITH & WOLLENSKY",
                  "ADDRESS": "318 N STATE ST LL + 1",
                  "CITY": "CHICAGO",
                  "STATE": "IL",
                  "ZIP_CODE": 60654,
                  "WARD": 42,
                  "PRECINCT": 27,
                  "WARD_PRECINCT": "42-27",
                  "POLICE_DISTRICT": 18,
                  "LICENSE_CODE": 1006,
                  "LICENSE_DESCRIPTION": "Retail Food Establishment",
                  "BUSINESS_ACTIVITY_ID": "775",
                  "BUSINESS_ACTIVITY": "Retail Sales of Perishable Foods",
                  "LICENSE_NUMBER": 61234,
                  "APPLICATION_TYPE": "RENEW",
                  "APPLICATION_CREATED_DATE": "NaT",
                  "APPLICATION_REQUIREMENTS_COMPLETE": "2022-03-15 00:00:00",
                  "PAYMENT_DATE": "2022-07-14 00:00:00",
                  "CONDITIONAL_APPROVAL": "N",
                  "LICENSE_TERM_START_DATE": "2022-05-16 00:00:00",
                  "LICENSE_TERM_EXPIRATION_DATE": "2024-05-15 00:00:00",
                  "LICENSE_APPROVED_FOR_ISSUANCE": "2022-07-14 00:00:00",
                  "DATE_ISSUED": "2022-08-08 00:00:00",
                  "LICENSE_STATUS": "AAI",
                  "LICENSE_STATUS_CHANGE_DATE": "NaT",
                  "SSA": "nan",
                  "LATITUDE": 41.888040594,
                  "LONGITUDE": -87.628170663,
                  "LOCATION": "(41.88804059387871, -87.62817066340388)",
                  "TIF_Name": "[]",
                  "LICENSE_GROUP": "Food",
                  "Com_Name": "['NEAR NORTH SIDE']",
                  "_deepnote_index_column": 149
                }
              ]
            },
            "text/plain": "                       ID  LICENSE_ID  ACCOUNT_NUMBER  SITE_NUMBER  \\\n0        2617269-20220916     2857496            1611            5   \n1        2652692-20201217     2652692          456833            1   \n2        2647849-20200916     2739788           64603            7   \n3        1579838-20220616     2842924          289144            1   \n4        2027540-20220616     2841687           10726            5   \n...                   ...         ...             ...          ...   \n1033611  2204520-20160716     2465534           25985            1   \n1033612  2652764-20210316     2770633          456868            1   \n1033613     6415-20070816     1832401          376290            2   \n1033614  1800007-20070124     1800007          313705            1   \n1033615  2846254-20220909     2846254          349928           13   \n\n                                      LEGAL_NAME  \\\n0                                    TTX COMPANY   \n1                            JYM INVESTMENTS LLC   \n2                        LEOPARDO COMPANIES INC.   \n3                          1021 MONTROSE, L.L.C.   \n4                          GRAHAM ENTERPRISE INC   \n...                                          ...   \n1033611  AABALL HEATING SERVICE & SUPPLIES, INC.   \n1033612                             SHOBHNA INC.   \n1033613       FRANK'S CHICAGO SHRIMP HOUSE, INC.   \n1033614                        TERRANCE J. WATTS   \n1033615                         RDK VENTURES LLC   \n\n                                       DBA                       ADDRESS  \\\n0                              TTX COMPANY            4016 S ASHLAND AVE   \n1                                  WINGMAN          2321 W HOWARD ST 1ST   \n2                   Leopardo Companies Inc  210 N CARPENTER ST 3RD FLOOR   \n3                                Driftwood           1021 W MONTROSE AVE   \n4                 Rock N Roll BP (GEI-157)         631-647 N LA SALLE DR   \n...                                    ...                           ...   \n1033611  AABALL HEATING SERVICE & SUPPLIES            8518 S ASHLAND AVE   \n1033612                          FOOD STOP           3734 W LAWRENCE AVE   \n1033613       FRANK'S CHICAGO SHRIMP HOUSE         5439 W ADDISON ST 1ST   \n1033614                  TERRANCE J. WATTS            9932 S SANGAMON ST   \n1033615                           Circle K            190 W MADISON ST 1   \n\n            CITY STATE  ZIP_CODE  ...  DATE_ISSUED  LICENSE_STATUS  \\\n0        CHICAGO    IL     60609  ...   2022-08-08             AAI   \n1        CHICAGO    IL     60645  ...   2020-12-17             AAC   \n2        CHICAGO    IL     60607  ...   2020-08-21             AAC   \n3        CHICAGO    IL     60613  ...   2022-05-11             AAI   \n4        CHICAGO    IL     60654  ...   2022-05-11             AAI   \n...          ...   ...       ...  ...          ...             ...   \n1033611  CHICAGO    IL     60620  ...   2016-06-01             AAI   \n1033612  CHICAGO    IL     60625  ...   2021-04-05             AAI   \n1033613  CHICAGO    IL     60641  ...   2008-05-22             AAI   \n1033614  CHICAGO    IL     60643  ...   2007-01-24             AAI   \n1033615  CHICAGO    IL     60602  ...   2022-09-09             AAI   \n\n        LICENSE_STATUS_CHANGE_DATE   SSA   LATITUDE  LONGITUDE  \\\n0                              NaT   NaN  41.820285 -87.665397   \n1                       2022-08-08   NaN  42.019413 -87.688628   \n2                       2022-08-08   NaN  41.885945 -87.653462   \n3                              NaT  34.0  41.961655 -87.655650   \n4                              NaT   NaN  41.893251 -87.632493   \n...                            ...   ...        ...        ...   \n1033611                        NaT  69.0  41.738831 -87.663289   \n1033612                        NaT   NaN  41.968417 -87.722060   \n1033613                        NaT   NaN  41.945810 -87.763441   \n1033614                        NaT   NaN  41.713160 -87.646789   \n1033615                        NaT   NaN  41.882058 -87.633533   \n\n                                         LOCATION  \\\n0         (41.82028493557808, -87.66539682158037)   \n1        (42.019413270594214, -87.68862818775574)   \n2         (41.88594495760403, -87.65346178255953)   \n3        (41.961655308981946, -87.65564994485091)   \n4         (41.89325119846543, -87.63249301222938)   \n...                                           ...   \n1033611  (41.738831043655715, -87.66328877414871)   \n1033612    (41.96841672465387, -87.7220597187097)   \n1033613   (41.94580991762778, -87.76344146216435)   \n1033614    (41.71316042726137, -87.6467890258547)   \n1033615   (41.88205759473728, -87.63353326572278)   \n\n                                        TIF_Name  LICENSE_GROUP  \\\n0                                             []       Business   \n1                                             []           Food   \n2        ['Kinzie Industrial Conservation Area']       Business   \n3                                ['Wilson Yard']           Food   \n4                                             []       Vehicles   \n...                                          ...            ...   \n1033611                                       []       Business   \n1033612                      ['Lawrence/Kedzie']        Tabacco   \n1033613                                       []           Food   \n1033614    ['105th Street and Vincennes Avenue']        Special   \n1033615                      ['LaSalle Central']        Tabacco   \n\n                    Com_Name  \n0               ['NEW CITY']  \n1             ['WEST RIDGE']  \n2                         []  \n3                         []  \n4        ['NEAR NORTH SIDE']  \n...                      ...  \n1033611   ['AUBURN GRESHAM']  \n1033612                   []  \n1033613     ['PORTAGE PARK']  \n1033614                   []  \n1033615                   []  \n\n[1033616 rows x 37 columns]",
            "text/html": "<div>\n<style scoped>\n    .dataframe tbody tr th:only-of-type {\n        vertical-align: middle;\n    }\n\n    .dataframe tbody tr th {\n        vertical-align: top;\n    }\n\n    .dataframe thead th {\n        text-align: right;\n    }\n</style>\n<table border=\"1\" class=\"dataframe\">\n  <thead>\n    <tr style=\"text-align: right;\">\n      <th></th>\n      <th>ID</th>\n      <th>LICENSE_ID</th>\n      <th>ACCOUNT_NUMBER</th>\n      <th>SITE_NUMBER</th>\n      <th>LEGAL_NAME</th>\n      <th>DBA</th>\n      <th>ADDRESS</th>\n      <th>CITY</th>\n      <th>STATE</th>\n      <th>ZIP_CODE</th>\n      <th>...</th>\n      <th>DATE_ISSUED</th>\n      <th>LICENSE_STATUS</th>\n      <th>LICENSE_STATUS_CHANGE_DATE</th>\n      <th>SSA</th>\n      <th>LATITUDE</th>\n      <th>LONGITUDE</th>\n      <th>LOCATION</th>\n      <th>TIF_Name</th>\n      <th>LICENSE_GROUP</th>\n      <th>Com_Name</th>\n    </tr>\n  </thead>\n  <tbody>\n    <tr>\n      <th>0</th>\n      <td>2617269-20220916</td>\n      <td>2857496</td>\n      <td>1611</td>\n      <td>5</td>\n      <td>TTX COMPANY</td>\n      <td>TTX COMPANY</td>\n      <td>4016 S ASHLAND AVE</td>\n      <td>CHICAGO</td>\n      <td>IL</td>\n      <td>60609</td>\n      <td>...</td>\n      <td>2022-08-08</td>\n      <td>AAI</td>\n      <td>NaT</td>\n      <td>NaN</td>\n      <td>41.820285</td>\n      <td>-87.665397</td>\n      <td>(41.82028493557808, -87.66539682158037)</td>\n      <td>[]</td>\n      <td>Business</td>\n      <td>['NEW CITY']</td>\n    </tr>\n    <tr>\n      <th>1</th>\n      <td>2652692-20201217</td>\n      <td>2652692</td>\n      <td>456833</td>\n      <td>1</td>\n      <td>JYM INVESTMENTS LLC</td>\n      <td>WINGMAN</td>\n      <td>2321 W HOWARD ST 1ST</td>\n      <td>CHICAGO</td>\n      <td>IL</td>\n      <td>60645</td>\n      <td>...</td>\n      <td>2020-12-17</td>\n      <td>AAC</td>\n      <td>2022-08-08</td>\n      <td>NaN</td>\n      <td>42.019413</td>\n      <td>-87.688628</td>\n      <td>(42.019413270594214, -87.68862818775574)</td>\n      <td>[]</td>\n      <td>Food</td>\n      <td>['WEST RIDGE']</td>\n    </tr>\n    <tr>\n      <th>2</th>\n      <td>2647849-20200916</td>\n      <td>2739788</td>\n      <td>64603</td>\n      <td>7</td>\n      <td>LEOPARDO COMPANIES INC.</td>\n      <td>Leopardo Companies Inc</td>\n      <td>210 N CARPENTER ST 3RD FLOOR</td>\n      <td>CHICAGO</td>\n      <td>IL</td>\n      <td>60607</td>\n      <td>...</td>\n      <td>2020-08-21</td>\n      <td>AAC</td>\n      <td>2022-08-08</td>\n      <td>NaN</td>\n      <td>41.885945</td>\n      <td>-87.653462</td>\n      <td>(41.88594495760403, -87.65346178255953)</td>\n      <td>['Kinzie Industrial Conservation Area']</td>\n      <td>Business</td>\n      <td>[]</td>\n    </tr>\n    <tr>\n      <th>3</th>\n      <td>1579838-20220616</td>\n      <td>2842924</td>\n      <td>289144</td>\n      <td>1</td>\n      <td>1021 MONTROSE, L.L.C.</td>\n      <td>Driftwood</td>\n      <td>1021 W MONTROSE AVE</td>\n      <td>CHICAGO</td>\n      <td>IL</td>\n      <td>60613</td>\n      <td>...</td>\n      <td>2022-05-11</td>\n      <td>AAI</td>\n      <td>NaT</td>\n      <td>34.0</td>\n      <td>41.961655</td>\n      <td>-87.655650</td>\n      <td>(41.961655308981946, -87.65564994485091)</td>\n      <td>['Wilson Yard']</td>\n      <td>Food</td>\n      <td>[]</td>\n    </tr>\n    <tr>\n      <th>4</th>\n      <td>2027540-20220616</td>\n      <td>2841687</td>\n      <td>10726</td>\n      <td>5</td>\n      <td>GRAHAM ENTERPRISE INC</td>\n      <td>Rock N Roll BP (GEI-157)</td>\n      <td>631-647 N LA SALLE DR</td>\n      <td>CHICAGO</td>\n      <td>IL</td>\n      <td>60654</td>\n      <td>...</td>\n      <td>2022-05-11</td>\n      <td>AAI</td>\n      <td>NaT</td>\n      <td>NaN</td>\n      <td>41.893251</td>\n      <td>-87.632493</td>\n      <td>(41.89325119846543, -87.63249301222938)</td>\n      <td>[]</td>\n      <td>Vehicles</td>\n      <td>['NEAR NORTH SIDE']</td>\n    </tr>\n    <tr>\n      <th>...</th>\n      <td>...</td>\n      <td>...</td>\n      <td>...</td>\n      <td>...</td>\n      <td>...</td>\n      <td>...</td>\n      <td>...</td>\n      <td>...</td>\n      <td>...</td>\n      <td>...</td>\n      <td>...</td>\n      <td>...</td>\n      <td>...</td>\n      <td>...</td>\n      <td>...</td>\n      <td>...</td>\n      <td>...</td>\n      <td>...</td>\n      <td>...</td>\n      <td>...</td>\n      <td>...</td>\n    </tr>\n    <tr>\n      <th>1033611</th>\n      <td>2204520-20160716</td>\n      <td>2465534</td>\n      <td>25985</td>\n      <td>1</td>\n      <td>AABALL HEATING SERVICE &amp; SUPPLIES, INC.</td>\n      <td>AABALL HEATING SERVICE &amp; SUPPLIES</td>\n      <td>8518 S ASHLAND AVE</td>\n      <td>CHICAGO</td>\n      <td>IL</td>\n      <td>60620</td>\n      <td>...</td>\n      <td>2016-06-01</td>\n      <td>AAI</td>\n      <td>NaT</td>\n      <td>69.0</td>\n      <td>41.738831</td>\n      <td>-87.663289</td>\n      <td>(41.738831043655715, -87.66328877414871)</td>\n      <td>[]</td>\n      <td>Business</td>\n      <td>['AUBURN GRESHAM']</td>\n    </tr>\n    <tr>\n      <th>1033612</th>\n      <td>2652764-20210316</td>\n      <td>2770633</td>\n      <td>456868</td>\n      <td>1</td>\n      <td>SHOBHNA INC.</td>\n      <td>FOOD STOP</td>\n      <td>3734 W LAWRENCE AVE</td>\n      <td>CHICAGO</td>\n      <td>IL</td>\n      <td>60625</td>\n      <td>...</td>\n      <td>2021-04-05</td>\n      <td>AAI</td>\n      <td>NaT</td>\n      <td>NaN</td>\n      <td>41.968417</td>\n      <td>-87.722060</td>\n      <td>(41.96841672465387, -87.7220597187097)</td>\n      <td>['Lawrence/Kedzie']</td>\n      <td>Tabacco</td>\n      <td>[]</td>\n    </tr>\n    <tr>\n      <th>1033613</th>\n      <td>6415-20070816</td>\n      <td>1832401</td>\n      <td>376290</td>\n      <td>2</td>\n      <td>FRANK'S CHICAGO SHRIMP HOUSE, INC.</td>\n      <td>FRANK'S CHICAGO SHRIMP HOUSE</td>\n      <td>5439 W ADDISON ST 1ST</td>\n      <td>CHICAGO</td>\n      <td>IL</td>\n      <td>60641</td>\n      <td>...</td>\n      <td>2008-05-22</td>\n      <td>AAI</td>\n      <td>NaT</td>\n      <td>NaN</td>\n      <td>41.945810</td>\n      <td>-87.763441</td>\n      <td>(41.94580991762778, -87.76344146216435)</td>\n      <td>[]</td>\n      <td>Food</td>\n      <td>['PORTAGE PARK']</td>\n    </tr>\n    <tr>\n      <th>1033614</th>\n      <td>1800007-20070124</td>\n      <td>1800007</td>\n      <td>313705</td>\n      <td>1</td>\n      <td>TERRANCE J. WATTS</td>\n      <td>TERRANCE J. WATTS</td>\n      <td>9932 S SANGAMON ST</td>\n      <td>CHICAGO</td>\n      <td>IL</td>\n      <td>60643</td>\n      <td>...</td>\n      <td>2007-01-24</td>\n      <td>AAI</td>\n      <td>NaT</td>\n      <td>NaN</td>\n      <td>41.713160</td>\n      <td>-87.646789</td>\n      <td>(41.71316042726137, -87.6467890258547)</td>\n      <td>['105th Street and Vincennes Avenue']</td>\n      <td>Special</td>\n      <td>[]</td>\n    </tr>\n    <tr>\n      <th>1033615</th>\n      <td>2846254-20220909</td>\n      <td>2846254</td>\n      <td>349928</td>\n      <td>13</td>\n      <td>RDK VENTURES LLC</td>\n      <td>Circle K</td>\n      <td>190 W MADISON ST 1</td>\n      <td>CHICAGO</td>\n      <td>IL</td>\n      <td>60602</td>\n      <td>...</td>\n      <td>2022-09-09</td>\n      <td>AAI</td>\n      <td>NaT</td>\n      <td>NaN</td>\n      <td>41.882058</td>\n      <td>-87.633533</td>\n      <td>(41.88205759473728, -87.63353326572278)</td>\n      <td>['LaSalle Central']</td>\n      <td>Tabacco</td>\n      <td>[]</td>\n    </tr>\n  </tbody>\n</table>\n<p>1033616 rows × 37 columns</p>\n</div>"
          },
          "metadata": {}
        }
      ],
      "outputs_reference": null,
      "execution_count": null,
      "block_group": "81e29530c24e46f1b107cc0fe6cc801a",
      "content_dependencies": null
    },
    {
      "cell_type": "markdown",
      "source": "Add businesses with the tif_mod.txt",
      "metadata": {
        "formattedRanges": [],
        "cell_id": "2b0a1087f5ce44c288d96d0eca833730",
        "deepnote_cell_type": "text-cell-p"
      },
      "block_group": "ed752e30ae1a49aaa67ee84d67276c97"
    },
    {
      "cell_type": "markdown",
      "source": "then look in rest of the businesses for the counts",
      "metadata": {
        "formattedRanges": [],
        "cell_id": "c1062b330407441182e54a584f1541ef",
        "deepnote_cell_type": "text-cell-p"
      },
      "block_group": "802b29ab579b4adbb4f2e92c6ce4e5d5"
    },
    {
      "cell_type": "markdown",
      "source": "and maybe split on locations",
      "metadata": {
        "formattedRanges": [],
        "cell_id": "fdbea8c7c5164676b8792459e7c91d6e",
        "deepnote_cell_type": "text-cell-p"
      },
      "block_group": "e55d94a45ab046a2baed1e371ea803f9"
    },
    {
      "cell_type": "markdown",
      "source": "National chain, regional chain, none chain",
      "metadata": {
        "formattedRanges": [],
        "cell_id": "5ad7bdb6cf8c47f599c91f40ffe2a155",
        "deepnote_cell_type": "text-cell-p"
      },
      "block_group": "e191a617a9684a80953f31c48a4a0fda"
    },
    {
      "cell_type": "code",
      "source": "df_2 = _deepnote_execute_sql('SELECT DISTINCT(DBA) as dba\\nFROM df_1', 'SQL_DEEPNOTE_DATAFRAME_SQL', audit_sql_comment='', sql_cache_mode='cache_disabled')\ndf_2",
      "metadata": {
        "source_hash": null,
        "execution_start": 1711901550609,
        "execution_millis": 107,
        "sql_integration_id": "deepnote-dataframe-sql",
        "deepnote_table_state": {
          "sortBy": [],
          "filters": [],
          "pageSize": 10,
          "pageIndex": 19
        },
        "deepnote_table_loading": false,
        "deepnote_variable_name": "df_2",
        "deepnote_to_be_reexecuted": false,
        "cell_id": "316f8fbb461d432c80f404331d7012b1",
        "deepnote_cell_type": "sql",
        "deepnote_sql_source": "SELECT DISTINCT(DBA) as dba\nFROM df_1"
      },
      "outputs": [
        {
          "output_type": "execute_result",
          "execution_count": 27,
          "data": {
            "application/vnd.deepnote.dataframe.v3+json": {
              "column_count": 1,
              "row_count": 693,
              "columns": [
                {
                  "name": "dba",
                  "dtype": "object",
                  "stats": {
                    "unique_count": 693,
                    "nan_count": 0,
                    "categories": [
                      {
                        "name": "TTX COMPANY",
                        "count": 1
                      },
                      {
                        "name": "WINGMAN",
                        "count": 1
                      },
                      {
                        "name": "691 others",
                        "count": 691
                      }
                    ]
                  }
                },
                {
                  "name": "_deepnote_index_column",
                  "dtype": "int64"
                }
              ],
              "rows": [
                {
                  "dba": "CRAIG WILLIAMS JR",
                  "_deepnote_index_column": 190
                },
                {
                  "dba": "SHEAR FREAK STUDIO'S",
                  "_deepnote_index_column": 191
                },
                {
                  "dba": "ANOTHER LEVEL BEAUTY & BARBER SALON",
                  "_deepnote_index_column": 192
                },
                {
                  "dba": "ARMED FORCES POST 8322, VETERANS OF FOREIGN WARS OF THE UNITED STATES, INC.",
                  "_deepnote_index_column": 193
                },
                {
                  "dba": "CHILD FIRST ACADEMY",
                  "_deepnote_index_column": 194
                },
                {
                  "dba": "LINCOLN PROPERTY COMPANY",
                  "_deepnote_index_column": 195
                },
                {
                  "dba": "CANTIC AUTO REPAIR",
                  "_deepnote_index_column": 196
                },
                {
                  "dba": "NORWOOD AUTO SERVICE CENTER, INC.",
                  "_deepnote_index_column": 197
                },
                {
                  "dba": "TRASH",
                  "_deepnote_index_column": 198
                },
                {
                  "dba": "STARBUCKS COFFEE #221",
                  "_deepnote_index_column": 199
                }
              ]
            },
            "text/plain": "                          dba\n0                 TTX COMPANY\n1                     WINGMAN\n2      Leopardo Companies Inc\n3                   Driftwood\n4    Rock N Roll BP (GEI-157)\n..                        ...\n688            AUTOZONE #4425\n689            LONGWOOD FOODS\n690    JEWEL FOOD STORE #3349\n691               Flour Power\n692            AUTOZONE #2590\n\n[693 rows x 1 columns]",
            "text/html": "<div>\n<style scoped>\n    .dataframe tbody tr th:only-of-type {\n        vertical-align: middle;\n    }\n\n    .dataframe tbody tr th {\n        vertical-align: top;\n    }\n\n    .dataframe thead th {\n        text-align: right;\n    }\n</style>\n<table border=\"1\" class=\"dataframe\">\n  <thead>\n    <tr style=\"text-align: right;\">\n      <th></th>\n      <th>dba</th>\n    </tr>\n  </thead>\n  <tbody>\n    <tr>\n      <th>0</th>\n      <td>TTX COMPANY</td>\n    </tr>\n    <tr>\n      <th>1</th>\n      <td>WINGMAN</td>\n    </tr>\n    <tr>\n      <th>2</th>\n      <td>Leopardo Companies Inc</td>\n    </tr>\n    <tr>\n      <th>3</th>\n      <td>Driftwood</td>\n    </tr>\n    <tr>\n      <th>4</th>\n      <td>Rock N Roll BP (GEI-157)</td>\n    </tr>\n    <tr>\n      <th>...</th>\n      <td>...</td>\n    </tr>\n    <tr>\n      <th>688</th>\n      <td>AUTOZONE #4425</td>\n    </tr>\n    <tr>\n      <th>689</th>\n      <td>LONGWOOD FOODS</td>\n    </tr>\n    <tr>\n      <th>690</th>\n      <td>JEWEL FOOD STORE #3349</td>\n    </tr>\n    <tr>\n      <th>691</th>\n      <td>Flour Power</td>\n    </tr>\n    <tr>\n      <th>692</th>\n      <td>AUTOZONE #2590</td>\n    </tr>\n  </tbody>\n</table>\n<p>693 rows × 1 columns</p>\n</div>"
          },
          "metadata": {}
        }
      ],
      "outputs_reference": null,
      "execution_count": null,
      "block_group": "43375a4d79cb4cc2ab27053a48c8bf2b",
      "content_dependencies": null
    },
    {
      "cell_type": "markdown",
      "source": "",
      "metadata": {
        "formattedRanges": [],
        "cell_id": "3082d6f9436a4edca6100920d53bfaa3",
        "deepnote_cell_type": "text-cell-p"
      },
      "block_group": "696b0f9c80d849a6afbb196c490d08e3"
    },
    {
      "cell_type": "code",
      "source": "str1 = \"Starbuck's\"\nstr1 = str1.lower()\nstr2 = 'starbuck'\n\ndef string_matcher(str1, str2):\n    str1 = str1.lower()\n    str2 = str2.lower()\n\n    lst_dict = {}\n\n    for j in range(len(str2)):\n        lst = []\n        for i in range(len(str1)):\n            if str1[i] == str2[j]:\n                lst.append(i)\n                # print(i)\n\n        # print(lst)\n        lst_dict[str2[j]] = lst\n\n    # print(lst_dict)\n    dictkeys = list(lst_dict.keys())\n    first_letter = lst_dict[dictkeys[0]]\n\n    def recur_call(index, str2_ind, matches,call_num):# sindex from str1, index from str2\n        # print(\"_______________________\", call_num,\"____________________________________\")\n        if str2_ind == len(str2)-1:\n            # print(\"return\")\n            return matches\n        # print(index, str2[str2_ind], str2[str2_ind+1])\n\n        # if next indexes are within 2\n        next_indexes = lst_dict[str2[str2_ind+1]]\n        # print(next_indexes)\n        for next_ind in next_indexes:\n            if index < next_ind and next_ind <= index+2:\n                return recur_call(next_ind, str2_ind+1,matches+1,call_num+1)\n\n        # else look at the next next index and see if within 2\n        try:\n            next_indexes = lst_dict[str2[str2_ind+2]]\n            # print(next_indexes)\n            for next_ind in next_indexes:\n                if index < next_ind and next_ind <= index+2:\n                    return recur_call(next_ind, str2_ind+1,matches+1,call_num+1)\n        except:\n            pass\n\n    max_match = 0\n    for i in first_letter:\n        i_match = recur_call(i, 0, 1, 1)\n        # print(\"match\",i,i_match)\n        if i_match and i_match > max_match:\n            max_match = i_match\n\n    if max_match>0:\n        # print(\"MATCH\")\n        return True\n    else:\n        # print(\"NO MATCH\")\n        return False\n    \nprint(string_matcher(str1, str2))\n\n# find function that compares 2 strings, see if 2 in 1, if most of 2 in 1 and the chars arent too far away",
      "metadata": {
        "source_hash": null,
        "execution_start": 1712710033735,
        "execution_millis": 180,
        "deepnote_to_be_reexecuted": false,
        "cell_id": "9d1c04a0efc042d58fdd9b23fcc5f114",
        "deepnote_cell_type": "code"
      },
      "outputs": [
        {
          "name": "stdout",
          "text": "True\n",
          "output_type": "stream"
        }
      ],
      "outputs_reference": null,
      "execution_count": null,
      "block_group": "135ba9517cd44047a6c16b63d784b1ae",
      "content_dependencies": null
    },
    {
      "cell_type": "code",
      "source": "import pandas as pd\n\ndef check_strings(row):\n    # print(row)\n    for string in strings_to_check:\n        if row['LEGAL_NAME'].lower() == string or row['DBA'].lower() == string or string_matcher(row['LEGAL_NAME'].lower(),string) or string_matcher(row['DBA'].lower(),string):\n            return string\n    return \"0\"\n\n# Add a new column based on the condition\ndf_1['Chain'] = df_1.apply(check_strings, axis=1)\n\nprint(df_1)\ndf_1.to_csv(\"tempChains1.csv\", index=False)",
      "metadata": {
        "source_hash": null,
        "execution_start": 1712710043264,
        "execution_millis": 16804968,
        "deepnote_to_be_reexecuted": false,
        "cell_id": "6e1d633b78ed4aedafe5b677463a27a0",
        "deepnote_cell_type": "code"
      },
      "outputs": [
        {
          "name": "stdout",
          "text": "                       ID  LICENSE_ID  ACCOUNT_NUMBER  SITE_NUMBER  \\\n0        2617269-20220916     2857496            1611            5   \n1        2652692-20201217     2652692          456833            1   \n2        2647849-20200916     2739788           64603            7   \n3        1579838-20220616     2842924          289144            1   \n4        2027540-20220616     2841687           10726            5   \n...                   ...         ...             ...          ...   \n1033611  2204520-20160716     2465534           25985            1   \n1033612  2652764-20210316     2770633          456868            1   \n1033613     6415-20070816     1832401          376290            2   \n1033614  1800007-20070124     1800007          313705            1   \n1033615  2846254-20220909     2846254          349928           13   \n\n                                      LEGAL_NAME  \\\n0                                    TTX COMPANY   \n1                            JYM INVESTMENTS LLC   \n2                        LEOPARDO COMPANIES INC.   \n3                          1021 MONTROSE, L.L.C.   \n4                          GRAHAM ENTERPRISE INC   \n...                                          ...   \n1033611  AABALL HEATING SERVICE & SUPPLIES, INC.   \n1033612                             SHOBHNA INC.   \n1033613       FRANK'S CHICAGO SHRIMP HOUSE, INC.   \n1033614                        TERRANCE J. WATTS   \n1033615                         RDK VENTURES LLC   \n\n                                       DBA                       ADDRESS  \\\n0                              TTX COMPANY            4016 S ASHLAND AVE   \n1                                  WINGMAN          2321 W HOWARD ST 1ST   \n2                   Leopardo Companies Inc  210 N CARPENTER ST 3RD FLOOR   \n3                                Driftwood           1021 W MONTROSE AVE   \n4                 Rock N Roll BP (GEI-157)         631-647 N LA SALLE DR   \n...                                    ...                           ...   \n1033611  AABALL HEATING SERVICE & SUPPLIES            8518 S ASHLAND AVE   \n1033612                          FOOD STOP           3734 W LAWRENCE AVE   \n1033613       FRANK'S CHICAGO SHRIMP HOUSE         5439 W ADDISON ST 1ST   \n1033614                  TERRANCE J. WATTS            9932 S SANGAMON ST   \n1033615                           Circle K            190 W MADISON ST 1   \n\n            CITY STATE  ZIP_CODE  ...  LICENSE_STATUS  \\\n0        CHICAGO    IL     60609  ...             AAI   \n1        CHICAGO    IL     60645  ...             AAC   \n2        CHICAGO    IL     60607  ...             AAC   \n3        CHICAGO    IL     60613  ...             AAI   \n4        CHICAGO    IL     60654  ...             AAI   \n...          ...   ...       ...  ...             ...   \n1033611  CHICAGO    IL     60620  ...             AAI   \n1033612  CHICAGO    IL     60625  ...             AAI   \n1033613  CHICAGO    IL     60641  ...             AAI   \n1033614  CHICAGO    IL     60643  ...             AAI   \n1033615  CHICAGO    IL     60602  ...             AAI   \n\n         LICENSE_STATUS_CHANGE_DATE   SSA   LATITUDE  LONGITUDE  \\\n0                               NaT   NaN  41.820285 -87.665397   \n1                        2022-08-08   NaN  42.019413 -87.688628   \n2                        2022-08-08   NaN  41.885945 -87.653462   \n3                               NaT  34.0  41.961655 -87.655650   \n4                               NaT   NaN  41.893251 -87.632493   \n...                             ...   ...        ...        ...   \n1033611                         NaT  69.0  41.738831 -87.663289   \n1033612                         NaT   NaN  41.968417 -87.722060   \n1033613                         NaT   NaN  41.945810 -87.763441   \n1033614                         NaT   NaN  41.713160 -87.646789   \n1033615                         NaT   NaN  41.882058 -87.633533   \n\n                                         LOCATION  \\\n0         (41.82028493557808, -87.66539682158037)   \n1        (42.019413270594214, -87.68862818775574)   \n2         (41.88594495760403, -87.65346178255953)   \n3        (41.961655308981946, -87.65564994485091)   \n4         (41.89325119846543, -87.63249301222938)   \n...                                           ...   \n1033611  (41.738831043655715, -87.66328877414871)   \n1033612    (41.96841672465387, -87.7220597187097)   \n1033613   (41.94580991762778, -87.76344146216435)   \n1033614    (41.71316042726137, -87.6467890258547)   \n1033615   (41.88205759473728, -87.63353326572278)   \n\n                                        TIF_Name LICENSE_GROUP  \\\n0                                             []      Business   \n1                                             []          Food   \n2        ['Kinzie Industrial Conservation Area']      Business   \n3                                ['Wilson Yard']          Food   \n4                                             []      Vehicles   \n...                                          ...           ...   \n1033611                                       []      Business   \n1033612                      ['Lawrence/Kedzie']       Tabacco   \n1033613                                       []          Food   \n1033614    ['105th Street and Vincennes Avenue']       Special   \n1033615                      ['LaSalle Central']       Tabacco   \n\n                    Com_Name     Chain  \n0               ['NEW CITY']         0  \n1             ['WEST RIDGE']         0  \n2                         []         0  \n3                         []         0  \n4        ['NEAR NORTH SIDE']        bp  \n...                      ...       ...  \n1033611   ['AUBURN GRESHAM']       aaa  \n1033612                   []         0  \n1033613     ['PORTAGE PARK']         0  \n1033614                   []         0  \n1033615                   []  circle k  \n\n[1033616 rows x 38 columns]\n",
          "output_type": "stream"
        }
      ],
      "outputs_reference": null,
      "execution_count": null,
      "block_group": "27e0181c56df4e01b61f046ea57a9c7f",
      "content_dependencies": null
    },
    {
      "cell_type": "code",
      "source": "\n# Sample Example\ndata = {\n    'Column1': ['ARCKEY WASHINGTON', 'POLISH PACZKI CAFE, LLC', \"GARFIELD'S BARBERSHOP\", \"Starbuck's Coffee\"],\n    'Column2': ['ARCKEY WASHINGTON', 'POLISH PACZKI CAFE, LLC', 'STEVEN GARFIELD WILSON', \"Starbuck's\"]\n}\ndf = pd.DataFrame(data)\n\n# List of strings to check for\nstrings_to_check = ['hilton', 'aldi', 'kfc', \"starbuck\"]\n\ndef check_strings(row):\n    for string in strings_to_check:\n        if row['Column1'] == string or row['Column2'] == string :\n            return 2\n        print(string, row['Column1'].lower(), row['Column2'].lower())\n        if string_matcher(row['Column1'].lower(),string) or string_matcher(row['Column2'].lower(),string):\n            return string\n    return 0\n\n# Add a new column based on the condition\ndf['NewColumn'] = df.apply(check_strings, axis=1)\n\nprint(df)\n",
      "metadata": {
        "source_hash": null,
        "execution_start": 1712104788142,
        "execution_millis": 82,
        "deepnote_to_be_reexecuted": false,
        "cell_id": "16ef68e69228417fbf0f74a386e43c8e",
        "deepnote_cell_type": "code"
      },
      "outputs": [
        {
          "name": "stdout",
          "text": "hilton arckey washington arckey washington\naldi arckey washington arckey washington\nkfc arckey washington arckey washington\nstarbuck arckey washington arckey washington\nhilton polish paczki cafe, llc polish paczki cafe, llc\naldi polish paczki cafe, llc polish paczki cafe, llc\nkfc polish paczki cafe, llc polish paczki cafe, llc\nstarbuck polish paczki cafe, llc polish paczki cafe, llc\nhilton garfield's barbershop steven garfield wilson\naldi garfield's barbershop steven garfield wilson\nkfc garfield's barbershop steven garfield wilson\nstarbuck garfield's barbershop steven garfield wilson\nhilton starbuck's coffee starbuck's\naldi starbuck's coffee starbuck's\nkfc starbuck's coffee starbuck's\nstarbuck starbuck's coffee starbuck's\n                   Column1                  Column2 NewColumn\n0        ARCKEY WASHINGTON        ARCKEY WASHINGTON         0\n1  POLISH PACZKI CAFE, LLC  POLISH PACZKI CAFE, LLC         0\n2    GARFIELD'S BARBERSHOP   STEVEN GARFIELD WILSON         0\n3        Starbuck's Coffee               Starbuck's  starbuck\n",
          "output_type": "stream"
        }
      ],
      "outputs_reference": null,
      "execution_count": null,
      "block_group": "9d159cd2e33c4beb8bc172e9da15b857",
      "content_dependencies": null
    },
    {
      "cell_type": "code",
      "source": "",
      "metadata": {
        "cell_id": "514591c0904e445e9bb5a015e4fdd55f",
        "deepnote_cell_type": "code"
      },
      "outputs": [],
      "outputs_reference": null,
      "execution_count": null,
      "block_group": "81905bf0f9b64808963f09093671e929",
      "content_dependencies": null
    },
    {
      "cell_type": "markdown",
      "source": "## Exploring chains",
      "metadata": {
        "formattedRanges": [],
        "cell_id": "56924ecf4e4149bcb9cca0e89f55b35d",
        "deepnote_cell_type": "text-cell-h2"
      },
      "block_group": "26338437edb04dbaacf9126a39a99086"
    },
    {
      "cell_type": "code",
      "source": "df_4 = _deepnote_execute_sql('SELECT DBA, LEGAL_NAME, Chain\\nfrom \\'tempChains1.csv\\'\\nwhere Chain != \\'0\\'', 'SQL_DEEPNOTE_DATAFRAME_SQL', audit_sql_comment='', sql_cache_mode='cache_disabled')\ndf_4",
      "metadata": {
        "source_hash": null,
        "execution_start": 1712708863835,
        "execution_millis": 7688,
        "sql_integration_id": "deepnote-dataframe-sql",
        "deepnote_table_state": {
          "sortBy": [],
          "filters": [],
          "pageSize": 10,
          "pageIndex": 0
        },
        "deepnote_table_loading": false,
        "deepnote_variable_name": "df_4",
        "deepnote_to_be_reexecuted": false,
        "cell_id": "c32674928ce94f279c5377e2a34dd42f",
        "deepnote_cell_type": "sql",
        "deepnote_sql_source": "SELECT DBA, LEGAL_NAME, Chain\nfrom 'tempChains1.csv'\nwhere Chain != '0'"
      },
      "outputs": [
        {
          "output_type": "execute_result",
          "execution_count": 3,
          "data": {
            "application/vnd.deepnote.dataframe.v3+json": {
              "column_count": 3,
              "row_count": 192456,
              "columns": [
                {
                  "name": "DBA",
                  "dtype": "object"
                },
                {
                  "name": "LEGAL_NAME",
                  "dtype": "object"
                },
                {
                  "name": "Chain",
                  "dtype": "object"
                },
                {
                  "name": "_deepnote_index_column",
                  "dtype": "int64"
                }
              ],
              "rows": [
                {
                  "DBA": "Rock N Roll BP (GEI-157)",
                  "LEGAL_NAME": "GRAHAM ENTERPRISE INC",
                  "Chain": "bp",
                  "_deepnote_index_column": 0
                },
                {
                  "DBA": "NAIL JUNKIE ROSCOE, INC.",
                  "LEGAL_NAME": "NAIL JUNKIE ROSCOE, INC.",
                  "Chain": "osco",
                  "_deepnote_index_column": 1
                },
                {
                  "DBA": "CHICAGO CUBS",
                  "LEGAL_NAME": "CHICAGO CUBS BASEBALL CLUB, LLC",
                  "Chain": "cbs",
                  "_deepnote_index_column": 2
                },
                {
                  "DBA": "EAST TOWER MAIN KITCHEN",
                  "LEGAL_NAME": "HYATT CORPORATION",
                  "Chain": "hyatt",
                  "_deepnote_index_column": 3
                },
                {
                  "DBA": "Chicago BP@Irving (GEI-152)",
                  "LEGAL_NAME": "GRAHAM ENTERPRISE INC",
                  "Chain": "bp",
                  "_deepnote_index_column": 4
                },
                {
                  "DBA": "THE GALLERY",
                  "LEGAL_NAME": "HYATT CORPORATION",
                  "Chain": "hyatt",
                  "_deepnote_index_column": 5
                },
                {
                  "DBA": "PRIME & PROVISIONS",
                  "LEGAL_NAME": "DINEAMIC STEAK, LLC",
                  "Chain": "amc",
                  "_deepnote_index_column": 6
                },
                {
                  "DBA": "Chicago BP@Irving (GEI-152)",
                  "LEGAL_NAME": "GRAHAM ENTERPRISE INC",
                  "Chain": "bp",
                  "_deepnote_index_column": 7
                },
                {
                  "DBA": "SPIRIT OF NAVY PIER",
                  "LEGAL_NAME": "HORNBLOWER CRUISES AND EVENTS, LLC",
                  "Chain": "ups",
                  "_deepnote_index_column": 8
                },
                {
                  "DBA": "Halloween City",
                  "LEGAL_NAME": "PARTY CITY CORPORATION",
                  "Chain": "party city",
                  "_deepnote_index_column": 9
                }
              ]
            },
            "text/plain": "                                      DBA  \\\n0                Rock N Roll BP (GEI-157)   \n1                NAIL JUNKIE ROSCOE, INC.   \n2                            CHICAGO CUBS   \n3                 EAST TOWER MAIN KITCHEN   \n4             Chicago BP@Irving (GEI-152)   \n...                                   ...   \n192451       H & R BLOCK TAX SERVICES INC   \n192452                    WALGREENS #1496   \n192453                    INSIGNIS , INC.   \n192454  AABALL HEATING SERVICE & SUPPLIES   \n192455                           Circle K   \n\n                                     LEGAL_NAME      Chain  \n0                         GRAHAM ENTERPRISE INC         bp  \n1                      NAIL JUNKIE ROSCOE, INC.       osco  \n2               CHICAGO CUBS BASEBALL CLUB, LLC        cbs  \n3                             HYATT CORPORATION      hyatt  \n4                         GRAHAM ENTERPRISE INC         bp  \n...                                         ...        ...  \n192451                H&R BLOCK ENTERPRISES LLC        h&r  \n192452       BOND DRUG COMPANY OF ILLINOIS, LLC  walgreens  \n192453                           INSIGNIS, INC.        gns  \n192454  AABALL HEATING SERVICE & SUPPLIES, INC.        aaa  \n192455                         RDK VENTURES LLC   circle k  \n\n[192456 rows x 3 columns]",
            "text/html": "<div>\n<style scoped>\n    .dataframe tbody tr th:only-of-type {\n        vertical-align: middle;\n    }\n\n    .dataframe tbody tr th {\n        vertical-align: top;\n    }\n\n    .dataframe thead th {\n        text-align: right;\n    }\n</style>\n<table border=\"1\" class=\"dataframe\">\n  <thead>\n    <tr style=\"text-align: right;\">\n      <th></th>\n      <th>DBA</th>\n      <th>LEGAL_NAME</th>\n      <th>Chain</th>\n    </tr>\n  </thead>\n  <tbody>\n    <tr>\n      <th>0</th>\n      <td>Rock N Roll BP (GEI-157)</td>\n      <td>GRAHAM ENTERPRISE INC</td>\n      <td>bp</td>\n    </tr>\n    <tr>\n      <th>1</th>\n      <td>NAIL JUNKIE ROSCOE, INC.</td>\n      <td>NAIL JUNKIE ROSCOE, INC.</td>\n      <td>osco</td>\n    </tr>\n    <tr>\n      <th>2</th>\n      <td>CHICAGO CUBS</td>\n      <td>CHICAGO CUBS BASEBALL CLUB, LLC</td>\n      <td>cbs</td>\n    </tr>\n    <tr>\n      <th>3</th>\n      <td>EAST TOWER MAIN KITCHEN</td>\n      <td>HYATT CORPORATION</td>\n      <td>hyatt</td>\n    </tr>\n    <tr>\n      <th>4</th>\n      <td>Chicago BP@Irving (GEI-152)</td>\n      <td>GRAHAM ENTERPRISE INC</td>\n      <td>bp</td>\n    </tr>\n    <tr>\n      <th>...</th>\n      <td>...</td>\n      <td>...</td>\n      <td>...</td>\n    </tr>\n    <tr>\n      <th>192451</th>\n      <td>H &amp; R BLOCK TAX SERVICES INC</td>\n      <td>H&amp;R BLOCK ENTERPRISES LLC</td>\n      <td>h&amp;r</td>\n    </tr>\n    <tr>\n      <th>192452</th>\n      <td>WALGREENS #1496</td>\n      <td>BOND DRUG COMPANY OF ILLINOIS, LLC</td>\n      <td>walgreens</td>\n    </tr>\n    <tr>\n      <th>192453</th>\n      <td>INSIGNIS , INC.</td>\n      <td>INSIGNIS, INC.</td>\n      <td>gns</td>\n    </tr>\n    <tr>\n      <th>192454</th>\n      <td>AABALL HEATING SERVICE &amp; SUPPLIES</td>\n      <td>AABALL HEATING SERVICE &amp; SUPPLIES, INC.</td>\n      <td>aaa</td>\n    </tr>\n    <tr>\n      <th>192455</th>\n      <td>Circle K</td>\n      <td>RDK VENTURES LLC</td>\n      <td>circle k</td>\n    </tr>\n  </tbody>\n</table>\n<p>192456 rows × 3 columns</p>\n</div>"
          },
          "metadata": {}
        }
      ],
      "outputs_reference": null,
      "execution_count": null,
      "block_group": "37c3d2010c0144db817d68ddf9146e13",
      "content_dependencies": null
    },
    {
      "cell_type": "code",
      "source": "df_5 = _deepnote_execute_sql('SELECT DBA, LEGAL_NAME, Chain\\nfrom \\'tempChains1.csv\\'\\nwhere Chain = \\'0\\'', 'SQL_DEEPNOTE_DATAFRAME_SQL', audit_sql_comment='', sql_cache_mode='cache_disabled')\ndf_5",
      "metadata": {
        "source_hash": null,
        "execution_start": 1712708874309,
        "execution_millis": 3741,
        "sql_integration_id": "deepnote-dataframe-sql",
        "deepnote_table_state": {
          "sortBy": [],
          "filters": [],
          "pageSize": 10,
          "pageIndex": 2
        },
        "deepnote_table_loading": false,
        "deepnote_variable_name": "df_5",
        "deepnote_to_be_reexecuted": false,
        "cell_id": "333c8202a6f04eb6b0ca3c75a8cf8011",
        "deepnote_cell_type": "sql",
        "deepnote_sql_source": "SELECT DBA, LEGAL_NAME, Chain\nfrom 'tempChains1.csv'\nwhere Chain = '0'"
      },
      "outputs": [
        {
          "output_type": "execute_result",
          "execution_count": 4,
          "data": {
            "application/vnd.deepnote.dataframe.v3+json": {
              "column_count": 3,
              "row_count": 841160,
              "columns": [
                {
                  "name": "DBA",
                  "dtype": "object"
                },
                {
                  "name": "LEGAL_NAME",
                  "dtype": "object"
                },
                {
                  "name": "Chain",
                  "dtype": "object"
                },
                {
                  "name": "_deepnote_index_column",
                  "dtype": "int64"
                }
              ],
              "rows": [
                {
                  "DBA": "Compass Group USA, Inc.",
                  "LEGAL_NAME": "COMPASS GROUP USA, INC.",
                  "Chain": "0",
                  "_deepnote_index_column": 20
                },
                {
                  "DBA": "LEOPARDO COMPANIES INC",
                  "LEGAL_NAME": "LEOPARDO COMPANIES INC.",
                  "Chain": "0",
                  "_deepnote_index_column": 21
                },
                {
                  "DBA": "W-SF Goldfinger Owner VIII, L.L.C.",
                  "LEGAL_NAME": "W-SF GOLDFINGER OWNER VIII, L.L.C.",
                  "Chain": "0",
                  "_deepnote_index_column": 22
                },
                {
                  "DBA": "Oak + Fort",
                  "LEGAL_NAME": "NYM MERGER HOLDINGS LLC",
                  "Chain": "0",
                  "_deepnote_index_column": 23
                },
                {
                  "DBA": "Foxtrot",
                  "LEGAL_NAME": "FOXTROT VENTURES, INCORPORATED",
                  "Chain": "0",
                  "_deepnote_index_column": 24
                },
                {
                  "DBA": "FOUR A'S FOOD INC",
                  "LEGAL_NAME": "FOUR A'S FOOD INC",
                  "Chain": "0",
                  "_deepnote_index_column": 25
                },
                {
                  "DBA": "THE WOODLAWN TAP",
                  "LEGAL_NAME": "THE WOODLAWN TAP, INC.",
                  "Chain": "0",
                  "_deepnote_index_column": 26
                },
                {
                  "DBA": "KALA MODERN GREEK",
                  "LEGAL_NAME": "DOLCE KITCHEN LLC",
                  "Chain": "0",
                  "_deepnote_index_column": 27
                },
                {
                  "DBA": "SAPORI NAPOLETANI PIZZERIA RISTORANTE E BAR",
                  "LEGAL_NAME": "SAPORI NAPOLETANI PIZZERIA RISTORANTE & BAR",
                  "Chain": "0",
                  "_deepnote_index_column": 28
                },
                {
                  "DBA": "360 CONSTRUCTION LLC",
                  "LEGAL_NAME": "360 CONSTRUCTION LLC",
                  "Chain": "0",
                  "_deepnote_index_column": 29
                }
              ]
            },
            "text/plain": "                                                      DBA  \\\n0                                             TTX COMPANY   \n1                                                 WINGMAN   \n2                                  Leopardo Companies Inc   \n3                                               Driftwood   \n4                                       MEHRAB RESTAURANT   \n...                                                   ...   \n841155  EL HOGAR DEL NINO (THE HOME OF THE CHILD/ CUIDAR)   \n841156                                   ACE SOUND SYSTEM   \n841157                                          FOOD STOP   \n841158                       FRANK'S CHICAGO SHRIMP HOUSE   \n841159                                  TERRANCE J. WATTS   \n\n                                LEGAL_NAME Chain  \n0                              TTX COMPANY     0  \n1                      JYM INVESTMENTS LLC     0  \n2                  LEOPARDO COMPANIES INC.     0  \n3                    1021 MONTROSE, L.L.C.     0  \n4                  MEHRAB MANAGEMENT, INC.     0  \n...                                    ...   ...  \n841155                   EL HOGAR DEL NINO     0  \n841156                JH ELECTRONICS, INC.     0  \n841157                        SHOBHNA INC.     0  \n841158  FRANK'S CHICAGO SHRIMP HOUSE, INC.     0  \n841159                   TERRANCE J. WATTS     0  \n\n[841160 rows x 3 columns]",
            "text/html": "<div>\n<style scoped>\n    .dataframe tbody tr th:only-of-type {\n        vertical-align: middle;\n    }\n\n    .dataframe tbody tr th {\n        vertical-align: top;\n    }\n\n    .dataframe thead th {\n        text-align: right;\n    }\n</style>\n<table border=\"1\" class=\"dataframe\">\n  <thead>\n    <tr style=\"text-align: right;\">\n      <th></th>\n      <th>DBA</th>\n      <th>LEGAL_NAME</th>\n      <th>Chain</th>\n    </tr>\n  </thead>\n  <tbody>\n    <tr>\n      <th>0</th>\n      <td>TTX COMPANY</td>\n      <td>TTX COMPANY</td>\n      <td>0</td>\n    </tr>\n    <tr>\n      <th>1</th>\n      <td>WINGMAN</td>\n      <td>JYM INVESTMENTS LLC</td>\n      <td>0</td>\n    </tr>\n    <tr>\n      <th>2</th>\n      <td>Leopardo Companies Inc</td>\n      <td>LEOPARDO COMPANIES INC.</td>\n      <td>0</td>\n    </tr>\n    <tr>\n      <th>3</th>\n      <td>Driftwood</td>\n      <td>1021 MONTROSE, L.L.C.</td>\n      <td>0</td>\n    </tr>\n    <tr>\n      <th>4</th>\n      <td>MEHRAB RESTAURANT</td>\n      <td>MEHRAB MANAGEMENT, INC.</td>\n      <td>0</td>\n    </tr>\n    <tr>\n      <th>...</th>\n      <td>...</td>\n      <td>...</td>\n      <td>...</td>\n    </tr>\n    <tr>\n      <th>841155</th>\n      <td>EL HOGAR DEL NINO (THE HOME OF THE CHILD/ CUIDAR)</td>\n      <td>EL HOGAR DEL NINO</td>\n      <td>0</td>\n    </tr>\n    <tr>\n      <th>841156</th>\n      <td>ACE SOUND SYSTEM</td>\n      <td>JH ELECTRONICS, INC.</td>\n      <td>0</td>\n    </tr>\n    <tr>\n      <th>841157</th>\n      <td>FOOD STOP</td>\n      <td>SHOBHNA INC.</td>\n      <td>0</td>\n    </tr>\n    <tr>\n      <th>841158</th>\n      <td>FRANK'S CHICAGO SHRIMP HOUSE</td>\n      <td>FRANK'S CHICAGO SHRIMP HOUSE, INC.</td>\n      <td>0</td>\n    </tr>\n    <tr>\n      <th>841159</th>\n      <td>TERRANCE J. WATTS</td>\n      <td>TERRANCE J. WATTS</td>\n      <td>0</td>\n    </tr>\n  </tbody>\n</table>\n<p>841160 rows × 3 columns</p>\n</div>"
          },
          "metadata": {}
        }
      ],
      "outputs_reference": null,
      "execution_count": null,
      "block_group": "88cf6c97b575427e9c4aa470952e16e4",
      "content_dependencies": null
    },
    {
      "cell_type": "code",
      "source": "df_7 = _deepnote_execute_sql('SELECT LEGAL_NAME, COUNT(*) AS count_occurrences\\nFROM df_5\\nGROUP BY LEGAL_NAME\\nORDER BY count_occurrences DESC\\n;', 'SQL_DEEPNOTE_DATAFRAME_SQL', audit_sql_comment='', sql_cache_mode='cache_disabled')\ndf_7",
      "metadata": {
        "source_hash": null,
        "execution_start": 1712708946820,
        "execution_millis": 209,
        "sql_integration_id": "deepnote-dataframe-sql",
        "deepnote_table_state": {
          "sortBy": [],
          "filters": [],
          "pageSize": 10,
          "pageIndex": 48
        },
        "deepnote_table_loading": false,
        "deepnote_variable_name": "df_7",
        "deepnote_to_be_reexecuted": false,
        "cell_id": "3f46542e84054a6686ebc14914a9d619",
        "deepnote_cell_type": "sql",
        "deepnote_sql_source": "SELECT LEGAL_NAME, COUNT(*) AS count_occurrences\nFROM df_5\nGROUP BY LEGAL_NAME\nORDER BY count_occurrences DESC\n;"
      },
      "outputs": [
        {
          "output_type": "execute_result",
          "execution_count": 5,
          "data": {
            "application/vnd.deepnote.dataframe.v3+json": {
              "column_count": 2,
              "row_count": 141821,
              "columns": [
                {
                  "name": "LEGAL_NAME",
                  "dtype": "object"
                },
                {
                  "name": "count_occurrences",
                  "dtype": "int64"
                },
                {
                  "name": "_deepnote_index_column",
                  "dtype": "int64"
                }
              ],
              "rows": [
                {
                  "LEGAL_NAME": "RIVER NORTH DINING & ENTERTAINMENT LLC",
                  "count_occurrences": 65,
                  "_deepnote_index_column": 480
                },
                {
                  "LEGAL_NAME": "1555 CLUB, INC.",
                  "count_occurrences": 65,
                  "_deepnote_index_column": 481
                },
                {
                  "LEGAL_NAME": "THE AKR CORPORATION",
                  "count_occurrences": 65,
                  "_deepnote_index_column": 482
                },
                {
                  "LEGAL_NAME": "WENDELLA SIGHTSEEING COMPANY, INCORPORATED",
                  "count_occurrences": 65,
                  "_deepnote_index_column": 483
                },
                {
                  "LEGAL_NAME": "LIFESTART AT CENTRAL PARK, INC.",
                  "count_occurrences": 65,
                  "_deepnote_index_column": 484
                },
                {
                  "LEGAL_NAME": "SHERIDAN IRVING L LIQUORS INC",
                  "count_occurrences": 65,
                  "_deepnote_index_column": 485
                },
                {
                  "LEGAL_NAME": "TEDDY BEAR NURSERY SCHOOLS, INC.",
                  "count_occurrences": 65,
                  "_deepnote_index_column": 486
                },
                {
                  "LEGAL_NAME": "PREFER VALET PARKING SERVICE, INC.",
                  "count_occurrences": 65,
                  "_deepnote_index_column": 487
                },
                {
                  "LEGAL_NAME": "THE CHICAGO CLUB",
                  "count_occurrences": 65,
                  "_deepnote_index_column": 488
                },
                {
                  "LEGAL_NAME": "MARIO OJEDA",
                  "count_occurrences": 65,
                  "_deepnote_index_column": 489
                }
              ]
            },
            "text/plain": "                                          LEGAL_NAME  count_occurrences\n0                                SP PLUS CORPORATION               2621\n1                           HOST INTERNATIONAL, INC.               1023\n2                                      INTERPARK LLC                830\n3                          THE UNIVERSITY OF CHICAGO                821\n4       LEVY PREMIUM FOODSERVICE LIMITED PARTNERSHIP                772\n...                                              ...                ...\n141816                 Ezza Nails - 26 S Halsted LLC                  1\n141817                                   AMEPOL INC.                  1\n141818                         UNIQUEPRINTZ69 L.L.C.                  1\n141819                                     AWA FOMBA                  1\n141820                             TERRANCE J. WATTS                  1\n\n[141821 rows x 2 columns]",
            "text/html": "<div>\n<style scoped>\n    .dataframe tbody tr th:only-of-type {\n        vertical-align: middle;\n    }\n\n    .dataframe tbody tr th {\n        vertical-align: top;\n    }\n\n    .dataframe thead th {\n        text-align: right;\n    }\n</style>\n<table border=\"1\" class=\"dataframe\">\n  <thead>\n    <tr style=\"text-align: right;\">\n      <th></th>\n      <th>LEGAL_NAME</th>\n      <th>count_occurrences</th>\n    </tr>\n  </thead>\n  <tbody>\n    <tr>\n      <th>0</th>\n      <td>SP PLUS CORPORATION</td>\n      <td>2621</td>\n    </tr>\n    <tr>\n      <th>1</th>\n      <td>HOST INTERNATIONAL, INC.</td>\n      <td>1023</td>\n    </tr>\n    <tr>\n      <th>2</th>\n      <td>INTERPARK LLC</td>\n      <td>830</td>\n    </tr>\n    <tr>\n      <th>3</th>\n      <td>THE UNIVERSITY OF CHICAGO</td>\n      <td>821</td>\n    </tr>\n    <tr>\n      <th>4</th>\n      <td>LEVY PREMIUM FOODSERVICE LIMITED PARTNERSHIP</td>\n      <td>772</td>\n    </tr>\n    <tr>\n      <th>...</th>\n      <td>...</td>\n      <td>...</td>\n    </tr>\n    <tr>\n      <th>141816</th>\n      <td>Ezza Nails - 26 S Halsted LLC</td>\n      <td>1</td>\n    </tr>\n    <tr>\n      <th>141817</th>\n      <td>AMEPOL INC.</td>\n      <td>1</td>\n    </tr>\n    <tr>\n      <th>141818</th>\n      <td>UNIQUEPRINTZ69 L.L.C.</td>\n      <td>1</td>\n    </tr>\n    <tr>\n      <th>141819</th>\n      <td>AWA FOMBA</td>\n      <td>1</td>\n    </tr>\n    <tr>\n      <th>141820</th>\n      <td>TERRANCE J. WATTS</td>\n      <td>1</td>\n    </tr>\n  </tbody>\n</table>\n<p>141821 rows × 2 columns</p>\n</div>"
          },
          "metadata": {}
        }
      ],
      "outputs_reference": null,
      "execution_count": null,
      "block_group": "c329bc583fd94853aa6c2ddb1f19ba88",
      "content_dependencies": null
    },
    {
      "cell_type": "code",
      "source": "df_6 = _deepnote_execute_sql('SELECT DBA, COUNT(*) AS count_occurrences\\nFROM df_5\\nGROUP BY DBA\\nORDER BY count_occurrences DESC\\n;\\n', 'SQL_DEEPNOTE_DATAFRAME_SQL', audit_sql_comment='', sql_cache_mode='cache_disabled')\ndf_6",
      "metadata": {
        "source_hash": null,
        "execution_start": 1712708963055,
        "execution_millis": 161,
        "sql_integration_id": "deepnote-dataframe-sql",
        "deepnote_table_state": {
          "sortBy": [],
          "filters": [],
          "pageSize": 10,
          "pageIndex": 10
        },
        "deepnote_table_loading": false,
        "deepnote_variable_name": "df_6",
        "deepnote_to_be_reexecuted": false,
        "cell_id": "41ae03b2fa3e4d63ab6a9f85bb32cb04",
        "deepnote_cell_type": "sql",
        "deepnote_sql_source": "SELECT DBA, COUNT(*) AS count_occurrences\nFROM df_5\nGROUP BY DBA\nORDER BY count_occurrences DESC\n;\n"
      },
      "outputs": [
        {
          "output_type": "execute_result",
          "execution_count": 6,
          "data": {
            "application/vnd.deepnote.dataframe.v3+json": {
              "column_count": 2,
              "row_count": 162226,
              "columns": [
                {
                  "name": "DBA",
                  "dtype": "object"
                },
                {
                  "name": "count_occurrences",
                  "dtype": "int64"
                },
                {
                  "name": "_deepnote_index_column",
                  "dtype": "int64"
                }
              ],
              "rows": [
                {
                  "DBA": "SIMS METAL MANAGEMENT",
                  "count_occurrences": 103,
                  "_deepnote_index_column": 100
                },
                {
                  "DBA": "DOLLAR RENT-A-CAR",
                  "count_occurrences": 103,
                  "_deepnote_index_column": 101
                },
                {
                  "DBA": "MIDWEST GAS",
                  "count_occurrences": 102,
                  "_deepnote_index_column": 102
                },
                {
                  "DBA": "CBRE, Inc",
                  "count_occurrences": 102,
                  "_deepnote_index_column": 103
                },
                {
                  "DBA": "HUGO'S FROG BAR",
                  "count_occurrences": 102,
                  "_deepnote_index_column": 104
                },
                {
                  "DBA": "UNIQUE THRIFT STORE",
                  "count_occurrences": 101,
                  "_deepnote_index_column": 105
                },
                {
                  "DBA": "SODEXO AMERICA, LLC",
                  "count_occurrences": 101,
                  "_deepnote_index_column": 106
                },
                {
                  "DBA": "Worldcom",
                  "count_occurrences": 101,
                  "_deepnote_index_column": 107
                },
                {
                  "DBA": "CERMAK PRODUCE",
                  "count_occurrences": 99,
                  "_deepnote_index_column": 108
                },
                {
                  "DBA": "PARAMOUNT CLEANERS",
                  "count_occurrences": 99,
                  "_deepnote_index_column": 109
                }
              ]
            },
            "text/plain": "                            DBA  count_occurrences\n0              STANDARD PARKING                843\n1                     INTERPARK                739\n2       TRIPLE A SERVICES, INC.                608\n3              GATEWAY NEWSTAND                436\n4                 ISLA TROPICAL                432\n...                         ...                ...\n162221    UNIQUEPRINTZ69 L.L.C.                  1\n162222             SARAH HELMER                  1\n162223       MEEOW CHICAGO INC.                  1\n162224            GAFFA FASHION                  1\n162225        TERRANCE J. WATTS                  1\n\n[162226 rows x 2 columns]",
            "text/html": "<div>\n<style scoped>\n    .dataframe tbody tr th:only-of-type {\n        vertical-align: middle;\n    }\n\n    .dataframe tbody tr th {\n        vertical-align: top;\n    }\n\n    .dataframe thead th {\n        text-align: right;\n    }\n</style>\n<table border=\"1\" class=\"dataframe\">\n  <thead>\n    <tr style=\"text-align: right;\">\n      <th></th>\n      <th>DBA</th>\n      <th>count_occurrences</th>\n    </tr>\n  </thead>\n  <tbody>\n    <tr>\n      <th>0</th>\n      <td>STANDARD PARKING</td>\n      <td>843</td>\n    </tr>\n    <tr>\n      <th>1</th>\n      <td>INTERPARK</td>\n      <td>739</td>\n    </tr>\n    <tr>\n      <th>2</th>\n      <td>TRIPLE A SERVICES, INC.</td>\n      <td>608</td>\n    </tr>\n    <tr>\n      <th>3</th>\n      <td>GATEWAY NEWSTAND</td>\n      <td>436</td>\n    </tr>\n    <tr>\n      <th>4</th>\n      <td>ISLA TROPICAL</td>\n      <td>432</td>\n    </tr>\n    <tr>\n      <th>...</th>\n      <td>...</td>\n      <td>...</td>\n    </tr>\n    <tr>\n      <th>162221</th>\n      <td>UNIQUEPRINTZ69 L.L.C.</td>\n      <td>1</td>\n    </tr>\n    <tr>\n      <th>162222</th>\n      <td>SARAH HELMER</td>\n      <td>1</td>\n    </tr>\n    <tr>\n      <th>162223</th>\n      <td>MEEOW CHICAGO INC.</td>\n      <td>1</td>\n    </tr>\n    <tr>\n      <th>162224</th>\n      <td>GAFFA FASHION</td>\n      <td>1</td>\n    </tr>\n    <tr>\n      <th>162225</th>\n      <td>TERRANCE J. WATTS</td>\n      <td>1</td>\n    </tr>\n  </tbody>\n</table>\n<p>162226 rows × 2 columns</p>\n</div>"
          },
          "metadata": {}
        }
      ],
      "outputs_reference": null,
      "execution_count": null,
      "block_group": "fa16cf08befa4e3f98f3e2b92e15ba45",
      "content_dependencies": null
    },
    {
      "cell_type": "markdown",
      "source": "- [ ] just remove the ' from names and no skipping letters",
      "metadata": {
        "formattedRanges": [],
        "cell_id": "51ef806dd87f4206b34ff89c373b7c3f",
        "deepnote_cell_type": "text-cell-todo"
      },
      "block_group": "09430fe6f95449dbbf3a93f96afe5739"
    },
    {
      "cell_type": "markdown",
      "source": "- [ ] ",
      "metadata": {
        "checked": false,
        "formattedRanges": [],
        "cell_id": "11db8d33dbff4382bf2fc3898e820c3b",
        "deepnote_cell_type": "text-cell-todo"
      },
      "block_group": "4ffa4d9fdcf942e4b26e625b236285d6"
    },
    {
      "cell_type": "markdown",
      "source": "# Splitting by local / No chains",
      "metadata": {
        "formattedRanges": [],
        "cell_id": "1a613f94df6942c29822caa86b0d3d96",
        "deepnote_cell_type": "text-cell-h1"
      },
      "block_group": "f7f209a7df9d41ab8082b3d9b9b927b9"
    },
    {
      "cell_type": "code",
      "source": "df_8 = _deepnote_execute_sql('SELECT *\\nfrom \\'tempChains1.csv\\'\\nwhere Chain = \\'0\\'', 'SQL_DEEPNOTE_DATAFRAME_SQL', audit_sql_comment='', sql_cache_mode='cache_disabled')\ndf_8",
      "metadata": {
        "source_hash": null,
        "execution_start": 1712773961083,
        "execution_millis": 10437,
        "sql_integration_id": "deepnote-dataframe-sql",
        "deepnote_variable_name": "df_8",
        "deepnote_to_be_reexecuted": false,
        "cell_id": "ca62d53c461b41979e109defdafc5f77",
        "deepnote_cell_type": "sql",
        "deepnote_sql_source": "SELECT *\nfrom 'tempChains1.csv'\nwhere Chain = '0'"
      },
      "outputs": [
        {
          "output_type": "execute_result",
          "execution_count": 1,
          "data": {
            "application/vnd.deepnote.dataframe.v3+json": {
              "column_count": 38,
              "row_count": 840459,
              "columns": [
                {
                  "name": "ID",
                  "dtype": "object"
                },
                {
                  "name": "LICENSE_ID",
                  "dtype": "int64"
                },
                {
                  "name": "ACCOUNT_NUMBER",
                  "dtype": "int64"
                },
                {
                  "name": "SITE_NUMBER",
                  "dtype": "int64"
                },
                {
                  "name": "LEGAL_NAME",
                  "dtype": "object"
                },
                {
                  "name": "DBA",
                  "dtype": "object"
                },
                {
                  "name": "ADDRESS",
                  "dtype": "object"
                },
                {
                  "name": "CITY",
                  "dtype": "object"
                },
                {
                  "name": "STATE",
                  "dtype": "object"
                },
                {
                  "name": "ZIP_CODE",
                  "dtype": "int64"
                },
                {
                  "name": "WARD",
                  "dtype": "float64"
                },
                {
                  "name": "PRECINCT",
                  "dtype": "float64"
                },
                {
                  "name": "WARD_PRECINCT",
                  "dtype": "object"
                },
                {
                  "name": "POLICE_DISTRICT",
                  "dtype": "float64"
                },
                {
                  "name": "LICENSE_CODE",
                  "dtype": "int64"
                },
                {
                  "name": "LICENSE_DESCRIPTION",
                  "dtype": "object"
                },
                {
                  "name": "BUSINESS_ACTIVITY_ID",
                  "dtype": "object"
                },
                {
                  "name": "BUSINESS_ACTIVITY",
                  "dtype": "object"
                },
                {
                  "name": "LICENSE_NUMBER",
                  "dtype": "int64"
                },
                {
                  "name": "APPLICATION_TYPE",
                  "dtype": "object"
                },
                {
                  "name": "APPLICATION_CREATED_DATE",
                  "dtype": "datetime64[us]"
                },
                {
                  "name": "APPLICATION_REQUIREMENTS_COMPLETE",
                  "dtype": "datetime64[us]"
                },
                {
                  "name": "PAYMENT_DATE",
                  "dtype": "datetime64[us]"
                },
                {
                  "name": "CONDITIONAL_APPROVAL",
                  "dtype": "object"
                },
                {
                  "name": "LICENSE_TERM_START_DATE",
                  "dtype": "datetime64[us]"
                },
                {
                  "name": "LICENSE_TERM_EXPIRATION_DATE",
                  "dtype": "datetime64[us]"
                },
                {
                  "name": "LICENSE_APPROVED_FOR_ISSUANCE",
                  "dtype": "datetime64[us]"
                },
                {
                  "name": "DATE_ISSUED",
                  "dtype": "datetime64[us]"
                },
                {
                  "name": "LICENSE_STATUS",
                  "dtype": "object"
                },
                {
                  "name": "LICENSE_STATUS_CHANGE_DATE",
                  "dtype": "datetime64[us]"
                },
                {
                  "name": "SSA",
                  "dtype": "float64"
                },
                {
                  "name": "LATITUDE",
                  "dtype": "float64"
                },
                {
                  "name": "LONGITUDE",
                  "dtype": "float64"
                },
                {
                  "name": "LOCATION",
                  "dtype": "object"
                },
                {
                  "name": "TIF_Name",
                  "dtype": "object"
                },
                {
                  "name": "LICENSE_GROUP",
                  "dtype": "object"
                },
                {
                  "name": "Com_Name",
                  "dtype": "object"
                },
                {
                  "name": "Chain",
                  "dtype": "object"
                },
                {
                  "name": "_deepnote_index_column",
                  "dtype": "int64"
                }
              ],
              "rows": [
                {
                  "ID": "2617269-20220916",
                  "LICENSE_ID": 2857496,
                  "ACCOUNT_NUMBER": 1611,
                  "SITE_NUMBER": 5,
                  "LEGAL_NAME": "TTX COMPANY",
                  "DBA": "TTX COMPANY",
                  "ADDRESS": "4016 S ASHLAND AVE",
                  "CITY": "CHICAGO",
                  "STATE": "IL",
                  "ZIP_CODE": 60609,
                  "WARD": 12,
                  "PRECINCT": 19,
                  "WARD_PRECINCT": "12-19",
                  "POLICE_DISTRICT": 9,
                  "LICENSE_CODE": 1010,
                  "LICENSE_DESCRIPTION": "Limited Business License",
                  "BUSINESS_ACTIVITY_ID": "708",
                  "BUSINESS_ACTIVITY": "Miscellaneous Commercial Services",
                  "LICENSE_NUMBER": 2617269,
                  "APPLICATION_TYPE": "RENEW",
                  "APPLICATION_CREATED_DATE": "NaT",
                  "APPLICATION_REQUIREMENTS_COMPLETE": "2022-07-15 00:00:00",
                  "PAYMENT_DATE": "2022-08-05 00:00:00",
                  "CONDITIONAL_APPROVAL": "N",
                  "LICENSE_TERM_START_DATE": "2022-09-16 00:00:00",
                  "LICENSE_TERM_EXPIRATION_DATE": "2024-09-15 00:00:00",
                  "LICENSE_APPROVED_FOR_ISSUANCE": "2022-08-05 00:00:00",
                  "DATE_ISSUED": "2022-08-08 00:00:00",
                  "LICENSE_STATUS": "AAI",
                  "LICENSE_STATUS_CHANGE_DATE": "NaT",
                  "SSA": "nan",
                  "LATITUDE": 41.820284936,
                  "LONGITUDE": -87.665396822,
                  "LOCATION": "(41.82028493557808, -87.66539682158037)",
                  "TIF_Name": "[]",
                  "LICENSE_GROUP": "Business",
                  "Com_Name": "['NEW CITY']",
                  "Chain": "0",
                  "_deepnote_index_column": 0
                },
                {
                  "ID": "2652692-20201217",
                  "LICENSE_ID": 2652692,
                  "ACCOUNT_NUMBER": 456833,
                  "SITE_NUMBER": 1,
                  "LEGAL_NAME": "JYM INVESTMENTS LLC",
                  "DBA": "WINGMAN",
                  "ADDRESS": "2321 W HOWARD ST 1ST",
                  "CITY": "CHICAGO",
                  "STATE": "IL",
                  "ZIP_CODE": 60645,
                  "WARD": 49,
                  "PRECINCT": 21,
                  "WARD_PRECINCT": "49-21",
                  "POLICE_DISTRICT": 24,
                  "LICENSE_CODE": 1006,
                  "LICENSE_DESCRIPTION": "Retail Food Establishment",
                  "BUSINESS_ACTIVITY_ID": "781",
                  "BUSINESS_ACTIVITY": "Sale of Food Prepared Onsite With Dining Area",
                  "LICENSE_NUMBER": 2652692,
                  "APPLICATION_TYPE": "ISSUE",
                  "APPLICATION_CREATED_DATE": "2019-03-01 00:00:00",
                  "APPLICATION_REQUIREMENTS_COMPLETE": "2020-11-18 00:00:00",
                  "PAYMENT_DATE": "2020-11-19 00:00:00",
                  "CONDITIONAL_APPROVAL": "N",
                  "LICENSE_TERM_START_DATE": "2020-12-17 00:00:00",
                  "LICENSE_TERM_EXPIRATION_DATE": "2023-01-15 00:00:00",
                  "LICENSE_APPROVED_FOR_ISSUANCE": "2020-12-16 00:00:00",
                  "DATE_ISSUED": "2020-12-17 00:00:00",
                  "LICENSE_STATUS": "AAC",
                  "LICENSE_STATUS_CHANGE_DATE": "2022-08-08 00:00:00",
                  "SSA": "nan",
                  "LATITUDE": 42.019413271,
                  "LONGITUDE": -87.688628188,
                  "LOCATION": "(42.019413270594214, -87.68862818775574)",
                  "TIF_Name": "[]",
                  "LICENSE_GROUP": "Food",
                  "Com_Name": "['WEST RIDGE']",
                  "Chain": "0",
                  "_deepnote_index_column": 1
                },
                {
                  "ID": "2647849-20200916",
                  "LICENSE_ID": 2739788,
                  "ACCOUNT_NUMBER": 64603,
                  "SITE_NUMBER": 7,
                  "LEGAL_NAME": "LEOPARDO COMPANIES INC.",
                  "DBA": "Leopardo Companies Inc",
                  "ADDRESS": "210 N CARPENTER ST 3RD FLOOR",
                  "CITY": "CHICAGO",
                  "STATE": "IL",
                  "ZIP_CODE": 60607,
                  "WARD": 27,
                  "PRECINCT": "nan",
                  "WARD_PRECINCT": "27-",
                  "POLICE_DISTRICT": "nan",
                  "LICENSE_CODE": 1010,
                  "LICENSE_DESCRIPTION": "Limited Business License",
                  "BUSINESS_ACTIVITY_ID": "602",
                  "BUSINESS_ACTIVITY": "Administrative Commercial Office",
                  "LICENSE_NUMBER": 2647849,
                  "APPLICATION_TYPE": "RENEW",
                  "APPLICATION_CREATED_DATE": "NaT",
                  "APPLICATION_REQUIREMENTS_COMPLETE": "2020-07-15 00:00:00",
                  "PAYMENT_DATE": "2020-08-20 00:00:00",
                  "CONDITIONAL_APPROVAL": "N",
                  "LICENSE_TERM_START_DATE": "2020-09-16 00:00:00",
                  "LICENSE_TERM_EXPIRATION_DATE": "2022-09-15 00:00:00",
                  "LICENSE_APPROVED_FOR_ISSUANCE": "2020-08-20 00:00:00",
                  "DATE_ISSUED": "2020-08-21 00:00:00",
                  "LICENSE_STATUS": "AAC",
                  "LICENSE_STATUS_CHANGE_DATE": "2022-08-08 00:00:00",
                  "SSA": "nan",
                  "LATITUDE": 41.885944958,
                  "LONGITUDE": -87.653461783,
                  "LOCATION": "(41.88594495760403, -87.65346178255953)",
                  "TIF_Name": "['Kinzie Industrial Conservation Area']",
                  "LICENSE_GROUP": "Business",
                  "Com_Name": "[]",
                  "Chain": "0",
                  "_deepnote_index_column": 2
                },
                {
                  "ID": "1579838-20220616",
                  "LICENSE_ID": 2842924,
                  "ACCOUNT_NUMBER": 289144,
                  "SITE_NUMBER": 1,
                  "LEGAL_NAME": "1021 MONTROSE, L.L.C.",
                  "DBA": "Driftwood",
                  "ADDRESS": "1021 W MONTROSE AVE",
                  "CITY": "CHICAGO",
                  "STATE": "IL",
                  "ZIP_CODE": 60613,
                  "WARD": 46,
                  "PRECINCT": 9,
                  "WARD_PRECINCT": "46-9",
                  "POLICE_DISTRICT": 19,
                  "LICENSE_CODE": 1470,
                  "LICENSE_DESCRIPTION": "Tavern",
                  "BUSINESS_ACTIVITY_ID": "829",
                  "BUSINESS_ACTIVITY": "Tavern - Consumption of Liquor on Premise",
                  "LICENSE_NUMBER": 1579838,
                  "APPLICATION_TYPE": "RENEW",
                  "APPLICATION_CREATED_DATE": "NaT",
                  "APPLICATION_REQUIREMENTS_COMPLETE": "2022-04-15 00:00:00",
                  "PAYMENT_DATE": "2022-05-10 00:00:00",
                  "CONDITIONAL_APPROVAL": "N",
                  "LICENSE_TERM_START_DATE": "2022-06-16 00:00:00",
                  "LICENSE_TERM_EXPIRATION_DATE": "2024-06-15 00:00:00",
                  "LICENSE_APPROVED_FOR_ISSUANCE": "2022-05-10 00:00:00",
                  "DATE_ISSUED": "2022-05-11 00:00:00",
                  "LICENSE_STATUS": "AAI",
                  "LICENSE_STATUS_CHANGE_DATE": "NaT",
                  "SSA": 34,
                  "LATITUDE": 41.961655309,
                  "LONGITUDE": -87.655649945,
                  "LOCATION": "(41.961655308981946, -87.65564994485091)",
                  "TIF_Name": "['Wilson Yard']",
                  "LICENSE_GROUP": "Food",
                  "Com_Name": "[]",
                  "Chain": "0",
                  "_deepnote_index_column": 3
                },
                {
                  "ID": "2780650-20220516",
                  "LICENSE_ID": 2839285,
                  "ACCOUNT_NUMBER": 424430,
                  "SITE_NUMBER": 3,
                  "LEGAL_NAME": "MEHRAB MANAGEMENT, INC.",
                  "DBA": "MEHRAB RESTAURANT",
                  "ADDRESS": "2437 W DEVON AVE",
                  "CITY": "CHICAGO",
                  "STATE": "IL",
                  "ZIP_CODE": 60659,
                  "WARD": 50,
                  "PRECINCT": "nan",
                  "WARD_PRECINCT": "50-",
                  "POLICE_DISTRICT": "nan",
                  "LICENSE_CODE": 1006,
                  "LICENSE_DESCRIPTION": "Retail Food Establishment",
                  "BUSINESS_ACTIVITY_ID": "781",
                  "BUSINESS_ACTIVITY": "Sale of Food Prepared Onsite With Dining Area",
                  "LICENSE_NUMBER": 2780650,
                  "APPLICATION_TYPE": "RENEW",
                  "APPLICATION_CREATED_DATE": "NaT",
                  "APPLICATION_REQUIREMENTS_COMPLETE": "2022-03-15 00:00:00",
                  "PAYMENT_DATE": "2022-05-10 00:00:00",
                  "CONDITIONAL_APPROVAL": "N",
                  "LICENSE_TERM_START_DATE": "2022-05-16 00:00:00",
                  "LICENSE_TERM_EXPIRATION_DATE": "2024-05-15 00:00:00",
                  "LICENSE_APPROVED_FOR_ISSUANCE": "2022-05-10 00:00:00",
                  "DATE_ISSUED": "2022-05-11 00:00:00",
                  "LICENSE_STATUS": "AAI",
                  "LICENSE_STATUS_CHANGE_DATE": "NaT",
                  "SSA": 43,
                  "LATITUDE": 41.997597404,
                  "LONGITUDE": -87.691331516,
                  "LOCATION": "(41.99759740363999, -87.6913315163539)",
                  "TIF_Name": "[]",
                  "LICENSE_GROUP": "Food",
                  "Com_Name": "['WEST RIDGE']",
                  "Chain": "0",
                  "_deepnote_index_column": 4
                },
                {
                  "ID": "1899783-20090316",
                  "LICENSE_ID": 1953094,
                  "ACCOUNT_NUMBER": 330192,
                  "SITE_NUMBER": 1,
                  "LEGAL_NAME": "ELIAS A. KANELLOPOULOS",
                  "DBA": "RITZ CLEANERS",
                  "ADDRESS": "200 E DELAWARE PL 1",
                  "CITY": "CHICAGO",
                  "STATE": "IL",
                  "ZIP_CODE": 60611,
                  "WARD": 2,
                  "PRECINCT": 13,
                  "WARD_PRECINCT": "2-13",
                  "POLICE_DISTRICT": 18,
                  "LICENSE_CODE": 1010,
                  "LICENSE_DESCRIPTION": "Limited Business License",
                  "BUSINESS_ACTIVITY_ID": "None",
                  "BUSINESS_ACTIVITY": "None",
                  "LICENSE_NUMBER": 1899783,
                  "APPLICATION_TYPE": "RENEW",
                  "APPLICATION_CREATED_DATE": "NaT",
                  "APPLICATION_REQUIREMENTS_COMPLETE": "2009-01-15 00:00:00",
                  "PAYMENT_DATE": "2009-02-20 00:00:00",
                  "CONDITIONAL_APPROVAL": "N",
                  "LICENSE_TERM_START_DATE": "2009-03-16 00:00:00",
                  "LICENSE_TERM_EXPIRATION_DATE": "2011-03-15 00:00:00",
                  "LICENSE_APPROVED_FOR_ISSUANCE": "2009-02-20 00:00:00",
                  "DATE_ISSUED": "2009-02-23 00:00:00",
                  "LICENSE_STATUS": "AAI",
                  "LICENSE_STATUS_CHANGE_DATE": "NaT",
                  "SSA": "nan",
                  "LATITUDE": 41.899354739,
                  "LONGITUDE": -87.621791302,
                  "LOCATION": "(41.89935473944382, -87.621791301926)",
                  "TIF_Name": "[]",
                  "LICENSE_GROUP": "Business",
                  "Com_Name": "['NEAR NORTH SIDE']",
                  "Chain": "0",
                  "_deepnote_index_column": 5
                },
                {
                  "ID": "2846132-20220511",
                  "LICENSE_ID": 2846132,
                  "ACCOUNT_NUMBER": 485647,
                  "SITE_NUMBER": 1,
                  "LEGAL_NAME": "Silverwolf Productions LLC",
                  "DBA": "Silverwolf Productions LLC",
                  "ADDRESS": "2673 N GREENVIEW AVE  UNIT H",
                  "CITY": "CHICAGO",
                  "STATE": "IL",
                  "ZIP_CODE": 60614,
                  "WARD": 32,
                  "PRECINCT": "nan",
                  "WARD_PRECINCT": "32-",
                  "POLICE_DISTRICT": "nan",
                  "LICENSE_CODE": 4404,
                  "LICENSE_DESCRIPTION": "Regulated Business License",
                  "BUSINESS_ACTIVITY_ID": "665 | 667 | 702 | 719",
                  "BUSINESS_ACTIVITY": "Freelance Writer (Home Based Business) | Graphic Design (Home Based Business) | Marketing / Advertising / Public Relations (Home Based Business) | Professional Consulting (Home Based Business)",
                  "LICENSE_NUMBER": 2846132,
                  "APPLICATION_TYPE": "ISSUE",
                  "APPLICATION_CREATED_DATE": "2022-05-10 00:00:00",
                  "APPLICATION_REQUIREMENTS_COMPLETE": "2022-05-10 00:00:00",
                  "PAYMENT_DATE": "2022-05-10 00:00:00",
                  "CONDITIONAL_APPROVAL": "N",
                  "LICENSE_TERM_START_DATE": "2022-05-11 00:00:00",
                  "LICENSE_TERM_EXPIRATION_DATE": "2024-05-15 00:00:00",
                  "LICENSE_APPROVED_FOR_ISSUANCE": "2022-05-10 00:00:00",
                  "DATE_ISSUED": "2022-05-11 00:00:00",
                  "LICENSE_STATUS": "AAI",
                  "LICENSE_STATUS_CHANGE_DATE": "NaT",
                  "SSA": "nan",
                  "LATITUDE": 41.930322481,
                  "LONGITUDE": -87.665386892,
                  "LOCATION": "(41.93032248132474, -87.66538689175445)",
                  "TIF_Name": "[]",
                  "LICENSE_GROUP": "Business",
                  "Com_Name": "['LINCOLN PARK']",
                  "Chain": "0",
                  "_deepnote_index_column": 6
                },
                {
                  "ID": "1899783-20110316",
                  "LICENSE_ID": 2078221,
                  "ACCOUNT_NUMBER": 330192,
                  "SITE_NUMBER": 1,
                  "LEGAL_NAME": "ELIAS A. KANELLOPOULOS",
                  "DBA": "RITZ CLEANERS",
                  "ADDRESS": "200 E DELAWARE PL 1",
                  "CITY": "CHICAGO",
                  "STATE": "IL",
                  "ZIP_CODE": 60611,
                  "WARD": 2,
                  "PRECINCT": 13,
                  "WARD_PRECINCT": "2-13",
                  "POLICE_DISTRICT": 18,
                  "LICENSE_CODE": 1010,
                  "LICENSE_DESCRIPTION": "Limited Business License",
                  "BUSINESS_ACTIVITY_ID": "None",
                  "BUSINESS_ACTIVITY": "None",
                  "LICENSE_NUMBER": 1899783,
                  "APPLICATION_TYPE": "RENEW",
                  "APPLICATION_CREATED_DATE": "NaT",
                  "APPLICATION_REQUIREMENTS_COMPLETE": "2011-01-14 00:00:00",
                  "PAYMENT_DATE": "2011-02-14 00:00:00",
                  "CONDITIONAL_APPROVAL": "N",
                  "LICENSE_TERM_START_DATE": "2011-03-16 00:00:00",
                  "LICENSE_TERM_EXPIRATION_DATE": "2013-03-15 00:00:00",
                  "LICENSE_APPROVED_FOR_ISSUANCE": "2011-02-14 00:00:00",
                  "DATE_ISSUED": "2011-02-15 00:00:00",
                  "LICENSE_STATUS": "AAI",
                  "LICENSE_STATUS_CHANGE_DATE": "NaT",
                  "SSA": "nan",
                  "LATITUDE": 41.899354739,
                  "LONGITUDE": -87.621791302,
                  "LOCATION": "(41.89935473944382, -87.621791301926)",
                  "TIF_Name": "[]",
                  "LICENSE_GROUP": "Business",
                  "Com_Name": "['NEAR NORTH SIDE']",
                  "Chain": "0",
                  "_deepnote_index_column": 7
                },
                {
                  "ID": "2863350-20220808",
                  "LICENSE_ID": 2863350,
                  "ACCOUNT_NUMBER": 488437,
                  "SITE_NUMBER": 1,
                  "LEGAL_NAME": "DOMONANT MEDIA LLC",
                  "DBA": "DOMONANT MEDIA",
                  "ADDRESS": "1200 W 35TH ST 3RD 3A3130",
                  "CITY": "CHICAGO",
                  "STATE": "IL",
                  "ZIP_CODE": 60609,
                  "WARD": 11,
                  "PRECINCT": 11,
                  "WARD_PRECINCT": "11-11",
                  "POLICE_DISTRICT": 9,
                  "LICENSE_CODE": 1010,
                  "LICENSE_DESCRIPTION": "Limited Business License",
                  "BUSINESS_ACTIVITY_ID": "476 | 1089",
                  "BUSINESS_ACTIVITY": "Photography Services | Multi-Media Services",
                  "LICENSE_NUMBER": 2863350,
                  "APPLICATION_TYPE": "ISSUE",
                  "APPLICATION_CREATED_DATE": "2022-08-08 00:00:00",
                  "APPLICATION_REQUIREMENTS_COMPLETE": "2022-08-08 00:00:00",
                  "PAYMENT_DATE": "2022-08-08 00:00:00",
                  "CONDITIONAL_APPROVAL": "N",
                  "LICENSE_TERM_START_DATE": "2022-08-08 00:00:00",
                  "LICENSE_TERM_EXPIRATION_DATE": "2024-08-15 00:00:00",
                  "LICENSE_APPROVED_FOR_ISSUANCE": "2022-08-08 00:00:00",
                  "DATE_ISSUED": "2022-08-08 00:00:00",
                  "LICENSE_STATUS": "AAI",
                  "LICENSE_STATUS_CHANGE_DATE": "NaT",
                  "SSA": "nan",
                  "LATITUDE": 41.830728826,
                  "LONGITUDE": -87.655813252,
                  "LOCATION": "(41.830728825995436, -87.65581325202945)",
                  "TIF_Name": "['35th/Halsted']",
                  "LICENSE_GROUP": "Business",
                  "Com_Name": "[]",
                  "Chain": "0",
                  "_deepnote_index_column": 8
                },
                {
                  "ID": "2818513-20220616",
                  "LICENSE_ID": 2844542,
                  "ACCOUNT_NUMBER": 427773,
                  "SITE_NUMBER": 2,
                  "LEGAL_NAME": "MOVING UNITS INC.",
                  "DBA": "MOVING UNITS INC.",
                  "ADDRESS": "4432 N KEDZIE AVE  104",
                  "CITY": "CHICAGO",
                  "STATE": "IL",
                  "ZIP_CODE": 60625,
                  "WARD": 33,
                  "PRECINCT": "nan",
                  "WARD_PRECINCT": "33-",
                  "POLICE_DISTRICT": "nan",
                  "LICENSE_CODE": 1010,
                  "LICENSE_DESCRIPTION": "Limited Business License",
                  "BUSINESS_ACTIVITY_ID": "668 | 904",
                  "BUSINESS_ACTIVITY": "Graphic Design and Consultation | Retail Sales of General Merchandise",
                  "LICENSE_NUMBER": 2818513,
                  "APPLICATION_TYPE": "RENEW",
                  "APPLICATION_CREATED_DATE": "NaT",
                  "APPLICATION_REQUIREMENTS_COMPLETE": "2022-04-15 00:00:00",
                  "PAYMENT_DATE": "2022-05-10 00:00:00",
                  "CONDITIONAL_APPROVAL": "N",
                  "LICENSE_TERM_START_DATE": "2022-06-16 00:00:00",
                  "LICENSE_TERM_EXPIRATION_DATE": "2024-06-15 00:00:00",
                  "LICENSE_APPROVED_FOR_ISSUANCE": "2022-05-10 00:00:00",
                  "DATE_ISSUED": "2022-05-11 00:00:00",
                  "LICENSE_STATUS": "AAI",
                  "LICENSE_STATUS_CHANGE_DATE": "NaT",
                  "SSA": 60,
                  "LATITUDE": 41.96218474,
                  "LONGITUDE": -87.708422754,
                  "LOCATION": "(41.962184740105535, -87.70842275378467)",
                  "TIF_Name": "[]",
                  "LICENSE_GROUP": "Business",
                  "Com_Name": "['ALBANY PARK']",
                  "Chain": "0",
                  "_deepnote_index_column": 9
                }
              ]
            },
            "text/plain": "                      ID  LICENSE_ID  ACCOUNT_NUMBER  SITE_NUMBER  \\\n0       2617269-20220916     2857496            1611            5   \n1       2652692-20201217     2652692          456833            1   \n2       2647849-20200916     2739788           64603            7   \n3       1579838-20220616     2842924          289144            1   \n4       2780650-20220516     2839285          424430            3   \n...                  ...         ...             ...          ...   \n840454    25790-20030216     1354092           86759            1   \n840455  1800644-20091116     1996441          313982            1   \n840456  2652764-20210316     2770633          456868            1   \n840457     6415-20070816     1832401          376290            2   \n840458  1800007-20070124     1800007          313705            1   \n\n                                LEGAL_NAME  \\\n0                              TTX COMPANY   \n1                      JYM INVESTMENTS LLC   \n2                  LEOPARDO COMPANIES INC.   \n3                    1021 MONTROSE, L.L.C.   \n4                  MEHRAB MANAGEMENT, INC.   \n...                                    ...   \n840454                   EL HOGAR DEL NINO   \n840455                JH ELECTRONICS, INC.   \n840456                        SHOBHNA INC.   \n840457  FRANK'S CHICAGO SHRIMP HOUSE, INC.   \n840458                   TERRANCE J. WATTS   \n\n                                                      DBA  \\\n0                                             TTX COMPANY   \n1                                                 WINGMAN   \n2                                  Leopardo Companies Inc   \n3                                               Driftwood   \n4                                       MEHRAB RESTAURANT   \n...                                                   ...   \n840454  EL HOGAR DEL NINO (THE HOME OF THE CHILD/ CUIDAR)   \n840455                                   ACE SOUND SYSTEM   \n840456                                          FOOD STOP   \n840457                       FRANK'S CHICAGO SHRIMP HOUSE   \n840458                                  TERRANCE J. WATTS   \n\n                             ADDRESS     CITY STATE  ZIP_CODE  ...  \\\n0                 4016 S ASHLAND AVE  CHICAGO    IL     60609  ...   \n1               2321 W HOWARD ST 1ST  CHICAGO    IL     60645  ...   \n2       210 N CARPENTER ST 3RD FLOOR  CHICAGO    IL     60607  ...   \n3                1021 W MONTROSE AVE  CHICAGO    IL     60613  ...   \n4                   2437 W DEVON AVE  CHICAGO    IL     60659  ...   \n...                              ...      ...   ...       ...  ...   \n840454         2325 S CALIFORNIA AVE  CHICAGO    IL     60608  ...   \n840455     2500 N MILWAUKEE AVE  201  CHICAGO    IL     60647  ...   \n840456           3734 W LAWRENCE AVE  CHICAGO    IL     60625  ...   \n840457         5439 W ADDISON ST 1ST  CHICAGO    IL     60641  ...   \n840458            9932 S SANGAMON ST  CHICAGO    IL     60643  ...   \n\n        LICENSE_STATUS  LICENSE_STATUS_CHANGE_DATE   SSA   LATITUDE  \\\n0                  AAI                         NaT   NaN  41.820285   \n1                  AAC                  2022-08-08   NaN  42.019413   \n2                  AAC                  2022-08-08   NaN  41.885945   \n3                  AAI                         NaT  34.0  41.961655   \n4                  AAI                         NaT  43.0  41.997597   \n...                ...                         ...   ...        ...   \n840454             AAI                         NaT   NaN  41.849220   \n840455             AAI                         NaT   NaN  41.926737   \n840456             AAI                         NaT   NaN  41.968417   \n840457             AAI                         NaT   NaN  41.945810   \n840458             AAI                         NaT   NaN  41.713160   \n\n        LONGITUDE                                  LOCATION  \\\n0      -87.665397   (41.82028493557808, -87.66539682158037)   \n1      -87.688628  (42.019413270594214, -87.68862818775574)   \n2      -87.653462   (41.88594495760403, -87.65346178255953)   \n3      -87.655650  (41.961655308981946, -87.65564994485091)   \n4      -87.691332    (41.99759740363999, -87.6913315163539)   \n...           ...                                       ...   \n840454 -87.695226   (41.84922004402217, -87.69522576621223)   \n840455 -87.703828   (41.92673659835983, -87.70382782692913)   \n840456 -87.722060    (41.96841672465387, -87.7220597187097)   \n840457 -87.763441   (41.94580991762778, -87.76344146216435)   \n840458 -87.646789    (41.71316042726137, -87.6467890258547)   \n\n                                       TIF_Name LICENSE_GROUP  \\\n0                                            []      Business   \n1                                            []          Food   \n2       ['Kinzie Industrial Conservation Area']      Business   \n3                               ['Wilson Yard']          Food   \n4                                            []          Food   \n...                                         ...           ...   \n840454                                       []       Permits   \n840455                  ['Fullerton/Milwaukee']      Business   \n840456                      ['Lawrence/Kedzie']       Tabacco   \n840457                                       []          Food   \n840458    ['105th Street and Vincennes Avenue']       Special   \n\n                  Com_Name Chain  \n0             ['NEW CITY']     0  \n1           ['WEST RIDGE']     0  \n2                       []     0  \n3                       []     0  \n4           ['WEST RIDGE']     0  \n...                    ...   ...  \n840454  ['SOUTH LAWNDALE']     0  \n840455                  []     0  \n840456                  []     0  \n840457    ['PORTAGE PARK']     0  \n840458                  []     0  \n\n[840459 rows x 38 columns]",
            "text/html": "<div>\n<style scoped>\n    .dataframe tbody tr th:only-of-type {\n        vertical-align: middle;\n    }\n\n    .dataframe tbody tr th {\n        vertical-align: top;\n    }\n\n    .dataframe thead th {\n        text-align: right;\n    }\n</style>\n<table border=\"1\" class=\"dataframe\">\n  <thead>\n    <tr style=\"text-align: right;\">\n      <th></th>\n      <th>ID</th>\n      <th>LICENSE_ID</th>\n      <th>ACCOUNT_NUMBER</th>\n      <th>SITE_NUMBER</th>\n      <th>LEGAL_NAME</th>\n      <th>DBA</th>\n      <th>ADDRESS</th>\n      <th>CITY</th>\n      <th>STATE</th>\n      <th>ZIP_CODE</th>\n      <th>...</th>\n      <th>LICENSE_STATUS</th>\n      <th>LICENSE_STATUS_CHANGE_DATE</th>\n      <th>SSA</th>\n      <th>LATITUDE</th>\n      <th>LONGITUDE</th>\n      <th>LOCATION</th>\n      <th>TIF_Name</th>\n      <th>LICENSE_GROUP</th>\n      <th>Com_Name</th>\n      <th>Chain</th>\n    </tr>\n  </thead>\n  <tbody>\n    <tr>\n      <th>0</th>\n      <td>2617269-20220916</td>\n      <td>2857496</td>\n      <td>1611</td>\n      <td>5</td>\n      <td>TTX COMPANY</td>\n      <td>TTX COMPANY</td>\n      <td>4016 S ASHLAND AVE</td>\n      <td>CHICAGO</td>\n      <td>IL</td>\n      <td>60609</td>\n      <td>...</td>\n      <td>AAI</td>\n      <td>NaT</td>\n      <td>NaN</td>\n      <td>41.820285</td>\n      <td>-87.665397</td>\n      <td>(41.82028493557808, -87.66539682158037)</td>\n      <td>[]</td>\n      <td>Business</td>\n      <td>['NEW CITY']</td>\n      <td>0</td>\n    </tr>\n    <tr>\n      <th>1</th>\n      <td>2652692-20201217</td>\n      <td>2652692</td>\n      <td>456833</td>\n      <td>1</td>\n      <td>JYM INVESTMENTS LLC</td>\n      <td>WINGMAN</td>\n      <td>2321 W HOWARD ST 1ST</td>\n      <td>CHICAGO</td>\n      <td>IL</td>\n      <td>60645</td>\n      <td>...</td>\n      <td>AAC</td>\n      <td>2022-08-08</td>\n      <td>NaN</td>\n      <td>42.019413</td>\n      <td>-87.688628</td>\n      <td>(42.019413270594214, -87.68862818775574)</td>\n      <td>[]</td>\n      <td>Food</td>\n      <td>['WEST RIDGE']</td>\n      <td>0</td>\n    </tr>\n    <tr>\n      <th>2</th>\n      <td>2647849-20200916</td>\n      <td>2739788</td>\n      <td>64603</td>\n      <td>7</td>\n      <td>LEOPARDO COMPANIES INC.</td>\n      <td>Leopardo Companies Inc</td>\n      <td>210 N CARPENTER ST 3RD FLOOR</td>\n      <td>CHICAGO</td>\n      <td>IL</td>\n      <td>60607</td>\n      <td>...</td>\n      <td>AAC</td>\n      <td>2022-08-08</td>\n      <td>NaN</td>\n      <td>41.885945</td>\n      <td>-87.653462</td>\n      <td>(41.88594495760403, -87.65346178255953)</td>\n      <td>['Kinzie Industrial Conservation Area']</td>\n      <td>Business</td>\n      <td>[]</td>\n      <td>0</td>\n    </tr>\n    <tr>\n      <th>3</th>\n      <td>1579838-20220616</td>\n      <td>2842924</td>\n      <td>289144</td>\n      <td>1</td>\n      <td>1021 MONTROSE, L.L.C.</td>\n      <td>Driftwood</td>\n      <td>1021 W MONTROSE AVE</td>\n      <td>CHICAGO</td>\n      <td>IL</td>\n      <td>60613</td>\n      <td>...</td>\n      <td>AAI</td>\n      <td>NaT</td>\n      <td>34.0</td>\n      <td>41.961655</td>\n      <td>-87.655650</td>\n      <td>(41.961655308981946, -87.65564994485091)</td>\n      <td>['Wilson Yard']</td>\n      <td>Food</td>\n      <td>[]</td>\n      <td>0</td>\n    </tr>\n    <tr>\n      <th>4</th>\n      <td>2780650-20220516</td>\n      <td>2839285</td>\n      <td>424430</td>\n      <td>3</td>\n      <td>MEHRAB MANAGEMENT, INC.</td>\n      <td>MEHRAB RESTAURANT</td>\n      <td>2437 W DEVON AVE</td>\n      <td>CHICAGO</td>\n      <td>IL</td>\n      <td>60659</td>\n      <td>...</td>\n      <td>AAI</td>\n      <td>NaT</td>\n      <td>43.0</td>\n      <td>41.997597</td>\n      <td>-87.691332</td>\n      <td>(41.99759740363999, -87.6913315163539)</td>\n      <td>[]</td>\n      <td>Food</td>\n      <td>['WEST RIDGE']</td>\n      <td>0</td>\n    </tr>\n    <tr>\n      <th>...</th>\n      <td>...</td>\n      <td>...</td>\n      <td>...</td>\n      <td>...</td>\n      <td>...</td>\n      <td>...</td>\n      <td>...</td>\n      <td>...</td>\n      <td>...</td>\n      <td>...</td>\n      <td>...</td>\n      <td>...</td>\n      <td>...</td>\n      <td>...</td>\n      <td>...</td>\n      <td>...</td>\n      <td>...</td>\n      <td>...</td>\n      <td>...</td>\n      <td>...</td>\n      <td>...</td>\n    </tr>\n    <tr>\n      <th>840454</th>\n      <td>25790-20030216</td>\n      <td>1354092</td>\n      <td>86759</td>\n      <td>1</td>\n      <td>EL HOGAR DEL NINO</td>\n      <td>EL HOGAR DEL NINO (THE HOME OF THE CHILD/ CUIDAR)</td>\n      <td>2325 S CALIFORNIA AVE</td>\n      <td>CHICAGO</td>\n      <td>IL</td>\n      <td>60608</td>\n      <td>...</td>\n      <td>AAI</td>\n      <td>NaT</td>\n      <td>NaN</td>\n      <td>41.849220</td>\n      <td>-87.695226</td>\n      <td>(41.84922004402217, -87.69522576621223)</td>\n      <td>[]</td>\n      <td>Permits</td>\n      <td>['SOUTH LAWNDALE']</td>\n      <td>0</td>\n    </tr>\n    <tr>\n      <th>840455</th>\n      <td>1800644-20091116</td>\n      <td>1996441</td>\n      <td>313982</td>\n      <td>1</td>\n      <td>JH ELECTRONICS, INC.</td>\n      <td>ACE SOUND SYSTEM</td>\n      <td>2500 N MILWAUKEE AVE  201</td>\n      <td>CHICAGO</td>\n      <td>IL</td>\n      <td>60647</td>\n      <td>...</td>\n      <td>AAI</td>\n      <td>NaT</td>\n      <td>NaN</td>\n      <td>41.926737</td>\n      <td>-87.703828</td>\n      <td>(41.92673659835983, -87.70382782692913)</td>\n      <td>['Fullerton/Milwaukee']</td>\n      <td>Business</td>\n      <td>[]</td>\n      <td>0</td>\n    </tr>\n    <tr>\n      <th>840456</th>\n      <td>2652764-20210316</td>\n      <td>2770633</td>\n      <td>456868</td>\n      <td>1</td>\n      <td>SHOBHNA INC.</td>\n      <td>FOOD STOP</td>\n      <td>3734 W LAWRENCE AVE</td>\n      <td>CHICAGO</td>\n      <td>IL</td>\n      <td>60625</td>\n      <td>...</td>\n      <td>AAI</td>\n      <td>NaT</td>\n      <td>NaN</td>\n      <td>41.968417</td>\n      <td>-87.722060</td>\n      <td>(41.96841672465387, -87.7220597187097)</td>\n      <td>['Lawrence/Kedzie']</td>\n      <td>Tabacco</td>\n      <td>[]</td>\n      <td>0</td>\n    </tr>\n    <tr>\n      <th>840457</th>\n      <td>6415-20070816</td>\n      <td>1832401</td>\n      <td>376290</td>\n      <td>2</td>\n      <td>FRANK'S CHICAGO SHRIMP HOUSE, INC.</td>\n      <td>FRANK'S CHICAGO SHRIMP HOUSE</td>\n      <td>5439 W ADDISON ST 1ST</td>\n      <td>CHICAGO</td>\n      <td>IL</td>\n      <td>60641</td>\n      <td>...</td>\n      <td>AAI</td>\n      <td>NaT</td>\n      <td>NaN</td>\n      <td>41.945810</td>\n      <td>-87.763441</td>\n      <td>(41.94580991762778, -87.76344146216435)</td>\n      <td>[]</td>\n      <td>Food</td>\n      <td>['PORTAGE PARK']</td>\n      <td>0</td>\n    </tr>\n    <tr>\n      <th>840458</th>\n      <td>1800007-20070124</td>\n      <td>1800007</td>\n      <td>313705</td>\n      <td>1</td>\n      <td>TERRANCE J. WATTS</td>\n      <td>TERRANCE J. WATTS</td>\n      <td>9932 S SANGAMON ST</td>\n      <td>CHICAGO</td>\n      <td>IL</td>\n      <td>60643</td>\n      <td>...</td>\n      <td>AAI</td>\n      <td>NaT</td>\n      <td>NaN</td>\n      <td>41.713160</td>\n      <td>-87.646789</td>\n      <td>(41.71316042726137, -87.6467890258547)</td>\n      <td>['105th Street and Vincennes Avenue']</td>\n      <td>Special</td>\n      <td>[]</td>\n      <td>0</td>\n    </tr>\n  </tbody>\n</table>\n<p>840459 rows × 38 columns</p>\n</div>"
          },
          "metadata": {}
        }
      ],
      "outputs_reference": null,
      "execution_count": null,
      "block_group": "9c76adf398964580a3bb885ba5d3e049",
      "content_dependencies": null
    },
    {
      "cell_type": "code",
      "source": "df_9 = _deepnote_execute_sql('SELECT LEGAL_NAME, COUNT(*) AS count_occurrences\\nFROM df_8\\nGROUP BY LEGAL_NAME\\nORDER BY count_occurrences DESC\\n;', 'SQL_DEEPNOTE_DATAFRAME_SQL', audit_sql_comment='', sql_cache_mode='cache_disabled')\ndf_9",
      "metadata": {
        "source_hash": null,
        "execution_start": 1712773985568,
        "execution_millis": 584,
        "sql_integration_id": "deepnote-dataframe-sql",
        "deepnote_table_state": {
          "sortBy": [],
          "filters": [],
          "pageSize": 10,
          "pageIndex": 799
        },
        "deepnote_table_loading": false,
        "deepnote_variable_name": "df_9",
        "deepnote_to_be_reexecuted": false,
        "cell_id": "5b6260a35ce148e4aa0746af82ba8ccf",
        "deepnote_cell_type": "sql",
        "deepnote_sql_source": "SELECT LEGAL_NAME, COUNT(*) AS count_occurrences\nFROM df_8\nGROUP BY LEGAL_NAME\nORDER BY count_occurrences DESC\n;"
      },
      "outputs": [
        {
          "output_type": "execute_result",
          "execution_count": 2,
          "data": {
            "application/vnd.deepnote.dataframe.v3+json": {
              "column_count": 2,
              "row_count": 141804,
              "columns": [
                {
                  "name": "LEGAL_NAME",
                  "dtype": "object"
                },
                {
                  "name": "count_occurrences",
                  "dtype": "int64"
                },
                {
                  "name": "_deepnote_index_column",
                  "dtype": "int64"
                }
              ],
              "rows": [
                {
                  "LEGAL_NAME": "WINTHROP MARKET, INC.",
                  "count_occurrences": 17,
                  "_deepnote_index_column": 7990
                },
                {
                  "LEGAL_NAME": "MARIA JOSSEY",
                  "count_occurrences": 17,
                  "_deepnote_index_column": 7991
                },
                {
                  "LEGAL_NAME": "LAURA WILLIFORD",
                  "count_occurrences": 17,
                  "_deepnote_index_column": 7992
                },
                {
                  "LEGAL_NAME": "ANTONIO RODRIGUEZ",
                  "count_occurrences": 17,
                  "_deepnote_index_column": 7993
                },
                {
                  "LEGAL_NAME": "C & B ENTERTAINMENT, INCORPORATED",
                  "count_occurrences": 17,
                  "_deepnote_index_column": 7994
                },
                {
                  "LEGAL_NAME": "BURRELL COMMUNICATIONS GROUP, LLC",
                  "count_occurrences": 17,
                  "_deepnote_index_column": 7995
                },
                {
                  "LEGAL_NAME": "LA BODYWORKS LLC",
                  "count_occurrences": 17,
                  "_deepnote_index_column": 7996
                },
                {
                  "LEGAL_NAME": "THE FITNESS FORMULA, LTD.",
                  "count_occurrences": 17,
                  "_deepnote_index_column": 7997
                },
                {
                  "LEGAL_NAME": "MRMS, INC.",
                  "count_occurrences": 17,
                  "_deepnote_index_column": 7998
                },
                {
                  "LEGAL_NAME": "PETER G POULOS",
                  "count_occurrences": 17,
                  "_deepnote_index_column": 7999
                }
              ]
            },
            "text/plain": "                                          LEGAL_NAME  count_occurrences\n0                                SP PLUS CORPORATION               2621\n1                           HOST INTERNATIONAL, INC.               1023\n2                                      INTERPARK LLC                830\n3                          THE UNIVERSITY OF CHICAGO                821\n4       LEVY PREMIUM FOODSERVICE LIMITED PARTNERSHIP                772\n...                                              ...                ...\n141799                 Ezza Nails - 26 S Halsted LLC                  1\n141800                                   AMEPOL INC.                  1\n141801                         UNIQUEPRINTZ69 L.L.C.                  1\n141802                                     AWA FOMBA                  1\n141803                             TERRANCE J. WATTS                  1\n\n[141804 rows x 2 columns]",
            "text/html": "<div>\n<style scoped>\n    .dataframe tbody tr th:only-of-type {\n        vertical-align: middle;\n    }\n\n    .dataframe tbody tr th {\n        vertical-align: top;\n    }\n\n    .dataframe thead th {\n        text-align: right;\n    }\n</style>\n<table border=\"1\" class=\"dataframe\">\n  <thead>\n    <tr style=\"text-align: right;\">\n      <th></th>\n      <th>LEGAL_NAME</th>\n      <th>count_occurrences</th>\n    </tr>\n  </thead>\n  <tbody>\n    <tr>\n      <th>0</th>\n      <td>SP PLUS CORPORATION</td>\n      <td>2621</td>\n    </tr>\n    <tr>\n      <th>1</th>\n      <td>HOST INTERNATIONAL, INC.</td>\n      <td>1023</td>\n    </tr>\n    <tr>\n      <th>2</th>\n      <td>INTERPARK LLC</td>\n      <td>830</td>\n    </tr>\n    <tr>\n      <th>3</th>\n      <td>THE UNIVERSITY OF CHICAGO</td>\n      <td>821</td>\n    </tr>\n    <tr>\n      <th>4</th>\n      <td>LEVY PREMIUM FOODSERVICE LIMITED PARTNERSHIP</td>\n      <td>772</td>\n    </tr>\n    <tr>\n      <th>...</th>\n      <td>...</td>\n      <td>...</td>\n    </tr>\n    <tr>\n      <th>141799</th>\n      <td>Ezza Nails - 26 S Halsted LLC</td>\n      <td>1</td>\n    </tr>\n    <tr>\n      <th>141800</th>\n      <td>AMEPOL INC.</td>\n      <td>1</td>\n    </tr>\n    <tr>\n      <th>141801</th>\n      <td>UNIQUEPRINTZ69 L.L.C.</td>\n      <td>1</td>\n    </tr>\n    <tr>\n      <th>141802</th>\n      <td>AWA FOMBA</td>\n      <td>1</td>\n    </tr>\n    <tr>\n      <th>141803</th>\n      <td>TERRANCE J. WATTS</td>\n      <td>1</td>\n    </tr>\n  </tbody>\n</table>\n<p>141804 rows × 2 columns</p>\n</div>"
          },
          "metadata": {}
        }
      ],
      "outputs_reference": null,
      "execution_count": null,
      "block_group": "c82fe0dc434540ce86276bc2abebba76",
      "content_dependencies": null
    },
    {
      "cell_type": "code",
      "source": "local_chains_legal = _deepnote_execute_sql('SELECT LEGAL_NAME\\nfrom df_9 \\nwhere count_occurrences >= 20', 'SQL_DEEPNOTE_DATAFRAME_SQL', audit_sql_comment='', sql_cache_mode='cache_disabled')\nlocal_chains_legal",
      "metadata": {
        "source_hash": null,
        "execution_start": 1712773991363,
        "execution_millis": 195,
        "sql_integration_id": "deepnote-dataframe-sql",
        "deepnote_variable_name": "local_chains_legal",
        "deepnote_to_be_reexecuted": false,
        "cell_id": "086aaffda5eb4182a3c21ebf554b3608",
        "deepnote_cell_type": "sql",
        "deepnote_sql_source": "SELECT LEGAL_NAME\nfrom df_9 \nwhere count_occurrences >= 20"
      },
      "outputs": [
        {
          "output_type": "execute_result",
          "execution_count": 3,
          "data": {
            "application/vnd.deepnote.dataframe.v3+json": {
              "column_count": 1,
              "row_count": 6718,
              "columns": [
                {
                  "name": "LEGAL_NAME",
                  "dtype": "object",
                  "stats": {
                    "unique_count": 6718,
                    "nan_count": 0,
                    "categories": [
                      {
                        "name": "SP PLUS CORPORATION",
                        "count": 1
                      },
                      {
                        "name": "HOST INTERNATIONAL, INC.",
                        "count": 1
                      },
                      {
                        "name": "6716 others",
                        "count": 6716
                      }
                    ]
                  }
                },
                {
                  "name": "_deepnote_index_column",
                  "dtype": "int64"
                }
              ],
              "rows": [
                {
                  "LEGAL_NAME": "SP PLUS CORPORATION",
                  "_deepnote_index_column": 0
                },
                {
                  "LEGAL_NAME": "HOST INTERNATIONAL, INC.",
                  "_deepnote_index_column": 1
                },
                {
                  "LEGAL_NAME": "INTERPARK LLC",
                  "_deepnote_index_column": 2
                },
                {
                  "LEGAL_NAME": "THE UNIVERSITY OF CHICAGO",
                  "_deepnote_index_column": 3
                },
                {
                  "LEGAL_NAME": "LEVY PREMIUM FOODSERVICE LIMITED PARTNERSHIP",
                  "_deepnote_index_column": 4
                },
                {
                  "LEGAL_NAME": "DOMINICK'S FINER FOODS, LLC",
                  "_deepnote_index_column": 5
                },
                {
                  "LEGAL_NAME": "COMPASS GROUP USA, INC.",
                  "_deepnote_index_column": 6
                },
                {
                  "LEGAL_NAME": "TRIPLE A SERVICES, INC.",
                  "_deepnote_index_column": 7
                },
                {
                  "LEGAL_NAME": "LAZ PARKING CHICAGO, LLC",
                  "_deepnote_index_column": 8
                },
                {
                  "LEGAL_NAME": "FASHION GALLERY, INC.",
                  "_deepnote_index_column": 9
                }
              ]
            },
            "text/plain": "                                             LEGAL_NAME\n0                                   SP PLUS CORPORATION\n1                              HOST INTERNATIONAL, INC.\n2                                         INTERPARK LLC\n3                             THE UNIVERSITY OF CHICAGO\n4          LEVY PREMIUM FOODSERVICE LIMITED PARTNERSHIP\n...                                                 ...\n6713                          CADEN'S IRISH HOUSE, INC.\n6714  INSTITUTE FOR THE INTERNATIONAL EDUCATION OF S...\n6715          ROSELAND DAY CARE CENTER AND KINDERGARTEN\n6716                                    ESTELA   ZUNIGA\n6717                          PHOENIX CHEMICAL LABS INC\n\n[6718 rows x 1 columns]",
            "text/html": "<div>\n<style scoped>\n    .dataframe tbody tr th:only-of-type {\n        vertical-align: middle;\n    }\n\n    .dataframe tbody tr th {\n        vertical-align: top;\n    }\n\n    .dataframe thead th {\n        text-align: right;\n    }\n</style>\n<table border=\"1\" class=\"dataframe\">\n  <thead>\n    <tr style=\"text-align: right;\">\n      <th></th>\n      <th>LEGAL_NAME</th>\n    </tr>\n  </thead>\n  <tbody>\n    <tr>\n      <th>0</th>\n      <td>SP PLUS CORPORATION</td>\n    </tr>\n    <tr>\n      <th>1</th>\n      <td>HOST INTERNATIONAL, INC.</td>\n    </tr>\n    <tr>\n      <th>2</th>\n      <td>INTERPARK LLC</td>\n    </tr>\n    <tr>\n      <th>3</th>\n      <td>THE UNIVERSITY OF CHICAGO</td>\n    </tr>\n    <tr>\n      <th>4</th>\n      <td>LEVY PREMIUM FOODSERVICE LIMITED PARTNERSHIP</td>\n    </tr>\n    <tr>\n      <th>...</th>\n      <td>...</td>\n    </tr>\n    <tr>\n      <th>6713</th>\n      <td>CADEN'S IRISH HOUSE, INC.</td>\n    </tr>\n    <tr>\n      <th>6714</th>\n      <td>INSTITUTE FOR THE INTERNATIONAL EDUCATION OF S...</td>\n    </tr>\n    <tr>\n      <th>6715</th>\n      <td>ROSELAND DAY CARE CENTER AND KINDERGARTEN</td>\n    </tr>\n    <tr>\n      <th>6716</th>\n      <td>ESTELA   ZUNIGA</td>\n    </tr>\n    <tr>\n      <th>6717</th>\n      <td>PHOENIX CHEMICAL LABS INC</td>\n    </tr>\n  </tbody>\n</table>\n<p>6718 rows × 1 columns</p>\n</div>"
          },
          "metadata": {}
        }
      ],
      "outputs_reference": null,
      "execution_count": null,
      "block_group": "d85004a93cab443d8b6bb27e1bd48042",
      "content_dependencies": null
    },
    {
      "cell_type": "code",
      "source": "no_chains_legal = _deepnote_execute_sql('SELECT LEGAL_NAME\\nfrom df_9 \\nwhere count_occurrences < 20', 'SQL_DEEPNOTE_DATAFRAME_SQL', audit_sql_comment='', sql_cache_mode='cache_disabled')\nno_chains_legal",
      "metadata": {
        "source_hash": null,
        "execution_start": 1712773995719,
        "execution_millis": 196,
        "sql_integration_id": "deepnote-dataframe-sql",
        "deepnote_table_state": {
          "sortBy": [],
          "filters": [],
          "pageSize": 10,
          "pageIndex": 7
        },
        "deepnote_table_loading": false,
        "deepnote_variable_name": "no_chains_legal",
        "deepnote_to_be_reexecuted": false,
        "cell_id": "654aa1a98db346549c6bcf9f5960f614",
        "deepnote_cell_type": "sql",
        "deepnote_sql_source": "SELECT LEGAL_NAME\nfrom df_9 \nwhere count_occurrences < 20"
      },
      "outputs": [
        {
          "output_type": "execute_result",
          "execution_count": 4,
          "data": {
            "application/vnd.deepnote.dataframe.v3+json": {
              "column_count": 1,
              "row_count": 135086,
              "columns": [
                {
                  "name": "LEGAL_NAME",
                  "dtype": "object"
                },
                {
                  "name": "_deepnote_index_column",
                  "dtype": "int64"
                }
              ],
              "rows": [
                {
                  "LEGAL_NAME": "PEER FOODS GROUP, INC.",
                  "_deepnote_index_column": 70
                },
                {
                  "LEGAL_NAME": "CASA DE MARISCOS INC.",
                  "_deepnote_index_column": 71
                },
                {
                  "LEGAL_NAME": "ALWAYS HEATING COOLING CO.",
                  "_deepnote_index_column": 72
                },
                {
                  "LEGAL_NAME": "AABBITT ADHESIVES INC",
                  "_deepnote_index_column": 73
                },
                {
                  "LEGAL_NAME": "TANGENT SCREEN PRINT",
                  "_deepnote_index_column": 74
                },
                {
                  "LEGAL_NAME": "GORGIS A. DANIAL",
                  "_deepnote_index_column": 75
                },
                {
                  "LEGAL_NAME": "WILLIAM L ROELS",
                  "_deepnote_index_column": 76
                },
                {
                  "LEGAL_NAME": "CHAN KYU PARK",
                  "_deepnote_index_column": 77
                },
                {
                  "LEGAL_NAME": "HANJIN LEE",
                  "_deepnote_index_column": 78
                },
                {
                  "LEGAL_NAME": "2700 N AUSTIN CORP",
                  "_deepnote_index_column": 79
                }
              ]
            },
            "text/plain": "                                     LEGAL_NAME\n0                       LEOPARDO COMPANIES INC.\n1       GREATLAKES ARCHITECTURAL MILLWORKS, LLC\n2                         LAM AND THE GOAT, LLC\n3                             CHINESE GOAT, LLC\n4                               LP Fitness, LLC\n...                                         ...\n135081            Ezza Nails - 26 S Halsted LLC\n135082                              AMEPOL INC.\n135083                    UNIQUEPRINTZ69 L.L.C.\n135084                                AWA FOMBA\n135085                        TERRANCE J. WATTS\n\n[135086 rows x 1 columns]",
            "text/html": "<div>\n<style scoped>\n    .dataframe tbody tr th:only-of-type {\n        vertical-align: middle;\n    }\n\n    .dataframe tbody tr th {\n        vertical-align: top;\n    }\n\n    .dataframe thead th {\n        text-align: right;\n    }\n</style>\n<table border=\"1\" class=\"dataframe\">\n  <thead>\n    <tr style=\"text-align: right;\">\n      <th></th>\n      <th>LEGAL_NAME</th>\n    </tr>\n  </thead>\n  <tbody>\n    <tr>\n      <th>0</th>\n      <td>LEOPARDO COMPANIES INC.</td>\n    </tr>\n    <tr>\n      <th>1</th>\n      <td>GREATLAKES ARCHITECTURAL MILLWORKS, LLC</td>\n    </tr>\n    <tr>\n      <th>2</th>\n      <td>LAM AND THE GOAT, LLC</td>\n    </tr>\n    <tr>\n      <th>3</th>\n      <td>CHINESE GOAT, LLC</td>\n    </tr>\n    <tr>\n      <th>4</th>\n      <td>LP Fitness, LLC</td>\n    </tr>\n    <tr>\n      <th>...</th>\n      <td>...</td>\n    </tr>\n    <tr>\n      <th>135081</th>\n      <td>Ezza Nails - 26 S Halsted LLC</td>\n    </tr>\n    <tr>\n      <th>135082</th>\n      <td>AMEPOL INC.</td>\n    </tr>\n    <tr>\n      <th>135083</th>\n      <td>UNIQUEPRINTZ69 L.L.C.</td>\n    </tr>\n    <tr>\n      <th>135084</th>\n      <td>AWA FOMBA</td>\n    </tr>\n    <tr>\n      <th>135085</th>\n      <td>TERRANCE J. WATTS</td>\n    </tr>\n  </tbody>\n</table>\n<p>135086 rows × 1 columns</p>\n</div>"
          },
          "metadata": {}
        }
      ],
      "outputs_reference": null,
      "execution_count": null,
      "block_group": "662137cb71da43c3a0176ce957bc365b",
      "content_dependencies": null
    },
    {
      "cell_type": "code",
      "source": "local_chains = _deepnote_execute_sql('SELECT df_8.* \\nFROM df_8, local_chains_legal\\nwhere df_8.LEGAL_NAME = local_chains_legal.LEGAL_NAME;', 'SQL_DEEPNOTE_DATAFRAME_SQL', audit_sql_comment='', sql_cache_mode='cache_disabled')\nlocal_chains",
      "metadata": {
        "source_hash": null,
        "execution_start": 1712774009347,
        "execution_millis": 1821,
        "sql_integration_id": "deepnote-dataframe-sql",
        "deepnote_variable_name": "local_chains",
        "deepnote_to_be_reexecuted": false,
        "cell_id": "24f519d167d8409fb17a6ce750419d4a",
        "deepnote_cell_type": "sql",
        "deepnote_sql_source": "SELECT df_8.* \nFROM df_8, local_chains_legal\nwhere df_8.LEGAL_NAME = local_chains_legal.LEGAL_NAME;"
      },
      "outputs": [
        {
          "output_type": "execute_result",
          "execution_count": 5,
          "data": {
            "application/vnd.deepnote.dataframe.v3+json": {
              "column_count": 38,
              "row_count": 255147,
              "columns": [
                {
                  "name": "ID",
                  "dtype": "object"
                },
                {
                  "name": "LICENSE_ID",
                  "dtype": "int64"
                },
                {
                  "name": "ACCOUNT_NUMBER",
                  "dtype": "int64"
                },
                {
                  "name": "SITE_NUMBER",
                  "dtype": "int64"
                },
                {
                  "name": "LEGAL_NAME",
                  "dtype": "object"
                },
                {
                  "name": "DBA",
                  "dtype": "object"
                },
                {
                  "name": "ADDRESS",
                  "dtype": "object"
                },
                {
                  "name": "CITY",
                  "dtype": "object"
                },
                {
                  "name": "STATE",
                  "dtype": "object"
                },
                {
                  "name": "ZIP_CODE",
                  "dtype": "int64"
                },
                {
                  "name": "WARD",
                  "dtype": "float64"
                },
                {
                  "name": "PRECINCT",
                  "dtype": "float64"
                },
                {
                  "name": "WARD_PRECINCT",
                  "dtype": "object"
                },
                {
                  "name": "POLICE_DISTRICT",
                  "dtype": "float64"
                },
                {
                  "name": "LICENSE_CODE",
                  "dtype": "int64"
                },
                {
                  "name": "LICENSE_DESCRIPTION",
                  "dtype": "object"
                },
                {
                  "name": "BUSINESS_ACTIVITY_ID",
                  "dtype": "object"
                },
                {
                  "name": "BUSINESS_ACTIVITY",
                  "dtype": "object"
                },
                {
                  "name": "LICENSE_NUMBER",
                  "dtype": "int64"
                },
                {
                  "name": "APPLICATION_TYPE",
                  "dtype": "object"
                },
                {
                  "name": "APPLICATION_CREATED_DATE",
                  "dtype": "datetime64[us]"
                },
                {
                  "name": "APPLICATION_REQUIREMENTS_COMPLETE",
                  "dtype": "datetime64[us]"
                },
                {
                  "name": "PAYMENT_DATE",
                  "dtype": "datetime64[us]"
                },
                {
                  "name": "CONDITIONAL_APPROVAL",
                  "dtype": "object"
                },
                {
                  "name": "LICENSE_TERM_START_DATE",
                  "dtype": "datetime64[us]"
                },
                {
                  "name": "LICENSE_TERM_EXPIRATION_DATE",
                  "dtype": "datetime64[us]"
                },
                {
                  "name": "LICENSE_APPROVED_FOR_ISSUANCE",
                  "dtype": "datetime64[us]"
                },
                {
                  "name": "DATE_ISSUED",
                  "dtype": "datetime64[us]"
                },
                {
                  "name": "LICENSE_STATUS",
                  "dtype": "object"
                },
                {
                  "name": "LICENSE_STATUS_CHANGE_DATE",
                  "dtype": "datetime64[us]"
                },
                {
                  "name": "SSA",
                  "dtype": "float64"
                },
                {
                  "name": "LATITUDE",
                  "dtype": "float64"
                },
                {
                  "name": "LONGITUDE",
                  "dtype": "float64"
                },
                {
                  "name": "LOCATION",
                  "dtype": "object"
                },
                {
                  "name": "TIF_Name",
                  "dtype": "object"
                },
                {
                  "name": "LICENSE_GROUP",
                  "dtype": "object"
                },
                {
                  "name": "Com_Name",
                  "dtype": "object"
                },
                {
                  "name": "Chain",
                  "dtype": "object"
                },
                {
                  "name": "_deepnote_index_column",
                  "dtype": "int64"
                }
              ],
              "rows": [
                {
                  "ID": "1579838-20220616",
                  "LICENSE_ID": 2842924,
                  "ACCOUNT_NUMBER": 289144,
                  "SITE_NUMBER": 1,
                  "LEGAL_NAME": "1021 MONTROSE, L.L.C.",
                  "DBA": "Driftwood",
                  "ADDRESS": "1021 W MONTROSE AVE",
                  "CITY": "CHICAGO",
                  "STATE": "IL",
                  "ZIP_CODE": 60613,
                  "WARD": 46,
                  "PRECINCT": 9,
                  "WARD_PRECINCT": "46-9",
                  "POLICE_DISTRICT": 19,
                  "LICENSE_CODE": 1470,
                  "LICENSE_DESCRIPTION": "Tavern",
                  "BUSINESS_ACTIVITY_ID": "829",
                  "BUSINESS_ACTIVITY": "Tavern - Consumption of Liquor on Premise",
                  "LICENSE_NUMBER": 1579838,
                  "APPLICATION_TYPE": "RENEW",
                  "APPLICATION_CREATED_DATE": "NaT",
                  "APPLICATION_REQUIREMENTS_COMPLETE": "2022-04-15 00:00:00",
                  "PAYMENT_DATE": "2022-05-10 00:00:00",
                  "CONDITIONAL_APPROVAL": "N",
                  "LICENSE_TERM_START_DATE": "2022-06-16 00:00:00",
                  "LICENSE_TERM_EXPIRATION_DATE": "2024-06-15 00:00:00",
                  "LICENSE_APPROVED_FOR_ISSUANCE": "2022-05-10 00:00:00",
                  "DATE_ISSUED": "2022-05-11 00:00:00",
                  "LICENSE_STATUS": "AAI",
                  "LICENSE_STATUS_CHANGE_DATE": "NaT",
                  "SSA": 34,
                  "LATITUDE": 41.961655309,
                  "LONGITUDE": -87.655649945,
                  "LOCATION": "(41.961655308981946, -87.65564994485091)",
                  "TIF_Name": "['Wilson Yard']",
                  "LICENSE_GROUP": "Food",
                  "Com_Name": "[]",
                  "Chain": "0",
                  "_deepnote_index_column": 0
                },
                {
                  "ID": "2857176-20220808",
                  "LICENSE_ID": 2857176,
                  "ACCOUNT_NUMBER": 218538,
                  "SITE_NUMBER": 96,
                  "LEGAL_NAME": "LINCOLN SQUARE RAVENSWOOD CHAMBER OF COMMERCE",
                  "DBA": "LINCOLN SQUARE RAVENSWOOD CHAMBER OF COMMERCE",
                  "ADDRESS": "4505 N LINCOLN AVE  STOREFRONT",
                  "CITY": "CHICAGO",
                  "STATE": "IL",
                  "ZIP_CODE": 60625,
                  "WARD": 47,
                  "PRECINCT": 42,
                  "WARD_PRECINCT": "47-42",
                  "POLICE_DISTRICT": 19,
                  "LICENSE_CODE": 4409,
                  "LICENSE_DESCRIPTION": "Pop-Up Retail User",
                  "BUSINESS_ACTIVITY_ID": "1027",
                  "BUSINESS_ACTIVITY": "Organizer of a 1-5 Day Event w/ Pop-Up Retail Users at a Trade Show, Exhibition or Convention",
                  "LICENSE_NUMBER": 2857176,
                  "APPLICATION_TYPE": "ISSUE",
                  "APPLICATION_CREATED_DATE": "2022-07-08 00:00:00",
                  "APPLICATION_REQUIREMENTS_COMPLETE": "2022-07-08 00:00:00",
                  "PAYMENT_DATE": "2022-08-08 00:00:00",
                  "CONDITIONAL_APPROVAL": "N",
                  "LICENSE_TERM_START_DATE": "2022-08-08 00:00:00",
                  "LICENSE_TERM_EXPIRATION_DATE": "2022-08-13 00:00:00",
                  "LICENSE_APPROVED_FOR_ISSUANCE": "2022-08-08 00:00:00",
                  "DATE_ISSUED": "2022-08-08 00:00:00",
                  "LICENSE_STATUS": "AAI",
                  "LICENSE_STATUS_CHANGE_DATE": "NaT",
                  "SSA": 21,
                  "LATITUDE": 41.963424053,
                  "LONGITUDE": -87.684990788,
                  "LOCATION": "(41.963424053299256, -87.68499078804334)",
                  "TIF_Name": "[]",
                  "LICENSE_GROUP": "Special",
                  "Com_Name": "['LINCOLN SQUARE']",
                  "Chain": "0",
                  "_deepnote_index_column": 1
                },
                {
                  "ID": "2321004-20220816",
                  "LICENSE_ID": 2854072,
                  "ACCOUNT_NUMBER": 355521,
                  "SITE_NUMBER": 15,
                  "LEGAL_NAME": "BRIGHT HORIZONS CHILDREN'S CENTERS LLC",
                  "DBA": "Bright Horizons at Clybourn",
                  "ADDRESS": "1425 N DAYTON ST 1ST",
                  "CITY": "CHICAGO",
                  "STATE": "IL",
                  "ZIP_CODE": 60642,
                  "WARD": 27,
                  "PRECINCT": 46,
                  "WARD_PRECINCT": "27-46",
                  "POLICE_DISTRICT": 18,
                  "LICENSE_CODE": 1023,
                  "LICENSE_DESCRIPTION": "Children's Services Facility License",
                  "BUSINESS_ACTIVITY_ID": "820 | 823",
                  "BUSINESS_ACTIVITY": "Supervision of, and Care for, Children 0-6 Years of Age, During the Day between 6am-9pm | Supervision of, and Care for, Children 2-6 Years of Age, During the Day between 6am-9pm",
                  "LICENSE_NUMBER": 2321004,
                  "APPLICATION_TYPE": "RENEW",
                  "APPLICATION_CREATED_DATE": "NaT",
                  "APPLICATION_REQUIREMENTS_COMPLETE": "2022-06-15 00:00:00",
                  "PAYMENT_DATE": "2022-06-23 00:00:00",
                  "CONDITIONAL_APPROVAL": "N",
                  "LICENSE_TERM_START_DATE": "2022-08-16 00:00:00",
                  "LICENSE_TERM_EXPIRATION_DATE": "2024-08-15 00:00:00",
                  "LICENSE_APPROVED_FOR_ISSUANCE": "2022-08-05 00:00:00",
                  "DATE_ISSUED": "2022-08-08 00:00:00",
                  "LICENSE_STATUS": "AAI",
                  "LICENSE_STATUS_CHANGE_DATE": "NaT",
                  "SSA": "nan",
                  "LATITUDE": 41.907156887,
                  "LONGITUDE": -87.649259472,
                  "LOCATION": "(41.9071568870692, -87.64925947162907)",
                  "TIF_Name": "['Red and Purple Modernization Phase One Project']",
                  "LICENSE_GROUP": "Permits",
                  "Com_Name": "[]",
                  "Chain": "0",
                  "_deepnote_index_column": 2
                },
                {
                  "ID": "2840733-20220511",
                  "LICENSE_ID": 2840733,
                  "ACCOUNT_NUMBER": 8970,
                  "SITE_NUMBER": 210,
                  "LEGAL_NAME": "COMPASS GROUP USA, INC.",
                  "DBA": "Compass Group USA, Inc.",
                  "ADDRESS": "1 N WACKER DR 2ND",
                  "CITY": "CHICAGO",
                  "STATE": "IL",
                  "ZIP_CODE": 60606,
                  "WARD": 42,
                  "PRECINCT": "nan",
                  "WARD_PRECINCT": "42-",
                  "POLICE_DISTRICT": "nan",
                  "LICENSE_CODE": 7013,
                  "LICENSE_DESCRIPTION": "Pop-Up Establishment Host - Tier II",
                  "BUSINESS_ACTIVITY_ID": "1025",
                  "BUSINESS_ACTIVITY": "Pop-Up Food Est. User Host - Tier II (Pre-Packaged Prepared Hot/Cold Food. Final Prep On-Site)",
                  "LICENSE_NUMBER": 2840733,
                  "APPLICATION_TYPE": "ISSUE",
                  "APPLICATION_CREATED_DATE": "2022-03-31 00:00:00",
                  "APPLICATION_REQUIREMENTS_COMPLETE": "2022-03-31 00:00:00",
                  "PAYMENT_DATE": "2022-04-01 00:00:00",
                  "CONDITIONAL_APPROVAL": "N",
                  "LICENSE_TERM_START_DATE": "2022-05-11 00:00:00",
                  "LICENSE_TERM_EXPIRATION_DATE": "2023-04-15 00:00:00",
                  "LICENSE_APPROVED_FOR_ISSUANCE": "2022-05-11 00:00:00",
                  "DATE_ISSUED": "2022-05-11 00:00:00",
                  "LICENSE_STATUS": "AAI",
                  "LICENSE_STATUS_CHANGE_DATE": "NaT",
                  "SSA": "nan",
                  "LATITUDE": 41.881951876,
                  "LONGITUDE": -87.636620349,
                  "LOCATION": "(41.88195187648601, -87.63662034940238)",
                  "TIF_Name": "['Red Line Extension (RLE)']",
                  "LICENSE_GROUP": "Special",
                  "Com_Name": "[]",
                  "Chain": "0",
                  "_deepnote_index_column": 3
                },
                {
                  "ID": "2840592-20220511",
                  "LICENSE_ID": 2840592,
                  "ACCOUNT_NUMBER": 392906,
                  "SITE_NUMBER": 25,
                  "LEGAL_NAME": "FOXTROT VENTURES, INCORPORATED",
                  "DBA": "Foxtrot",
                  "ADDRESS": "3649 N CLARK ST 1",
                  "CITY": "CHICAGO",
                  "STATE": "IL",
                  "ZIP_CODE": 60613,
                  "WARD": 44,
                  "PRECINCT": "nan",
                  "WARD_PRECINCT": "44-",
                  "POLICE_DISTRICT": "nan",
                  "LICENSE_CODE": 1475,
                  "LICENSE_DESCRIPTION": "Consumption on Premises - Incidental Activity",
                  "BUSINESS_ACTIVITY_ID": "638 | 767 | 904",
                  "BUSINESS_ACTIVITY": "Consumption of Liquor on Premises | Retail Sales of General Merchandise and Non-Perishable Food | Retail Sales of General Merchandise",
                  "LICENSE_NUMBER": 2840592,
                  "APPLICATION_TYPE": "ISSUE",
                  "APPLICATION_CREATED_DATE": "2022-03-30 00:00:00",
                  "APPLICATION_REQUIREMENTS_COMPLETE": "2022-04-01 00:00:00",
                  "PAYMENT_DATE": "2022-03-30 00:00:00",
                  "CONDITIONAL_APPROVAL": "N",
                  "LICENSE_TERM_START_DATE": "2022-05-11 00:00:00",
                  "LICENSE_TERM_EXPIRATION_DATE": "2024-05-15 00:00:00",
                  "LICENSE_APPROVED_FOR_ISSUANCE": "2022-05-11 00:00:00",
                  "DATE_ISSUED": "2022-05-11 00:00:00",
                  "LICENSE_STATUS": "AAI",
                  "LICENSE_STATUS_CHANGE_DATE": "NaT",
                  "SSA": 17,
                  "LATITUDE": 41.948480847,
                  "LONGITUDE": -87.657372263,
                  "LOCATION": "(41.94848084659548, -87.65737226343279)",
                  "TIF_Name": "['Red and Purple Modernization Phase One Project']",
                  "LICENSE_GROUP": "Special",
                  "Com_Name": "[]",
                  "Chain": "0",
                  "_deepnote_index_column": 4
                },
                {
                  "ID": "1304246-20210916",
                  "LICENSE_ID": 2799172,
                  "ACCOUNT_NUMBER": 256096,
                  "SITE_NUMBER": 1,
                  "LEGAL_NAME": "FOUR A'S FOOD INC",
                  "DBA": "FOUR A'S FOOD INC",
                  "ADDRESS": "603 S SACRAMENTO BLVD",
                  "CITY": "CHICAGO",
                  "STATE": "IL",
                  "ZIP_CODE": 60612,
                  "WARD": 28,
                  "PRECINCT": 41,
                  "WARD_PRECINCT": "28-41",
                  "POLICE_DISTRICT": 11,
                  "LICENSE_CODE": 1781,
                  "LICENSE_DESCRIPTION": "Tobacco",
                  "BUSINESS_ACTIVITY_ID": "763",
                  "BUSINESS_ACTIVITY": "Retail Sale of Tobacco",
                  "LICENSE_NUMBER": 1304246,
                  "APPLICATION_TYPE": "RENEW",
                  "APPLICATION_CREATED_DATE": "NaT",
                  "APPLICATION_REQUIREMENTS_COMPLETE": "2021-07-15 00:00:00",
                  "PAYMENT_DATE": "2021-09-07 00:00:00",
                  "CONDITIONAL_APPROVAL": "N",
                  "LICENSE_TERM_START_DATE": "2021-09-16 00:00:00",
                  "LICENSE_TERM_EXPIRATION_DATE": "2022-09-15 00:00:00",
                  "LICENSE_APPROVED_FOR_ISSUANCE": "2021-09-07 00:00:00",
                  "DATE_ISSUED": "2021-09-08 00:00:00",
                  "LICENSE_STATUS": "AAC",
                  "LICENSE_STATUS_CHANGE_DATE": "2022-05-11 00:00:00",
                  "SSA": "nan",
                  "LATITUDE": 41.873635148,
                  "LONGITUDE": -87.700862238,
                  "LOCATION": "(41.87363514754481, -87.70086223773322)",
                  "TIF_Name": "['Midwest']",
                  "LICENSE_GROUP": "Tabacco",
                  "Com_Name": "[]",
                  "Chain": "0",
                  "_deepnote_index_column": 5
                },
                {
                  "ID": "79075-20220616",
                  "LICENSE_ID": 2842384,
                  "ACCOUNT_NUMBER": 86474,
                  "SITE_NUMBER": 2,
                  "LEGAL_NAME": "THE WOODLAWN TAP, INC.",
                  "DBA": "THE WOODLAWN TAP",
                  "ADDRESS": "1168 -1172 E 55TH ST 1ST",
                  "CITY": "CHICAGO",
                  "STATE": "IL",
                  "ZIP_CODE": 60615,
                  "WARD": 5,
                  "PRECINCT": 3,
                  "WARD_PRECINCT": "5-3",
                  "POLICE_DISTRICT": 2,
                  "LICENSE_CODE": 1006,
                  "LICENSE_DESCRIPTION": "Retail Food Establishment",
                  "BUSINESS_ACTIVITY_ID": "775",
                  "BUSINESS_ACTIVITY": "Retail Sales of Perishable Foods",
                  "LICENSE_NUMBER": 79075,
                  "APPLICATION_TYPE": "RENEW",
                  "APPLICATION_CREATED_DATE": "NaT",
                  "APPLICATION_REQUIREMENTS_COMPLETE": "2022-04-15 00:00:00",
                  "PAYMENT_DATE": "2022-05-10 00:00:00",
                  "CONDITIONAL_APPROVAL": "N",
                  "LICENSE_TERM_START_DATE": "2022-06-16 00:00:00",
                  "LICENSE_TERM_EXPIRATION_DATE": "2024-06-15 00:00:00",
                  "LICENSE_APPROVED_FOR_ISSUANCE": "2022-05-10 00:00:00",
                  "DATE_ISSUED": "2022-05-11 00:00:00",
                  "LICENSE_STATUS": "AAI",
                  "LICENSE_STATUS_CHANGE_DATE": "NaT",
                  "SSA": "nan",
                  "LATITUDE": 41.795173028,
                  "LONGITUDE": -87.59685084,
                  "LOCATION": "(41.79517302761119, -87.59685083960005)",
                  "TIF_Name": "[]",
                  "LICENSE_GROUP": "Food",
                  "Com_Name": "['HYDE PARK']",
                  "Chain": "0",
                  "_deepnote_index_column": 6
                },
                {
                  "ID": "79076-20220616",
                  "LICENSE_ID": 2842383,
                  "ACCOUNT_NUMBER": 86474,
                  "SITE_NUMBER": 2,
                  "LEGAL_NAME": "THE WOODLAWN TAP, INC.",
                  "DBA": "THE WOODLAWN TAP",
                  "ADDRESS": "1168 -1172 E 55TH ST 1ST",
                  "CITY": "CHICAGO",
                  "STATE": "IL",
                  "ZIP_CODE": 60615,
                  "WARD": 5,
                  "PRECINCT": 3,
                  "WARD_PRECINCT": "5-3",
                  "POLICE_DISTRICT": 2,
                  "LICENSE_CODE": 1470,
                  "LICENSE_DESCRIPTION": "Tavern",
                  "BUSINESS_ACTIVITY_ID": "829",
                  "BUSINESS_ACTIVITY": "Tavern - Consumption of Liquor on Premise",
                  "LICENSE_NUMBER": 79076,
                  "APPLICATION_TYPE": "RENEW",
                  "APPLICATION_CREATED_DATE": "NaT",
                  "APPLICATION_REQUIREMENTS_COMPLETE": "2022-04-15 00:00:00",
                  "PAYMENT_DATE": "2022-05-10 00:00:00",
                  "CONDITIONAL_APPROVAL": "N",
                  "LICENSE_TERM_START_DATE": "2022-06-16 00:00:00",
                  "LICENSE_TERM_EXPIRATION_DATE": "2024-06-15 00:00:00",
                  "LICENSE_APPROVED_FOR_ISSUANCE": "2022-05-10 00:00:00",
                  "DATE_ISSUED": "2022-05-11 00:00:00",
                  "LICENSE_STATUS": "AAI",
                  "LICENSE_STATUS_CHANGE_DATE": "NaT",
                  "SSA": "nan",
                  "LATITUDE": 41.795173028,
                  "LONGITUDE": -87.59685084,
                  "LOCATION": "(41.79517302761119, -87.59685083960005)",
                  "TIF_Name": "[]",
                  "LICENSE_GROUP": "Food",
                  "Com_Name": "['HYDE PARK']",
                  "Chain": "0",
                  "_deepnote_index_column": 7
                },
                {
                  "ID": "34396-20200716",
                  "LICENSE_ID": 2728854,
                  "ACCOUNT_NUMBER": 14839,
                  "SITE_NUMBER": 1,
                  "LEGAL_NAME": "T AND T MEXICAN RESTAURANT, A CORPORATION",
                  "DBA": "T & T MEXICAN RESTAURANT",
                  "ADDRESS": "8929 S COMMERCIAL AVE",
                  "CITY": "CHICAGO",
                  "STATE": "IL",
                  "ZIP_CODE": 60617,
                  "WARD": 10,
                  "PRECINCT": 18,
                  "WARD_PRECINCT": "10-18",
                  "POLICE_DISTRICT": 4,
                  "LICENSE_CODE": 1006,
                  "LICENSE_DESCRIPTION": "Retail Food Establishment",
                  "BUSINESS_ACTIVITY_ID": "775",
                  "BUSINESS_ACTIVITY": "Retail Sales of Perishable Foods",
                  "LICENSE_NUMBER": 34396,
                  "APPLICATION_TYPE": "RENEW",
                  "APPLICATION_CREATED_DATE": "NaT",
                  "APPLICATION_REQUIREMENTS_COMPLETE": "2020-05-15 00:00:00",
                  "PAYMENT_DATE": "2020-07-30 00:00:00",
                  "CONDITIONAL_APPROVAL": "N",
                  "LICENSE_TERM_START_DATE": "2020-07-16 00:00:00",
                  "LICENSE_TERM_EXPIRATION_DATE": "2022-07-15 00:00:00",
                  "LICENSE_APPROVED_FOR_ISSUANCE": "2020-07-30 00:00:00",
                  "DATE_ISSUED": "2022-05-11 00:00:00",
                  "LICENSE_STATUS": "AAI",
                  "LICENSE_STATUS_CHANGE_DATE": "NaT",
                  "SSA": 5,
                  "LATITUDE": 41.73284708,
                  "LONGITUDE": -87.551176144,
                  "LOCATION": "(41.732847079711306, -87.55117614380433)",
                  "TIF_Name": "['Commercial Avenue']",
                  "LICENSE_GROUP": "Food",
                  "Com_Name": "[]",
                  "Chain": "0",
                  "_deepnote_index_column": 8
                },
                {
                  "ID": "61236-20220516",
                  "LICENSE_ID": 2837036,
                  "ACCOUNT_NUMBER": 86347,
                  "SITE_NUMBER": 1,
                  "LEGAL_NAME": "S&W CHICAGO, L.L.C.",
                  "DBA": "SMITH & WOLLENSKY",
                  "ADDRESS": "318 N STATE ST LL + 1",
                  "CITY": "CHICAGO",
                  "STATE": "IL",
                  "ZIP_CODE": 60654,
                  "WARD": 42,
                  "PRECINCT": 27,
                  "WARD_PRECINCT": "42-27",
                  "POLICE_DISTRICT": 18,
                  "LICENSE_CODE": 1475,
                  "LICENSE_DESCRIPTION": "Consumption on Premises - Incidental Activity",
                  "BUSINESS_ACTIVITY_ID": "638",
                  "BUSINESS_ACTIVITY": "Consumption of Liquor on Premises",
                  "LICENSE_NUMBER": 61236,
                  "APPLICATION_TYPE": "RENEW",
                  "APPLICATION_CREATED_DATE": "NaT",
                  "APPLICATION_REQUIREMENTS_COMPLETE": "2022-03-15 00:00:00",
                  "PAYMENT_DATE": "2022-07-14 00:00:00",
                  "CONDITIONAL_APPROVAL": "N",
                  "LICENSE_TERM_START_DATE": "2022-05-16 00:00:00",
                  "LICENSE_TERM_EXPIRATION_DATE": "2024-05-15 00:00:00",
                  "LICENSE_APPROVED_FOR_ISSUANCE": "2022-07-14 00:00:00",
                  "DATE_ISSUED": "2022-08-08 00:00:00",
                  "LICENSE_STATUS": "AAI",
                  "LICENSE_STATUS_CHANGE_DATE": "NaT",
                  "SSA": "nan",
                  "LATITUDE": 41.888040594,
                  "LONGITUDE": -87.628170663,
                  "LOCATION": "(41.88804059387871, -87.62817066340388)",
                  "TIF_Name": "[]",
                  "LICENSE_GROUP": "Special",
                  "Com_Name": "['NEAR NORTH SIDE']",
                  "Chain": "0",
                  "_deepnote_index_column": 9
                }
              ]
            },
            "text/plain": "                      ID  LICENSE_ID  ACCOUNT_NUMBER  SITE_NUMBER  \\\n0       1579838-20220616     2842924          289144            1   \n1       2857176-20220808     2857176          218538           96   \n2       2321004-20220816     2854072          355521           15   \n3       2840733-20220511     2840733            8970          210   \n4       2840592-20220511     2840592          392906           25   \n...                  ...         ...             ...          ...   \n255142  2245494-20150416     2381769          210128            6   \n255143  1044022-20031116     1420083          202719            1   \n255144    49248-20101016     2051426           64451            1   \n255145    49258-20031116     1444445           64451            1   \n255146  1953522-20131116     2285382           16296            2   \n\n                                               LEGAL_NAME  \\\n0                                   1021 MONTROSE, L.L.C.   \n1           LINCOLN SQUARE RAVENSWOOD CHAMBER OF COMMERCE   \n2                  BRIGHT HORIZONS CHILDREN'S CENTERS LLC   \n3                                 COMPASS GROUP USA, INC.   \n4                          FOXTROT VENTURES, INCORPORATED   \n...                                                   ...   \n255142  ANN & ROBERT H. LURIE CHILDREN'S HOSPITAL OF C...   \n255143                                 LIQUOR DEPOT, INC.   \n255144                          CONGRESS PLAZA HOTEL, LLC   \n255145                          CONGRESS PLAZA HOTEL, LLC   \n255146                                 GUSTO MEXICANO INC   \n\n                                                      DBA  \\\n0                                               Driftwood   \n1           LINCOLN SQUARE RAVENSWOOD CHAMBER OF COMMERCE   \n2                             Bright Horizons at Clybourn   \n3                                 Compass Group USA, Inc.   \n4                                                 Foxtrot   \n...                                                   ...   \n255142  ANN & ROBERT H. LURIE CHILDREN'S HOSPITAL OF C...   \n255143                              LYON'S BEVERAGE DEPOT   \n255144                                 THE CONGRESS HOTEL   \n255145                                 THE CONGRESS HOTEL   \n255146                                    EL CID TACOS #2   \n\n                               ADDRESS     CITY STATE  ZIP_CODE  ...  \\\n0                  1021 W MONTROSE AVE  CHICAGO    IL     60613  ...   \n1       4505 N LINCOLN AVE  STOREFRONT  CHICAGO    IL     60625  ...   \n2                 1425 N DAYTON ST 1ST  CHICAGO    IL     60642  ...   \n3                    1 N WACKER DR 2ND  CHICAGO    IL     60606  ...   \n4                    3649 N CLARK ST 1  CHICAGO    IL     60613  ...   \n...                                ...      ...   ...       ...  ...   \n255142          680 N LAKE SHORE DR 16  CHICAGO    IL     60611  ...   \n255143                 5114 S KNOX AVE  CHICAGO    IL     60632  ...   \n255144              520 S MICHIGAN AVE  CHICAGO    IL     60605  ...   \n255145              520 S MICHIGAN AVE  CHICAGO    IL     60605  ...   \n255146         2645 N KEDZIE AVE 1 & 2  CHICAGO    IL     60647  ...   \n\n        LICENSE_STATUS  LICENSE_STATUS_CHANGE_DATE   SSA   LATITUDE  \\\n0                  AAI                         NaT  34.0  41.961655   \n1                  AAI                         NaT  21.0  41.963424   \n2                  AAI                         NaT   NaN  41.907157   \n3                  AAI                         NaT   NaN  41.881952   \n4                  AAI                         NaT  17.0  41.948481   \n...                ...                         ...   ...        ...   \n255142             AAI                         NaT   NaN  41.894798   \n255143             AAI                         NaT   NaN  41.799878   \n255144             AAI                         NaT   NaN  41.875260   \n255145             AAI                         NaT   NaN  41.875260   \n255146             AAI                         NaT   NaN  41.929763   \n\n        LONGITUDE                                  LOCATION  \\\n0      -87.655650  (41.961655308981946, -87.65564994485091)   \n1      -87.684991  (41.963424053299256, -87.68499078804334)   \n2      -87.649259    (41.9071568870692, -87.64925947162907)   \n3      -87.636620   (41.88195187648601, -87.63662034940238)   \n4      -87.657372   (41.94848084659548, -87.65737226343279)   \n...           ...                                       ...   \n255142 -87.615867  (41.894798370283404, -87.61586664567874)   \n255143 -87.739421  (41.799877878563336, -87.73942146302164)   \n255144 -87.624397    (41.87525982581901, -87.6243966738356)   \n255145 -87.624397    (41.87525982581901, -87.6243966738356)   \n255146 -87.707223   (41.92976286483289, -87.70722323405842)   \n\n                                                 TIF_Name LICENSE_GROUP  \\\n0                                         ['Wilson Yard']          Food   \n1                                                      []       Special   \n2       ['Red and Purple Modernization Phase One Proje...       Permits   \n3                            ['Red Line Extension (RLE)']       Special   \n4       ['Red and Purple Modernization Phase One Proje...       Special   \n...                                                   ...           ...   \n255142                                                 []       Special   \n255143                     ['Midway Industrial Corridor']        Retail   \n255144                       ['Red Line Extension (RLE)']          Food   \n255145                       ['Red Line Extension (RLE)']       Special   \n255146                                                 []        Retail   \n\n                   Com_Name Chain  \n0                        []     0  \n1        ['LINCOLN SQUARE']     0  \n2                        []     0  \n3                        []     0  \n4                        []     0  \n...                     ...   ...  \n255142  ['NEAR NORTH SIDE']     0  \n255143                   []     0  \n255144                   []     0  \n255145                   []     0  \n255146     ['LOGAN SQUARE']     0  \n\n[255147 rows x 38 columns]",
            "text/html": "<div>\n<style scoped>\n    .dataframe tbody tr th:only-of-type {\n        vertical-align: middle;\n    }\n\n    .dataframe tbody tr th {\n        vertical-align: top;\n    }\n\n    .dataframe thead th {\n        text-align: right;\n    }\n</style>\n<table border=\"1\" class=\"dataframe\">\n  <thead>\n    <tr style=\"text-align: right;\">\n      <th></th>\n      <th>ID</th>\n      <th>LICENSE_ID</th>\n      <th>ACCOUNT_NUMBER</th>\n      <th>SITE_NUMBER</th>\n      <th>LEGAL_NAME</th>\n      <th>DBA</th>\n      <th>ADDRESS</th>\n      <th>CITY</th>\n      <th>STATE</th>\n      <th>ZIP_CODE</th>\n      <th>...</th>\n      <th>LICENSE_STATUS</th>\n      <th>LICENSE_STATUS_CHANGE_DATE</th>\n      <th>SSA</th>\n      <th>LATITUDE</th>\n      <th>LONGITUDE</th>\n      <th>LOCATION</th>\n      <th>TIF_Name</th>\n      <th>LICENSE_GROUP</th>\n      <th>Com_Name</th>\n      <th>Chain</th>\n    </tr>\n  </thead>\n  <tbody>\n    <tr>\n      <th>0</th>\n      <td>1579838-20220616</td>\n      <td>2842924</td>\n      <td>289144</td>\n      <td>1</td>\n      <td>1021 MONTROSE, L.L.C.</td>\n      <td>Driftwood</td>\n      <td>1021 W MONTROSE AVE</td>\n      <td>CHICAGO</td>\n      <td>IL</td>\n      <td>60613</td>\n      <td>...</td>\n      <td>AAI</td>\n      <td>NaT</td>\n      <td>34.0</td>\n      <td>41.961655</td>\n      <td>-87.655650</td>\n      <td>(41.961655308981946, -87.65564994485091)</td>\n      <td>['Wilson Yard']</td>\n      <td>Food</td>\n      <td>[]</td>\n      <td>0</td>\n    </tr>\n    <tr>\n      <th>1</th>\n      <td>2857176-20220808</td>\n      <td>2857176</td>\n      <td>218538</td>\n      <td>96</td>\n      <td>LINCOLN SQUARE RAVENSWOOD CHAMBER OF COMMERCE</td>\n      <td>LINCOLN SQUARE RAVENSWOOD CHAMBER OF COMMERCE</td>\n      <td>4505 N LINCOLN AVE  STOREFRONT</td>\n      <td>CHICAGO</td>\n      <td>IL</td>\n      <td>60625</td>\n      <td>...</td>\n      <td>AAI</td>\n      <td>NaT</td>\n      <td>21.0</td>\n      <td>41.963424</td>\n      <td>-87.684991</td>\n      <td>(41.963424053299256, -87.68499078804334)</td>\n      <td>[]</td>\n      <td>Special</td>\n      <td>['LINCOLN SQUARE']</td>\n      <td>0</td>\n    </tr>\n    <tr>\n      <th>2</th>\n      <td>2321004-20220816</td>\n      <td>2854072</td>\n      <td>355521</td>\n      <td>15</td>\n      <td>BRIGHT HORIZONS CHILDREN'S CENTERS LLC</td>\n      <td>Bright Horizons at Clybourn</td>\n      <td>1425 N DAYTON ST 1ST</td>\n      <td>CHICAGO</td>\n      <td>IL</td>\n      <td>60642</td>\n      <td>...</td>\n      <td>AAI</td>\n      <td>NaT</td>\n      <td>NaN</td>\n      <td>41.907157</td>\n      <td>-87.649259</td>\n      <td>(41.9071568870692, -87.64925947162907)</td>\n      <td>['Red and Purple Modernization Phase One Proje...</td>\n      <td>Permits</td>\n      <td>[]</td>\n      <td>0</td>\n    </tr>\n    <tr>\n      <th>3</th>\n      <td>2840733-20220511</td>\n      <td>2840733</td>\n      <td>8970</td>\n      <td>210</td>\n      <td>COMPASS GROUP USA, INC.</td>\n      <td>Compass Group USA, Inc.</td>\n      <td>1 N WACKER DR 2ND</td>\n      <td>CHICAGO</td>\n      <td>IL</td>\n      <td>60606</td>\n      <td>...</td>\n      <td>AAI</td>\n      <td>NaT</td>\n      <td>NaN</td>\n      <td>41.881952</td>\n      <td>-87.636620</td>\n      <td>(41.88195187648601, -87.63662034940238)</td>\n      <td>['Red Line Extension (RLE)']</td>\n      <td>Special</td>\n      <td>[]</td>\n      <td>0</td>\n    </tr>\n    <tr>\n      <th>4</th>\n      <td>2840592-20220511</td>\n      <td>2840592</td>\n      <td>392906</td>\n      <td>25</td>\n      <td>FOXTROT VENTURES, INCORPORATED</td>\n      <td>Foxtrot</td>\n      <td>3649 N CLARK ST 1</td>\n      <td>CHICAGO</td>\n      <td>IL</td>\n      <td>60613</td>\n      <td>...</td>\n      <td>AAI</td>\n      <td>NaT</td>\n      <td>17.0</td>\n      <td>41.948481</td>\n      <td>-87.657372</td>\n      <td>(41.94848084659548, -87.65737226343279)</td>\n      <td>['Red and Purple Modernization Phase One Proje...</td>\n      <td>Special</td>\n      <td>[]</td>\n      <td>0</td>\n    </tr>\n    <tr>\n      <th>...</th>\n      <td>...</td>\n      <td>...</td>\n      <td>...</td>\n      <td>...</td>\n      <td>...</td>\n      <td>...</td>\n      <td>...</td>\n      <td>...</td>\n      <td>...</td>\n      <td>...</td>\n      <td>...</td>\n      <td>...</td>\n      <td>...</td>\n      <td>...</td>\n      <td>...</td>\n      <td>...</td>\n      <td>...</td>\n      <td>...</td>\n      <td>...</td>\n      <td>...</td>\n      <td>...</td>\n    </tr>\n    <tr>\n      <th>255142</th>\n      <td>2245494-20150416</td>\n      <td>2381769</td>\n      <td>210128</td>\n      <td>6</td>\n      <td>ANN &amp; ROBERT H. LURIE CHILDREN'S HOSPITAL OF C...</td>\n      <td>ANN &amp; ROBERT H. LURIE CHILDREN'S HOSPITAL OF C...</td>\n      <td>680 N LAKE SHORE DR 16</td>\n      <td>CHICAGO</td>\n      <td>IL</td>\n      <td>60611</td>\n      <td>...</td>\n      <td>AAI</td>\n      <td>NaT</td>\n      <td>NaN</td>\n      <td>41.894798</td>\n      <td>-87.615867</td>\n      <td>(41.894798370283404, -87.61586664567874)</td>\n      <td>[]</td>\n      <td>Special</td>\n      <td>['NEAR NORTH SIDE']</td>\n      <td>0</td>\n    </tr>\n    <tr>\n      <th>255143</th>\n      <td>1044022-20031116</td>\n      <td>1420083</td>\n      <td>202719</td>\n      <td>1</td>\n      <td>LIQUOR DEPOT, INC.</td>\n      <td>LYON'S BEVERAGE DEPOT</td>\n      <td>5114 S KNOX AVE</td>\n      <td>CHICAGO</td>\n      <td>IL</td>\n      <td>60632</td>\n      <td>...</td>\n      <td>AAI</td>\n      <td>NaT</td>\n      <td>NaN</td>\n      <td>41.799878</td>\n      <td>-87.739421</td>\n      <td>(41.799877878563336, -87.73942146302164)</td>\n      <td>['Midway Industrial Corridor']</td>\n      <td>Retail</td>\n      <td>[]</td>\n      <td>0</td>\n    </tr>\n    <tr>\n      <th>255144</th>\n      <td>49248-20101016</td>\n      <td>2051426</td>\n      <td>64451</td>\n      <td>1</td>\n      <td>CONGRESS PLAZA HOTEL, LLC</td>\n      <td>THE CONGRESS HOTEL</td>\n      <td>520 S MICHIGAN AVE</td>\n      <td>CHICAGO</td>\n      <td>IL</td>\n      <td>60605</td>\n      <td>...</td>\n      <td>AAI</td>\n      <td>NaT</td>\n      <td>NaN</td>\n      <td>41.875260</td>\n      <td>-87.624397</td>\n      <td>(41.87525982581901, -87.6243966738356)</td>\n      <td>['Red Line Extension (RLE)']</td>\n      <td>Food</td>\n      <td>[]</td>\n      <td>0</td>\n    </tr>\n    <tr>\n      <th>255145</th>\n      <td>49258-20031116</td>\n      <td>1444445</td>\n      <td>64451</td>\n      <td>1</td>\n      <td>CONGRESS PLAZA HOTEL, LLC</td>\n      <td>THE CONGRESS HOTEL</td>\n      <td>520 S MICHIGAN AVE</td>\n      <td>CHICAGO</td>\n      <td>IL</td>\n      <td>60605</td>\n      <td>...</td>\n      <td>AAI</td>\n      <td>NaT</td>\n      <td>NaN</td>\n      <td>41.875260</td>\n      <td>-87.624397</td>\n      <td>(41.87525982581901, -87.6243966738356)</td>\n      <td>['Red Line Extension (RLE)']</td>\n      <td>Special</td>\n      <td>[]</td>\n      <td>0</td>\n    </tr>\n    <tr>\n      <th>255146</th>\n      <td>1953522-20131116</td>\n      <td>2285382</td>\n      <td>16296</td>\n      <td>2</td>\n      <td>GUSTO MEXICANO INC</td>\n      <td>EL CID TACOS #2</td>\n      <td>2645 N KEDZIE AVE 1 &amp; 2</td>\n      <td>CHICAGO</td>\n      <td>IL</td>\n      <td>60647</td>\n      <td>...</td>\n      <td>AAI</td>\n      <td>NaT</td>\n      <td>NaN</td>\n      <td>41.929763</td>\n      <td>-87.707223</td>\n      <td>(41.92976286483289, -87.70722323405842)</td>\n      <td>[]</td>\n      <td>Retail</td>\n      <td>['LOGAN SQUARE']</td>\n      <td>0</td>\n    </tr>\n  </tbody>\n</table>\n<p>255147 rows × 38 columns</p>\n</div>"
          },
          "metadata": {}
        }
      ],
      "outputs_reference": null,
      "execution_count": null,
      "block_group": "f59eda45979b44f58a017dddcfc91b4f",
      "content_dependencies": null
    },
    {
      "cell_type": "code",
      "source": "no_chains = _deepnote_execute_sql('SELECT df_8.* \\nFROM df_8, no_chains_legal\\nwhere df_8.LEGAL_NAME = no_chains_legal.LEGAL_NAME;', 'SQL_DEEPNOTE_DATAFRAME_SQL', audit_sql_comment='', sql_cache_mode='cache_disabled')\nno_chains",
      "metadata": {
        "source_hash": null,
        "execution_start": 1712774019254,
        "execution_millis": 3482,
        "sql_integration_id": "deepnote-dataframe-sql",
        "deepnote_variable_name": "no_chains",
        "deepnote_to_be_reexecuted": false,
        "cell_id": "a04f66a945d242c5b24c218a13f66f3b",
        "deepnote_cell_type": "sql",
        "deepnote_sql_source": "SELECT df_8.* \nFROM df_8, no_chains_legal\nwhere df_8.LEGAL_NAME = no_chains_legal.LEGAL_NAME;"
      },
      "outputs": [
        {
          "output_type": "execute_result",
          "execution_count": 6,
          "data": {
            "application/vnd.deepnote.dataframe.v3+json": {
              "column_count": 38,
              "row_count": 585312,
              "columns": [
                {
                  "name": "ID",
                  "dtype": "object"
                },
                {
                  "name": "LICENSE_ID",
                  "dtype": "int64"
                },
                {
                  "name": "ACCOUNT_NUMBER",
                  "dtype": "int64"
                },
                {
                  "name": "SITE_NUMBER",
                  "dtype": "int64"
                },
                {
                  "name": "LEGAL_NAME",
                  "dtype": "object"
                },
                {
                  "name": "DBA",
                  "dtype": "object"
                },
                {
                  "name": "ADDRESS",
                  "dtype": "object"
                },
                {
                  "name": "CITY",
                  "dtype": "object"
                },
                {
                  "name": "STATE",
                  "dtype": "object"
                },
                {
                  "name": "ZIP_CODE",
                  "dtype": "int64"
                },
                {
                  "name": "WARD",
                  "dtype": "float64"
                },
                {
                  "name": "PRECINCT",
                  "dtype": "float64"
                },
                {
                  "name": "WARD_PRECINCT",
                  "dtype": "object"
                },
                {
                  "name": "POLICE_DISTRICT",
                  "dtype": "float64"
                },
                {
                  "name": "LICENSE_CODE",
                  "dtype": "int64"
                },
                {
                  "name": "LICENSE_DESCRIPTION",
                  "dtype": "object"
                },
                {
                  "name": "BUSINESS_ACTIVITY_ID",
                  "dtype": "object"
                },
                {
                  "name": "BUSINESS_ACTIVITY",
                  "dtype": "object"
                },
                {
                  "name": "LICENSE_NUMBER",
                  "dtype": "int64"
                },
                {
                  "name": "APPLICATION_TYPE",
                  "dtype": "object"
                },
                {
                  "name": "APPLICATION_CREATED_DATE",
                  "dtype": "datetime64[us]"
                },
                {
                  "name": "APPLICATION_REQUIREMENTS_COMPLETE",
                  "dtype": "datetime64[us]"
                },
                {
                  "name": "PAYMENT_DATE",
                  "dtype": "datetime64[us]"
                },
                {
                  "name": "CONDITIONAL_APPROVAL",
                  "dtype": "object"
                },
                {
                  "name": "LICENSE_TERM_START_DATE",
                  "dtype": "datetime64[us]"
                },
                {
                  "name": "LICENSE_TERM_EXPIRATION_DATE",
                  "dtype": "datetime64[us]"
                },
                {
                  "name": "LICENSE_APPROVED_FOR_ISSUANCE",
                  "dtype": "datetime64[us]"
                },
                {
                  "name": "DATE_ISSUED",
                  "dtype": "datetime64[us]"
                },
                {
                  "name": "LICENSE_STATUS",
                  "dtype": "object"
                },
                {
                  "name": "LICENSE_STATUS_CHANGE_DATE",
                  "dtype": "datetime64[us]"
                },
                {
                  "name": "SSA",
                  "dtype": "float64"
                },
                {
                  "name": "LATITUDE",
                  "dtype": "float64"
                },
                {
                  "name": "LONGITUDE",
                  "dtype": "float64"
                },
                {
                  "name": "LOCATION",
                  "dtype": "object"
                },
                {
                  "name": "TIF_Name",
                  "dtype": "object"
                },
                {
                  "name": "LICENSE_GROUP",
                  "dtype": "object"
                },
                {
                  "name": "Com_Name",
                  "dtype": "object"
                },
                {
                  "name": "Chain",
                  "dtype": "object"
                },
                {
                  "name": "_deepnote_index_column",
                  "dtype": "int64"
                }
              ],
              "rows": [
                {
                  "ID": "2652692-20201217",
                  "LICENSE_ID": 2652692,
                  "ACCOUNT_NUMBER": 456833,
                  "SITE_NUMBER": 1,
                  "LEGAL_NAME": "JYM INVESTMENTS LLC",
                  "DBA": "WINGMAN",
                  "ADDRESS": "2321 W HOWARD ST 1ST",
                  "CITY": "CHICAGO",
                  "STATE": "IL",
                  "ZIP_CODE": 60645,
                  "WARD": 49,
                  "PRECINCT": 21,
                  "WARD_PRECINCT": "49-21",
                  "POLICE_DISTRICT": 24,
                  "LICENSE_CODE": 1006,
                  "LICENSE_DESCRIPTION": "Retail Food Establishment",
                  "BUSINESS_ACTIVITY_ID": "781",
                  "BUSINESS_ACTIVITY": "Sale of Food Prepared Onsite With Dining Area",
                  "LICENSE_NUMBER": 2652692,
                  "APPLICATION_TYPE": "ISSUE",
                  "APPLICATION_CREATED_DATE": "2019-03-01 00:00:00",
                  "APPLICATION_REQUIREMENTS_COMPLETE": "2020-11-18 00:00:00",
                  "PAYMENT_DATE": "2020-11-19 00:00:00",
                  "CONDITIONAL_APPROVAL": "N",
                  "LICENSE_TERM_START_DATE": "2020-12-17 00:00:00",
                  "LICENSE_TERM_EXPIRATION_DATE": "2023-01-15 00:00:00",
                  "LICENSE_APPROVED_FOR_ISSUANCE": "2020-12-16 00:00:00",
                  "DATE_ISSUED": "2020-12-17 00:00:00",
                  "LICENSE_STATUS": "AAC",
                  "LICENSE_STATUS_CHANGE_DATE": "2022-08-08 00:00:00",
                  "SSA": "nan",
                  "LATITUDE": 42.019413271,
                  "LONGITUDE": -87.688628188,
                  "LOCATION": "(42.019413270594214, -87.68862818775574)",
                  "TIF_Name": "[]",
                  "LICENSE_GROUP": "Food",
                  "Com_Name": "['WEST RIDGE']",
                  "Chain": "0",
                  "_deepnote_index_column": 0
                },
                {
                  "ID": "2647849-20200916",
                  "LICENSE_ID": 2739788,
                  "ACCOUNT_NUMBER": 64603,
                  "SITE_NUMBER": 7,
                  "LEGAL_NAME": "LEOPARDO COMPANIES INC.",
                  "DBA": "Leopardo Companies Inc",
                  "ADDRESS": "210 N CARPENTER ST 3RD FLOOR",
                  "CITY": "CHICAGO",
                  "STATE": "IL",
                  "ZIP_CODE": 60607,
                  "WARD": 27,
                  "PRECINCT": "nan",
                  "WARD_PRECINCT": "27-",
                  "POLICE_DISTRICT": "nan",
                  "LICENSE_CODE": 1010,
                  "LICENSE_DESCRIPTION": "Limited Business License",
                  "BUSINESS_ACTIVITY_ID": "602",
                  "BUSINESS_ACTIVITY": "Administrative Commercial Office",
                  "LICENSE_NUMBER": 2647849,
                  "APPLICATION_TYPE": "RENEW",
                  "APPLICATION_CREATED_DATE": "NaT",
                  "APPLICATION_REQUIREMENTS_COMPLETE": "2020-07-15 00:00:00",
                  "PAYMENT_DATE": "2020-08-20 00:00:00",
                  "CONDITIONAL_APPROVAL": "N",
                  "LICENSE_TERM_START_DATE": "2020-09-16 00:00:00",
                  "LICENSE_TERM_EXPIRATION_DATE": "2022-09-15 00:00:00",
                  "LICENSE_APPROVED_FOR_ISSUANCE": "2020-08-20 00:00:00",
                  "DATE_ISSUED": "2020-08-21 00:00:00",
                  "LICENSE_STATUS": "AAC",
                  "LICENSE_STATUS_CHANGE_DATE": "2022-08-08 00:00:00",
                  "SSA": "nan",
                  "LATITUDE": 41.885944958,
                  "LONGITUDE": -87.653461783,
                  "LOCATION": "(41.88594495760403, -87.65346178255953)",
                  "TIF_Name": "['Kinzie Industrial Conservation Area']",
                  "LICENSE_GROUP": "Business",
                  "Com_Name": "[]",
                  "Chain": "0",
                  "_deepnote_index_column": 1
                },
                {
                  "ID": "1899783-20090316",
                  "LICENSE_ID": 1953094,
                  "ACCOUNT_NUMBER": 330192,
                  "SITE_NUMBER": 1,
                  "LEGAL_NAME": "ELIAS A. KANELLOPOULOS",
                  "DBA": "RITZ CLEANERS",
                  "ADDRESS": "200 E DELAWARE PL 1",
                  "CITY": "CHICAGO",
                  "STATE": "IL",
                  "ZIP_CODE": 60611,
                  "WARD": 2,
                  "PRECINCT": 13,
                  "WARD_PRECINCT": "2-13",
                  "POLICE_DISTRICT": 18,
                  "LICENSE_CODE": 1010,
                  "LICENSE_DESCRIPTION": "Limited Business License",
                  "BUSINESS_ACTIVITY_ID": "None",
                  "BUSINESS_ACTIVITY": "None",
                  "LICENSE_NUMBER": 1899783,
                  "APPLICATION_TYPE": "RENEW",
                  "APPLICATION_CREATED_DATE": "NaT",
                  "APPLICATION_REQUIREMENTS_COMPLETE": "2009-01-15 00:00:00",
                  "PAYMENT_DATE": "2009-02-20 00:00:00",
                  "CONDITIONAL_APPROVAL": "N",
                  "LICENSE_TERM_START_DATE": "2009-03-16 00:00:00",
                  "LICENSE_TERM_EXPIRATION_DATE": "2011-03-15 00:00:00",
                  "LICENSE_APPROVED_FOR_ISSUANCE": "2009-02-20 00:00:00",
                  "DATE_ISSUED": "2009-02-23 00:00:00",
                  "LICENSE_STATUS": "AAI",
                  "LICENSE_STATUS_CHANGE_DATE": "NaT",
                  "SSA": "nan",
                  "LATITUDE": 41.899354739,
                  "LONGITUDE": -87.621791302,
                  "LOCATION": "(41.89935473944382, -87.621791301926)",
                  "TIF_Name": "[]",
                  "LICENSE_GROUP": "Business",
                  "Com_Name": "['NEAR NORTH SIDE']",
                  "Chain": "0",
                  "_deepnote_index_column": 2
                },
                {
                  "ID": "2846132-20220511",
                  "LICENSE_ID": 2846132,
                  "ACCOUNT_NUMBER": 485647,
                  "SITE_NUMBER": 1,
                  "LEGAL_NAME": "Silverwolf Productions LLC",
                  "DBA": "Silverwolf Productions LLC",
                  "ADDRESS": "2673 N GREENVIEW AVE  UNIT H",
                  "CITY": "CHICAGO",
                  "STATE": "IL",
                  "ZIP_CODE": 60614,
                  "WARD": 32,
                  "PRECINCT": "nan",
                  "WARD_PRECINCT": "32-",
                  "POLICE_DISTRICT": "nan",
                  "LICENSE_CODE": 4404,
                  "LICENSE_DESCRIPTION": "Regulated Business License",
                  "BUSINESS_ACTIVITY_ID": "665 | 667 | 702 | 719",
                  "BUSINESS_ACTIVITY": "Freelance Writer (Home Based Business) | Graphic Design (Home Based Business) | Marketing / Advertising / Public Relations (Home Based Business) | Professional Consulting (Home Based Business)",
                  "LICENSE_NUMBER": 2846132,
                  "APPLICATION_TYPE": "ISSUE",
                  "APPLICATION_CREATED_DATE": "2022-05-10 00:00:00",
                  "APPLICATION_REQUIREMENTS_COMPLETE": "2022-05-10 00:00:00",
                  "PAYMENT_DATE": "2022-05-10 00:00:00",
                  "CONDITIONAL_APPROVAL": "N",
                  "LICENSE_TERM_START_DATE": "2022-05-11 00:00:00",
                  "LICENSE_TERM_EXPIRATION_DATE": "2024-05-15 00:00:00",
                  "LICENSE_APPROVED_FOR_ISSUANCE": "2022-05-10 00:00:00",
                  "DATE_ISSUED": "2022-05-11 00:00:00",
                  "LICENSE_STATUS": "AAI",
                  "LICENSE_STATUS_CHANGE_DATE": "NaT",
                  "SSA": "nan",
                  "LATITUDE": 41.930322481,
                  "LONGITUDE": -87.665386892,
                  "LOCATION": "(41.93032248132474, -87.66538689175445)",
                  "TIF_Name": "[]",
                  "LICENSE_GROUP": "Business",
                  "Com_Name": "['LINCOLN PARK']",
                  "Chain": "0",
                  "_deepnote_index_column": 3
                },
                {
                  "ID": "1899783-20110316",
                  "LICENSE_ID": 2078221,
                  "ACCOUNT_NUMBER": 330192,
                  "SITE_NUMBER": 1,
                  "LEGAL_NAME": "ELIAS A. KANELLOPOULOS",
                  "DBA": "RITZ CLEANERS",
                  "ADDRESS": "200 E DELAWARE PL 1",
                  "CITY": "CHICAGO",
                  "STATE": "IL",
                  "ZIP_CODE": 60611,
                  "WARD": 2,
                  "PRECINCT": 13,
                  "WARD_PRECINCT": "2-13",
                  "POLICE_DISTRICT": 18,
                  "LICENSE_CODE": 1010,
                  "LICENSE_DESCRIPTION": "Limited Business License",
                  "BUSINESS_ACTIVITY_ID": "None",
                  "BUSINESS_ACTIVITY": "None",
                  "LICENSE_NUMBER": 1899783,
                  "APPLICATION_TYPE": "RENEW",
                  "APPLICATION_CREATED_DATE": "NaT",
                  "APPLICATION_REQUIREMENTS_COMPLETE": "2011-01-14 00:00:00",
                  "PAYMENT_DATE": "2011-02-14 00:00:00",
                  "CONDITIONAL_APPROVAL": "N",
                  "LICENSE_TERM_START_DATE": "2011-03-16 00:00:00",
                  "LICENSE_TERM_EXPIRATION_DATE": "2013-03-15 00:00:00",
                  "LICENSE_APPROVED_FOR_ISSUANCE": "2011-02-14 00:00:00",
                  "DATE_ISSUED": "2011-02-15 00:00:00",
                  "LICENSE_STATUS": "AAI",
                  "LICENSE_STATUS_CHANGE_DATE": "NaT",
                  "SSA": "nan",
                  "LATITUDE": 41.899354739,
                  "LONGITUDE": -87.621791302,
                  "LOCATION": "(41.89935473944382, -87.621791301926)",
                  "TIF_Name": "[]",
                  "LICENSE_GROUP": "Business",
                  "Com_Name": "['NEAR NORTH SIDE']",
                  "Chain": "0",
                  "_deepnote_index_column": 4
                },
                {
                  "ID": "2863350-20220808",
                  "LICENSE_ID": 2863350,
                  "ACCOUNT_NUMBER": 488437,
                  "SITE_NUMBER": 1,
                  "LEGAL_NAME": "DOMONANT MEDIA LLC",
                  "DBA": "DOMONANT MEDIA",
                  "ADDRESS": "1200 W 35TH ST 3RD 3A3130",
                  "CITY": "CHICAGO",
                  "STATE": "IL",
                  "ZIP_CODE": 60609,
                  "WARD": 11,
                  "PRECINCT": 11,
                  "WARD_PRECINCT": "11-11",
                  "POLICE_DISTRICT": 9,
                  "LICENSE_CODE": 1010,
                  "LICENSE_DESCRIPTION": "Limited Business License",
                  "BUSINESS_ACTIVITY_ID": "476 | 1089",
                  "BUSINESS_ACTIVITY": "Photography Services | Multi-Media Services",
                  "LICENSE_NUMBER": 2863350,
                  "APPLICATION_TYPE": "ISSUE",
                  "APPLICATION_CREATED_DATE": "2022-08-08 00:00:00",
                  "APPLICATION_REQUIREMENTS_COMPLETE": "2022-08-08 00:00:00",
                  "PAYMENT_DATE": "2022-08-08 00:00:00",
                  "CONDITIONAL_APPROVAL": "N",
                  "LICENSE_TERM_START_DATE": "2022-08-08 00:00:00",
                  "LICENSE_TERM_EXPIRATION_DATE": "2024-08-15 00:00:00",
                  "LICENSE_APPROVED_FOR_ISSUANCE": "2022-08-08 00:00:00",
                  "DATE_ISSUED": "2022-08-08 00:00:00",
                  "LICENSE_STATUS": "AAI",
                  "LICENSE_STATUS_CHANGE_DATE": "NaT",
                  "SSA": "nan",
                  "LATITUDE": 41.830728826,
                  "LONGITUDE": -87.655813252,
                  "LOCATION": "(41.830728825995436, -87.65581325202945)",
                  "TIF_Name": "['35th/Halsted']",
                  "LICENSE_GROUP": "Business",
                  "Com_Name": "[]",
                  "Chain": "0",
                  "_deepnote_index_column": 5
                },
                {
                  "ID": "2818513-20220616",
                  "LICENSE_ID": 2844542,
                  "ACCOUNT_NUMBER": 427773,
                  "SITE_NUMBER": 2,
                  "LEGAL_NAME": "MOVING UNITS INC.",
                  "DBA": "MOVING UNITS INC.",
                  "ADDRESS": "4432 N KEDZIE AVE  104",
                  "CITY": "CHICAGO",
                  "STATE": "IL",
                  "ZIP_CODE": 60625,
                  "WARD": 33,
                  "PRECINCT": "nan",
                  "WARD_PRECINCT": "33-",
                  "POLICE_DISTRICT": "nan",
                  "LICENSE_CODE": 1010,
                  "LICENSE_DESCRIPTION": "Limited Business License",
                  "BUSINESS_ACTIVITY_ID": "668 | 904",
                  "BUSINESS_ACTIVITY": "Graphic Design and Consultation | Retail Sales of General Merchandise",
                  "LICENSE_NUMBER": 2818513,
                  "APPLICATION_TYPE": "RENEW",
                  "APPLICATION_CREATED_DATE": "NaT",
                  "APPLICATION_REQUIREMENTS_COMPLETE": "2022-04-15 00:00:00",
                  "PAYMENT_DATE": "2022-05-10 00:00:00",
                  "CONDITIONAL_APPROVAL": "N",
                  "LICENSE_TERM_START_DATE": "2022-06-16 00:00:00",
                  "LICENSE_TERM_EXPIRATION_DATE": "2024-06-15 00:00:00",
                  "LICENSE_APPROVED_FOR_ISSUANCE": "2022-05-10 00:00:00",
                  "DATE_ISSUED": "2022-05-11 00:00:00",
                  "LICENSE_STATUS": "AAI",
                  "LICENSE_STATUS_CHANGE_DATE": "NaT",
                  "SSA": 60,
                  "LATITUDE": 41.96218474,
                  "LONGITUDE": -87.708422754,
                  "LOCATION": "(41.962184740105535, -87.70842275378467)",
                  "TIF_Name": "[]",
                  "LICENSE_GROUP": "Business",
                  "Com_Name": "['ALBANY PARK']",
                  "Chain": "0",
                  "_deepnote_index_column": 6
                },
                {
                  "ID": "2808785-20220511",
                  "LICENSE_ID": 2808785,
                  "ACCOUNT_NUMBER": 478909,
                  "SITE_NUMBER": 1,
                  "LEGAL_NAME": "DANIELLE TO",
                  "DBA": "DANIELLE TO",
                  "ADDRESS": "2725 S HALSTED ST",
                  "CITY": "CHICAGO",
                  "STATE": "IL",
                  "ZIP_CODE": 60608,
                  "WARD": 11,
                  "PRECINCT": "nan",
                  "WARD_PRECINCT": "11-",
                  "POLICE_DISTRICT": "nan",
                  "LICENSE_CODE": 7008,
                  "LICENSE_DESCRIPTION": "Shared Housing Unit Operator",
                  "BUSINESS_ACTIVITY_ID": "981",
                  "BUSINESS_ACTIVITY": "Shared Housing Operator - Host of More Than One Shared Housing Unit",
                  "LICENSE_NUMBER": 2808785,
                  "APPLICATION_TYPE": "ISSUE",
                  "APPLICATION_CREATED_DATE": "2021-09-08 00:00:00",
                  "APPLICATION_REQUIREMENTS_COMPLETE": "2021-09-08 00:00:00",
                  "PAYMENT_DATE": "2021-09-18 00:00:00",
                  "CONDITIONAL_APPROVAL": "N",
                  "LICENSE_TERM_START_DATE": "2022-05-11 00:00:00",
                  "LICENSE_TERM_EXPIRATION_DATE": "2023-10-15 00:00:00",
                  "LICENSE_APPROVED_FOR_ISSUANCE": "2021-09-23 00:00:00",
                  "DATE_ISSUED": "2021-09-24 00:00:00",
                  "LICENSE_STATUS": "AAI",
                  "LICENSE_STATUS_CHANGE_DATE": "NaT",
                  "SSA": "nan",
                  "LATITUDE": 41.843548903,
                  "LONGITUDE": -87.646265567,
                  "LOCATION": "(41.843548903182935, -87.64626556723158)",
                  "TIF_Name": "[]",
                  "LICENSE_GROUP": "Business",
                  "Com_Name": "['BRIDGEPORT']",
                  "Chain": "0",
                  "_deepnote_index_column": 7
                },
                {
                  "ID": "2055080-20220916",
                  "LICENSE_ID": 2860372,
                  "ACCOUNT_NUMBER": 356337,
                  "SITE_NUMBER": 1,
                  "LEGAL_NAME": "PRIMERA IRON WORKS CORP.",
                  "DBA": "PRIMERA IRON WORKS CORP.",
                  "ADDRESS": "855 N CICERO AVE 1",
                  "CITY": "CHICAGO",
                  "STATE": "IL",
                  "ZIP_CODE": 60651,
                  "WARD": 37,
                  "PRECINCT": 21,
                  "WARD_PRECINCT": "37-21",
                  "POLICE_DISTRICT": 11,
                  "LICENSE_CODE": 1010,
                  "LICENSE_DESCRIPTION": "Limited Business License",
                  "BUSINESS_ACTIVITY_ID": "None",
                  "BUSINESS_ACTIVITY": "None",
                  "LICENSE_NUMBER": 2055080,
                  "APPLICATION_TYPE": "RENEW",
                  "APPLICATION_CREATED_DATE": "NaT",
                  "APPLICATION_REQUIREMENTS_COMPLETE": "2022-07-15 00:00:00",
                  "PAYMENT_DATE": "2022-08-05 00:00:00",
                  "CONDITIONAL_APPROVAL": "N",
                  "LICENSE_TERM_START_DATE": "2022-09-16 00:00:00",
                  "LICENSE_TERM_EXPIRATION_DATE": "2024-09-15 00:00:00",
                  "LICENSE_APPROVED_FOR_ISSUANCE": "2022-08-05 00:00:00",
                  "DATE_ISSUED": "2022-08-08 00:00:00",
                  "LICENSE_STATUS": "AAI",
                  "LICENSE_STATUS_CHANGE_DATE": "NaT",
                  "SSA": "nan",
                  "LATITUDE": 41.896742416,
                  "LONGITUDE": -87.745703326,
                  "LOCATION": "(41.8967424164436, -87.74570332642313)",
                  "TIF_Name": "['Northwest Industrial Corridor']",
                  "LICENSE_GROUP": "Business",
                  "Com_Name": "[]",
                  "Chain": "0",
                  "_deepnote_index_column": 8
                },
                {
                  "ID": "1899785-20210316",
                  "LICENSE_ID": 2769221,
                  "ACCOUNT_NUMBER": 330192,
                  "SITE_NUMBER": 2,
                  "LEGAL_NAME": "ELIAS A. KANELLOPOULOS",
                  "DBA": "GOLD COAST CLEANERS",
                  "ADDRESS": "900 N LAKE SHORE DR 1",
                  "CITY": "CHICAGO",
                  "STATE": "IL",
                  "ZIP_CODE": 60611,
                  "WARD": 2,
                  "PRECINCT": 29,
                  "WARD_PRECINCT": "2-29",
                  "POLICE_DISTRICT": 18,
                  "LICENSE_CODE": 1010,
                  "LICENSE_DESCRIPTION": "Limited Business License",
                  "BUSINESS_ACTIVITY_ID": "648",
                  "BUSINESS_ACTIVITY": "Dry Cleaning - Drop Off Location",
                  "LICENSE_NUMBER": 1899785,
                  "APPLICATION_TYPE": "RENEW",
                  "APPLICATION_CREATED_DATE": "NaT",
                  "APPLICATION_REQUIREMENTS_COMPLETE": "2021-01-15 00:00:00",
                  "PAYMENT_DATE": "2021-03-04 00:00:00",
                  "CONDITIONAL_APPROVAL": "N",
                  "LICENSE_TERM_START_DATE": "2021-03-16 00:00:00",
                  "LICENSE_TERM_EXPIRATION_DATE": "2023-03-15 00:00:00",
                  "LICENSE_APPROVED_FOR_ISSUANCE": "2021-03-04 00:00:00",
                  "DATE_ISSUED": "2022-05-11 00:00:00",
                  "LICENSE_STATUS": "AAI",
                  "LICENSE_STATUS_CHANGE_DATE": "NaT",
                  "SSA": "nan",
                  "LATITUDE": 41.899280991,
                  "LONGITUDE": -87.618894512,
                  "LOCATION": "(41.899280990919685, -87.61889451230181)",
                  "TIF_Name": "[]",
                  "LICENSE_GROUP": "Business",
                  "Com_Name": "['NEAR NORTH SIDE']",
                  "Chain": "0",
                  "_deepnote_index_column": 9
                }
              ]
            },
            "text/plain": "                      ID  LICENSE_ID  ACCOUNT_NUMBER  SITE_NUMBER  \\\n0       2652692-20201217     2652692          456833            1   \n1       2647849-20200916     2739788           64603            7   \n2       1899783-20090316     1953094          330192            1   \n3       2846132-20220511     2846132          485647            1   \n4       1899783-20110316     2078221          330192            1   \n...                  ...         ...             ...          ...   \n585307  2713126-20220216     2826971          466393            1   \n585308  2813997-20220201     2813997          480284            1   \n585309  1069388-20041116     1534100          205240            1   \n585310  2385648-20220916     2861006          396729            1   \n585311  2293688-20131031     2293688          261735            5   \n\n                               LEGAL_NAME                             DBA  \\\n0                     JYM INVESTMENTS LLC                         WINGMAN   \n1                 LEOPARDO COMPANIES INC.          Leopardo Companies Inc   \n2                  ELIAS A. KANELLOPOULOS                   RITZ CLEANERS   \n3              Silverwolf Productions LLC      Silverwolf Productions LLC   \n4                  ELIAS A. KANELLOPOULOS                   RITZ CLEANERS   \n...                                   ...                             ...   \n585307   SWEET & SAVORY CHEF SERVICES LLC    SWEET & SAVORY CHEF SERVICES   \n585308  NO.1 ENTERTAINMENT INVESTMENT LLC                        KING KTV   \n585309                       RODRIGO BUZO                 CASEYS HARDWARE   \n585310     NEW MILLENNIUM AUTO CARE, INC.  NEW MILLENNIUM AUTO CARE, INC.   \n585311                 BARK CHICAGO, INC.              MEEOW CHICAGO INC.   \n\n                             ADDRESS     CITY STATE  ZIP_CODE  ...  \\\n0               2321 W HOWARD ST 1ST  CHICAGO    IL     60645  ...   \n1       210 N CARPENTER ST 3RD FLOOR  CHICAGO    IL     60607  ...   \n2                200 E DELAWARE PL 1  CHICAGO    IL     60611  ...   \n3       2673 N GREENVIEW AVE  UNIT H  CHICAGO    IL     60614  ...   \n4                200 E DELAWARE PL 1  CHICAGO    IL     60611  ...   \n...                              ...      ...   ...       ...  ...   \n585307            9313 S STEWART AVE  CHICAGO    IL     60620  ...   \n585308  2002 S WENTWORTH AVE 2ND 1-4  CHICAGO    IL     60616  ...   \n585309              2853 W 63RD ST 1  CHICAGO    IL     60629  ...   \n585310             3820 N CICERO AVE  CHICAGO    IL     60641  ...   \n585311     1765 N ELSTON AVE 1ST 104  CHICAGO    IL     60622  ...   \n\n        LICENSE_STATUS  LICENSE_STATUS_CHANGE_DATE  SSA   LATITUDE  LONGITUDE  \\\n0                  AAC                  2022-08-08  NaN  42.019413 -87.688628   \n1                  AAC                  2022-08-08  NaN  41.885945 -87.653462   \n2                  AAI                         NaT  NaN  41.899355 -87.621791   \n3                  AAI                         NaT  NaN  41.930322 -87.665387   \n4                  AAI                         NaT  NaN  41.899355 -87.621791   \n...                ...                         ...  ...        ...        ...   \n585307             AAI                         NaT  NaN  41.724860 -87.632296   \n585308             AAI                         NaT  NaN  41.855282 -87.631993   \n585309             AAI                         NaT  3.0  41.778975 -87.695513   \n585310             AAI                         NaT  NaN  41.950391 -87.747379   \n585311             AAI                         NaT  NaN  41.914743 -87.664978   \n\n                                        LOCATION  \\\n0       (42.019413270594214, -87.68862818775574)   \n1        (41.88594495760403, -87.65346178255953)   \n2          (41.89935473944382, -87.621791301926)   \n3        (41.93032248132474, -87.66538689175445)   \n4          (41.89935473944382, -87.621791301926)   \n...                                          ...   \n585307   (41.72485950644069, -87.63229615684946)   \n585308   (41.85528170377401, -87.63199264229414)   \n585309  (41.778974562382466, -87.69551271682448)   \n585310  (41.950391059972645, -87.74737867063736)   \n585311    (41.9147426090437, -87.66497832743869)   \n\n                                       TIF_Name  LICENSE_GROUP  \\\n0                                            []           Food   \n1       ['Kinzie Industrial Conservation Area']       Business   \n2                                            []       Business   \n3                                            []       Business   \n4                                            []       Business   \n...                                         ...            ...   \n585307                                       []       Business   \n585308             ['Red Line Extension (RLE)']  Entertainment   \n585309                                       []       Business   \n585310                                       []       Vehicles   \n585311                                       []        Special   \n\n                   Com_Name Chain  \n0            ['WEST RIDGE']     0  \n1                        []     0  \n2       ['NEAR NORTH SIDE']     0  \n3          ['LINCOLN PARK']     0  \n4       ['NEAR NORTH SIDE']     0  \n...                     ...   ...  \n585307         ['ROSELAND']     0  \n585308                   []     0  \n585309     ['CHICAGO LAWN']     0  \n585310     ['PORTAGE PARK']     0  \n585311        ['WEST TOWN']     0  \n\n[585312 rows x 38 columns]",
            "text/html": "<div>\n<style scoped>\n    .dataframe tbody tr th:only-of-type {\n        vertical-align: middle;\n    }\n\n    .dataframe tbody tr th {\n        vertical-align: top;\n    }\n\n    .dataframe thead th {\n        text-align: right;\n    }\n</style>\n<table border=\"1\" class=\"dataframe\">\n  <thead>\n    <tr style=\"text-align: right;\">\n      <th></th>\n      <th>ID</th>\n      <th>LICENSE_ID</th>\n      <th>ACCOUNT_NUMBER</th>\n      <th>SITE_NUMBER</th>\n      <th>LEGAL_NAME</th>\n      <th>DBA</th>\n      <th>ADDRESS</th>\n      <th>CITY</th>\n      <th>STATE</th>\n      <th>ZIP_CODE</th>\n      <th>...</th>\n      <th>LICENSE_STATUS</th>\n      <th>LICENSE_STATUS_CHANGE_DATE</th>\n      <th>SSA</th>\n      <th>LATITUDE</th>\n      <th>LONGITUDE</th>\n      <th>LOCATION</th>\n      <th>TIF_Name</th>\n      <th>LICENSE_GROUP</th>\n      <th>Com_Name</th>\n      <th>Chain</th>\n    </tr>\n  </thead>\n  <tbody>\n    <tr>\n      <th>0</th>\n      <td>2652692-20201217</td>\n      <td>2652692</td>\n      <td>456833</td>\n      <td>1</td>\n      <td>JYM INVESTMENTS LLC</td>\n      <td>WINGMAN</td>\n      <td>2321 W HOWARD ST 1ST</td>\n      <td>CHICAGO</td>\n      <td>IL</td>\n      <td>60645</td>\n      <td>...</td>\n      <td>AAC</td>\n      <td>2022-08-08</td>\n      <td>NaN</td>\n      <td>42.019413</td>\n      <td>-87.688628</td>\n      <td>(42.019413270594214, -87.68862818775574)</td>\n      <td>[]</td>\n      <td>Food</td>\n      <td>['WEST RIDGE']</td>\n      <td>0</td>\n    </tr>\n    <tr>\n      <th>1</th>\n      <td>2647849-20200916</td>\n      <td>2739788</td>\n      <td>64603</td>\n      <td>7</td>\n      <td>LEOPARDO COMPANIES INC.</td>\n      <td>Leopardo Companies Inc</td>\n      <td>210 N CARPENTER ST 3RD FLOOR</td>\n      <td>CHICAGO</td>\n      <td>IL</td>\n      <td>60607</td>\n      <td>...</td>\n      <td>AAC</td>\n      <td>2022-08-08</td>\n      <td>NaN</td>\n      <td>41.885945</td>\n      <td>-87.653462</td>\n      <td>(41.88594495760403, -87.65346178255953)</td>\n      <td>['Kinzie Industrial Conservation Area']</td>\n      <td>Business</td>\n      <td>[]</td>\n      <td>0</td>\n    </tr>\n    <tr>\n      <th>2</th>\n      <td>1899783-20090316</td>\n      <td>1953094</td>\n      <td>330192</td>\n      <td>1</td>\n      <td>ELIAS A. KANELLOPOULOS</td>\n      <td>RITZ CLEANERS</td>\n      <td>200 E DELAWARE PL 1</td>\n      <td>CHICAGO</td>\n      <td>IL</td>\n      <td>60611</td>\n      <td>...</td>\n      <td>AAI</td>\n      <td>NaT</td>\n      <td>NaN</td>\n      <td>41.899355</td>\n      <td>-87.621791</td>\n      <td>(41.89935473944382, -87.621791301926)</td>\n      <td>[]</td>\n      <td>Business</td>\n      <td>['NEAR NORTH SIDE']</td>\n      <td>0</td>\n    </tr>\n    <tr>\n      <th>3</th>\n      <td>2846132-20220511</td>\n      <td>2846132</td>\n      <td>485647</td>\n      <td>1</td>\n      <td>Silverwolf Productions LLC</td>\n      <td>Silverwolf Productions LLC</td>\n      <td>2673 N GREENVIEW AVE  UNIT H</td>\n      <td>CHICAGO</td>\n      <td>IL</td>\n      <td>60614</td>\n      <td>...</td>\n      <td>AAI</td>\n      <td>NaT</td>\n      <td>NaN</td>\n      <td>41.930322</td>\n      <td>-87.665387</td>\n      <td>(41.93032248132474, -87.66538689175445)</td>\n      <td>[]</td>\n      <td>Business</td>\n      <td>['LINCOLN PARK']</td>\n      <td>0</td>\n    </tr>\n    <tr>\n      <th>4</th>\n      <td>1899783-20110316</td>\n      <td>2078221</td>\n      <td>330192</td>\n      <td>1</td>\n      <td>ELIAS A. KANELLOPOULOS</td>\n      <td>RITZ CLEANERS</td>\n      <td>200 E DELAWARE PL 1</td>\n      <td>CHICAGO</td>\n      <td>IL</td>\n      <td>60611</td>\n      <td>...</td>\n      <td>AAI</td>\n      <td>NaT</td>\n      <td>NaN</td>\n      <td>41.899355</td>\n      <td>-87.621791</td>\n      <td>(41.89935473944382, -87.621791301926)</td>\n      <td>[]</td>\n      <td>Business</td>\n      <td>['NEAR NORTH SIDE']</td>\n      <td>0</td>\n    </tr>\n    <tr>\n      <th>...</th>\n      <td>...</td>\n      <td>...</td>\n      <td>...</td>\n      <td>...</td>\n      <td>...</td>\n      <td>...</td>\n      <td>...</td>\n      <td>...</td>\n      <td>...</td>\n      <td>...</td>\n      <td>...</td>\n      <td>...</td>\n      <td>...</td>\n      <td>...</td>\n      <td>...</td>\n      <td>...</td>\n      <td>...</td>\n      <td>...</td>\n      <td>...</td>\n      <td>...</td>\n      <td>...</td>\n    </tr>\n    <tr>\n      <th>585307</th>\n      <td>2713126-20220216</td>\n      <td>2826971</td>\n      <td>466393</td>\n      <td>1</td>\n      <td>SWEET &amp; SAVORY CHEF SERVICES LLC</td>\n      <td>SWEET &amp; SAVORY CHEF SERVICES</td>\n      <td>9313 S STEWART AVE</td>\n      <td>CHICAGO</td>\n      <td>IL</td>\n      <td>60620</td>\n      <td>...</td>\n      <td>AAI</td>\n      <td>NaT</td>\n      <td>NaN</td>\n      <td>41.724860</td>\n      <td>-87.632296</td>\n      <td>(41.72485950644069, -87.63229615684946)</td>\n      <td>[]</td>\n      <td>Business</td>\n      <td>['ROSELAND']</td>\n      <td>0</td>\n    </tr>\n    <tr>\n      <th>585308</th>\n      <td>2813997-20220201</td>\n      <td>2813997</td>\n      <td>480284</td>\n      <td>1</td>\n      <td>NO.1 ENTERTAINMENT INVESTMENT LLC</td>\n      <td>KING KTV</td>\n      <td>2002 S WENTWORTH AVE 2ND 1-4</td>\n      <td>CHICAGO</td>\n      <td>IL</td>\n      <td>60616</td>\n      <td>...</td>\n      <td>AAI</td>\n      <td>NaT</td>\n      <td>NaN</td>\n      <td>41.855282</td>\n      <td>-87.631993</td>\n      <td>(41.85528170377401, -87.63199264229414)</td>\n      <td>['Red Line Extension (RLE)']</td>\n      <td>Entertainment</td>\n      <td>[]</td>\n      <td>0</td>\n    </tr>\n    <tr>\n      <th>585309</th>\n      <td>1069388-20041116</td>\n      <td>1534100</td>\n      <td>205240</td>\n      <td>1</td>\n      <td>RODRIGO BUZO</td>\n      <td>CASEYS HARDWARE</td>\n      <td>2853 W 63RD ST 1</td>\n      <td>CHICAGO</td>\n      <td>IL</td>\n      <td>60629</td>\n      <td>...</td>\n      <td>AAI</td>\n      <td>NaT</td>\n      <td>3.0</td>\n      <td>41.778975</td>\n      <td>-87.695513</td>\n      <td>(41.778974562382466, -87.69551271682448)</td>\n      <td>[]</td>\n      <td>Business</td>\n      <td>['CHICAGO LAWN']</td>\n      <td>0</td>\n    </tr>\n    <tr>\n      <th>585310</th>\n      <td>2385648-20220916</td>\n      <td>2861006</td>\n      <td>396729</td>\n      <td>1</td>\n      <td>NEW MILLENNIUM AUTO CARE, INC.</td>\n      <td>NEW MILLENNIUM AUTO CARE, INC.</td>\n      <td>3820 N CICERO AVE</td>\n      <td>CHICAGO</td>\n      <td>IL</td>\n      <td>60641</td>\n      <td>...</td>\n      <td>AAI</td>\n      <td>NaT</td>\n      <td>NaN</td>\n      <td>41.950391</td>\n      <td>-87.747379</td>\n      <td>(41.950391059972645, -87.74737867063736)</td>\n      <td>[]</td>\n      <td>Vehicles</td>\n      <td>['PORTAGE PARK']</td>\n      <td>0</td>\n    </tr>\n    <tr>\n      <th>585311</th>\n      <td>2293688-20131031</td>\n      <td>2293688</td>\n      <td>261735</td>\n      <td>5</td>\n      <td>BARK CHICAGO, INC.</td>\n      <td>MEEOW CHICAGO INC.</td>\n      <td>1765 N ELSTON AVE 1ST 104</td>\n      <td>CHICAGO</td>\n      <td>IL</td>\n      <td>60622</td>\n      <td>...</td>\n      <td>AAI</td>\n      <td>NaT</td>\n      <td>NaN</td>\n      <td>41.914743</td>\n      <td>-87.664978</td>\n      <td>(41.9147426090437, -87.66497832743869)</td>\n      <td>[]</td>\n      <td>Special</td>\n      <td>['WEST TOWN']</td>\n      <td>0</td>\n    </tr>\n  </tbody>\n</table>\n<p>585312 rows × 38 columns</p>\n</div>"
          },
          "metadata": {}
        }
      ],
      "outputs_reference": null,
      "execution_count": null,
      "block_group": "1d649c2f92bf4abaa7016a245d6fe519",
      "content_dependencies": null
    },
    {
      "cell_type": "code",
      "source": "local_chains.to_csv(\"localChains.csv\", index=False)\nno_chains.to_csv(\"noChains.csv\", index=False)",
      "metadata": {
        "source_hash": null,
        "execution_start": 1712774045294,
        "execution_millis": 29581,
        "deepnote_to_be_reexecuted": false,
        "cell_id": "0f6cc8717d304626a0cce7a115425614",
        "deepnote_cell_type": "code"
      },
      "outputs": [],
      "outputs_reference": null,
      "execution_count": null,
      "block_group": "59599de5352d404d996aca05747beb2a",
      "content_dependencies": null
    },
    {
      "cell_type": "markdown",
      "source": "## Separating the national chain",
      "metadata": {
        "formattedRanges": [],
        "cell_id": "c25bddb1d6b348c59d3d4884527244bb",
        "deepnote_cell_type": "text-cell-h2"
      },
      "block_group": "9b75642cf6b348d784d5a5a73aa69738"
    },
    {
      "cell_type": "code",
      "source": "national_chain = _deepnote_execute_sql('SELECT *\\nfrom \\'tempChains1.csv\\'\\nwhere Chain != \\'0\\'', 'SQL_DEEPNOTE_DATAFRAME_SQL', audit_sql_comment='', sql_cache_mode='cache_disabled')\nnational_chain",
      "metadata": {
        "source_hash": null,
        "execution_start": 1712774077950,
        "execution_millis": 4674,
        "sql_integration_id": "deepnote-dataframe-sql",
        "deepnote_variable_name": "national_chain",
        "deepnote_to_be_reexecuted": false,
        "cell_id": "1ee821c04b594381b198e68491d7978c",
        "deepnote_cell_type": "sql",
        "deepnote_sql_source": "SELECT *\nfrom 'tempChains1.csv'\nwhere Chain != '0'"
      },
      "outputs": [
        {
          "output_type": "execute_result",
          "execution_count": 8,
          "data": {
            "application/vnd.deepnote.dataframe.v3+json": {
              "column_count": 38,
              "row_count": 193157,
              "columns": [
                {
                  "name": "ID",
                  "dtype": "object"
                },
                {
                  "name": "LICENSE_ID",
                  "dtype": "int64"
                },
                {
                  "name": "ACCOUNT_NUMBER",
                  "dtype": "int64"
                },
                {
                  "name": "SITE_NUMBER",
                  "dtype": "int64"
                },
                {
                  "name": "LEGAL_NAME",
                  "dtype": "object"
                },
                {
                  "name": "DBA",
                  "dtype": "object"
                },
                {
                  "name": "ADDRESS",
                  "dtype": "object"
                },
                {
                  "name": "CITY",
                  "dtype": "object"
                },
                {
                  "name": "STATE",
                  "dtype": "object"
                },
                {
                  "name": "ZIP_CODE",
                  "dtype": "int64"
                },
                {
                  "name": "WARD",
                  "dtype": "float64"
                },
                {
                  "name": "PRECINCT",
                  "dtype": "float64"
                },
                {
                  "name": "WARD_PRECINCT",
                  "dtype": "object"
                },
                {
                  "name": "POLICE_DISTRICT",
                  "dtype": "float64"
                },
                {
                  "name": "LICENSE_CODE",
                  "dtype": "int64"
                },
                {
                  "name": "LICENSE_DESCRIPTION",
                  "dtype": "object"
                },
                {
                  "name": "BUSINESS_ACTIVITY_ID",
                  "dtype": "object"
                },
                {
                  "name": "BUSINESS_ACTIVITY",
                  "dtype": "object"
                },
                {
                  "name": "LICENSE_NUMBER",
                  "dtype": "int64"
                },
                {
                  "name": "APPLICATION_TYPE",
                  "dtype": "object"
                },
                {
                  "name": "APPLICATION_CREATED_DATE",
                  "dtype": "datetime64[us]"
                },
                {
                  "name": "APPLICATION_REQUIREMENTS_COMPLETE",
                  "dtype": "datetime64[us]"
                },
                {
                  "name": "PAYMENT_DATE",
                  "dtype": "datetime64[us]"
                },
                {
                  "name": "CONDITIONAL_APPROVAL",
                  "dtype": "object"
                },
                {
                  "name": "LICENSE_TERM_START_DATE",
                  "dtype": "datetime64[us]"
                },
                {
                  "name": "LICENSE_TERM_EXPIRATION_DATE",
                  "dtype": "datetime64[us]"
                },
                {
                  "name": "LICENSE_APPROVED_FOR_ISSUANCE",
                  "dtype": "datetime64[us]"
                },
                {
                  "name": "DATE_ISSUED",
                  "dtype": "datetime64[us]"
                },
                {
                  "name": "LICENSE_STATUS",
                  "dtype": "object"
                },
                {
                  "name": "LICENSE_STATUS_CHANGE_DATE",
                  "dtype": "datetime64[us]"
                },
                {
                  "name": "SSA",
                  "dtype": "float64"
                },
                {
                  "name": "LATITUDE",
                  "dtype": "float64"
                },
                {
                  "name": "LONGITUDE",
                  "dtype": "float64"
                },
                {
                  "name": "LOCATION",
                  "dtype": "object"
                },
                {
                  "name": "TIF_Name",
                  "dtype": "object"
                },
                {
                  "name": "LICENSE_GROUP",
                  "dtype": "object"
                },
                {
                  "name": "Com_Name",
                  "dtype": "object"
                },
                {
                  "name": "Chain",
                  "dtype": "object"
                },
                {
                  "name": "_deepnote_index_column",
                  "dtype": "int64"
                }
              ],
              "rows": [
                {
                  "ID": "2027540-20220616",
                  "LICENSE_ID": 2841687,
                  "ACCOUNT_NUMBER": 10726,
                  "SITE_NUMBER": 5,
                  "LEGAL_NAME": "GRAHAM ENTERPRISE INC",
                  "DBA": "Rock N Roll BP (GEI-157)",
                  "ADDRESS": "631-647 N LA SALLE DR",
                  "CITY": "CHICAGO",
                  "STATE": "IL",
                  "ZIP_CODE": 60654,
                  "WARD": 42,
                  "PRECINCT": 46,
                  "WARD_PRECINCT": "42-46",
                  "POLICE_DISTRICT": 18,
                  "LICENSE_CODE": 1275,
                  "LICENSE_DESCRIPTION": "Filling Station",
                  "BUSINESS_ACTIVITY_ID": "666",
                  "BUSINESS_ACTIVITY": "Operation of a Fuel Filling Station",
                  "LICENSE_NUMBER": 2027540,
                  "APPLICATION_TYPE": "RENEW",
                  "APPLICATION_CREATED_DATE": "NaT",
                  "APPLICATION_REQUIREMENTS_COMPLETE": "2022-04-15 00:00:00",
                  "PAYMENT_DATE": "2022-05-10 00:00:00",
                  "CONDITIONAL_APPROVAL": "N",
                  "LICENSE_TERM_START_DATE": "2022-06-16 00:00:00",
                  "LICENSE_TERM_EXPIRATION_DATE": "2024-06-15 00:00:00",
                  "LICENSE_APPROVED_FOR_ISSUANCE": "2022-05-10 00:00:00",
                  "DATE_ISSUED": "2022-05-11 00:00:00",
                  "LICENSE_STATUS": "AAI",
                  "LICENSE_STATUS_CHANGE_DATE": "NaT",
                  "SSA": "nan",
                  "LATITUDE": 41.893251198,
                  "LONGITUDE": -87.632493012,
                  "LOCATION": "(41.89325119846543, -87.63249301222938)",
                  "TIF_Name": "[]",
                  "LICENSE_GROUP": "Vehicles",
                  "Com_Name": "['NEAR NORTH SIDE']",
                  "Chain": "bp",
                  "_deepnote_index_column": 0
                },
                {
                  "ID": "2477179-20200716",
                  "LICENSE_ID": 2731774,
                  "ACCOUNT_NUMBER": 408244,
                  "SITE_NUMBER": 1,
                  "LEGAL_NAME": "NAIL JUNKIE ROSCOE, INC.",
                  "DBA": "NAIL JUNKIE ROSCOE, INC.",
                  "ADDRESS": "2127 W BELMONT AVE 1",
                  "CITY": "CHICAGO",
                  "STATE": "IL",
                  "ZIP_CODE": 60618,
                  "WARD": 32,
                  "PRECINCT": 45,
                  "WARD_PRECINCT": "32-45",
                  "POLICE_DISTRICT": 19,
                  "LICENSE_CODE": 1010,
                  "LICENSE_DESCRIPTION": "Limited Business License",
                  "BUSINESS_ACTIVITY_ID": "895",
                  "BUSINESS_ACTIVITY": "Nail Services",
                  "LICENSE_NUMBER": 2477179,
                  "APPLICATION_TYPE": "RENEW",
                  "APPLICATION_CREATED_DATE": "NaT",
                  "APPLICATION_REQUIREMENTS_COMPLETE": "2020-05-15 00:00:00",
                  "PAYMENT_DATE": "2020-07-21 00:00:00",
                  "CONDITIONAL_APPROVAL": "N",
                  "LICENSE_TERM_START_DATE": "2020-07-16 00:00:00",
                  "LICENSE_TERM_EXPIRATION_DATE": "2022-07-15 00:00:00",
                  "LICENSE_APPROVED_FOR_ISSUANCE": "2020-07-21 00:00:00",
                  "DATE_ISSUED": "2020-07-22 00:00:00",
                  "LICENSE_STATUS": "AAC",
                  "LICENSE_STATUS_CHANGE_DATE": "2022-05-11 00:00:00",
                  "SSA": "nan",
                  "LATITUDE": 41.939420519,
                  "LONGITUDE": -87.681875251,
                  "LOCATION": "(41.93942051904007, -87.68187525122258)",
                  "TIF_Name": "[]",
                  "LICENSE_GROUP": "Business",
                  "Com_Name": "['NORTH CENTER']",
                  "Chain": "osco",
                  "_deepnote_index_column": 1
                },
                {
                  "ID": "2009364-20200616",
                  "LICENSE_ID": 2726245,
                  "ACCOUNT_NUMBER": 349503,
                  "SITE_NUMBER": 1,
                  "LEGAL_NAME": "CHICAGO CUBS BASEBALL CLUB, LLC",
                  "DBA": "CHICAGO CUBS",
                  "ADDRESS": "1060 W ADDISON ST 1ST",
                  "CITY": "CHICAGO",
                  "STATE": "IL",
                  "ZIP_CODE": 60613,
                  "WARD": 44,
                  "PRECINCT": 31,
                  "WARD_PRECINCT": "44-31",
                  "POLICE_DISTRICT": 19,
                  "LICENSE_CODE": 1050,
                  "LICENSE_DESCRIPTION": "Public Place of Amusement",
                  "BUSINESS_ACTIVITY_ID": "743",
                  "BUSINESS_ACTIVITY": "Provides Onsite Amusement or Entertainment",
                  "LICENSE_NUMBER": 2009364,
                  "APPLICATION_TYPE": "RENEW",
                  "APPLICATION_CREATED_DATE": "NaT",
                  "APPLICATION_REQUIREMENTS_COMPLETE": "2020-04-15 00:00:00",
                  "PAYMENT_DATE": "2020-08-07 00:00:00",
                  "CONDITIONAL_APPROVAL": "N",
                  "LICENSE_TERM_START_DATE": "2020-06-16 00:00:00",
                  "LICENSE_TERM_EXPIRATION_DATE": "2022-06-15 00:00:00",
                  "LICENSE_APPROVED_FOR_ISSUANCE": "2020-08-07 00:00:00",
                  "DATE_ISSUED": "2022-05-11 00:00:00",
                  "LICENSE_STATUS": "AAI",
                  "LICENSE_STATUS_CHANGE_DATE": "NaT",
                  "SSA": 17,
                  "LATITUDE": 41.947317489,
                  "LONGITUDE": -87.656417948,
                  "LOCATION": "(41.94731748901495, -87.65641794764645)",
                  "TIF_Name": "['Red and Purple Modernization Phase One Project']",
                  "LICENSE_GROUP": "Entertainment",
                  "Com_Name": "[]",
                  "Chain": "cbs",
                  "_deepnote_index_column": 2
                },
                {
                  "ID": "1939-20220916",
                  "LICENSE_ID": 2858243,
                  "ACCOUNT_NUMBER": 62544,
                  "SITE_NUMBER": 9,
                  "LEGAL_NAME": "HYATT CORPORATION",
                  "DBA": "EAST TOWER MAIN KITCHEN",
                  "ADDRESS": "151 E WACKER DR  L",
                  "CITY": "CHICAGO",
                  "STATE": "IL",
                  "ZIP_CODE": 60601,
                  "WARD": 42,
                  "PRECINCT": 44,
                  "WARD_PRECINCT": "42-44",
                  "POLICE_DISTRICT": 1,
                  "LICENSE_CODE": 1006,
                  "LICENSE_DESCRIPTION": "Retail Food Establishment",
                  "BUSINESS_ACTIVITY_ID": "775",
                  "BUSINESS_ACTIVITY": "Retail Sales of Perishable Foods",
                  "LICENSE_NUMBER": 1939,
                  "APPLICATION_TYPE": "RENEW",
                  "APPLICATION_CREATED_DATE": "NaT",
                  "APPLICATION_REQUIREMENTS_COMPLETE": "2022-07-15 00:00:00",
                  "PAYMENT_DATE": "2022-08-05 00:00:00",
                  "CONDITIONAL_APPROVAL": "N",
                  "LICENSE_TERM_START_DATE": "2022-09-16 00:00:00",
                  "LICENSE_TERM_EXPIRATION_DATE": "2024-09-15 00:00:00",
                  "LICENSE_APPROVED_FOR_ISSUANCE": "2022-08-05 00:00:00",
                  "DATE_ISSUED": "2022-08-08 00:00:00",
                  "LICENSE_STATUS": "AAI",
                  "LICENSE_STATUS_CHANGE_DATE": "NaT",
                  "SSA": "nan",
                  "LATITUDE": 41.887999887,
                  "LONGITUDE": -87.622565133,
                  "LOCATION": "(41.88799988734853, -87.62256513255957)",
                  "TIF_Name": "[]",
                  "LICENSE_GROUP": "Food",
                  "Com_Name": "['LOOP']",
                  "Chain": "hyatt",
                  "_deepnote_index_column": 3
                },
                {
                  "ID": "1968629-20220616",
                  "LICENSE_ID": 2841685,
                  "ACCOUNT_NUMBER": 10726,
                  "SITE_NUMBER": 3,
                  "LEGAL_NAME": "GRAHAM ENTERPRISE INC",
                  "DBA": "Chicago BP@Irving (GEI-152)",
                  "ADDRESS": "841 W IRVING PARK RD",
                  "CITY": "CHICAGO",
                  "STATE": "IL",
                  "ZIP_CODE": 60613,
                  "WARD": 46,
                  "PRECINCT": 10,
                  "WARD_PRECINCT": "46-10",
                  "POLICE_DISTRICT": 19,
                  "LICENSE_CODE": 1781,
                  "LICENSE_DESCRIPTION": "Tobacco",
                  "BUSINESS_ACTIVITY_ID": "763",
                  "BUSINESS_ACTIVITY": "Retail Sale of Tobacco",
                  "LICENSE_NUMBER": 1968629,
                  "APPLICATION_TYPE": "RENEW",
                  "APPLICATION_CREATED_DATE": "NaT",
                  "APPLICATION_REQUIREMENTS_COMPLETE": "2022-04-15 00:00:00",
                  "PAYMENT_DATE": "2022-05-10 00:00:00",
                  "CONDITIONAL_APPROVAL": "N",
                  "LICENSE_TERM_START_DATE": "2022-06-16 00:00:00",
                  "LICENSE_TERM_EXPIRATION_DATE": "2023-06-15 00:00:00",
                  "LICENSE_APPROVED_FOR_ISSUANCE": "2022-05-10 00:00:00",
                  "DATE_ISSUED": "2022-05-11 00:00:00",
                  "LICENSE_STATUS": "AAI",
                  "LICENSE_STATUS_CHANGE_DATE": "NaT",
                  "SSA": 18,
                  "LATITUDE": 41.954425019,
                  "LONGITUDE": -87.651324017,
                  "LOCATION": "(41.95442501861227, -87.65132401707042)",
                  "TIF_Name": "['Red and Purple Modernization Phase One Project']",
                  "LICENSE_GROUP": "Tabacco",
                  "Com_Name": "[]",
                  "Chain": "bp",
                  "_deepnote_index_column": 4
                },
                {
                  "ID": "1938-20220916",
                  "LICENSE_ID": 2858242,
                  "ACCOUNT_NUMBER": 62544,
                  "SITE_NUMBER": 8,
                  "LEGAL_NAME": "HYATT CORPORATION",
                  "DBA": "THE GALLERY",
                  "ADDRESS": "151 E WACKER DR  SKYWA",
                  "CITY": "CHICAGO",
                  "STATE": "IL",
                  "ZIP_CODE": 60601,
                  "WARD": 42,
                  "PRECINCT": 44,
                  "WARD_PRECINCT": "42-44",
                  "POLICE_DISTRICT": 1,
                  "LICENSE_CODE": 1475,
                  "LICENSE_DESCRIPTION": "Consumption on Premises - Incidental Activity",
                  "BUSINESS_ACTIVITY_ID": "638",
                  "BUSINESS_ACTIVITY": "Consumption of Liquor on Premises",
                  "LICENSE_NUMBER": 1938,
                  "APPLICATION_TYPE": "RENEW",
                  "APPLICATION_CREATED_DATE": "NaT",
                  "APPLICATION_REQUIREMENTS_COMPLETE": "2022-07-15 00:00:00",
                  "PAYMENT_DATE": "2022-08-05 00:00:00",
                  "CONDITIONAL_APPROVAL": "N",
                  "LICENSE_TERM_START_DATE": "2022-09-16 00:00:00",
                  "LICENSE_TERM_EXPIRATION_DATE": "2024-09-15 00:00:00",
                  "LICENSE_APPROVED_FOR_ISSUANCE": "2022-08-05 00:00:00",
                  "DATE_ISSUED": "2022-08-08 00:00:00",
                  "LICENSE_STATUS": "AAI",
                  "LICENSE_STATUS_CHANGE_DATE": "NaT",
                  "SSA": "nan",
                  "LATITUDE": 41.887999887,
                  "LONGITUDE": -87.622565133,
                  "LOCATION": "(41.88799988734853, -87.62256513255957)",
                  "TIF_Name": "[]",
                  "LICENSE_GROUP": "Special",
                  "Com_Name": "['LOOP']",
                  "Chain": "hyatt",
                  "_deepnote_index_column": 5
                },
                {
                  "ID": "2780957-20220416",
                  "LICENSE_ID": 2833895,
                  "ACCOUNT_NUMBER": 390575,
                  "SITE_NUMBER": 2,
                  "LEGAL_NAME": "DINEAMIC STEAK, LLC",
                  "DBA": "PRIME & PROVISIONS",
                  "ADDRESS": "222 N LA SALLE ST 1-2",
                  "CITY": "CHICAGO",
                  "STATE": "IL",
                  "ZIP_CODE": 60601,
                  "WARD": 42,
                  "PRECINCT": 9,
                  "WARD_PRECINCT": "42-9",
                  "POLICE_DISTRICT": 1,
                  "LICENSE_CODE": 1781,
                  "LICENSE_DESCRIPTION": "Tobacco",
                  "BUSINESS_ACTIVITY_ID": "776 | 937",
                  "BUSINESS_ACTIVITY": "Retail Sales of Tobacco Products | Retail Sales of Tobacco and Flavored Tobacco Products",
                  "LICENSE_NUMBER": 2780957,
                  "APPLICATION_TYPE": "RENEW",
                  "APPLICATION_CREATED_DATE": "NaT",
                  "APPLICATION_REQUIREMENTS_COMPLETE": "2022-02-15 00:00:00",
                  "PAYMENT_DATE": "2022-05-06 00:00:00",
                  "CONDITIONAL_APPROVAL": "N",
                  "LICENSE_TERM_START_DATE": "2022-04-16 00:00:00",
                  "LICENSE_TERM_EXPIRATION_DATE": "2023-04-15 00:00:00",
                  "LICENSE_APPROVED_FOR_ISSUANCE": "2022-05-06 00:00:00",
                  "DATE_ISSUED": "2022-05-11 00:00:00",
                  "LICENSE_STATUS": "AAI",
                  "LICENSE_STATUS_CHANGE_DATE": "NaT",
                  "SSA": "nan",
                  "LATITUDE": 41.886351604,
                  "LONGITUDE": -87.632613946,
                  "LOCATION": "(41.886351604488574, -87.63261394551859)",
                  "TIF_Name": "[]",
                  "LICENSE_GROUP": "Tabacco",
                  "Com_Name": "['LOOP']",
                  "Chain": "amc",
                  "_deepnote_index_column": 6
                },
                {
                  "ID": "1968626-20220616",
                  "LICENSE_ID": 2841684,
                  "ACCOUNT_NUMBER": 10726,
                  "SITE_NUMBER": 3,
                  "LEGAL_NAME": "GRAHAM ENTERPRISE INC",
                  "DBA": "Chicago BP@Irving (GEI-152)",
                  "ADDRESS": "841 W IRVING PARK RD",
                  "CITY": "CHICAGO",
                  "STATE": "IL",
                  "ZIP_CODE": 60613,
                  "WARD": 46,
                  "PRECINCT": 10,
                  "WARD_PRECINCT": "46-10",
                  "POLICE_DISTRICT": 19,
                  "LICENSE_CODE": 1006,
                  "LICENSE_DESCRIPTION": "Retail Food Establishment",
                  "BUSINESS_ACTIVITY_ID": "775",
                  "BUSINESS_ACTIVITY": "Retail Sales of Perishable Foods",
                  "LICENSE_NUMBER": 1968626,
                  "APPLICATION_TYPE": "RENEW",
                  "APPLICATION_CREATED_DATE": "NaT",
                  "APPLICATION_REQUIREMENTS_COMPLETE": "2022-04-15 00:00:00",
                  "PAYMENT_DATE": "2022-05-10 00:00:00",
                  "CONDITIONAL_APPROVAL": "N",
                  "LICENSE_TERM_START_DATE": "2022-06-16 00:00:00",
                  "LICENSE_TERM_EXPIRATION_DATE": "2024-06-15 00:00:00",
                  "LICENSE_APPROVED_FOR_ISSUANCE": "2022-05-10 00:00:00",
                  "DATE_ISSUED": "2022-05-11 00:00:00",
                  "LICENSE_STATUS": "AAI",
                  "LICENSE_STATUS_CHANGE_DATE": "NaT",
                  "SSA": 18,
                  "LATITUDE": 41.954425019,
                  "LONGITUDE": -87.651324017,
                  "LOCATION": "(41.95442501861227, -87.65132401707042)",
                  "TIF_Name": "['Red and Purple Modernization Phase One Project']",
                  "LICENSE_GROUP": "Food",
                  "Com_Name": "[]",
                  "Chain": "bp",
                  "_deepnote_index_column": 7
                },
                {
                  "ID": "2717980-20220511",
                  "LICENSE_ID": 2717980,
                  "ACCOUNT_NUMBER": 9584,
                  "SITE_NUMBER": 5,
                  "LEGAL_NAME": "HORNBLOWER CRUISES AND EVENTS, LLC",
                  "DBA": "SPIRIT OF NAVY PIER",
                  "ADDRESS": "600 E GRAND AVE  2600",
                  "CITY": "CHICAGO",
                  "STATE": "IL",
                  "ZIP_CODE": 60611,
                  "WARD": 42,
                  "PRECINCT": 11,
                  "WARD_PRECINCT": "42-11",
                  "POLICE_DISTRICT": 18,
                  "LICENSE_CODE": 1006,
                  "LICENSE_DESCRIPTION": "Retail Food Establishment",
                  "BUSINESS_ACTIVITY_ID": "782",
                  "BUSINESS_ACTIVITY": "Sale of Food Prepared Onsite Without Dining Area",
                  "LICENSE_NUMBER": 2717980,
                  "APPLICATION_TYPE": "ISSUE",
                  "APPLICATION_CREATED_DATE": "2020-02-25 00:00:00",
                  "APPLICATION_REQUIREMENTS_COMPLETE": "2022-04-26 00:00:00",
                  "PAYMENT_DATE": "2022-04-26 00:00:00",
                  "CONDITIONAL_APPROVAL": "N",
                  "LICENSE_TERM_START_DATE": "2022-05-11 00:00:00",
                  "LICENSE_TERM_EXPIRATION_DATE": "2023-03-15 00:00:00",
                  "LICENSE_APPROVED_FOR_ISSUANCE": "2022-05-11 00:00:00",
                  "DATE_ISSUED": "2022-05-11 00:00:00",
                  "LICENSE_STATUS": "AAI",
                  "LICENSE_STATUS_CHANGE_DATE": "NaT",
                  "SSA": "nan",
                  "LATITUDE": 41.892094137,
                  "LONGITUDE": -87.611569884,
                  "LOCATION": "(41.892094136861786, -87.61156988394656)",
                  "TIF_Name": "[]",
                  "LICENSE_GROUP": "Food",
                  "Com_Name": "['NEAR NORTH SIDE']",
                  "Chain": "ups",
                  "_deepnote_index_column": 8
                },
                {
                  "ID": "2863265-20220808",
                  "LICENSE_ID": 2863265,
                  "ACCOUNT_NUMBER": 16105,
                  "SITE_NUMBER": 21,
                  "LEGAL_NAME": "PARTY CITY CORPORATION",
                  "DBA": "Halloween City",
                  "ADDRESS": "8133 S CICERO AVE",
                  "CITY": "CHICAGO",
                  "STATE": "IL",
                  "ZIP_CODE": 60652,
                  "WARD": 18,
                  "PRECINCT": "nan",
                  "WARD_PRECINCT": "18-",
                  "POLICE_DISTRICT": "nan",
                  "LICENSE_CODE": 1010,
                  "LICENSE_DESCRIPTION": "Limited Business License",
                  "BUSINESS_ACTIVITY_ID": "904",
                  "BUSINESS_ACTIVITY": "Retail Sales of General Merchandise",
                  "LICENSE_NUMBER": 2863265,
                  "APPLICATION_TYPE": "ISSUE",
                  "APPLICATION_CREATED_DATE": "2022-08-05 00:00:00",
                  "APPLICATION_REQUIREMENTS_COMPLETE": "2022-08-05 00:00:00",
                  "PAYMENT_DATE": "2022-08-05 00:00:00",
                  "CONDITIONAL_APPROVAL": "N",
                  "LICENSE_TERM_START_DATE": "2022-08-08 00:00:00",
                  "LICENSE_TERM_EXPIRATION_DATE": "2023-11-15 00:00:00",
                  "LICENSE_APPROVED_FOR_ISSUANCE": "2022-08-05 00:00:00",
                  "DATE_ISSUED": "2022-08-08 00:00:00",
                  "LICENSE_STATUS": "AAI",
                  "LICENSE_STATUS_CHANGE_DATE": "NaT",
                  "SSA": "nan",
                  "LATITUDE": 41.744722105,
                  "LONGITUDE": -87.741060205,
                  "LOCATION": "(41.74472210502678, -87.74106020457465)",
                  "TIF_Name": "[]",
                  "LICENSE_GROUP": "Business",
                  "Com_Name": "['ASHBURN']",
                  "Chain": "party city",
                  "_deepnote_index_column": 9
                }
              ]
            },
            "text/plain": "                      ID  LICENSE_ID  ACCOUNT_NUMBER  SITE_NUMBER  \\\n0       2027540-20220616     2841687           10726            5   \n1       2477179-20200716     2731774          408244            1   \n2       2009364-20200616     2726245          349503            1   \n3          1939-20220916     2858243           62544            9   \n4       1968629-20220616     2841685           10726            3   \n...                  ...         ...             ...          ...   \n193152    14272-20070516     1811495           85659           53   \n193153    18629-20040516     1481352            7551           22   \n193154  1648048-20140316     2306301          243463            2   \n193155  2204520-20160716     2465534           25985            1   \n193156  2846254-20220909     2846254          349928           13   \n\n                                     LEGAL_NAME  \\\n0                         GRAHAM ENTERPRISE INC   \n1                      NAIL JUNKIE ROSCOE, INC.   \n2               CHICAGO CUBS BASEBALL CLUB, LLC   \n3                             HYATT CORPORATION   \n4                         GRAHAM ENTERPRISE INC   \n...                                         ...   \n193152                H&R BLOCK ENTERPRISES LLC   \n193153       BOND DRUG COMPANY OF ILLINOIS, LLC   \n193154                           INSIGNIS, INC.   \n193155  AABALL HEATING SERVICE & SUPPLIES, INC.   \n193156                         RDK VENTURES LLC   \n\n                                      DBA                ADDRESS     CITY  \\\n0                Rock N Roll BP (GEI-157)  631-647 N LA SALLE DR  CHICAGO   \n1                NAIL JUNKIE ROSCOE, INC.   2127 W BELMONT AVE 1  CHICAGO   \n2                            CHICAGO CUBS  1060 W ADDISON ST 1ST  CHICAGO   \n3                 EAST TOWER MAIN KITCHEN     151 E WACKER DR  L  CHICAGO   \n4             Chicago BP@Irving (GEI-152)   841 W IRVING PARK RD  CHICAGO   \n...                                   ...                    ...      ...   \n193152       H & R BLOCK TAX SERVICES INC  28 E JACKSON BLVD 1 #  CHICAGO   \n193153                    WALGREENS #1496   6310 N NAGLE AVE 1ST  CHICAGO   \n193154                    INSIGNIS , INC.   1 N LA SALLE ST  825  CHICAGO   \n193155  AABALL HEATING SERVICE & SUPPLIES     8518 S ASHLAND AVE  CHICAGO   \n193156                           Circle K     190 W MADISON ST 1  CHICAGO   \n\n       STATE  ZIP_CODE  ...  LICENSE_STATUS  LICENSE_STATUS_CHANGE_DATE   SSA  \\\n0         IL     60654  ...             AAI                         NaT   NaN   \n1         IL     60618  ...             AAC                  2022-05-11   NaN   \n2         IL     60613  ...             AAI                         NaT  17.0   \n3         IL     60601  ...             AAI                         NaT   NaN   \n4         IL     60613  ...             AAI                         NaT  18.0   \n...      ...       ...  ...             ...                         ...   ...   \n193152    IL     60604  ...             AAI                         NaT   1.0   \n193153    IL     60646  ...             AAI                         NaT   NaN   \n193154    IL     60602  ...             AAI                         NaT   NaN   \n193155    IL     60620  ...             AAI                         NaT  69.0   \n193156    IL     60602  ...             AAI                         NaT   NaN   \n\n         LATITUDE  LONGITUDE                                  LOCATION  \\\n0       41.893251 -87.632493   (41.89325119846543, -87.63249301222938)   \n1       41.939421 -87.681875   (41.93942051904007, -87.68187525122258)   \n2       41.947317 -87.656418   (41.94731748901495, -87.65641794764645)   \n3       41.888000 -87.622565   (41.88799988734853, -87.62256513255957)   \n4       41.954425 -87.651324   (41.95442501861227, -87.65132401707042)   \n...           ...        ...                                       ...   \n193152  41.878342 -87.626675   (41.87834161206342, -87.62667499148682)   \n193153  41.995924 -87.787638   (41.99592392276426, -87.78763799175523)   \n193154  41.881990 -87.632213   (41.88199007378305, -87.63221287591374)   \n193155  41.738831 -87.663289  (41.738831043655715, -87.66328877414871)   \n193156  41.882058 -87.633533   (41.88205759473728, -87.63353326572278)   \n\n                                                 TIF_Name  LICENSE_GROUP  \\\n0                                                      []       Vehicles   \n1                                                      []       Business   \n2       ['Red and Purple Modernization Phase One Proje...  Entertainment   \n3                                                      []           Food   \n4       ['Red and Purple Modernization Phase One Proje...        Tabacco   \n...                                                   ...            ...   \n193152                       ['Red Line Extension (RLE)']       Business   \n193153                                                 []           Food   \n193154                                ['LaSalle Central']       Business   \n193155                                                 []       Business   \n193156                                ['LaSalle Central']        Tabacco   \n\n                   Com_Name      Chain  \n0       ['NEAR NORTH SIDE']         bp  \n1          ['NORTH CENTER']       osco  \n2                        []        cbs  \n3                  ['LOOP']      hyatt  \n4                        []         bp  \n...                     ...        ...  \n193152                   []        h&r  \n193153     ['NORWOOD PARK']  walgreens  \n193154                   []        gns  \n193155   ['AUBURN GRESHAM']        aaa  \n193156                   []   circle k  \n\n[193157 rows x 38 columns]",
            "text/html": "<div>\n<style scoped>\n    .dataframe tbody tr th:only-of-type {\n        vertical-align: middle;\n    }\n\n    .dataframe tbody tr th {\n        vertical-align: top;\n    }\n\n    .dataframe thead th {\n        text-align: right;\n    }\n</style>\n<table border=\"1\" class=\"dataframe\">\n  <thead>\n    <tr style=\"text-align: right;\">\n      <th></th>\n      <th>ID</th>\n      <th>LICENSE_ID</th>\n      <th>ACCOUNT_NUMBER</th>\n      <th>SITE_NUMBER</th>\n      <th>LEGAL_NAME</th>\n      <th>DBA</th>\n      <th>ADDRESS</th>\n      <th>CITY</th>\n      <th>STATE</th>\n      <th>ZIP_CODE</th>\n      <th>...</th>\n      <th>LICENSE_STATUS</th>\n      <th>LICENSE_STATUS_CHANGE_DATE</th>\n      <th>SSA</th>\n      <th>LATITUDE</th>\n      <th>LONGITUDE</th>\n      <th>LOCATION</th>\n      <th>TIF_Name</th>\n      <th>LICENSE_GROUP</th>\n      <th>Com_Name</th>\n      <th>Chain</th>\n    </tr>\n  </thead>\n  <tbody>\n    <tr>\n      <th>0</th>\n      <td>2027540-20220616</td>\n      <td>2841687</td>\n      <td>10726</td>\n      <td>5</td>\n      <td>GRAHAM ENTERPRISE INC</td>\n      <td>Rock N Roll BP (GEI-157)</td>\n      <td>631-647 N LA SALLE DR</td>\n      <td>CHICAGO</td>\n      <td>IL</td>\n      <td>60654</td>\n      <td>...</td>\n      <td>AAI</td>\n      <td>NaT</td>\n      <td>NaN</td>\n      <td>41.893251</td>\n      <td>-87.632493</td>\n      <td>(41.89325119846543, -87.63249301222938)</td>\n      <td>[]</td>\n      <td>Vehicles</td>\n      <td>['NEAR NORTH SIDE']</td>\n      <td>bp</td>\n    </tr>\n    <tr>\n      <th>1</th>\n      <td>2477179-20200716</td>\n      <td>2731774</td>\n      <td>408244</td>\n      <td>1</td>\n      <td>NAIL JUNKIE ROSCOE, INC.</td>\n      <td>NAIL JUNKIE ROSCOE, INC.</td>\n      <td>2127 W BELMONT AVE 1</td>\n      <td>CHICAGO</td>\n      <td>IL</td>\n      <td>60618</td>\n      <td>...</td>\n      <td>AAC</td>\n      <td>2022-05-11</td>\n      <td>NaN</td>\n      <td>41.939421</td>\n      <td>-87.681875</td>\n      <td>(41.93942051904007, -87.68187525122258)</td>\n      <td>[]</td>\n      <td>Business</td>\n      <td>['NORTH CENTER']</td>\n      <td>osco</td>\n    </tr>\n    <tr>\n      <th>2</th>\n      <td>2009364-20200616</td>\n      <td>2726245</td>\n      <td>349503</td>\n      <td>1</td>\n      <td>CHICAGO CUBS BASEBALL CLUB, LLC</td>\n      <td>CHICAGO CUBS</td>\n      <td>1060 W ADDISON ST 1ST</td>\n      <td>CHICAGO</td>\n      <td>IL</td>\n      <td>60613</td>\n      <td>...</td>\n      <td>AAI</td>\n      <td>NaT</td>\n      <td>17.0</td>\n      <td>41.947317</td>\n      <td>-87.656418</td>\n      <td>(41.94731748901495, -87.65641794764645)</td>\n      <td>['Red and Purple Modernization Phase One Proje...</td>\n      <td>Entertainment</td>\n      <td>[]</td>\n      <td>cbs</td>\n    </tr>\n    <tr>\n      <th>3</th>\n      <td>1939-20220916</td>\n      <td>2858243</td>\n      <td>62544</td>\n      <td>9</td>\n      <td>HYATT CORPORATION</td>\n      <td>EAST TOWER MAIN KITCHEN</td>\n      <td>151 E WACKER DR  L</td>\n      <td>CHICAGO</td>\n      <td>IL</td>\n      <td>60601</td>\n      <td>...</td>\n      <td>AAI</td>\n      <td>NaT</td>\n      <td>NaN</td>\n      <td>41.888000</td>\n      <td>-87.622565</td>\n      <td>(41.88799988734853, -87.62256513255957)</td>\n      <td>[]</td>\n      <td>Food</td>\n      <td>['LOOP']</td>\n      <td>hyatt</td>\n    </tr>\n    <tr>\n      <th>4</th>\n      <td>1968629-20220616</td>\n      <td>2841685</td>\n      <td>10726</td>\n      <td>3</td>\n      <td>GRAHAM ENTERPRISE INC</td>\n      <td>Chicago BP@Irving (GEI-152)</td>\n      <td>841 W IRVING PARK RD</td>\n      <td>CHICAGO</td>\n      <td>IL</td>\n      <td>60613</td>\n      <td>...</td>\n      <td>AAI</td>\n      <td>NaT</td>\n      <td>18.0</td>\n      <td>41.954425</td>\n      <td>-87.651324</td>\n      <td>(41.95442501861227, -87.65132401707042)</td>\n      <td>['Red and Purple Modernization Phase One Proje...</td>\n      <td>Tabacco</td>\n      <td>[]</td>\n      <td>bp</td>\n    </tr>\n    <tr>\n      <th>...</th>\n      <td>...</td>\n      <td>...</td>\n      <td>...</td>\n      <td>...</td>\n      <td>...</td>\n      <td>...</td>\n      <td>...</td>\n      <td>...</td>\n      <td>...</td>\n      <td>...</td>\n      <td>...</td>\n      <td>...</td>\n      <td>...</td>\n      <td>...</td>\n      <td>...</td>\n      <td>...</td>\n      <td>...</td>\n      <td>...</td>\n      <td>...</td>\n      <td>...</td>\n      <td>...</td>\n    </tr>\n    <tr>\n      <th>193152</th>\n      <td>14272-20070516</td>\n      <td>1811495</td>\n      <td>85659</td>\n      <td>53</td>\n      <td>H&amp;R BLOCK ENTERPRISES LLC</td>\n      <td>H &amp; R BLOCK TAX SERVICES INC</td>\n      <td>28 E JACKSON BLVD 1 #</td>\n      <td>CHICAGO</td>\n      <td>IL</td>\n      <td>60604</td>\n      <td>...</td>\n      <td>AAI</td>\n      <td>NaT</td>\n      <td>1.0</td>\n      <td>41.878342</td>\n      <td>-87.626675</td>\n      <td>(41.87834161206342, -87.62667499148682)</td>\n      <td>['Red Line Extension (RLE)']</td>\n      <td>Business</td>\n      <td>[]</td>\n      <td>h&amp;r</td>\n    </tr>\n    <tr>\n      <th>193153</th>\n      <td>18629-20040516</td>\n      <td>1481352</td>\n      <td>7551</td>\n      <td>22</td>\n      <td>BOND DRUG COMPANY OF ILLINOIS, LLC</td>\n      <td>WALGREENS #1496</td>\n      <td>6310 N NAGLE AVE 1ST</td>\n      <td>CHICAGO</td>\n      <td>IL</td>\n      <td>60646</td>\n      <td>...</td>\n      <td>AAI</td>\n      <td>NaT</td>\n      <td>NaN</td>\n      <td>41.995924</td>\n      <td>-87.787638</td>\n      <td>(41.99592392276426, -87.78763799175523)</td>\n      <td>[]</td>\n      <td>Food</td>\n      <td>['NORWOOD PARK']</td>\n      <td>walgreens</td>\n    </tr>\n    <tr>\n      <th>193154</th>\n      <td>1648048-20140316</td>\n      <td>2306301</td>\n      <td>243463</td>\n      <td>2</td>\n      <td>INSIGNIS, INC.</td>\n      <td>INSIGNIS , INC.</td>\n      <td>1 N LA SALLE ST  825</td>\n      <td>CHICAGO</td>\n      <td>IL</td>\n      <td>60602</td>\n      <td>...</td>\n      <td>AAI</td>\n      <td>NaT</td>\n      <td>NaN</td>\n      <td>41.881990</td>\n      <td>-87.632213</td>\n      <td>(41.88199007378305, -87.63221287591374)</td>\n      <td>['LaSalle Central']</td>\n      <td>Business</td>\n      <td>[]</td>\n      <td>gns</td>\n    </tr>\n    <tr>\n      <th>193155</th>\n      <td>2204520-20160716</td>\n      <td>2465534</td>\n      <td>25985</td>\n      <td>1</td>\n      <td>AABALL HEATING SERVICE &amp; SUPPLIES, INC.</td>\n      <td>AABALL HEATING SERVICE &amp; SUPPLIES</td>\n      <td>8518 S ASHLAND AVE</td>\n      <td>CHICAGO</td>\n      <td>IL</td>\n      <td>60620</td>\n      <td>...</td>\n      <td>AAI</td>\n      <td>NaT</td>\n      <td>69.0</td>\n      <td>41.738831</td>\n      <td>-87.663289</td>\n      <td>(41.738831043655715, -87.66328877414871)</td>\n      <td>[]</td>\n      <td>Business</td>\n      <td>['AUBURN GRESHAM']</td>\n      <td>aaa</td>\n    </tr>\n    <tr>\n      <th>193156</th>\n      <td>2846254-20220909</td>\n      <td>2846254</td>\n      <td>349928</td>\n      <td>13</td>\n      <td>RDK VENTURES LLC</td>\n      <td>Circle K</td>\n      <td>190 W MADISON ST 1</td>\n      <td>CHICAGO</td>\n      <td>IL</td>\n      <td>60602</td>\n      <td>...</td>\n      <td>AAI</td>\n      <td>NaT</td>\n      <td>NaN</td>\n      <td>41.882058</td>\n      <td>-87.633533</td>\n      <td>(41.88205759473728, -87.63353326572278)</td>\n      <td>['LaSalle Central']</td>\n      <td>Tabacco</td>\n      <td>[]</td>\n      <td>circle k</td>\n    </tr>\n  </tbody>\n</table>\n<p>193157 rows × 38 columns</p>\n</div>"
          },
          "metadata": {}
        }
      ],
      "outputs_reference": null,
      "execution_count": null,
      "block_group": "7d4a94cc8b9b4d5ea80e2a63eb0fb59a",
      "content_dependencies": null
    },
    {
      "cell_type": "code",
      "source": "national_chain.to_csv(\"national_chain.csv\", index=False)",
      "metadata": {
        "source_hash": null,
        "execution_start": 1712774087327,
        "execution_millis": 7680,
        "deepnote_to_be_reexecuted": false,
        "cell_id": "ca2f805af10d4592afa4456961f9221c",
        "deepnote_cell_type": "code"
      },
      "outputs": [],
      "outputs_reference": null,
      "execution_count": null,
      "block_group": "94d1ed5421944ea391b8f325c723df7c",
      "content_dependencies": null
    },
    {
      "cell_type": "code",
      "source": "",
      "metadata": {
        "cell_id": "8742c49f5e994c51bed322ea8397f91c",
        "deepnote_cell_type": "code"
      },
      "outputs": [],
      "outputs_reference": null,
      "execution_count": null,
      "block_group": "4aa0c1e5b555482ea5bec60ef8f65466",
      "content_dependencies": null
    },
    {
      "cell_type": "markdown",
      "source": "<a style='text-decoration:none;line-height:16px;display:flex;color:#5B5B62;padding:10px;justify-content:end;' href='https://deepnote.com?utm_source=created-in-deepnote-cell&projectId=41bd1eeb-8ade-41a5-ae81-cf4a88f38197' target=\"_blank\">\n<img alt='Created in deepnote.com' style='display:inline;max-height:16px;margin:0px;margin-right:7.5px;' src='data:image/svg+xml;base64,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' > </img>\nCreated in <span style='font-weight:600;margin-left:4px;'>Deepnote</span></a>",
      "metadata": {
        "created_in_deepnote_cell": true,
        "deepnote_cell_type": "markdown"
      }
    }
  ],
  "nbformat": 4,
  "nbformat_minor": 0,
  "metadata": {
    "deepnote_notebook_id": "f66ec03d81864bd58a3c7b8ef902e7d3",
    "deepnote_execution_queue": []
  }
}