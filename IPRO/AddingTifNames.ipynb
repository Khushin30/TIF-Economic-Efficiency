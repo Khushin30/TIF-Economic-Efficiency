{
  "cells": [
    {
      "cell_type": "markdown",
      "source": "# Assigning TIFs to Licenses and Communities",
      "metadata": {
        "formattedRanges": [],
        "deepnote_app_block_visible": true,
        "cell_id": "85267caaf42e4787a5ab00300160e9e1",
        "deepnote_cell_type": "text-cell-h1"
      },
      "block_group": "aa6806a47bf94d4e951d0c9662d72a56"
    },
    {
      "cell_type": "code",
      "source": "!pip install geopy==2.4.1\n!pip install geodatasets==2023.12.0\nfrom geopy.geocoders import Nominatim\nimport geopandas as gpd\nimport pandas as pd\nimport geodatasets\nimport matplotlib.pyplot as plt\nfrom shapely.geometry import Point\nimport json",
      "metadata": {
        "source_hash": null,
        "execution_start": 1712280535799,
        "execution_millis": 4371,
        "deepnote_to_be_reexecuted": false,
        "deepnote_app_block_visible": true,
        "cell_id": "0eb3f708006c4ab69a2ce51818bf9367",
        "deepnote_cell_type": "code"
      },
      "outputs": [
        {
          "name": "stdout",
          "text": "Requirement already satisfied: geopy==2.4.1 in /root/venv/lib/python3.9/site-packages (2.4.1)\nRequirement already satisfied: geographiclib<3,>=1.52 in /root/venv/lib/python3.9/site-packages (from geopy==2.4.1) (2.0)\n\n\u001b[1m[\u001b[0m\u001b[34;49mnotice\u001b[0m\u001b[1;39;49m]\u001b[0m\u001b[39;49m A new release of pip is available: \u001b[0m\u001b[31;49m23.0.1\u001b[0m\u001b[39;49m -> \u001b[0m\u001b[32;49m24.0\u001b[0m\n\u001b[1m[\u001b[0m\u001b[34;49mnotice\u001b[0m\u001b[1;39;49m]\u001b[0m\u001b[39;49m To update, run: \u001b[0m\u001b[32;49mpip install --upgrade pip\u001b[0m\nRequirement already satisfied: geodatasets==2023.12.0 in /root/venv/lib/python3.9/site-packages (2023.12.0)\nRequirement already satisfied: pooch in /root/venv/lib/python3.9/site-packages (from geodatasets==2023.12.0) (1.8.1)\nRequirement already satisfied: requests>=2.19.0 in /shared-libs/python3.9/py/lib/python3.9/site-packages (from pooch->geodatasets==2023.12.0) (2.28.1)\nRequirement already satisfied: packaging>=20.0 in /shared-libs/python3.9/py-core/lib/python3.9/site-packages (from pooch->geodatasets==2023.12.0) (21.3)\nRequirement already satisfied: platformdirs>=2.5.0 in /root/venv/lib/python3.9/site-packages (from pooch->geodatasets==2023.12.0) (4.2.0)\nRequirement already satisfied: pyparsing!=3.0.5,>=2.0.2 in /shared-libs/python3.9/py-core/lib/python3.9/site-packages (from packaging>=20.0->pooch->geodatasets==2023.12.0) (3.0.9)\nRequirement already satisfied: idna<4,>=2.5 in /shared-libs/python3.9/py-core/lib/python3.9/site-packages (from requests>=2.19.0->pooch->geodatasets==2023.12.0) (3.4)\nRequirement already satisfied: charset-normalizer<3,>=2 in /shared-libs/python3.9/py-core/lib/python3.9/site-packages (from requests>=2.19.0->pooch->geodatasets==2023.12.0) (2.1.1)\nRequirement already satisfied: urllib3<1.27,>=1.21.1 in /shared-libs/python3.9/py/lib/python3.9/site-packages (from requests>=2.19.0->pooch->geodatasets==2023.12.0) (1.26.12)\nRequirement already satisfied: certifi>=2017.4.17 in /shared-libs/python3.9/py/lib/python3.9/site-packages (from requests>=2.19.0->pooch->geodatasets==2023.12.0) (2022.9.24)\n\n\u001b[1m[\u001b[0m\u001b[34;49mnotice\u001b[0m\u001b[1;39;49m]\u001b[0m\u001b[39;49m A new release of pip is available: \u001b[0m\u001b[31;49m23.0.1\u001b[0m\u001b[39;49m -> \u001b[0m\u001b[32;49m24.0\u001b[0m\n\u001b[1m[\u001b[0m\u001b[34;49mnotice\u001b[0m\u001b[1;39;49m]\u001b[0m\u001b[39;49m To update, run: \u001b[0m\u001b[32;49mpip install --upgrade pip\u001b[0m\n",
          "output_type": "stream"
        }
      ],
      "outputs_reference": null,
      "execution_count": null,
      "block_group": "a17f98b7ee8a411e8f2626000ecc3739",
      "content_dependencies": null
    },
    {
      "cell_type": "code",
      "source": "df_1 = _deepnote_execute_sql('SELECT *\\n    FROM \\'BusCorrected.csv\\'\\n    WHERE STATE = \\'IL\\' AND CITY = \\'CHICAGO\\' \\n    AND ADDRESS IS NOT NULL \\n    AND CITY IS NOT NULL \\n    AND STATE IS NOT NULL \\n    AND ZIP_CODE IS NOT NULL \\n    AND LATITUDE IS NOT NULL \\n    AND LONGITUDE IS NOT NULL\\n-- LIMIT 1000;', 'SQL_DEEPNOTE_DATAFRAME_SQL', audit_sql_comment='', sql_cache_mode='cache_disabled')\ndf_1",
      "metadata": {
        "source_hash": null,
        "execution_start": 1712270128814,
        "execution_millis": 12337,
        "sql_integration_id": "deepnote-dataframe-sql",
        "deepnote_table_state": {
          "sortBy": [],
          "filters": [],
          "pageSize": 10,
          "pageIndex": 0
        },
        "deepnote_table_loading": false,
        "deepnote_variable_name": "df_1",
        "deepnote_to_be_reexecuted": false,
        "deepnote_app_block_visible": true,
        "cell_id": "b05209d2846d4cec9ff19911194396dc",
        "deepnote_cell_type": "sql",
        "deepnote_sql_source": "SELECT *\n    FROM 'BusCorrected.csv'\n    WHERE STATE = 'IL' AND CITY = 'CHICAGO' \n    AND ADDRESS IS NOT NULL \n    AND CITY IS NOT NULL \n    AND STATE IS NOT NULL \n    AND ZIP_CODE IS NOT NULL \n    AND LATITUDE IS NOT NULL \n    AND LONGITUDE IS NOT NULL\n-- LIMIT 1000;"
      },
      "outputs": [
        {
          "output_type": "execute_result",
          "execution_count": 8,
          "data": {
            "application/vnd.deepnote.dataframe.v3+json": {
              "column_count": 34,
              "row_count": 1033616,
              "columns": [
                {
                  "name": "ID",
                  "dtype": "object"
                },
                {
                  "name": "LICENSE_ID",
                  "dtype": "int64"
                },
                {
                  "name": "ACCOUNT_NUMBER",
                  "dtype": "int64"
                },
                {
                  "name": "SITE_NUMBER",
                  "dtype": "int64"
                },
                {
                  "name": "LEGAL_NAME",
                  "dtype": "object"
                },
                {
                  "name": "DBA",
                  "dtype": "object"
                },
                {
                  "name": "ADDRESS",
                  "dtype": "object"
                },
                {
                  "name": "CITY",
                  "dtype": "object"
                },
                {
                  "name": "STATE",
                  "dtype": "object"
                },
                {
                  "name": "ZIP_CODE",
                  "dtype": "object"
                },
                {
                  "name": "WARD",
                  "dtype": "float64"
                },
                {
                  "name": "PRECINCT",
                  "dtype": "float64"
                },
                {
                  "name": "WARD_PRECINCT",
                  "dtype": "object"
                },
                {
                  "name": "POLICE_DISTRICT",
                  "dtype": "float64"
                },
                {
                  "name": "LICENSE_CODE",
                  "dtype": "int64"
                },
                {
                  "name": "LICENSE_DESCRIPTION",
                  "dtype": "object"
                },
                {
                  "name": "BUSINESS_ACTIVITY_ID",
                  "dtype": "object"
                },
                {
                  "name": "BUSINESS_ACTIVITY",
                  "dtype": "object"
                },
                {
                  "name": "LICENSE_NUMBER",
                  "dtype": "int64"
                },
                {
                  "name": "APPLICATION_TYPE",
                  "dtype": "object"
                },
                {
                  "name": "APPLICATION_CREATED_DATE",
                  "dtype": "datetime64[us]"
                },
                {
                  "name": "APPLICATION_REQUIREMENTS_COMPLETE",
                  "dtype": "datetime64[us]"
                },
                {
                  "name": "PAYMENT_DATE",
                  "dtype": "datetime64[us]"
                },
                {
                  "name": "CONDITIONAL_APPROVAL",
                  "dtype": "object"
                },
                {
                  "name": "LICENSE_TERM_START_DATE",
                  "dtype": "datetime64[us]"
                },
                {
                  "name": "LICENSE_TERM_EXPIRATION_DATE",
                  "dtype": "datetime64[us]"
                },
                {
                  "name": "LICENSE_APPROVED_FOR_ISSUANCE",
                  "dtype": "datetime64[us]"
                },
                {
                  "name": "DATE_ISSUED",
                  "dtype": "datetime64[us]"
                },
                {
                  "name": "LICENSE_STATUS",
                  "dtype": "object"
                },
                {
                  "name": "LICENSE_STATUS_CHANGE_DATE",
                  "dtype": "datetime64[us]"
                },
                {
                  "name": "SSA",
                  "dtype": "float64"
                },
                {
                  "name": "LATITUDE",
                  "dtype": "float64"
                },
                {
                  "name": "LONGITUDE",
                  "dtype": "float64"
                },
                {
                  "name": "LOCATION",
                  "dtype": "object"
                },
                {
                  "name": "_deepnote_index_column",
                  "dtype": "int64"
                }
              ],
              "rows": [
                {
                  "ID": "2617269-20220916",
                  "LICENSE_ID": 2857496,
                  "ACCOUNT_NUMBER": 1611,
                  "SITE_NUMBER": 5,
                  "LEGAL_NAME": "TTX COMPANY",
                  "DBA": "TTX COMPANY",
                  "ADDRESS": "4016 S ASHLAND AVE",
                  "CITY": "CHICAGO",
                  "STATE": "IL",
                  "ZIP_CODE": "60609",
                  "WARD": 12,
                  "PRECINCT": 19,
                  "WARD_PRECINCT": "12-19",
                  "POLICE_DISTRICT": 9,
                  "LICENSE_CODE": 1010,
                  "LICENSE_DESCRIPTION": "Limited Business License",
                  "BUSINESS_ACTIVITY_ID": "708",
                  "BUSINESS_ACTIVITY": "Miscellaneous Commercial Services",
                  "LICENSE_NUMBER": 2617269,
                  "APPLICATION_TYPE": "RENEW",
                  "APPLICATION_CREATED_DATE": "NaT",
                  "APPLICATION_REQUIREMENTS_COMPLETE": "2022-07-15 00:00:00",
                  "PAYMENT_DATE": "2022-08-05 00:00:00",
                  "CONDITIONAL_APPROVAL": "N",
                  "LICENSE_TERM_START_DATE": "2022-09-16 00:00:00",
                  "LICENSE_TERM_EXPIRATION_DATE": "2024-09-15 00:00:00",
                  "LICENSE_APPROVED_FOR_ISSUANCE": "2022-08-05 00:00:00",
                  "DATE_ISSUED": "2022-08-08 00:00:00",
                  "LICENSE_STATUS": "AAI",
                  "LICENSE_STATUS_CHANGE_DATE": "NaT",
                  "SSA": "nan",
                  "LATITUDE": 41.820284936,
                  "LONGITUDE": -87.665396822,
                  "LOCATION": "(41.82028493557808, -87.66539682158037)",
                  "_deepnote_index_column": 0
                },
                {
                  "ID": "2652692-20201217",
                  "LICENSE_ID": 2652692,
                  "ACCOUNT_NUMBER": 456833,
                  "SITE_NUMBER": 1,
                  "LEGAL_NAME": "JYM INVESTMENTS LLC",
                  "DBA": "WINGMAN",
                  "ADDRESS": "2321 W HOWARD ST 1ST",
                  "CITY": "CHICAGO",
                  "STATE": "IL",
                  "ZIP_CODE": "60645",
                  "WARD": 49,
                  "PRECINCT": 21,
                  "WARD_PRECINCT": "49-21",
                  "POLICE_DISTRICT": 24,
                  "LICENSE_CODE": 1006,
                  "LICENSE_DESCRIPTION": "Retail Food Establishment",
                  "BUSINESS_ACTIVITY_ID": "781",
                  "BUSINESS_ACTIVITY": "Sale of Food Prepared Onsite With Dining Area",
                  "LICENSE_NUMBER": 2652692,
                  "APPLICATION_TYPE": "ISSUE",
                  "APPLICATION_CREATED_DATE": "2019-03-01 00:00:00",
                  "APPLICATION_REQUIREMENTS_COMPLETE": "2020-11-18 00:00:00",
                  "PAYMENT_DATE": "2020-11-19 00:00:00",
                  "CONDITIONAL_APPROVAL": "N",
                  "LICENSE_TERM_START_DATE": "2020-12-17 00:00:00",
                  "LICENSE_TERM_EXPIRATION_DATE": "2023-01-15 00:00:00",
                  "LICENSE_APPROVED_FOR_ISSUANCE": "2020-12-16 00:00:00",
                  "DATE_ISSUED": "2020-12-17 00:00:00",
                  "LICENSE_STATUS": "AAC",
                  "LICENSE_STATUS_CHANGE_DATE": "2022-08-08 00:00:00",
                  "SSA": "nan",
                  "LATITUDE": 42.019413271,
                  "LONGITUDE": -87.688628188,
                  "LOCATION": "(42.019413270594214, -87.68862818775574)",
                  "_deepnote_index_column": 1
                },
                {
                  "ID": "2647849-20200916",
                  "LICENSE_ID": 2739788,
                  "ACCOUNT_NUMBER": 64603,
                  "SITE_NUMBER": 7,
                  "LEGAL_NAME": "LEOPARDO COMPANIES INC.",
                  "DBA": "Leopardo Companies Inc",
                  "ADDRESS": "210 N CARPENTER ST 3RD FLOOR",
                  "CITY": "CHICAGO",
                  "STATE": "IL",
                  "ZIP_CODE": "60607",
                  "WARD": 27,
                  "PRECINCT": "nan",
                  "WARD_PRECINCT": "27-",
                  "POLICE_DISTRICT": "nan",
                  "LICENSE_CODE": 1010,
                  "LICENSE_DESCRIPTION": "Limited Business License",
                  "BUSINESS_ACTIVITY_ID": "602",
                  "BUSINESS_ACTIVITY": "Administrative Commercial Office",
                  "LICENSE_NUMBER": 2647849,
                  "APPLICATION_TYPE": "RENEW",
                  "APPLICATION_CREATED_DATE": "NaT",
                  "APPLICATION_REQUIREMENTS_COMPLETE": "2020-07-15 00:00:00",
                  "PAYMENT_DATE": "2020-08-20 00:00:00",
                  "CONDITIONAL_APPROVAL": "N",
                  "LICENSE_TERM_START_DATE": "2020-09-16 00:00:00",
                  "LICENSE_TERM_EXPIRATION_DATE": "2022-09-15 00:00:00",
                  "LICENSE_APPROVED_FOR_ISSUANCE": "2020-08-20 00:00:00",
                  "DATE_ISSUED": "2020-08-21 00:00:00",
                  "LICENSE_STATUS": "AAC",
                  "LICENSE_STATUS_CHANGE_DATE": "2022-08-08 00:00:00",
                  "SSA": "nan",
                  "LATITUDE": 41.885944958,
                  "LONGITUDE": -87.653461783,
                  "LOCATION": "(41.88594495760403, -87.65346178255953)",
                  "_deepnote_index_column": 2
                },
                {
                  "ID": "1579838-20220616",
                  "LICENSE_ID": 2842924,
                  "ACCOUNT_NUMBER": 289144,
                  "SITE_NUMBER": 1,
                  "LEGAL_NAME": "1021 MONTROSE, L.L.C.",
                  "DBA": "Driftwood",
                  "ADDRESS": "1021 W MONTROSE AVE",
                  "CITY": "CHICAGO",
                  "STATE": "IL",
                  "ZIP_CODE": "60613",
                  "WARD": 46,
                  "PRECINCT": 9,
                  "WARD_PRECINCT": "46-9",
                  "POLICE_DISTRICT": 19,
                  "LICENSE_CODE": 1470,
                  "LICENSE_DESCRIPTION": "Tavern",
                  "BUSINESS_ACTIVITY_ID": "829",
                  "BUSINESS_ACTIVITY": "Tavern - Consumption of Liquor on Premise",
                  "LICENSE_NUMBER": 1579838,
                  "APPLICATION_TYPE": "RENEW",
                  "APPLICATION_CREATED_DATE": "NaT",
                  "APPLICATION_REQUIREMENTS_COMPLETE": "2022-04-15 00:00:00",
                  "PAYMENT_DATE": "2022-05-10 00:00:00",
                  "CONDITIONAL_APPROVAL": "N",
                  "LICENSE_TERM_START_DATE": "2022-06-16 00:00:00",
                  "LICENSE_TERM_EXPIRATION_DATE": "2024-06-15 00:00:00",
                  "LICENSE_APPROVED_FOR_ISSUANCE": "2022-05-10 00:00:00",
                  "DATE_ISSUED": "2022-05-11 00:00:00",
                  "LICENSE_STATUS": "AAI",
                  "LICENSE_STATUS_CHANGE_DATE": "NaT",
                  "SSA": 34,
                  "LATITUDE": 41.961655309,
                  "LONGITUDE": -87.655649945,
                  "LOCATION": "(41.961655308981946, -87.65564994485091)",
                  "_deepnote_index_column": 3
                },
                {
                  "ID": "2027540-20220616",
                  "LICENSE_ID": 2841687,
                  "ACCOUNT_NUMBER": 10726,
                  "SITE_NUMBER": 5,
                  "LEGAL_NAME": "GRAHAM ENTERPRISE INC",
                  "DBA": "Rock N Roll BP (GEI-157)",
                  "ADDRESS": "631-647 N LA SALLE DR",
                  "CITY": "CHICAGO",
                  "STATE": "IL",
                  "ZIP_CODE": "60654",
                  "WARD": 42,
                  "PRECINCT": 46,
                  "WARD_PRECINCT": "42-46",
                  "POLICE_DISTRICT": 18,
                  "LICENSE_CODE": 1275,
                  "LICENSE_DESCRIPTION": "Filling Station",
                  "BUSINESS_ACTIVITY_ID": "666",
                  "BUSINESS_ACTIVITY": "Operation of a Fuel Filling Station",
                  "LICENSE_NUMBER": 2027540,
                  "APPLICATION_TYPE": "RENEW",
                  "APPLICATION_CREATED_DATE": "NaT",
                  "APPLICATION_REQUIREMENTS_COMPLETE": "2022-04-15 00:00:00",
                  "PAYMENT_DATE": "2022-05-10 00:00:00",
                  "CONDITIONAL_APPROVAL": "N",
                  "LICENSE_TERM_START_DATE": "2022-06-16 00:00:00",
                  "LICENSE_TERM_EXPIRATION_DATE": "2024-06-15 00:00:00",
                  "LICENSE_APPROVED_FOR_ISSUANCE": "2022-05-10 00:00:00",
                  "DATE_ISSUED": "2022-05-11 00:00:00",
                  "LICENSE_STATUS": "AAI",
                  "LICENSE_STATUS_CHANGE_DATE": "NaT",
                  "SSA": "nan",
                  "LATITUDE": 41.893251198,
                  "LONGITUDE": -87.632493012,
                  "LOCATION": "(41.89325119846543, -87.63249301222938)",
                  "_deepnote_index_column": 4
                },
                {
                  "ID": "2780650-20220516",
                  "LICENSE_ID": 2839285,
                  "ACCOUNT_NUMBER": 424430,
                  "SITE_NUMBER": 3,
                  "LEGAL_NAME": "MEHRAB MANAGEMENT, INC.",
                  "DBA": "MEHRAB RESTAURANT",
                  "ADDRESS": "2437 W DEVON AVE",
                  "CITY": "CHICAGO",
                  "STATE": "IL",
                  "ZIP_CODE": "60659",
                  "WARD": 50,
                  "PRECINCT": "nan",
                  "WARD_PRECINCT": "50-",
                  "POLICE_DISTRICT": "nan",
                  "LICENSE_CODE": 1006,
                  "LICENSE_DESCRIPTION": "Retail Food Establishment",
                  "BUSINESS_ACTIVITY_ID": "781",
                  "BUSINESS_ACTIVITY": "Sale of Food Prepared Onsite With Dining Area",
                  "LICENSE_NUMBER": 2780650,
                  "APPLICATION_TYPE": "RENEW",
                  "APPLICATION_CREATED_DATE": "NaT",
                  "APPLICATION_REQUIREMENTS_COMPLETE": "2022-03-15 00:00:00",
                  "PAYMENT_DATE": "2022-05-10 00:00:00",
                  "CONDITIONAL_APPROVAL": "N",
                  "LICENSE_TERM_START_DATE": "2022-05-16 00:00:00",
                  "LICENSE_TERM_EXPIRATION_DATE": "2024-05-15 00:00:00",
                  "LICENSE_APPROVED_FOR_ISSUANCE": "2022-05-10 00:00:00",
                  "DATE_ISSUED": "2022-05-11 00:00:00",
                  "LICENSE_STATUS": "AAI",
                  "LICENSE_STATUS_CHANGE_DATE": "NaT",
                  "SSA": 43,
                  "LATITUDE": 41.997597404,
                  "LONGITUDE": -87.691331516,
                  "LOCATION": "(41.99759740363999, -87.6913315163539)",
                  "_deepnote_index_column": 5
                },
                {
                  "ID": "1899783-20090316",
                  "LICENSE_ID": 1953094,
                  "ACCOUNT_NUMBER": 330192,
                  "SITE_NUMBER": 1,
                  "LEGAL_NAME": "ELIAS A. KANELLOPOULOS",
                  "DBA": "RITZ CLEANERS",
                  "ADDRESS": "200 E DELAWARE PL 1",
                  "CITY": "CHICAGO",
                  "STATE": "IL",
                  "ZIP_CODE": "60611",
                  "WARD": 2,
                  "PRECINCT": 13,
                  "WARD_PRECINCT": "2-13",
                  "POLICE_DISTRICT": 18,
                  "LICENSE_CODE": 1010,
                  "LICENSE_DESCRIPTION": "Limited Business License",
                  "BUSINESS_ACTIVITY_ID": "None",
                  "BUSINESS_ACTIVITY": "None",
                  "LICENSE_NUMBER": 1899783,
                  "APPLICATION_TYPE": "RENEW",
                  "APPLICATION_CREATED_DATE": "NaT",
                  "APPLICATION_REQUIREMENTS_COMPLETE": "2009-01-15 00:00:00",
                  "PAYMENT_DATE": "2009-02-20 00:00:00",
                  "CONDITIONAL_APPROVAL": "N",
                  "LICENSE_TERM_START_DATE": "2009-03-16 00:00:00",
                  "LICENSE_TERM_EXPIRATION_DATE": "2011-03-15 00:00:00",
                  "LICENSE_APPROVED_FOR_ISSUANCE": "2009-02-20 00:00:00",
                  "DATE_ISSUED": "2009-02-23 00:00:00",
                  "LICENSE_STATUS": "AAI",
                  "LICENSE_STATUS_CHANGE_DATE": "NaT",
                  "SSA": "nan",
                  "LATITUDE": 41.899354739,
                  "LONGITUDE": -87.621791302,
                  "LOCATION": "(41.89935473944382, -87.621791301926)",
                  "_deepnote_index_column": 6
                },
                {
                  "ID": "2846132-20220511",
                  "LICENSE_ID": 2846132,
                  "ACCOUNT_NUMBER": 485647,
                  "SITE_NUMBER": 1,
                  "LEGAL_NAME": "Silverwolf Productions LLC",
                  "DBA": "Silverwolf Productions LLC",
                  "ADDRESS": "2673 N GREENVIEW AVE  UNIT H",
                  "CITY": "CHICAGO",
                  "STATE": "IL",
                  "ZIP_CODE": "60614",
                  "WARD": 32,
                  "PRECINCT": "nan",
                  "WARD_PRECINCT": "32-",
                  "POLICE_DISTRICT": "nan",
                  "LICENSE_CODE": 4404,
                  "LICENSE_DESCRIPTION": "Regulated Business License",
                  "BUSINESS_ACTIVITY_ID": "665 | 667 | 702 | 719",
                  "BUSINESS_ACTIVITY": "Freelance Writer (Home Based Business) | Graphic Design (Home Based Business) | Marketing / Advertising / Public Relations (Home Based Business) | Professional Consulting (Home Based Business)",
                  "LICENSE_NUMBER": 2846132,
                  "APPLICATION_TYPE": "ISSUE",
                  "APPLICATION_CREATED_DATE": "2022-05-10 00:00:00",
                  "APPLICATION_REQUIREMENTS_COMPLETE": "2022-05-10 00:00:00",
                  "PAYMENT_DATE": "2022-05-10 00:00:00",
                  "CONDITIONAL_APPROVAL": "N",
                  "LICENSE_TERM_START_DATE": "2022-05-11 00:00:00",
                  "LICENSE_TERM_EXPIRATION_DATE": "2024-05-15 00:00:00",
                  "LICENSE_APPROVED_FOR_ISSUANCE": "2022-05-10 00:00:00",
                  "DATE_ISSUED": "2022-05-11 00:00:00",
                  "LICENSE_STATUS": "AAI",
                  "LICENSE_STATUS_CHANGE_DATE": "NaT",
                  "SSA": "nan",
                  "LATITUDE": 41.930322481,
                  "LONGITUDE": -87.665386892,
                  "LOCATION": "(41.93032248132474, -87.66538689175445)",
                  "_deepnote_index_column": 7
                },
                {
                  "ID": "1899783-20110316",
                  "LICENSE_ID": 2078221,
                  "ACCOUNT_NUMBER": 330192,
                  "SITE_NUMBER": 1,
                  "LEGAL_NAME": "ELIAS A. KANELLOPOULOS",
                  "DBA": "RITZ CLEANERS",
                  "ADDRESS": "200 E DELAWARE PL 1",
                  "CITY": "CHICAGO",
                  "STATE": "IL",
                  "ZIP_CODE": "60611",
                  "WARD": 2,
                  "PRECINCT": 13,
                  "WARD_PRECINCT": "2-13",
                  "POLICE_DISTRICT": 18,
                  "LICENSE_CODE": 1010,
                  "LICENSE_DESCRIPTION": "Limited Business License",
                  "BUSINESS_ACTIVITY_ID": "None",
                  "BUSINESS_ACTIVITY": "None",
                  "LICENSE_NUMBER": 1899783,
                  "APPLICATION_TYPE": "RENEW",
                  "APPLICATION_CREATED_DATE": "NaT",
                  "APPLICATION_REQUIREMENTS_COMPLETE": "2011-01-14 00:00:00",
                  "PAYMENT_DATE": "2011-02-14 00:00:00",
                  "CONDITIONAL_APPROVAL": "N",
                  "LICENSE_TERM_START_DATE": "2011-03-16 00:00:00",
                  "LICENSE_TERM_EXPIRATION_DATE": "2013-03-15 00:00:00",
                  "LICENSE_APPROVED_FOR_ISSUANCE": "2011-02-14 00:00:00",
                  "DATE_ISSUED": "2011-02-15 00:00:00",
                  "LICENSE_STATUS": "AAI",
                  "LICENSE_STATUS_CHANGE_DATE": "NaT",
                  "SSA": "nan",
                  "LATITUDE": 41.899354739,
                  "LONGITUDE": -87.621791302,
                  "LOCATION": "(41.89935473944382, -87.621791301926)",
                  "_deepnote_index_column": 8
                },
                {
                  "ID": "2863350-20220808",
                  "LICENSE_ID": 2863350,
                  "ACCOUNT_NUMBER": 488437,
                  "SITE_NUMBER": 1,
                  "LEGAL_NAME": "DOMONANT MEDIA LLC",
                  "DBA": "DOMONANT MEDIA",
                  "ADDRESS": "1200 W 35TH ST 3RD 3A3130",
                  "CITY": "CHICAGO",
                  "STATE": "IL",
                  "ZIP_CODE": "60609",
                  "WARD": 11,
                  "PRECINCT": 11,
                  "WARD_PRECINCT": "11-11",
                  "POLICE_DISTRICT": 9,
                  "LICENSE_CODE": 1010,
                  "LICENSE_DESCRIPTION": "Limited Business License",
                  "BUSINESS_ACTIVITY_ID": "476 | 1089",
                  "BUSINESS_ACTIVITY": "Photography Services | Multi-Media Services",
                  "LICENSE_NUMBER": 2863350,
                  "APPLICATION_TYPE": "ISSUE",
                  "APPLICATION_CREATED_DATE": "2022-08-08 00:00:00",
                  "APPLICATION_REQUIREMENTS_COMPLETE": "2022-08-08 00:00:00",
                  "PAYMENT_DATE": "2022-08-08 00:00:00",
                  "CONDITIONAL_APPROVAL": "N",
                  "LICENSE_TERM_START_DATE": "2022-08-08 00:00:00",
                  "LICENSE_TERM_EXPIRATION_DATE": "2024-08-15 00:00:00",
                  "LICENSE_APPROVED_FOR_ISSUANCE": "2022-08-08 00:00:00",
                  "DATE_ISSUED": "2022-08-08 00:00:00",
                  "LICENSE_STATUS": "AAI",
                  "LICENSE_STATUS_CHANGE_DATE": "NaT",
                  "SSA": "nan",
                  "LATITUDE": 41.830728826,
                  "LONGITUDE": -87.655813252,
                  "LOCATION": "(41.830728825995436, -87.65581325202945)",
                  "_deepnote_index_column": 9
                }
              ]
            },
            "text/plain": "                       ID  LICENSE_ID  ACCOUNT_NUMBER  SITE_NUMBER  \\\n0        2617269-20220916     2857496            1611            5   \n1        2652692-20201217     2652692          456833            1   \n2        2647849-20200916     2739788           64603            7   \n3        1579838-20220616     2842924          289144            1   \n4        2027540-20220616     2841687           10726            5   \n...                   ...         ...             ...          ...   \n1033611  2204520-20160716     2465534           25985            1   \n1033612  2652764-20210316     2770633          456868            1   \n1033613     6415-20070816     1832401          376290            2   \n1033614  1800007-20070124     1800007          313705            1   \n1033615  2846254-20220909     2846254          349928           13   \n\n                                      LEGAL_NAME  \\\n0                                    TTX COMPANY   \n1                            JYM INVESTMENTS LLC   \n2                        LEOPARDO COMPANIES INC.   \n3                          1021 MONTROSE, L.L.C.   \n4                          GRAHAM ENTERPRISE INC   \n...                                          ...   \n1033611  AABALL HEATING SERVICE & SUPPLIES, INC.   \n1033612                             SHOBHNA INC.   \n1033613       FRANK'S CHICAGO SHRIMP HOUSE, INC.   \n1033614                        TERRANCE J. WATTS   \n1033615                         RDK VENTURES LLC   \n\n                                       DBA                       ADDRESS  \\\n0                              TTX COMPANY            4016 S ASHLAND AVE   \n1                                  WINGMAN          2321 W HOWARD ST 1ST   \n2                   Leopardo Companies Inc  210 N CARPENTER ST 3RD FLOOR   \n3                                Driftwood           1021 W MONTROSE AVE   \n4                 Rock N Roll BP (GEI-157)         631-647 N LA SALLE DR   \n...                                    ...                           ...   \n1033611  AABALL HEATING SERVICE & SUPPLIES            8518 S ASHLAND AVE   \n1033612                          FOOD STOP           3734 W LAWRENCE AVE   \n1033613       FRANK'S CHICAGO SHRIMP HOUSE         5439 W ADDISON ST 1ST   \n1033614                  TERRANCE J. WATTS            9932 S SANGAMON ST   \n1033615                           Circle K            190 W MADISON ST 1   \n\n            CITY STATE ZIP_CODE  ...  LICENSE_TERM_START_DATE  \\\n0        CHICAGO    IL    60609  ...               2022-09-16   \n1        CHICAGO    IL    60645  ...               2020-12-17   \n2        CHICAGO    IL    60607  ...               2020-09-16   \n3        CHICAGO    IL    60613  ...               2022-06-16   \n4        CHICAGO    IL    60654  ...               2022-06-16   \n...          ...   ...      ...  ...                      ...   \n1033611  CHICAGO    IL    60620  ...               2016-07-16   \n1033612  CHICAGO    IL    60625  ...               2021-03-16   \n1033613  CHICAGO    IL    60641  ...               2007-08-16   \n1033614  CHICAGO    IL    60643  ...               2007-01-24   \n1033615  CHICAGO    IL    60602  ...               2022-09-09   \n\n         LICENSE_TERM_EXPIRATION_DATE LICENSE_APPROVED_FOR_ISSUANCE  \\\n0                          2024-09-15                    2022-08-05   \n1                          2023-01-15                    2020-12-16   \n2                          2022-09-15                    2020-08-20   \n3                          2024-06-15                    2022-05-10   \n4                          2024-06-15                    2022-05-10   \n...                               ...                           ...   \n1033611                    2018-07-15                    2016-05-31   \n1033612                    2022-03-15                    2021-04-02   \n1033613                    2009-08-15                    2007-08-24   \n1033614                    2009-02-15                           NaT   \n1033615                    2023-09-15                    2022-09-09   \n\n         DATE_ISSUED  LICENSE_STATUS LICENSE_STATUS_CHANGE_DATE   SSA  \\\n0         2022-08-08             AAI                        NaT   NaN   \n1         2020-12-17             AAC                 2022-08-08   NaN   \n2         2020-08-21             AAC                 2022-08-08   NaN   \n3         2022-05-11             AAI                        NaT  34.0   \n4         2022-05-11             AAI                        NaT   NaN   \n...              ...             ...                        ...   ...   \n1033611   2016-06-01             AAI                        NaT  69.0   \n1033612   2021-04-05             AAI                        NaT   NaN   \n1033613   2008-05-22             AAI                        NaT   NaN   \n1033614   2007-01-24             AAI                        NaT   NaN   \n1033615   2022-09-09             AAI                        NaT   NaN   \n\n          LATITUDE  LONGITUDE                                  LOCATION  \n0        41.820285 -87.665397   (41.82028493557808, -87.66539682158037)  \n1        42.019413 -87.688628  (42.019413270594214, -87.68862818775574)  \n2        41.885945 -87.653462   (41.88594495760403, -87.65346178255953)  \n3        41.961655 -87.655650  (41.961655308981946, -87.65564994485091)  \n4        41.893251 -87.632493   (41.89325119846543, -87.63249301222938)  \n...            ...        ...                                       ...  \n1033611  41.738831 -87.663289  (41.738831043655715, -87.66328877414871)  \n1033612  41.968417 -87.722060    (41.96841672465387, -87.7220597187097)  \n1033613  41.945810 -87.763441   (41.94580991762778, -87.76344146216435)  \n1033614  41.713160 -87.646789    (41.71316042726137, -87.6467890258547)  \n1033615  41.882058 -87.633533   (41.88205759473728, -87.63353326572278)  \n\n[1033616 rows x 34 columns]",
            "text/html": "<div>\n<style scoped>\n    .dataframe tbody tr th:only-of-type {\n        vertical-align: middle;\n    }\n\n    .dataframe tbody tr th {\n        vertical-align: top;\n    }\n\n    .dataframe thead th {\n        text-align: right;\n    }\n</style>\n<table border=\"1\" class=\"dataframe\">\n  <thead>\n    <tr style=\"text-align: right;\">\n      <th></th>\n      <th>ID</th>\n      <th>LICENSE_ID</th>\n      <th>ACCOUNT_NUMBER</th>\n      <th>SITE_NUMBER</th>\n      <th>LEGAL_NAME</th>\n      <th>DBA</th>\n      <th>ADDRESS</th>\n      <th>CITY</th>\n      <th>STATE</th>\n      <th>ZIP_CODE</th>\n      <th>...</th>\n      <th>LICENSE_TERM_START_DATE</th>\n      <th>LICENSE_TERM_EXPIRATION_DATE</th>\n      <th>LICENSE_APPROVED_FOR_ISSUANCE</th>\n      <th>DATE_ISSUED</th>\n      <th>LICENSE_STATUS</th>\n      <th>LICENSE_STATUS_CHANGE_DATE</th>\n      <th>SSA</th>\n      <th>LATITUDE</th>\n      <th>LONGITUDE</th>\n      <th>LOCATION</th>\n    </tr>\n  </thead>\n  <tbody>\n    <tr>\n      <th>0</th>\n      <td>2617269-20220916</td>\n      <td>2857496</td>\n      <td>1611</td>\n      <td>5</td>\n      <td>TTX COMPANY</td>\n      <td>TTX COMPANY</td>\n      <td>4016 S ASHLAND AVE</td>\n      <td>CHICAGO</td>\n      <td>IL</td>\n      <td>60609</td>\n      <td>...</td>\n      <td>2022-09-16</td>\n      <td>2024-09-15</td>\n      <td>2022-08-05</td>\n      <td>2022-08-08</td>\n      <td>AAI</td>\n      <td>NaT</td>\n      <td>NaN</td>\n      <td>41.820285</td>\n      <td>-87.665397</td>\n      <td>(41.82028493557808, -87.66539682158037)</td>\n    </tr>\n    <tr>\n      <th>1</th>\n      <td>2652692-20201217</td>\n      <td>2652692</td>\n      <td>456833</td>\n      <td>1</td>\n      <td>JYM INVESTMENTS LLC</td>\n      <td>WINGMAN</td>\n      <td>2321 W HOWARD ST 1ST</td>\n      <td>CHICAGO</td>\n      <td>IL</td>\n      <td>60645</td>\n      <td>...</td>\n      <td>2020-12-17</td>\n      <td>2023-01-15</td>\n      <td>2020-12-16</td>\n      <td>2020-12-17</td>\n      <td>AAC</td>\n      <td>2022-08-08</td>\n      <td>NaN</td>\n      <td>42.019413</td>\n      <td>-87.688628</td>\n      <td>(42.019413270594214, -87.68862818775574)</td>\n    </tr>\n    <tr>\n      <th>2</th>\n      <td>2647849-20200916</td>\n      <td>2739788</td>\n      <td>64603</td>\n      <td>7</td>\n      <td>LEOPARDO COMPANIES INC.</td>\n      <td>Leopardo Companies Inc</td>\n      <td>210 N CARPENTER ST 3RD FLOOR</td>\n      <td>CHICAGO</td>\n      <td>IL</td>\n      <td>60607</td>\n      <td>...</td>\n      <td>2020-09-16</td>\n      <td>2022-09-15</td>\n      <td>2020-08-20</td>\n      <td>2020-08-21</td>\n      <td>AAC</td>\n      <td>2022-08-08</td>\n      <td>NaN</td>\n      <td>41.885945</td>\n      <td>-87.653462</td>\n      <td>(41.88594495760403, -87.65346178255953)</td>\n    </tr>\n    <tr>\n      <th>3</th>\n      <td>1579838-20220616</td>\n      <td>2842924</td>\n      <td>289144</td>\n      <td>1</td>\n      <td>1021 MONTROSE, L.L.C.</td>\n      <td>Driftwood</td>\n      <td>1021 W MONTROSE AVE</td>\n      <td>CHICAGO</td>\n      <td>IL</td>\n      <td>60613</td>\n      <td>...</td>\n      <td>2022-06-16</td>\n      <td>2024-06-15</td>\n      <td>2022-05-10</td>\n      <td>2022-05-11</td>\n      <td>AAI</td>\n      <td>NaT</td>\n      <td>34.0</td>\n      <td>41.961655</td>\n      <td>-87.655650</td>\n      <td>(41.961655308981946, -87.65564994485091)</td>\n    </tr>\n    <tr>\n      <th>4</th>\n      <td>2027540-20220616</td>\n      <td>2841687</td>\n      <td>10726</td>\n      <td>5</td>\n      <td>GRAHAM ENTERPRISE INC</td>\n      <td>Rock N Roll BP (GEI-157)</td>\n      <td>631-647 N LA SALLE DR</td>\n      <td>CHICAGO</td>\n      <td>IL</td>\n      <td>60654</td>\n      <td>...</td>\n      <td>2022-06-16</td>\n      <td>2024-06-15</td>\n      <td>2022-05-10</td>\n      <td>2022-05-11</td>\n      <td>AAI</td>\n      <td>NaT</td>\n      <td>NaN</td>\n      <td>41.893251</td>\n      <td>-87.632493</td>\n      <td>(41.89325119846543, -87.63249301222938)</td>\n    </tr>\n    <tr>\n      <th>...</th>\n      <td>...</td>\n      <td>...</td>\n      <td>...</td>\n      <td>...</td>\n      <td>...</td>\n      <td>...</td>\n      <td>...</td>\n      <td>...</td>\n      <td>...</td>\n      <td>...</td>\n      <td>...</td>\n      <td>...</td>\n      <td>...</td>\n      <td>...</td>\n      <td>...</td>\n      <td>...</td>\n      <td>...</td>\n      <td>...</td>\n      <td>...</td>\n      <td>...</td>\n      <td>...</td>\n    </tr>\n    <tr>\n      <th>1033611</th>\n      <td>2204520-20160716</td>\n      <td>2465534</td>\n      <td>25985</td>\n      <td>1</td>\n      <td>AABALL HEATING SERVICE &amp; SUPPLIES, INC.</td>\n      <td>AABALL HEATING SERVICE &amp; SUPPLIES</td>\n      <td>8518 S ASHLAND AVE</td>\n      <td>CHICAGO</td>\n      <td>IL</td>\n      <td>60620</td>\n      <td>...</td>\n      <td>2016-07-16</td>\n      <td>2018-07-15</td>\n      <td>2016-05-31</td>\n      <td>2016-06-01</td>\n      <td>AAI</td>\n      <td>NaT</td>\n      <td>69.0</td>\n      <td>41.738831</td>\n      <td>-87.663289</td>\n      <td>(41.738831043655715, -87.66328877414871)</td>\n    </tr>\n    <tr>\n      <th>1033612</th>\n      <td>2652764-20210316</td>\n      <td>2770633</td>\n      <td>456868</td>\n      <td>1</td>\n      <td>SHOBHNA INC.</td>\n      <td>FOOD STOP</td>\n      <td>3734 W LAWRENCE AVE</td>\n      <td>CHICAGO</td>\n      <td>IL</td>\n      <td>60625</td>\n      <td>...</td>\n      <td>2021-03-16</td>\n      <td>2022-03-15</td>\n      <td>2021-04-02</td>\n      <td>2021-04-05</td>\n      <td>AAI</td>\n      <td>NaT</td>\n      <td>NaN</td>\n      <td>41.968417</td>\n      <td>-87.722060</td>\n      <td>(41.96841672465387, -87.7220597187097)</td>\n    </tr>\n    <tr>\n      <th>1033613</th>\n      <td>6415-20070816</td>\n      <td>1832401</td>\n      <td>376290</td>\n      <td>2</td>\n      <td>FRANK'S CHICAGO SHRIMP HOUSE, INC.</td>\n      <td>FRANK'S CHICAGO SHRIMP HOUSE</td>\n      <td>5439 W ADDISON ST 1ST</td>\n      <td>CHICAGO</td>\n      <td>IL</td>\n      <td>60641</td>\n      <td>...</td>\n      <td>2007-08-16</td>\n      <td>2009-08-15</td>\n      <td>2007-08-24</td>\n      <td>2008-05-22</td>\n      <td>AAI</td>\n      <td>NaT</td>\n      <td>NaN</td>\n      <td>41.945810</td>\n      <td>-87.763441</td>\n      <td>(41.94580991762778, -87.76344146216435)</td>\n    </tr>\n    <tr>\n      <th>1033614</th>\n      <td>1800007-20070124</td>\n      <td>1800007</td>\n      <td>313705</td>\n      <td>1</td>\n      <td>TERRANCE J. WATTS</td>\n      <td>TERRANCE J. WATTS</td>\n      <td>9932 S SANGAMON ST</td>\n      <td>CHICAGO</td>\n      <td>IL</td>\n      <td>60643</td>\n      <td>...</td>\n      <td>2007-01-24</td>\n      <td>2009-02-15</td>\n      <td>NaT</td>\n      <td>2007-01-24</td>\n      <td>AAI</td>\n      <td>NaT</td>\n      <td>NaN</td>\n      <td>41.713160</td>\n      <td>-87.646789</td>\n      <td>(41.71316042726137, -87.6467890258547)</td>\n    </tr>\n    <tr>\n      <th>1033615</th>\n      <td>2846254-20220909</td>\n      <td>2846254</td>\n      <td>349928</td>\n      <td>13</td>\n      <td>RDK VENTURES LLC</td>\n      <td>Circle K</td>\n      <td>190 W MADISON ST 1</td>\n      <td>CHICAGO</td>\n      <td>IL</td>\n      <td>60602</td>\n      <td>...</td>\n      <td>2022-09-09</td>\n      <td>2023-09-15</td>\n      <td>2022-09-09</td>\n      <td>2022-09-09</td>\n      <td>AAI</td>\n      <td>NaT</td>\n      <td>NaN</td>\n      <td>41.882058</td>\n      <td>-87.633533</td>\n      <td>(41.88205759473728, -87.63353326572278)</td>\n    </tr>\n  </tbody>\n</table>\n<p>1033616 rows × 34 columns</p>\n</div>"
          },
          "metadata": {}
        }
      ],
      "outputs_reference": null,
      "execution_count": null,
      "block_group": "29ee51409e3d43208000b70f8e65fb81",
      "content_dependencies": null
    },
    {
      "cell_type": "code",
      "source": "seen = set()  # Create a set to store unique values\nnew_list = []\n\nfor val in df_1['BUSINESS_ACTIVITY']:\n#   print(val)\n  if val != None:\n    for x in val.split('|'):\n        x = x.strip()\n        if x not in seen:\n            seen.add(x)  # Add unique value to the set\n            new_list.append(x)\nprint(new_list)",
      "metadata": {
        "source_hash": null,
        "execution_start": 1711505645088,
        "execution_millis": 328,
        "deepnote_to_be_reexecuted": false,
        "deepnote_app_block_visible": true,
        "cell_id": "c79a2019e8564498a2e51273fe5522af",
        "deepnote_cell_type": "code"
      },
      "outputs": [
        {
          "name": "stdout",
          "text": "['Miscellaneous Commercial Services', 'Sale of Food Prepared Onsite With Dining Area', 'Administrative Commercial Office', 'Tavern - Consumption of Liquor on Premise', 'Operation of a Fuel Filling Station', 'Freelance Writer (Home Based Business)', 'Graphic Design (Home Based Business)', 'Marketing / Advertising / Public Relations (Home Based Business)', 'Professional Consulting (Home Based Business)', 'Photography Services', 'Multi-Media Services', 'Nail Services', 'Provides Onsite Amusement or Entertainment', 'Graphic Design and Consultation', 'Retail Sales of General Merchandise', 'Retail Sales of Perishable Foods', 'Shared Housing Operator - Host of More Than One Shared Housing Unit', 'Retail Sale of Tobacco', 'Consumption of Liquor on Premises', 'Dry Cleaning - Drop Off Location', 'Organizer of a 1-5 Day Event w/ Pop-Up Retail Users at a Trade Show, Exhibition or Convention', 'Catering of Liquor To Events', 'Sale of Vehicle Parts and Accessories', 'Retail Sales of Tobacco Products', 'Retail Sales of Tobacco and Flavored Tobacco Products', 'Supervision of, and Care for, Children 0-6 Years of Age, During the Day between 6am-9pm', 'Supervision of, and Care for, Children 2-6 Years of Age, During the Day between 6am-9pm', 'Sales / Car Rental / Lease of Motorized Vehicles', 'Peddler (Over 65 Years of Age) - Retail Sales of General Merchandise, Whole Uncut Fruits/Vegetables, Flowers, Moving Along the Public Way', 'Pop-Up Food Est. User Host - Tier II (Pre-Packaged Prepared Hot/Cold Food. Final Prep On-Site)', 'Property Management / Real Estate Management', 'Sale of Food Prepared Onsite Without Dining Area', 'Motor Vehicle Repair -  Engine and Transmission Work', 'Retail Sales of Clothing / Accessories / Shoes', 'Retail Sales of General Merchandise and Non-Perishable Food', 'Preparation of Food and Dining on Premise With Seating', 'Home Repair Services (Home Based Business)', 'Peddler- Retail Sales of General Merchandise, Whole Uncut Fruits/Vegetables, Flowers, Moving Along the Public Way', 'Sale of Furniture', 'Commercial Janitorial Services', 'Home Repair Services', 'Residential Cleaning Services', 'Hair, Nail, and Skin Care Services', 'Storage or Use of Hazardous Materials (MFG)', \"Buying and Reselling of Used Children's Products\", 'Operation of a Commercial Passenger Vessel - Under 20 Passengers', 'Accounting / Tax Preparation (Home Based Business)', 'Retail Sales of Packaged Liquor', 'Rental of General Merchandise', 'Hotel - 7 or More Sleeping Rooms', 'Shared Kitchen User - Long Term', 'Operation of a Shared Kitchen - Secondary to Primary Business (Supplemental)', 'Preparation and Sale of Food (ONLY) from a Mobile Food Truck (Mobile Food Preparer)', 'Online Sales (Home Based Business)', 'Provide Home Health Care Services', 'Supervision of, and Care for, Children Under 2 Years of Age, During the Day between 6am-9pm', 'Hair Services', 'Sale of Liquor Outdoors on Private Property', 'Retail Sales of Tobacco Accessories', 'Provide Waxing Services', 'Wholesale Food Sales', 'Preparation of Food, Coffee or Drinks', 'Street Performer, Moving Along the Public Way', 'Miscellaneous Manufacturing', 'Retail Sales of New Electronics and Accessories', 'Retail Sales of Cell Phones and Accessories', 'Special Event Beer, Wine & Spirits', 'After School Program / Tutoring Children Under 18 Years of Age', 'Sales / Rental / Lease of Motorized Vehicles - Indoor Sales', 'Instruction in Dance for Both Children and Adults (Less Than 40% Children)', 'Skincare Services', 'Provide Non-Invasive Cupping Therapy', '5 Day Single Event  - Special Event Food', 'Fitness Classes', 'Street Performer, Moving Along the Public Way (Special)', 'Sale of Liquor Until 4am, Monday - Saturday and 5am on Sunday', 'Public Place of Amusement, Provides Entertainment, Room Rentals and Charges a Fee', 'Tax Preparation Services', 'Financial Services Commercial Office', 'Landscaping Services (Home Based Business)', 'Business and Management Consulting', 'Clothing Alterations', 'Other Home Based Businesses', 'Engine and Body Work w/ Spray Booth', 'Operation of a Hand Car Wash', 'Travel Agency - No Ticket Printing (Home Based Business)', 'Residential Real Estate Developer (Home Based Business)', 'Motor Vehicle Repair - Engine and Body Work', 'Not-For-Profit Selling Raffles for Prizes of $50 or More', 'Indoor Special Event', 'Miscellaneous Wholesale', \"Rental of Location for Children's Birthday Parties\", 'Tattoo / Permanent Body Art and Make-Up / Micro Blading', 'Retail Sales of Fresh Fruits and Vegetables (Leafy and Non Leafy Vegetables)', 'Electronic Equipment Repair', 'Interior Design / Consulting Services (Home Based Business)', 'Sampling of Vaping Products on Premises', 'Yoga Instruction', 'Acquisition and Improvement of Land/Residential Buildings (Residential Real Estate Developer)', 'Preparation of License, Certificate or Permit Applications for Compensation (Expediter Company)', 'Provide Animal Grooming Services', 'Retail Sales of Animal Treats and Animal Food', 'Sale and Storage of Tires (100 - 1000)', 'Consumption of Liquor on Premises - Not for Profit', 'Laundromat - Self Service', 'Commissioned Staffing of Professional, Secretarial and Clerical Work', 'Laundry Service', 'Laundry Service - Drop Off Only', 'Special Event Beer & Wine', 'Instruction in Music for Both Children and Adults (Less Than 40% Children)', 'Long Term Care Facility', 'Computer Design/Development Consulting', 'Fitness Training On and Off Premise', 'Health Club', 'Tanning Facility', 'Preparation and Sale of Coffee and/or Drinks', 'Organizer of a 91-180 Day Event w/ Pop-Up Retail Users at a Trade Show, Exhibition or Convention', 'Training in The Arts of Combat and Self-Defense, Music, Art, Gymnastics, Dance for Children Under 18 Years of Age (Less Than 40% Children)', 'Preparation of License, Certificate or Permit Applications For Compensation / Expediter (Home Based Business)', 'Storage or Use of Hazardous Materials', 'Provide Foot Massage - Fully Clothed/No Disrobing', 'Sales / Rental / Lease of Motorized Vehicles - Outdoor Sales', 'Miscellaneous Personal Services', 'Organizer of a 181-365 Day Event w/ Pop-Up Retail Users at a Trade Show, Exhibition or Convention', 'Retail Sales and Wholesale of Perishable Foods', 'Financial and Accounting Services', 'Private Booting Registration', 'Shipping / Printing Services', 'Printing Activities, Metal Processing', 'Manufacturing of Toys, Furniture, or Household Goods', 'Operate a Veterinary Hospital', 'Commercial Landscaping Services', 'Fence Installation, Brick Patios, Retaining Walls, Cement Work In Residential Properties', 'Residential Landscaping Services', 'Snowplowing', 'Shared Kitchen User - Short Term (90 Days or Less - Not Renewable)', 'Advertising / Marketing / Sales Office', 'Flooring and Window Install, Repair or Replace (Home Based Business)', 'Power-Washing Service (Home Based Business)', 'Residential Remodeling and Repair (Home Based Business)', 'Provide Animal Boarding Services', 'Animal Exhibition (30 Days or More)', 'Financial Services (Home Based Business)', 'Provide Full Body Massage Services', 'Retail Sales of Jewelry and Jewelry Repair', 'Food Manufacturing', 'Photographer, Portrait Artist, Videographer (Home Based Business)', 'Educational Consulting / Language Consultant (Home Based Business)', 'Provides Onsite Entertainment or Rentals', 'Supervision of, and Care for, Children 0-6 Years of Age, During the Day between 6am-9pm With Before and After School Programs', 'Payment Center', 'Valet Parking Operator', 'Supervision of, and Care for, Children Under 2 Years of Age, During the Day between 6am-9pm With Before and After School Programs', 'Travel Services', 'Manufacturing of Textiles, Apparel, Accessories, Luggage, Wood Products, Leather, Paper Products, Rubber, Petroleum, or Coal', 'Retail Sales of Flowers', 'Retail Sales of Used Electronics', 'Self Storage Facility', 'Retail Sales of Packaged Liquor on Sundays from 8AM - 11AM', '180 Day Multiple Events - Special Event Food', 'Storage or Use of Hazardous Materials On Site (MVR)', 'Wholesale Jewelry, Watches and Accessories', 'Computer Consulting Services / Computer Automated Design (Home Based Business)', 'Rental of Miscellaneous Items for Events and Parties', 'Training in Gymnastics for Children Under 18 Years of Age', 'Supervision of, and Care for, Children 2-6 Years of Age, During the Day between 6am-9pm With Before and After School Programs', 'Immigration Services', 'Special Event Beer Showcase Permit', 'Operation of Day Labor Agency / Temporary Staffing of Workers Where Wage Payments are Made Directly or Indirectly by the Agency', 'Heating, Ventilation and Air Conditioning Services - Residential', 'Buying and Reselling of Used Valuable Objects', 'Expedited Restaurant without On-Premises Consumption', 'Training in the Arts of Combat and Self-Defense for Both Adults and Children (40% or More Children)', 'Motor Vehicle Repair - No Engine Work/No Body Work', 'Instruction in Dance for Children Under 18 Years of Age', 'Commercial Construction', 'Event Planning Services / Wedding Planner (Home Based Business)', 'Expedited Restaurant with On-Premises Consumption', '181-365 Day Pop-Up Retail User, Sale of General Merchandise/Seasonal Items', 'Provide Oil Change Services', 'Instruction in Art for Both Children and Adults (Less Than 40% Children)', 'Sale of Art', 'Web / Software Development', 'Engage in Body Piercing', 'Residential Cleaning (Home Based Business)', 'Retail Sale of Food for Offsite Consumption', 'Accounting Services (Tax Preparation, Bookkeeping)', 'Sales of Tickets (Airline, Etc)', 'Provide Chair Massage - Fully Clothed/No Disrobing', 'Disc Jockey / Magician / Musician / Enertainer (Home Based Business)', 'Instruction in Art for Both Children and Adults (40% or More Children)', 'Buying and Reselling of Used Goods That Are Not Valuable (No Articles Made of Precious Metals or Precious Gems)', 'Provide Animal Training Services', 'Provide Animal Day Care Services', 'Home Health Care Agencies (Home Based Business)', 'Automatic Food Vending Machine Business', 'Selling Cable, Satellite, or Internet Services', 'Sale of Balloons, Balloon Bouquets and Decor', 'Direct Food Sales to Businesses', 'Retail Sales of Appliances', 'Ticket Sales for Athletic Events or Other Amusement or Any Passenger Ticket', 'Business Consulting', 'Retail Sale of Funeral Related Items', 'Combination - Street Performer and Retail Sales of General Merchandise, Whole Uncut Fruits/Vegetables, Flowers', 'Private Scavenger - Vehicle', 'Operate a Pet Shop / Sales of Animals', 'Install/Replace Car Batteries', 'Heating, Ventilation and Air Conditioning Services - Commercial', 'Virtual Office Services', 'Sale of General Merchandise at Flea Market / Short Term Only / 1-5 Consecutive Days', 'Training in The Arts of Combat and Self-Defense, Music, Art, Gymnastics, Dance for Adults', 'Security Services', 'Property Management / Real Estate Management (Home Based Business)', 'Operate a Not For Profit Humane Society', 'Organizer of Vendors That Sell for Retail at a Trade Show, Exhibition or Convention', 'Manufacturing of Musical Instruments, Games, Toys', 'Special Event Food', 'Operation of Single Room Occupancy Building', '180 Day Multiple Events - Special Event Food, Mobile Food Vehicle', 'Vending Machines (Sodas, Candy, Chips)', 'Junk Peddler', 'Operation of Tow Storage Lot Within the City of Chicago', 'Retail Sales of Flavored Tobacco Products', 'Retail Sales of Tobacco Products and Accessories (Less Than 80% Gross Revenue of Business)', 'Manufacturing of Plastics, Foams, Construction Materials, Glass, or Rubber', 'Retail Sales of Laundry Cleaning Products', 'Residential Construction / Minor Home Repair Services', 'Operation of a Commercial Passenger Vessel - 20 or More Passengers', 'Sale and Storage of Tires (1,001 - 5,000)', 'Training in The Arts of Combat and Self-Defense, Music, Art, Gymnastics, Dance for Children Under 18 Years of Age (40% Or More Children)', 'Provide 4 or More Parking Spaces For a Fee - Available and Advertised to the Public', 'Machine Shop, Foundry, Roof / Paving Materials', 'Roof Repair and Installation', \"Children's Activities Facilities\", 'Operation of a Deli, Butcher or Bakery', 'Buying and Reselling of Used Cell Phones', 'Pharmacy / Photo Services', 'Smoking of Tobacco on Premises', 'Training in the Arts of Combat and Self-Defense for Both Adults and Children (Less Than 40% Children)', 'Dry Cleaning - Plant On Premises', 'Sales Through an Auction', 'Debt Collecting - Administrative Commercial Office', 'Industrial Private Event Venue', 'Instruction in Art for Children Under 18 Years of Age', 'Provide Amusement Devices for Children - Less Than 3 Devices', 'Operation of an Automatic Car Wash', 'Instruction in Music for Children Under 18 Years of Age', 'Heating, Ventilation and Air Conditioning Services - Residential Only (Home Based Business)', 'Medical Laboratories', 'Consumption of Liquor on Premises - Lakefront Venue', 'Renting Computer Terminals for Internet Use', 'Repair of Appliances or Household Goods', 'Organizer of a 6-30 Day Event w/ Pop- Up Retail Users at a Trade Show, Exhibition or Convention', '1 Yr Multiple Events - Special Event Food', 'Equipment Rental For Parties and Events (Home Based Business)', 'Assisted Living Establishment', 'Operation of a Tow Truck', 'Drug, Chemical, or Paint Factory', 'Employee of Expediter Service', 'Dog Walking, Pet Sitting Services (Home Based Business)', 'Window Washer, Vehicle Washer (Home Based Business)', 'Machinery Manufacturing', 'Media Consulting (Home Based Business)', 'Storage of More Than 30 Gallons of Hazardous Materials (Paint Thinner, Lacquer, Oil Based Paints)', 'Locksmith Services (Home Based Business)', 'Live Theatrical and Other Live Cultural Performances (Performing Arts Venue)', 'Training in the Arts of Combat and Self-Defense for Children Under 18 Years of Age', 'Sale of General Merchandise at Flea Market / Short Term Only / 181-365 Consecutive Days', 'Publishing Services', 'Carpet Cleaning Services', 'Moving Company', 'Home Repair / Handy Man Services', 'Pledging of Property for Money (Pawnbroker / Pawn Shop)', 'Shared Kitchen User - Long Term Sale of Food Prepared Onsite (Includes the Use of Tier III Pop Up Food Est. User License)', 'Consumption of Liquor on Premises - Riverwalk Venue', 'Rental of Private Event Space (Less Than 100 Person Occupancy)', 'Beauty Salon, Hair Salon, Nail Salon', 'Instruction in Dance for Both Children and Adults (40% or More Children)', 'Private Booting of Vehicles', '91-180 Day Pop-Up Retail User, Sale of General Merchandise/Seasonal Items', 'Recreational Sports Facility for Children Under 18 Years of Age', 'Retail Sales of Fresh Fruits', 'Retail Sales of Non-Leafy Vegetables', '90 Day Pop-Up Food Est. User - Tier II (Sale of Pre-Packaged, Prepared Hot/Cold Food, Final Prep On-Site)', 'Transportation Network Provider', 'Provide Oil Change and Tire Repair Services', 'Distribution, Placing, Leasing or Sales of Automatic Amusement Devices', 'Supervision of, and Care for Children, During the Evening between 9pm-6am', '10 Day Multiple Events - Special Event Food, Mobile Food Vehicle', 'Taxicab License Manager', 'Registration of a Fast-Track Business Sign', 'Retail Sales of Tobacco Products and Accessories (80% or Higher Gross Revenue of Business)', 'Retail Sales of Electronic Cigarettes and Liquid Nicotine Products and Accessories (Under 20% of Gross Revenue of Business)', 'Engine Repairs and/or Service/Installation of Transmissions', 'Provide Diagnostic Imaging Services', 'Sale of Automobiles (Outdoor)', '1 Year Pop-Up Food Est. User - Tier I (Sale of Pre-Packaged, Non-Perishable Food)', 'Sale of General Merchandise at Flea Market / Short Term Only / 91-180 Consecutive Days', '61-90 Day Pop-Up Retail User, Sale of General Merchandise/Seasonal Items', 'Sales of Packaged Frozen Desserts From a Non-Motorized Cart (Mobile Desserts Vendor)', 'Medical Billing (Home Based Business)', 'Cable or Satellite Installation - Commercial Properties', 'Cable or Satellite Installation - Residential Properties', 'Office for Demolition / Wrecking Company', 'Excavation Services', 'Sales of Previously Prepared Food (ONLY) that is Enclosed or Wrapped In Individual Portions From a Mobile Food Vehicle (Mobile Food Dispenser)', '5 Day Single Event- Special Event Food, Mobile Food Vehicle', 'Organizer of a 31-90 Day Event w/ Pop-Up Retail Users at a Trade Show, Exhibition or Convention', 'Provide Guard Dog Services', 'Wholesale Tobacco Product Sales', 'Training in Gymnastics for Both Children and Adults (Less Than 40% Children)', '1-5 Day Pop-Up Retail User, Sale of General Merchandise/Seasonal Items', 'Sign Manufacturing', 'Music and Dance', 'Retail Sales of Carpet and/or Flooring', 'Operation of a Scooter Sharing Business', 'Immigration Services (Home Based Business)', 'Installation/Repair/Changing of Tires', 'Operation of a Shared Kitchen', 'Board Up Services for Commercial Locations', 'Board Up Services for Residential Locations', 'Massage Establishment', 'Rental of Furniture', 'Fortune Telling, Astrology, Tarot Card Reading Only', 'Combination (Special)- Street Performer and Retail Sales of General Merchandise, Whole Uncut Fruits/Vegetables, Flowers', 'Retail Sales of Musical Instruments', 'Operation of a Tow Truck By a Company That Has No Storage Lot', 'Phone Sales (Home Based Business)', 'Provide Photography or Videography Services', 'Window Tinting, Body Work, Painting', 'Live Theatrical and Other Live Cultural Performances Where Organization is Operating as an Incidental Use In a Building Primarily Used In The Conduct of Activities of a Not-For-Profit Organization', '1 Yr Multiple Events - Special Event Food, Mobile Food Vehicle', 'Computer and Electronic Products Manufacturing', '10 Day Multiple Events - Special Event Food', 'Engage in Microblading Activities', 'Adult Family Care Center (9 to 11 Adults, 55 Years and Older)', 'Upholstery Cleaning/Repair - Offsite', 'Retail Food-Seasonal Lakefront', 'Language Interpreter, Translator (Home Based Business)', 'Art Consultant / Art Appraisal Services (Home Based Business)', 'Taxi Affiliation', 'Animal Care Facility', 'Manufacturing of Jewelry, Watches and Accessories', 'Manufacturing of Electrical Equipment, Appliances and Components', 'Mobile Cart at Navy Pier - Sale of Liquor', 'Wrigley Field Rooftop', 'Sale of General Merchandise, Seasonal Items', 'Sales of Stun Guns, Tasers or Ammunition', 'Operation of an Outdoor Entertainment Venue', 'Taxicab Two-Way Dispatch Service License', 'Sales of Packaged Food From a Non-Motorized Cart (Mobile Prepared Food Vendor)', 'Sales of Produce, Vegetables, Flowers or Beverages From a Non-Motorized Temporary Structure (Produce Merchant)', 'Shoe / Leather Goods Repair', 'Instruction in Music for Both Children and Adults (40% or More Children)', 'Manufacturing of Motorized and Non-Motorized Vehicle Parts and Supplies', 'Provide 4 or More Parking Spaces For a Fee - to Residents, Tenants, Users, Employees and/or Guests (Not Available or Advertised to the Public)', 'Retail Sales of General Merchandise and Non-Perishable Food From a Kiosk/Cart/Arcade at Navy Pier', 'Buying and Reselling of Used Goods That Are Valuable (Jewelry, Precious Metals, Stones, Gems, Currency)', 'Importing and/or Exporting of Goods', 'Shared Kitchen User - Long Term Sale of Food Prepared Onsite (Includes the Use of Tier II Pop Up Food Est. User License)', 'Snow Removal Service (Home Based Business)', '6-30 Day Pop-Up Retail User, Sale of General Merchandise/Seasonal Items', 'Taxi Affiliation and Two Way Radio Dispatch', 'Upholstery Cleaning/Repair - Onsite', 'Smoking of Tobacco on Premises Using Hookah Pipes', 'Install/Replace Windshield Glass or Windows', 'Telephone Answering Service (Home Based Business)', '180 Day Pop-Up Food Est. User - Tier I (Sale of Pre-Packaged, Non-Perishable Food)', 'Bicycle Messenger Service', 'Retail Sales of Outdoor Equipment and Supplies', '5 Day Pop-Up Food Est. User - Tier I (Sale of Pre-Packaged, Non-Perishable Food)', 'License Broker', 'Use of Explosives', 'Enagage in Ear Piercing Services', 'Operation of a Heliport, Helistop or Vertiport', 'Sales of Produce From a Produce Stand Located on an Urban Farm (Produce Merchant)', 'Indoor Special Event Class A (Permanent)', 'Manufacturing of Medical Equipment and Supplies', 'Shared Kitchen User - Short Term (90 Days or Less) (Includes the Use of Tier II Pop Up Food Est. User License)', 'Rental of Musical Instruments', 'Non Traditional Business Activity', 'Administrative office for Towing Services', 'Operation of a Delivery Service', 'Retail Sales of Food From a Kiosk/Cart/Arcade at Navy Pier', 'Training in Gymnastics for Both Children and Adults (40% or More Children)', 'Moving Service (Home Based Business)', 'Sale of Goods From a Motor Vehicle With an Electric Power Inverter (Mobile Merchant)', 'Wrigley Field Sports Plaza', 'Pop-Up Food Est. User Host - Tier III (Prepare and Serve Hot/Cold Food On-Site)', 'Distribution of Tobacco Product Samples to The General Public', 'Artist Work / Live Space', 'Provide Window Tinting Services', 'Provide Auto Detailing Services', 'Off Site Equipment Repair (Computer,TV,  Etc) (Home Occ)', 'Provide 4 or More Parking Spaces For a Fee - Available and Advertised to the Public - Entertainment Garage', 'Preparation of Food AND Sales of Previously Prepared Food from a Mobile Food Vehicle/Truck', 'Operation of a Personal Delivery Device Program (Pilot)', 'Virtual Office', 'Provide Dog Walking Services', 'Sale of Goods From a Motor Vehicle With another Power Source (Mobile Merchant)', 'Ticket Sales', 'Exterminator / Pest Control Services', 'Manufacturing of Home, Office, Military, Government Supplies', 'Animal Shelter Cafe Permit', 'Sale and Storage of Tires (5,001 - 10,000)', 'Repair/Replace Upholstery', 'Install Automobile Pinstriping', 'Sale of Automobiles (Indoor within an Enclosed Structure)', 'Sale of Products Infused With CBD', 'Retail Sales of Electronic Cigarettes and Liquid Nicotine Products and Accessories (20% or Higher Gross Revenue of Business)', 'Dry Cleaning - Self Service Machines', 'Art Design', 'Storage of Automobiles', 'Retail Sales of Live Poultry', 'Operation of General Medical and Surgical Hospitals', 'Sale of General Merchandise at Flea Market / Short Term Only / 31-90 Consecutive Days', \"Retail Sale of Liquor From a Kiosk at O'Hare or Midway Airport\", 'Provide Adult Day Care Services', \"Retail Sale of Liquor From a Kiosk at O'Hare or Midway Airport -Temporary\", 'Debt Collecting (Home Based Business)', 'Sales of Packaged Frozen Desserts From a Motorized 3 Wheeled Vehicle (Mobile Desserts Vendor)', 'Mobile Boutique Operator', '90 Day Pop-Up Food Est. User - Tier III (Prepare and Serve Hot/Cold Food On-Site)', 'Employee of a Wrecking/Demolition/Fireworks Contractor (Cert. of Fitness)', 'Wholesale of Liquid Nicotine and Products', 'Operation of a Dockless Scooter Program (Pilot)', 'Emerging Business', 'Manufacturing of Non-Human Food / Pet Food', 'Light Manufacturing', 'Sale of General Merchandise at Flea Market / Short Term Only / 6-30 Consecutive Days', 'Residential Installation of Appliances / Blinds / Carpet', 'Installation of Car Radio/Audio Systems', 'Sale of Food Prepared Onsite (Includes the Use of Tier II Pop Up Food Est. User License)', 'Provide Rental of Photo Booths', '90 Day Pop-Up Food Est. User - Tier I (Sale of Pre-Packaged, Non-Perishable Food)', 'Ticket Broker', 'Ticket Broker Services', '30 Day Pop-Up Food Est. User - Tier I (Sale of Pre-Packaged, Non-Perishable Food)', 'Sale of Stun Guns and Tasers', 'Professional Firearm Curator', 'Provide Disc Jockey or Karaoke Services']\n",
          "output_type": "stream"
        }
      ],
      "outputs_reference": null,
      "execution_count": null,
      "block_group": "4f50bb840bc1425bb9b7f909c8769868",
      "content_dependencies": null
    },
    {
      "cell_type": "code",
      "source": "len(seen)",
      "metadata": {
        "source_hash": null,
        "execution_start": 1711505649952,
        "execution_millis": 113,
        "deepnote_to_be_reexecuted": false,
        "deepnote_app_block_visible": true,
        "cell_id": "9eb4ab6a6c5f4d0ab6b92396bbc12aff",
        "deepnote_cell_type": "code"
      },
      "outputs": [
        {
          "output_type": "execute_result",
          "execution_count": 8,
          "data": {
            "text/plain": "441"
          },
          "metadata": {}
        }
      ],
      "outputs_reference": null,
      "execution_count": null,
      "block_group": "25ee4611aba14ccca3136b3531bc4af6",
      "content_dependencies": null
    },
    {
      "cell_type": "code",
      "source": "with open('unique_values.txt', 'w') as f:\n  f.write('\\n'.join(new_list))",
      "metadata": {
        "source_hash": null,
        "execution_start": 1711505656034,
        "execution_millis": 341,
        "deepnote_to_be_reexecuted": false,
        "deepnote_app_block_visible": true,
        "cell_id": "cfa395da1f8a4505a9019b3f07314cca",
        "deepnote_cell_type": "code"
      },
      "outputs": [],
      "outputs_reference": null,
      "execution_count": null,
      "block_group": "a00facacc16d47608a7c47de989bbbc8",
      "content_dependencies": null
    },
    {
      "cell_type": "code",
      "source": "# calling the Nominatim tool and create Nominatim class\nloc = Nominatim(user_agent=\"Geopy Library\")\n\ndef getLongAlt(address):\n    getLoc = loc.geocode(address)\n    return getLoc.latitude, getLoc.longitude",
      "metadata": {
        "source_hash": null,
        "execution_start": 1712270490357,
        "execution_millis": 57,
        "deepnote_to_be_reexecuted": false,
        "deepnote_app_block_visible": true,
        "cell_id": "25619c81fc2d44fc9553cbcca1d4af1f",
        "deepnote_cell_type": "code"
      },
      "outputs": [],
      "outputs_reference": null,
      "execution_count": null,
      "block_group": "6e4aa6e3d0994e6b8e341779b164d577",
      "content_dependencies": null
    },
    {
      "cell_type": "code",
      "source": "tif_geo = gpd.read_file('Boundaries TIF.geojson')\ncom_geo = gpd.read_file('Community Areas.geojson')\n# Set the coordinate reference system to the standard latitude/longitude system\ntif_geo = tif_geo.set_crs(epsg=4326)\ncom_geo = com_geo.set_crs(epsg=4326)\n\n# tif_geo.plot()\n# tif.shape\n# len(tif)",
      "metadata": {
        "source_hash": null,
        "execution_start": 1712276181349,
        "execution_millis": 1257,
        "deepnote_to_be_reexecuted": false,
        "deepnote_app_block_visible": true,
        "cell_id": "0f67d10ac5ca4b2aab7e21603bc2628a",
        "deepnote_cell_type": "code"
      },
      "outputs": [],
      "outputs_reference": null,
      "execution_count": null,
      "block_group": "54b33fb4c1934d919569db4e0d88e9a9",
      "content_dependencies": null
    },
    {
      "cell_type": "code",
      "source": "def isInsideTIF_Geo(point):# Point(long, lat)\n    # takes a Point class and returns the index of the TIF that contains the Point\n    # NOTE: RETURNS AN ARRAY NOT BOOL\n    returnArray = []\n    # iterate over all the distrcits and see if it contains the given point\n    for index, row in tif_geo.iterrows():\n        if row['geometry'].contains(point):\n            # returnArray.append(index)\n            returnArray.append(row['name'])\n    \n    return returnArray\n\n# long, lat\nprint(isInsideTIF_Geo(Point(-87.65454023,41.68421355)))\n",
      "metadata": {
        "source_hash": null,
        "execution_start": 1709868238473,
        "execution_millis": 140,
        "deepnote_to_be_reexecuted": false,
        "deepnote_app_block_visible": true,
        "cell_id": "ac819fe78966477f84ef03a5aef21eb5",
        "deepnote_cell_type": "code"
      },
      "outputs": [
        {
          "name": "stdout",
          "text": "['119th Street/I-57']\n",
          "output_type": "stream"
        }
      ],
      "outputs_reference": null,
      "execution_count": null,
      "block_group": "23e857c0a22c48aeb887bcec4e718de2",
      "content_dependencies": null
    },
    {
      "cell_type": "code",
      "source": "df_1['TIF_Name'] = [isInsideTIF_Geo(Point(row['LONGITUDE'],row['LATITUDE'])) for index, row in df_1.iterrows()]\ndf_1.to_csv('BusWithTIF.csv', index=False)\ndf_1",
      "metadata": {
        "source_hash": null,
        "execution_start": 1709868252436,
        "execution_millis": 8831314,
        "deepnote_to_be_reexecuted": false,
        "deepnote_app_block_visible": true,
        "cell_id": "78a991af8cd74eaca4cf5307b5b30018",
        "deepnote_cell_type": "code"
      },
      "outputs": [
        {
          "output_type": "execute_result",
          "execution_count": 8,
          "data": {
            "application/vnd.deepnote.dataframe.v3+json": {
              "column_count": 35,
              "row_count": 1033616,
              "columns": [
                {
                  "name": "ID",
                  "dtype": "object"
                },
                {
                  "name": "LICENSE_ID",
                  "dtype": "int64"
                },
                {
                  "name": "ACCOUNT_NUMBER",
                  "dtype": "int64"
                },
                {
                  "name": "SITE_NUMBER",
                  "dtype": "int64"
                },
                {
                  "name": "LEGAL_NAME",
                  "dtype": "object"
                },
                {
                  "name": "DBA",
                  "dtype": "object"
                },
                {
                  "name": "ADDRESS",
                  "dtype": "object"
                },
                {
                  "name": "CITY",
                  "dtype": "object"
                },
                {
                  "name": "STATE",
                  "dtype": "object"
                },
                {
                  "name": "ZIP_CODE",
                  "dtype": "object"
                },
                {
                  "name": "WARD",
                  "dtype": "float64"
                },
                {
                  "name": "PRECINCT",
                  "dtype": "float64"
                },
                {
                  "name": "WARD_PRECINCT",
                  "dtype": "object"
                },
                {
                  "name": "POLICE_DISTRICT",
                  "dtype": "float64"
                },
                {
                  "name": "LICENSE_CODE",
                  "dtype": "int64"
                },
                {
                  "name": "LICENSE_DESCRIPTION",
                  "dtype": "object"
                },
                {
                  "name": "BUSINESS_ACTIVITY_ID",
                  "dtype": "object"
                },
                {
                  "name": "BUSINESS_ACTIVITY",
                  "dtype": "object"
                },
                {
                  "name": "LICENSE_NUMBER",
                  "dtype": "int64"
                },
                {
                  "name": "APPLICATION_TYPE",
                  "dtype": "object"
                },
                {
                  "name": "APPLICATION_CREATED_DATE",
                  "dtype": "datetime64[us]"
                },
                {
                  "name": "APPLICATION_REQUIREMENTS_COMPLETE",
                  "dtype": "datetime64[us]"
                },
                {
                  "name": "PAYMENT_DATE",
                  "dtype": "datetime64[us]"
                },
                {
                  "name": "CONDITIONAL_APPROVAL",
                  "dtype": "object"
                },
                {
                  "name": "LICENSE_TERM_START_DATE",
                  "dtype": "datetime64[us]"
                },
                {
                  "name": "LICENSE_TERM_EXPIRATION_DATE",
                  "dtype": "datetime64[us]"
                },
                {
                  "name": "LICENSE_APPROVED_FOR_ISSUANCE",
                  "dtype": "datetime64[us]"
                },
                {
                  "name": "DATE_ISSUED",
                  "dtype": "datetime64[us]"
                },
                {
                  "name": "LICENSE_STATUS",
                  "dtype": "object"
                },
                {
                  "name": "LICENSE_STATUS_CHANGE_DATE",
                  "dtype": "datetime64[us]"
                },
                {
                  "name": "SSA",
                  "dtype": "float64"
                },
                {
                  "name": "LATITUDE",
                  "dtype": "float64"
                },
                {
                  "name": "LONGITUDE",
                  "dtype": "float64"
                },
                {
                  "name": "LOCATION",
                  "dtype": "object"
                },
                {
                  "name": "TIF_Name",
                  "dtype": "object"
                },
                {
                  "name": "_deepnote_index_column",
                  "dtype": "int64"
                }
              ],
              "rows": [
                {
                  "ID": "2617269-20220916",
                  "LICENSE_ID": 2857496,
                  "ACCOUNT_NUMBER": 1611,
                  "SITE_NUMBER": 5,
                  "LEGAL_NAME": "TTX COMPANY",
                  "DBA": "TTX COMPANY",
                  "ADDRESS": "4016 S ASHLAND AVE",
                  "CITY": "CHICAGO",
                  "STATE": "IL",
                  "ZIP_CODE": "60609",
                  "WARD": 12,
                  "PRECINCT": 19,
                  "WARD_PRECINCT": "12-19",
                  "POLICE_DISTRICT": 9,
                  "LICENSE_CODE": 1010,
                  "LICENSE_DESCRIPTION": "Limited Business License",
                  "BUSINESS_ACTIVITY_ID": "708",
                  "BUSINESS_ACTIVITY": "Miscellaneous Commercial Services",
                  "LICENSE_NUMBER": 2617269,
                  "APPLICATION_TYPE": "RENEW",
                  "APPLICATION_CREATED_DATE": "NaT",
                  "APPLICATION_REQUIREMENTS_COMPLETE": "2022-07-15 00:00:00",
                  "PAYMENT_DATE": "2022-08-05 00:00:00",
                  "CONDITIONAL_APPROVAL": "N",
                  "LICENSE_TERM_START_DATE": "2022-09-16 00:00:00",
                  "LICENSE_TERM_EXPIRATION_DATE": "2024-09-15 00:00:00",
                  "LICENSE_APPROVED_FOR_ISSUANCE": "2022-08-05 00:00:00",
                  "DATE_ISSUED": "2022-08-08 00:00:00",
                  "LICENSE_STATUS": "AAI",
                  "LICENSE_STATUS_CHANGE_DATE": "NaT",
                  "SSA": "nan",
                  "LATITUDE": 41.820284936,
                  "LONGITUDE": -87.665396822,
                  "LOCATION": "(41.82028493557808, -87.66539682158037)",
                  "TIF_Name": "[]",
                  "_deepnote_index_column": 0
                },
                {
                  "ID": "2652692-20201217",
                  "LICENSE_ID": 2652692,
                  "ACCOUNT_NUMBER": 456833,
                  "SITE_NUMBER": 1,
                  "LEGAL_NAME": "JYM INVESTMENTS LLC",
                  "DBA": "WINGMAN",
                  "ADDRESS": "2321 W HOWARD ST 1ST",
                  "CITY": "CHICAGO",
                  "STATE": "IL",
                  "ZIP_CODE": "60645",
                  "WARD": 49,
                  "PRECINCT": 21,
                  "WARD_PRECINCT": "49-21",
                  "POLICE_DISTRICT": 24,
                  "LICENSE_CODE": 1006,
                  "LICENSE_DESCRIPTION": "Retail Food Establishment",
                  "BUSINESS_ACTIVITY_ID": "781",
                  "BUSINESS_ACTIVITY": "Sale of Food Prepared Onsite With Dining Area",
                  "LICENSE_NUMBER": 2652692,
                  "APPLICATION_TYPE": "ISSUE",
                  "APPLICATION_CREATED_DATE": "2019-03-01 00:00:00",
                  "APPLICATION_REQUIREMENTS_COMPLETE": "2020-11-18 00:00:00",
                  "PAYMENT_DATE": "2020-11-19 00:00:00",
                  "CONDITIONAL_APPROVAL": "N",
                  "LICENSE_TERM_START_DATE": "2020-12-17 00:00:00",
                  "LICENSE_TERM_EXPIRATION_DATE": "2023-01-15 00:00:00",
                  "LICENSE_APPROVED_FOR_ISSUANCE": "2020-12-16 00:00:00",
                  "DATE_ISSUED": "2020-12-17 00:00:00",
                  "LICENSE_STATUS": "AAC",
                  "LICENSE_STATUS_CHANGE_DATE": "2022-08-08 00:00:00",
                  "SSA": "nan",
                  "LATITUDE": 42.019413271,
                  "LONGITUDE": -87.688628188,
                  "LOCATION": "(42.019413270594214, -87.68862818775574)",
                  "TIF_Name": "[]",
                  "_deepnote_index_column": 1
                },
                {
                  "ID": "2647849-20200916",
                  "LICENSE_ID": 2739788,
                  "ACCOUNT_NUMBER": 64603,
                  "SITE_NUMBER": 7,
                  "LEGAL_NAME": "LEOPARDO COMPANIES INC.",
                  "DBA": "Leopardo Companies Inc",
                  "ADDRESS": "210 N CARPENTER ST 3RD FLOOR",
                  "CITY": "CHICAGO",
                  "STATE": "IL",
                  "ZIP_CODE": "60607",
                  "WARD": 27,
                  "PRECINCT": "nan",
                  "WARD_PRECINCT": "27-",
                  "POLICE_DISTRICT": "nan",
                  "LICENSE_CODE": 1010,
                  "LICENSE_DESCRIPTION": "Limited Business License",
                  "BUSINESS_ACTIVITY_ID": "602",
                  "BUSINESS_ACTIVITY": "Administrative Commercial Office",
                  "LICENSE_NUMBER": 2647849,
                  "APPLICATION_TYPE": "RENEW",
                  "APPLICATION_CREATED_DATE": "NaT",
                  "APPLICATION_REQUIREMENTS_COMPLETE": "2020-07-15 00:00:00",
                  "PAYMENT_DATE": "2020-08-20 00:00:00",
                  "CONDITIONAL_APPROVAL": "N",
                  "LICENSE_TERM_START_DATE": "2020-09-16 00:00:00",
                  "LICENSE_TERM_EXPIRATION_DATE": "2022-09-15 00:00:00",
                  "LICENSE_APPROVED_FOR_ISSUANCE": "2020-08-20 00:00:00",
                  "DATE_ISSUED": "2020-08-21 00:00:00",
                  "LICENSE_STATUS": "AAC",
                  "LICENSE_STATUS_CHANGE_DATE": "2022-08-08 00:00:00",
                  "SSA": "nan",
                  "LATITUDE": 41.885944958,
                  "LONGITUDE": -87.653461783,
                  "LOCATION": "(41.88594495760403, -87.65346178255953)",
                  "TIF_Name": "['Kinzie Industrial Conservation Area']",
                  "_deepnote_index_column": 2
                },
                {
                  "ID": "1579838-20220616",
                  "LICENSE_ID": 2842924,
                  "ACCOUNT_NUMBER": 289144,
                  "SITE_NUMBER": 1,
                  "LEGAL_NAME": "1021 MONTROSE, L.L.C.",
                  "DBA": "Driftwood",
                  "ADDRESS": "1021 W MONTROSE AVE",
                  "CITY": "CHICAGO",
                  "STATE": "IL",
                  "ZIP_CODE": "60613",
                  "WARD": 46,
                  "PRECINCT": 9,
                  "WARD_PRECINCT": "46-9",
                  "POLICE_DISTRICT": 19,
                  "LICENSE_CODE": 1470,
                  "LICENSE_DESCRIPTION": "Tavern",
                  "BUSINESS_ACTIVITY_ID": "829",
                  "BUSINESS_ACTIVITY": "Tavern - Consumption of Liquor on Premise",
                  "LICENSE_NUMBER": 1579838,
                  "APPLICATION_TYPE": "RENEW",
                  "APPLICATION_CREATED_DATE": "NaT",
                  "APPLICATION_REQUIREMENTS_COMPLETE": "2022-04-15 00:00:00",
                  "PAYMENT_DATE": "2022-05-10 00:00:00",
                  "CONDITIONAL_APPROVAL": "N",
                  "LICENSE_TERM_START_DATE": "2022-06-16 00:00:00",
                  "LICENSE_TERM_EXPIRATION_DATE": "2024-06-15 00:00:00",
                  "LICENSE_APPROVED_FOR_ISSUANCE": "2022-05-10 00:00:00",
                  "DATE_ISSUED": "2022-05-11 00:00:00",
                  "LICENSE_STATUS": "AAI",
                  "LICENSE_STATUS_CHANGE_DATE": "NaT",
                  "SSA": 34,
                  "LATITUDE": 41.961655309,
                  "LONGITUDE": -87.655649945,
                  "LOCATION": "(41.961655308981946, -87.65564994485091)",
                  "TIF_Name": "['Wilson Yard']",
                  "_deepnote_index_column": 3
                },
                {
                  "ID": "2027540-20220616",
                  "LICENSE_ID": 2841687,
                  "ACCOUNT_NUMBER": 10726,
                  "SITE_NUMBER": 5,
                  "LEGAL_NAME": "GRAHAM ENTERPRISE INC",
                  "DBA": "Rock N Roll BP (GEI-157)",
                  "ADDRESS": "631-647 N LA SALLE DR",
                  "CITY": "CHICAGO",
                  "STATE": "IL",
                  "ZIP_CODE": "60654",
                  "WARD": 42,
                  "PRECINCT": 46,
                  "WARD_PRECINCT": "42-46",
                  "POLICE_DISTRICT": 18,
                  "LICENSE_CODE": 1275,
                  "LICENSE_DESCRIPTION": "Filling Station",
                  "BUSINESS_ACTIVITY_ID": "666",
                  "BUSINESS_ACTIVITY": "Operation of a Fuel Filling Station",
                  "LICENSE_NUMBER": 2027540,
                  "APPLICATION_TYPE": "RENEW",
                  "APPLICATION_CREATED_DATE": "NaT",
                  "APPLICATION_REQUIREMENTS_COMPLETE": "2022-04-15 00:00:00",
                  "PAYMENT_DATE": "2022-05-10 00:00:00",
                  "CONDITIONAL_APPROVAL": "N",
                  "LICENSE_TERM_START_DATE": "2022-06-16 00:00:00",
                  "LICENSE_TERM_EXPIRATION_DATE": "2024-06-15 00:00:00",
                  "LICENSE_APPROVED_FOR_ISSUANCE": "2022-05-10 00:00:00",
                  "DATE_ISSUED": "2022-05-11 00:00:00",
                  "LICENSE_STATUS": "AAI",
                  "LICENSE_STATUS_CHANGE_DATE": "NaT",
                  "SSA": "nan",
                  "LATITUDE": 41.893251198,
                  "LONGITUDE": -87.632493012,
                  "LOCATION": "(41.89325119846543, -87.63249301222938)",
                  "TIF_Name": "[]",
                  "_deepnote_index_column": 4
                },
                {
                  "ID": "2780650-20220516",
                  "LICENSE_ID": 2839285,
                  "ACCOUNT_NUMBER": 424430,
                  "SITE_NUMBER": 3,
                  "LEGAL_NAME": "MEHRAB MANAGEMENT, INC.",
                  "DBA": "MEHRAB RESTAURANT",
                  "ADDRESS": "2437 W DEVON AVE",
                  "CITY": "CHICAGO",
                  "STATE": "IL",
                  "ZIP_CODE": "60659",
                  "WARD": 50,
                  "PRECINCT": "nan",
                  "WARD_PRECINCT": "50-",
                  "POLICE_DISTRICT": "nan",
                  "LICENSE_CODE": 1006,
                  "LICENSE_DESCRIPTION": "Retail Food Establishment",
                  "BUSINESS_ACTIVITY_ID": "781",
                  "BUSINESS_ACTIVITY": "Sale of Food Prepared Onsite With Dining Area",
                  "LICENSE_NUMBER": 2780650,
                  "APPLICATION_TYPE": "RENEW",
                  "APPLICATION_CREATED_DATE": "NaT",
                  "APPLICATION_REQUIREMENTS_COMPLETE": "2022-03-15 00:00:00",
                  "PAYMENT_DATE": "2022-05-10 00:00:00",
                  "CONDITIONAL_APPROVAL": "N",
                  "LICENSE_TERM_START_DATE": "2022-05-16 00:00:00",
                  "LICENSE_TERM_EXPIRATION_DATE": "2024-05-15 00:00:00",
                  "LICENSE_APPROVED_FOR_ISSUANCE": "2022-05-10 00:00:00",
                  "DATE_ISSUED": "2022-05-11 00:00:00",
                  "LICENSE_STATUS": "AAI",
                  "LICENSE_STATUS_CHANGE_DATE": "NaT",
                  "SSA": 43,
                  "LATITUDE": 41.997597404,
                  "LONGITUDE": -87.691331516,
                  "LOCATION": "(41.99759740363999, -87.6913315163539)",
                  "TIF_Name": "[]",
                  "_deepnote_index_column": 5
                },
                {
                  "ID": "1899783-20090316",
                  "LICENSE_ID": 1953094,
                  "ACCOUNT_NUMBER": 330192,
                  "SITE_NUMBER": 1,
                  "LEGAL_NAME": "ELIAS A. KANELLOPOULOS",
                  "DBA": "RITZ CLEANERS",
                  "ADDRESS": "200 E DELAWARE PL 1",
                  "CITY": "CHICAGO",
                  "STATE": "IL",
                  "ZIP_CODE": "60611",
                  "WARD": 2,
                  "PRECINCT": 13,
                  "WARD_PRECINCT": "2-13",
                  "POLICE_DISTRICT": 18,
                  "LICENSE_CODE": 1010,
                  "LICENSE_DESCRIPTION": "Limited Business License",
                  "BUSINESS_ACTIVITY_ID": "None",
                  "BUSINESS_ACTIVITY": "None",
                  "LICENSE_NUMBER": 1899783,
                  "APPLICATION_TYPE": "RENEW",
                  "APPLICATION_CREATED_DATE": "NaT",
                  "APPLICATION_REQUIREMENTS_COMPLETE": "2009-01-15 00:00:00",
                  "PAYMENT_DATE": "2009-02-20 00:00:00",
                  "CONDITIONAL_APPROVAL": "N",
                  "LICENSE_TERM_START_DATE": "2009-03-16 00:00:00",
                  "LICENSE_TERM_EXPIRATION_DATE": "2011-03-15 00:00:00",
                  "LICENSE_APPROVED_FOR_ISSUANCE": "2009-02-20 00:00:00",
                  "DATE_ISSUED": "2009-02-23 00:00:00",
                  "LICENSE_STATUS": "AAI",
                  "LICENSE_STATUS_CHANGE_DATE": "NaT",
                  "SSA": "nan",
                  "LATITUDE": 41.899354739,
                  "LONGITUDE": -87.621791302,
                  "LOCATION": "(41.89935473944382, -87.621791301926)",
                  "TIF_Name": "[]",
                  "_deepnote_index_column": 6
                },
                {
                  "ID": "2846132-20220511",
                  "LICENSE_ID": 2846132,
                  "ACCOUNT_NUMBER": 485647,
                  "SITE_NUMBER": 1,
                  "LEGAL_NAME": "Silverwolf Productions LLC",
                  "DBA": "Silverwolf Productions LLC",
                  "ADDRESS": "2673 N GREENVIEW AVE  UNIT H",
                  "CITY": "CHICAGO",
                  "STATE": "IL",
                  "ZIP_CODE": "60614",
                  "WARD": 32,
                  "PRECINCT": "nan",
                  "WARD_PRECINCT": "32-",
                  "POLICE_DISTRICT": "nan",
                  "LICENSE_CODE": 4404,
                  "LICENSE_DESCRIPTION": "Regulated Business License",
                  "BUSINESS_ACTIVITY_ID": "665 | 667 | 702 | 719",
                  "BUSINESS_ACTIVITY": "Freelance Writer (Home Based Business) | Graphic Design (Home Based Business) | Marketing / Advertising / Public Relations (Home Based Business) | Professional Consulting (Home Based Business)",
                  "LICENSE_NUMBER": 2846132,
                  "APPLICATION_TYPE": "ISSUE",
                  "APPLICATION_CREATED_DATE": "2022-05-10 00:00:00",
                  "APPLICATION_REQUIREMENTS_COMPLETE": "2022-05-10 00:00:00",
                  "PAYMENT_DATE": "2022-05-10 00:00:00",
                  "CONDITIONAL_APPROVAL": "N",
                  "LICENSE_TERM_START_DATE": "2022-05-11 00:00:00",
                  "LICENSE_TERM_EXPIRATION_DATE": "2024-05-15 00:00:00",
                  "LICENSE_APPROVED_FOR_ISSUANCE": "2022-05-10 00:00:00",
                  "DATE_ISSUED": "2022-05-11 00:00:00",
                  "LICENSE_STATUS": "AAI",
                  "LICENSE_STATUS_CHANGE_DATE": "NaT",
                  "SSA": "nan",
                  "LATITUDE": 41.930322481,
                  "LONGITUDE": -87.665386892,
                  "LOCATION": "(41.93032248132474, -87.66538689175445)",
                  "TIF_Name": "[]",
                  "_deepnote_index_column": 7
                },
                {
                  "ID": "1899783-20110316",
                  "LICENSE_ID": 2078221,
                  "ACCOUNT_NUMBER": 330192,
                  "SITE_NUMBER": 1,
                  "LEGAL_NAME": "ELIAS A. KANELLOPOULOS",
                  "DBA": "RITZ CLEANERS",
                  "ADDRESS": "200 E DELAWARE PL 1",
                  "CITY": "CHICAGO",
                  "STATE": "IL",
                  "ZIP_CODE": "60611",
                  "WARD": 2,
                  "PRECINCT": 13,
                  "WARD_PRECINCT": "2-13",
                  "POLICE_DISTRICT": 18,
                  "LICENSE_CODE": 1010,
                  "LICENSE_DESCRIPTION": "Limited Business License",
                  "BUSINESS_ACTIVITY_ID": "None",
                  "BUSINESS_ACTIVITY": "None",
                  "LICENSE_NUMBER": 1899783,
                  "APPLICATION_TYPE": "RENEW",
                  "APPLICATION_CREATED_DATE": "NaT",
                  "APPLICATION_REQUIREMENTS_COMPLETE": "2011-01-14 00:00:00",
                  "PAYMENT_DATE": "2011-02-14 00:00:00",
                  "CONDITIONAL_APPROVAL": "N",
                  "LICENSE_TERM_START_DATE": "2011-03-16 00:00:00",
                  "LICENSE_TERM_EXPIRATION_DATE": "2013-03-15 00:00:00",
                  "LICENSE_APPROVED_FOR_ISSUANCE": "2011-02-14 00:00:00",
                  "DATE_ISSUED": "2011-02-15 00:00:00",
                  "LICENSE_STATUS": "AAI",
                  "LICENSE_STATUS_CHANGE_DATE": "NaT",
                  "SSA": "nan",
                  "LATITUDE": 41.899354739,
                  "LONGITUDE": -87.621791302,
                  "LOCATION": "(41.89935473944382, -87.621791301926)",
                  "TIF_Name": "[]",
                  "_deepnote_index_column": 8
                },
                {
                  "ID": "2863350-20220808",
                  "LICENSE_ID": 2863350,
                  "ACCOUNT_NUMBER": 488437,
                  "SITE_NUMBER": 1,
                  "LEGAL_NAME": "DOMONANT MEDIA LLC",
                  "DBA": "DOMONANT MEDIA",
                  "ADDRESS": "1200 W 35TH ST 3RD 3A3130",
                  "CITY": "CHICAGO",
                  "STATE": "IL",
                  "ZIP_CODE": "60609",
                  "WARD": 11,
                  "PRECINCT": 11,
                  "WARD_PRECINCT": "11-11",
                  "POLICE_DISTRICT": 9,
                  "LICENSE_CODE": 1010,
                  "LICENSE_DESCRIPTION": "Limited Business License",
                  "BUSINESS_ACTIVITY_ID": "476 | 1089",
                  "BUSINESS_ACTIVITY": "Photography Services | Multi-Media Services",
                  "LICENSE_NUMBER": 2863350,
                  "APPLICATION_TYPE": "ISSUE",
                  "APPLICATION_CREATED_DATE": "2022-08-08 00:00:00",
                  "APPLICATION_REQUIREMENTS_COMPLETE": "2022-08-08 00:00:00",
                  "PAYMENT_DATE": "2022-08-08 00:00:00",
                  "CONDITIONAL_APPROVAL": "N",
                  "LICENSE_TERM_START_DATE": "2022-08-08 00:00:00",
                  "LICENSE_TERM_EXPIRATION_DATE": "2024-08-15 00:00:00",
                  "LICENSE_APPROVED_FOR_ISSUANCE": "2022-08-08 00:00:00",
                  "DATE_ISSUED": "2022-08-08 00:00:00",
                  "LICENSE_STATUS": "AAI",
                  "LICENSE_STATUS_CHANGE_DATE": "NaT",
                  "SSA": "nan",
                  "LATITUDE": 41.830728826,
                  "LONGITUDE": -87.655813252,
                  "LOCATION": "(41.830728825995436, -87.65581325202945)",
                  "TIF_Name": "['35th/Halsted']",
                  "_deepnote_index_column": 9
                }
              ]
            },
            "text/plain": "                       ID  LICENSE_ID  ACCOUNT_NUMBER  SITE_NUMBER  \\\n0        2617269-20220916     2857496            1611            5   \n1        2652692-20201217     2652692          456833            1   \n2        2647849-20200916     2739788           64603            7   \n3        1579838-20220616     2842924          289144            1   \n4        2027540-20220616     2841687           10726            5   \n...                   ...         ...             ...          ...   \n1033611  2204520-20160716     2465534           25985            1   \n1033612  2652764-20210316     2770633          456868            1   \n1033613     6415-20070816     1832401          376290            2   \n1033614  1800007-20070124     1800007          313705            1   \n1033615  2846254-20220909     2846254          349928           13   \n\n                                      LEGAL_NAME  \\\n0                                    TTX COMPANY   \n1                            JYM INVESTMENTS LLC   \n2                        LEOPARDO COMPANIES INC.   \n3                          1021 MONTROSE, L.L.C.   \n4                          GRAHAM ENTERPRISE INC   \n...                                          ...   \n1033611  AABALL HEATING SERVICE & SUPPLIES, INC.   \n1033612                             SHOBHNA INC.   \n1033613       FRANK'S CHICAGO SHRIMP HOUSE, INC.   \n1033614                        TERRANCE J. WATTS   \n1033615                         RDK VENTURES LLC   \n\n                                       DBA                       ADDRESS  \\\n0                              TTX COMPANY            4016 S ASHLAND AVE   \n1                                  WINGMAN          2321 W HOWARD ST 1ST   \n2                   Leopardo Companies Inc  210 N CARPENTER ST 3RD FLOOR   \n3                                Driftwood           1021 W MONTROSE AVE   \n4                 Rock N Roll BP (GEI-157)         631-647 N LA SALLE DR   \n...                                    ...                           ...   \n1033611  AABALL HEATING SERVICE & SUPPLIES            8518 S ASHLAND AVE   \n1033612                          FOOD STOP           3734 W LAWRENCE AVE   \n1033613       FRANK'S CHICAGO SHRIMP HOUSE         5439 W ADDISON ST 1ST   \n1033614                  TERRANCE J. WATTS            9932 S SANGAMON ST   \n1033615                           Circle K            190 W MADISON ST 1   \n\n            CITY STATE ZIP_CODE  ...  LICENSE_TERM_EXPIRATION_DATE  \\\n0        CHICAGO    IL    60609  ...                    2024-09-15   \n1        CHICAGO    IL    60645  ...                    2023-01-15   \n2        CHICAGO    IL    60607  ...                    2022-09-15   \n3        CHICAGO    IL    60613  ...                    2024-06-15   \n4        CHICAGO    IL    60654  ...                    2024-06-15   \n...          ...   ...      ...  ...                           ...   \n1033611  CHICAGO    IL    60620  ...                    2018-07-15   \n1033612  CHICAGO    IL    60625  ...                    2022-03-15   \n1033613  CHICAGO    IL    60641  ...                    2009-08-15   \n1033614  CHICAGO    IL    60643  ...                    2009-02-15   \n1033615  CHICAGO    IL    60602  ...                    2023-09-15   \n\n         LICENSE_APPROVED_FOR_ISSUANCE DATE_ISSUED  LICENSE_STATUS  \\\n0                           2022-08-05  2022-08-08             AAI   \n1                           2020-12-16  2020-12-17             AAC   \n2                           2020-08-20  2020-08-21             AAC   \n3                           2022-05-10  2022-05-11             AAI   \n4                           2022-05-10  2022-05-11             AAI   \n...                                ...         ...             ...   \n1033611                     2016-05-31  2016-06-01             AAI   \n1033612                     2021-04-02  2021-04-05             AAI   \n1033613                     2007-08-24  2008-05-22             AAI   \n1033614                            NaT  2007-01-24             AAI   \n1033615                     2022-09-09  2022-09-09             AAI   \n\n         LICENSE_STATUS_CHANGE_DATE   SSA   LATITUDE  LONGITUDE  \\\n0                               NaT   NaN  41.820285 -87.665397   \n1                        2022-08-08   NaN  42.019413 -87.688628   \n2                        2022-08-08   NaN  41.885945 -87.653462   \n3                               NaT  34.0  41.961655 -87.655650   \n4                               NaT   NaN  41.893251 -87.632493   \n...                             ...   ...        ...        ...   \n1033611                         NaT  69.0  41.738831 -87.663289   \n1033612                         NaT   NaN  41.968417 -87.722060   \n1033613                         NaT   NaN  41.945810 -87.763441   \n1033614                         NaT   NaN  41.713160 -87.646789   \n1033615                         NaT   NaN  41.882058 -87.633533   \n\n                                         LOCATION  \\\n0         (41.82028493557808, -87.66539682158037)   \n1        (42.019413270594214, -87.68862818775574)   \n2         (41.88594495760403, -87.65346178255953)   \n3        (41.961655308981946, -87.65564994485091)   \n4         (41.89325119846543, -87.63249301222938)   \n...                                           ...   \n1033611  (41.738831043655715, -87.66328877414871)   \n1033612    (41.96841672465387, -87.7220597187097)   \n1033613   (41.94580991762778, -87.76344146216435)   \n1033614    (41.71316042726137, -87.6467890258547)   \n1033615   (41.88205759473728, -87.63353326572278)   \n\n                                      TIF_Name  \n0                                           []  \n1                                           []  \n2        [Kinzie Industrial Conservation Area]  \n3                                [Wilson Yard]  \n4                                           []  \n...                                        ...  \n1033611                                     []  \n1033612                      [Lawrence/Kedzie]  \n1033613                                     []  \n1033614    [105th Street and Vincennes Avenue]  \n1033615                      [LaSalle Central]  \n\n[1033616 rows x 35 columns]",
            "text/html": "<div>\n<style scoped>\n    .dataframe tbody tr th:only-of-type {\n        vertical-align: middle;\n    }\n\n    .dataframe tbody tr th {\n        vertical-align: top;\n    }\n\n    .dataframe thead th {\n        text-align: right;\n    }\n</style>\n<table border=\"1\" class=\"dataframe\">\n  <thead>\n    <tr style=\"text-align: right;\">\n      <th></th>\n      <th>ID</th>\n      <th>LICENSE_ID</th>\n      <th>ACCOUNT_NUMBER</th>\n      <th>SITE_NUMBER</th>\n      <th>LEGAL_NAME</th>\n      <th>DBA</th>\n      <th>ADDRESS</th>\n      <th>CITY</th>\n      <th>STATE</th>\n      <th>ZIP_CODE</th>\n      <th>...</th>\n      <th>LICENSE_TERM_EXPIRATION_DATE</th>\n      <th>LICENSE_APPROVED_FOR_ISSUANCE</th>\n      <th>DATE_ISSUED</th>\n      <th>LICENSE_STATUS</th>\n      <th>LICENSE_STATUS_CHANGE_DATE</th>\n      <th>SSA</th>\n      <th>LATITUDE</th>\n      <th>LONGITUDE</th>\n      <th>LOCATION</th>\n      <th>TIF_Name</th>\n    </tr>\n  </thead>\n  <tbody>\n    <tr>\n      <th>0</th>\n      <td>2617269-20220916</td>\n      <td>2857496</td>\n      <td>1611</td>\n      <td>5</td>\n      <td>TTX COMPANY</td>\n      <td>TTX COMPANY</td>\n      <td>4016 S ASHLAND AVE</td>\n      <td>CHICAGO</td>\n      <td>IL</td>\n      <td>60609</td>\n      <td>...</td>\n      <td>2024-09-15</td>\n      <td>2022-08-05</td>\n      <td>2022-08-08</td>\n      <td>AAI</td>\n      <td>NaT</td>\n      <td>NaN</td>\n      <td>41.820285</td>\n      <td>-87.665397</td>\n      <td>(41.82028493557808, -87.66539682158037)</td>\n      <td>[]</td>\n    </tr>\n    <tr>\n      <th>1</th>\n      <td>2652692-20201217</td>\n      <td>2652692</td>\n      <td>456833</td>\n      <td>1</td>\n      <td>JYM INVESTMENTS LLC</td>\n      <td>WINGMAN</td>\n      <td>2321 W HOWARD ST 1ST</td>\n      <td>CHICAGO</td>\n      <td>IL</td>\n      <td>60645</td>\n      <td>...</td>\n      <td>2023-01-15</td>\n      <td>2020-12-16</td>\n      <td>2020-12-17</td>\n      <td>AAC</td>\n      <td>2022-08-08</td>\n      <td>NaN</td>\n      <td>42.019413</td>\n      <td>-87.688628</td>\n      <td>(42.019413270594214, -87.68862818775574)</td>\n      <td>[]</td>\n    </tr>\n    <tr>\n      <th>2</th>\n      <td>2647849-20200916</td>\n      <td>2739788</td>\n      <td>64603</td>\n      <td>7</td>\n      <td>LEOPARDO COMPANIES INC.</td>\n      <td>Leopardo Companies Inc</td>\n      <td>210 N CARPENTER ST 3RD FLOOR</td>\n      <td>CHICAGO</td>\n      <td>IL</td>\n      <td>60607</td>\n      <td>...</td>\n      <td>2022-09-15</td>\n      <td>2020-08-20</td>\n      <td>2020-08-21</td>\n      <td>AAC</td>\n      <td>2022-08-08</td>\n      <td>NaN</td>\n      <td>41.885945</td>\n      <td>-87.653462</td>\n      <td>(41.88594495760403, -87.65346178255953)</td>\n      <td>[Kinzie Industrial Conservation Area]</td>\n    </tr>\n    <tr>\n      <th>3</th>\n      <td>1579838-20220616</td>\n      <td>2842924</td>\n      <td>289144</td>\n      <td>1</td>\n      <td>1021 MONTROSE, L.L.C.</td>\n      <td>Driftwood</td>\n      <td>1021 W MONTROSE AVE</td>\n      <td>CHICAGO</td>\n      <td>IL</td>\n      <td>60613</td>\n      <td>...</td>\n      <td>2024-06-15</td>\n      <td>2022-05-10</td>\n      <td>2022-05-11</td>\n      <td>AAI</td>\n      <td>NaT</td>\n      <td>34.0</td>\n      <td>41.961655</td>\n      <td>-87.655650</td>\n      <td>(41.961655308981946, -87.65564994485091)</td>\n      <td>[Wilson Yard]</td>\n    </tr>\n    <tr>\n      <th>4</th>\n      <td>2027540-20220616</td>\n      <td>2841687</td>\n      <td>10726</td>\n      <td>5</td>\n      <td>GRAHAM ENTERPRISE INC</td>\n      <td>Rock N Roll BP (GEI-157)</td>\n      <td>631-647 N LA SALLE DR</td>\n      <td>CHICAGO</td>\n      <td>IL</td>\n      <td>60654</td>\n      <td>...</td>\n      <td>2024-06-15</td>\n      <td>2022-05-10</td>\n      <td>2022-05-11</td>\n      <td>AAI</td>\n      <td>NaT</td>\n      <td>NaN</td>\n      <td>41.893251</td>\n      <td>-87.632493</td>\n      <td>(41.89325119846543, -87.63249301222938)</td>\n      <td>[]</td>\n    </tr>\n    <tr>\n      <th>...</th>\n      <td>...</td>\n      <td>...</td>\n      <td>...</td>\n      <td>...</td>\n      <td>...</td>\n      <td>...</td>\n      <td>...</td>\n      <td>...</td>\n      <td>...</td>\n      <td>...</td>\n      <td>...</td>\n      <td>...</td>\n      <td>...</td>\n      <td>...</td>\n      <td>...</td>\n      <td>...</td>\n      <td>...</td>\n      <td>...</td>\n      <td>...</td>\n      <td>...</td>\n      <td>...</td>\n    </tr>\n    <tr>\n      <th>1033611</th>\n      <td>2204520-20160716</td>\n      <td>2465534</td>\n      <td>25985</td>\n      <td>1</td>\n      <td>AABALL HEATING SERVICE &amp; SUPPLIES, INC.</td>\n      <td>AABALL HEATING SERVICE &amp; SUPPLIES</td>\n      <td>8518 S ASHLAND AVE</td>\n      <td>CHICAGO</td>\n      <td>IL</td>\n      <td>60620</td>\n      <td>...</td>\n      <td>2018-07-15</td>\n      <td>2016-05-31</td>\n      <td>2016-06-01</td>\n      <td>AAI</td>\n      <td>NaT</td>\n      <td>69.0</td>\n      <td>41.738831</td>\n      <td>-87.663289</td>\n      <td>(41.738831043655715, -87.66328877414871)</td>\n      <td>[]</td>\n    </tr>\n    <tr>\n      <th>1033612</th>\n      <td>2652764-20210316</td>\n      <td>2770633</td>\n      <td>456868</td>\n      <td>1</td>\n      <td>SHOBHNA INC.</td>\n      <td>FOOD STOP</td>\n      <td>3734 W LAWRENCE AVE</td>\n      <td>CHICAGO</td>\n      <td>IL</td>\n      <td>60625</td>\n      <td>...</td>\n      <td>2022-03-15</td>\n      <td>2021-04-02</td>\n      <td>2021-04-05</td>\n      <td>AAI</td>\n      <td>NaT</td>\n      <td>NaN</td>\n      <td>41.968417</td>\n      <td>-87.722060</td>\n      <td>(41.96841672465387, -87.7220597187097)</td>\n      <td>[Lawrence/Kedzie]</td>\n    </tr>\n    <tr>\n      <th>1033613</th>\n      <td>6415-20070816</td>\n      <td>1832401</td>\n      <td>376290</td>\n      <td>2</td>\n      <td>FRANK'S CHICAGO SHRIMP HOUSE, INC.</td>\n      <td>FRANK'S CHICAGO SHRIMP HOUSE</td>\n      <td>5439 W ADDISON ST 1ST</td>\n      <td>CHICAGO</td>\n      <td>IL</td>\n      <td>60641</td>\n      <td>...</td>\n      <td>2009-08-15</td>\n      <td>2007-08-24</td>\n      <td>2008-05-22</td>\n      <td>AAI</td>\n      <td>NaT</td>\n      <td>NaN</td>\n      <td>41.945810</td>\n      <td>-87.763441</td>\n      <td>(41.94580991762778, -87.76344146216435)</td>\n      <td>[]</td>\n    </tr>\n    <tr>\n      <th>1033614</th>\n      <td>1800007-20070124</td>\n      <td>1800007</td>\n      <td>313705</td>\n      <td>1</td>\n      <td>TERRANCE J. WATTS</td>\n      <td>TERRANCE J. WATTS</td>\n      <td>9932 S SANGAMON ST</td>\n      <td>CHICAGO</td>\n      <td>IL</td>\n      <td>60643</td>\n      <td>...</td>\n      <td>2009-02-15</td>\n      <td>NaT</td>\n      <td>2007-01-24</td>\n      <td>AAI</td>\n      <td>NaT</td>\n      <td>NaN</td>\n      <td>41.713160</td>\n      <td>-87.646789</td>\n      <td>(41.71316042726137, -87.6467890258547)</td>\n      <td>[105th Street and Vincennes Avenue]</td>\n    </tr>\n    <tr>\n      <th>1033615</th>\n      <td>2846254-20220909</td>\n      <td>2846254</td>\n      <td>349928</td>\n      <td>13</td>\n      <td>RDK VENTURES LLC</td>\n      <td>Circle K</td>\n      <td>190 W MADISON ST 1</td>\n      <td>CHICAGO</td>\n      <td>IL</td>\n      <td>60602</td>\n      <td>...</td>\n      <td>2023-09-15</td>\n      <td>2022-09-09</td>\n      <td>2022-09-09</td>\n      <td>AAI</td>\n      <td>NaT</td>\n      <td>NaN</td>\n      <td>41.882058</td>\n      <td>-87.633533</td>\n      <td>(41.88205759473728, -87.63353326572278)</td>\n      <td>[LaSalle Central]</td>\n    </tr>\n  </tbody>\n</table>\n<p>1033616 rows × 35 columns</p>\n</div>"
          },
          "metadata": {}
        }
      ],
      "outputs_reference": null,
      "execution_count": null,
      "block_group": "814f107d35f347d49da8d94488ee5698",
      "content_dependencies": null
    },
    {
      "cell_type": "code",
      "source": "df_2 = _deepnote_execute_sql('SELECT *\\n    FROM \\'BusV3.csv\\'\\n    WHERE STATE = \\'IL\\' AND CITY = \\'CHICAGO\\' \\n    AND ADDRESS IS NOT NULL \\n    AND CITY IS NOT NULL \\n    AND STATE IS NOT NULL \\n    AND ZIP_CODE IS NOT NULL \\n    AND LATITUDE IS NOT NULL \\n    AND LONGITUDE IS NOT NULL\\n-- LIMIT 1000;', 'SQL_DEEPNOTE_DATAFRAME_SQL', audit_sql_comment='', sql_cache_mode='cache_disabled')\ndf_2",
      "metadata": {
        "source_hash": null,
        "execution_start": 1712276297077,
        "execution_millis": 9091,
        "sql_integration_id": "deepnote-dataframe-sql",
        "deepnote_variable_name": "df_2",
        "deepnote_to_be_reexecuted": false,
        "deepnote_app_block_visible": true,
        "cell_id": "a403cf22ab72460cbc5e766834c03821",
        "deepnote_cell_type": "sql",
        "deepnote_sql_source": "SELECT *\n    FROM 'BusV3.csv'\n    WHERE STATE = 'IL' AND CITY = 'CHICAGO' \n    AND ADDRESS IS NOT NULL \n    AND CITY IS NOT NULL \n    AND STATE IS NOT NULL \n    AND ZIP_CODE IS NOT NULL \n    AND LATITUDE IS NOT NULL \n    AND LONGITUDE IS NOT NULL\n-- LIMIT 1000;"
      },
      "outputs": [
        {
          "output_type": "execute_result",
          "execution_count": 12,
          "data": {
            "application/vnd.deepnote.dataframe.v3+json": {
              "column_count": 36,
              "row_count": 1033616,
              "columns": [
                {
                  "name": "ID",
                  "dtype": "object"
                },
                {
                  "name": "LICENSE_ID",
                  "dtype": "int64"
                },
                {
                  "name": "ACCOUNT_NUMBER",
                  "dtype": "int64"
                },
                {
                  "name": "SITE_NUMBER",
                  "dtype": "int64"
                },
                {
                  "name": "LEGAL_NAME",
                  "dtype": "object"
                },
                {
                  "name": "DBA",
                  "dtype": "object"
                },
                {
                  "name": "ADDRESS",
                  "dtype": "object"
                },
                {
                  "name": "CITY",
                  "dtype": "object"
                },
                {
                  "name": "STATE",
                  "dtype": "object"
                },
                {
                  "name": "ZIP_CODE",
                  "dtype": "int64"
                },
                {
                  "name": "WARD",
                  "dtype": "float64"
                },
                {
                  "name": "PRECINCT",
                  "dtype": "float64"
                },
                {
                  "name": "WARD_PRECINCT",
                  "dtype": "object"
                },
                {
                  "name": "POLICE_DISTRICT",
                  "dtype": "float64"
                },
                {
                  "name": "LICENSE_CODE",
                  "dtype": "int64"
                },
                {
                  "name": "LICENSE_DESCRIPTION",
                  "dtype": "object"
                },
                {
                  "name": "BUSINESS_ACTIVITY_ID",
                  "dtype": "object"
                },
                {
                  "name": "BUSINESS_ACTIVITY",
                  "dtype": "object"
                },
                {
                  "name": "LICENSE_NUMBER",
                  "dtype": "int64"
                },
                {
                  "name": "APPLICATION_TYPE",
                  "dtype": "object"
                },
                {
                  "name": "APPLICATION_CREATED_DATE",
                  "dtype": "datetime64[us]"
                },
                {
                  "name": "APPLICATION_REQUIREMENTS_COMPLETE",
                  "dtype": "datetime64[us]"
                },
                {
                  "name": "PAYMENT_DATE",
                  "dtype": "datetime64[us]"
                },
                {
                  "name": "CONDITIONAL_APPROVAL",
                  "dtype": "object"
                },
                {
                  "name": "LICENSE_TERM_START_DATE",
                  "dtype": "datetime64[us]"
                },
                {
                  "name": "LICENSE_TERM_EXPIRATION_DATE",
                  "dtype": "datetime64[us]"
                },
                {
                  "name": "LICENSE_APPROVED_FOR_ISSUANCE",
                  "dtype": "datetime64[us]"
                },
                {
                  "name": "DATE_ISSUED",
                  "dtype": "datetime64[us]"
                },
                {
                  "name": "LICENSE_STATUS",
                  "dtype": "object"
                },
                {
                  "name": "LICENSE_STATUS_CHANGE_DATE",
                  "dtype": "datetime64[us]"
                },
                {
                  "name": "SSA",
                  "dtype": "float64"
                },
                {
                  "name": "LATITUDE",
                  "dtype": "float64"
                },
                {
                  "name": "LONGITUDE",
                  "dtype": "float64"
                },
                {
                  "name": "LOCATION",
                  "dtype": "object"
                },
                {
                  "name": "TIF_Name",
                  "dtype": "object"
                },
                {
                  "name": "LICENSE_GROUP",
                  "dtype": "object"
                },
                {
                  "name": "_deepnote_index_column",
                  "dtype": "int64"
                }
              ],
              "rows": [
                {
                  "ID": "2617269-20220916",
                  "LICENSE_ID": 2857496,
                  "ACCOUNT_NUMBER": 1611,
                  "SITE_NUMBER": 5,
                  "LEGAL_NAME": "TTX COMPANY",
                  "DBA": "TTX COMPANY",
                  "ADDRESS": "4016 S ASHLAND AVE",
                  "CITY": "CHICAGO",
                  "STATE": "IL",
                  "ZIP_CODE": 60609,
                  "WARD": 12,
                  "PRECINCT": 19,
                  "WARD_PRECINCT": "12-19",
                  "POLICE_DISTRICT": 9,
                  "LICENSE_CODE": 1010,
                  "LICENSE_DESCRIPTION": "Limited Business License",
                  "BUSINESS_ACTIVITY_ID": "708",
                  "BUSINESS_ACTIVITY": "Miscellaneous Commercial Services",
                  "LICENSE_NUMBER": 2617269,
                  "APPLICATION_TYPE": "RENEW",
                  "APPLICATION_CREATED_DATE": "NaT",
                  "APPLICATION_REQUIREMENTS_COMPLETE": "2022-07-15 00:00:00",
                  "PAYMENT_DATE": "2022-08-05 00:00:00",
                  "CONDITIONAL_APPROVAL": "N",
                  "LICENSE_TERM_START_DATE": "2022-09-16 00:00:00",
                  "LICENSE_TERM_EXPIRATION_DATE": "2024-09-15 00:00:00",
                  "LICENSE_APPROVED_FOR_ISSUANCE": "2022-08-05 00:00:00",
                  "DATE_ISSUED": "2022-08-08 00:00:00",
                  "LICENSE_STATUS": "AAI",
                  "LICENSE_STATUS_CHANGE_DATE": "NaT",
                  "SSA": "nan",
                  "LATITUDE": 41.820284936,
                  "LONGITUDE": -87.665396822,
                  "LOCATION": "(41.82028493557808, -87.66539682158037)",
                  "TIF_Name": "[]",
                  "LICENSE_GROUP": "Business",
                  "_deepnote_index_column": 0
                },
                {
                  "ID": "2652692-20201217",
                  "LICENSE_ID": 2652692,
                  "ACCOUNT_NUMBER": 456833,
                  "SITE_NUMBER": 1,
                  "LEGAL_NAME": "JYM INVESTMENTS LLC",
                  "DBA": "WINGMAN",
                  "ADDRESS": "2321 W HOWARD ST 1ST",
                  "CITY": "CHICAGO",
                  "STATE": "IL",
                  "ZIP_CODE": 60645,
                  "WARD": 49,
                  "PRECINCT": 21,
                  "WARD_PRECINCT": "49-21",
                  "POLICE_DISTRICT": 24,
                  "LICENSE_CODE": 1006,
                  "LICENSE_DESCRIPTION": "Retail Food Establishment",
                  "BUSINESS_ACTIVITY_ID": "781",
                  "BUSINESS_ACTIVITY": "Sale of Food Prepared Onsite With Dining Area",
                  "LICENSE_NUMBER": 2652692,
                  "APPLICATION_TYPE": "ISSUE",
                  "APPLICATION_CREATED_DATE": "2019-03-01 00:00:00",
                  "APPLICATION_REQUIREMENTS_COMPLETE": "2020-11-18 00:00:00",
                  "PAYMENT_DATE": "2020-11-19 00:00:00",
                  "CONDITIONAL_APPROVAL": "N",
                  "LICENSE_TERM_START_DATE": "2020-12-17 00:00:00",
                  "LICENSE_TERM_EXPIRATION_DATE": "2023-01-15 00:00:00",
                  "LICENSE_APPROVED_FOR_ISSUANCE": "2020-12-16 00:00:00",
                  "DATE_ISSUED": "2020-12-17 00:00:00",
                  "LICENSE_STATUS": "AAC",
                  "LICENSE_STATUS_CHANGE_DATE": "2022-08-08 00:00:00",
                  "SSA": "nan",
                  "LATITUDE": 42.019413271,
                  "LONGITUDE": -87.688628188,
                  "LOCATION": "(42.019413270594214, -87.68862818775574)",
                  "TIF_Name": "[]",
                  "LICENSE_GROUP": "Food",
                  "_deepnote_index_column": 1
                },
                {
                  "ID": "2647849-20200916",
                  "LICENSE_ID": 2739788,
                  "ACCOUNT_NUMBER": 64603,
                  "SITE_NUMBER": 7,
                  "LEGAL_NAME": "LEOPARDO COMPANIES INC.",
                  "DBA": "Leopardo Companies Inc",
                  "ADDRESS": "210 N CARPENTER ST 3RD FLOOR",
                  "CITY": "CHICAGO",
                  "STATE": "IL",
                  "ZIP_CODE": 60607,
                  "WARD": 27,
                  "PRECINCT": "nan",
                  "WARD_PRECINCT": "27-",
                  "POLICE_DISTRICT": "nan",
                  "LICENSE_CODE": 1010,
                  "LICENSE_DESCRIPTION": "Limited Business License",
                  "BUSINESS_ACTIVITY_ID": "602",
                  "BUSINESS_ACTIVITY": "Administrative Commercial Office",
                  "LICENSE_NUMBER": 2647849,
                  "APPLICATION_TYPE": "RENEW",
                  "APPLICATION_CREATED_DATE": "NaT",
                  "APPLICATION_REQUIREMENTS_COMPLETE": "2020-07-15 00:00:00",
                  "PAYMENT_DATE": "2020-08-20 00:00:00",
                  "CONDITIONAL_APPROVAL": "N",
                  "LICENSE_TERM_START_DATE": "2020-09-16 00:00:00",
                  "LICENSE_TERM_EXPIRATION_DATE": "2022-09-15 00:00:00",
                  "LICENSE_APPROVED_FOR_ISSUANCE": "2020-08-20 00:00:00",
                  "DATE_ISSUED": "2020-08-21 00:00:00",
                  "LICENSE_STATUS": "AAC",
                  "LICENSE_STATUS_CHANGE_DATE": "2022-08-08 00:00:00",
                  "SSA": "nan",
                  "LATITUDE": 41.885944958,
                  "LONGITUDE": -87.653461783,
                  "LOCATION": "(41.88594495760403, -87.65346178255953)",
                  "TIF_Name": "['Kinzie Industrial Conservation Area']",
                  "LICENSE_GROUP": "Business",
                  "_deepnote_index_column": 2
                },
                {
                  "ID": "1579838-20220616",
                  "LICENSE_ID": 2842924,
                  "ACCOUNT_NUMBER": 289144,
                  "SITE_NUMBER": 1,
                  "LEGAL_NAME": "1021 MONTROSE, L.L.C.",
                  "DBA": "Driftwood",
                  "ADDRESS": "1021 W MONTROSE AVE",
                  "CITY": "CHICAGO",
                  "STATE": "IL",
                  "ZIP_CODE": 60613,
                  "WARD": 46,
                  "PRECINCT": 9,
                  "WARD_PRECINCT": "46-9",
                  "POLICE_DISTRICT": 19,
                  "LICENSE_CODE": 1470,
                  "LICENSE_DESCRIPTION": "Tavern",
                  "BUSINESS_ACTIVITY_ID": "829",
                  "BUSINESS_ACTIVITY": "Tavern - Consumption of Liquor on Premise",
                  "LICENSE_NUMBER": 1579838,
                  "APPLICATION_TYPE": "RENEW",
                  "APPLICATION_CREATED_DATE": "NaT",
                  "APPLICATION_REQUIREMENTS_COMPLETE": "2022-04-15 00:00:00",
                  "PAYMENT_DATE": "2022-05-10 00:00:00",
                  "CONDITIONAL_APPROVAL": "N",
                  "LICENSE_TERM_START_DATE": "2022-06-16 00:00:00",
                  "LICENSE_TERM_EXPIRATION_DATE": "2024-06-15 00:00:00",
                  "LICENSE_APPROVED_FOR_ISSUANCE": "2022-05-10 00:00:00",
                  "DATE_ISSUED": "2022-05-11 00:00:00",
                  "LICENSE_STATUS": "AAI",
                  "LICENSE_STATUS_CHANGE_DATE": "NaT",
                  "SSA": 34,
                  "LATITUDE": 41.961655309,
                  "LONGITUDE": -87.655649945,
                  "LOCATION": "(41.961655308981946, -87.65564994485091)",
                  "TIF_Name": "['Wilson Yard']",
                  "LICENSE_GROUP": "Food",
                  "_deepnote_index_column": 3
                },
                {
                  "ID": "2027540-20220616",
                  "LICENSE_ID": 2841687,
                  "ACCOUNT_NUMBER": 10726,
                  "SITE_NUMBER": 5,
                  "LEGAL_NAME": "GRAHAM ENTERPRISE INC",
                  "DBA": "Rock N Roll BP (GEI-157)",
                  "ADDRESS": "631-647 N LA SALLE DR",
                  "CITY": "CHICAGO",
                  "STATE": "IL",
                  "ZIP_CODE": 60654,
                  "WARD": 42,
                  "PRECINCT": 46,
                  "WARD_PRECINCT": "42-46",
                  "POLICE_DISTRICT": 18,
                  "LICENSE_CODE": 1275,
                  "LICENSE_DESCRIPTION": "Filling Station",
                  "BUSINESS_ACTIVITY_ID": "666",
                  "BUSINESS_ACTIVITY": "Operation of a Fuel Filling Station",
                  "LICENSE_NUMBER": 2027540,
                  "APPLICATION_TYPE": "RENEW",
                  "APPLICATION_CREATED_DATE": "NaT",
                  "APPLICATION_REQUIREMENTS_COMPLETE": "2022-04-15 00:00:00",
                  "PAYMENT_DATE": "2022-05-10 00:00:00",
                  "CONDITIONAL_APPROVAL": "N",
                  "LICENSE_TERM_START_DATE": "2022-06-16 00:00:00",
                  "LICENSE_TERM_EXPIRATION_DATE": "2024-06-15 00:00:00",
                  "LICENSE_APPROVED_FOR_ISSUANCE": "2022-05-10 00:00:00",
                  "DATE_ISSUED": "2022-05-11 00:00:00",
                  "LICENSE_STATUS": "AAI",
                  "LICENSE_STATUS_CHANGE_DATE": "NaT",
                  "SSA": "nan",
                  "LATITUDE": 41.893251198,
                  "LONGITUDE": -87.632493012,
                  "LOCATION": "(41.89325119846543, -87.63249301222938)",
                  "TIF_Name": "[]",
                  "LICENSE_GROUP": "Vehicles",
                  "_deepnote_index_column": 4
                },
                {
                  "ID": "2780650-20220516",
                  "LICENSE_ID": 2839285,
                  "ACCOUNT_NUMBER": 424430,
                  "SITE_NUMBER": 3,
                  "LEGAL_NAME": "MEHRAB MANAGEMENT, INC.",
                  "DBA": "MEHRAB RESTAURANT",
                  "ADDRESS": "2437 W DEVON AVE",
                  "CITY": "CHICAGO",
                  "STATE": "IL",
                  "ZIP_CODE": 60659,
                  "WARD": 50,
                  "PRECINCT": "nan",
                  "WARD_PRECINCT": "50-",
                  "POLICE_DISTRICT": "nan",
                  "LICENSE_CODE": 1006,
                  "LICENSE_DESCRIPTION": "Retail Food Establishment",
                  "BUSINESS_ACTIVITY_ID": "781",
                  "BUSINESS_ACTIVITY": "Sale of Food Prepared Onsite With Dining Area",
                  "LICENSE_NUMBER": 2780650,
                  "APPLICATION_TYPE": "RENEW",
                  "APPLICATION_CREATED_DATE": "NaT",
                  "APPLICATION_REQUIREMENTS_COMPLETE": "2022-03-15 00:00:00",
                  "PAYMENT_DATE": "2022-05-10 00:00:00",
                  "CONDITIONAL_APPROVAL": "N",
                  "LICENSE_TERM_START_DATE": "2022-05-16 00:00:00",
                  "LICENSE_TERM_EXPIRATION_DATE": "2024-05-15 00:00:00",
                  "LICENSE_APPROVED_FOR_ISSUANCE": "2022-05-10 00:00:00",
                  "DATE_ISSUED": "2022-05-11 00:00:00",
                  "LICENSE_STATUS": "AAI",
                  "LICENSE_STATUS_CHANGE_DATE": "NaT",
                  "SSA": 43,
                  "LATITUDE": 41.997597404,
                  "LONGITUDE": -87.691331516,
                  "LOCATION": "(41.99759740363999, -87.6913315163539)",
                  "TIF_Name": "[]",
                  "LICENSE_GROUP": "Food",
                  "_deepnote_index_column": 5
                },
                {
                  "ID": "1899783-20090316",
                  "LICENSE_ID": 1953094,
                  "ACCOUNT_NUMBER": 330192,
                  "SITE_NUMBER": 1,
                  "LEGAL_NAME": "ELIAS A. KANELLOPOULOS",
                  "DBA": "RITZ CLEANERS",
                  "ADDRESS": "200 E DELAWARE PL 1",
                  "CITY": "CHICAGO",
                  "STATE": "IL",
                  "ZIP_CODE": 60611,
                  "WARD": 2,
                  "PRECINCT": 13,
                  "WARD_PRECINCT": "2-13",
                  "POLICE_DISTRICT": 18,
                  "LICENSE_CODE": 1010,
                  "LICENSE_DESCRIPTION": "Limited Business License",
                  "BUSINESS_ACTIVITY_ID": "None",
                  "BUSINESS_ACTIVITY": "None",
                  "LICENSE_NUMBER": 1899783,
                  "APPLICATION_TYPE": "RENEW",
                  "APPLICATION_CREATED_DATE": "NaT",
                  "APPLICATION_REQUIREMENTS_COMPLETE": "2009-01-15 00:00:00",
                  "PAYMENT_DATE": "2009-02-20 00:00:00",
                  "CONDITIONAL_APPROVAL": "N",
                  "LICENSE_TERM_START_DATE": "2009-03-16 00:00:00",
                  "LICENSE_TERM_EXPIRATION_DATE": "2011-03-15 00:00:00",
                  "LICENSE_APPROVED_FOR_ISSUANCE": "2009-02-20 00:00:00",
                  "DATE_ISSUED": "2009-02-23 00:00:00",
                  "LICENSE_STATUS": "AAI",
                  "LICENSE_STATUS_CHANGE_DATE": "NaT",
                  "SSA": "nan",
                  "LATITUDE": 41.899354739,
                  "LONGITUDE": -87.621791302,
                  "LOCATION": "(41.89935473944382, -87.621791301926)",
                  "TIF_Name": "[]",
                  "LICENSE_GROUP": "Business",
                  "_deepnote_index_column": 6
                },
                {
                  "ID": "2846132-20220511",
                  "LICENSE_ID": 2846132,
                  "ACCOUNT_NUMBER": 485647,
                  "SITE_NUMBER": 1,
                  "LEGAL_NAME": "Silverwolf Productions LLC",
                  "DBA": "Silverwolf Productions LLC",
                  "ADDRESS": "2673 N GREENVIEW AVE  UNIT H",
                  "CITY": "CHICAGO",
                  "STATE": "IL",
                  "ZIP_CODE": 60614,
                  "WARD": 32,
                  "PRECINCT": "nan",
                  "WARD_PRECINCT": "32-",
                  "POLICE_DISTRICT": "nan",
                  "LICENSE_CODE": 4404,
                  "LICENSE_DESCRIPTION": "Regulated Business License",
                  "BUSINESS_ACTIVITY_ID": "665 | 667 | 702 | 719",
                  "BUSINESS_ACTIVITY": "Freelance Writer (Home Based Business) | Graphic Design (Home Based Business) | Marketing / Advertising / Public Relations (Home Based Business) | Professional Consulting (Home Based Business)",
                  "LICENSE_NUMBER": 2846132,
                  "APPLICATION_TYPE": "ISSUE",
                  "APPLICATION_CREATED_DATE": "2022-05-10 00:00:00",
                  "APPLICATION_REQUIREMENTS_COMPLETE": "2022-05-10 00:00:00",
                  "PAYMENT_DATE": "2022-05-10 00:00:00",
                  "CONDITIONAL_APPROVAL": "N",
                  "LICENSE_TERM_START_DATE": "2022-05-11 00:00:00",
                  "LICENSE_TERM_EXPIRATION_DATE": "2024-05-15 00:00:00",
                  "LICENSE_APPROVED_FOR_ISSUANCE": "2022-05-10 00:00:00",
                  "DATE_ISSUED": "2022-05-11 00:00:00",
                  "LICENSE_STATUS": "AAI",
                  "LICENSE_STATUS_CHANGE_DATE": "NaT",
                  "SSA": "nan",
                  "LATITUDE": 41.930322481,
                  "LONGITUDE": -87.665386892,
                  "LOCATION": "(41.93032248132474, -87.66538689175445)",
                  "TIF_Name": "[]",
                  "LICENSE_GROUP": "Business",
                  "_deepnote_index_column": 7
                },
                {
                  "ID": "1899783-20110316",
                  "LICENSE_ID": 2078221,
                  "ACCOUNT_NUMBER": 330192,
                  "SITE_NUMBER": 1,
                  "LEGAL_NAME": "ELIAS A. KANELLOPOULOS",
                  "DBA": "RITZ CLEANERS",
                  "ADDRESS": "200 E DELAWARE PL 1",
                  "CITY": "CHICAGO",
                  "STATE": "IL",
                  "ZIP_CODE": 60611,
                  "WARD": 2,
                  "PRECINCT": 13,
                  "WARD_PRECINCT": "2-13",
                  "POLICE_DISTRICT": 18,
                  "LICENSE_CODE": 1010,
                  "LICENSE_DESCRIPTION": "Limited Business License",
                  "BUSINESS_ACTIVITY_ID": "None",
                  "BUSINESS_ACTIVITY": "None",
                  "LICENSE_NUMBER": 1899783,
                  "APPLICATION_TYPE": "RENEW",
                  "APPLICATION_CREATED_DATE": "NaT",
                  "APPLICATION_REQUIREMENTS_COMPLETE": "2011-01-14 00:00:00",
                  "PAYMENT_DATE": "2011-02-14 00:00:00",
                  "CONDITIONAL_APPROVAL": "N",
                  "LICENSE_TERM_START_DATE": "2011-03-16 00:00:00",
                  "LICENSE_TERM_EXPIRATION_DATE": "2013-03-15 00:00:00",
                  "LICENSE_APPROVED_FOR_ISSUANCE": "2011-02-14 00:00:00",
                  "DATE_ISSUED": "2011-02-15 00:00:00",
                  "LICENSE_STATUS": "AAI",
                  "LICENSE_STATUS_CHANGE_DATE": "NaT",
                  "SSA": "nan",
                  "LATITUDE": 41.899354739,
                  "LONGITUDE": -87.621791302,
                  "LOCATION": "(41.89935473944382, -87.621791301926)",
                  "TIF_Name": "[]",
                  "LICENSE_GROUP": "Business",
                  "_deepnote_index_column": 8
                },
                {
                  "ID": "2863350-20220808",
                  "LICENSE_ID": 2863350,
                  "ACCOUNT_NUMBER": 488437,
                  "SITE_NUMBER": 1,
                  "LEGAL_NAME": "DOMONANT MEDIA LLC",
                  "DBA": "DOMONANT MEDIA",
                  "ADDRESS": "1200 W 35TH ST 3RD 3A3130",
                  "CITY": "CHICAGO",
                  "STATE": "IL",
                  "ZIP_CODE": 60609,
                  "WARD": 11,
                  "PRECINCT": 11,
                  "WARD_PRECINCT": "11-11",
                  "POLICE_DISTRICT": 9,
                  "LICENSE_CODE": 1010,
                  "LICENSE_DESCRIPTION": "Limited Business License",
                  "BUSINESS_ACTIVITY_ID": "476 | 1089",
                  "BUSINESS_ACTIVITY": "Photography Services | Multi-Media Services",
                  "LICENSE_NUMBER": 2863350,
                  "APPLICATION_TYPE": "ISSUE",
                  "APPLICATION_CREATED_DATE": "2022-08-08 00:00:00",
                  "APPLICATION_REQUIREMENTS_COMPLETE": "2022-08-08 00:00:00",
                  "PAYMENT_DATE": "2022-08-08 00:00:00",
                  "CONDITIONAL_APPROVAL": "N",
                  "LICENSE_TERM_START_DATE": "2022-08-08 00:00:00",
                  "LICENSE_TERM_EXPIRATION_DATE": "2024-08-15 00:00:00",
                  "LICENSE_APPROVED_FOR_ISSUANCE": "2022-08-08 00:00:00",
                  "DATE_ISSUED": "2022-08-08 00:00:00",
                  "LICENSE_STATUS": "AAI",
                  "LICENSE_STATUS_CHANGE_DATE": "NaT",
                  "SSA": "nan",
                  "LATITUDE": 41.830728826,
                  "LONGITUDE": -87.655813252,
                  "LOCATION": "(41.830728825995436, -87.65581325202945)",
                  "TIF_Name": "['35th/Halsted']",
                  "LICENSE_GROUP": "Business",
                  "_deepnote_index_column": 9
                }
              ]
            },
            "text/plain": "                       ID  LICENSE_ID  ACCOUNT_NUMBER  SITE_NUMBER  \\\n0        2617269-20220916     2857496            1611            5   \n1        2652692-20201217     2652692          456833            1   \n2        2647849-20200916     2739788           64603            7   \n3        1579838-20220616     2842924          289144            1   \n4        2027540-20220616     2841687           10726            5   \n...                   ...         ...             ...          ...   \n1033611  2204520-20160716     2465534           25985            1   \n1033612  2652764-20210316     2770633          456868            1   \n1033613     6415-20070816     1832401          376290            2   \n1033614  1800007-20070124     1800007          313705            1   \n1033615  2846254-20220909     2846254          349928           13   \n\n                                      LEGAL_NAME  \\\n0                                    TTX COMPANY   \n1                            JYM INVESTMENTS LLC   \n2                        LEOPARDO COMPANIES INC.   \n3                          1021 MONTROSE, L.L.C.   \n4                          GRAHAM ENTERPRISE INC   \n...                                          ...   \n1033611  AABALL HEATING SERVICE & SUPPLIES, INC.   \n1033612                             SHOBHNA INC.   \n1033613       FRANK'S CHICAGO SHRIMP HOUSE, INC.   \n1033614                        TERRANCE J. WATTS   \n1033615                         RDK VENTURES LLC   \n\n                                       DBA                       ADDRESS  \\\n0                              TTX COMPANY            4016 S ASHLAND AVE   \n1                                  WINGMAN          2321 W HOWARD ST 1ST   \n2                   Leopardo Companies Inc  210 N CARPENTER ST 3RD FLOOR   \n3                                Driftwood           1021 W MONTROSE AVE   \n4                 Rock N Roll BP (GEI-157)         631-647 N LA SALLE DR   \n...                                    ...                           ...   \n1033611  AABALL HEATING SERVICE & SUPPLIES            8518 S ASHLAND AVE   \n1033612                          FOOD STOP           3734 W LAWRENCE AVE   \n1033613       FRANK'S CHICAGO SHRIMP HOUSE         5439 W ADDISON ST 1ST   \n1033614                  TERRANCE J. WATTS            9932 S SANGAMON ST   \n1033615                           Circle K            190 W MADISON ST 1   \n\n            CITY STATE  ZIP_CODE  ...  LICENSE_APPROVED_FOR_ISSUANCE  \\\n0        CHICAGO    IL     60609  ...                     2022-08-05   \n1        CHICAGO    IL     60645  ...                     2020-12-16   \n2        CHICAGO    IL     60607  ...                     2020-08-20   \n3        CHICAGO    IL     60613  ...                     2022-05-10   \n4        CHICAGO    IL     60654  ...                     2022-05-10   \n...          ...   ...       ...  ...                            ...   \n1033611  CHICAGO    IL     60620  ...                     2016-05-31   \n1033612  CHICAGO    IL     60625  ...                     2021-04-02   \n1033613  CHICAGO    IL     60641  ...                     2007-08-24   \n1033614  CHICAGO    IL     60643  ...                            NaT   \n1033615  CHICAGO    IL     60602  ...                     2022-09-09   \n\n         DATE_ISSUED LICENSE_STATUS  LICENSE_STATUS_CHANGE_DATE   SSA  \\\n0         2022-08-08            AAI                         NaT   NaN   \n1         2020-12-17            AAC                  2022-08-08   NaN   \n2         2020-08-21            AAC                  2022-08-08   NaN   \n3         2022-05-11            AAI                         NaT  34.0   \n4         2022-05-11            AAI                         NaT   NaN   \n...              ...            ...                         ...   ...   \n1033611   2016-06-01            AAI                         NaT  69.0   \n1033612   2021-04-05            AAI                         NaT   NaN   \n1033613   2008-05-22            AAI                         NaT   NaN   \n1033614   2007-01-24            AAI                         NaT   NaN   \n1033615   2022-09-09            AAI                         NaT   NaN   \n\n          LATITUDE  LONGITUDE                                  LOCATION  \\\n0        41.820285 -87.665397   (41.82028493557808, -87.66539682158037)   \n1        42.019413 -87.688628  (42.019413270594214, -87.68862818775574)   \n2        41.885945 -87.653462   (41.88594495760403, -87.65346178255953)   \n3        41.961655 -87.655650  (41.961655308981946, -87.65564994485091)   \n4        41.893251 -87.632493   (41.89325119846543, -87.63249301222938)   \n...            ...        ...                                       ...   \n1033611  41.738831 -87.663289  (41.738831043655715, -87.66328877414871)   \n1033612  41.968417 -87.722060    (41.96841672465387, -87.7220597187097)   \n1033613  41.945810 -87.763441   (41.94580991762778, -87.76344146216435)   \n1033614  41.713160 -87.646789    (41.71316042726137, -87.6467890258547)   \n1033615  41.882058 -87.633533   (41.88205759473728, -87.63353326572278)   \n\n                                        TIF_Name LICENSE_GROUP  \n0                                             []      Business  \n1                                             []          Food  \n2        ['Kinzie Industrial Conservation Area']      Business  \n3                                ['Wilson Yard']          Food  \n4                                             []      Vehicles  \n...                                          ...           ...  \n1033611                                       []      Business  \n1033612                      ['Lawrence/Kedzie']       Tabacco  \n1033613                                       []          Food  \n1033614    ['105th Street and Vincennes Avenue']       Special  \n1033615                      ['LaSalle Central']       Tabacco  \n\n[1033616 rows x 36 columns]",
            "text/html": "<div>\n<style scoped>\n    .dataframe tbody tr th:only-of-type {\n        vertical-align: middle;\n    }\n\n    .dataframe tbody tr th {\n        vertical-align: top;\n    }\n\n    .dataframe thead th {\n        text-align: right;\n    }\n</style>\n<table border=\"1\" class=\"dataframe\">\n  <thead>\n    <tr style=\"text-align: right;\">\n      <th></th>\n      <th>ID</th>\n      <th>LICENSE_ID</th>\n      <th>ACCOUNT_NUMBER</th>\n      <th>SITE_NUMBER</th>\n      <th>LEGAL_NAME</th>\n      <th>DBA</th>\n      <th>ADDRESS</th>\n      <th>CITY</th>\n      <th>STATE</th>\n      <th>ZIP_CODE</th>\n      <th>...</th>\n      <th>LICENSE_APPROVED_FOR_ISSUANCE</th>\n      <th>DATE_ISSUED</th>\n      <th>LICENSE_STATUS</th>\n      <th>LICENSE_STATUS_CHANGE_DATE</th>\n      <th>SSA</th>\n      <th>LATITUDE</th>\n      <th>LONGITUDE</th>\n      <th>LOCATION</th>\n      <th>TIF_Name</th>\n      <th>LICENSE_GROUP</th>\n    </tr>\n  </thead>\n  <tbody>\n    <tr>\n      <th>0</th>\n      <td>2617269-20220916</td>\n      <td>2857496</td>\n      <td>1611</td>\n      <td>5</td>\n      <td>TTX COMPANY</td>\n      <td>TTX COMPANY</td>\n      <td>4016 S ASHLAND AVE</td>\n      <td>CHICAGO</td>\n      <td>IL</td>\n      <td>60609</td>\n      <td>...</td>\n      <td>2022-08-05</td>\n      <td>2022-08-08</td>\n      <td>AAI</td>\n      <td>NaT</td>\n      <td>NaN</td>\n      <td>41.820285</td>\n      <td>-87.665397</td>\n      <td>(41.82028493557808, -87.66539682158037)</td>\n      <td>[]</td>\n      <td>Business</td>\n    </tr>\n    <tr>\n      <th>1</th>\n      <td>2652692-20201217</td>\n      <td>2652692</td>\n      <td>456833</td>\n      <td>1</td>\n      <td>JYM INVESTMENTS LLC</td>\n      <td>WINGMAN</td>\n      <td>2321 W HOWARD ST 1ST</td>\n      <td>CHICAGO</td>\n      <td>IL</td>\n      <td>60645</td>\n      <td>...</td>\n      <td>2020-12-16</td>\n      <td>2020-12-17</td>\n      <td>AAC</td>\n      <td>2022-08-08</td>\n      <td>NaN</td>\n      <td>42.019413</td>\n      <td>-87.688628</td>\n      <td>(42.019413270594214, -87.68862818775574)</td>\n      <td>[]</td>\n      <td>Food</td>\n    </tr>\n    <tr>\n      <th>2</th>\n      <td>2647849-20200916</td>\n      <td>2739788</td>\n      <td>64603</td>\n      <td>7</td>\n      <td>LEOPARDO COMPANIES INC.</td>\n      <td>Leopardo Companies Inc</td>\n      <td>210 N CARPENTER ST 3RD FLOOR</td>\n      <td>CHICAGO</td>\n      <td>IL</td>\n      <td>60607</td>\n      <td>...</td>\n      <td>2020-08-20</td>\n      <td>2020-08-21</td>\n      <td>AAC</td>\n      <td>2022-08-08</td>\n      <td>NaN</td>\n      <td>41.885945</td>\n      <td>-87.653462</td>\n      <td>(41.88594495760403, -87.65346178255953)</td>\n      <td>['Kinzie Industrial Conservation Area']</td>\n      <td>Business</td>\n    </tr>\n    <tr>\n      <th>3</th>\n      <td>1579838-20220616</td>\n      <td>2842924</td>\n      <td>289144</td>\n      <td>1</td>\n      <td>1021 MONTROSE, L.L.C.</td>\n      <td>Driftwood</td>\n      <td>1021 W MONTROSE AVE</td>\n      <td>CHICAGO</td>\n      <td>IL</td>\n      <td>60613</td>\n      <td>...</td>\n      <td>2022-05-10</td>\n      <td>2022-05-11</td>\n      <td>AAI</td>\n      <td>NaT</td>\n      <td>34.0</td>\n      <td>41.961655</td>\n      <td>-87.655650</td>\n      <td>(41.961655308981946, -87.65564994485091)</td>\n      <td>['Wilson Yard']</td>\n      <td>Food</td>\n    </tr>\n    <tr>\n      <th>4</th>\n      <td>2027540-20220616</td>\n      <td>2841687</td>\n      <td>10726</td>\n      <td>5</td>\n      <td>GRAHAM ENTERPRISE INC</td>\n      <td>Rock N Roll BP (GEI-157)</td>\n      <td>631-647 N LA SALLE DR</td>\n      <td>CHICAGO</td>\n      <td>IL</td>\n      <td>60654</td>\n      <td>...</td>\n      <td>2022-05-10</td>\n      <td>2022-05-11</td>\n      <td>AAI</td>\n      <td>NaT</td>\n      <td>NaN</td>\n      <td>41.893251</td>\n      <td>-87.632493</td>\n      <td>(41.89325119846543, -87.63249301222938)</td>\n      <td>[]</td>\n      <td>Vehicles</td>\n    </tr>\n    <tr>\n      <th>...</th>\n      <td>...</td>\n      <td>...</td>\n      <td>...</td>\n      <td>...</td>\n      <td>...</td>\n      <td>...</td>\n      <td>...</td>\n      <td>...</td>\n      <td>...</td>\n      <td>...</td>\n      <td>...</td>\n      <td>...</td>\n      <td>...</td>\n      <td>...</td>\n      <td>...</td>\n      <td>...</td>\n      <td>...</td>\n      <td>...</td>\n      <td>...</td>\n      <td>...</td>\n      <td>...</td>\n    </tr>\n    <tr>\n      <th>1033611</th>\n      <td>2204520-20160716</td>\n      <td>2465534</td>\n      <td>25985</td>\n      <td>1</td>\n      <td>AABALL HEATING SERVICE &amp; SUPPLIES, INC.</td>\n      <td>AABALL HEATING SERVICE &amp; SUPPLIES</td>\n      <td>8518 S ASHLAND AVE</td>\n      <td>CHICAGO</td>\n      <td>IL</td>\n      <td>60620</td>\n      <td>...</td>\n      <td>2016-05-31</td>\n      <td>2016-06-01</td>\n      <td>AAI</td>\n      <td>NaT</td>\n      <td>69.0</td>\n      <td>41.738831</td>\n      <td>-87.663289</td>\n      <td>(41.738831043655715, -87.66328877414871)</td>\n      <td>[]</td>\n      <td>Business</td>\n    </tr>\n    <tr>\n      <th>1033612</th>\n      <td>2652764-20210316</td>\n      <td>2770633</td>\n      <td>456868</td>\n      <td>1</td>\n      <td>SHOBHNA INC.</td>\n      <td>FOOD STOP</td>\n      <td>3734 W LAWRENCE AVE</td>\n      <td>CHICAGO</td>\n      <td>IL</td>\n      <td>60625</td>\n      <td>...</td>\n      <td>2021-04-02</td>\n      <td>2021-04-05</td>\n      <td>AAI</td>\n      <td>NaT</td>\n      <td>NaN</td>\n      <td>41.968417</td>\n      <td>-87.722060</td>\n      <td>(41.96841672465387, -87.7220597187097)</td>\n      <td>['Lawrence/Kedzie']</td>\n      <td>Tabacco</td>\n    </tr>\n    <tr>\n      <th>1033613</th>\n      <td>6415-20070816</td>\n      <td>1832401</td>\n      <td>376290</td>\n      <td>2</td>\n      <td>FRANK'S CHICAGO SHRIMP HOUSE, INC.</td>\n      <td>FRANK'S CHICAGO SHRIMP HOUSE</td>\n      <td>5439 W ADDISON ST 1ST</td>\n      <td>CHICAGO</td>\n      <td>IL</td>\n      <td>60641</td>\n      <td>...</td>\n      <td>2007-08-24</td>\n      <td>2008-05-22</td>\n      <td>AAI</td>\n      <td>NaT</td>\n      <td>NaN</td>\n      <td>41.945810</td>\n      <td>-87.763441</td>\n      <td>(41.94580991762778, -87.76344146216435)</td>\n      <td>[]</td>\n      <td>Food</td>\n    </tr>\n    <tr>\n      <th>1033614</th>\n      <td>1800007-20070124</td>\n      <td>1800007</td>\n      <td>313705</td>\n      <td>1</td>\n      <td>TERRANCE J. WATTS</td>\n      <td>TERRANCE J. WATTS</td>\n      <td>9932 S SANGAMON ST</td>\n      <td>CHICAGO</td>\n      <td>IL</td>\n      <td>60643</td>\n      <td>...</td>\n      <td>NaT</td>\n      <td>2007-01-24</td>\n      <td>AAI</td>\n      <td>NaT</td>\n      <td>NaN</td>\n      <td>41.713160</td>\n      <td>-87.646789</td>\n      <td>(41.71316042726137, -87.6467890258547)</td>\n      <td>['105th Street and Vincennes Avenue']</td>\n      <td>Special</td>\n    </tr>\n    <tr>\n      <th>1033615</th>\n      <td>2846254-20220909</td>\n      <td>2846254</td>\n      <td>349928</td>\n      <td>13</td>\n      <td>RDK VENTURES LLC</td>\n      <td>Circle K</td>\n      <td>190 W MADISON ST 1</td>\n      <td>CHICAGO</td>\n      <td>IL</td>\n      <td>60602</td>\n      <td>...</td>\n      <td>2022-09-09</td>\n      <td>2022-09-09</td>\n      <td>AAI</td>\n      <td>NaT</td>\n      <td>NaN</td>\n      <td>41.882058</td>\n      <td>-87.633533</td>\n      <td>(41.88205759473728, -87.63353326572278)</td>\n      <td>['LaSalle Central']</td>\n      <td>Tabacco</td>\n    </tr>\n  </tbody>\n</table>\n<p>1033616 rows × 36 columns</p>\n</div>"
          },
          "metadata": {}
        }
      ],
      "outputs_reference": null,
      "execution_count": null,
      "block_group": "fd8fef655d044bc6a3c2774d69d566fa",
      "content_dependencies": null
    },
    {
      "cell_type": "code",
      "source": "def isInsideCom_Geo(point, tif_list):# Point(long, lat)\n    # takes a Point class and returns the index of the TIF that contains the Point\n    # NOTE: RETURNS AN ARRAY NOT BOOL\n    returnArray = []\n\n    # iterate over all the distrcits and see if it contains the given point\n    # print(len(tif_list) ,tif_list)\n    if len(tif_list) == 2:\n        # print(\"oo\")\n        for index, row in com_geo.iterrows():\n            if row['geometry'].contains(point):\n                # returnArray.append(index)\n                returnArray.append(row['community'])\n    \n    return returnArray\n\n# long, lat\nprint(isInsideCom_Geo(Point(-87.65454023,41.68421355), '[]'))",
      "metadata": {
        "source_hash": null,
        "execution_start": 1712276314145,
        "execution_millis": 89,
        "deepnote_to_be_reexecuted": false,
        "deepnote_app_block_visible": true,
        "cell_id": "97dea041d2a148f39a2a00928dc75f92",
        "deepnote_cell_type": "code"
      },
      "outputs": [
        {
          "name": "stdout",
          "text": "['WEST PULLMAN']\n",
          "output_type": "stream"
        }
      ],
      "outputs_reference": null,
      "execution_count": null,
      "block_group": "29cb5804e4ae42b28df62998df28b8fe",
      "content_dependencies": null
    },
    {
      "cell_type": "code",
      "source": "df_2['Com_Name'] = [isInsideCom_Geo(Point(row['LONGITUDE'],row['LATITUDE']), row['TIF_Name']) for index, row in df_2.iterrows()]\ndf_2.to_csv('BusWithCom.csv', index=False)\ndf_2",
      "metadata": {
        "source_hash": null,
        "execution_start": 1712276322404,
        "execution_millis": 2246312,
        "deepnote_table_state": {
          "sortBy": [],
          "filters": [],
          "pageSize": 10,
          "pageIndex": 103361
        },
        "deepnote_table_loading": false,
        "deepnote_to_be_reexecuted": false,
        "deepnote_app_block_visible": true,
        "cell_id": "e9000906521b4eb0871fe80aff074814",
        "deepnote_cell_type": "code"
      },
      "outputs": [
        {
          "output_type": "execute_result",
          "execution_count": 15,
          "data": {
            "application/vnd.deepnote.dataframe.v3+json": {
              "column_count": 37,
              "row_count": 1033616,
              "columns": [
                {
                  "name": "ID",
                  "dtype": "object"
                },
                {
                  "name": "LICENSE_ID",
                  "dtype": "int64"
                },
                {
                  "name": "ACCOUNT_NUMBER",
                  "dtype": "int64"
                },
                {
                  "name": "SITE_NUMBER",
                  "dtype": "int64"
                },
                {
                  "name": "LEGAL_NAME",
                  "dtype": "object"
                },
                {
                  "name": "DBA",
                  "dtype": "object"
                },
                {
                  "name": "ADDRESS",
                  "dtype": "object"
                },
                {
                  "name": "CITY",
                  "dtype": "object"
                },
                {
                  "name": "STATE",
                  "dtype": "object"
                },
                {
                  "name": "ZIP_CODE",
                  "dtype": "int64"
                },
                {
                  "name": "WARD",
                  "dtype": "float64"
                },
                {
                  "name": "PRECINCT",
                  "dtype": "float64"
                },
                {
                  "name": "WARD_PRECINCT",
                  "dtype": "object"
                },
                {
                  "name": "POLICE_DISTRICT",
                  "dtype": "float64"
                },
                {
                  "name": "LICENSE_CODE",
                  "dtype": "int64"
                },
                {
                  "name": "LICENSE_DESCRIPTION",
                  "dtype": "object"
                },
                {
                  "name": "BUSINESS_ACTIVITY_ID",
                  "dtype": "object"
                },
                {
                  "name": "BUSINESS_ACTIVITY",
                  "dtype": "object"
                },
                {
                  "name": "LICENSE_NUMBER",
                  "dtype": "int64"
                },
                {
                  "name": "APPLICATION_TYPE",
                  "dtype": "object"
                },
                {
                  "name": "APPLICATION_CREATED_DATE",
                  "dtype": "datetime64[us]"
                },
                {
                  "name": "APPLICATION_REQUIREMENTS_COMPLETE",
                  "dtype": "datetime64[us]"
                },
                {
                  "name": "PAYMENT_DATE",
                  "dtype": "datetime64[us]"
                },
                {
                  "name": "CONDITIONAL_APPROVAL",
                  "dtype": "object"
                },
                {
                  "name": "LICENSE_TERM_START_DATE",
                  "dtype": "datetime64[us]"
                },
                {
                  "name": "LICENSE_TERM_EXPIRATION_DATE",
                  "dtype": "datetime64[us]"
                },
                {
                  "name": "LICENSE_APPROVED_FOR_ISSUANCE",
                  "dtype": "datetime64[us]"
                },
                {
                  "name": "DATE_ISSUED",
                  "dtype": "datetime64[us]"
                },
                {
                  "name": "LICENSE_STATUS",
                  "dtype": "object"
                },
                {
                  "name": "LICENSE_STATUS_CHANGE_DATE",
                  "dtype": "datetime64[us]"
                },
                {
                  "name": "SSA",
                  "dtype": "float64"
                },
                {
                  "name": "LATITUDE",
                  "dtype": "float64"
                },
                {
                  "name": "LONGITUDE",
                  "dtype": "float64"
                },
                {
                  "name": "LOCATION",
                  "dtype": "object"
                },
                {
                  "name": "TIF_Name",
                  "dtype": "object"
                },
                {
                  "name": "LICENSE_GROUP",
                  "dtype": "object"
                },
                {
                  "name": "Com_Name",
                  "dtype": "object"
                },
                {
                  "name": "_deepnote_index_column",
                  "dtype": "int64"
                }
              ],
              "rows": [
                {
                  "ID": "1800644-20091116",
                  "LICENSE_ID": 1996441,
                  "ACCOUNT_NUMBER": 313982,
                  "SITE_NUMBER": 1,
                  "LEGAL_NAME": "JH ELECTRONICS, INC.",
                  "DBA": "ACE SOUND SYSTEM",
                  "ADDRESS": "2500 N MILWAUKEE AVE  201",
                  "CITY": "CHICAGO",
                  "STATE": "IL",
                  "ZIP_CODE": 60647,
                  "WARD": 35,
                  "PRECINCT": 30,
                  "WARD_PRECINCT": "35-30",
                  "POLICE_DISTRICT": 14,
                  "LICENSE_CODE": 1010,
                  "LICENSE_DESCRIPTION": "Limited Business License",
                  "BUSINESS_ACTIVITY_ID": "None",
                  "BUSINESS_ACTIVITY": "None",
                  "LICENSE_NUMBER": 1800644,
                  "APPLICATION_TYPE": "RENEW",
                  "APPLICATION_CREATED_DATE": "NaT",
                  "APPLICATION_REQUIREMENTS_COMPLETE": "2009-09-15 00:00:00",
                  "PAYMENT_DATE": "2009-11-20 00:00:00",
                  "CONDITIONAL_APPROVAL": "N",
                  "LICENSE_TERM_START_DATE": "2009-11-16 00:00:00",
                  "LICENSE_TERM_EXPIRATION_DATE": "2011-11-15 00:00:00",
                  "LICENSE_APPROVED_FOR_ISSUANCE": "2009-11-20 00:00:00",
                  "DATE_ISSUED": "2009-11-25 00:00:00",
                  "LICENSE_STATUS": "AAI",
                  "LICENSE_STATUS_CHANGE_DATE": "NaT",
                  "SSA": "nan",
                  "LATITUDE": 41.926736598,
                  "LONGITUDE": -87.703827827,
                  "LOCATION": "(41.92673659835983, -87.70382782692913)",
                  "TIF_Name": "['Fullerton/Milwaukee']",
                  "LICENSE_GROUP": "Business",
                  "Com_Name": "[]",
                  "_deepnote_index_column": 1033610
                },
                {
                  "ID": "2204520-20160716",
                  "LICENSE_ID": 2465534,
                  "ACCOUNT_NUMBER": 25985,
                  "SITE_NUMBER": 1,
                  "LEGAL_NAME": "AABALL HEATING SERVICE & SUPPLIES, INC.",
                  "DBA": "AABALL HEATING SERVICE & SUPPLIES",
                  "ADDRESS": "8518 S ASHLAND AVE",
                  "CITY": "CHICAGO",
                  "STATE": "IL",
                  "ZIP_CODE": 60620,
                  "WARD": 18,
                  "PRECINCT": 46,
                  "WARD_PRECINCT": "18-46",
                  "POLICE_DISTRICT": 6,
                  "LICENSE_CODE": 4404,
                  "LICENSE_DESCRIPTION": "Regulated Business License",
                  "BUSINESS_ACTIVITY_ID": "673",
                  "BUSINESS_ACTIVITY": "Home Repair Services",
                  "LICENSE_NUMBER": 2204520,
                  "APPLICATION_TYPE": "RENEW",
                  "APPLICATION_CREATED_DATE": "NaT",
                  "APPLICATION_REQUIREMENTS_COMPLETE": "2016-05-15 00:00:00",
                  "PAYMENT_DATE": "2016-05-31 00:00:00",
                  "CONDITIONAL_APPROVAL": "N",
                  "LICENSE_TERM_START_DATE": "2016-07-16 00:00:00",
                  "LICENSE_TERM_EXPIRATION_DATE": "2018-07-15 00:00:00",
                  "LICENSE_APPROVED_FOR_ISSUANCE": "2016-05-31 00:00:00",
                  "DATE_ISSUED": "2016-06-01 00:00:00",
                  "LICENSE_STATUS": "AAI",
                  "LICENSE_STATUS_CHANGE_DATE": "NaT",
                  "SSA": 69,
                  "LATITUDE": 41.738831044,
                  "LONGITUDE": -87.663288774,
                  "LOCATION": "(41.738831043655715, -87.66328877414871)",
                  "TIF_Name": "[]",
                  "LICENSE_GROUP": "Business",
                  "Com_Name": "['AUBURN GRESHAM']",
                  "_deepnote_index_column": 1033611
                },
                {
                  "ID": "2652764-20210316",
                  "LICENSE_ID": 2770633,
                  "ACCOUNT_NUMBER": 456868,
                  "SITE_NUMBER": 1,
                  "LEGAL_NAME": "SHOBHNA INC.",
                  "DBA": "FOOD STOP",
                  "ADDRESS": "3734 W LAWRENCE AVE",
                  "CITY": "CHICAGO",
                  "STATE": "IL",
                  "ZIP_CODE": 60625,
                  "WARD": 33,
                  "PRECINCT": 29,
                  "WARD_PRECINCT": "33-29",
                  "POLICE_DISTRICT": 17,
                  "LICENSE_CODE": 1781,
                  "LICENSE_DESCRIPTION": "Tobacco",
                  "BUSINESS_ACTIVITY_ID": "936 | 937",
                  "BUSINESS_ACTIVITY": "Retail Sales of Tobacco Accessories | Retail Sales of Tobacco and Flavored Tobacco Products",
                  "LICENSE_NUMBER": 2652764,
                  "APPLICATION_TYPE": "RENEW",
                  "APPLICATION_CREATED_DATE": "NaT",
                  "APPLICATION_REQUIREMENTS_COMPLETE": "2021-01-15 00:00:00",
                  "PAYMENT_DATE": "2021-04-02 00:00:00",
                  "CONDITIONAL_APPROVAL": "N",
                  "LICENSE_TERM_START_DATE": "2021-03-16 00:00:00",
                  "LICENSE_TERM_EXPIRATION_DATE": "2022-03-15 00:00:00",
                  "LICENSE_APPROVED_FOR_ISSUANCE": "2021-04-02 00:00:00",
                  "DATE_ISSUED": "2021-04-05 00:00:00",
                  "LICENSE_STATUS": "AAI",
                  "LICENSE_STATUS_CHANGE_DATE": "NaT",
                  "SSA": "nan",
                  "LATITUDE": 41.968416725,
                  "LONGITUDE": -87.722059719,
                  "LOCATION": "(41.96841672465387, -87.7220597187097)",
                  "TIF_Name": "['Lawrence/Kedzie']",
                  "LICENSE_GROUP": "Tabacco",
                  "Com_Name": "[]",
                  "_deepnote_index_column": 1033612
                },
                {
                  "ID": "6415-20070816",
                  "LICENSE_ID": 1832401,
                  "ACCOUNT_NUMBER": 376290,
                  "SITE_NUMBER": 2,
                  "LEGAL_NAME": "FRANK'S CHICAGO SHRIMP HOUSE, INC.",
                  "DBA": "FRANK'S CHICAGO SHRIMP HOUSE",
                  "ADDRESS": "5439 W ADDISON ST 1ST",
                  "CITY": "CHICAGO",
                  "STATE": "IL",
                  "ZIP_CODE": 60641,
                  "WARD": 30,
                  "PRECINCT": 39,
                  "WARD_PRECINCT": "30-39",
                  "POLICE_DISTRICT": 16,
                  "LICENSE_CODE": 1006,
                  "LICENSE_DESCRIPTION": "Retail Food Establishment",
                  "BUSINESS_ACTIVITY_ID": "775",
                  "BUSINESS_ACTIVITY": "Retail Sales of Perishable Foods",
                  "LICENSE_NUMBER": 6415,
                  "APPLICATION_TYPE": "RENEW",
                  "APPLICATION_CREATED_DATE": "NaT",
                  "APPLICATION_REQUIREMENTS_COMPLETE": "2007-06-21 00:00:00",
                  "PAYMENT_DATE": "2007-08-24 00:00:00",
                  "CONDITIONAL_APPROVAL": "N",
                  "LICENSE_TERM_START_DATE": "2007-08-16 00:00:00",
                  "LICENSE_TERM_EXPIRATION_DATE": "2009-08-15 00:00:00",
                  "LICENSE_APPROVED_FOR_ISSUANCE": "2007-08-24 00:00:00",
                  "DATE_ISSUED": "2008-05-22 00:00:00",
                  "LICENSE_STATUS": "AAI",
                  "LICENSE_STATUS_CHANGE_DATE": "NaT",
                  "SSA": "nan",
                  "LATITUDE": 41.945809918,
                  "LONGITUDE": -87.763441462,
                  "LOCATION": "(41.94580991762778, -87.76344146216435)",
                  "TIF_Name": "[]",
                  "LICENSE_GROUP": "Food",
                  "Com_Name": "['PORTAGE PARK']",
                  "_deepnote_index_column": 1033613
                },
                {
                  "ID": "1800007-20070124",
                  "LICENSE_ID": 1800007,
                  "ACCOUNT_NUMBER": 313705,
                  "SITE_NUMBER": 1,
                  "LEGAL_NAME": "TERRANCE J. WATTS",
                  "DBA": "TERRANCE J. WATTS",
                  "ADDRESS": "9932 S SANGAMON ST",
                  "CITY": "CHICAGO",
                  "STATE": "IL",
                  "ZIP_CODE": 60643,
                  "WARD": 21,
                  "PRECINCT": 58,
                  "WARD_PRECINCT": "21-58",
                  "POLICE_DISTRICT": 22,
                  "LICENSE_CODE": 1604,
                  "LICENSE_DESCRIPTION": "Peddler, non-food",
                  "BUSINESS_ACTIVITY_ID": "None",
                  "BUSINESS_ACTIVITY": "None",
                  "LICENSE_NUMBER": 1800007,
                  "APPLICATION_TYPE": "ISSUE",
                  "APPLICATION_CREATED_DATE": "2007-01-24 00:00:00",
                  "APPLICATION_REQUIREMENTS_COMPLETE": "2007-01-24 00:00:00",
                  "PAYMENT_DATE": "2007-01-24 00:00:00",
                  "CONDITIONAL_APPROVAL": "N",
                  "LICENSE_TERM_START_DATE": "2007-01-24 00:00:00",
                  "LICENSE_TERM_EXPIRATION_DATE": "2009-02-15 00:00:00",
                  "LICENSE_APPROVED_FOR_ISSUANCE": "NaT",
                  "DATE_ISSUED": "2007-01-24 00:00:00",
                  "LICENSE_STATUS": "AAI",
                  "LICENSE_STATUS_CHANGE_DATE": "NaT",
                  "SSA": "nan",
                  "LATITUDE": 41.713160427,
                  "LONGITUDE": -87.646789026,
                  "LOCATION": "(41.71316042726137, -87.6467890258547)",
                  "TIF_Name": "['105th Street and Vincennes Avenue']",
                  "LICENSE_GROUP": "Special",
                  "Com_Name": "[]",
                  "_deepnote_index_column": 1033614
                },
                {
                  "ID": "2846254-20220909",
                  "LICENSE_ID": 2846254,
                  "ACCOUNT_NUMBER": 349928,
                  "SITE_NUMBER": 13,
                  "LEGAL_NAME": "RDK VENTURES LLC",
                  "DBA": "Circle K",
                  "ADDRESS": "190 W MADISON ST 1",
                  "CITY": "CHICAGO",
                  "STATE": "IL",
                  "ZIP_CODE": 60602,
                  "WARD": 34,
                  "PRECINCT": "nan",
                  "WARD_PRECINCT": "34-",
                  "POLICE_DISTRICT": "nan",
                  "LICENSE_CODE": 1781,
                  "LICENSE_DESCRIPTION": "Tobacco",
                  "BUSINESS_ACTIVITY_ID": "776 | 936 | 937",
                  "BUSINESS_ACTIVITY": "Retail Sales of Tobacco Products | Retail Sales of Tobacco Accessories | Retail Sales of Tobacco and Flavored Tobacco Products",
                  "LICENSE_NUMBER": 2846254,
                  "APPLICATION_TYPE": "ISSUE",
                  "APPLICATION_CREATED_DATE": "2022-05-11 00:00:00",
                  "APPLICATION_REQUIREMENTS_COMPLETE": "2022-05-11 00:00:00",
                  "PAYMENT_DATE": "2022-05-13 00:00:00",
                  "CONDITIONAL_APPROVAL": "N",
                  "LICENSE_TERM_START_DATE": "2022-09-09 00:00:00",
                  "LICENSE_TERM_EXPIRATION_DATE": "2023-09-15 00:00:00",
                  "LICENSE_APPROVED_FOR_ISSUANCE": "2022-09-09 00:00:00",
                  "DATE_ISSUED": "2022-09-09 00:00:00",
                  "LICENSE_STATUS": "AAI",
                  "LICENSE_STATUS_CHANGE_DATE": "NaT",
                  "SSA": "nan",
                  "LATITUDE": 41.882057595,
                  "LONGITUDE": -87.633533266,
                  "LOCATION": "(41.88205759473728, -87.63353326572278)",
                  "TIF_Name": "['LaSalle Central']",
                  "LICENSE_GROUP": "Tabacco",
                  "Com_Name": "[]",
                  "_deepnote_index_column": 1033615
                }
              ]
            },
            "text/plain": "                       ID  LICENSE_ID  ACCOUNT_NUMBER  SITE_NUMBER  \\\n0        2617269-20220916     2857496            1611            5   \n1        2652692-20201217     2652692          456833            1   \n2        2647849-20200916     2739788           64603            7   \n3        1579838-20220616     2842924          289144            1   \n4        2027540-20220616     2841687           10726            5   \n...                   ...         ...             ...          ...   \n1033611  2204520-20160716     2465534           25985            1   \n1033612  2652764-20210316     2770633          456868            1   \n1033613     6415-20070816     1832401          376290            2   \n1033614  1800007-20070124     1800007          313705            1   \n1033615  2846254-20220909     2846254          349928           13   \n\n                                      LEGAL_NAME  \\\n0                                    TTX COMPANY   \n1                            JYM INVESTMENTS LLC   \n2                        LEOPARDO COMPANIES INC.   \n3                          1021 MONTROSE, L.L.C.   \n4                          GRAHAM ENTERPRISE INC   \n...                                          ...   \n1033611  AABALL HEATING SERVICE & SUPPLIES, INC.   \n1033612                             SHOBHNA INC.   \n1033613       FRANK'S CHICAGO SHRIMP HOUSE, INC.   \n1033614                        TERRANCE J. WATTS   \n1033615                         RDK VENTURES LLC   \n\n                                       DBA                       ADDRESS  \\\n0                              TTX COMPANY            4016 S ASHLAND AVE   \n1                                  WINGMAN          2321 W HOWARD ST 1ST   \n2                   Leopardo Companies Inc  210 N CARPENTER ST 3RD FLOOR   \n3                                Driftwood           1021 W MONTROSE AVE   \n4                 Rock N Roll BP (GEI-157)         631-647 N LA SALLE DR   \n...                                    ...                           ...   \n1033611  AABALL HEATING SERVICE & SUPPLIES            8518 S ASHLAND AVE   \n1033612                          FOOD STOP           3734 W LAWRENCE AVE   \n1033613       FRANK'S CHICAGO SHRIMP HOUSE         5439 W ADDISON ST 1ST   \n1033614                  TERRANCE J. WATTS            9932 S SANGAMON ST   \n1033615                           Circle K            190 W MADISON ST 1   \n\n            CITY STATE  ZIP_CODE  ...  DATE_ISSUED  LICENSE_STATUS  \\\n0        CHICAGO    IL     60609  ...   2022-08-08             AAI   \n1        CHICAGO    IL     60645  ...   2020-12-17             AAC   \n2        CHICAGO    IL     60607  ...   2020-08-21             AAC   \n3        CHICAGO    IL     60613  ...   2022-05-11             AAI   \n4        CHICAGO    IL     60654  ...   2022-05-11             AAI   \n...          ...   ...       ...  ...          ...             ...   \n1033611  CHICAGO    IL     60620  ...   2016-06-01             AAI   \n1033612  CHICAGO    IL     60625  ...   2021-04-05             AAI   \n1033613  CHICAGO    IL     60641  ...   2008-05-22             AAI   \n1033614  CHICAGO    IL     60643  ...   2007-01-24             AAI   \n1033615  CHICAGO    IL     60602  ...   2022-09-09             AAI   \n\n        LICENSE_STATUS_CHANGE_DATE   SSA   LATITUDE  LONGITUDE  \\\n0                              NaT   NaN  41.820285 -87.665397   \n1                       2022-08-08   NaN  42.019413 -87.688628   \n2                       2022-08-08   NaN  41.885945 -87.653462   \n3                              NaT  34.0  41.961655 -87.655650   \n4                              NaT   NaN  41.893251 -87.632493   \n...                            ...   ...        ...        ...   \n1033611                        NaT  69.0  41.738831 -87.663289   \n1033612                        NaT   NaN  41.968417 -87.722060   \n1033613                        NaT   NaN  41.945810 -87.763441   \n1033614                        NaT   NaN  41.713160 -87.646789   \n1033615                        NaT   NaN  41.882058 -87.633533   \n\n                                         LOCATION  \\\n0         (41.82028493557808, -87.66539682158037)   \n1        (42.019413270594214, -87.68862818775574)   \n2         (41.88594495760403, -87.65346178255953)   \n3        (41.961655308981946, -87.65564994485091)   \n4         (41.89325119846543, -87.63249301222938)   \n...                                           ...   \n1033611  (41.738831043655715, -87.66328877414871)   \n1033612    (41.96841672465387, -87.7220597187097)   \n1033613   (41.94580991762778, -87.76344146216435)   \n1033614    (41.71316042726137, -87.6467890258547)   \n1033615   (41.88205759473728, -87.63353326572278)   \n\n                                        TIF_Name  LICENSE_GROUP  \\\n0                                             []       Business   \n1                                             []           Food   \n2        ['Kinzie Industrial Conservation Area']       Business   \n3                                ['Wilson Yard']           Food   \n4                                             []       Vehicles   \n...                                          ...            ...   \n1033611                                       []       Business   \n1033612                      ['Lawrence/Kedzie']        Tabacco   \n1033613                                       []           Food   \n1033614    ['105th Street and Vincennes Avenue']        Special   \n1033615                      ['LaSalle Central']        Tabacco   \n\n                  Com_Name  \n0               [NEW CITY]  \n1             [WEST RIDGE]  \n2                       []  \n3                       []  \n4        [NEAR NORTH SIDE]  \n...                    ...  \n1033611   [AUBURN GRESHAM]  \n1033612                 []  \n1033613     [PORTAGE PARK]  \n1033614                 []  \n1033615                 []  \n\n[1033616 rows x 37 columns]",
            "text/html": "<div>\n<style scoped>\n    .dataframe tbody tr th:only-of-type {\n        vertical-align: middle;\n    }\n\n    .dataframe tbody tr th {\n        vertical-align: top;\n    }\n\n    .dataframe thead th {\n        text-align: right;\n    }\n</style>\n<table border=\"1\" class=\"dataframe\">\n  <thead>\n    <tr style=\"text-align: right;\">\n      <th></th>\n      <th>ID</th>\n      <th>LICENSE_ID</th>\n      <th>ACCOUNT_NUMBER</th>\n      <th>SITE_NUMBER</th>\n      <th>LEGAL_NAME</th>\n      <th>DBA</th>\n      <th>ADDRESS</th>\n      <th>CITY</th>\n      <th>STATE</th>\n      <th>ZIP_CODE</th>\n      <th>...</th>\n      <th>DATE_ISSUED</th>\n      <th>LICENSE_STATUS</th>\n      <th>LICENSE_STATUS_CHANGE_DATE</th>\n      <th>SSA</th>\n      <th>LATITUDE</th>\n      <th>LONGITUDE</th>\n      <th>LOCATION</th>\n      <th>TIF_Name</th>\n      <th>LICENSE_GROUP</th>\n      <th>Com_Name</th>\n    </tr>\n  </thead>\n  <tbody>\n    <tr>\n      <th>0</th>\n      <td>2617269-20220916</td>\n      <td>2857496</td>\n      <td>1611</td>\n      <td>5</td>\n      <td>TTX COMPANY</td>\n      <td>TTX COMPANY</td>\n      <td>4016 S ASHLAND AVE</td>\n      <td>CHICAGO</td>\n      <td>IL</td>\n      <td>60609</td>\n      <td>...</td>\n      <td>2022-08-08</td>\n      <td>AAI</td>\n      <td>NaT</td>\n      <td>NaN</td>\n      <td>41.820285</td>\n      <td>-87.665397</td>\n      <td>(41.82028493557808, -87.66539682158037)</td>\n      <td>[]</td>\n      <td>Business</td>\n      <td>[NEW CITY]</td>\n    </tr>\n    <tr>\n      <th>1</th>\n      <td>2652692-20201217</td>\n      <td>2652692</td>\n      <td>456833</td>\n      <td>1</td>\n      <td>JYM INVESTMENTS LLC</td>\n      <td>WINGMAN</td>\n      <td>2321 W HOWARD ST 1ST</td>\n      <td>CHICAGO</td>\n      <td>IL</td>\n      <td>60645</td>\n      <td>...</td>\n      <td>2020-12-17</td>\n      <td>AAC</td>\n      <td>2022-08-08</td>\n      <td>NaN</td>\n      <td>42.019413</td>\n      <td>-87.688628</td>\n      <td>(42.019413270594214, -87.68862818775574)</td>\n      <td>[]</td>\n      <td>Food</td>\n      <td>[WEST RIDGE]</td>\n    </tr>\n    <tr>\n      <th>2</th>\n      <td>2647849-20200916</td>\n      <td>2739788</td>\n      <td>64603</td>\n      <td>7</td>\n      <td>LEOPARDO COMPANIES INC.</td>\n      <td>Leopardo Companies Inc</td>\n      <td>210 N CARPENTER ST 3RD FLOOR</td>\n      <td>CHICAGO</td>\n      <td>IL</td>\n      <td>60607</td>\n      <td>...</td>\n      <td>2020-08-21</td>\n      <td>AAC</td>\n      <td>2022-08-08</td>\n      <td>NaN</td>\n      <td>41.885945</td>\n      <td>-87.653462</td>\n      <td>(41.88594495760403, -87.65346178255953)</td>\n      <td>['Kinzie Industrial Conservation Area']</td>\n      <td>Business</td>\n      <td>[]</td>\n    </tr>\n    <tr>\n      <th>3</th>\n      <td>1579838-20220616</td>\n      <td>2842924</td>\n      <td>289144</td>\n      <td>1</td>\n      <td>1021 MONTROSE, L.L.C.</td>\n      <td>Driftwood</td>\n      <td>1021 W MONTROSE AVE</td>\n      <td>CHICAGO</td>\n      <td>IL</td>\n      <td>60613</td>\n      <td>...</td>\n      <td>2022-05-11</td>\n      <td>AAI</td>\n      <td>NaT</td>\n      <td>34.0</td>\n      <td>41.961655</td>\n      <td>-87.655650</td>\n      <td>(41.961655308981946, -87.65564994485091)</td>\n      <td>['Wilson Yard']</td>\n      <td>Food</td>\n      <td>[]</td>\n    </tr>\n    <tr>\n      <th>4</th>\n      <td>2027540-20220616</td>\n      <td>2841687</td>\n      <td>10726</td>\n      <td>5</td>\n      <td>GRAHAM ENTERPRISE INC</td>\n      <td>Rock N Roll BP (GEI-157)</td>\n      <td>631-647 N LA SALLE DR</td>\n      <td>CHICAGO</td>\n      <td>IL</td>\n      <td>60654</td>\n      <td>...</td>\n      <td>2022-05-11</td>\n      <td>AAI</td>\n      <td>NaT</td>\n      <td>NaN</td>\n      <td>41.893251</td>\n      <td>-87.632493</td>\n      <td>(41.89325119846543, -87.63249301222938)</td>\n      <td>[]</td>\n      <td>Vehicles</td>\n      <td>[NEAR NORTH SIDE]</td>\n    </tr>\n    <tr>\n      <th>...</th>\n      <td>...</td>\n      <td>...</td>\n      <td>...</td>\n      <td>...</td>\n      <td>...</td>\n      <td>...</td>\n      <td>...</td>\n      <td>...</td>\n      <td>...</td>\n      <td>...</td>\n      <td>...</td>\n      <td>...</td>\n      <td>...</td>\n      <td>...</td>\n      <td>...</td>\n      <td>...</td>\n      <td>...</td>\n      <td>...</td>\n      <td>...</td>\n      <td>...</td>\n      <td>...</td>\n    </tr>\n    <tr>\n      <th>1033611</th>\n      <td>2204520-20160716</td>\n      <td>2465534</td>\n      <td>25985</td>\n      <td>1</td>\n      <td>AABALL HEATING SERVICE &amp; SUPPLIES, INC.</td>\n      <td>AABALL HEATING SERVICE &amp; SUPPLIES</td>\n      <td>8518 S ASHLAND AVE</td>\n      <td>CHICAGO</td>\n      <td>IL</td>\n      <td>60620</td>\n      <td>...</td>\n      <td>2016-06-01</td>\n      <td>AAI</td>\n      <td>NaT</td>\n      <td>69.0</td>\n      <td>41.738831</td>\n      <td>-87.663289</td>\n      <td>(41.738831043655715, -87.66328877414871)</td>\n      <td>[]</td>\n      <td>Business</td>\n      <td>[AUBURN GRESHAM]</td>\n    </tr>\n    <tr>\n      <th>1033612</th>\n      <td>2652764-20210316</td>\n      <td>2770633</td>\n      <td>456868</td>\n      <td>1</td>\n      <td>SHOBHNA INC.</td>\n      <td>FOOD STOP</td>\n      <td>3734 W LAWRENCE AVE</td>\n      <td>CHICAGO</td>\n      <td>IL</td>\n      <td>60625</td>\n      <td>...</td>\n      <td>2021-04-05</td>\n      <td>AAI</td>\n      <td>NaT</td>\n      <td>NaN</td>\n      <td>41.968417</td>\n      <td>-87.722060</td>\n      <td>(41.96841672465387, -87.7220597187097)</td>\n      <td>['Lawrence/Kedzie']</td>\n      <td>Tabacco</td>\n      <td>[]</td>\n    </tr>\n    <tr>\n      <th>1033613</th>\n      <td>6415-20070816</td>\n      <td>1832401</td>\n      <td>376290</td>\n      <td>2</td>\n      <td>FRANK'S CHICAGO SHRIMP HOUSE, INC.</td>\n      <td>FRANK'S CHICAGO SHRIMP HOUSE</td>\n      <td>5439 W ADDISON ST 1ST</td>\n      <td>CHICAGO</td>\n      <td>IL</td>\n      <td>60641</td>\n      <td>...</td>\n      <td>2008-05-22</td>\n      <td>AAI</td>\n      <td>NaT</td>\n      <td>NaN</td>\n      <td>41.945810</td>\n      <td>-87.763441</td>\n      <td>(41.94580991762778, -87.76344146216435)</td>\n      <td>[]</td>\n      <td>Food</td>\n      <td>[PORTAGE PARK]</td>\n    </tr>\n    <tr>\n      <th>1033614</th>\n      <td>1800007-20070124</td>\n      <td>1800007</td>\n      <td>313705</td>\n      <td>1</td>\n      <td>TERRANCE J. WATTS</td>\n      <td>TERRANCE J. WATTS</td>\n      <td>9932 S SANGAMON ST</td>\n      <td>CHICAGO</td>\n      <td>IL</td>\n      <td>60643</td>\n      <td>...</td>\n      <td>2007-01-24</td>\n      <td>AAI</td>\n      <td>NaT</td>\n      <td>NaN</td>\n      <td>41.713160</td>\n      <td>-87.646789</td>\n      <td>(41.71316042726137, -87.6467890258547)</td>\n      <td>['105th Street and Vincennes Avenue']</td>\n      <td>Special</td>\n      <td>[]</td>\n    </tr>\n    <tr>\n      <th>1033615</th>\n      <td>2846254-20220909</td>\n      <td>2846254</td>\n      <td>349928</td>\n      <td>13</td>\n      <td>RDK VENTURES LLC</td>\n      <td>Circle K</td>\n      <td>190 W MADISON ST 1</td>\n      <td>CHICAGO</td>\n      <td>IL</td>\n      <td>60602</td>\n      <td>...</td>\n      <td>2022-09-09</td>\n      <td>AAI</td>\n      <td>NaT</td>\n      <td>NaN</td>\n      <td>41.882058</td>\n      <td>-87.633533</td>\n      <td>(41.88205759473728, -87.63353326572278)</td>\n      <td>['LaSalle Central']</td>\n      <td>Tabacco</td>\n      <td>[]</td>\n    </tr>\n  </tbody>\n</table>\n<p>1033616 rows × 37 columns</p>\n</div>"
          },
          "metadata": {}
        }
      ],
      "outputs_reference": null,
      "execution_count": null,
      "block_group": "b364a974c429464fb1f3654a8ac693a9",
      "content_dependencies": null
    },
    {
      "cell_type": "code",
      "source": "df_3 = _deepnote_execute_sql('SELECT *\\n    FROM \\'BusWithCom.csv\\'\\n    WHERE STATE = \\'IL\\' AND CITY = \\'CHICAGO\\' \\n    AND ADDRESS IS NOT NULL \\n    AND CITY IS NOT NULL \\n    AND STATE IS NOT NULL \\n    AND ZIP_CODE IS NOT NULL \\n    AND LATITUDE IS NOT NULL \\n    AND LONGITUDE IS NOT NULL', 'SQL_DEEPNOTE_DATAFRAME_SQL', audit_sql_comment='', sql_cache_mode='cache_disabled')\ndf_3",
      "metadata": {
        "source_hash": null,
        "execution_start": 1712280576497,
        "execution_millis": 6062,
        "sql_integration_id": "deepnote-dataframe-sql",
        "deepnote_variable_name": "df_3",
        "deepnote_to_be_reexecuted": false,
        "deepnote_app_block_visible": true,
        "cell_id": "bc79194a59034b6bba394fc0993a3fee",
        "deepnote_cell_type": "sql",
        "deepnote_sql_source": "SELECT *\n    FROM 'BusWithCom.csv'\n    WHERE STATE = 'IL' AND CITY = 'CHICAGO' \n    AND ADDRESS IS NOT NULL \n    AND CITY IS NOT NULL \n    AND STATE IS NOT NULL \n    AND ZIP_CODE IS NOT NULL \n    AND LATITUDE IS NOT NULL \n    AND LONGITUDE IS NOT NULL"
      },
      "outputs": [
        {
          "output_type": "execute_result",
          "execution_count": 3,
          "data": {
            "application/vnd.deepnote.dataframe.v3+json": {
              "column_count": 37,
              "row_count": 1033616,
              "columns": [
                {
                  "name": "ID",
                  "dtype": "object"
                },
                {
                  "name": "LICENSE_ID",
                  "dtype": "int64"
                },
                {
                  "name": "ACCOUNT_NUMBER",
                  "dtype": "int64"
                },
                {
                  "name": "SITE_NUMBER",
                  "dtype": "int64"
                },
                {
                  "name": "LEGAL_NAME",
                  "dtype": "object"
                },
                {
                  "name": "DBA",
                  "dtype": "object"
                },
                {
                  "name": "ADDRESS",
                  "dtype": "object"
                },
                {
                  "name": "CITY",
                  "dtype": "object"
                },
                {
                  "name": "STATE",
                  "dtype": "object"
                },
                {
                  "name": "ZIP_CODE",
                  "dtype": "int64"
                },
                {
                  "name": "WARD",
                  "dtype": "float64"
                },
                {
                  "name": "PRECINCT",
                  "dtype": "float64"
                },
                {
                  "name": "WARD_PRECINCT",
                  "dtype": "object"
                },
                {
                  "name": "POLICE_DISTRICT",
                  "dtype": "float64"
                },
                {
                  "name": "LICENSE_CODE",
                  "dtype": "int64"
                },
                {
                  "name": "LICENSE_DESCRIPTION",
                  "dtype": "object"
                },
                {
                  "name": "BUSINESS_ACTIVITY_ID",
                  "dtype": "object"
                },
                {
                  "name": "BUSINESS_ACTIVITY",
                  "dtype": "object"
                },
                {
                  "name": "LICENSE_NUMBER",
                  "dtype": "int64"
                },
                {
                  "name": "APPLICATION_TYPE",
                  "dtype": "object"
                },
                {
                  "name": "APPLICATION_CREATED_DATE",
                  "dtype": "datetime64[us]"
                },
                {
                  "name": "APPLICATION_REQUIREMENTS_COMPLETE",
                  "dtype": "datetime64[us]"
                },
                {
                  "name": "PAYMENT_DATE",
                  "dtype": "datetime64[us]"
                },
                {
                  "name": "CONDITIONAL_APPROVAL",
                  "dtype": "object"
                },
                {
                  "name": "LICENSE_TERM_START_DATE",
                  "dtype": "datetime64[us]"
                },
                {
                  "name": "LICENSE_TERM_EXPIRATION_DATE",
                  "dtype": "datetime64[us]"
                },
                {
                  "name": "LICENSE_APPROVED_FOR_ISSUANCE",
                  "dtype": "datetime64[us]"
                },
                {
                  "name": "DATE_ISSUED",
                  "dtype": "datetime64[us]"
                },
                {
                  "name": "LICENSE_STATUS",
                  "dtype": "object"
                },
                {
                  "name": "LICENSE_STATUS_CHANGE_DATE",
                  "dtype": "datetime64[us]"
                },
                {
                  "name": "SSA",
                  "dtype": "float64"
                },
                {
                  "name": "LATITUDE",
                  "dtype": "float64"
                },
                {
                  "name": "LONGITUDE",
                  "dtype": "float64"
                },
                {
                  "name": "LOCATION",
                  "dtype": "object"
                },
                {
                  "name": "TIF_Name",
                  "dtype": "object"
                },
                {
                  "name": "LICENSE_GROUP",
                  "dtype": "object"
                },
                {
                  "name": "Com_Name",
                  "dtype": "object"
                },
                {
                  "name": "_deepnote_index_column",
                  "dtype": "int64"
                }
              ],
              "rows": [
                {
                  "ID": "2617269-20220916",
                  "LICENSE_ID": 2857496,
                  "ACCOUNT_NUMBER": 1611,
                  "SITE_NUMBER": 5,
                  "LEGAL_NAME": "TTX COMPANY",
                  "DBA": "TTX COMPANY",
                  "ADDRESS": "4016 S ASHLAND AVE",
                  "CITY": "CHICAGO",
                  "STATE": "IL",
                  "ZIP_CODE": 60609,
                  "WARD": 12,
                  "PRECINCT": 19,
                  "WARD_PRECINCT": "12-19",
                  "POLICE_DISTRICT": 9,
                  "LICENSE_CODE": 1010,
                  "LICENSE_DESCRIPTION": "Limited Business License",
                  "BUSINESS_ACTIVITY_ID": "708",
                  "BUSINESS_ACTIVITY": "Miscellaneous Commercial Services",
                  "LICENSE_NUMBER": 2617269,
                  "APPLICATION_TYPE": "RENEW",
                  "APPLICATION_CREATED_DATE": "NaT",
                  "APPLICATION_REQUIREMENTS_COMPLETE": "2022-07-15 00:00:00",
                  "PAYMENT_DATE": "2022-08-05 00:00:00",
                  "CONDITIONAL_APPROVAL": "N",
                  "LICENSE_TERM_START_DATE": "2022-09-16 00:00:00",
                  "LICENSE_TERM_EXPIRATION_DATE": "2024-09-15 00:00:00",
                  "LICENSE_APPROVED_FOR_ISSUANCE": "2022-08-05 00:00:00",
                  "DATE_ISSUED": "2022-08-08 00:00:00",
                  "LICENSE_STATUS": "AAI",
                  "LICENSE_STATUS_CHANGE_DATE": "NaT",
                  "SSA": "nan",
                  "LATITUDE": 41.820284936,
                  "LONGITUDE": -87.665396822,
                  "LOCATION": "(41.82028493557808, -87.66539682158037)",
                  "TIF_Name": "[]",
                  "LICENSE_GROUP": "Business",
                  "Com_Name": "['NEW CITY']",
                  "_deepnote_index_column": 0
                },
                {
                  "ID": "2652692-20201217",
                  "LICENSE_ID": 2652692,
                  "ACCOUNT_NUMBER": 456833,
                  "SITE_NUMBER": 1,
                  "LEGAL_NAME": "JYM INVESTMENTS LLC",
                  "DBA": "WINGMAN",
                  "ADDRESS": "2321 W HOWARD ST 1ST",
                  "CITY": "CHICAGO",
                  "STATE": "IL",
                  "ZIP_CODE": 60645,
                  "WARD": 49,
                  "PRECINCT": 21,
                  "WARD_PRECINCT": "49-21",
                  "POLICE_DISTRICT": 24,
                  "LICENSE_CODE": 1006,
                  "LICENSE_DESCRIPTION": "Retail Food Establishment",
                  "BUSINESS_ACTIVITY_ID": "781",
                  "BUSINESS_ACTIVITY": "Sale of Food Prepared Onsite With Dining Area",
                  "LICENSE_NUMBER": 2652692,
                  "APPLICATION_TYPE": "ISSUE",
                  "APPLICATION_CREATED_DATE": "2019-03-01 00:00:00",
                  "APPLICATION_REQUIREMENTS_COMPLETE": "2020-11-18 00:00:00",
                  "PAYMENT_DATE": "2020-11-19 00:00:00",
                  "CONDITIONAL_APPROVAL": "N",
                  "LICENSE_TERM_START_DATE": "2020-12-17 00:00:00",
                  "LICENSE_TERM_EXPIRATION_DATE": "2023-01-15 00:00:00",
                  "LICENSE_APPROVED_FOR_ISSUANCE": "2020-12-16 00:00:00",
                  "DATE_ISSUED": "2020-12-17 00:00:00",
                  "LICENSE_STATUS": "AAC",
                  "LICENSE_STATUS_CHANGE_DATE": "2022-08-08 00:00:00",
                  "SSA": "nan",
                  "LATITUDE": 42.019413271,
                  "LONGITUDE": -87.688628188,
                  "LOCATION": "(42.019413270594214, -87.68862818775574)",
                  "TIF_Name": "[]",
                  "LICENSE_GROUP": "Food",
                  "Com_Name": "['WEST RIDGE']",
                  "_deepnote_index_column": 1
                },
                {
                  "ID": "2647849-20200916",
                  "LICENSE_ID": 2739788,
                  "ACCOUNT_NUMBER": 64603,
                  "SITE_NUMBER": 7,
                  "LEGAL_NAME": "LEOPARDO COMPANIES INC.",
                  "DBA": "Leopardo Companies Inc",
                  "ADDRESS": "210 N CARPENTER ST 3RD FLOOR",
                  "CITY": "CHICAGO",
                  "STATE": "IL",
                  "ZIP_CODE": 60607,
                  "WARD": 27,
                  "PRECINCT": "nan",
                  "WARD_PRECINCT": "27-",
                  "POLICE_DISTRICT": "nan",
                  "LICENSE_CODE": 1010,
                  "LICENSE_DESCRIPTION": "Limited Business License",
                  "BUSINESS_ACTIVITY_ID": "602",
                  "BUSINESS_ACTIVITY": "Administrative Commercial Office",
                  "LICENSE_NUMBER": 2647849,
                  "APPLICATION_TYPE": "RENEW",
                  "APPLICATION_CREATED_DATE": "NaT",
                  "APPLICATION_REQUIREMENTS_COMPLETE": "2020-07-15 00:00:00",
                  "PAYMENT_DATE": "2020-08-20 00:00:00",
                  "CONDITIONAL_APPROVAL": "N",
                  "LICENSE_TERM_START_DATE": "2020-09-16 00:00:00",
                  "LICENSE_TERM_EXPIRATION_DATE": "2022-09-15 00:00:00",
                  "LICENSE_APPROVED_FOR_ISSUANCE": "2020-08-20 00:00:00",
                  "DATE_ISSUED": "2020-08-21 00:00:00",
                  "LICENSE_STATUS": "AAC",
                  "LICENSE_STATUS_CHANGE_DATE": "2022-08-08 00:00:00",
                  "SSA": "nan",
                  "LATITUDE": 41.885944958,
                  "LONGITUDE": -87.653461783,
                  "LOCATION": "(41.88594495760403, -87.65346178255953)",
                  "TIF_Name": "['Kinzie Industrial Conservation Area']",
                  "LICENSE_GROUP": "Business",
                  "Com_Name": "[]",
                  "_deepnote_index_column": 2
                },
                {
                  "ID": "1579838-20220616",
                  "LICENSE_ID": 2842924,
                  "ACCOUNT_NUMBER": 289144,
                  "SITE_NUMBER": 1,
                  "LEGAL_NAME": "1021 MONTROSE, L.L.C.",
                  "DBA": "Driftwood",
                  "ADDRESS": "1021 W MONTROSE AVE",
                  "CITY": "CHICAGO",
                  "STATE": "IL",
                  "ZIP_CODE": 60613,
                  "WARD": 46,
                  "PRECINCT": 9,
                  "WARD_PRECINCT": "46-9",
                  "POLICE_DISTRICT": 19,
                  "LICENSE_CODE": 1470,
                  "LICENSE_DESCRIPTION": "Tavern",
                  "BUSINESS_ACTIVITY_ID": "829",
                  "BUSINESS_ACTIVITY": "Tavern - Consumption of Liquor on Premise",
                  "LICENSE_NUMBER": 1579838,
                  "APPLICATION_TYPE": "RENEW",
                  "APPLICATION_CREATED_DATE": "NaT",
                  "APPLICATION_REQUIREMENTS_COMPLETE": "2022-04-15 00:00:00",
                  "PAYMENT_DATE": "2022-05-10 00:00:00",
                  "CONDITIONAL_APPROVAL": "N",
                  "LICENSE_TERM_START_DATE": "2022-06-16 00:00:00",
                  "LICENSE_TERM_EXPIRATION_DATE": "2024-06-15 00:00:00",
                  "LICENSE_APPROVED_FOR_ISSUANCE": "2022-05-10 00:00:00",
                  "DATE_ISSUED": "2022-05-11 00:00:00",
                  "LICENSE_STATUS": "AAI",
                  "LICENSE_STATUS_CHANGE_DATE": "NaT",
                  "SSA": 34,
                  "LATITUDE": 41.961655309,
                  "LONGITUDE": -87.655649945,
                  "LOCATION": "(41.961655308981946, -87.65564994485091)",
                  "TIF_Name": "['Wilson Yard']",
                  "LICENSE_GROUP": "Food",
                  "Com_Name": "[]",
                  "_deepnote_index_column": 3
                },
                {
                  "ID": "2027540-20220616",
                  "LICENSE_ID": 2841687,
                  "ACCOUNT_NUMBER": 10726,
                  "SITE_NUMBER": 5,
                  "LEGAL_NAME": "GRAHAM ENTERPRISE INC",
                  "DBA": "Rock N Roll BP (GEI-157)",
                  "ADDRESS": "631-647 N LA SALLE DR",
                  "CITY": "CHICAGO",
                  "STATE": "IL",
                  "ZIP_CODE": 60654,
                  "WARD": 42,
                  "PRECINCT": 46,
                  "WARD_PRECINCT": "42-46",
                  "POLICE_DISTRICT": 18,
                  "LICENSE_CODE": 1275,
                  "LICENSE_DESCRIPTION": "Filling Station",
                  "BUSINESS_ACTIVITY_ID": "666",
                  "BUSINESS_ACTIVITY": "Operation of a Fuel Filling Station",
                  "LICENSE_NUMBER": 2027540,
                  "APPLICATION_TYPE": "RENEW",
                  "APPLICATION_CREATED_DATE": "NaT",
                  "APPLICATION_REQUIREMENTS_COMPLETE": "2022-04-15 00:00:00",
                  "PAYMENT_DATE": "2022-05-10 00:00:00",
                  "CONDITIONAL_APPROVAL": "N",
                  "LICENSE_TERM_START_DATE": "2022-06-16 00:00:00",
                  "LICENSE_TERM_EXPIRATION_DATE": "2024-06-15 00:00:00",
                  "LICENSE_APPROVED_FOR_ISSUANCE": "2022-05-10 00:00:00",
                  "DATE_ISSUED": "2022-05-11 00:00:00",
                  "LICENSE_STATUS": "AAI",
                  "LICENSE_STATUS_CHANGE_DATE": "NaT",
                  "SSA": "nan",
                  "LATITUDE": 41.893251198,
                  "LONGITUDE": -87.632493012,
                  "LOCATION": "(41.89325119846543, -87.63249301222938)",
                  "TIF_Name": "[]",
                  "LICENSE_GROUP": "Vehicles",
                  "Com_Name": "['NEAR NORTH SIDE']",
                  "_deepnote_index_column": 4
                },
                {
                  "ID": "2780650-20220516",
                  "LICENSE_ID": 2839285,
                  "ACCOUNT_NUMBER": 424430,
                  "SITE_NUMBER": 3,
                  "LEGAL_NAME": "MEHRAB MANAGEMENT, INC.",
                  "DBA": "MEHRAB RESTAURANT",
                  "ADDRESS": "2437 W DEVON AVE",
                  "CITY": "CHICAGO",
                  "STATE": "IL",
                  "ZIP_CODE": 60659,
                  "WARD": 50,
                  "PRECINCT": "nan",
                  "WARD_PRECINCT": "50-",
                  "POLICE_DISTRICT": "nan",
                  "LICENSE_CODE": 1006,
                  "LICENSE_DESCRIPTION": "Retail Food Establishment",
                  "BUSINESS_ACTIVITY_ID": "781",
                  "BUSINESS_ACTIVITY": "Sale of Food Prepared Onsite With Dining Area",
                  "LICENSE_NUMBER": 2780650,
                  "APPLICATION_TYPE": "RENEW",
                  "APPLICATION_CREATED_DATE": "NaT",
                  "APPLICATION_REQUIREMENTS_COMPLETE": "2022-03-15 00:00:00",
                  "PAYMENT_DATE": "2022-05-10 00:00:00",
                  "CONDITIONAL_APPROVAL": "N",
                  "LICENSE_TERM_START_DATE": "2022-05-16 00:00:00",
                  "LICENSE_TERM_EXPIRATION_DATE": "2024-05-15 00:00:00",
                  "LICENSE_APPROVED_FOR_ISSUANCE": "2022-05-10 00:00:00",
                  "DATE_ISSUED": "2022-05-11 00:00:00",
                  "LICENSE_STATUS": "AAI",
                  "LICENSE_STATUS_CHANGE_DATE": "NaT",
                  "SSA": 43,
                  "LATITUDE": 41.997597404,
                  "LONGITUDE": -87.691331516,
                  "LOCATION": "(41.99759740363999, -87.6913315163539)",
                  "TIF_Name": "[]",
                  "LICENSE_GROUP": "Food",
                  "Com_Name": "['WEST RIDGE']",
                  "_deepnote_index_column": 5
                },
                {
                  "ID": "1899783-20090316",
                  "LICENSE_ID": 1953094,
                  "ACCOUNT_NUMBER": 330192,
                  "SITE_NUMBER": 1,
                  "LEGAL_NAME": "ELIAS A. KANELLOPOULOS",
                  "DBA": "RITZ CLEANERS",
                  "ADDRESS": "200 E DELAWARE PL 1",
                  "CITY": "CHICAGO",
                  "STATE": "IL",
                  "ZIP_CODE": 60611,
                  "WARD": 2,
                  "PRECINCT": 13,
                  "WARD_PRECINCT": "2-13",
                  "POLICE_DISTRICT": 18,
                  "LICENSE_CODE": 1010,
                  "LICENSE_DESCRIPTION": "Limited Business License",
                  "BUSINESS_ACTIVITY_ID": "None",
                  "BUSINESS_ACTIVITY": "None",
                  "LICENSE_NUMBER": 1899783,
                  "APPLICATION_TYPE": "RENEW",
                  "APPLICATION_CREATED_DATE": "NaT",
                  "APPLICATION_REQUIREMENTS_COMPLETE": "2009-01-15 00:00:00",
                  "PAYMENT_DATE": "2009-02-20 00:00:00",
                  "CONDITIONAL_APPROVAL": "N",
                  "LICENSE_TERM_START_DATE": "2009-03-16 00:00:00",
                  "LICENSE_TERM_EXPIRATION_DATE": "2011-03-15 00:00:00",
                  "LICENSE_APPROVED_FOR_ISSUANCE": "2009-02-20 00:00:00",
                  "DATE_ISSUED": "2009-02-23 00:00:00",
                  "LICENSE_STATUS": "AAI",
                  "LICENSE_STATUS_CHANGE_DATE": "NaT",
                  "SSA": "nan",
                  "LATITUDE": 41.899354739,
                  "LONGITUDE": -87.621791302,
                  "LOCATION": "(41.89935473944382, -87.621791301926)",
                  "TIF_Name": "[]",
                  "LICENSE_GROUP": "Business",
                  "Com_Name": "['NEAR NORTH SIDE']",
                  "_deepnote_index_column": 6
                },
                {
                  "ID": "2846132-20220511",
                  "LICENSE_ID": 2846132,
                  "ACCOUNT_NUMBER": 485647,
                  "SITE_NUMBER": 1,
                  "LEGAL_NAME": "Silverwolf Productions LLC",
                  "DBA": "Silverwolf Productions LLC",
                  "ADDRESS": "2673 N GREENVIEW AVE  UNIT H",
                  "CITY": "CHICAGO",
                  "STATE": "IL",
                  "ZIP_CODE": 60614,
                  "WARD": 32,
                  "PRECINCT": "nan",
                  "WARD_PRECINCT": "32-",
                  "POLICE_DISTRICT": "nan",
                  "LICENSE_CODE": 4404,
                  "LICENSE_DESCRIPTION": "Regulated Business License",
                  "BUSINESS_ACTIVITY_ID": "665 | 667 | 702 | 719",
                  "BUSINESS_ACTIVITY": "Freelance Writer (Home Based Business) | Graphic Design (Home Based Business) | Marketing / Advertising / Public Relations (Home Based Business) | Professional Consulting (Home Based Business)",
                  "LICENSE_NUMBER": 2846132,
                  "APPLICATION_TYPE": "ISSUE",
                  "APPLICATION_CREATED_DATE": "2022-05-10 00:00:00",
                  "APPLICATION_REQUIREMENTS_COMPLETE": "2022-05-10 00:00:00",
                  "PAYMENT_DATE": "2022-05-10 00:00:00",
                  "CONDITIONAL_APPROVAL": "N",
                  "LICENSE_TERM_START_DATE": "2022-05-11 00:00:00",
                  "LICENSE_TERM_EXPIRATION_DATE": "2024-05-15 00:00:00",
                  "LICENSE_APPROVED_FOR_ISSUANCE": "2022-05-10 00:00:00",
                  "DATE_ISSUED": "2022-05-11 00:00:00",
                  "LICENSE_STATUS": "AAI",
                  "LICENSE_STATUS_CHANGE_DATE": "NaT",
                  "SSA": "nan",
                  "LATITUDE": 41.930322481,
                  "LONGITUDE": -87.665386892,
                  "LOCATION": "(41.93032248132474, -87.66538689175445)",
                  "TIF_Name": "[]",
                  "LICENSE_GROUP": "Business",
                  "Com_Name": "['LINCOLN PARK']",
                  "_deepnote_index_column": 7
                },
                {
                  "ID": "1899783-20110316",
                  "LICENSE_ID": 2078221,
                  "ACCOUNT_NUMBER": 330192,
                  "SITE_NUMBER": 1,
                  "LEGAL_NAME": "ELIAS A. KANELLOPOULOS",
                  "DBA": "RITZ CLEANERS",
                  "ADDRESS": "200 E DELAWARE PL 1",
                  "CITY": "CHICAGO",
                  "STATE": "IL",
                  "ZIP_CODE": 60611,
                  "WARD": 2,
                  "PRECINCT": 13,
                  "WARD_PRECINCT": "2-13",
                  "POLICE_DISTRICT": 18,
                  "LICENSE_CODE": 1010,
                  "LICENSE_DESCRIPTION": "Limited Business License",
                  "BUSINESS_ACTIVITY_ID": "None",
                  "BUSINESS_ACTIVITY": "None",
                  "LICENSE_NUMBER": 1899783,
                  "APPLICATION_TYPE": "RENEW",
                  "APPLICATION_CREATED_DATE": "NaT",
                  "APPLICATION_REQUIREMENTS_COMPLETE": "2011-01-14 00:00:00",
                  "PAYMENT_DATE": "2011-02-14 00:00:00",
                  "CONDITIONAL_APPROVAL": "N",
                  "LICENSE_TERM_START_DATE": "2011-03-16 00:00:00",
                  "LICENSE_TERM_EXPIRATION_DATE": "2013-03-15 00:00:00",
                  "LICENSE_APPROVED_FOR_ISSUANCE": "2011-02-14 00:00:00",
                  "DATE_ISSUED": "2011-02-15 00:00:00",
                  "LICENSE_STATUS": "AAI",
                  "LICENSE_STATUS_CHANGE_DATE": "NaT",
                  "SSA": "nan",
                  "LATITUDE": 41.899354739,
                  "LONGITUDE": -87.621791302,
                  "LOCATION": "(41.89935473944382, -87.621791301926)",
                  "TIF_Name": "[]",
                  "LICENSE_GROUP": "Business",
                  "Com_Name": "['NEAR NORTH SIDE']",
                  "_deepnote_index_column": 8
                },
                {
                  "ID": "2863350-20220808",
                  "LICENSE_ID": 2863350,
                  "ACCOUNT_NUMBER": 488437,
                  "SITE_NUMBER": 1,
                  "LEGAL_NAME": "DOMONANT MEDIA LLC",
                  "DBA": "DOMONANT MEDIA",
                  "ADDRESS": "1200 W 35TH ST 3RD 3A3130",
                  "CITY": "CHICAGO",
                  "STATE": "IL",
                  "ZIP_CODE": 60609,
                  "WARD": 11,
                  "PRECINCT": 11,
                  "WARD_PRECINCT": "11-11",
                  "POLICE_DISTRICT": 9,
                  "LICENSE_CODE": 1010,
                  "LICENSE_DESCRIPTION": "Limited Business License",
                  "BUSINESS_ACTIVITY_ID": "476 | 1089",
                  "BUSINESS_ACTIVITY": "Photography Services | Multi-Media Services",
                  "LICENSE_NUMBER": 2863350,
                  "APPLICATION_TYPE": "ISSUE",
                  "APPLICATION_CREATED_DATE": "2022-08-08 00:00:00",
                  "APPLICATION_REQUIREMENTS_COMPLETE": "2022-08-08 00:00:00",
                  "PAYMENT_DATE": "2022-08-08 00:00:00",
                  "CONDITIONAL_APPROVAL": "N",
                  "LICENSE_TERM_START_DATE": "2022-08-08 00:00:00",
                  "LICENSE_TERM_EXPIRATION_DATE": "2024-08-15 00:00:00",
                  "LICENSE_APPROVED_FOR_ISSUANCE": "2022-08-08 00:00:00",
                  "DATE_ISSUED": "2022-08-08 00:00:00",
                  "LICENSE_STATUS": "AAI",
                  "LICENSE_STATUS_CHANGE_DATE": "NaT",
                  "SSA": "nan",
                  "LATITUDE": 41.830728826,
                  "LONGITUDE": -87.655813252,
                  "LOCATION": "(41.830728825995436, -87.65581325202945)",
                  "TIF_Name": "['35th/Halsted']",
                  "LICENSE_GROUP": "Business",
                  "Com_Name": "[]",
                  "_deepnote_index_column": 9
                }
              ]
            },
            "text/plain": "                       ID  LICENSE_ID  ACCOUNT_NUMBER  SITE_NUMBER  \\\n0        2617269-20220916     2857496            1611            5   \n1        2652692-20201217     2652692          456833            1   \n2        2647849-20200916     2739788           64603            7   \n3        1579838-20220616     2842924          289144            1   \n4        2027540-20220616     2841687           10726            5   \n...                   ...         ...             ...          ...   \n1033611  2204520-20160716     2465534           25985            1   \n1033612  2652764-20210316     2770633          456868            1   \n1033613     6415-20070816     1832401          376290            2   \n1033614  1800007-20070124     1800007          313705            1   \n1033615  2846254-20220909     2846254          349928           13   \n\n                                      LEGAL_NAME  \\\n0                                    TTX COMPANY   \n1                            JYM INVESTMENTS LLC   \n2                        LEOPARDO COMPANIES INC.   \n3                          1021 MONTROSE, L.L.C.   \n4                          GRAHAM ENTERPRISE INC   \n...                                          ...   \n1033611  AABALL HEATING SERVICE & SUPPLIES, INC.   \n1033612                             SHOBHNA INC.   \n1033613       FRANK'S CHICAGO SHRIMP HOUSE, INC.   \n1033614                        TERRANCE J. WATTS   \n1033615                         RDK VENTURES LLC   \n\n                                       DBA                       ADDRESS  \\\n0                              TTX COMPANY            4016 S ASHLAND AVE   \n1                                  WINGMAN          2321 W HOWARD ST 1ST   \n2                   Leopardo Companies Inc  210 N CARPENTER ST 3RD FLOOR   \n3                                Driftwood           1021 W MONTROSE AVE   \n4                 Rock N Roll BP (GEI-157)         631-647 N LA SALLE DR   \n...                                    ...                           ...   \n1033611  AABALL HEATING SERVICE & SUPPLIES            8518 S ASHLAND AVE   \n1033612                          FOOD STOP           3734 W LAWRENCE AVE   \n1033613       FRANK'S CHICAGO SHRIMP HOUSE         5439 W ADDISON ST 1ST   \n1033614                  TERRANCE J. WATTS            9932 S SANGAMON ST   \n1033615                           Circle K            190 W MADISON ST 1   \n\n            CITY STATE  ZIP_CODE  ...  DATE_ISSUED  LICENSE_STATUS  \\\n0        CHICAGO    IL     60609  ...   2022-08-08             AAI   \n1        CHICAGO    IL     60645  ...   2020-12-17             AAC   \n2        CHICAGO    IL     60607  ...   2020-08-21             AAC   \n3        CHICAGO    IL     60613  ...   2022-05-11             AAI   \n4        CHICAGO    IL     60654  ...   2022-05-11             AAI   \n...          ...   ...       ...  ...          ...             ...   \n1033611  CHICAGO    IL     60620  ...   2016-06-01             AAI   \n1033612  CHICAGO    IL     60625  ...   2021-04-05             AAI   \n1033613  CHICAGO    IL     60641  ...   2008-05-22             AAI   \n1033614  CHICAGO    IL     60643  ...   2007-01-24             AAI   \n1033615  CHICAGO    IL     60602  ...   2022-09-09             AAI   \n\n        LICENSE_STATUS_CHANGE_DATE   SSA   LATITUDE  LONGITUDE  \\\n0                              NaT   NaN  41.820285 -87.665397   \n1                       2022-08-08   NaN  42.019413 -87.688628   \n2                       2022-08-08   NaN  41.885945 -87.653462   \n3                              NaT  34.0  41.961655 -87.655650   \n4                              NaT   NaN  41.893251 -87.632493   \n...                            ...   ...        ...        ...   \n1033611                        NaT  69.0  41.738831 -87.663289   \n1033612                        NaT   NaN  41.968417 -87.722060   \n1033613                        NaT   NaN  41.945810 -87.763441   \n1033614                        NaT   NaN  41.713160 -87.646789   \n1033615                        NaT   NaN  41.882058 -87.633533   \n\n                                         LOCATION  \\\n0         (41.82028493557808, -87.66539682158037)   \n1        (42.019413270594214, -87.68862818775574)   \n2         (41.88594495760403, -87.65346178255953)   \n3        (41.961655308981946, -87.65564994485091)   \n4         (41.89325119846543, -87.63249301222938)   \n...                                           ...   \n1033611  (41.738831043655715, -87.66328877414871)   \n1033612    (41.96841672465387, -87.7220597187097)   \n1033613   (41.94580991762778, -87.76344146216435)   \n1033614    (41.71316042726137, -87.6467890258547)   \n1033615   (41.88205759473728, -87.63353326572278)   \n\n                                        TIF_Name  LICENSE_GROUP  \\\n0                                             []       Business   \n1                                             []           Food   \n2        ['Kinzie Industrial Conservation Area']       Business   \n3                                ['Wilson Yard']           Food   \n4                                             []       Vehicles   \n...                                          ...            ...   \n1033611                                       []       Business   \n1033612                      ['Lawrence/Kedzie']        Tabacco   \n1033613                                       []           Food   \n1033614    ['105th Street and Vincennes Avenue']        Special   \n1033615                      ['LaSalle Central']        Tabacco   \n\n                    Com_Name  \n0               ['NEW CITY']  \n1             ['WEST RIDGE']  \n2                         []  \n3                         []  \n4        ['NEAR NORTH SIDE']  \n...                      ...  \n1033611   ['AUBURN GRESHAM']  \n1033612                   []  \n1033613     ['PORTAGE PARK']  \n1033614                   []  \n1033615                   []  \n\n[1033616 rows x 37 columns]",
            "text/html": "<div>\n<style scoped>\n    .dataframe tbody tr th:only-of-type {\n        vertical-align: middle;\n    }\n\n    .dataframe tbody tr th {\n        vertical-align: top;\n    }\n\n    .dataframe thead th {\n        text-align: right;\n    }\n</style>\n<table border=\"1\" class=\"dataframe\">\n  <thead>\n    <tr style=\"text-align: right;\">\n      <th></th>\n      <th>ID</th>\n      <th>LICENSE_ID</th>\n      <th>ACCOUNT_NUMBER</th>\n      <th>SITE_NUMBER</th>\n      <th>LEGAL_NAME</th>\n      <th>DBA</th>\n      <th>ADDRESS</th>\n      <th>CITY</th>\n      <th>STATE</th>\n      <th>ZIP_CODE</th>\n      <th>...</th>\n      <th>DATE_ISSUED</th>\n      <th>LICENSE_STATUS</th>\n      <th>LICENSE_STATUS_CHANGE_DATE</th>\n      <th>SSA</th>\n      <th>LATITUDE</th>\n      <th>LONGITUDE</th>\n      <th>LOCATION</th>\n      <th>TIF_Name</th>\n      <th>LICENSE_GROUP</th>\n      <th>Com_Name</th>\n    </tr>\n  </thead>\n  <tbody>\n    <tr>\n      <th>0</th>\n      <td>2617269-20220916</td>\n      <td>2857496</td>\n      <td>1611</td>\n      <td>5</td>\n      <td>TTX COMPANY</td>\n      <td>TTX COMPANY</td>\n      <td>4016 S ASHLAND AVE</td>\n      <td>CHICAGO</td>\n      <td>IL</td>\n      <td>60609</td>\n      <td>...</td>\n      <td>2022-08-08</td>\n      <td>AAI</td>\n      <td>NaT</td>\n      <td>NaN</td>\n      <td>41.820285</td>\n      <td>-87.665397</td>\n      <td>(41.82028493557808, -87.66539682158037)</td>\n      <td>[]</td>\n      <td>Business</td>\n      <td>['NEW CITY']</td>\n    </tr>\n    <tr>\n      <th>1</th>\n      <td>2652692-20201217</td>\n      <td>2652692</td>\n      <td>456833</td>\n      <td>1</td>\n      <td>JYM INVESTMENTS LLC</td>\n      <td>WINGMAN</td>\n      <td>2321 W HOWARD ST 1ST</td>\n      <td>CHICAGO</td>\n      <td>IL</td>\n      <td>60645</td>\n      <td>...</td>\n      <td>2020-12-17</td>\n      <td>AAC</td>\n      <td>2022-08-08</td>\n      <td>NaN</td>\n      <td>42.019413</td>\n      <td>-87.688628</td>\n      <td>(42.019413270594214, -87.68862818775574)</td>\n      <td>[]</td>\n      <td>Food</td>\n      <td>['WEST RIDGE']</td>\n    </tr>\n    <tr>\n      <th>2</th>\n      <td>2647849-20200916</td>\n      <td>2739788</td>\n      <td>64603</td>\n      <td>7</td>\n      <td>LEOPARDO COMPANIES INC.</td>\n      <td>Leopardo Companies Inc</td>\n      <td>210 N CARPENTER ST 3RD FLOOR</td>\n      <td>CHICAGO</td>\n      <td>IL</td>\n      <td>60607</td>\n      <td>...</td>\n      <td>2020-08-21</td>\n      <td>AAC</td>\n      <td>2022-08-08</td>\n      <td>NaN</td>\n      <td>41.885945</td>\n      <td>-87.653462</td>\n      <td>(41.88594495760403, -87.65346178255953)</td>\n      <td>['Kinzie Industrial Conservation Area']</td>\n      <td>Business</td>\n      <td>[]</td>\n    </tr>\n    <tr>\n      <th>3</th>\n      <td>1579838-20220616</td>\n      <td>2842924</td>\n      <td>289144</td>\n      <td>1</td>\n      <td>1021 MONTROSE, L.L.C.</td>\n      <td>Driftwood</td>\n      <td>1021 W MONTROSE AVE</td>\n      <td>CHICAGO</td>\n      <td>IL</td>\n      <td>60613</td>\n      <td>...</td>\n      <td>2022-05-11</td>\n      <td>AAI</td>\n      <td>NaT</td>\n      <td>34.0</td>\n      <td>41.961655</td>\n      <td>-87.655650</td>\n      <td>(41.961655308981946, -87.65564994485091)</td>\n      <td>['Wilson Yard']</td>\n      <td>Food</td>\n      <td>[]</td>\n    </tr>\n    <tr>\n      <th>4</th>\n      <td>2027540-20220616</td>\n      <td>2841687</td>\n      <td>10726</td>\n      <td>5</td>\n      <td>GRAHAM ENTERPRISE INC</td>\n      <td>Rock N Roll BP (GEI-157)</td>\n      <td>631-647 N LA SALLE DR</td>\n      <td>CHICAGO</td>\n      <td>IL</td>\n      <td>60654</td>\n      <td>...</td>\n      <td>2022-05-11</td>\n      <td>AAI</td>\n      <td>NaT</td>\n      <td>NaN</td>\n      <td>41.893251</td>\n      <td>-87.632493</td>\n      <td>(41.89325119846543, -87.63249301222938)</td>\n      <td>[]</td>\n      <td>Vehicles</td>\n      <td>['NEAR NORTH SIDE']</td>\n    </tr>\n    <tr>\n      <th>...</th>\n      <td>...</td>\n      <td>...</td>\n      <td>...</td>\n      <td>...</td>\n      <td>...</td>\n      <td>...</td>\n      <td>...</td>\n      <td>...</td>\n      <td>...</td>\n      <td>...</td>\n      <td>...</td>\n      <td>...</td>\n      <td>...</td>\n      <td>...</td>\n      <td>...</td>\n      <td>...</td>\n      <td>...</td>\n      <td>...</td>\n      <td>...</td>\n      <td>...</td>\n      <td>...</td>\n    </tr>\n    <tr>\n      <th>1033611</th>\n      <td>2204520-20160716</td>\n      <td>2465534</td>\n      <td>25985</td>\n      <td>1</td>\n      <td>AABALL HEATING SERVICE &amp; SUPPLIES, INC.</td>\n      <td>AABALL HEATING SERVICE &amp; SUPPLIES</td>\n      <td>8518 S ASHLAND AVE</td>\n      <td>CHICAGO</td>\n      <td>IL</td>\n      <td>60620</td>\n      <td>...</td>\n      <td>2016-06-01</td>\n      <td>AAI</td>\n      <td>NaT</td>\n      <td>69.0</td>\n      <td>41.738831</td>\n      <td>-87.663289</td>\n      <td>(41.738831043655715, -87.66328877414871)</td>\n      <td>[]</td>\n      <td>Business</td>\n      <td>['AUBURN GRESHAM']</td>\n    </tr>\n    <tr>\n      <th>1033612</th>\n      <td>2652764-20210316</td>\n      <td>2770633</td>\n      <td>456868</td>\n      <td>1</td>\n      <td>SHOBHNA INC.</td>\n      <td>FOOD STOP</td>\n      <td>3734 W LAWRENCE AVE</td>\n      <td>CHICAGO</td>\n      <td>IL</td>\n      <td>60625</td>\n      <td>...</td>\n      <td>2021-04-05</td>\n      <td>AAI</td>\n      <td>NaT</td>\n      <td>NaN</td>\n      <td>41.968417</td>\n      <td>-87.722060</td>\n      <td>(41.96841672465387, -87.7220597187097)</td>\n      <td>['Lawrence/Kedzie']</td>\n      <td>Tabacco</td>\n      <td>[]</td>\n    </tr>\n    <tr>\n      <th>1033613</th>\n      <td>6415-20070816</td>\n      <td>1832401</td>\n      <td>376290</td>\n      <td>2</td>\n      <td>FRANK'S CHICAGO SHRIMP HOUSE, INC.</td>\n      <td>FRANK'S CHICAGO SHRIMP HOUSE</td>\n      <td>5439 W ADDISON ST 1ST</td>\n      <td>CHICAGO</td>\n      <td>IL</td>\n      <td>60641</td>\n      <td>...</td>\n      <td>2008-05-22</td>\n      <td>AAI</td>\n      <td>NaT</td>\n      <td>NaN</td>\n      <td>41.945810</td>\n      <td>-87.763441</td>\n      <td>(41.94580991762778, -87.76344146216435)</td>\n      <td>[]</td>\n      <td>Food</td>\n      <td>['PORTAGE PARK']</td>\n    </tr>\n    <tr>\n      <th>1033614</th>\n      <td>1800007-20070124</td>\n      <td>1800007</td>\n      <td>313705</td>\n      <td>1</td>\n      <td>TERRANCE J. WATTS</td>\n      <td>TERRANCE J. WATTS</td>\n      <td>9932 S SANGAMON ST</td>\n      <td>CHICAGO</td>\n      <td>IL</td>\n      <td>60643</td>\n      <td>...</td>\n      <td>2007-01-24</td>\n      <td>AAI</td>\n      <td>NaT</td>\n      <td>NaN</td>\n      <td>41.713160</td>\n      <td>-87.646789</td>\n      <td>(41.71316042726137, -87.6467890258547)</td>\n      <td>['105th Street and Vincennes Avenue']</td>\n      <td>Special</td>\n      <td>[]</td>\n    </tr>\n    <tr>\n      <th>1033615</th>\n      <td>2846254-20220909</td>\n      <td>2846254</td>\n      <td>349928</td>\n      <td>13</td>\n      <td>RDK VENTURES LLC</td>\n      <td>Circle K</td>\n      <td>190 W MADISON ST 1</td>\n      <td>CHICAGO</td>\n      <td>IL</td>\n      <td>60602</td>\n      <td>...</td>\n      <td>2022-09-09</td>\n      <td>AAI</td>\n      <td>NaT</td>\n      <td>NaN</td>\n      <td>41.882058</td>\n      <td>-87.633533</td>\n      <td>(41.88205759473728, -87.63353326572278)</td>\n      <td>['LaSalle Central']</td>\n      <td>Tabacco</td>\n      <td>[]</td>\n    </tr>\n  </tbody>\n</table>\n<p>1033616 rows × 37 columns</p>\n</div>"
          },
          "metadata": {}
        }
      ],
      "outputs_reference": null,
      "execution_count": null,
      "block_group": "dcfed76eed8842b3be78e6a4043b7c63",
      "content_dependencies": null
    },
    {
      "cell_type": "code",
      "source": "import pandas as pd\ncrossTab_percent_df = pd.crosstab(index=df_3['Com_Name'], columns=df_3['LICENSE_GROUP'], normalize='index')\ncrossTab_percent_df                                                                                                                                                                                                              ",
      "metadata": {
        "source_hash": null,
        "execution_start": 1712281244182,
        "execution_millis": 269,
        "deepnote_to_be_reexecuted": false,
        "deepnote_app_block_visible": true,
        "cell_id": "41e5e37867cd461993bdd1dad30bb0ab",
        "deepnote_cell_type": "code"
      },
      "outputs": [
        {
          "output_type": "execute_result",
          "execution_count": 9,
          "data": {
            "application/vnd.deepnote.dataframe.v3+json": {
              "column_count": 14,
              "row_count": 77,
              "columns": [
                {
                  "name": "Accommodation",
                  "dtype": "float64",
                  "stats": {
                    "unique_count": 33,
                    "nan_count": 0,
                    "min": "0.0",
                    "max": "0.01098901098901099",
                    "histogram": [
                      {
                        "bin_start": 0,
                        "bin_end": 0.001098901098901099,
                        "count": 52
                      },
                      {
                        "bin_start": 0.001098901098901099,
                        "bin_end": 0.002197802197802198,
                        "count": 11
                      },
                      {
                        "bin_start": 0.002197802197802198,
                        "bin_end": 0.0032967032967032967,
                        "count": 4
                      },
                      {
                        "bin_start": 0.0032967032967032967,
                        "bin_end": 0.004395604395604396,
                        "count": 4
                      },
                      {
                        "bin_start": 0.004395604395604396,
                        "bin_end": 0.005494505494505494,
                        "count": 0
                      },
                      {
                        "bin_start": 0.005494505494505494,
                        "bin_end": 0.006593406593406593,
                        "count": 1
                      },
                      {
                        "bin_start": 0.006593406593406593,
                        "bin_end": 0.007692307692307693,
                        "count": 2
                      },
                      {
                        "bin_start": 0.007692307692307693,
                        "bin_end": 0.008791208791208791,
                        "count": 2
                      },
                      {
                        "bin_start": 0.008791208791208791,
                        "bin_end": 0.00989010989010989,
                        "count": 0
                      },
                      {
                        "bin_start": 0.00989010989010989,
                        "bin_end": 0.01098901098901099,
                        "count": 1
                      }
                    ]
                  }
                },
                {
                  "name": "Business",
                  "dtype": "float64",
                  "stats": {
                    "unique_count": 77,
                    "nan_count": 0,
                    "min": "0.19421487603305784",
                    "max": "0.670974992975555",
                    "histogram": [
                      {
                        "bin_start": 0.19421487603305784,
                        "bin_end": 0.24189088772730755,
                        "count": 4
                      },
                      {
                        "bin_start": 0.24189088772730755,
                        "bin_end": 0.2895668994215573,
                        "count": 3
                      },
                      {
                        "bin_start": 0.2895668994215573,
                        "bin_end": 0.33724291111580695,
                        "count": 8
                      },
                      {
                        "bin_start": 0.33724291111580695,
                        "bin_end": 0.3849189228100567,
                        "count": 18
                      },
                      {
                        "bin_start": 0.3849189228100567,
                        "bin_end": 0.4325949345043064,
                        "count": 17
                      },
                      {
                        "bin_start": 0.4325949345043064,
                        "bin_end": 0.48027094619855615,
                        "count": 15
                      },
                      {
                        "bin_start": 0.48027094619855615,
                        "bin_end": 0.5279469578928058,
                        "count": 5
                      },
                      {
                        "bin_start": 0.5279469578928058,
                        "bin_end": 0.5756229695870555,
                        "count": 4
                      },
                      {
                        "bin_start": 0.5756229695870555,
                        "bin_end": 0.6232989812813052,
                        "count": 2
                      },
                      {
                        "bin_start": 0.6232989812813052,
                        "bin_end": 0.670974992975555,
                        "count": 1
                      }
                    ]
                  }
                },
                {
                  "name": "Electronic",
                  "dtype": "float64",
                  "stats": {
                    "unique_count": 53,
                    "nan_count": 0,
                    "min": "0.0",
                    "max": "0.007619047619047619",
                    "histogram": [
                      {
                        "bin_start": 0,
                        "bin_end": 0.0007619047619047619,
                        "count": 30
                      },
                      {
                        "bin_start": 0.0007619047619047619,
                        "bin_end": 0.0015238095238095239,
                        "count": 5
                      },
                      {
                        "bin_start": 0.0015238095238095239,
                        "bin_end": 0.002285714285714286,
                        "count": 11
                      },
                      {
                        "bin_start": 0.002285714285714286,
                        "bin_end": 0.0030476190476190477,
                        "count": 8
                      },
                      {
                        "bin_start": 0.0030476190476190477,
                        "bin_end": 0.0038095238095238095,
                        "count": 11
                      },
                      {
                        "bin_start": 0.0038095238095238095,
                        "bin_end": 0.004571428571428572,
                        "count": 4
                      },
                      {
                        "bin_start": 0.004571428571428572,
                        "bin_end": 0.005333333333333333,
                        "count": 3
                      },
                      {
                        "bin_start": 0.005333333333333333,
                        "bin_end": 0.006095238095238095,
                        "count": 3
                      },
                      {
                        "bin_start": 0.006095238095238095,
                        "bin_end": 0.006857142857142858,
                        "count": 1
                      },
                      {
                        "bin_start": 0.006857142857142858,
                        "bin_end": 0.007619047619047619,
                        "count": 1
                      }
                    ]
                  }
                },
                {
                  "name": "Entertainment",
                  "dtype": "float64",
                  "stats": {
                    "unique_count": 75,
                    "nan_count": 0,
                    "min": "0.0",
                    "max": "0.07024793388429752",
                    "histogram": [
                      {
                        "bin_start": 0,
                        "bin_end": 0.0070247933884297524,
                        "count": 19
                      },
                      {
                        "bin_start": 0.0070247933884297524,
                        "bin_end": 0.014049586776859505,
                        "count": 25
                      },
                      {
                        "bin_start": 0.014049586776859505,
                        "bin_end": 0.021074380165289258,
                        "count": 17
                      },
                      {
                        "bin_start": 0.021074380165289258,
                        "bin_end": 0.02809917355371901,
                        "count": 12
                      },
                      {
                        "bin_start": 0.02809917355371901,
                        "bin_end": 0.03512396694214876,
                        "count": 1
                      },
                      {
                        "bin_start": 0.03512396694214876,
                        "bin_end": 0.042148760330578516,
                        "count": 1
                      },
                      {
                        "bin_start": 0.042148760330578516,
                        "bin_end": 0.049173553719008264,
                        "count": 0
                      },
                      {
                        "bin_start": 0.049173553719008264,
                        "bin_end": 0.05619834710743802,
                        "count": 1
                      },
                      {
                        "bin_start": 0.05619834710743802,
                        "bin_end": 0.06322314049586777,
                        "count": 0
                      },
                      {
                        "bin_start": 0.06322314049586777,
                        "bin_end": 0.07024793388429752,
                        "count": 1
                      }
                    ]
                  }
                },
                {
                  "name": "Food",
                  "dtype": "float64",
                  "stats": {
                    "unique_count": 77,
                    "nan_count": 0,
                    "min": "0.0",
                    "max": "0.34385964912280703",
                    "histogram": [
                      {
                        "bin_start": 0,
                        "bin_end": 0.0343859649122807,
                        "count": 3
                      },
                      {
                        "bin_start": 0.0343859649122807,
                        "bin_end": 0.0687719298245614,
                        "count": 1
                      },
                      {
                        "bin_start": 0.0687719298245614,
                        "bin_end": 0.1031578947368421,
                        "count": 3
                      },
                      {
                        "bin_start": 0.1031578947368421,
                        "bin_end": 0.1375438596491228,
                        "count": 7
                      },
                      {
                        "bin_start": 0.1375438596491228,
                        "bin_end": 0.1719298245614035,
                        "count": 8
                      },
                      {
                        "bin_start": 0.1719298245614035,
                        "bin_end": 0.2063157894736842,
                        "count": 19
                      },
                      {
                        "bin_start": 0.2063157894736842,
                        "bin_end": 0.24070175438596492,
                        "count": 22
                      },
                      {
                        "bin_start": 0.24070175438596492,
                        "bin_end": 0.2750877192982456,
                        "count": 9
                      },
                      {
                        "bin_start": 0.2750877192982456,
                        "bin_end": 0.3094736842105263,
                        "count": 3
                      },
                      {
                        "bin_start": 0.3094736842105263,
                        "bin_end": 0.34385964912280703,
                        "count": 2
                      }
                    ]
                  }
                },
                {
                  "name": "Liquor",
                  "dtype": "float64",
                  "stats": {
                    "unique_count": 53,
                    "nan_count": 0,
                    "min": "0.0",
                    "max": "0.04912280701754386",
                    "histogram": [
                      {
                        "bin_start": 0,
                        "bin_end": 0.004912280701754386,
                        "count": 59
                      },
                      {
                        "bin_start": 0.004912280701754386,
                        "bin_end": 0.009824561403508772,
                        "count": 8
                      },
                      {
                        "bin_start": 0.009824561403508772,
                        "bin_end": 0.01473684210526316,
                        "count": 5
                      },
                      {
                        "bin_start": 0.01473684210526316,
                        "bin_end": 0.019649122807017545,
                        "count": 2
                      },
                      {
                        "bin_start": 0.019649122807017545,
                        "bin_end": 0.02456140350877193,
                        "count": 1
                      },
                      {
                        "bin_start": 0.02456140350877193,
                        "bin_end": 0.02947368421052632,
                        "count": 0
                      },
                      {
                        "bin_start": 0.02947368421052632,
                        "bin_end": 0.0343859649122807,
                        "count": 0
                      },
                      {
                        "bin_start": 0.0343859649122807,
                        "bin_end": 0.03929824561403509,
                        "count": 1
                      },
                      {
                        "bin_start": 0.03929824561403509,
                        "bin_end": 0.04421052631578948,
                        "count": 0
                      },
                      {
                        "bin_start": 0.04421052631578948,
                        "bin_end": 0.04912280701754386,
                        "count": 1
                      }
                    ]
                  }
                },
                {
                  "name": "Medical",
                  "dtype": "float64",
                  "stats": {
                    "unique_count": 16,
                    "nan_count": 0,
                    "min": "0.0",
                    "max": "0.010723860589812333",
                    "histogram": [
                      {
                        "bin_start": 0,
                        "bin_end": 0.0010723860589812334,
                        "count": 69
                      },
                      {
                        "bin_start": 0.0010723860589812334,
                        "bin_end": 0.0021447721179624667,
                        "count": 2
                      },
                      {
                        "bin_start": 0.0021447721179624667,
                        "bin_end": 0.0032171581769437,
                        "count": 1
                      },
                      {
                        "bin_start": 0.0032171581769437,
                        "bin_end": 0.004289544235924933,
                        "count": 1
                      },
                      {
                        "bin_start": 0.004289544235924933,
                        "bin_end": 0.005361930294906166,
                        "count": 1
                      },
                      {
                        "bin_start": 0.005361930294906166,
                        "bin_end": 0.0064343163538874,
                        "count": 0
                      },
                      {
                        "bin_start": 0.0064343163538874,
                        "bin_end": 0.007506702412868634,
                        "count": 1
                      },
                      {
                        "bin_start": 0.007506702412868634,
                        "bin_end": 0.008579088471849867,
                        "count": 1
                      },
                      {
                        "bin_start": 0.008579088471849867,
                        "bin_end": 0.0096514745308311,
                        "count": 0
                      },
                      {
                        "bin_start": 0.0096514745308311,
                        "bin_end": 0.010723860589812333,
                        "count": 1
                      }
                    ]
                  }
                },
                {
                  "name": "Other",
                  "dtype": "float64",
                  "stats": {
                    "unique_count": 54,
                    "nan_count": 0,
                    "min": "0.0",
                    "max": "0.032569360675512665",
                    "histogram": [
                      {
                        "bin_start": 0,
                        "bin_end": 0.0032569360675512664,
                        "count": 50
                      },
                      {
                        "bin_start": 0.0032569360675512664,
                        "bin_end": 0.006513872135102533,
                        "count": 17
                      },
                      {
                        "bin_start": 0.006513872135102533,
                        "bin_end": 0.009770808202653799,
                        "count": 5
                      },
                      {
                        "bin_start": 0.009770808202653799,
                        "bin_end": 0.013027744270205066,
                        "count": 1
                      },
                      {
                        "bin_start": 0.013027744270205066,
                        "bin_end": 0.016284680337756333,
                        "count": 2
                      },
                      {
                        "bin_start": 0.016284680337756333,
                        "bin_end": 0.019541616405307598,
                        "count": 1
                      },
                      {
                        "bin_start": 0.019541616405307598,
                        "bin_end": 0.022798552472858866,
                        "count": 0
                      },
                      {
                        "bin_start": 0.022798552472858866,
                        "bin_end": 0.02605548854041013,
                        "count": 0
                      },
                      {
                        "bin_start": 0.02605548854041013,
                        "bin_end": 0.029312424607961397,
                        "count": 0
                      },
                      {
                        "bin_start": 0.029312424607961397,
                        "bin_end": 0.032569360675512665,
                        "count": 1
                      }
                    ]
                  }
                },
                {
                  "name": "Permits",
                  "dtype": "float64",
                  "stats": {
                    "unique_count": 71,
                    "nan_count": 0,
                    "min": "0.0",
                    "max": "0.08346456692913386",
                    "histogram": [
                      {
                        "bin_start": 0,
                        "bin_end": 0.008346456692913385,
                        "count": 26
                      },
                      {
                        "bin_start": 0.008346456692913385,
                        "bin_end": 0.01669291338582677,
                        "count": 24
                      },
                      {
                        "bin_start": 0.01669291338582677,
                        "bin_end": 0.025039370078740155,
                        "count": 12
                      },
                      {
                        "bin_start": 0.025039370078740155,
                        "bin_end": 0.03338582677165354,
                        "count": 5
                      },
                      {
                        "bin_start": 0.03338582677165354,
                        "bin_end": 0.04173228346456692,
                        "count": 5
                      },
                      {
                        "bin_start": 0.04173228346456692,
                        "bin_end": 0.05007874015748031,
                        "count": 1
                      },
                      {
                        "bin_start": 0.05007874015748031,
                        "bin_end": 0.0584251968503937,
                        "count": 2
                      },
                      {
                        "bin_start": 0.0584251968503937,
                        "bin_end": 0.06677165354330708,
                        "count": 0
                      },
                      {
                        "bin_start": 0.06677165354330708,
                        "bin_end": 0.07511811023622046,
                        "count": 0
                      },
                      {
                        "bin_start": 0.07511811023622046,
                        "bin_end": 0.08346456692913386,
                        "count": 2
                      }
                    ]
                  }
                },
                {
                  "name": "Personal Services",
                  "dtype": "float64",
                  "stats": {
                    "unique_count": 69,
                    "nan_count": 0,
                    "min": "0.0",
                    "max": "0.03532008830022075",
                    "histogram": [
                      {
                        "bin_start": 0,
                        "bin_end": 0.003532008830022075,
                        "count": 16
                      },
                      {
                        "bin_start": 0.003532008830022075,
                        "bin_end": 0.00706401766004415,
                        "count": 16
                      },
                      {
                        "bin_start": 0.00706401766004415,
                        "bin_end": 0.010596026490066225,
                        "count": 8
                      },
                      {
                        "bin_start": 0.010596026490066225,
                        "bin_end": 0.0141280353200883,
                        "count": 10
                      },
                      {
                        "bin_start": 0.0141280353200883,
                        "bin_end": 0.017660044150110375,
                        "count": 12
                      },
                      {
                        "bin_start": 0.017660044150110375,
                        "bin_end": 0.02119205298013245,
                        "count": 8
                      },
                      {
                        "bin_start": 0.02119205298013245,
                        "bin_end": 0.024724061810154525,
                        "count": 4
                      },
                      {
                        "bin_start": 0.024724061810154525,
                        "bin_end": 0.0282560706401766,
                        "count": 2
                      },
                      {
                        "bin_start": 0.0282560706401766,
                        "bin_end": 0.031788079470198675,
                        "count": 0
                      },
                      {
                        "bin_start": 0.031788079470198675,
                        "bin_end": 0.03532008830022075,
                        "count": 1
                      }
                    ]
                  }
                },
                {
                  "name": "Retail",
                  "dtype": "float64",
                  "stats": {
                    "unique_count": 70,
                    "nan_count": 0,
                    "min": "0.0",
                    "max": "0.12631578947368421",
                    "histogram": [
                      {
                        "bin_start": 0,
                        "bin_end": 0.01263157894736842,
                        "count": 15
                      },
                      {
                        "bin_start": 0.01263157894736842,
                        "bin_end": 0.02526315789473684,
                        "count": 27
                      },
                      {
                        "bin_start": 0.02526315789473684,
                        "bin_end": 0.03789473684210526,
                        "count": 25
                      },
                      {
                        "bin_start": 0.03789473684210526,
                        "bin_end": 0.05052631578947368,
                        "count": 3
                      },
                      {
                        "bin_start": 0.05052631578947368,
                        "bin_end": 0.06315789473684211,
                        "count": 4
                      },
                      {
                        "bin_start": 0.06315789473684211,
                        "bin_end": 0.07578947368421052,
                        "count": 2
                      },
                      {
                        "bin_start": 0.07578947368421052,
                        "bin_end": 0.08842105263157894,
                        "count": 0
                      },
                      {
                        "bin_start": 0.08842105263157894,
                        "bin_end": 0.10105263157894737,
                        "count": 0
                      },
                      {
                        "bin_start": 0.10105263157894737,
                        "bin_end": 0.11368421052631579,
                        "count": 0
                      },
                      {
                        "bin_start": 0.11368421052631579,
                        "bin_end": 0.12631578947368421,
                        "count": 1
                      }
                    ]
                  }
                },
                {
                  "name": "Special",
                  "dtype": "float64",
                  "stats": {
                    "unique_count": 77,
                    "nan_count": 0,
                    "min": "0.05128205128205128",
                    "max": "0.7692307692307693",
                    "histogram": [
                      {
                        "bin_start": 0.05128205128205128,
                        "bin_end": 0.12307692307692307,
                        "count": 7
                      },
                      {
                        "bin_start": 0.12307692307692307,
                        "bin_end": 0.19487179487179485,
                        "count": 29
                      },
                      {
                        "bin_start": 0.19487179487179485,
                        "bin_end": 0.26666666666666666,
                        "count": 18
                      },
                      {
                        "bin_start": 0.26666666666666666,
                        "bin_end": 0.3384615384615384,
                        "count": 10
                      },
                      {
                        "bin_start": 0.3384615384615384,
                        "bin_end": 0.4102564102564102,
                        "count": 6
                      },
                      {
                        "bin_start": 0.4102564102564102,
                        "bin_end": 0.482051282051282,
                        "count": 2
                      },
                      {
                        "bin_start": 0.482051282051282,
                        "bin_end": 0.5538461538461539,
                        "count": 4
                      },
                      {
                        "bin_start": 0.5538461538461539,
                        "bin_end": 0.6256410256410256,
                        "count": 0
                      },
                      {
                        "bin_start": 0.6256410256410256,
                        "bin_end": 0.6974358974358974,
                        "count": 0
                      },
                      {
                        "bin_start": 0.6974358974358974,
                        "bin_end": 0.7692307692307693,
                        "count": 1
                      }
                    ]
                  }
                },
                {
                  "name": "Tabacco",
                  "dtype": "float64",
                  "stats": {
                    "unique_count": 72,
                    "nan_count": 0,
                    "min": "0.0",
                    "max": "0.13044925124792014",
                    "histogram": [
                      {
                        "bin_start": 0,
                        "bin_end": 0.013044925124792014,
                        "count": 6
                      },
                      {
                        "bin_start": 0.013044925124792014,
                        "bin_end": 0.02608985024958403,
                        "count": 4
                      },
                      {
                        "bin_start": 0.02608985024958403,
                        "bin_end": 0.03913477537437604,
                        "count": 20
                      },
                      {
                        "bin_start": 0.03913477537437604,
                        "bin_end": 0.05217970049916806,
                        "count": 14
                      },
                      {
                        "bin_start": 0.05217970049916806,
                        "bin_end": 0.06522462562396007,
                        "count": 15
                      },
                      {
                        "bin_start": 0.06522462562396007,
                        "bin_end": 0.07826955074875208,
                        "count": 10
                      },
                      {
                        "bin_start": 0.07826955074875208,
                        "bin_end": 0.0913144758735441,
                        "count": 2
                      },
                      {
                        "bin_start": 0.0913144758735441,
                        "bin_end": 0.10435940099833611,
                        "count": 1
                      },
                      {
                        "bin_start": 0.10435940099833611,
                        "bin_end": 0.11740432612312812,
                        "count": 2
                      },
                      {
                        "bin_start": 0.11740432612312812,
                        "bin_end": 0.13044925124792014,
                        "count": 3
                      }
                    ]
                  }
                },
                {
                  "name": "Vehicles",
                  "dtype": "float64",
                  "stats": {
                    "unique_count": 73,
                    "nan_count": 0,
                    "min": "0.0",
                    "max": "0.08576779026217228",
                    "histogram": [
                      {
                        "bin_start": 0,
                        "bin_end": 0.008576779026217228,
                        "count": 13
                      },
                      {
                        "bin_start": 0.008576779026217228,
                        "bin_end": 0.017153558052434455,
                        "count": 6
                      },
                      {
                        "bin_start": 0.017153558052434455,
                        "bin_end": 0.02573033707865168,
                        "count": 11
                      },
                      {
                        "bin_start": 0.02573033707865168,
                        "bin_end": 0.03430711610486891,
                        "count": 11
                      },
                      {
                        "bin_start": 0.03430711610486891,
                        "bin_end": 0.04288389513108614,
                        "count": 7
                      },
                      {
                        "bin_start": 0.04288389513108614,
                        "bin_end": 0.05146067415730336,
                        "count": 6
                      },
                      {
                        "bin_start": 0.05146067415730336,
                        "bin_end": 0.06003745318352059,
                        "count": 10
                      },
                      {
                        "bin_start": 0.06003745318352059,
                        "bin_end": 0.06861423220973782,
                        "count": 7
                      },
                      {
                        "bin_start": 0.06861423220973782,
                        "bin_end": 0.07719101123595505,
                        "count": 4
                      },
                      {
                        "bin_start": 0.07719101123595505,
                        "bin_end": 0.08576779026217228,
                        "count": 2
                      }
                    ]
                  }
                },
                {
                  "name": "_deepnote_index_column",
                  "dtype": "object"
                }
              ],
              "rows": [
                {
                  "Accommodation": 0,
                  "Business": 0.43616063389159015,
                  "Electronic": 0.0016207455429497568,
                  "Entertainment": 0.0088240590671709,
                  "Food": 0.1998919502971367,
                  "Liquor": 0.00018008283810552856,
                  "Medical": 0,
                  "Other": 0,
                  "Permits": 0.013326130019809113,
                  "Personal Services": 0.014946875562758869,
                  "Retail": 0.03439582207815595,
                  "Special": 0.19701062488744822,
                  "Tabacco": 0.05438501710786962,
                  "Vehicles": 0.039258058707005224,
                  "_deepnote_index_column": "['ALBANY PARK']"
                },
                {
                  "Accommodation": 0.0033707865168539327,
                  "Business": 0.35168539325842696,
                  "Electronic": 0.003745318352059925,
                  "Entertainment": 0.026217228464419477,
                  "Food": 0.3097378277153558,
                  "Liquor": 0,
                  "Medical": 0,
                  "Other": 0.0052434456928838954,
                  "Permits": 0.00299625468164794,
                  "Personal Services": 0.0044943820224719105,
                  "Retail": 0.03146067415730337,
                  "Special": 0.12359550561797752,
                  "Tabacco": 0.051685393258426963,
                  "Vehicles": 0.08576779026217228,
                  "_deepnote_index_column": "['ARCHER HEIGHTS']"
                },
                {
                  "Accommodation": 0,
                  "Business": 0.28421052631578947,
                  "Electronic": 0,
                  "Entertainment": 0.017543859649122806,
                  "Food": 0.34385964912280703,
                  "Liquor": 0.04912280701754386,
                  "Medical": 0,
                  "Other": 0,
                  "Permits": 0,
                  "Personal Services": 0,
                  "Retail": 0.12631578947368421,
                  "Special": 0.14035087719298245,
                  "Tabacco": 0.03859649122807018,
                  "Vehicles": 0,
                  "_deepnote_index_column": "['ARMOUR SQUARE']"
                },
                {
                  "Accommodation": 0.0017474879860200961,
                  "Business": 0.4202708606378331,
                  "Electronic": 0.005242463958060288,
                  "Entertainment": 0.009611183923110528,
                  "Food": 0.1834862385321101,
                  "Liquor": 0.00043687199650502403,
                  "Medical": 0,
                  "Other": 0.00436871996505024,
                  "Permits": 0.011358671909130624,
                  "Personal Services": 0.00655307994757536,
                  "Retail": 0.02599388379204893,
                  "Special": 0.22018348623853212,
                  "Tabacco": 0.047400611620795105,
                  "Vehicles": 0.06334643949322849,
                  "_deepnote_index_column": "['ASHBURN']"
                },
                {
                  "Accommodation": 0.0011892374015162776,
                  "Business": 0.42411178831574253,
                  "Electronic": 0.0019325107774639512,
                  "Entertainment": 0.008473316485803479,
                  "Food": 0.1785342649026312,
                  "Liquor": 0,
                  "Medical": 0,
                  "Other": 0.001040582726326743,
                  "Permits": 0.03196075516574996,
                  "Personal Services": 0.00475694960606511,
                  "Retail": 0.018879143749070907,
                  "Special": 0.19979188345473464,
                  "Tabacco": 0.07209751746692433,
                  "Vehicles": 0.05723204994797086,
                  "_deepnote_index_column": "['AUBURN GRESHAM']"
                },
                {
                  "Accommodation": 0,
                  "Business": 0.4098928276999176,
                  "Electronic": 0.003792250618301731,
                  "Entertainment": 0.0069249793899422915,
                  "Food": 0.15234954657873043,
                  "Liquor": 0.000494641384995878,
                  "Medical": 0,
                  "Other": 0.0013190436933223414,
                  "Permits": 0.027040395713107998,
                  "Personal Services": 0.004451772464962902,
                  "Retail": 0.020774938169826875,
                  "Special": 0.28606760098928274,
                  "Tabacco": 0.0539159109645507,
                  "Vehicles": 0.03297609233305853,
                  "_deepnote_index_column": "['AUSTIN']"
                },
                {
                  "Accommodation": 0,
                  "Business": 0.3748326639892905,
                  "Electronic": 0,
                  "Entertainment": 0.02677376171352075,
                  "Food": 0.08969210174029452,
                  "Liquor": 0,
                  "Medical": 0,
                  "Other": 0,
                  "Permits": 0,
                  "Personal Services": 0.018741633199464525,
                  "Retail": 0,
                  "Special": 0.4109772423025435,
                  "Tabacco": 0.03346720214190094,
                  "Vehicles": 0.04551539491298527,
                  "_deepnote_index_column": "['AVALON PARK']"
                },
                {
                  "Accommodation": 0.0013981125480601187,
                  "Business": 0.4190842362810206,
                  "Electronic": 0.003495281370150297,
                  "Entertainment": 0.015495747407666316,
                  "Food": 0.21833857625538855,
                  "Liquor": 0.0018641500640801585,
                  "Medical": 0,
                  "Other": 0.004776884539205406,
                  "Permits": 0.005359431434230456,
                  "Personal Services": 0.01223348479552604,
                  "Retail": 0.03273913550040778,
                  "Special": 0.16893859955726437,
                  "Tabacco": 0.06408015845275544,
                  "Vehicles": 0.05219620179424444,
                  "_deepnote_index_column": "['AVONDALE']"
                },
                {
                  "Accommodation": 0,
                  "Business": 0.3571023532747377,
                  "Electronic": 0.001984689537850865,
                  "Entertainment": 0.008931102920328891,
                  "Food": 0.22965693223702863,
                  "Liquor": 0.0007088176920895946,
                  "Medical": 0,
                  "Other": 0.0005670541536716756,
                  "Permits": 0.007088176920895945,
                  "Personal Services": 0.010774028919761838,
                  "Retail": 0.021406294301105754,
                  "Special": 0.24851148284661184,
                  "Tabacco": 0.041111426141196485,
                  "Vehicles": 0.07215764105472072,
                  "_deepnote_index_column": "['BELMONT CRAGIN']"
                },
                {
                  "Accommodation": 0,
                  "Business": 0.34203655352480417,
                  "Electronic": 0.004351610095735422,
                  "Entertainment": 0.019147084421235857,
                  "Food": 0.0835509138381201,
                  "Liquor": 0,
                  "Medical": 0,
                  "Other": 0,
                  "Permits": 0.013054830287206266,
                  "Personal Services": 0.016536118363794605,
                  "Retail": 0,
                  "Special": 0.516100957354221,
                  "Tabacco": 0,
                  "Vehicles": 0.005221932114882507,
                  "_deepnote_index_column": "['BEVERLY']"
                }
              ]
            },
            "text/plain": "LICENSE_GROUP       Accommodation  Business  Electronic  Entertainment  \\\nCom_Name                                                                 \n['ALBANY PARK']          0.000000  0.436161    0.001621       0.008824   \n['ARCHER HEIGHTS']       0.003371  0.351685    0.003745       0.026217   \n['ARMOUR SQUARE']        0.000000  0.284211    0.000000       0.017544   \n['ASHBURN']              0.001747  0.420271    0.005242       0.009611   \n['AUBURN GRESHAM']       0.001189  0.424112    0.001933       0.008473   \n...                           ...       ...         ...            ...   \n['WEST PULLMAN']         0.000000  0.270478    0.000000       0.010239   \n['WEST RIDGE']           0.000824  0.480566    0.003022       0.007142   \n['WEST TOWN']            0.001286  0.432025    0.001829       0.023173   \n['WOODLAWN']             0.000000  0.327078    0.000000       0.024129   \n[]                       0.001587  0.485479    0.002720       0.012888   \n\nLICENSE_GROUP           Food    Liquor   Medical     Other   Permits  \\\nCom_Name                                                               \n['ALBANY PARK']     0.199892  0.000180  0.000000  0.000000  0.013326   \n['ARCHER HEIGHTS']  0.309738  0.000000  0.000000  0.005243  0.002996   \n['ARMOUR SQUARE']   0.343860  0.049123  0.000000  0.000000  0.000000   \n['ASHBURN']         0.183486  0.000437  0.000000  0.004369  0.011359   \n['AUBURN GRESHAM']  0.178534  0.000000  0.000000  0.001041  0.031961   \n...                      ...       ...       ...       ...       ...   \n['WEST PULLMAN']    0.132253  0.000000  0.000000  0.006826  0.023891   \n['WEST RIDGE']      0.230257  0.000481  0.000000  0.002610  0.013940   \n['WEST TOWN']       0.236585  0.008772  0.000514  0.002914  0.007086   \n['WOODLAWN']        0.233244  0.024129  0.010724  0.000000  0.049598   \n[]                  0.225037  0.004936  0.000389  0.002478  0.012812   \n\nLICENSE_GROUP       Personal Services    Retail   Special   Tabacco  Vehicles  \nCom_Name                                                                       \n['ALBANY PARK']              0.014947  0.034396  0.197011  0.054385  0.039258  \n['ARCHER HEIGHTS']           0.004494  0.031461  0.123596  0.051685  0.085768  \n['ARMOUR SQUARE']            0.000000  0.126316  0.140351  0.038596  0.000000  \n['ASHBURN']                  0.006553  0.025994  0.220183  0.047401  0.063346  \n['AUBURN GRESHAM']           0.004757  0.018879  0.199792  0.072098  0.057232  \n...                               ...       ...       ...       ...       ...  \n['WEST PULLMAN']             0.005119  0.027304  0.393345  0.075939  0.054608  \n['WEST RIDGE']               0.010301  0.027812  0.119970  0.063315  0.039761  \n['WEST TOWN']                0.016972  0.037802  0.157066  0.050374  0.023601  \n['WOODLAWN']                 0.005362  0.012064  0.262735  0.034853  0.016086  \n[]                           0.006716  0.028664  0.116969  0.056558  0.042768  \n\n[77 rows x 14 columns]",
            "text/html": "<div>\n<style scoped>\n    .dataframe tbody tr th:only-of-type {\n        vertical-align: middle;\n    }\n\n    .dataframe tbody tr th {\n        vertical-align: top;\n    }\n\n    .dataframe thead th {\n        text-align: right;\n    }\n</style>\n<table border=\"1\" class=\"dataframe\">\n  <thead>\n    <tr style=\"text-align: right;\">\n      <th>LICENSE_GROUP</th>\n      <th>Accommodation</th>\n      <th>Business</th>\n      <th>Electronic</th>\n      <th>Entertainment</th>\n      <th>Food</th>\n      <th>Liquor</th>\n      <th>Medical</th>\n      <th>Other</th>\n      <th>Permits</th>\n      <th>Personal Services</th>\n      <th>Retail</th>\n      <th>Special</th>\n      <th>Tabacco</th>\n      <th>Vehicles</th>\n    </tr>\n    <tr>\n      <th>Com_Name</th>\n      <th></th>\n      <th></th>\n      <th></th>\n      <th></th>\n      <th></th>\n      <th></th>\n      <th></th>\n      <th></th>\n      <th></th>\n      <th></th>\n      <th></th>\n      <th></th>\n      <th></th>\n      <th></th>\n    </tr>\n  </thead>\n  <tbody>\n    <tr>\n      <th>['ALBANY PARK']</th>\n      <td>0.000000</td>\n      <td>0.436161</td>\n      <td>0.001621</td>\n      <td>0.008824</td>\n      <td>0.199892</td>\n      <td>0.000180</td>\n      <td>0.000000</td>\n      <td>0.000000</td>\n      <td>0.013326</td>\n      <td>0.014947</td>\n      <td>0.034396</td>\n      <td>0.197011</td>\n      <td>0.054385</td>\n      <td>0.039258</td>\n    </tr>\n    <tr>\n      <th>['ARCHER HEIGHTS']</th>\n      <td>0.003371</td>\n      <td>0.351685</td>\n      <td>0.003745</td>\n      <td>0.026217</td>\n      <td>0.309738</td>\n      <td>0.000000</td>\n      <td>0.000000</td>\n      <td>0.005243</td>\n      <td>0.002996</td>\n      <td>0.004494</td>\n      <td>0.031461</td>\n      <td>0.123596</td>\n      <td>0.051685</td>\n      <td>0.085768</td>\n    </tr>\n    <tr>\n      <th>['ARMOUR SQUARE']</th>\n      <td>0.000000</td>\n      <td>0.284211</td>\n      <td>0.000000</td>\n      <td>0.017544</td>\n      <td>0.343860</td>\n      <td>0.049123</td>\n      <td>0.000000</td>\n      <td>0.000000</td>\n      <td>0.000000</td>\n      <td>0.000000</td>\n      <td>0.126316</td>\n      <td>0.140351</td>\n      <td>0.038596</td>\n      <td>0.000000</td>\n    </tr>\n    <tr>\n      <th>['ASHBURN']</th>\n      <td>0.001747</td>\n      <td>0.420271</td>\n      <td>0.005242</td>\n      <td>0.009611</td>\n      <td>0.183486</td>\n      <td>0.000437</td>\n      <td>0.000000</td>\n      <td>0.004369</td>\n      <td>0.011359</td>\n      <td>0.006553</td>\n      <td>0.025994</td>\n      <td>0.220183</td>\n      <td>0.047401</td>\n      <td>0.063346</td>\n    </tr>\n    <tr>\n      <th>['AUBURN GRESHAM']</th>\n      <td>0.001189</td>\n      <td>0.424112</td>\n      <td>0.001933</td>\n      <td>0.008473</td>\n      <td>0.178534</td>\n      <td>0.000000</td>\n      <td>0.000000</td>\n      <td>0.001041</td>\n      <td>0.031961</td>\n      <td>0.004757</td>\n      <td>0.018879</td>\n      <td>0.199792</td>\n      <td>0.072098</td>\n      <td>0.057232</td>\n    </tr>\n    <tr>\n      <th>...</th>\n      <td>...</td>\n      <td>...</td>\n      <td>...</td>\n      <td>...</td>\n      <td>...</td>\n      <td>...</td>\n      <td>...</td>\n      <td>...</td>\n      <td>...</td>\n      <td>...</td>\n      <td>...</td>\n      <td>...</td>\n      <td>...</td>\n      <td>...</td>\n    </tr>\n    <tr>\n      <th>['WEST PULLMAN']</th>\n      <td>0.000000</td>\n      <td>0.270478</td>\n      <td>0.000000</td>\n      <td>0.010239</td>\n      <td>0.132253</td>\n      <td>0.000000</td>\n      <td>0.000000</td>\n      <td>0.006826</td>\n      <td>0.023891</td>\n      <td>0.005119</td>\n      <td>0.027304</td>\n      <td>0.393345</td>\n      <td>0.075939</td>\n      <td>0.054608</td>\n    </tr>\n    <tr>\n      <th>['WEST RIDGE']</th>\n      <td>0.000824</td>\n      <td>0.480566</td>\n      <td>0.003022</td>\n      <td>0.007142</td>\n      <td>0.230257</td>\n      <td>0.000481</td>\n      <td>0.000000</td>\n      <td>0.002610</td>\n      <td>0.013940</td>\n      <td>0.010301</td>\n      <td>0.027812</td>\n      <td>0.119970</td>\n      <td>0.063315</td>\n      <td>0.039761</td>\n    </tr>\n    <tr>\n      <th>['WEST TOWN']</th>\n      <td>0.001286</td>\n      <td>0.432025</td>\n      <td>0.001829</td>\n      <td>0.023173</td>\n      <td>0.236585</td>\n      <td>0.008772</td>\n      <td>0.000514</td>\n      <td>0.002914</td>\n      <td>0.007086</td>\n      <td>0.016972</td>\n      <td>0.037802</td>\n      <td>0.157066</td>\n      <td>0.050374</td>\n      <td>0.023601</td>\n    </tr>\n    <tr>\n      <th>['WOODLAWN']</th>\n      <td>0.000000</td>\n      <td>0.327078</td>\n      <td>0.000000</td>\n      <td>0.024129</td>\n      <td>0.233244</td>\n      <td>0.024129</td>\n      <td>0.010724</td>\n      <td>0.000000</td>\n      <td>0.049598</td>\n      <td>0.005362</td>\n      <td>0.012064</td>\n      <td>0.262735</td>\n      <td>0.034853</td>\n      <td>0.016086</td>\n    </tr>\n    <tr>\n      <th>[]</th>\n      <td>0.001587</td>\n      <td>0.485479</td>\n      <td>0.002720</td>\n      <td>0.012888</td>\n      <td>0.225037</td>\n      <td>0.004936</td>\n      <td>0.000389</td>\n      <td>0.002478</td>\n      <td>0.012812</td>\n      <td>0.006716</td>\n      <td>0.028664</td>\n      <td>0.116969</td>\n      <td>0.056558</td>\n      <td>0.042768</td>\n    </tr>\n  </tbody>\n</table>\n<p>77 rows × 14 columns</p>\n</div>"
          },
          "metadata": {}
        }
      ],
      "outputs_reference": null,
      "execution_count": null,
      "block_group": "6828e470524d48c0b66cf248f266c1c1",
      "content_dependencies": null
    },
    {
      "cell_type": "code",
      "source": "import pandas as pd\ncrossTab_df = pd.crosstab(index=df_3['Com_Name'], columns=df_3['LICENSE_GROUP'])\ncrossTab_df",
      "metadata": {
        "source_hash": null,
        "execution_start": 1712281256025,
        "execution_millis": 146,
        "deepnote_to_be_reexecuted": false,
        "deepnote_app_block_visible": true,
        "cell_id": "3c13c8ee218a4e87920cd8f0585e2fc6",
        "deepnote_cell_type": "code"
      },
      "outputs": [
        {
          "output_type": "execute_result",
          "execution_count": 10,
          "data": {
            "application/vnd.deepnote.dataframe.v3+json": {
              "column_count": 14,
              "row_count": 77,
              "columns": [
                {
                  "name": "Accommodation",
                  "dtype": "int64",
                  "stats": {
                    "unique_count": 25,
                    "nan_count": 0,
                    "min": "0",
                    "max": "800",
                    "histogram": [
                      {
                        "bin_start": 0,
                        "bin_end": 80,
                        "count": 74
                      },
                      {
                        "bin_start": 80,
                        "bin_end": 160,
                        "count": 1
                      },
                      {
                        "bin_start": 160,
                        "bin_end": 240,
                        "count": 0
                      },
                      {
                        "bin_start": 240,
                        "bin_end": 320,
                        "count": 0
                      },
                      {
                        "bin_start": 320,
                        "bin_end": 400,
                        "count": 0
                      },
                      {
                        "bin_start": 400,
                        "bin_end": 480,
                        "count": 0
                      },
                      {
                        "bin_start": 480,
                        "bin_end": 560,
                        "count": 0
                      },
                      {
                        "bin_start": 560,
                        "bin_end": 640,
                        "count": 0
                      },
                      {
                        "bin_start": 640,
                        "bin_end": 720,
                        "count": 1
                      },
                      {
                        "bin_start": 720,
                        "bin_end": 800,
                        "count": 1
                      }
                    ]
                  }
                },
                {
                  "name": "Business",
                  "dtype": "int64",
                  "stats": {
                    "unique_count": 77,
                    "nan_count": 0,
                    "min": "3",
                    "max": "244704",
                    "histogram": [
                      {
                        "bin_start": 3,
                        "bin_end": 24473.1,
                        "count": 75
                      },
                      {
                        "bin_start": 24473.1,
                        "bin_end": 48943.2,
                        "count": 1
                      },
                      {
                        "bin_start": 48943.2,
                        "bin_end": 73413.29999999999,
                        "count": 0
                      },
                      {
                        "bin_start": 73413.29999999999,
                        "bin_end": 97883.4,
                        "count": 0
                      },
                      {
                        "bin_start": 97883.4,
                        "bin_end": 122353.5,
                        "count": 0
                      },
                      {
                        "bin_start": 122353.5,
                        "bin_end": 146823.59999999998,
                        "count": 0
                      },
                      {
                        "bin_start": 146823.59999999998,
                        "bin_end": 171293.69999999998,
                        "count": 0
                      },
                      {
                        "bin_start": 171293.69999999998,
                        "bin_end": 195763.8,
                        "count": 0
                      },
                      {
                        "bin_start": 195763.8,
                        "bin_end": 220233.9,
                        "count": 0
                      },
                      {
                        "bin_start": 220233.9,
                        "bin_end": 244704,
                        "count": 1
                      }
                    ]
                  }
                },
                {
                  "name": "Electronic",
                  "dtype": "int64",
                  "stats": {
                    "unique_count": 37,
                    "nan_count": 0,
                    "min": "0",
                    "max": "1371",
                    "histogram": [
                      {
                        "bin_start": 0,
                        "bin_end": 137.1,
                        "count": 76
                      },
                      {
                        "bin_start": 137.1,
                        "bin_end": 274.2,
                        "count": 0
                      },
                      {
                        "bin_start": 274.2,
                        "bin_end": 411.29999999999995,
                        "count": 0
                      },
                      {
                        "bin_start": 411.29999999999995,
                        "bin_end": 548.4,
                        "count": 0
                      },
                      {
                        "bin_start": 548.4,
                        "bin_end": 685.5,
                        "count": 0
                      },
                      {
                        "bin_start": 685.5,
                        "bin_end": 822.5999999999999,
                        "count": 0
                      },
                      {
                        "bin_start": 822.5999999999999,
                        "bin_end": 959.6999999999999,
                        "count": 0
                      },
                      {
                        "bin_start": 959.6999999999999,
                        "bin_end": 1096.8,
                        "count": 0
                      },
                      {
                        "bin_start": 1096.8,
                        "bin_end": 1233.8999999999999,
                        "count": 0
                      },
                      {
                        "bin_start": 1233.8999999999999,
                        "bin_end": 1371,
                        "count": 1
                      }
                    ]
                  }
                },
                {
                  "name": "Entertainment",
                  "dtype": "int64",
                  "stats": {
                    "unique_count": 57,
                    "nan_count": 0,
                    "min": "0",
                    "max": "6496",
                    "histogram": [
                      {
                        "bin_start": 0,
                        "bin_end": 649.6,
                        "count": 74
                      },
                      {
                        "bin_start": 649.6,
                        "bin_end": 1299.2,
                        "count": 1
                      },
                      {
                        "bin_start": 1299.2,
                        "bin_end": 1948.8000000000002,
                        "count": 0
                      },
                      {
                        "bin_start": 1948.8000000000002,
                        "bin_end": 2598.4,
                        "count": 1
                      },
                      {
                        "bin_start": 2598.4,
                        "bin_end": 3248,
                        "count": 0
                      },
                      {
                        "bin_start": 3248,
                        "bin_end": 3897.6000000000004,
                        "count": 0
                      },
                      {
                        "bin_start": 3897.6000000000004,
                        "bin_end": 4547.2,
                        "count": 0
                      },
                      {
                        "bin_start": 4547.2,
                        "bin_end": 5196.8,
                        "count": 0
                      },
                      {
                        "bin_start": 5196.8,
                        "bin_end": 5846.400000000001,
                        "count": 0
                      },
                      {
                        "bin_start": 5846.400000000001,
                        "bin_end": 6496,
                        "count": 1
                      }
                    ]
                  }
                },
                {
                  "name": "Food",
                  "dtype": "int64",
                  "stats": {
                    "unique_count": 76,
                    "nan_count": 0,
                    "min": "0",
                    "max": "113429",
                    "histogram": [
                      {
                        "bin_start": 0,
                        "bin_end": 11342.9,
                        "count": 75
                      },
                      {
                        "bin_start": 11342.9,
                        "bin_end": 22685.8,
                        "count": 1
                      },
                      {
                        "bin_start": 22685.8,
                        "bin_end": 34028.7,
                        "count": 0
                      },
                      {
                        "bin_start": 34028.7,
                        "bin_end": 45371.6,
                        "count": 0
                      },
                      {
                        "bin_start": 45371.6,
                        "bin_end": 56714.5,
                        "count": 0
                      },
                      {
                        "bin_start": 56714.5,
                        "bin_end": 68057.4,
                        "count": 0
                      },
                      {
                        "bin_start": 68057.4,
                        "bin_end": 79400.3,
                        "count": 0
                      },
                      {
                        "bin_start": 79400.3,
                        "bin_end": 90743.2,
                        "count": 0
                      },
                      {
                        "bin_start": 90743.2,
                        "bin_end": 102086.09999999999,
                        "count": 0
                      },
                      {
                        "bin_start": 102086.09999999999,
                        "bin_end": 113429,
                        "count": 1
                      }
                    ]
                  }
                },
                {
                  "name": "Liquor",
                  "dtype": "int64",
                  "stats": {
                    "unique_count": 33,
                    "nan_count": 0,
                    "min": "0",
                    "max": "2488",
                    "histogram": [
                      {
                        "bin_start": 0,
                        "bin_end": 248.8,
                        "count": 72
                      },
                      {
                        "bin_start": 248.8,
                        "bin_end": 497.6,
                        "count": 3
                      },
                      {
                        "bin_start": 497.6,
                        "bin_end": 746.4000000000001,
                        "count": 0
                      },
                      {
                        "bin_start": 746.4000000000001,
                        "bin_end": 995.2,
                        "count": 1
                      },
                      {
                        "bin_start": 995.2,
                        "bin_end": 1244,
                        "count": 0
                      },
                      {
                        "bin_start": 1244,
                        "bin_end": 1492.8000000000002,
                        "count": 0
                      },
                      {
                        "bin_start": 1492.8000000000002,
                        "bin_end": 1741.6000000000001,
                        "count": 0
                      },
                      {
                        "bin_start": 1741.6000000000001,
                        "bin_end": 1990.4,
                        "count": 0
                      },
                      {
                        "bin_start": 1990.4,
                        "bin_end": 2239.2000000000003,
                        "count": 0
                      },
                      {
                        "bin_start": 2239.2000000000003,
                        "bin_end": 2488,
                        "count": 1
                      }
                    ]
                  }
                },
                {
                  "name": "Medical",
                  "dtype": "int64",
                  "stats": {
                    "unique_count": 8,
                    "nan_count": 0,
                    "min": "0",
                    "max": "196",
                    "histogram": [
                      {
                        "bin_start": 0,
                        "bin_end": 19.6,
                        "count": 75
                      },
                      {
                        "bin_start": 19.6,
                        "bin_end": 39.2,
                        "count": 1
                      },
                      {
                        "bin_start": 39.2,
                        "bin_end": 58.800000000000004,
                        "count": 0
                      },
                      {
                        "bin_start": 58.800000000000004,
                        "bin_end": 78.4,
                        "count": 0
                      },
                      {
                        "bin_start": 78.4,
                        "bin_end": 98,
                        "count": 0
                      },
                      {
                        "bin_start": 98,
                        "bin_end": 117.60000000000001,
                        "count": 0
                      },
                      {
                        "bin_start": 117.60000000000001,
                        "bin_end": 137.20000000000002,
                        "count": 0
                      },
                      {
                        "bin_start": 137.20000000000002,
                        "bin_end": 156.8,
                        "count": 0
                      },
                      {
                        "bin_start": 156.8,
                        "bin_end": 176.4,
                        "count": 0
                      },
                      {
                        "bin_start": 176.4,
                        "bin_end": 196,
                        "count": 1
                      }
                    ]
                  }
                },
                {
                  "name": "Other",
                  "dtype": "int64",
                  "stats": {
                    "unique_count": 36,
                    "nan_count": 0,
                    "min": "0",
                    "max": "1249",
                    "histogram": [
                      {
                        "bin_start": 0,
                        "bin_end": 124.9,
                        "count": 75
                      },
                      {
                        "bin_start": 124.9,
                        "bin_end": 249.8,
                        "count": 1
                      },
                      {
                        "bin_start": 249.8,
                        "bin_end": 374.70000000000005,
                        "count": 0
                      },
                      {
                        "bin_start": 374.70000000000005,
                        "bin_end": 499.6,
                        "count": 0
                      },
                      {
                        "bin_start": 499.6,
                        "bin_end": 624.5,
                        "count": 0
                      },
                      {
                        "bin_start": 624.5,
                        "bin_end": 749.4000000000001,
                        "count": 0
                      },
                      {
                        "bin_start": 749.4000000000001,
                        "bin_end": 874.3000000000001,
                        "count": 0
                      },
                      {
                        "bin_start": 874.3000000000001,
                        "bin_end": 999.2,
                        "count": 0
                      },
                      {
                        "bin_start": 999.2,
                        "bin_end": 1124.1000000000001,
                        "count": 0
                      },
                      {
                        "bin_start": 1124.1000000000001,
                        "bin_end": 1249,
                        "count": 1
                      }
                    ]
                  }
                },
                {
                  "name": "Permits",
                  "dtype": "int64",
                  "stats": {
                    "unique_count": 60,
                    "nan_count": 0,
                    "min": "0",
                    "max": "6458",
                    "histogram": [
                      {
                        "bin_start": 0,
                        "bin_end": 645.8,
                        "count": 76
                      },
                      {
                        "bin_start": 645.8,
                        "bin_end": 1291.6,
                        "count": 0
                      },
                      {
                        "bin_start": 1291.6,
                        "bin_end": 1937.3999999999999,
                        "count": 0
                      },
                      {
                        "bin_start": 1937.3999999999999,
                        "bin_end": 2583.2,
                        "count": 0
                      },
                      {
                        "bin_start": 2583.2,
                        "bin_end": 3229,
                        "count": 0
                      },
                      {
                        "bin_start": 3229,
                        "bin_end": 3874.7999999999997,
                        "count": 0
                      },
                      {
                        "bin_start": 3874.7999999999997,
                        "bin_end": 4520.599999999999,
                        "count": 0
                      },
                      {
                        "bin_start": 4520.599999999999,
                        "bin_end": 5166.4,
                        "count": 0
                      },
                      {
                        "bin_start": 5166.4,
                        "bin_end": 5812.2,
                        "count": 0
                      },
                      {
                        "bin_start": 5812.2,
                        "bin_end": 6458,
                        "count": 1
                      }
                    ]
                  }
                },
                {
                  "name": "Personal Services",
                  "dtype": "int64",
                  "stats": {
                    "unique_count": 55,
                    "nan_count": 0,
                    "min": "0",
                    "max": "3385",
                    "histogram": [
                      {
                        "bin_start": 0,
                        "bin_end": 338.5,
                        "count": 74
                      },
                      {
                        "bin_start": 338.5,
                        "bin_end": 677,
                        "count": 1
                      },
                      {
                        "bin_start": 677,
                        "bin_end": 1015.5,
                        "count": 1
                      },
                      {
                        "bin_start": 1015.5,
                        "bin_end": 1354,
                        "count": 0
                      },
                      {
                        "bin_start": 1354,
                        "bin_end": 1692.5,
                        "count": 0
                      },
                      {
                        "bin_start": 1692.5,
                        "bin_end": 2031,
                        "count": 0
                      },
                      {
                        "bin_start": 2031,
                        "bin_end": 2369.5,
                        "count": 0
                      },
                      {
                        "bin_start": 2369.5,
                        "bin_end": 2708,
                        "count": 0
                      },
                      {
                        "bin_start": 2708,
                        "bin_end": 3046.5,
                        "count": 0
                      },
                      {
                        "bin_start": 3046.5,
                        "bin_end": 3385,
                        "count": 1
                      }
                    ]
                  }
                },
                {
                  "name": "Retail",
                  "dtype": "int64",
                  "stats": {
                    "unique_count": 64,
                    "nan_count": 0,
                    "min": "0",
                    "max": "14448",
                    "histogram": [
                      {
                        "bin_start": 0,
                        "bin_end": 1444.8,
                        "count": 75
                      },
                      {
                        "bin_start": 1444.8,
                        "bin_end": 2889.6,
                        "count": 1
                      },
                      {
                        "bin_start": 2889.6,
                        "bin_end": 4334.4,
                        "count": 0
                      },
                      {
                        "bin_start": 4334.4,
                        "bin_end": 5779.2,
                        "count": 0
                      },
                      {
                        "bin_start": 5779.2,
                        "bin_end": 7224,
                        "count": 0
                      },
                      {
                        "bin_start": 7224,
                        "bin_end": 8668.8,
                        "count": 0
                      },
                      {
                        "bin_start": 8668.8,
                        "bin_end": 10113.6,
                        "count": 0
                      },
                      {
                        "bin_start": 10113.6,
                        "bin_end": 11558.4,
                        "count": 0
                      },
                      {
                        "bin_start": 11558.4,
                        "bin_end": 13003.199999999999,
                        "count": 0
                      },
                      {
                        "bin_start": 13003.199999999999,
                        "bin_end": 14448,
                        "count": 1
                      }
                    ]
                  }
                },
                {
                  "name": "Special",
                  "dtype": "int64",
                  "stats": {
                    "unique_count": 75,
                    "nan_count": 0,
                    "min": "10",
                    "max": "58958",
                    "histogram": [
                      {
                        "bin_start": 10,
                        "bin_end": 5904.8,
                        "count": 75
                      },
                      {
                        "bin_start": 5904.8,
                        "bin_end": 11799.6,
                        "count": 0
                      },
                      {
                        "bin_start": 11799.6,
                        "bin_end": 17694.4,
                        "count": 1
                      },
                      {
                        "bin_start": 17694.4,
                        "bin_end": 23589.2,
                        "count": 0
                      },
                      {
                        "bin_start": 23589.2,
                        "bin_end": 29484,
                        "count": 0
                      },
                      {
                        "bin_start": 29484,
                        "bin_end": 35378.8,
                        "count": 0
                      },
                      {
                        "bin_start": 35378.8,
                        "bin_end": 41273.6,
                        "count": 0
                      },
                      {
                        "bin_start": 41273.6,
                        "bin_end": 47168.4,
                        "count": 0
                      },
                      {
                        "bin_start": 47168.4,
                        "bin_end": 53063.200000000004,
                        "count": 0
                      },
                      {
                        "bin_start": 53063.200000000004,
                        "bin_end": 58958,
                        "count": 1
                      }
                    ]
                  }
                },
                {
                  "name": "Tabacco",
                  "dtype": "int64",
                  "stats": {
                    "unique_count": 68,
                    "nan_count": 0,
                    "min": "0",
                    "max": "28508",
                    "histogram": [
                      {
                        "bin_start": 0,
                        "bin_end": 2850.8,
                        "count": 76
                      },
                      {
                        "bin_start": 2850.8,
                        "bin_end": 5701.6,
                        "count": 0
                      },
                      {
                        "bin_start": 5701.6,
                        "bin_end": 8552.400000000001,
                        "count": 0
                      },
                      {
                        "bin_start": 8552.400000000001,
                        "bin_end": 11403.2,
                        "count": 0
                      },
                      {
                        "bin_start": 11403.2,
                        "bin_end": 14254,
                        "count": 0
                      },
                      {
                        "bin_start": 14254,
                        "bin_end": 17104.800000000003,
                        "count": 0
                      },
                      {
                        "bin_start": 17104.800000000003,
                        "bin_end": 19955.600000000002,
                        "count": 0
                      },
                      {
                        "bin_start": 19955.600000000002,
                        "bin_end": 22806.4,
                        "count": 0
                      },
                      {
                        "bin_start": 22806.4,
                        "bin_end": 25657.2,
                        "count": 0
                      },
                      {
                        "bin_start": 25657.2,
                        "bin_end": 28508,
                        "count": 1
                      }
                    ]
                  }
                },
                {
                  "name": "Vehicles",
                  "dtype": "int64",
                  "stats": {
                    "unique_count": 68,
                    "nan_count": 0,
                    "min": "0",
                    "max": "21557",
                    "histogram": [
                      {
                        "bin_start": 0,
                        "bin_end": 2155.7,
                        "count": 76
                      },
                      {
                        "bin_start": 2155.7,
                        "bin_end": 4311.4,
                        "count": 0
                      },
                      {
                        "bin_start": 4311.4,
                        "bin_end": 6467.099999999999,
                        "count": 0
                      },
                      {
                        "bin_start": 6467.099999999999,
                        "bin_end": 8622.8,
                        "count": 0
                      },
                      {
                        "bin_start": 8622.8,
                        "bin_end": 10778.5,
                        "count": 0
                      },
                      {
                        "bin_start": 10778.5,
                        "bin_end": 12934.199999999999,
                        "count": 0
                      },
                      {
                        "bin_start": 12934.199999999999,
                        "bin_end": 15089.899999999998,
                        "count": 0
                      },
                      {
                        "bin_start": 15089.899999999998,
                        "bin_end": 17245.6,
                        "count": 0
                      },
                      {
                        "bin_start": 17245.6,
                        "bin_end": 19401.3,
                        "count": 0
                      },
                      {
                        "bin_start": 19401.3,
                        "bin_end": 21557,
                        "count": 1
                      }
                    ]
                  }
                },
                {
                  "name": "_deepnote_index_column",
                  "dtype": "object"
                }
              ],
              "rows": [
                {
                  "Accommodation": 0,
                  "Business": 2422,
                  "Electronic": 9,
                  "Entertainment": 49,
                  "Food": 1110,
                  "Liquor": 1,
                  "Medical": 0,
                  "Other": 0,
                  "Permits": 74,
                  "Personal Services": 83,
                  "Retail": 191,
                  "Special": 1094,
                  "Tabacco": 302,
                  "Vehicles": 218,
                  "_deepnote_index_column": "['ALBANY PARK']"
                },
                {
                  "Accommodation": 9,
                  "Business": 939,
                  "Electronic": 10,
                  "Entertainment": 70,
                  "Food": 827,
                  "Liquor": 0,
                  "Medical": 0,
                  "Other": 14,
                  "Permits": 8,
                  "Personal Services": 12,
                  "Retail": 84,
                  "Special": 330,
                  "Tabacco": 138,
                  "Vehicles": 229,
                  "_deepnote_index_column": "['ARCHER HEIGHTS']"
                },
                {
                  "Accommodation": 0,
                  "Business": 81,
                  "Electronic": 0,
                  "Entertainment": 5,
                  "Food": 98,
                  "Liquor": 14,
                  "Medical": 0,
                  "Other": 0,
                  "Permits": 0,
                  "Personal Services": 0,
                  "Retail": 36,
                  "Special": 40,
                  "Tabacco": 11,
                  "Vehicles": 0,
                  "_deepnote_index_column": "['ARMOUR SQUARE']"
                },
                {
                  "Accommodation": 8,
                  "Business": 1924,
                  "Electronic": 24,
                  "Entertainment": 44,
                  "Food": 840,
                  "Liquor": 2,
                  "Medical": 0,
                  "Other": 20,
                  "Permits": 52,
                  "Personal Services": 30,
                  "Retail": 119,
                  "Special": 1008,
                  "Tabacco": 217,
                  "Vehicles": 290,
                  "_deepnote_index_column": "['ASHBURN']"
                },
                {
                  "Accommodation": 8,
                  "Business": 2853,
                  "Electronic": 13,
                  "Entertainment": 57,
                  "Food": 1201,
                  "Liquor": 0,
                  "Medical": 0,
                  "Other": 7,
                  "Permits": 215,
                  "Personal Services": 32,
                  "Retail": 127,
                  "Special": 1344,
                  "Tabacco": 485,
                  "Vehicles": 385,
                  "_deepnote_index_column": "['AUBURN GRESHAM']"
                },
                {
                  "Accommodation": 0,
                  "Business": 2486,
                  "Electronic": 23,
                  "Entertainment": 42,
                  "Food": 924,
                  "Liquor": 3,
                  "Medical": 0,
                  "Other": 8,
                  "Permits": 164,
                  "Personal Services": 27,
                  "Retail": 126,
                  "Special": 1735,
                  "Tabacco": 327,
                  "Vehicles": 200,
                  "_deepnote_index_column": "['AUSTIN']"
                },
                {
                  "Accommodation": 0,
                  "Business": 280,
                  "Electronic": 0,
                  "Entertainment": 20,
                  "Food": 67,
                  "Liquor": 0,
                  "Medical": 0,
                  "Other": 0,
                  "Permits": 0,
                  "Personal Services": 14,
                  "Retail": 0,
                  "Special": 307,
                  "Tabacco": 25,
                  "Vehicles": 34,
                  "_deepnote_index_column": "['AVALON PARK']"
                },
                {
                  "Accommodation": 12,
                  "Business": 3597,
                  "Electronic": 30,
                  "Entertainment": 133,
                  "Food": 1874,
                  "Liquor": 16,
                  "Medical": 0,
                  "Other": 41,
                  "Permits": 46,
                  "Personal Services": 105,
                  "Retail": 281,
                  "Special": 1450,
                  "Tabacco": 550,
                  "Vehicles": 448,
                  "_deepnote_index_column": "['AVONDALE']"
                },
                {
                  "Accommodation": 0,
                  "Business": 2519,
                  "Electronic": 14,
                  "Entertainment": 63,
                  "Food": 1620,
                  "Liquor": 5,
                  "Medical": 0,
                  "Other": 4,
                  "Permits": 50,
                  "Personal Services": 76,
                  "Retail": 151,
                  "Special": 1753,
                  "Tabacco": 290,
                  "Vehicles": 509,
                  "_deepnote_index_column": "['BELMONT CRAGIN']"
                },
                {
                  "Accommodation": 0,
                  "Business": 393,
                  "Electronic": 5,
                  "Entertainment": 22,
                  "Food": 96,
                  "Liquor": 0,
                  "Medical": 0,
                  "Other": 0,
                  "Permits": 15,
                  "Personal Services": 19,
                  "Retail": 0,
                  "Special": 593,
                  "Tabacco": 0,
                  "Vehicles": 6,
                  "_deepnote_index_column": "['BEVERLY']"
                }
              ]
            },
            "text/plain": "LICENSE_GROUP       Accommodation  Business  Electronic  Entertainment  \\\nCom_Name                                                                 \n['ALBANY PARK']                 0      2422           9             49   \n['ARCHER HEIGHTS']              9       939          10             70   \n['ARMOUR SQUARE']               0        81           0              5   \n['ASHBURN']                     8      1924          24             44   \n['AUBURN GRESHAM']              8      2853          13             57   \n...                           ...       ...         ...            ...   \n['WEST PULLMAN']                0       317           0             12   \n['WEST RIDGE']                 12      6998          44            104   \n['WEST TOWN']                  45     15120          64            811   \n['WOODLAWN']                    0       244           0             18   \n[]                            800    244704        1371           6496   \n\nLICENSE_GROUP         Food  Liquor  Medical  Other  Permits  \\\nCom_Name                                                      \n['ALBANY PARK']       1110       1        0      0       74   \n['ARCHER HEIGHTS']     827       0        0     14        8   \n['ARMOUR SQUARE']       98      14        0      0        0   \n['ASHBURN']            840       2        0     20       52   \n['AUBURN GRESHAM']    1201       0        0      7      215   \n...                    ...     ...      ...    ...      ...   \n['WEST PULLMAN']       155       0        0      8       28   \n['WEST RIDGE']        3353       7        0     38      203   \n['WEST TOWN']         8280     307       18    102      248   \n['WOODLAWN']           174      18        8      0       37   \n[]                  113429    2488      196   1249     6458   \n\nLICENSE_GROUP       Personal Services  Retail  Special  Tabacco  Vehicles  \nCom_Name                                                                   \n['ALBANY PARK']                    83     191     1094      302       218  \n['ARCHER HEIGHTS']                 12      84      330      138       229  \n['ARMOUR SQUARE']                   0      36       40       11         0  \n['ASHBURN']                        30     119     1008      217       290  \n['AUBURN GRESHAM']                 32     127     1344      485       385  \n...                               ...     ...      ...      ...       ...  \n['WEST PULLMAN']                    6      32      461       89        64  \n['WEST RIDGE']                    150     405     1747      922       579  \n['WEST TOWN']                     594    1323     5497     1763       826  \n['WOODLAWN']                        4       9      196       26        12  \n[]                               3385   14448    58958    28508     21557  \n\n[77 rows x 14 columns]",
            "text/html": "<div>\n<style scoped>\n    .dataframe tbody tr th:only-of-type {\n        vertical-align: middle;\n    }\n\n    .dataframe tbody tr th {\n        vertical-align: top;\n    }\n\n    .dataframe thead th {\n        text-align: right;\n    }\n</style>\n<table border=\"1\" class=\"dataframe\">\n  <thead>\n    <tr style=\"text-align: right;\">\n      <th>LICENSE_GROUP</th>\n      <th>Accommodation</th>\n      <th>Business</th>\n      <th>Electronic</th>\n      <th>Entertainment</th>\n      <th>Food</th>\n      <th>Liquor</th>\n      <th>Medical</th>\n      <th>Other</th>\n      <th>Permits</th>\n      <th>Personal Services</th>\n      <th>Retail</th>\n      <th>Special</th>\n      <th>Tabacco</th>\n      <th>Vehicles</th>\n    </tr>\n    <tr>\n      <th>Com_Name</th>\n      <th></th>\n      <th></th>\n      <th></th>\n      <th></th>\n      <th></th>\n      <th></th>\n      <th></th>\n      <th></th>\n      <th></th>\n      <th></th>\n      <th></th>\n      <th></th>\n      <th></th>\n      <th></th>\n    </tr>\n  </thead>\n  <tbody>\n    <tr>\n      <th>['ALBANY PARK']</th>\n      <td>0</td>\n      <td>2422</td>\n      <td>9</td>\n      <td>49</td>\n      <td>1110</td>\n      <td>1</td>\n      <td>0</td>\n      <td>0</td>\n      <td>74</td>\n      <td>83</td>\n      <td>191</td>\n      <td>1094</td>\n      <td>302</td>\n      <td>218</td>\n    </tr>\n    <tr>\n      <th>['ARCHER HEIGHTS']</th>\n      <td>9</td>\n      <td>939</td>\n      <td>10</td>\n      <td>70</td>\n      <td>827</td>\n      <td>0</td>\n      <td>0</td>\n      <td>14</td>\n      <td>8</td>\n      <td>12</td>\n      <td>84</td>\n      <td>330</td>\n      <td>138</td>\n      <td>229</td>\n    </tr>\n    <tr>\n      <th>['ARMOUR SQUARE']</th>\n      <td>0</td>\n      <td>81</td>\n      <td>0</td>\n      <td>5</td>\n      <td>98</td>\n      <td>14</td>\n      <td>0</td>\n      <td>0</td>\n      <td>0</td>\n      <td>0</td>\n      <td>36</td>\n      <td>40</td>\n      <td>11</td>\n      <td>0</td>\n    </tr>\n    <tr>\n      <th>['ASHBURN']</th>\n      <td>8</td>\n      <td>1924</td>\n      <td>24</td>\n      <td>44</td>\n      <td>840</td>\n      <td>2</td>\n      <td>0</td>\n      <td>20</td>\n      <td>52</td>\n      <td>30</td>\n      <td>119</td>\n      <td>1008</td>\n      <td>217</td>\n      <td>290</td>\n    </tr>\n    <tr>\n      <th>['AUBURN GRESHAM']</th>\n      <td>8</td>\n      <td>2853</td>\n      <td>13</td>\n      <td>57</td>\n      <td>1201</td>\n      <td>0</td>\n      <td>0</td>\n      <td>7</td>\n      <td>215</td>\n      <td>32</td>\n      <td>127</td>\n      <td>1344</td>\n      <td>485</td>\n      <td>385</td>\n    </tr>\n    <tr>\n      <th>...</th>\n      <td>...</td>\n      <td>...</td>\n      <td>...</td>\n      <td>...</td>\n      <td>...</td>\n      <td>...</td>\n      <td>...</td>\n      <td>...</td>\n      <td>...</td>\n      <td>...</td>\n      <td>...</td>\n      <td>...</td>\n      <td>...</td>\n      <td>...</td>\n    </tr>\n    <tr>\n      <th>['WEST PULLMAN']</th>\n      <td>0</td>\n      <td>317</td>\n      <td>0</td>\n      <td>12</td>\n      <td>155</td>\n      <td>0</td>\n      <td>0</td>\n      <td>8</td>\n      <td>28</td>\n      <td>6</td>\n      <td>32</td>\n      <td>461</td>\n      <td>89</td>\n      <td>64</td>\n    </tr>\n    <tr>\n      <th>['WEST RIDGE']</th>\n      <td>12</td>\n      <td>6998</td>\n      <td>44</td>\n      <td>104</td>\n      <td>3353</td>\n      <td>7</td>\n      <td>0</td>\n      <td>38</td>\n      <td>203</td>\n      <td>150</td>\n      <td>405</td>\n      <td>1747</td>\n      <td>922</td>\n      <td>579</td>\n    </tr>\n    <tr>\n      <th>['WEST TOWN']</th>\n      <td>45</td>\n      <td>15120</td>\n      <td>64</td>\n      <td>811</td>\n      <td>8280</td>\n      <td>307</td>\n      <td>18</td>\n      <td>102</td>\n      <td>248</td>\n      <td>594</td>\n      <td>1323</td>\n      <td>5497</td>\n      <td>1763</td>\n      <td>826</td>\n    </tr>\n    <tr>\n      <th>['WOODLAWN']</th>\n      <td>0</td>\n      <td>244</td>\n      <td>0</td>\n      <td>18</td>\n      <td>174</td>\n      <td>18</td>\n      <td>8</td>\n      <td>0</td>\n      <td>37</td>\n      <td>4</td>\n      <td>9</td>\n      <td>196</td>\n      <td>26</td>\n      <td>12</td>\n    </tr>\n    <tr>\n      <th>[]</th>\n      <td>800</td>\n      <td>244704</td>\n      <td>1371</td>\n      <td>6496</td>\n      <td>113429</td>\n      <td>2488</td>\n      <td>196</td>\n      <td>1249</td>\n      <td>6458</td>\n      <td>3385</td>\n      <td>14448</td>\n      <td>58958</td>\n      <td>28508</td>\n      <td>21557</td>\n    </tr>\n  </tbody>\n</table>\n<p>77 rows × 14 columns</p>\n</div>"
          },
          "metadata": {}
        }
      ],
      "outputs_reference": null,
      "execution_count": null,
      "block_group": "e3a5fcf1219046ab93dcb4c1c6b97420",
      "content_dependencies": null
    },
    {
      "cell_type": "code",
      "source": "crossTab_percent_df.to_csv(\"Community_cross_percent.csv\")\ncrossTab_df.to_csv(\"Community_cross.csv\")",
      "metadata": {
        "source_hash": null,
        "execution_start": 1712281471509,
        "execution_millis": 250,
        "deepnote_to_be_reexecuted": false,
        "deepnote_app_block_visible": true,
        "cell_id": "c9c7a93d5d1e46a78f46be79e042b732",
        "deepnote_cell_type": "code"
      },
      "outputs": [],
      "outputs_reference": null,
      "execution_count": null,
      "block_group": "2b4d9c176183415ca05bf814cb55630d",
      "content_dependencies": null
    },
    {
      "cell_type": "markdown",
      "source": "<a style='text-decoration:none;line-height:16px;display:flex;color:#5B5B62;padding:10px;justify-content:end;' href='https://deepnote.com?utm_source=created-in-deepnote-cell&projectId=41bd1eeb-8ade-41a5-ae81-cf4a88f38197' target=\"_blank\">\n<img alt='Created in deepnote.com' style='display:inline;max-height:16px;margin:0px;margin-right:7.5px;' src='data:image/svg+xml;base64,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' > </img>\nCreated in <span style='font-weight:600;margin-left:4px;'>Deepnote</span></a>",
      "metadata": {
        "created_in_deepnote_cell": true,
        "deepnote_cell_type": "markdown"
      }
    }
  ],
  "nbformat": 4,
  "nbformat_minor": 0,
  "metadata": {
    "deepnote_app_layout": "powerful-article",
    "deepnote_app_reactivity_enabled": true,
    "deepnote_notebook_id": "f68a66ce03d34019bfb2f95cddf2e4f0",
    "deepnote_execution_queue": []
  }
}